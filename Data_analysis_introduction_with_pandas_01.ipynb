{
  "nbformat": 4,
  "nbformat_minor": 0,
  "metadata": {
    "colab": {
      "name": "Data_analysis_introduction_with_pandas_01.ipynb",
      "provenance": [],
      "authorship_tag": "ABX9TyN58xyIE3A89tIPUbIk8v1u",
      "include_colab_link": true
    },
    "kernelspec": {
      "name": "python3",
      "display_name": "Python 3"
    },
    "language_info": {
      "name": "python"
    }
  },
  "cells": [
    {
      "cell_type": "markdown",
      "metadata": {
        "id": "view-in-github",
        "colab_type": "text"
      },
      "source": [
        "<a href=\"https://colab.research.google.com/github/yoonyoung27/public_big_data_analysis/blob/main/Data_analysis_introduction_with_pandas_01.ipynb\" target=\"_parent\"><img src=\"https://colab.research.google.com/assets/colab-badge.svg\" alt=\"Open In Colab\"/></a>"
      ]
    },
    {
      "cell_type": "markdown",
      "metadata": {
        "id": "DIeRPKz-PVaW"
      },
      "source": [
        "1. 데이터 사인언스 관련 직군\n",
        "2. A/B 테스트\n",
        "2. 프로그래밍의 개념\n",
        "4. Python\n",
        "5. 라이브러리란?\n",
        "6. 변수(Variable)\n",
        "7. Python 기본 자료형\n",
        "8. Python 기본 연산자\n",
        "9. 자료구조 - list\n",
        "10. for반복문"
      ]
    },
    {
      "cell_type": "code",
      "metadata": {
        "id": "8wFjyHIawbyi"
      },
      "source": [
        ""
      ],
      "execution_count": null,
      "outputs": []
    }
  ]
}