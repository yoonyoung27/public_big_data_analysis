{
  "nbformat": 4,
  "nbformat_minor": 0,
  "metadata": {
    "colab": {
      "name": "Pandas_01.ipynb",
      "provenance": [],
      "authorship_tag": "ABX9TyMIYzBRq9Y1V0GNHKXukbH0",
      "include_colab_link": true
    },
    "kernelspec": {
      "name": "python3",
      "display_name": "Python 3"
    },
    "language_info": {
      "name": "python"
    }
  },
  "cells": [
    {
      "cell_type": "markdown",
      "metadata": {
        "id": "view-in-github",
        "colab_type": "text"
      },
      "source": [
        "<a href=\"https://colab.research.google.com/github/yoonyoung27/public_big_data_analysis/blob/main/Pandas_01.ipynb\" target=\"_parent\"><img src=\"https://colab.research.google.com/assets/colab-badge.svg\" alt=\"Open In Colab\"/></a>"
      ]
    },
    {
      "cell_type": "markdown",
      "metadata": {
        "id": "DIeRPKz-PVaW"
      },
      "source": [
        "1. 데이터 사인언스 관련 직군\n",
        "2. A/B 테스트\n",
        "2. 프로그래밍의 개념\n",
        "4. Python\n",
        "5. 라이브러리란?\n",
        "6. 변수(Variable)\n",
        "7. Python 기본 자료형\n",
        "8. Python 기본 연산자\n",
        "9. 자료구조 - list\n",
        "10. for반복문"
      ]
    },
    {
      "cell_type": "markdown",
      "metadata": {
        "id": "9XzYG1F0k4BZ"
      },
      "source": [
        "https://gist.github.com/solaris33/f0b31e7bb019600101ed95cbb85648a3"
      ]
    }
  ]
}