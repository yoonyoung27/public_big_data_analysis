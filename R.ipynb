{
  "nbformat": 4,
  "nbformat_minor": 0,
  "metadata": {
    "colab": {
      "name": "R.ipynb",
      "provenance": [],
      "authorship_tag": "ABX9TyMbuMmYJR+GBxphHIowMvL3",
      "include_colab_link": true
    },
    "kernelspec": {
      "name": "ir",
      "display_name": "R"
    },
    "language_info": {
      "name": "R"
    }
  },
  "cells": [
    {
      "cell_type": "markdown",
      "metadata": {
        "id": "view-in-github",
        "colab_type": "text"
      },
      "source": [
        "<a href=\"https://colab.research.google.com/github/yoonyoung27/public_big_data_analysis/blob/main/R.ipynb\" target=\"_parent\"><img src=\"https://colab.research.google.com/assets/colab-badge.svg\" alt=\"Open In Colab\"/></a>"
      ]
    },
    {
      "cell_type": "markdown",
      "metadata": {
        "id": "SUWxsjXSXynC"
      },
      "source": [
        "https://colab.research.google.com/notebook#create=true&language=r"
      ]
    },
    {
      "cell_type": "markdown",
      "metadata": {
        "id": "AXfTJT8U19gJ"
      },
      "source": [
        "#ch02(연산자)"
      ]
    },
    {
      "cell_type": "code",
      "metadata": {
        "colab": {
          "base_uri": "https://localhost:8080/",
          "height": 34
        },
        "id": "QE1QJ07-1yY4",
        "outputId": "db1bbd9e-e101-42c1-a2d1-3d4caaf5b5c0"
      },
      "source": [
        "500 + 300"
      ],
      "execution_count": null,
      "outputs": [
        {
          "output_type": "display_data",
          "data": {
            "text/plain": [
              "[1] 800"
            ],
            "text/latex": "800",
            "text/markdown": "800",
            "text/html": [
              "800"
            ]
          },
          "metadata": {
            "tags": []
          }
        }
      ]
    },
    {
      "cell_type": "code",
      "metadata": {
        "colab": {
          "base_uri": "https://localhost:8080/",
          "height": 34
        },
        "id": "XLT63upX2iwB",
        "outputId": "2adb4182-952e-45cc-9784-1727e5cfb5a8"
      },
      "source": [
        "100^2 + 300"
      ],
      "execution_count": null,
      "outputs": [
        {
          "output_type": "display_data",
          "data": {
            "text/plain": [
              "[1] 10300"
            ],
            "text/latex": "10300",
            "text/markdown": "10300",
            "text/html": [
              "10300"
            ]
          },
          "metadata": {
            "tags": []
          }
        }
      ]
    },
    {
      "cell_type": "code",
      "metadata": {
        "colab": {
          "base_uri": "https://localhost:8080/",
          "height": 34
        },
        "id": "6kXMFVOl-wf3",
        "outputId": "f1a5d750-abd4-4573-cd36-46a9fa35f13a"
      },
      "source": [
        "50 %% 15"
      ],
      "execution_count": 1,
      "outputs": [
        {
          "output_type": "display_data",
          "data": {
            "text/plain": [
              "[1] 5"
            ],
            "text/latex": "5",
            "text/markdown": "5",
            "text/html": [
              "5"
            ]
          },
          "metadata": {
            "tags": []
          }
        }
      ]
    },
    {
      "cell_type": "code",
      "metadata": {
        "id": "1TSGYbCM2ofZ"
      },
      "source": [
        "age <- 25\n",
        "irum <- '지윤영'"
      ],
      "execution_count": 3,
      "outputs": []
    },
    {
      "cell_type": "code",
      "metadata": {
        "colab": {
          "base_uri": "https://localhost:8080/",
          "height": 34
        },
        "id": "IpMfoLOr3n4A",
        "outputId": "7ef3a7fd-a810-4938-8fc9-864d05cbe3a4"
      },
      "source": [
        "age"
      ],
      "execution_count": 4,
      "outputs": [
        {
          "output_type": "display_data",
          "data": {
            "text/plain": [
              "[1] 25"
            ],
            "text/latex": "25",
            "text/markdown": "25",
            "text/html": [
              "25"
            ]
          },
          "metadata": {
            "tags": []
          }
        }
      ]
    },
    {
      "cell_type": "code",
      "metadata": {
        "colab": {
          "base_uri": "https://localhost:8080/",
          "height": 34
        },
        "id": "-Q1re48w3pgk",
        "outputId": "10990c64-4502-4935-cedd-411f7dd5889e"
      },
      "source": [
        "irum"
      ],
      "execution_count": null,
      "outputs": [
        {
          "output_type": "display_data",
          "data": {
            "text/plain": [
              "[1] \"지윤영\""
            ],
            "text/latex": "'지윤영'",
            "text/markdown": "'지윤영'",
            "text/html": [
              "'지윤영'"
            ]
          },
          "metadata": {
            "tags": []
          }
        }
      ]
    },
    {
      "cell_type": "code",
      "metadata": {
        "id": "cWlkr8sT_RUK"
      },
      "source": [
        "age2 <- 26\n",
        "irum <- '류건욱'"
      ],
      "execution_count": 11,
      "outputs": []
    },
    {
      "cell_type": "code",
      "metadata": {
        "colab": {
          "base_uri": "https://localhost:8080/",
          "height": 34
        },
        "id": "TieaMyF6_aZC",
        "outputId": "1021bd18-8c8d-49b0-c1c9-9ffc7afab786"
      },
      "source": [
        "age2"
      ],
      "execution_count": 12,
      "outputs": [
        {
          "output_type": "display_data",
          "data": {
            "text/plain": [
              "[1] 26"
            ],
            "text/latex": "26",
            "text/markdown": "26",
            "text/html": [
              "26"
            ]
          },
          "metadata": {
            "tags": []
          }
        }
      ]
    },
    {
      "cell_type": "code",
      "metadata": {
        "colab": {
          "base_uri": "https://localhost:8080/",
          "height": 34
        },
        "id": "sJiZPmsO_cGD",
        "outputId": "e11f2e28-7585-448d-baa7-e2609cd33eec"
      },
      "source": [
        "irum"
      ],
      "execution_count": 8,
      "outputs": [
        {
          "output_type": "display_data",
          "data": {
            "text/plain": [
              "[1] \"류건욱\""
            ],
            "text/latex": "'류건욱'",
            "text/markdown": "'류건욱'",
            "text/html": [
              "'류건욱'"
            ]
          },
          "metadata": {
            "tags": []
          }
        }
      ]
    },
    {
      "cell_type": "code",
      "metadata": {
        "colab": {
          "base_uri": "https://localhost:8080/",
          "height": 34
        },
        "id": "OR_qbm9P_vw1",
        "outputId": "bf010ec5-a4cf-4521-b25b-3e8e13815133"
      },
      "source": [
        "age + age2"
      ],
      "execution_count": 14,
      "outputs": [
        {
          "output_type": "display_data",
          "data": {
            "text/plain": [
              "[1] 52"
            ],
            "text/latex": "52",
            "text/markdown": "52",
            "text/html": [
              "52"
            ]
          },
          "metadata": {
            "tags": []
          }
        }
      ]
    },
    {
      "cell_type": "markdown",
      "metadata": {
        "id": "DVEs_t22bBz8"
      },
      "source": [
        "#ch03(함수)"
      ]
    },
    {
      "cell_type": "code",
      "metadata": {
        "id": "czgOntdVu5bi"
      },
      "source": [
        "data()  # 내장 데이터 목록"
      ],
      "execution_count": null,
      "outputs": []
    },
    {
      "cell_type": "code",
      "metadata": {
        "colab": {
          "base_uri": "https://localhost:8080/",
          "height": 1000
        },
        "id": "FejwamSjvFus",
        "outputId": "a9b1ed6c-c99a-45d4-8027-15a81a4d30b1"
      },
      "source": [
        "cars"
      ],
      "execution_count": null,
      "outputs": [
        {
          "output_type": "display_data",
          "data": {
            "text/plain": [
              "   speed dist\n",
              "1   4      2 \n",
              "2   4     10 \n",
              "3   7      4 \n",
              "4   7     22 \n",
              "5   8     16 \n",
              "6   9     10 \n",
              "7  10     18 \n",
              "8  10     26 \n",
              "9  10     34 \n",
              "10 11     17 \n",
              "11 11     28 \n",
              "12 12     14 \n",
              "13 12     20 \n",
              "14 12     24 \n",
              "15 12     28 \n",
              "16 13     26 \n",
              "17 13     34 \n",
              "18 13     34 \n",
              "19 13     46 \n",
              "20 14     26 \n",
              "21 14     36 \n",
              "22 14     60 \n",
              "23 14     80 \n",
              "24 15     20 \n",
              "25 15     26 \n",
              "26 15     54 \n",
              "27 16     32 \n",
              "28 16     40 \n",
              "29 17     32 \n",
              "30 17     40 \n",
              "31 17     50 \n",
              "32 18     42 \n",
              "33 18     56 \n",
              "34 18     76 \n",
              "35 18     84 \n",
              "36 19     36 \n",
              "37 19     46 \n",
              "38 19     68 \n",
              "39 20     32 \n",
              "40 20     48 \n",
              "41 20     52 \n",
              "42 20     56 \n",
              "43 20     64 \n",
              "44 22     66 \n",
              "45 23     54 \n",
              "46 24     70 \n",
              "47 24     92 \n",
              "48 24     93 \n",
              "49 24    120 \n",
              "50 25     85 "
            ],
            "text/latex": "A data.frame: 50 × 2\n\\begin{tabular}{ll}\n speed & dist\\\\\n <dbl> & <dbl>\\\\\n\\hline\n\t  4 &   2\\\\\n\t  4 &  10\\\\\n\t  7 &   4\\\\\n\t  7 &  22\\\\\n\t  8 &  16\\\\\n\t  9 &  10\\\\\n\t 10 &  18\\\\\n\t 10 &  26\\\\\n\t 10 &  34\\\\\n\t 11 &  17\\\\\n\t 11 &  28\\\\\n\t 12 &  14\\\\\n\t 12 &  20\\\\\n\t 12 &  24\\\\\n\t 12 &  28\\\\\n\t 13 &  26\\\\\n\t 13 &  34\\\\\n\t 13 &  34\\\\\n\t 13 &  46\\\\\n\t 14 &  26\\\\\n\t 14 &  36\\\\\n\t 14 &  60\\\\\n\t 14 &  80\\\\\n\t 15 &  20\\\\\n\t 15 &  26\\\\\n\t 15 &  54\\\\\n\t 16 &  32\\\\\n\t 16 &  40\\\\\n\t 17 &  32\\\\\n\t 17 &  40\\\\\n\t 17 &  50\\\\\n\t 18 &  42\\\\\n\t 18 &  56\\\\\n\t 18 &  76\\\\\n\t 18 &  84\\\\\n\t 19 &  36\\\\\n\t 19 &  46\\\\\n\t 19 &  68\\\\\n\t 20 &  32\\\\\n\t 20 &  48\\\\\n\t 20 &  52\\\\\n\t 20 &  56\\\\\n\t 20 &  64\\\\\n\t 22 &  66\\\\\n\t 23 &  54\\\\\n\t 24 &  70\\\\\n\t 24 &  92\\\\\n\t 24 &  93\\\\\n\t 24 & 120\\\\\n\t 25 &  85\\\\\n\\end{tabular}\n",
            "text/markdown": "\nA data.frame: 50 × 2\n\n| speed &lt;dbl&gt; | dist &lt;dbl&gt; |\n|---|---|\n|  4 |   2 |\n|  4 |  10 |\n|  7 |   4 |\n|  7 |  22 |\n|  8 |  16 |\n|  9 |  10 |\n| 10 |  18 |\n| 10 |  26 |\n| 10 |  34 |\n| 11 |  17 |\n| 11 |  28 |\n| 12 |  14 |\n| 12 |  20 |\n| 12 |  24 |\n| 12 |  28 |\n| 13 |  26 |\n| 13 |  34 |\n| 13 |  34 |\n| 13 |  46 |\n| 14 |  26 |\n| 14 |  36 |\n| 14 |  60 |\n| 14 |  80 |\n| 15 |  20 |\n| 15 |  26 |\n| 15 |  54 |\n| 16 |  32 |\n| 16 |  40 |\n| 17 |  32 |\n| 17 |  40 |\n| 17 |  50 |\n| 18 |  42 |\n| 18 |  56 |\n| 18 |  76 |\n| 18 |  84 |\n| 19 |  36 |\n| 19 |  46 |\n| 19 |  68 |\n| 20 |  32 |\n| 20 |  48 |\n| 20 |  52 |\n| 20 |  56 |\n| 20 |  64 |\n| 22 |  66 |\n| 23 |  54 |\n| 24 |  70 |\n| 24 |  92 |\n| 24 |  93 |\n| 24 | 120 |\n| 25 |  85 |\n\n",
            "text/html": [
              "<table class=\"dataframe\">\n",
              "<caption>A data.frame: 50 × 2</caption>\n",
              "<thead>\n",
              "\t<tr><th scope=col>speed</th><th scope=col>dist</th></tr>\n",
              "\t<tr><th scope=col>&lt;dbl&gt;</th><th scope=col>&lt;dbl&gt;</th></tr>\n",
              "</thead>\n",
              "<tbody>\n",
              "\t<tr><td> 4</td><td>  2</td></tr>\n",
              "\t<tr><td> 4</td><td> 10</td></tr>\n",
              "\t<tr><td> 7</td><td>  4</td></tr>\n",
              "\t<tr><td> 7</td><td> 22</td></tr>\n",
              "\t<tr><td> 8</td><td> 16</td></tr>\n",
              "\t<tr><td> 9</td><td> 10</td></tr>\n",
              "\t<tr><td>10</td><td> 18</td></tr>\n",
              "\t<tr><td>10</td><td> 26</td></tr>\n",
              "\t<tr><td>10</td><td> 34</td></tr>\n",
              "\t<tr><td>11</td><td> 17</td></tr>\n",
              "\t<tr><td>11</td><td> 28</td></tr>\n",
              "\t<tr><td>12</td><td> 14</td></tr>\n",
              "\t<tr><td>12</td><td> 20</td></tr>\n",
              "\t<tr><td>12</td><td> 24</td></tr>\n",
              "\t<tr><td>12</td><td> 28</td></tr>\n",
              "\t<tr><td>13</td><td> 26</td></tr>\n",
              "\t<tr><td>13</td><td> 34</td></tr>\n",
              "\t<tr><td>13</td><td> 34</td></tr>\n",
              "\t<tr><td>13</td><td> 46</td></tr>\n",
              "\t<tr><td>14</td><td> 26</td></tr>\n",
              "\t<tr><td>14</td><td> 36</td></tr>\n",
              "\t<tr><td>14</td><td> 60</td></tr>\n",
              "\t<tr><td>14</td><td> 80</td></tr>\n",
              "\t<tr><td>15</td><td> 20</td></tr>\n",
              "\t<tr><td>15</td><td> 26</td></tr>\n",
              "\t<tr><td>15</td><td> 54</td></tr>\n",
              "\t<tr><td>16</td><td> 32</td></tr>\n",
              "\t<tr><td>16</td><td> 40</td></tr>\n",
              "\t<tr><td>17</td><td> 32</td></tr>\n",
              "\t<tr><td>17</td><td> 40</td></tr>\n",
              "\t<tr><td>17</td><td> 50</td></tr>\n",
              "\t<tr><td>18</td><td> 42</td></tr>\n",
              "\t<tr><td>18</td><td> 56</td></tr>\n",
              "\t<tr><td>18</td><td> 76</td></tr>\n",
              "\t<tr><td>18</td><td> 84</td></tr>\n",
              "\t<tr><td>19</td><td> 36</td></tr>\n",
              "\t<tr><td>19</td><td> 46</td></tr>\n",
              "\t<tr><td>19</td><td> 68</td></tr>\n",
              "\t<tr><td>20</td><td> 32</td></tr>\n",
              "\t<tr><td>20</td><td> 48</td></tr>\n",
              "\t<tr><td>20</td><td> 52</td></tr>\n",
              "\t<tr><td>20</td><td> 56</td></tr>\n",
              "\t<tr><td>20</td><td> 64</td></tr>\n",
              "\t<tr><td>22</td><td> 66</td></tr>\n",
              "\t<tr><td>23</td><td> 54</td></tr>\n",
              "\t<tr><td>24</td><td> 70</td></tr>\n",
              "\t<tr><td>24</td><td> 92</td></tr>\n",
              "\t<tr><td>24</td><td> 93</td></tr>\n",
              "\t<tr><td>24</td><td>120</td></tr>\n",
              "\t<tr><td>25</td><td> 85</td></tr>\n",
              "</tbody>\n",
              "</table>\n"
            ]
          },
          "metadata": {
            "tags": []
          }
        }
      ]
    },
    {
      "cell_type": "code",
      "metadata": {
        "id": "u_TG2DLYXYPF"
      },
      "source": [
        "help(sum)"
      ],
      "execution_count": null,
      "outputs": []
    },
    {
      "cell_type": "code",
      "metadata": {
        "id": "y5i8aICyjaoJ"
      },
      "source": [
        "?sum"
      ],
      "execution_count": null,
      "outputs": []
    },
    {
      "cell_type": "code",
      "metadata": {
        "colab": {
          "base_uri": "https://localhost:8080/"
        },
        "id": "DbB7_uVvjexp",
        "outputId": "044efa8f-e2f4-4235-ad70-123522a1179c"
      },
      "source": [
        "example(sum)"
      ],
      "execution_count": null,
      "outputs": [
        {
          "output_type": "stream",
          "text": [
            "\n",
            "sum> ## Pass a vector to sum, and it will add the elements together.\n",
            "sum> sum(1:5)\n",
            "[1] 15\n",
            "\n",
            "sum> ## Pass several numbers to sum, and it also adds the elements.\n",
            "sum> sum(1, 2, 3, 4, 5)\n",
            "[1] 15\n",
            "\n",
            "sum> ## In fact, you can pass vectors into several arguments, and everything gets added.\n",
            "sum> sum(1:2, 3:5)\n",
            "[1] 15\n",
            "\n",
            "sum> ## If there are missing values, the sum is unknown, i.e., also missing, ....\n",
            "sum> sum(1:5, NA)\n",
            "[1] NA\n",
            "\n",
            "sum> ## ... unless  we exclude missing values explicitly:\n",
            "sum> sum(1:5, NA, na.rm = TRUE)\n",
            "[1] 15\n"
          ],
          "name": "stdout"
        }
      ]
    },
    {
      "cell_type": "code",
      "metadata": {
        "colab": {
          "base_uri": "https://localhost:8080/",
          "height": 34
        },
        "id": "DBeYfwqX3lDZ",
        "outputId": "6e5580d6-69c8-494d-9a12-015cc1cf4ae1"
      },
      "source": [
        "a <- c(33,12,55,66,77,16)\n",
        "mean(a)"
      ],
      "execution_count": 50,
      "outputs": [
        {
          "output_type": "display_data",
          "data": {
            "text/plain": [
              "[1] 43.16667"
            ],
            "text/latex": "43.1666666666667",
            "text/markdown": "43.1666666666667",
            "text/html": [
              "43.1666666666667"
            ]
          },
          "metadata": {
            "tags": []
          }
        }
      ]
    },
    {
      "cell_type": "code",
      "metadata": {
        "colab": {
          "base_uri": "https://localhost:8080/",
          "height": 34
        },
        "id": "tyF6GEs6L9jt",
        "outputId": "ae5bf17c-7805-47c6-8e5f-5a6516e8732a"
      },
      "source": [
        "sd(a)"
      ],
      "execution_count": 51,
      "outputs": [
        {
          "output_type": "display_data",
          "data": {
            "text/plain": [
              "[1] 26.90291"
            ],
            "text/latex": "26.9029118622254",
            "text/markdown": "26.9029118622254",
            "text/html": [
              "26.9029118622254"
            ]
          },
          "metadata": {
            "tags": []
          }
        }
      ]
    },
    {
      "cell_type": "code",
      "metadata": {
        "colab": {
          "base_uri": "https://localhost:8080/",
          "height": 34
        },
        "id": "li1EAjIzL-8K",
        "outputId": "dc681c17-14cd-4698-dc81-8f1f3dc7885f"
      },
      "source": [
        "sort(a)"
      ],
      "execution_count": 52,
      "outputs": [
        {
          "output_type": "display_data",
          "data": {
            "text/plain": [
              "[1] 12 16 33 55 66 77"
            ],
            "text/latex": "\\begin{enumerate*}\n\\item 12\n\\item 16\n\\item 33\n\\item 55\n\\item 66\n\\item 77\n\\end{enumerate*}\n",
            "text/markdown": "1. 12\n2. 16\n3. 33\n4. 55\n5. 66\n6. 77\n\n\n",
            "text/html": [
              "<style>\n",
              ".list-inline {list-style: none; margin:0; padding: 0}\n",
              ".list-inline>li {display: inline-block}\n",
              ".list-inline>li:not(:last-child)::after {content: \"\\00b7\"; padding: 0 .5ex}\n",
              "</style>\n",
              "<ol class=list-inline><li>12</li><li>16</li><li>33</li><li>55</li><li>66</li><li>77</li></ol>\n"
            ]
          },
          "metadata": {
            "tags": []
          }
        }
      ]
    },
    {
      "cell_type": "code",
      "metadata": {
        "colab": {
          "base_uri": "https://localhost:8080/",
          "height": 34
        },
        "id": "pbP6I9sJMAde",
        "outputId": "17bca691-e41e-4ea9-995a-b21bc8f32722"
      },
      "source": [
        "rev(a)"
      ],
      "execution_count": 53,
      "outputs": [
        {
          "output_type": "display_data",
          "data": {
            "text/plain": [
              "[1] 16 77 66 55 12 33"
            ],
            "text/latex": "\\begin{enumerate*}\n\\item 16\n\\item 77\n\\item 66\n\\item 55\n\\item 12\n\\item 33\n\\end{enumerate*}\n",
            "text/markdown": "1. 16\n2. 77\n3. 66\n4. 55\n5. 12\n6. 33\n\n\n",
            "text/html": [
              "<style>\n",
              ".list-inline {list-style: none; margin:0; padding: 0}\n",
              ".list-inline>li {display: inline-block}\n",
              ".list-inline>li:not(:last-child)::after {content: \"\\00b7\"; padding: 0 .5ex}\n",
              "</style>\n",
              "<ol class=list-inline><li>16</li><li>77</li><li>66</li><li>55</li><li>12</li><li>33</li></ol>\n"
            ]
          },
          "metadata": {
            "tags": []
          }
        }
      ]
    },
    {
      "cell_type": "code",
      "metadata": {
        "colab": {
          "base_uri": "https://localhost:8080/",
          "height": 34
        },
        "id": "HVx8Qor4MDKo",
        "outputId": "d1d583af-5252-43d2-dd24-99a558e1b417"
      },
      "source": [
        "a1 <- c(2.34, 3.1, 4.3, 2.98)\n",
        "b1 <- c(2.4, 3.09, 4.3, 3.1)\n",
        "cor(a1, b1)"
      ],
      "execution_count": 54,
      "outputs": [
        {
          "output_type": "display_data",
          "data": {
            "text/plain": [
              "[1] 0.9978118"
            ],
            "text/latex": "0.997811822082536",
            "text/markdown": "0.997811822082536",
            "text/html": [
              "0.997811822082536"
            ]
          },
          "metadata": {
            "tags": []
          }
        }
      ]
    },
    {
      "cell_type": "code",
      "metadata": {
        "colab": {
          "base_uri": "https://localhost:8080/",
          "height": 298
        },
        "id": "qxob7Vi4Mbf6",
        "outputId": "249756cd-8403-48fc-8579-65ff39fabe2f"
      },
      "source": [
        "height <- c(177,180,167,165,170,NA)\n",
        "weight <- c(NA, 77.3, 80, 60, NA, 64)\n",
        "df <- data.frame(신장=height, 체중=weight)\n",
        "df"
      ],
      "execution_count": 56,
      "outputs": [
        {
          "output_type": "display_data",
          "data": {
            "text/plain": [
              "  신장 체중\n",
              "1 177    NA\n",
              "2 180  77.3\n",
              "3 167  80.0\n",
              "4 165  60.0\n",
              "5 170    NA\n",
              "6  NA  64.0"
            ],
            "text/latex": "A data.frame: 6 × 2\n\\begin{tabular}{ll}\n 신장 & 체중\\\\\n <dbl> & <dbl>\\\\\n\\hline\n\t 177 &   NA\\\\\n\t 180 & 77.3\\\\\n\t 167 & 80.0\\\\\n\t 165 & 60.0\\\\\n\t 170 &   NA\\\\\n\t  NA & 64.0\\\\\n\\end{tabular}\n",
            "text/markdown": "\nA data.frame: 6 × 2\n\n| 신장 &lt;dbl&gt; | 체중 &lt;dbl&gt; |\n|---|---|\n| 177 |   NA |\n| 180 | 77.3 |\n| 167 | 80.0 |\n| 165 | 60.0 |\n| 170 |   NA |\n|  NA | 64.0 |\n\n",
            "text/html": [
              "<table class=\"dataframe\">\n",
              "<caption>A data.frame: 6 × 2</caption>\n",
              "<thead>\n",
              "\t<tr><th scope=col>신장</th><th scope=col>체중</th></tr>\n",
              "\t<tr><th scope=col>&lt;dbl&gt;</th><th scope=col>&lt;dbl&gt;</th></tr>\n",
              "</thead>\n",
              "<tbody>\n",
              "\t<tr><td>177</td><td>  NA</td></tr>\n",
              "\t<tr><td>180</td><td>77.3</td></tr>\n",
              "\t<tr><td>167</td><td>80.0</td></tr>\n",
              "\t<tr><td>165</td><td>60.0</td></tr>\n",
              "\t<tr><td>170</td><td>  NA</td></tr>\n",
              "\t<tr><td> NA</td><td>64.0</td></tr>\n",
              "</tbody>\n",
              "</table>\n"
            ]
          },
          "metadata": {
            "tags": []
          }
        }
      ]
    },
    {
      "cell_type": "code",
      "metadata": {
        "colab": {
          "base_uri": "https://localhost:8080/",
          "height": 34
        },
        "id": "2uU5IF_VNRNK",
        "outputId": "52f4ec2f-a35d-4ccf-df7c-6274f97f3efd"
      },
      "source": [
        "apply(df, 2, mean, na.rm=TRUE)"
      ],
      "execution_count": 58,
      "outputs": [
        {
          "output_type": "display_data",
          "data": {
            "text/plain": [
              "   신장    체중 \n",
              "171.800  70.325 "
            ],
            "text/latex": "\\begin{description*}\n\\item[신장] 171.8\n\\item[체중] 70.325\n\\end{description*}\n",
            "text/markdown": "신장\n:   171.8체중\n:   70.325\n\n",
            "text/html": [
              "<style>\n",
              ".dl-inline {width: auto; margin:0; padding: 0}\n",
              ".dl-inline>dt, .dl-inline>dd {float: none; width: auto; display: inline-block}\n",
              ".dl-inline>dt::after {content: \":\\0020\"; padding-right: .5ex}\n",
              ".dl-inline>dt:not(:first-of-type) {padding-left: .5ex}\n",
              "</style><dl class=dl-inline><dt>신장</dt><dd>171.8</dd><dt>체중</dt><dd>70.325</dd></dl>\n"
            ]
          },
          "metadata": {
            "tags": []
          }
        }
      ]
    },
    {
      "cell_type": "code",
      "metadata": {
        "colab": {
          "base_uri": "https://localhost:8080/",
          "height": 112
        },
        "id": "61OwCdNkNj9S",
        "outputId": "b2111cb4-9c48-4e49-cd2a-583f8cc91a2d"
      },
      "source": [
        "lapply(df, max, na.rm=TRUE)  # 리스트는 열 중심"
      ],
      "execution_count": 59,
      "outputs": [
        {
          "output_type": "display_data",
          "data": {
            "text/plain": [
              "$신장\n",
              "[1] 180\n",
              "\n",
              "$체중\n",
              "[1] 80\n"
            ],
            "text/latex": "\\begin{description}\n\\item[\\$신장] 180\n\\item[\\$체중] 80\n\\end{description}\n",
            "text/markdown": "$신장\n:   180\n$체중\n:   80\n\n\n",
            "text/html": [
              "<dl>\n",
              "\t<dt>$신장</dt>\n",
              "\t\t<dd>180</dd>\n",
              "\t<dt>$체중</dt>\n",
              "\t\t<dd>80</dd>\n",
              "</dl>\n"
            ]
          },
          "metadata": {
            "tags": []
          }
        }
      ]
    },
    {
      "cell_type": "code",
      "metadata": {
        "colab": {
          "base_uri": "https://localhost:8080/",
          "height": 34
        },
        "id": "4Am4tIUnNwmw",
        "outputId": "2d14c551-56cd-4f12-9f1d-7f890e5be482"
      },
      "source": [
        "sapply(df, max, na.rm=TRUE)"
      ],
      "execution_count": 60,
      "outputs": [
        {
          "output_type": "display_data",
          "data": {
            "text/plain": [
              "신장 체중 \n",
              " 180   80 "
            ],
            "text/latex": "\\begin{description*}\n\\item[신장] 180\n\\item[체중] 80\n\\end{description*}\n",
            "text/markdown": "신장\n:   180체중\n:   80\n\n",
            "text/html": [
              "<style>\n",
              ".dl-inline {width: auto; margin:0; padding: 0}\n",
              ".dl-inline>dt, .dl-inline>dd {float: none; width: auto; display: inline-block}\n",
              ".dl-inline>dt::after {content: \":\\0020\"; padding-right: .5ex}\n",
              ".dl-inline>dt:not(:first-of-type) {padding-left: .5ex}\n",
              "</style><dl class=dl-inline><dt>신장</dt><dd>180</dd><dt>체중</dt><dd>80</dd></dl>\n"
            ]
          },
          "metadata": {
            "tags": []
          }
        }
      ]
    },
    {
      "cell_type": "code",
      "metadata": {
        "colab": {
          "base_uri": "https://localhost:8080/",
          "height": 713
        },
        "id": "jRd914QROBtS",
        "outputId": "1f2fd71f-c2a7-4387-a2cd-a09579ad07fa"
      },
      "source": [
        "system('gdown --id 1coAZm0cxVMHn6pg4SalXcTDanI0fzfhd')\n",
        "dflist <- read.table(\"passlist.txt\", header=TRUE, fileEncoding = \"EUC-KR\")\n",
        "dflist"
      ],
      "execution_count": 61,
      "outputs": [
        {
          "output_type": "display_data",
          "data": {
            "text/plain": [
              "   나이 성별 평점\n",
              "1  33   남   4.30\n",
              "2  28   남   4.20\n",
              "3  35   여   4.10\n",
              "4  29   여   3.70\n",
              "5  36   남   4.50\n",
              "6  32   여   4.40\n",
              "7  30   여   3.80\n",
              "8  36   남   3.90\n",
              "9  28   여   4.20\n",
              "10 35   여   4.50\n",
              "11 31   여   4.60\n",
              "12 27   남   4.00\n",
              "13 26   여   4.20\n",
              "14 33   여   4.30\n",
              "15 34   남   4.50\n",
              "16 33   여   4.40\n",
              "17 26   여   4.33\n",
              "18 25   남   3.87\n",
              "19 35   여   4.00\n",
              "20 32   여   3.60"
            ],
            "text/latex": "A data.frame: 20 × 3\n\\begin{tabular}{lll}\n 나이 & 성별 & 평점\\\\\n <int> & <chr> & <dbl>\\\\\n\\hline\n\t 33 & 남 & 4.30\\\\\n\t 28 & 남 & 4.20\\\\\n\t 35 & 여 & 4.10\\\\\n\t 29 & 여 & 3.70\\\\\n\t 36 & 남 & 4.50\\\\\n\t 32 & 여 & 4.40\\\\\n\t 30 & 여 & 3.80\\\\\n\t 36 & 남 & 3.90\\\\\n\t 28 & 여 & 4.20\\\\\n\t 35 & 여 & 4.50\\\\\n\t 31 & 여 & 4.60\\\\\n\t 27 & 남 & 4.00\\\\\n\t 26 & 여 & 4.20\\\\\n\t 33 & 여 & 4.30\\\\\n\t 34 & 남 & 4.50\\\\\n\t 33 & 여 & 4.40\\\\\n\t 26 & 여 & 4.33\\\\\n\t 25 & 남 & 3.87\\\\\n\t 35 & 여 & 4.00\\\\\n\t 32 & 여 & 3.60\\\\\n\\end{tabular}\n",
            "text/markdown": "\nA data.frame: 20 × 3\n\n| 나이 &lt;int&gt; | 성별 &lt;chr&gt; | 평점 &lt;dbl&gt; |\n|---|---|---|\n| 33 | 남 | 4.30 |\n| 28 | 남 | 4.20 |\n| 35 | 여 | 4.10 |\n| 29 | 여 | 3.70 |\n| 36 | 남 | 4.50 |\n| 32 | 여 | 4.40 |\n| 30 | 여 | 3.80 |\n| 36 | 남 | 3.90 |\n| 28 | 여 | 4.20 |\n| 35 | 여 | 4.50 |\n| 31 | 여 | 4.60 |\n| 27 | 남 | 4.00 |\n| 26 | 여 | 4.20 |\n| 33 | 여 | 4.30 |\n| 34 | 남 | 4.50 |\n| 33 | 여 | 4.40 |\n| 26 | 여 | 4.33 |\n| 25 | 남 | 3.87 |\n| 35 | 여 | 4.00 |\n| 32 | 여 | 3.60 |\n\n",
            "text/html": [
              "<table class=\"dataframe\">\n",
              "<caption>A data.frame: 20 × 3</caption>\n",
              "<thead>\n",
              "\t<tr><th scope=col>나이</th><th scope=col>성별</th><th scope=col>평점</th></tr>\n",
              "\t<tr><th scope=col>&lt;int&gt;</th><th scope=col>&lt;chr&gt;</th><th scope=col>&lt;dbl&gt;</th></tr>\n",
              "</thead>\n",
              "<tbody>\n",
              "\t<tr><td>33</td><td>남</td><td>4.30</td></tr>\n",
              "\t<tr><td>28</td><td>남</td><td>4.20</td></tr>\n",
              "\t<tr><td>35</td><td>여</td><td>4.10</td></tr>\n",
              "\t<tr><td>29</td><td>여</td><td>3.70</td></tr>\n",
              "\t<tr><td>36</td><td>남</td><td>4.50</td></tr>\n",
              "\t<tr><td>32</td><td>여</td><td>4.40</td></tr>\n",
              "\t<tr><td>30</td><td>여</td><td>3.80</td></tr>\n",
              "\t<tr><td>36</td><td>남</td><td>3.90</td></tr>\n",
              "\t<tr><td>28</td><td>여</td><td>4.20</td></tr>\n",
              "\t<tr><td>35</td><td>여</td><td>4.50</td></tr>\n",
              "\t<tr><td>31</td><td>여</td><td>4.60</td></tr>\n",
              "\t<tr><td>27</td><td>남</td><td>4.00</td></tr>\n",
              "\t<tr><td>26</td><td>여</td><td>4.20</td></tr>\n",
              "\t<tr><td>33</td><td>여</td><td>4.30</td></tr>\n",
              "\t<tr><td>34</td><td>남</td><td>4.50</td></tr>\n",
              "\t<tr><td>33</td><td>여</td><td>4.40</td></tr>\n",
              "\t<tr><td>26</td><td>여</td><td>4.33</td></tr>\n",
              "\t<tr><td>25</td><td>남</td><td>3.87</td></tr>\n",
              "\t<tr><td>35</td><td>여</td><td>4.00</td></tr>\n",
              "\t<tr><td>32</td><td>여</td><td>3.60</td></tr>\n",
              "</tbody>\n",
              "</table>\n"
            ]
          },
          "metadata": {
            "tags": []
          }
        }
      ]
    },
    {
      "cell_type": "code",
      "metadata": {
        "colab": {
          "base_uri": "https://localhost:8080/",
          "height": 34
        },
        "id": "ORpFqdHrO0hr",
        "outputId": "943db58c-ddc9-4bfe-9abc-13715f2e4e31"
      },
      "source": [
        "tapply(dflist$평점, dflist$성별, mean)"
      ],
      "execution_count": 62,
      "outputs": [
        {
          "output_type": "display_data",
          "data": {
            "text/plain": [
              "      남       여 \n",
              "4.181429 4.163846 "
            ],
            "text/latex": "\\begin{description*}\n\\item[남] 4.18142857142857\n\\item[여] 4.16384615384615\n\\end{description*}\n",
            "text/markdown": "남\n:   4.18142857142857여\n:   4.16384615384615\n\n",
            "text/html": [
              "<style>\n",
              ".dl-inline {width: auto; margin:0; padding: 0}\n",
              ".dl-inline>dt, .dl-inline>dd {float: none; width: auto; display: inline-block}\n",
              ".dl-inline>dt::after {content: \":\\0020\"; padding-right: .5ex}\n",
              ".dl-inline>dt:not(:first-of-type) {padding-left: .5ex}\n",
              "</style><dl class=dl-inline><dt>남</dt><dd>4.18142857142857</dd><dt>여</dt><dd>4.16384615384615</dd></dl>\n"
            ]
          },
          "metadata": {
            "tags": []
          }
        }
      ]
    },
    {
      "cell_type": "code",
      "metadata": {
        "colab": {
          "base_uri": "https://localhost:8080/",
          "height": 112
        },
        "id": "RKkLlVsDPS-I",
        "outputId": "87b6f2f7-1df7-41da-ea59-e5b15253d1e4"
      },
      "source": [
        "tapply(dflist$나이, dflist$성별, mean, simplify=FALSE)  # 리스트로 반환"
      ],
      "execution_count": 63,
      "outputs": [
        {
          "output_type": "display_data",
          "data": {
            "text/plain": [
              "$남\n",
              "[1] 31.28571\n",
              "\n",
              "$여\n",
              "[1] 31.15385\n"
            ],
            "text/latex": "\\begin{description}\n\\item[\\$남] 31.2857142857143\n\\item[\\$여] 31.1538461538462\n\\end{description}\n",
            "text/markdown": "$남\n:   31.2857142857143\n$여\n:   31.1538461538462\n\n\n",
            "text/html": [
              "<dl>\n",
              "\t<dt>$남</dt>\n",
              "\t\t<dd>31.2857142857143</dd>\n",
              "\t<dt>$여</dt>\n",
              "\t\t<dd>31.1538461538462</dd>\n",
              "</dl>\n"
            ]
          },
          "metadata": {
            "tags": []
          }
        }
      ]
    },
    {
      "cell_type": "code",
      "metadata": {
        "colab": {
          "base_uri": "https://localhost:8080/"
        },
        "id": "UOIKLmkjPpJG",
        "outputId": "1774d758-1e15-4dcf-a3d3-484f7f2042fe"
      },
      "source": [
        "guideinfo <- function(){\n",
        "    writeLines('분석에 최적화 된 프로그램 R')\n",
        "}\n",
        "guideinfo()"
      ],
      "execution_count": 65,
      "outputs": [
        {
          "output_type": "stream",
          "text": [
            "분석에 최적화 된 프로그램 R\n"
          ],
          "name": "stdout"
        }
      ]
    },
    {
      "cell_type": "code",
      "metadata": {
        "colab": {
          "base_uri": "https://localhost:8080/"
        },
        "id": "atixqyCnR68B",
        "outputId": "09f9173f-076f-45f3-f19f-44c360c23abe"
      },
      "source": [
        "guideinfo <- function(msg){\n",
        "    writeLines(msg)\n",
        "}\n",
        "\n",
        "guideinfo('나도 배운다')"
      ],
      "execution_count": 66,
      "outputs": [
        {
          "output_type": "stream",
          "text": [
            "나도 배운다\n"
          ],
          "name": "stdout"
        }
      ]
    },
    {
      "cell_type": "code",
      "metadata": {
        "colab": {
          "base_uri": "https://localhost:8080/",
          "height": 213
        },
        "id": "6ZpMrGn8SHoJ",
        "outputId": "feae5361-1ed4-4395-8c5a-0efaa56fcaf2"
      },
      "source": [
        "basicst <- function(x){\n",
        "    amin <- min(x)\n",
        "    amax <- max(x)\n",
        "    amean <- mean(x)\n",
        "    avar <- var(x)\n",
        "    astd <- sd(x)\n",
        "    totinfo <- list(최솟값=amin, 최댓값=amax, 평균=amean, 분산=avar, 표준편차=astd)\n",
        "    return(totinfo)\n",
        "}\n",
        "\n",
        "a <- c(68, 75, 80, 85, 45, 70, 95, 55)\n",
        "basicst(a)"
      ],
      "execution_count": 67,
      "outputs": [
        {
          "output_type": "display_data",
          "data": {
            "text/plain": [
              "$최솟값\n",
              "[1] 45\n",
              "\n",
              "$최댓값\n",
              "[1] 95\n",
              "\n",
              "$평균\n",
              "[1] 71.625\n",
              "\n",
              "$분산\n",
              "[1] 258.2679\n",
              "\n",
              "$표준편차\n",
              "[1] 16.07071\n"
            ],
            "text/latex": "\\begin{description}\n\\item[\\$최솟값] 45\n\\item[\\$최댓값] 95\n\\item[\\$평균] 71.625\n\\item[\\$분산] 258.267857142857\n\\item[\\$표준편차] 16.0707142698406\n\\end{description}\n",
            "text/markdown": "$최솟값\n:   45\n$최댓값\n:   95\n$평균\n:   71.625\n$분산\n:   258.267857142857\n$표준편차\n:   16.0707142698406\n\n\n",
            "text/html": [
              "<dl>\n",
              "\t<dt>$최솟값</dt>\n",
              "\t\t<dd>45</dd>\n",
              "\t<dt>$최댓값</dt>\n",
              "\t\t<dd>95</dd>\n",
              "\t<dt>$평균</dt>\n",
              "\t\t<dd>71.625</dd>\n",
              "\t<dt>$분산</dt>\n",
              "\t\t<dd>258.267857142857</dd>\n",
              "\t<dt>$표준편차</dt>\n",
              "\t\t<dd>16.0707142698406</dd>\n",
              "</dl>\n"
            ]
          },
          "metadata": {
            "tags": []
          }
        }
      ]
    },
    {
      "cell_type": "code",
      "metadata": {
        "colab": {
          "base_uri": "https://localhost:8080/",
          "height": 112
        },
        "id": "gyxRcZolUIiK",
        "outputId": "469d6d3b-88e6-40a1-81e5-1bacd4510082"
      },
      "source": [
        "system('gdown --id 10rSv4MYjGN4MkWrB_9AViT1CCaIShwh6')\n",
        "source('calc.txt', encoding = \"EUC-KR\")  # 한글로 된 내용이 있는 경우\n",
        "\n",
        "#calc <- function(x){\n",
        "#    asum <- sum(x)\n",
        "#    asort <- sort(x)\n",
        "#    result <- list(합계=asum, 정렬결과=asort)\n",
        "#    return(result)\n",
        "#}\n",
        "\n",
        "x <- c(555,321,45,6,12)\n",
        "calc(x)"
      ],
      "execution_count": 77,
      "outputs": [
        {
          "output_type": "display_data",
          "data": {
            "text/plain": [
              "$합계\n",
              "[1] 939\n",
              "\n",
              "$정렬결과\n",
              "[1]   6  12  45 321 555\n"
            ],
            "text/latex": "\\begin{description}\n\\item[\\$합계] 939\n\\item[\\$정렬결과] \\begin{enumerate*}\n\\item 6\n\\item 12\n\\item 45\n\\item 321\n\\item 555\n\\end{enumerate*}\n\n\\end{description}\n",
            "text/markdown": "$합계\n:   939\n$정렬결과\n:   1. 6\n2. 12\n3. 45\n4. 321\n5. 555\n\n\n\n\n\n",
            "text/html": [
              "<dl>\n",
              "\t<dt>$합계</dt>\n",
              "\t\t<dd>939</dd>\n",
              "\t<dt>$정렬결과</dt>\n",
              "\t\t<dd><style>\n",
              ".list-inline {list-style: none; margin:0; padding: 0}\n",
              ".list-inline>li {display: inline-block}\n",
              ".list-inline>li:not(:last-child)::after {content: \"\\00b7\"; padding: 0 .5ex}\n",
              "</style>\n",
              "<ol class=list-inline><li>6</li><li>12</li><li>45</li><li>321</li><li>555</li></ol>\n",
              "</dd>\n",
              "</dl>\n"
            ]
          },
          "metadata": {
            "tags": []
          }
        }
      ]
    },
    {
      "cell_type": "markdown",
      "metadata": {
        "id": "-_jYsB9hAjwy"
      },
      "source": [
        "#ch04(데이터_유형)"
      ]
    },
    {
      "cell_type": "code",
      "metadata": {
        "id": "tqS38dooIuPP"
      },
      "source": [
        "x <- 5\n",
        "y <- 3.14"
      ],
      "execution_count": null,
      "outputs": []
    },
    {
      "cell_type": "code",
      "metadata": {
        "colab": {
          "base_uri": "https://localhost:8080/",
          "height": 34
        },
        "id": "4sTtFhWMI0Rv",
        "outputId": "04d2327c-df4e-46d6-c482-a626dcc77399"
      },
      "source": [
        "x + y"
      ],
      "execution_count": null,
      "outputs": [
        {
          "output_type": "display_data",
          "data": {
            "text/plain": [
              "[1] 8.14"
            ],
            "text/latex": "8.14",
            "text/markdown": "8.14",
            "text/html": [
              "8.14"
            ]
          },
          "metadata": {
            "tags": []
          }
        }
      ]
    },
    {
      "cell_type": "code",
      "metadata": {
        "colab": {
          "base_uri": "https://localhost:8080/",
          "height": 34
        },
        "id": "WX3OIbJOI2y3",
        "outputId": "294942ce-df64-40b6-8a05-ace3d3c1d8e8"
      },
      "source": [
        "x > y"
      ],
      "execution_count": null,
      "outputs": [
        {
          "output_type": "display_data",
          "data": {
            "text/plain": [
              "[1] TRUE"
            ],
            "text/latex": "TRUE",
            "text/markdown": "TRUE",
            "text/html": [
              "TRUE"
            ]
          },
          "metadata": {
            "tags": []
          }
        }
      ]
    },
    {
      "cell_type": "code",
      "metadata": {
        "id": "48jf-g3nUfj1",
        "colab": {
          "base_uri": "https://localhost:8080/",
          "height": 34
        },
        "outputId": "8b50497f-c646-4345-acba-8e02b7a387c5"
      },
      "source": [
        "x = y\n",
        "x == y"
      ],
      "execution_count": null,
      "outputs": [
        {
          "output_type": "display_data",
          "data": {
            "text/plain": [
              "[1] TRUE"
            ],
            "text/latex": "TRUE",
            "text/markdown": "TRUE",
            "text/html": [
              "TRUE"
            ]
          },
          "metadata": {
            "tags": []
          }
        }
      ]
    },
    {
      "cell_type": "code",
      "metadata": {
        "id": "qTZs72ppUmZp",
        "colab": {
          "base_uri": "https://localhost:8080/",
          "height": 34
        },
        "outputId": "393e8ea2-4da2-4166-eca4-2bce37e7cb38"
      },
      "source": [
        "x <- x-3\n",
        "x > y"
      ],
      "execution_count": null,
      "outputs": [
        {
          "output_type": "display_data",
          "data": {
            "text/plain": [
              "[1] FALSE"
            ],
            "text/latex": "FALSE",
            "text/markdown": "FALSE",
            "text/html": [
              "FALSE"
            ]
          },
          "metadata": {
            "tags": []
          }
        }
      ]
    },
    {
      "cell_type": "code",
      "metadata": {
        "colab": {
          "base_uri": "https://localhost:8080/",
          "height": 34
        },
        "id": "Lkz85PNSMZd8",
        "outputId": "ef5ffaa5-2487-4697-93db-730eb8e46044"
      },
      "source": [
        "Sys.Date()  # 현재 시각"
      ],
      "execution_count": null,
      "outputs": [
        {
          "output_type": "display_data",
          "data": {
            "text/plain": [
              "[1] \"2021-06-23\""
            ],
            "text/latex": "2021-06-23",
            "text/markdown": "2021-06-23",
            "text/html": [
              "<time datetime=\"2021-06-23\">2021-06-23</time>"
            ]
          },
          "metadata": {
            "tags": []
          }
        }
      ]
    },
    {
      "cell_type": "code",
      "metadata": {
        "id": "ktnnzFHLMgxv",
        "colab": {
          "base_uri": "https://localhost:8080/",
          "height": 34
        },
        "outputId": "dc30b101-5c5a-4c9d-c4a0-58d5022d274c"
      },
      "source": [
        "d1 <- \"2021-06-20\"\n",
        "as.Date(d1) + 100"
      ],
      "execution_count": null,
      "outputs": [
        {
          "output_type": "display_data",
          "data": {
            "text/plain": [
              "[1] \"2021-09-28\""
            ],
            "text/latex": "2021-09-28",
            "text/markdown": "2021-09-28",
            "text/html": [
              "<time datetime=\"2021-09-28\">2021-09-28</time>"
            ]
          },
          "metadata": {
            "tags": []
          }
        }
      ]
    },
    {
      "cell_type": "code",
      "metadata": {
        "id": "RZoh7IAANlYW",
        "colab": {
          "base_uri": "https://localhost:8080/",
          "height": 34
        },
        "outputId": "acb71fdc-6027-4d29-bea0-b7babb6cbf92"
      },
      "source": [
        "height <- c(177,180,168,169,NA)\n",
        "sum(height)"
      ],
      "execution_count": 15,
      "outputs": [
        {
          "output_type": "display_data",
          "data": {
            "text/plain": [
              "[1] NA"
            ],
            "text/latex": "<NA>",
            "text/markdown": "&lt;NA&gt;",
            "text/html": [
              "&lt;NA&gt;"
            ]
          },
          "metadata": {
            "tags": []
          }
        }
      ]
    },
    {
      "cell_type": "code",
      "metadata": {
        "colab": {
          "base_uri": "https://localhost:8080/",
          "height": 34
        },
        "id": "h5a-tJGnOB-u",
        "outputId": "0a8a43d2-1c80-4703-a410-7321b860404e"
      },
      "source": [
        "is.na(height[5])"
      ],
      "execution_count": 16,
      "outputs": [
        {
          "output_type": "display_data",
          "data": {
            "text/plain": [
              "[1] TRUE"
            ],
            "text/latex": "TRUE",
            "text/markdown": "TRUE",
            "text/html": [
              "TRUE"
            ]
          },
          "metadata": {
            "tags": []
          }
        }
      ]
    },
    {
      "cell_type": "code",
      "metadata": {
        "colab": {
          "base_uri": "https://localhost:8080/",
          "height": 34
        },
        "id": "c1cObZSGOP9V",
        "outputId": "4588664c-98f9-44d9-b476-65bdf1fd37c5"
      },
      "source": [
        "rate <- NULL\n",
        "money <- c(1200000, 950000, 1300000)\n",
        "if(sum(money)>=3000000){\n",
        "    rate<-0.017\n",
        "}\n",
        "\n",
        "is.null(rate)"
      ],
      "execution_count": null,
      "outputs": [
        {
          "output_type": "display_data",
          "data": {
            "text/plain": [
              "[1] FALSE"
            ],
            "text/latex": "FALSE",
            "text/markdown": "FALSE",
            "text/html": [
              "FALSE"
            ]
          },
          "metadata": {
            "tags": []
          }
        }
      ]
    },
    {
      "cell_type": "markdown",
      "metadata": {
        "id": "dTE_6yPKMIky"
      },
      "source": [
        "#ch05(데이터\\_구조\\_유형)"
      ]
    },
    {
      "cell_type": "markdown",
      "metadata": {
        "id": "UtqvUEjfU21F"
      },
      "source": [
        "##벡터"
      ]
    },
    {
      "cell_type": "markdown",
      "metadata": {
        "id": "J1BCapgyj09G"
      },
      "source": [
        "__벡터 생성__"
      ]
    },
    {
      "cell_type": "code",
      "metadata": {
        "id": "POI7446Y4AY3",
        "colab": {
          "base_uri": "https://localhost:8080/",
          "height": 34
        },
        "outputId": "ba35fbc8-679a-4b83-ec19-ec89fe849c2f"
      },
      "source": [
        "nic <- c('번개','미스터길동','도둑','활빈당')\n",
        "nic"
      ],
      "execution_count": 9,
      "outputs": [
        {
          "output_type": "display_data",
          "data": {
            "text/plain": [
              "[1] \"번개\"       \"미스터길동\" \"도둑\"       \"활빈당\"    "
            ],
            "text/latex": "\\begin{enumerate*}\n\\item '번개'\n\\item '미스터길동'\n\\item '도둑'\n\\item '활빈당'\n\\end{enumerate*}\n",
            "text/markdown": "1. '번개'\n2. '미스터길동'\n3. '도둑'\n4. '활빈당'\n\n\n",
            "text/html": [
              "<style>\n",
              ".list-inline {list-style: none; margin:0; padding: 0}\n",
              ".list-inline>li {display: inline-block}\n",
              ".list-inline>li:not(:last-child)::after {content: \"\\00b7\"; padding: 0 .5ex}\n",
              "</style>\n",
              "<ol class=list-inline><li>'번개'</li><li>'미스터길동'</li><li>'도둑'</li><li>'활빈당'</li></ol>\n"
            ]
          },
          "metadata": {
            "tags": []
          }
        }
      ]
    },
    {
      "cell_type": "code",
      "metadata": {
        "id": "DzdbobF_V1Fh",
        "colab": {
          "base_uri": "https://localhost:8080/",
          "height": 34
        },
        "outputId": "22d5d318-098a-421d-a63b-8e94929bc6a9"
      },
      "source": [
        "nic2 <- c('ㅂㄱ','ㅁㅅㅌㄱㄷ','ㄷㄷ','ㅎㅂㄷ')\n",
        "c(nic, nic2)  # 벡터로 벡터 만들기"
      ],
      "execution_count": 10,
      "outputs": [
        {
          "output_type": "display_data",
          "data": {
            "text/plain": [
              "[1] \"번개\"       \"미스터길동\" \"도둑\"       \"활빈당\"     \"ㅂㄱ\"      \n",
              "[6] \"ㅁㅅㅌㄱㄷ\" \"ㄷㄷ\"       \"ㅎㅂㄷ\"    "
            ],
            "text/latex": "\\begin{enumerate*}\n\\item '번개'\n\\item '미스터길동'\n\\item '도둑'\n\\item '활빈당'\n\\item 'ㅂㄱ'\n\\item 'ㅁㅅㅌㄱㄷ'\n\\item 'ㄷㄷ'\n\\item 'ㅎㅂㄷ'\n\\end{enumerate*}\n",
            "text/markdown": "1. '번개'\n2. '미스터길동'\n3. '도둑'\n4. '활빈당'\n5. 'ㅂㄱ'\n6. 'ㅁㅅㅌㄱㄷ'\n7. 'ㄷㄷ'\n8. 'ㅎㅂㄷ'\n\n\n",
            "text/html": [
              "<style>\n",
              ".list-inline {list-style: none; margin:0; padding: 0}\n",
              ".list-inline>li {display: inline-block}\n",
              ".list-inline>li:not(:last-child)::after {content: \"\\00b7\"; padding: 0 .5ex}\n",
              "</style>\n",
              "<ol class=list-inline><li>'번개'</li><li>'미스터길동'</li><li>'도둑'</li><li>'활빈당'</li><li>'ㅂㄱ'</li><li>'ㅁㅅㅌㄱㄷ'</li><li>'ㄷㄷ'</li><li>'ㅎㅂㄷ'</li></ol>\n"
            ]
          },
          "metadata": {
            "tags": []
          }
        }
      ]
    },
    {
      "cell_type": "code",
      "metadata": {
        "colab": {
          "base_uri": "https://localhost:8080/",
          "height": 34
        },
        "id": "Bf9NrizUfXa3",
        "outputId": "d086cde0-662e-4536-d78e-93f1b37f6d6f"
      },
      "source": [
        "x <- -1:5  # 첫 숫자와 마지막 숫자 포함\n",
        "is.vector(x)"
      ],
      "execution_count": null,
      "outputs": [
        {
          "output_type": "display_data",
          "data": {
            "text/plain": [
              "[1] TRUE"
            ],
            "text/latex": "TRUE",
            "text/markdown": "TRUE",
            "text/html": [
              "TRUE"
            ]
          },
          "metadata": {
            "tags": []
          }
        }
      ]
    },
    {
      "cell_type": "code",
      "metadata": {
        "colab": {
          "base_uri": "https://localhost:8080/",
          "height": 34
        },
        "id": "mi_SaxZfkI9l",
        "outputId": "136a9cea-eb4c-431c-b3f5-6087d9f09d6c"
      },
      "source": [
        "seq(0,1000,200)"
      ],
      "execution_count": null,
      "outputs": [
        {
          "output_type": "display_data",
          "data": {
            "text/plain": [
              "[1]    0  200  400  600  800 1000"
            ],
            "text/latex": "\\begin{enumerate*}\n\\item 0\n\\item 200\n\\item 400\n\\item 600\n\\item 800\n\\item 1000\n\\end{enumerate*}\n",
            "text/markdown": "1. 0\n2. 200\n3. 400\n4. 600\n5. 800\n6. 1000\n\n\n",
            "text/html": [
              "<style>\n",
              ".list-inline {list-style: none; margin:0; padding: 0}\n",
              ".list-inline>li {display: inline-block}\n",
              ".list-inline>li:not(:last-child)::after {content: \"\\00b7\"; padding: 0 .5ex}\n",
              "</style>\n",
              "<ol class=list-inline><li>0</li><li>200</li><li>400</li><li>600</li><li>800</li><li>1000</li></ol>\n"
            ]
          },
          "metadata": {
            "tags": []
          }
        }
      ]
    },
    {
      "cell_type": "code",
      "metadata": {
        "colab": {
          "base_uri": "https://localhost:8080/",
          "height": 34
        },
        "id": "XzYQefF6lEqt",
        "outputId": "b22dff64-ea05-4c13-8acd-f566781360ce"
      },
      "source": [
        "seq(0,1000,length=5)"
      ],
      "execution_count": null,
      "outputs": [
        {
          "output_type": "display_data",
          "data": {
            "text/plain": [
              "[1]    0  250  500  750 1000"
            ],
            "text/latex": "\\begin{enumerate*}\n\\item 0\n\\item 250\n\\item 500\n\\item 750\n\\item 1000\n\\end{enumerate*}\n",
            "text/markdown": "1. 0\n2. 250\n3. 500\n4. 750\n5. 1000\n\n\n",
            "text/html": [
              "<style>\n",
              ".list-inline {list-style: none; margin:0; padding: 0}\n",
              ".list-inline>li {display: inline-block}\n",
              ".list-inline>li:not(:last-child)::after {content: \"\\00b7\"; padding: 0 .5ex}\n",
              "</style>\n",
              "<ol class=list-inline><li>0</li><li>250</li><li>500</li><li>750</li><li>1000</li></ol>\n"
            ]
          },
          "metadata": {
            "tags": []
          }
        }
      ]
    },
    {
      "cell_type": "code",
      "metadata": {
        "id": "aVhuXYnTX-2i",
        "colab": {
          "base_uri": "https://localhost:8080/",
          "height": 34
        },
        "outputId": "5d015ddf-4b8b-4cd3-f9b5-87d6e63cb90a"
      },
      "source": [
        "rep(1:5, times=2)"
      ],
      "execution_count": null,
      "outputs": [
        {
          "output_type": "display_data",
          "data": {
            "text/plain": [
              " [1] 1 2 3 4 5 1 2 3 4 5"
            ],
            "text/latex": "\\begin{enumerate*}\n\\item 1\n\\item 2\n\\item 3\n\\item 4\n\\item 5\n\\item 1\n\\item 2\n\\item 3\n\\item 4\n\\item 5\n\\end{enumerate*}\n",
            "text/markdown": "1. 1\n2. 2\n3. 3\n4. 4\n5. 5\n6. 1\n7. 2\n8. 3\n9. 4\n10. 5\n\n\n",
            "text/html": [
              "<style>\n",
              ".list-inline {list-style: none; margin:0; padding: 0}\n",
              ".list-inline>li {display: inline-block}\n",
              ".list-inline>li:not(:last-child)::after {content: \"\\00b7\"; padding: 0 .5ex}\n",
              "</style>\n",
              "<ol class=list-inline><li>1</li><li>2</li><li>3</li><li>4</li><li>5</li><li>1</li><li>2</li><li>3</li><li>4</li><li>5</li></ol>\n"
            ]
          },
          "metadata": {
            "tags": []
          }
        }
      ]
    },
    {
      "cell_type": "code",
      "metadata": {
        "id": "JKm5kncVYCxU",
        "colab": {
          "base_uri": "https://localhost:8080/",
          "height": 34
        },
        "outputId": "0cfa2f9e-381f-495e-8c9d-51ad263d14fd"
      },
      "source": [
        "rep(1:5, each=2)"
      ],
      "execution_count": null,
      "outputs": [
        {
          "output_type": "display_data",
          "data": {
            "text/plain": [
              " [1] 1 1 2 2 3 3 4 4 5 5"
            ],
            "text/latex": "\\begin{enumerate*}\n\\item 1\n\\item 1\n\\item 2\n\\item 2\n\\item 3\n\\item 3\n\\item 4\n\\item 4\n\\item 5\n\\item 5\n\\end{enumerate*}\n",
            "text/markdown": "1. 1\n2. 1\n3. 2\n4. 2\n5. 3\n6. 3\n7. 4\n8. 4\n9. 5\n10. 5\n\n\n",
            "text/html": [
              "<style>\n",
              ".list-inline {list-style: none; margin:0; padding: 0}\n",
              ".list-inline>li {display: inline-block}\n",
              ".list-inline>li:not(:last-child)::after {content: \"\\00b7\"; padding: 0 .5ex}\n",
              "</style>\n",
              "<ol class=list-inline><li>1</li><li>1</li><li>2</li><li>2</li><li>3</li><li>3</li><li>4</li><li>4</li><li>5</li><li>5</li></ol>\n"
            ]
          },
          "metadata": {
            "tags": []
          }
        }
      ]
    },
    {
      "cell_type": "code",
      "metadata": {
        "id": "PdPW0q3NYIna",
        "colab": {
          "base_uri": "https://localhost:8080/",
          "height": 34
        },
        "outputId": "6f4c7536-4562-4b97-e9d6-e52366897ef4"
      },
      "source": [
        "a <- vector(mode='numeric', length=20)\n",
        "a  # 빈 벡터 생성"
      ],
      "execution_count": null,
      "outputs": [
        {
          "output_type": "display_data",
          "data": {
            "text/plain": [
              " [1] 0 0 0 0 0 0 0 0 0 0 0 0 0 0 0 0 0 0 0 0"
            ],
            "text/latex": "\\begin{enumerate*}\n\\item 0\n\\item 0\n\\item 0\n\\item 0\n\\item 0\n\\item 0\n\\item 0\n\\item 0\n\\item 0\n\\item 0\n\\item 0\n\\item 0\n\\item 0\n\\item 0\n\\item 0\n\\item 0\n\\item 0\n\\item 0\n\\item 0\n\\item 0\n\\end{enumerate*}\n",
            "text/markdown": "1. 0\n2. 0\n3. 0\n4. 0\n5. 0\n6. 0\n7. 0\n8. 0\n9. 0\n10. 0\n11. 0\n12. 0\n13. 0\n14. 0\n15. 0\n16. 0\n17. 0\n18. 0\n19. 0\n20. 0\n\n\n",
            "text/html": [
              "<style>\n",
              ".list-inline {list-style: none; margin:0; padding: 0}\n",
              ".list-inline>li {display: inline-block}\n",
              ".list-inline>li:not(:last-child)::after {content: \"\\00b7\"; padding: 0 .5ex}\n",
              "</style>\n",
              "<ol class=list-inline><li>0</li><li>0</li><li>0</li><li>0</li><li>0</li><li>0</li><li>0</li><li>0</li><li>0</li><li>0</li><li>0</li><li>0</li><li>0</li><li>0</li><li>0</li><li>0</li><li>0</li><li>0</li><li>0</li><li>0</li></ol>\n"
            ]
          },
          "metadata": {
            "tags": []
          }
        }
      ]
    },
    {
      "cell_type": "markdown",
      "metadata": {
        "id": "lNZNSxyKj7Uh"
      },
      "source": [
        "__벡터 생성시 주의할 점__"
      ]
    },
    {
      "cell_type": "code",
      "metadata": {
        "colab": {
          "base_uri": "https://localhost:8080/",
          "height": 34
        },
        "id": "SCFo8c85gGnE",
        "outputId": "5413bd30-d7d3-420f-e4ae-0e6b648c7c3e"
      },
      "source": [
        "sample <- c(3000, 3500.12, 1500, 4200.7)\n",
        "sample  # 실수로 인식"
      ],
      "execution_count": null,
      "outputs": [
        {
          "output_type": "display_data",
          "data": {
            "text/plain": [
              "[1] 3000.00 3500.12 1500.00 4200.70"
            ],
            "text/latex": "\\begin{enumerate*}\n\\item 3000\n\\item 3500.12\n\\item 1500\n\\item 4200.7\n\\end{enumerate*}\n",
            "text/markdown": "1. 3000\n2. 3500.12\n3. 1500\n4. 4200.7\n\n\n",
            "text/html": [
              "<style>\n",
              ".list-inline {list-style: none; margin:0; padding: 0}\n",
              ".list-inline>li {display: inline-block}\n",
              ".list-inline>li:not(:last-child)::after {content: \"\\00b7\"; padding: 0 .5ex}\n",
              "</style>\n",
              "<ol class=list-inline><li>3000</li><li>3500.12</li><li>1500</li><li>4200.7</li></ol>\n"
            ]
          },
          "metadata": {
            "tags": []
          }
        }
      ]
    },
    {
      "cell_type": "code",
      "metadata": {
        "colab": {
          "base_uri": "https://localhost:8080/",
          "height": 34
        },
        "id": "rgiCNPqggYWo",
        "outputId": "7d6f2cc9-dbb3-4090-ba64-51709d65426d"
      },
      "source": [
        "sample2 <- c(300, '한글', 14.5)\n",
        "sample2  # 문자열로 인식"
      ],
      "execution_count": null,
      "outputs": [
        {
          "output_type": "display_data",
          "data": {
            "text/plain": [
              "[1] \"300\"  \"한글\" \"14.5\""
            ],
            "text/latex": "\\begin{enumerate*}\n\\item '300'\n\\item '한글'\n\\item '14.5'\n\\end{enumerate*}\n",
            "text/markdown": "1. '300'\n2. '한글'\n3. '14.5'\n\n\n",
            "text/html": [
              "<style>\n",
              ".list-inline {list-style: none; margin:0; padding: 0}\n",
              ".list-inline>li {display: inline-block}\n",
              ".list-inline>li:not(:last-child)::after {content: \"\\00b7\"; padding: 0 .5ex}\n",
              "</style>\n",
              "<ol class=list-inline><li>'300'</li><li>'한글'</li><li>'14.5'</li></ol>\n"
            ]
          },
          "metadata": {
            "tags": []
          }
        }
      ]
    },
    {
      "cell_type": "code",
      "metadata": {
        "colab": {
          "base_uri": "https://localhost:8080/",
          "height": 34
        },
        "id": "6EJ-4bO6fpq-",
        "outputId": "609f2a1f-c79a-4c81-b5a4-0c93a0767ff4"
      },
      "source": [
        "c <- as.character(x)\n",
        "c"
      ],
      "execution_count": null,
      "outputs": [
        {
          "output_type": "display_data",
          "data": {
            "text/plain": [
              "[1] \"-1\" \"0\"  \"1\"  \"2\"  \"3\"  \"4\"  \"5\" "
            ],
            "text/latex": "\\begin{enumerate*}\n\\item '-1'\n\\item '0'\n\\item '1'\n\\item '2'\n\\item '3'\n\\item '4'\n\\item '5'\n\\end{enumerate*}\n",
            "text/markdown": "1. '-1'\n2. '0'\n3. '1'\n4. '2'\n5. '3'\n6. '4'\n7. '5'\n\n\n",
            "text/html": [
              "<style>\n",
              ".list-inline {list-style: none; margin:0; padding: 0}\n",
              ".list-inline>li {display: inline-block}\n",
              ".list-inline>li:not(:last-child)::after {content: \"\\00b7\"; padding: 0 .5ex}\n",
              "</style>\n",
              "<ol class=list-inline><li>'-1'</li><li>'0'</li><li>'1'</li><li>'2'</li><li>'3'</li><li>'4'</li><li>'5'</li></ol>\n"
            ]
          },
          "metadata": {
            "tags": []
          }
        }
      ]
    },
    {
      "cell_type": "code",
      "metadata": {
        "colab": {
          "base_uri": "https://localhost:8080/",
          "height": 34
        },
        "id": "JLdEdRT4fzZo",
        "outputId": "3263d3d2-b9b8-48b8-b756-7fad0827cf81"
      },
      "source": [
        "n <- as.numeric(c)\n",
        "n"
      ],
      "execution_count": null,
      "outputs": [
        {
          "output_type": "display_data",
          "data": {
            "text/plain": [
              "[1] -1  0  1  2  3  4  5"
            ],
            "text/latex": "\\begin{enumerate*}\n\\item -1\n\\item 0\n\\item 1\n\\item 2\n\\item 3\n\\item 4\n\\item 5\n\\end{enumerate*}\n",
            "text/markdown": "1. -1\n2. 0\n3. 1\n4. 2\n5. 3\n6. 4\n7. 5\n\n\n",
            "text/html": [
              "<style>\n",
              ".list-inline {list-style: none; margin:0; padding: 0}\n",
              ".list-inline>li {display: inline-block}\n",
              ".list-inline>li:not(:last-child)::after {content: \"\\00b7\"; padding: 0 .5ex}\n",
              "</style>\n",
              "<ol class=list-inline><li>-1</li><li>0</li><li>1</li><li>2</li><li>3</li><li>4</li><li>5</li></ol>\n"
            ]
          },
          "metadata": {
            "tags": []
          }
        }
      ]
    },
    {
      "cell_type": "markdown",
      "metadata": {
        "id": "i7cv7NLDkP_c"
      },
      "source": [
        "__벡터 이름 생성__"
      ]
    },
    {
      "cell_type": "code",
      "metadata": {
        "colab": {
          "base_uri": "https://localhost:8080/",
          "height": 34
        },
        "id": "NWpTSSrIgiwG",
        "outputId": "aee59389-d6cb-40f6-b1e9-65ff02809f40"
      },
      "source": [
        "coffee <- c(3000,4500,4500,3500)\n",
        "names(coffee) <- c('아메리카노','에스프레소','카페모카','화이트라뗴')\n",
        "coffee"
      ],
      "execution_count": 24,
      "outputs": [
        {
          "output_type": "display_data",
          "data": {
            "text/plain": [
              "아메리카노 에스프레소   카페모카 화이트라뗴 \n",
              "      3000       4500       4500       3500 "
            ],
            "text/latex": "\\begin{description*}\n\\item[아메리카노] 3000\n\\item[에스프레소] 4500\n\\item[카페모카] 4500\n\\item[화이트라뗴] 3500\n\\end{description*}\n",
            "text/markdown": "아메리카노\n:   3000에스프레소\n:   4500카페모카\n:   4500화이트라뗴\n:   3500\n\n",
            "text/html": [
              "<style>\n",
              ".dl-inline {width: auto; margin:0; padding: 0}\n",
              ".dl-inline>dt, .dl-inline>dd {float: none; width: auto; display: inline-block}\n",
              ".dl-inline>dt::after {content: \":\\0020\"; padding-right: .5ex}\n",
              ".dl-inline>dt:not(:first-of-type) {padding-left: .5ex}\n",
              "</style><dl class=dl-inline><dt>아메리카노</dt><dd>3000</dd><dt>에스프레소</dt><dd>4500</dd><dt>카페모카</dt><dd>4500</dd><dt>화이트라뗴</dt><dd>3500</dd></dl>\n"
            ]
          },
          "metadata": {
            "tags": []
          }
        }
      ]
    },
    {
      "cell_type": "markdown",
      "metadata": {
        "id": "Z7mkNe6qkTe1"
      },
      "source": [
        "__인덱싱__"
      ]
    },
    {
      "cell_type": "code",
      "metadata": {
        "id": "A7Tssglgcfve",
        "colab": {
          "base_uri": "https://localhost:8080/",
          "height": 34
        },
        "outputId": "e84ac7e3-bc08-4d36-efe2-1cace796d97f"
      },
      "source": [
        "coffee[3]  # 1부터 시작"
      ],
      "execution_count": null,
      "outputs": [
        {
          "output_type": "display_data",
          "data": {
            "text/plain": [
              "카페모카 \n",
              "    4500 "
            ],
            "text/latex": "\\textbf{카페모카:} 4500",
            "text/markdown": "**카페모카:** 4500",
            "text/html": [
              "<strong>카페모카:</strong> 4500"
            ]
          },
          "metadata": {
            "tags": []
          }
        }
      ]
    },
    {
      "cell_type": "code",
      "metadata": {
        "id": "bfFHcm-ncivu",
        "colab": {
          "base_uri": "https://localhost:8080/",
          "height": 34
        },
        "outputId": "be509e65-9acc-462a-e9ac-4f1508eed192"
      },
      "source": [
        "coffee['카페모카']"
      ],
      "execution_count": null,
      "outputs": [
        {
          "output_type": "display_data",
          "data": {
            "text/plain": [
              "카페모카 \n",
              "    4500 "
            ],
            "text/latex": "\\textbf{카페모카:} 4500",
            "text/markdown": "**카페모카:** 4500",
            "text/html": [
              "<strong>카페모카:</strong> 4500"
            ]
          },
          "metadata": {
            "tags": []
          }
        }
      ]
    },
    {
      "cell_type": "code",
      "metadata": {
        "colab": {
          "base_uri": "https://localhost:8080/",
          "height": 34
        },
        "id": "9TCoapf6hH4t",
        "outputId": "cb2cc2df-33e2-429b-d6e4-f8d7c1a743ad"
      },
      "source": [
        "coffee[-3]"
      ],
      "execution_count": null,
      "outputs": [
        {
          "output_type": "display_data",
          "data": {
            "text/plain": [
              "아메리카노 에스프레소 화이트라뗴 \n",
              "      3000       4500       3500 "
            ],
            "text/latex": "\\begin{description*}\n\\item[아메리카노] 3000\n\\item[에스프레소] 4500\n\\item[화이트라뗴] 3500\n\\end{description*}\n",
            "text/markdown": "아메리카노\n:   3000에스프레소\n:   4500화이트라뗴\n:   3500\n\n",
            "text/html": [
              "<style>\n",
              ".dl-inline {width: auto; margin:0; padding: 0}\n",
              ".dl-inline>dt, .dl-inline>dd {float: none; width: auto; display: inline-block}\n",
              ".dl-inline>dt::after {content: \":\\0020\"; padding-right: .5ex}\n",
              ".dl-inline>dt:not(:first-of-type) {padding-left: .5ex}\n",
              "</style><dl class=dl-inline><dt>아메리카노</dt><dd>3000</dd><dt>에스프레소</dt><dd>4500</dd><dt>화이트라뗴</dt><dd>3500</dd></dl>\n"
            ]
          },
          "metadata": {
            "tags": []
          }
        }
      ]
    },
    {
      "cell_type": "code",
      "metadata": {
        "colab": {
          "base_uri": "https://localhost:8080/",
          "height": 34
        },
        "id": "bStiZPqmhf-C",
        "outputId": "f2c31020-accb-427a-93d3-64759f28130a"
      },
      "source": [
        "coffee[3] <- 3000\n",
        "coffee['카페모카']"
      ],
      "execution_count": 25,
      "outputs": [
        {
          "output_type": "display_data",
          "data": {
            "text/plain": [
              "카페모카 \n",
              "    3000 "
            ],
            "text/latex": "\\textbf{카페모카:} 3000",
            "text/markdown": "**카페모카:** 3000",
            "text/html": [
              "<strong>카페모카:</strong> 3000"
            ]
          },
          "metadata": {
            "tags": []
          }
        }
      ]
    },
    {
      "cell_type": "code",
      "metadata": {
        "colab": {
          "base_uri": "https://localhost:8080/",
          "height": 34
        },
        "id": "y6u4LvjWJK9l",
        "outputId": "74ec45e8-c186-49bb-911a-95b713fc48b1"
      },
      "source": [
        "coffee[2:4]"
      ],
      "execution_count": 26,
      "outputs": [
        {
          "output_type": "display_data",
          "data": {
            "text/plain": [
              "에스프레소   카페모카 화이트라뗴 \n",
              "      4500       3000       3500 "
            ],
            "text/latex": "\\begin{description*}\n\\item[에스프레소] 4500\n\\item[카페모카] 3000\n\\item[화이트라뗴] 3500\n\\end{description*}\n",
            "text/markdown": "에스프레소\n:   4500카페모카\n:   3000화이트라뗴\n:   3500\n\n",
            "text/html": [
              "<style>\n",
              ".dl-inline {width: auto; margin:0; padding: 0}\n",
              ".dl-inline>dt, .dl-inline>dd {float: none; width: auto; display: inline-block}\n",
              ".dl-inline>dt::after {content: \":\\0020\"; padding-right: .5ex}\n",
              ".dl-inline>dt:not(:first-of-type) {padding-left: .5ex}\n",
              "</style><dl class=dl-inline><dt>에스프레소</dt><dd>4500</dd><dt>카페모카</dt><dd>3000</dd><dt>화이트라뗴</dt><dd>3500</dd></dl>\n"
            ]
          },
          "metadata": {
            "tags": []
          }
        }
      ]
    },
    {
      "cell_type": "markdown",
      "metadata": {
        "id": "Q4p3fQbYkWCQ"
      },
      "source": [
        "__벡터 연산__"
      ]
    },
    {
      "cell_type": "code",
      "metadata": {
        "colab": {
          "base_uri": "https://localhost:8080/",
          "height": 34
        },
        "id": "yfgcyxF3JekR",
        "outputId": "993a1c5b-8134-4b69-fb5f-5c0b2cbd394f"
      },
      "source": [
        "coffee[2] + 2000"
      ],
      "execution_count": 27,
      "outputs": [
        {
          "output_type": "display_data",
          "data": {
            "text/plain": [
              "에스프레소 \n",
              "      6500 "
            ],
            "text/latex": "\\textbf{에스프레소:} 6500",
            "text/markdown": "**에스프레소:** 6500",
            "text/html": [
              "<strong>에스프레소:</strong> 6500"
            ]
          },
          "metadata": {
            "tags": []
          }
        }
      ]
    },
    {
      "cell_type": "code",
      "metadata": {
        "colab": {
          "base_uri": "https://localhost:8080/",
          "height": 34
        },
        "id": "aRWzoUBgh7T3",
        "outputId": "5403428a-bc04-4520-8336-3070b64cedd6"
      },
      "source": [
        "coffee + 1000"
      ],
      "execution_count": null,
      "outputs": [
        {
          "output_type": "display_data",
          "data": {
            "text/plain": [
              "아메리카노 에스프레소   카페모카 화이트라뗴 \n",
              "      4000       5500       4000       4500 "
            ],
            "text/latex": "\\begin{description*}\n\\item[아메리카노] 4000\n\\item[에스프레소] 5500\n\\item[카페모카] 4000\n\\item[화이트라뗴] 4500\n\\end{description*}\n",
            "text/markdown": "아메리카노\n:   4000에스프레소\n:   5500카페모카\n:   4000화이트라뗴\n:   4500\n\n",
            "text/html": [
              "<style>\n",
              ".dl-inline {width: auto; margin:0; padding: 0}\n",
              ".dl-inline>dt, .dl-inline>dd {float: none; width: auto; display: inline-block}\n",
              ".dl-inline>dt::after {content: \":\\0020\"; padding-right: .5ex}\n",
              ".dl-inline>dt:not(:first-of-type) {padding-left: .5ex}\n",
              "</style><dl class=dl-inline><dt>아메리카노</dt><dd>4000</dd><dt>에스프레소</dt><dd>5500</dd><dt>카페모카</dt><dd>4000</dd><dt>화이트라뗴</dt><dd>4500</dd></dl>\n"
            ]
          },
          "metadata": {
            "tags": []
          }
        }
      ]
    },
    {
      "cell_type": "code",
      "metadata": {
        "colab": {
          "base_uri": "https://localhost:8080/",
          "height": 34
        },
        "id": "sVVHluCWfi-5",
        "outputId": "3f97a2b8-71b0-4524-cba1-568946d83ff9"
      },
      "source": [
        "x + 2"
      ],
      "execution_count": null,
      "outputs": [
        {
          "output_type": "display_data",
          "data": {
            "text/plain": [
              "[1] 1 2 3 4 5 6 7"
            ],
            "text/latex": "\\begin{enumerate*}\n\\item 1\n\\item 2\n\\item 3\n\\item 4\n\\item 5\n\\item 6\n\\item 7\n\\end{enumerate*}\n",
            "text/markdown": "1. 1\n2. 2\n3. 3\n4. 4\n5. 5\n6. 6\n7. 7\n\n\n",
            "text/html": [
              "<style>\n",
              ".list-inline {list-style: none; margin:0; padding: 0}\n",
              ".list-inline>li {display: inline-block}\n",
              ".list-inline>li:not(:last-child)::after {content: \"\\00b7\"; padding: 0 .5ex}\n",
              "</style>\n",
              "<ol class=list-inline><li>1</li><li>2</li><li>3</li><li>4</li><li>5</li><li>6</li><li>7</li></ol>\n"
            ]
          },
          "metadata": {
            "tags": []
          }
        }
      ]
    },
    {
      "cell_type": "code",
      "metadata": {
        "colab": {
          "base_uri": "https://localhost:8080/",
          "height": 34
        },
        "id": "HKKuyB7yjCns",
        "outputId": "94386cfb-0e79-401a-f57e-4e78c2a6f0ed"
      },
      "source": [
        "shop1 <- c(15,10,7,3)\n",
        "shop2 <- c(20,10,3,8)\n",
        "shop1 + shop2"
      ],
      "execution_count": null,
      "outputs": [
        {
          "output_type": "display_data",
          "data": {
            "text/plain": [
              "[1] 35 20 10 11"
            ],
            "text/latex": "\\begin{enumerate*}\n\\item 35\n\\item 20\n\\item 10\n\\item 11\n\\end{enumerate*}\n",
            "text/markdown": "1. 35\n2. 20\n3. 10\n4. 11\n\n\n",
            "text/html": [
              "<style>\n",
              ".list-inline {list-style: none; margin:0; padding: 0}\n",
              ".list-inline>li {display: inline-block}\n",
              ".list-inline>li:not(:last-child)::after {content: \"\\00b7\"; padding: 0 .5ex}\n",
              "</style>\n",
              "<ol class=list-inline><li>35</li><li>20</li><li>10</li><li>11</li></ol>\n"
            ]
          },
          "metadata": {
            "tags": []
          }
        }
      ]
    },
    {
      "cell_type": "code",
      "metadata": {
        "colab": {
          "base_uri": "https://localhost:8080/",
          "height": 34
        },
        "id": "anYG9rhI45po",
        "outputId": "111d5a79-f8e3-43d4-f7cf-21b027a991e5"
      },
      "source": [
        "'헐크'%in%irums"
      ],
      "execution_count": null,
      "outputs": [
        {
          "output_type": "display_data",
          "data": {
            "text/plain": [
              "[1] FALSE"
            ],
            "text/latex": "FALSE",
            "text/markdown": "FALSE",
            "text/html": [
              "FALSE"
            ]
          },
          "metadata": {
            "tags": []
          }
        }
      ]
    },
    {
      "cell_type": "code",
      "metadata": {
        "colab": {
          "base_uri": "https://localhost:8080/",
          "height": 34
        },
        "id": "JHbBc3DS5AKS",
        "outputId": "5efcecc5-0195-40b2-a6ad-164aefff3f99"
      },
      "source": [
        "'도둑'%in%irums"
      ],
      "execution_count": null,
      "outputs": [
        {
          "output_type": "display_data",
          "data": {
            "text/plain": [
              "[1] TRUE"
            ],
            "text/latex": "TRUE",
            "text/markdown": "TRUE",
            "text/html": [
              "TRUE"
            ]
          },
          "metadata": {
            "tags": []
          }
        }
      ]
    },
    {
      "cell_type": "code",
      "metadata": {
        "colab": {
          "base_uri": "https://localhost:8080/",
          "height": 34
        },
        "id": "FgaksdHMks8e",
        "outputId": "0e333f06-3feb-4d0f-b372-3a99b6709feb"
      },
      "source": [
        "length(x)"
      ],
      "execution_count": null,
      "outputs": [
        {
          "output_type": "display_data",
          "data": {
            "text/plain": [
              "[1] 7"
            ],
            "text/latex": "7",
            "text/markdown": "7",
            "text/html": [
              "7"
            ]
          },
          "metadata": {
            "tags": []
          }
        }
      ]
    },
    {
      "cell_type": "code",
      "metadata": {
        "colab": {
          "base_uri": "https://localhost:8080/",
          "height": 34
        },
        "id": "7z4DHH53kyFT",
        "outputId": "647fd129-e7e5-4cc4-f9d7-1b6ea1fec23e"
      },
      "source": [
        "NROW(x)"
      ],
      "execution_count": null,
      "outputs": [
        {
          "output_type": "display_data",
          "data": {
            "text/plain": [
              "[1] 7"
            ],
            "text/latex": "7",
            "text/markdown": "7",
            "text/html": [
              "7"
            ]
          },
          "metadata": {
            "tags": []
          }
        }
      ]
    },
    {
      "cell_type": "markdown",
      "metadata": {
        "id": "Ybjz4RzOkZ1j"
      },
      "source": [
        "__벡터 집합 연산__"
      ]
    },
    {
      "cell_type": "code",
      "metadata": {
        "colab": {
          "base_uri": "https://localhost:8080/",
          "height": 34
        },
        "id": "bacLHP5FjDk0",
        "outputId": "70cd1ee0-35c4-4643-91be-11f26dccacea"
      },
      "source": [
        "union(shop1, shop2)"
      ],
      "execution_count": null,
      "outputs": [
        {
          "output_type": "display_data",
          "data": {
            "text/plain": [
              "[1] 15 10  7  3 20  8"
            ],
            "text/latex": "\\begin{enumerate*}\n\\item 15\n\\item 10\n\\item 7\n\\item 3\n\\item 20\n\\item 8\n\\end{enumerate*}\n",
            "text/markdown": "1. 15\n2. 10\n3. 7\n4. 3\n5. 20\n6. 8\n\n\n",
            "text/html": [
              "<style>\n",
              ".list-inline {list-style: none; margin:0; padding: 0}\n",
              ".list-inline>li {display: inline-block}\n",
              ".list-inline>li:not(:last-child)::after {content: \"\\00b7\"; padding: 0 .5ex}\n",
              "</style>\n",
              "<ol class=list-inline><li>15</li><li>10</li><li>7</li><li>3</li><li>20</li><li>8</li></ol>\n"
            ]
          },
          "metadata": {
            "tags": []
          }
        }
      ]
    },
    {
      "cell_type": "code",
      "metadata": {
        "colab": {
          "base_uri": "https://localhost:8080/",
          "height": 34
        },
        "id": "vW56RVXEjSHG",
        "outputId": "b32a81d3-f604-4de6-c120-d94c74f13b8e"
      },
      "source": [
        "intersect(shop1, shop2)"
      ],
      "execution_count": null,
      "outputs": [
        {
          "output_type": "display_data",
          "data": {
            "text/plain": [
              "[1] 10  3"
            ],
            "text/latex": "\\begin{enumerate*}\n\\item 10\n\\item 3\n\\end{enumerate*}\n",
            "text/markdown": "1. 10\n2. 3\n\n\n",
            "text/html": [
              "<style>\n",
              ".list-inline {list-style: none; margin:0; padding: 0}\n",
              ".list-inline>li {display: inline-block}\n",
              ".list-inline>li:not(:last-child)::after {content: \"\\00b7\"; padding: 0 .5ex}\n",
              "</style>\n",
              "<ol class=list-inline><li>10</li><li>3</li></ol>\n"
            ]
          },
          "metadata": {
            "tags": []
          }
        }
      ]
    },
    {
      "cell_type": "code",
      "metadata": {
        "colab": {
          "base_uri": "https://localhost:8080/",
          "height": 34
        },
        "id": "4xEFtV9ujaVp",
        "outputId": "f5ae83ff-afa5-4e15-a8f6-cfed4da76877"
      },
      "source": [
        "setdiff(shop1, shop2)"
      ],
      "execution_count": null,
      "outputs": [
        {
          "output_type": "display_data",
          "data": {
            "text/plain": [
              "[1] 15  7"
            ],
            "text/latex": "\\begin{enumerate*}\n\\item 15\n\\item 7\n\\end{enumerate*}\n",
            "text/markdown": "1. 15\n2. 7\n\n\n",
            "text/html": [
              "<style>\n",
              ".list-inline {list-style: none; margin:0; padding: 0}\n",
              ".list-inline>li {display: inline-block}\n",
              ".list-inline>li:not(:last-child)::after {content: \"\\00b7\"; padding: 0 .5ex}\n",
              "</style>\n",
              "<ol class=list-inline><li>15</li><li>7</li></ol>\n"
            ]
          },
          "metadata": {
            "tags": []
          }
        }
      ]
    },
    {
      "cell_type": "code",
      "metadata": {
        "id": "ozfGOzEwjgrz",
        "colab": {
          "base_uri": "https://localhost:8080/",
          "height": 34
        },
        "outputId": "44e06f57-9a44-440a-bb24-a57c676e3463"
      },
      "source": [
        "shop1 <- c(shop1, shop2)\n",
        "shop2 <- c(shop2, shop1)\n",
        "identical(shop1, shop2)"
      ],
      "execution_count": null,
      "outputs": [
        {
          "output_type": "display_data",
          "data": {
            "text/plain": [
              "[1] FALSE"
            ],
            "text/latex": "FALSE",
            "text/markdown": "FALSE",
            "text/html": [
              "FALSE"
            ]
          },
          "metadata": {
            "tags": []
          }
        }
      ]
    },
    {
      "cell_type": "code",
      "metadata": {
        "colab": {
          "base_uri": "https://localhost:8080/",
          "height": 34
        },
        "id": "n1iEyAWcjqIA",
        "outputId": "c8a49667-1460-4cb7-b1ae-14da353a1282"
      },
      "source": [
        "setequal(shop1, shop2)"
      ],
      "execution_count": null,
      "outputs": [
        {
          "output_type": "display_data",
          "data": {
            "text/plain": [
              "[1] TRUE"
            ],
            "text/latex": "TRUE",
            "text/markdown": "TRUE",
            "text/html": [
              "TRUE"
            ]
          },
          "metadata": {
            "tags": []
          }
        }
      ]
    },
    {
      "cell_type": "markdown",
      "metadata": {
        "id": "ky-ZOPLGkdYp"
      },
      "source": [
        "__factor형__"
      ]
    },
    {
      "cell_type": "code",
      "metadata": {
        "colab": {
          "base_uri": "https://localhost:8080/",
          "height": 67
        },
        "id": "YkOBJKpYPxV5",
        "outputId": "40b35d06-73de-4d9c-9576-81556af19b78"
      },
      "source": [
        "pet <- factor(c('dog','dog','dog','cat','alligator'))\n",
        "pet  # 목록 추출"
      ],
      "execution_count": null,
      "outputs": [
        {
          "output_type": "display_data",
          "data": {
            "text/plain": [
              "[1] dog       dog       dog       cat       alligator\n",
              "Levels: alligator cat dog"
            ],
            "text/latex": "\\begin{enumerate*}\n\\item dog\n\\item dog\n\\item dog\n\\item cat\n\\item alligator\n\\end{enumerate*}\n\n\\emph{Levels}: \\begin{enumerate*}\n\\item 'alligator'\n\\item 'cat'\n\\item 'dog'\n\\end{enumerate*}\n",
            "text/markdown": "1. dog\n2. dog\n3. dog\n4. cat\n5. alligator\n\n\n\n**Levels**: 1. 'alligator'\n2. 'cat'\n3. 'dog'\n\n\n",
            "text/html": [
              "<style>\n",
              ".list-inline {list-style: none; margin:0; padding: 0}\n",
              ".list-inline>li {display: inline-block}\n",
              ".list-inline>li:not(:last-child)::after {content: \"\\00b7\"; padding: 0 .5ex}\n",
              "</style>\n",
              "<ol class=list-inline><li>dog</li><li>dog</li><li>dog</li><li>cat</li><li>alligator</li></ol>\n",
              "\n",
              "<details>\n",
              "\t<summary style=display:list-item;cursor:pointer>\n",
              "\t\t<strong>Levels</strong>:\n",
              "\t</summary>\n",
              "\t<style>\n",
              "\t.list-inline {list-style: none; margin:0; padding: 0}\n",
              "\t.list-inline>li {display: inline-block}\n",
              "\t.list-inline>li:not(:last-child)::after {content: \"\\00b7\"; padding: 0 .5ex}\n",
              "\t</style>\n",
              "\t<ol class=list-inline><li>'alligator'</li><li>'cat'</li><li>'dog'</li></ol>\n",
              "</details>"
            ]
          },
          "metadata": {
            "tags": []
          }
        }
      ]
    },
    {
      "cell_type": "code",
      "metadata": {
        "colab": {
          "base_uri": "https://localhost:8080/",
          "height": 67
        },
        "id": "TKZDMNnHQSOy",
        "outputId": "9347a58d-2789-45ab-ff93-413e2c620bc0"
      },
      "source": [
        "religion <- factor(c('천주교','기독교','기독교','불교','불교','무교'), c('기독교','불교'))\n",
        "religion"
      ],
      "execution_count": 17,
      "outputs": [
        {
          "output_type": "display_data",
          "data": {
            "text/plain": [
              "[1] <NA>   기독교 기독교 불교   불교   <NA>  \n",
              "Levels: 기독교 불교"
            ],
            "text/latex": "\\begin{enumerate*}\n\\item <NA>\n\\item 기독교\n\\item 기독교\n\\item 불교\n\\item 불교\n\\item <NA>\n\\end{enumerate*}\n\n\\emph{Levels}: \\begin{enumerate*}\n\\item '기독교'\n\\item '불교'\n\\end{enumerate*}\n",
            "text/markdown": "1. &lt;NA&gt;\n2. 기독교\n3. 기독교\n4. 불교\n5. 불교\n6. &lt;NA&gt;\n\n\n\n**Levels**: 1. '기독교'\n2. '불교'\n\n\n",
            "text/html": [
              "<style>\n",
              ".list-inline {list-style: none; margin:0; padding: 0}\n",
              ".list-inline>li {display: inline-block}\n",
              ".list-inline>li:not(:last-child)::after {content: \"\\00b7\"; padding: 0 .5ex}\n",
              "</style>\n",
              "<ol class=list-inline><li>&lt;NA&gt;</li><li>기독교</li><li>기독교</li><li>불교</li><li>불교</li><li>&lt;NA&gt;</li></ol>\n",
              "\n",
              "<details>\n",
              "\t<summary style=display:list-item;cursor:pointer>\n",
              "\t\t<strong>Levels</strong>:\n",
              "\t</summary>\n",
              "\t<style>\n",
              "\t.list-inline {list-style: none; margin:0; padding: 0}\n",
              "\t.list-inline>li {display: inline-block}\n",
              "\t.list-inline>li:not(:last-child)::after {content: \"\\00b7\"; padding: 0 .5ex}\n",
              "\t</style>\n",
              "\t<ol class=list-inline><li>'기독교'</li><li>'불교'</li></ol>\n",
              "</details>"
            ]
          },
          "metadata": {
            "tags": []
          }
        }
      ]
    },
    {
      "cell_type": "code",
      "metadata": {
        "colab": {
          "base_uri": "https://localhost:8080/",
          "height": 50
        },
        "id": "m9O42Q2oQ8NY",
        "outputId": "fc3ed3c1-5d93-4607-cd9b-afce49c57a56"
      },
      "source": [
        "width <- factor(c('18평','24평','24평','33평','33평','33평','18평'), ordered=TRUE)\n",
        "width"
      ],
      "execution_count": 21,
      "outputs": [
        {
          "output_type": "display_data",
          "data": {
            "text/plain": [
              "[1] 18평 24평 24평 33평 33평 33평 18평\n",
              "Levels: 18평 < 24평 < 33평"
            ],
            "text/latex": "\\begin{enumerate*}\n\\item 18평\n\\item 24평\n\\item 24평\n\\item 33평\n\\item 33평\n\\item 33평\n\\item 18평\n\\end{enumerate*}\n\n\\emph{Levels}: \\begin{enumerate*}\n\\item '18평'\n\\item '24평'\n\\item '33평'\n\\end{enumerate*}\n",
            "text/markdown": "1. 18평\n2. 24평\n3. 24평\n4. 33평\n5. 33평\n6. 33평\n7. 18평\n\n\n\n**Levels**: 1. '18평'\n2. '24평'\n3. '33평'\n\n\n",
            "text/html": [
              "<style>\n",
              ".list-inline {list-style: none; margin:0; padding: 0}\n",
              ".list-inline>li {display: inline-block}\n",
              ".list-inline>li:not(:last-child)::after {content: \"\\00b7\"; padding: 0 .5ex}\n",
              "</style>\n",
              "<ol class=list-inline><li>18평</li><li>24평</li><li>24평</li><li>33평</li><li>33평</li><li>33평</li><li>18평</li></ol>\n",
              "\n",
              "<details>\n",
              "\t<summary style=display:list-item;cursor:pointer>\n",
              "\t\t<strong>Levels</strong>:\n",
              "\t</summary>\n",
              "\t<style>\n",
              "\t.list-inline {list-style: none; margin:0; padding: 0}\n",
              "\t.list-inline>li {display: inline-block}\n",
              "\t.list-inline>li:not(:last-child)::after {content: \"\\00b7\"; padding: 0 .5ex}\n",
              "\t</style>\n",
              "\t<ol class=list-inline><li>'18평'</li><li>'24평'</li><li>'33평'</li></ol>\n",
              "</details>"
            ]
          },
          "metadata": {
            "tags": []
          }
        }
      ]
    },
    {
      "cell_type": "code",
      "metadata": {
        "colab": {
          "base_uri": "https://localhost:8080/",
          "height": 70
        },
        "id": "GE81tJX0RlXo",
        "outputId": "c0808b17-7532-4709-8251-3a6e8cfbc22f"
      },
      "source": [
        "table(religion)"
      ],
      "execution_count": null,
      "outputs": [
        {
          "output_type": "display_data",
          "data": {
            "text/plain": [
              "religion\n",
              "기독교   불교 \n",
              "     2      2 "
            ]
          },
          "metadata": {
            "tags": []
          }
        }
      ]
    },
    {
      "cell_type": "code",
      "metadata": {
        "colab": {
          "base_uri": "https://localhost:8080/",
          "height": 34
        },
        "id": "QVUVb8iwRrIb",
        "outputId": "643a1216-4656-40db-db6e-4efaa20669ec"
      },
      "source": [
        "unclass(width)"
      ],
      "execution_count": 22,
      "outputs": [
        {
          "output_type": "display_data",
          "data": {
            "text/plain": [
              "[1] 1 2 2 3 3 3 1\n",
              "attr(,\"levels\")\n",
              "[1] \"18평\" \"24평\" \"33평\""
            ],
            "text/latex": "\\begin{enumerate*}\n\\item 1\n\\item 2\n\\item 2\n\\item 3\n\\item 3\n\\item 3\n\\item 1\n\\end{enumerate*}\n",
            "text/markdown": "1. 1\n2. 2\n3. 2\n4. 3\n5. 3\n6. 3\n7. 1\n\n\n",
            "text/html": [
              "<style>\n",
              ".list-inline {list-style: none; margin:0; padding: 0}\n",
              ".list-inline>li {display: inline-block}\n",
              ".list-inline>li:not(:last-child)::after {content: \"\\00b7\"; padding: 0 .5ex}\n",
              "</style>\n",
              "<ol class=list-inline><li>1</li><li>2</li><li>2</li><li>3</li><li>3</li><li>3</li><li>1</li></ol>\n"
            ]
          },
          "metadata": {
            "tags": []
          }
        }
      ]
    },
    {
      "cell_type": "markdown",
      "metadata": {
        "id": "_ZjRoM_bCZ6j"
      },
      "source": [
        "##리스트"
      ]
    },
    {
      "cell_type": "markdown",
      "metadata": {
        "id": "BnBoRpRYK07T"
      },
      "source": [
        "__리스트 생성__"
      ]
    },
    {
      "cell_type": "code",
      "metadata": {
        "colab": {
          "base_uri": "https://localhost:8080/",
          "height": 112
        },
        "id": "HaE2XiOksP8J",
        "outputId": "5fb62fcf-5674-4bd0-839f-bcf176f5d341"
      },
      "source": [
        "my1 <- list(\"지윤영\",\"대학생\",\"서울\",2.5)\n",
        "my1"
      ],
      "execution_count": null,
      "outputs": [
        {
          "output_type": "display_data",
          "data": {
            "text/plain": [
              "[[1]]\n",
              "[1] \"지윤영\"\n",
              "\n",
              "[[2]]\n",
              "[1] \"대학생\"\n",
              "\n",
              "[[3]]\n",
              "[1] \"서울\"\n",
              "\n",
              "[[4]]\n",
              "[1] 2.5\n"
            ],
            "text/latex": "\\begin{enumerate}\n\\item '지윤영'\n\\item '대학생'\n\\item '서울'\n\\item 2.5\n\\end{enumerate}\n",
            "text/markdown": "1. '지윤영'\n2. '대학생'\n3. '서울'\n4. 2.5\n\n\n",
            "text/html": [
              "<ol>\n",
              "\t<li>'지윤영'</li>\n",
              "\t<li>'대학생'</li>\n",
              "\t<li>'서울'</li>\n",
              "\t<li>2.5</li>\n",
              "</ol>\n"
            ]
          },
          "metadata": {
            "tags": []
          }
        }
      ]
    },
    {
      "cell_type": "code",
      "metadata": {
        "colab": {
          "base_uri": "https://localhost:8080/",
          "height": 146
        },
        "id": "-mG5FoAQscir",
        "outputId": "63cba950-992d-4665-c93c-80826b4fd6e4"
      },
      "source": [
        "myfavorit <- list(friend='김지수',mynum=4,myalpha='w')\n",
        "myfavorit"
      ],
      "execution_count": 28,
      "outputs": [
        {
          "output_type": "display_data",
          "data": {
            "text/plain": [
              "$friend\n",
              "[1] \"김지수\"\n",
              "\n",
              "$mynum\n",
              "[1] 4\n",
              "\n",
              "$myalpha\n",
              "[1] \"w\"\n"
            ],
            "text/latex": "\\begin{description}\n\\item[\\$friend] '김지수'\n\\item[\\$mynum] 4\n\\item[\\$myalpha] 'w'\n\\end{description}\n",
            "text/markdown": "$friend\n:   '김지수'\n$mynum\n:   4\n$myalpha\n:   'w'\n\n\n",
            "text/html": [
              "<dl>\n",
              "\t<dt>$friend</dt>\n",
              "\t\t<dd>'김지수'</dd>\n",
              "\t<dt>$mynum</dt>\n",
              "\t\t<dd>4</dd>\n",
              "\t<dt>$myalpha</dt>\n",
              "\t\t<dd>'w'</dd>\n",
              "</dl>\n"
            ]
          },
          "metadata": {
            "tags": []
          }
        }
      ]
    },
    {
      "cell_type": "markdown",
      "metadata": {
        "id": "HcEbpSgSLCT8"
      },
      "source": [
        "__인덱싱__"
      ]
    },
    {
      "cell_type": "code",
      "metadata": {
        "colab": {
          "base_uri": "https://localhost:8080/",
          "height": 34
        },
        "id": "3PJNDsR9stiz",
        "outputId": "1e46646f-021a-4063-e670-b353f82dfee8"
      },
      "source": [
        "myfavorit$myalpha"
      ],
      "execution_count": null,
      "outputs": [
        {
          "output_type": "display_data",
          "data": {
            "text/plain": [
              "[1] \"w\""
            ],
            "text/latex": "'w'",
            "text/markdown": "'w'",
            "text/html": [
              "'w'"
            ]
          },
          "metadata": {
            "tags": []
          }
        }
      ]
    },
    {
      "cell_type": "code",
      "metadata": {
        "colab": {
          "base_uri": "https://localhost:8080/",
          "height": 179
        },
        "id": "CbwBDXnYs5HM",
        "outputId": "aa4b89a3-1914-4fb2-deac-f35f36f4747a"
      },
      "source": [
        "myfavorit$mysong <- 'festa'\n",
        "myfavorit"
      ],
      "execution_count": null,
      "outputs": [
        {
          "output_type": "display_data",
          "data": {
            "text/plain": [
              "$friend\n",
              "[1] \"김지수\"\n",
              "\n",
              "$mynum\n",
              "[1] 4\n",
              "\n",
              "$myalpha\n",
              "[1] \"w\"\n",
              "\n",
              "$mysong\n",
              "[1] \"festa\"\n"
            ],
            "text/latex": "\\begin{description}\n\\item[\\$friend] '김지수'\n\\item[\\$mynum] 4\n\\item[\\$myalpha] 'w'\n\\item[\\$mysong] 'festa'\n\\end{description}\n",
            "text/markdown": "$friend\n:   '김지수'\n$mynum\n:   4\n$myalpha\n:   'w'\n$mysong\n:   'festa'\n\n\n",
            "text/html": [
              "<dl>\n",
              "\t<dt>$friend</dt>\n",
              "\t\t<dd>'김지수'</dd>\n",
              "\t<dt>$mynum</dt>\n",
              "\t\t<dd>4</dd>\n",
              "\t<dt>$myalpha</dt>\n",
              "\t\t<dd>'w'</dd>\n",
              "\t<dt>$mysong</dt>\n",
              "\t\t<dd>'festa'</dd>\n",
              "</dl>\n"
            ]
          },
          "metadata": {
            "tags": []
          }
        }
      ]
    },
    {
      "cell_type": "code",
      "metadata": {
        "colab": {
          "base_uri": "https://localhost:8080/",
          "height": 179
        },
        "id": "SEq5dphfulYM",
        "outputId": "ca04d242-1668-4063-8283-1ee80afa5aba"
      },
      "source": [
        "myfavorit$friend <- c('김지수','류건욱')\n",
        "myfavorit"
      ],
      "execution_count": null,
      "outputs": [
        {
          "output_type": "display_data",
          "data": {
            "text/plain": [
              "$friend\n",
              "[1] \"김지수\" \"류건욱\"\n",
              "\n",
              "$mynum\n",
              "[1] 4\n",
              "\n",
              "$myalpha\n",
              "[1] \"w\"\n",
              "\n",
              "$mysong\n",
              "[1] \"festa\"\n"
            ],
            "text/latex": "\\begin{description}\n\\item[\\$friend] \\begin{enumerate*}\n\\item '김지수'\n\\item '류건욱'\n\\end{enumerate*}\n\n\\item[\\$mynum] 4\n\\item[\\$myalpha] 'w'\n\\item[\\$mysong] 'festa'\n\\end{description}\n",
            "text/markdown": "$friend\n:   1. '김지수'\n2. '류건욱'\n\n\n\n$mynum\n:   4\n$myalpha\n:   'w'\n$mysong\n:   'festa'\n\n\n",
            "text/html": [
              "<dl>\n",
              "\t<dt>$friend</dt>\n",
              "\t\t<dd><style>\n",
              ".list-inline {list-style: none; margin:0; padding: 0}\n",
              ".list-inline>li {display: inline-block}\n",
              ".list-inline>li:not(:last-child)::after {content: \"\\00b7\"; padding: 0 .5ex}\n",
              "</style>\n",
              "<ol class=list-inline><li>'김지수'</li><li>'류건욱'</li></ol>\n",
              "</dd>\n",
              "\t<dt>$mynum</dt>\n",
              "\t\t<dd>4</dd>\n",
              "\t<dt>$myalpha</dt>\n",
              "\t\t<dd>'w'</dd>\n",
              "\t<dt>$mysong</dt>\n",
              "\t\t<dd>'festa'</dd>\n",
              "</dl>\n"
            ]
          },
          "metadata": {
            "tags": []
          }
        }
      ]
    },
    {
      "cell_type": "markdown",
      "metadata": {
        "id": "sTRhXxZTjXyC"
      },
      "source": [
        "##행렬"
      ]
    },
    {
      "cell_type": "markdown",
      "metadata": {
        "id": "t3UCjMJ_LTpH"
      },
      "source": [
        "__행렬 생성__"
      ]
    },
    {
      "cell_type": "code",
      "metadata": {
        "colab": {
          "base_uri": "https://localhost:8080/",
          "height": 112
        },
        "id": "-Y9MBKjfv2vw",
        "outputId": "57078df5-8b09-44f9-fb7c-a60935456253"
      },
      "source": [
        "age <- matrix(c(25,33,32,37,27,38), nrow=2)\n",
        "age"
      ],
      "execution_count": 44,
      "outputs": [
        {
          "output_type": "display_data",
          "data": {
            "text/plain": [
              "     [,1] [,2] [,3]\n",
              "[1,] 25   32   27  \n",
              "[2,] 33   37   38  "
            ],
            "text/latex": "A matrix: 2 × 3 of type dbl\n\\begin{tabular}{lll}\n\t 25 & 32 & 27\\\\\n\t 33 & 37 & 38\\\\\n\\end{tabular}\n",
            "text/markdown": "\nA matrix: 2 × 3 of type dbl\n\n| 25 | 32 | 27 |\n| 33 | 37 | 38 |\n\n",
            "text/html": [
              "<table class=\"dataframe\">\n",
              "<caption>A matrix: 2 × 3 of type dbl</caption>\n",
              "<tbody>\n",
              "\t<tr><td>25</td><td>32</td><td>27</td></tr>\n",
              "\t<tr><td>33</td><td>37</td><td>38</td></tr>\n",
              "</tbody>\n",
              "</table>\n"
            ]
          },
          "metadata": {
            "tags": []
          }
        }
      ]
    },
    {
      "cell_type": "code",
      "metadata": {
        "colab": {
          "base_uri": "https://localhost:8080/",
          "height": 112
        },
        "id": "jZXPNHz5wMau",
        "outputId": "a72d8168-fb69-445e-bbc5-886f2d4c9796"
      },
      "source": [
        "age <- matrix(c(25,33,32,37,27,38), nrow=2, byrow=TRUE)\n",
        "age"
      ],
      "execution_count": null,
      "outputs": [
        {
          "output_type": "display_data",
          "data": {
            "text/plain": [
              "     [,1] [,2] [,3]\n",
              "[1,] 25   33   32  \n",
              "[2,] 37   27   38  "
            ],
            "text/latex": "A matrix: 2 × 3 of type dbl\n\\begin{tabular}{lll}\n\t 25 & 33 & 32\\\\\n\t 37 & 27 & 38\\\\\n\\end{tabular}\n",
            "text/markdown": "\nA matrix: 2 × 3 of type dbl\n\n| 25 | 33 | 32 |\n| 37 | 27 | 38 |\n\n",
            "text/html": [
              "<table class=\"dataframe\">\n",
              "<caption>A matrix: 2 × 3 of type dbl</caption>\n",
              "<tbody>\n",
              "\t<tr><td>25</td><td>33</td><td>32</td></tr>\n",
              "\t<tr><td>37</td><td>27</td><td>38</td></tr>\n",
              "</tbody>\n",
              "</table>\n"
            ]
          },
          "metadata": {
            "tags": []
          }
        }
      ]
    },
    {
      "cell_type": "markdown",
      "metadata": {
        "id": "paanJwKdLr5a"
      },
      "source": [
        "__행렬 이름 생성__"
      ]
    },
    {
      "cell_type": "code",
      "metadata": {
        "colab": {
          "base_uri": "https://localhost:8080/",
          "height": 174
        },
        "id": "3sb4JDIcwUWZ",
        "outputId": "186d4253-115d-46e6-c652-ea774a794ddb"
      },
      "source": [
        "info <- matrix(c('177cm','68kg','156cm','57kg','160cm','48kg','175kg','60kg'), ncol=2, byrow=TRUE)\n",
        "info"
      ],
      "execution_count": null,
      "outputs": [
        {
          "output_type": "display_data",
          "data": {
            "text/plain": [
              "     [,1]  [,2]\n",
              "[1,] 177cm 68kg\n",
              "[2,] 156cm 57kg\n",
              "[3,] 160cm 48kg\n",
              "[4,] 175kg 60kg"
            ],
            "text/latex": "A matrix: 4 × 2 of type chr\n\\begin{tabular}{ll}\n\t 177cm & 68kg\\\\\n\t 156cm & 57kg\\\\\n\t 160cm & 48kg\\\\\n\t 175kg & 60kg\\\\\n\\end{tabular}\n",
            "text/markdown": "\nA matrix: 4 × 2 of type chr\n\n| 177cm | 68kg |\n| 156cm | 57kg |\n| 160cm | 48kg |\n| 175kg | 60kg |\n\n",
            "text/html": [
              "<table class=\"dataframe\">\n",
              "<caption>A matrix: 4 × 2 of type chr</caption>\n",
              "<tbody>\n",
              "\t<tr><td>177cm</td><td>68kg</td></tr>\n",
              "\t<tr><td>156cm</td><td>57kg</td></tr>\n",
              "\t<tr><td>160cm</td><td>48kg</td></tr>\n",
              "\t<tr><td>175kg</td><td>60kg</td></tr>\n",
              "</tbody>\n",
              "</table>\n"
            ]
          },
          "metadata": {
            "tags": []
          }
        }
      ]
    },
    {
      "cell_type": "code",
      "metadata": {
        "colab": {
          "base_uri": "https://localhost:8080/",
          "height": 206
        },
        "id": "py-Qdfggw9AA",
        "outputId": "697ee96d-729e-4b35-9163-98442cf17eab"
      },
      "source": [
        "dimnames(info) <- list(c('1번','2번','3번','4번'), c('키','몸무게'))\n",
        "info"
      ],
      "execution_count": null,
      "outputs": [
        {
          "output_type": "display_data",
          "data": {
            "text/plain": [
              "    키    몸무게\n",
              "1번 177cm 68kg  \n",
              "2번 156cm 57kg  \n",
              "3번 160cm 48kg  \n",
              "4번 175kg 60kg  "
            ],
            "text/latex": "A matrix: 4 × 2 of type chr\n\\begin{tabular}{r|ll}\n  & 키 & 몸무게\\\\\n\\hline\n\t1번 & 177cm & 68kg\\\\\n\t2번 & 156cm & 57kg\\\\\n\t3번 & 160cm & 48kg\\\\\n\t4번 & 175kg & 60kg\\\\\n\\end{tabular}\n",
            "text/markdown": "\nA matrix: 4 × 2 of type chr\n\n| <!--/--> | 키 | 몸무게 |\n|---|---|---|\n| 1번 | 177cm | 68kg |\n| 2번 | 156cm | 57kg |\n| 3번 | 160cm | 48kg |\n| 4번 | 175kg | 60kg |\n\n",
            "text/html": [
              "<table class=\"dataframe\">\n",
              "<caption>A matrix: 4 × 2 of type chr</caption>\n",
              "<thead>\n",
              "\t<tr><th></th><th scope=col>키</th><th scope=col>몸무게</th></tr>\n",
              "</thead>\n",
              "<tbody>\n",
              "\t<tr><th scope=row>1번</th><td>177cm</td><td>68kg</td></tr>\n",
              "\t<tr><th scope=row>2번</th><td>156cm</td><td>57kg</td></tr>\n",
              "\t<tr><th scope=row>3번</th><td>160cm</td><td>48kg</td></tr>\n",
              "\t<tr><th scope=row>4번</th><td>175kg</td><td>60kg</td></tr>\n",
              "</tbody>\n",
              "</table>\n"
            ]
          },
          "metadata": {
            "tags": []
          }
        }
      ]
    },
    {
      "cell_type": "code",
      "metadata": {
        "colab": {
          "base_uri": "https://localhost:8080/"
        },
        "id": "jLFBr2U2xKXz",
        "outputId": "296dfe27-4723-474b-ca5e-247d2bdf0977"
      },
      "source": [
        "example(dimnames)"
      ],
      "execution_count": null,
      "outputs": [
        {
          "output_type": "stream",
          "text": [
            "\n",
            "dimnms> ## simple versions of rownames and colnames\n",
            "dimnms> ## could be defined as follows\n",
            "dimnms> rownames0 <- function(x) dimnames(x)[[1]]\n",
            "\n",
            "dimnms> colnames0 <- function(x) dimnames(x)[[2]]\n",
            "\n",
            "dimnms> (dn <- dimnames(A <- provideDimnames(N <- array(1:24, dim = 2:4))))\n",
            "[[1]]\n",
            "[1] \"A\" \"B\"\n",
            "\n",
            "[[2]]\n",
            "[1] \"A\" \"B\" \"C\"\n",
            "\n",
            "[[3]]\n",
            "[1] \"A\" \"B\" \"C\" \"D\"\n",
            "\n",
            "\n",
            "dimnms> A0 <- A; dimnames(A)[2:3] <- list(NULL)\n",
            "\n",
            "dimnms> stopifnot(identical(A0, provideDimnames(A)))\n",
            "\n",
            "dimnms> strd <- function(x) utils::str(dimnames(x))\n",
            "\n",
            "dimnms> strd(provideDimnames(A, base= list(letters[-(1:9)], tail(LETTERS))))\n",
            "List of 3\n",
            " $ : chr [1:2] \"A\" \"B\"\n",
            " $ : chr [1:3] \"U\" \"V\" \"W\"\n",
            " $ : chr [1:4] \"j\" \"k\" \"l\" \"m\"\n",
            "\n",
            "dimnms> strd(provideDimnames(N, base= list(letters[-(1:9)], tail(LETTERS)))) # recycling\n",
            "List of 3\n",
            " $ : chr [1:2] \"j\" \"k\"\n",
            " $ : chr [1:3] \"U\" \"V\" \"W\"\n",
            " $ : chr [1:4] \"j\" \"k\" \"l\" \"m\"\n",
            "\n",
            "dimnms> strd(provideDimnames(A, base= list(c(\"AA\",\"BB\")))) # recycling on both levels\n",
            "List of 3\n",
            " $ : chr [1:2] \"A\" \"B\"\n",
            " $ : chr [1:3] \"AA\" \"BB\" \"AA1\"\n",
            " $ : chr [1:4] \"AA\" \"BB\" \"AA1\" \"BB1\"\n",
            "\n",
            "dimnms> ## set \"empty dimnames\":\n",
            "dimnms> provideDimnames(rbind(1, 2:3), base = list(\"\"), unique=FALSE)\n",
            "    \n",
            " 1 1\n",
            " 2 3\n"
          ],
          "name": "stdout"
        }
      ]
    },
    {
      "cell_type": "markdown",
      "metadata": {
        "id": "kmxlhJkcMNGF"
      },
      "source": [
        "__행 추가__"
      ]
    },
    {
      "cell_type": "code",
      "metadata": {
        "colab": {
          "base_uri": "https://localhost:8080/",
          "height": 250
        },
        "id": "9sifhUCixxHd",
        "outputId": "b6cfb10d-7842-4510-c284-b21a4a15b8a7"
      },
      "source": [
        "a1 <- c('180cm','70kg','남')\n",
        "a2 <- c('185cm','68kg','남')\n",
        "rbind(info, a1, a2)"
      ],
      "execution_count": null,
      "outputs": [
        {
          "output_type": "display_data",
          "data": {
            "text/plain": [
              "    키    몸무게   \n",
              "1번 177cm 68kg   남\n",
              "2번 156cm 57kg   남\n",
              "3번 160cm 48kg   여\n",
              "4번 175kg 60kg   여\n",
              "a1  180cm 70kg   남\n",
              "a2  185cm 68kg   남"
            ],
            "text/latex": "A matrix: 6 × 3 of type chr\n\\begin{tabular}{r|lll}\n  & 키 & 몸무게 & \\\\\n\\hline\n\t1번 & 177cm & 68kg & 남\\\\\n\t2번 & 156cm & 57kg & 남\\\\\n\t3번 & 160cm & 48kg & 여\\\\\n\t4번 & 175kg & 60kg & 여\\\\\n\ta1 & 180cm & 70kg & 남\\\\\n\ta2 & 185cm & 68kg & 남\\\\\n\\end{tabular}\n",
            "text/markdown": "\nA matrix: 6 × 3 of type chr\n\n| <!--/--> | 키 | 몸무게 | <!----> |\n|---|---|---|---|\n| 1번 | 177cm | 68kg | 남 |\n| 2번 | 156cm | 57kg | 남 |\n| 3번 | 160cm | 48kg | 여 |\n| 4번 | 175kg | 60kg | 여 |\n| a1 | 180cm | 70kg | 남 |\n| a2 | 185cm | 68kg | 남 |\n\n",
            "text/html": [
              "<table class=\"dataframe\">\n",
              "<caption>A matrix: 6 × 3 of type chr</caption>\n",
              "<thead>\n",
              "\t<tr><th></th><th scope=col>키</th><th scope=col>몸무게</th><th scope=col></th></tr>\n",
              "</thead>\n",
              "<tbody>\n",
              "\t<tr><th scope=row>1번</th><td>177cm</td><td>68kg</td><td>남</td></tr>\n",
              "\t<tr><th scope=row>2번</th><td>156cm</td><td>57kg</td><td>남</td></tr>\n",
              "\t<tr><th scope=row>3번</th><td>160cm</td><td>48kg</td><td>여</td></tr>\n",
              "\t<tr><th scope=row>4번</th><td>175kg</td><td>60kg</td><td>여</td></tr>\n",
              "\t<tr><th scope=row>a1</th><td>180cm</td><td>70kg</td><td>남</td></tr>\n",
              "\t<tr><th scope=row>a2</th><td>185cm</td><td>68kg</td><td>남</td></tr>\n",
              "</tbody>\n",
              "</table>\n"
            ]
          },
          "metadata": {
            "tags": []
          }
        }
      ]
    },
    {
      "cell_type": "markdown",
      "metadata": {
        "id": "18vltl_AMIKX"
      },
      "source": [
        "__열 추가__"
      ]
    },
    {
      "cell_type": "code",
      "metadata": {
        "colab": {
          "base_uri": "https://localhost:8080/",
          "height": 189
        },
        "id": "FDc3dnBnxYve",
        "outputId": "16420156-afe3-4baf-958a-6050761de157"
      },
      "source": [
        "info <- cbind(info, c('남','남','여','여'))\n",
        "info"
      ],
      "execution_count": null,
      "outputs": [
        {
          "output_type": "display_data",
          "data": {
            "text/plain": [
              "    키    몸무게   \n",
              "1번 177cm 68kg   남\n",
              "2번 156cm 57kg   남\n",
              "3번 160cm 48kg   여\n",
              "4번 175kg 60kg   여"
            ],
            "text/latex": "A matrix: 4 × 3 of type chr\n\\begin{tabular}{r|lll}\n  & 키 & 몸무게 & \\\\\n\\hline\n\t1번 & 177cm & 68kg & 남\\\\\n\t2번 & 156cm & 57kg & 남\\\\\n\t3번 & 160cm & 48kg & 여\\\\\n\t4번 & 175kg & 60kg & 여\\\\\n\\end{tabular}\n",
            "text/markdown": "\nA matrix: 4 × 3 of type chr\n\n| <!--/--> | 키 | 몸무게 | <!----> |\n|---|---|---|---|\n| 1번 | 177cm | 68kg | 남 |\n| 2번 | 156cm | 57kg | 남 |\n| 3번 | 160cm | 48kg | 여 |\n| 4번 | 175kg | 60kg | 여 |\n\n",
            "text/html": [
              "<table class=\"dataframe\">\n",
              "<caption>A matrix: 4 × 3 of type chr</caption>\n",
              "<thead>\n",
              "\t<tr><th></th><th scope=col>키</th><th scope=col>몸무게</th><th scope=col></th></tr>\n",
              "</thead>\n",
              "<tbody>\n",
              "\t<tr><th scope=row>1번</th><td>177cm</td><td>68kg</td><td>남</td></tr>\n",
              "\t<tr><th scope=row>2번</th><td>156cm</td><td>57kg</td><td>남</td></tr>\n",
              "\t<tr><th scope=row>3번</th><td>160cm</td><td>48kg</td><td>여</td></tr>\n",
              "\t<tr><th scope=row>4번</th><td>175kg</td><td>60kg</td><td>여</td></tr>\n",
              "</tbody>\n",
              "</table>\n"
            ]
          },
          "metadata": {
            "tags": []
          }
        }
      ]
    },
    {
      "cell_type": "code",
      "metadata": {
        "colab": {
          "base_uri": "https://localhost:8080/",
          "height": 189
        },
        "id": "eXwWVJR7yFda",
        "outputId": "41752d6b-2ddf-431b-b643-95dd43e21157"
      },
      "source": [
        "dimnames(info) <- list(c('1번','2번','3번','4번'), c('키','몸무게', '성별'))  # 행렬 이름 다시 생성\n",
        "info"
      ],
      "execution_count": null,
      "outputs": [
        {
          "output_type": "display_data",
          "data": {
            "text/plain": [
              "    키    몸무게 성별\n",
              "1번 177cm 68kg   남  \n",
              "2번 156cm 57kg   남  \n",
              "3번 160cm 48kg   여  \n",
              "4번 175kg 60kg   여  "
            ],
            "text/latex": "A matrix: 4 × 3 of type chr\n\\begin{tabular}{r|lll}\n  & 키 & 몸무게 & 성별\\\\\n\\hline\n\t1번 & 177cm & 68kg & 남\\\\\n\t2번 & 156cm & 57kg & 남\\\\\n\t3번 & 160cm & 48kg & 여\\\\\n\t4번 & 175kg & 60kg & 여\\\\\n\\end{tabular}\n",
            "text/markdown": "\nA matrix: 4 × 3 of type chr\n\n| <!--/--> | 키 | 몸무게 | 성별 |\n|---|---|---|---|\n| 1번 | 177cm | 68kg | 남 |\n| 2번 | 156cm | 57kg | 남 |\n| 3번 | 160cm | 48kg | 여 |\n| 4번 | 175kg | 60kg | 여 |\n\n",
            "text/html": [
              "<table class=\"dataframe\">\n",
              "<caption>A matrix: 4 × 3 of type chr</caption>\n",
              "<thead>\n",
              "\t<tr><th></th><th scope=col>키</th><th scope=col>몸무게</th><th scope=col>성별</th></tr>\n",
              "</thead>\n",
              "<tbody>\n",
              "\t<tr><th scope=row>1번</th><td>177cm</td><td>68kg</td><td>남</td></tr>\n",
              "\t<tr><th scope=row>2번</th><td>156cm</td><td>57kg</td><td>남</td></tr>\n",
              "\t<tr><th scope=row>3번</th><td>160cm</td><td>48kg</td><td>여</td></tr>\n",
              "\t<tr><th scope=row>4번</th><td>175kg</td><td>60kg</td><td>여</td></tr>\n",
              "</tbody>\n",
              "</table>\n"
            ]
          },
          "metadata": {
            "tags": []
          }
        }
      ]
    },
    {
      "cell_type": "markdown",
      "metadata": {
        "id": "NX-OdhFtjjLn"
      },
      "source": [
        "##데이터 프레임"
      ]
    },
    {
      "cell_type": "markdown",
      "metadata": {
        "id": "CYK_nrsTXS8K"
      },
      "source": [
        "__데이터 프레임 생성__"
      ]
    },
    {
      "cell_type": "code",
      "metadata": {
        "colab": {
          "base_uri": "https://localhost:8080/",
          "height": 206
        },
        "id": "U9mFBujdzzGa",
        "outputId": "cc391bf1-3ef3-4c7a-88d2-d8a651d1e9b6"
      },
      "source": [
        "df <- data.frame(irum=c('조정순','한민애','고승민'), age=c(43,27,34))\n",
        "df"
      ],
      "execution_count": 34,
      "outputs": [
        {
          "output_type": "display_data",
          "data": {
            "text/plain": [
              "  irum   age\n",
              "1 조정순 43 \n",
              "2 한민애 27 \n",
              "3 고승민 34 "
            ],
            "text/latex": "A data.frame: 3 × 2\n\\begin{tabular}{ll}\n irum & age\\\\\n <chr> & <dbl>\\\\\n\\hline\n\t 조정순 & 43\\\\\n\t 한민애 & 27\\\\\n\t 고승민 & 34\\\\\n\\end{tabular}\n",
            "text/markdown": "\nA data.frame: 3 × 2\n\n| irum &lt;chr&gt; | age &lt;dbl&gt; |\n|---|---|\n| 조정순 | 43 |\n| 한민애 | 27 |\n| 고승민 | 34 |\n\n",
            "text/html": [
              "<table class=\"dataframe\">\n",
              "<caption>A data.frame: 3 × 2</caption>\n",
              "<thead>\n",
              "\t<tr><th scope=col>irum</th><th scope=col>age</th></tr>\n",
              "\t<tr><th scope=col>&lt;chr&gt;</th><th scope=col>&lt;dbl&gt;</th></tr>\n",
              "</thead>\n",
              "<tbody>\n",
              "\t<tr><td>조정순</td><td>43</td></tr>\n",
              "\t<tr><td>한민애</td><td>27</td></tr>\n",
              "\t<tr><td>고승민</td><td>34</td></tr>\n",
              "</tbody>\n",
              "</table>\n"
            ]
          },
          "metadata": {
            "tags": []
          }
        }
      ]
    },
    {
      "cell_type": "code",
      "metadata": {
        "colab": {
          "base_uri": "https://localhost:8080/",
          "height": 206
        },
        "id": "FlcZI2vN0Vpm",
        "outputId": "f28a4197-1c71-46a0-b79f-57c439de8bd7"
      },
      "source": [
        "irum <- c('조정순','한민애','고승민')\n",
        "age <- c(43,27,34)\n",
        "df2 <- data.frame(이름=irum,나이=age)\n",
        "df2"
      ],
      "execution_count": 35,
      "outputs": [
        {
          "output_type": "display_data",
          "data": {
            "text/plain": [
              "  이름   나이\n",
              "1 조정순 43  \n",
              "2 한민애 27  \n",
              "3 고승민 34  "
            ],
            "text/latex": "A data.frame: 3 × 2\n\\begin{tabular}{ll}\n 이름 & 나이\\\\\n <chr> & <dbl>\\\\\n\\hline\n\t 조정순 & 43\\\\\n\t 한민애 & 27\\\\\n\t 고승민 & 34\\\\\n\\end{tabular}\n",
            "text/markdown": "\nA data.frame: 3 × 2\n\n| 이름 &lt;chr&gt; | 나이 &lt;dbl&gt; |\n|---|---|\n| 조정순 | 43 |\n| 한민애 | 27 |\n| 고승민 | 34 |\n\n",
            "text/html": [
              "<table class=\"dataframe\">\n",
              "<caption>A data.frame: 3 × 2</caption>\n",
              "<thead>\n",
              "\t<tr><th scope=col>이름</th><th scope=col>나이</th></tr>\n",
              "\t<tr><th scope=col>&lt;chr&gt;</th><th scope=col>&lt;dbl&gt;</th></tr>\n",
              "</thead>\n",
              "<tbody>\n",
              "\t<tr><td>조정순</td><td>43</td></tr>\n",
              "\t<tr><td>한민애</td><td>27</td></tr>\n",
              "\t<tr><td>고승민</td><td>34</td></tr>\n",
              "</tbody>\n",
              "</table>\n"
            ]
          },
          "metadata": {
            "tags": []
          }
        }
      ]
    },
    {
      "cell_type": "code",
      "metadata": {
        "colab": {
          "base_uri": "https://localhost:8080/",
          "height": 206
        },
        "id": "kH0zx-Zc1P2E",
        "outputId": "4a4e88ce-229c-4704-e067-216c87bb8c34"
      },
      "source": [
        "carinfo <- matrix(c('11km','13km','10km','h사','p사','r사'), ncol=2)\n",
        "dfr <- as.data.frame(carinfo)\n",
        "dfr"
      ],
      "execution_count": 47,
      "outputs": [
        {
          "output_type": "display_data",
          "data": {
            "text/plain": [
              "  V1   V2 \n",
              "1 11km h사\n",
              "2 13km p사\n",
              "3 10km r사"
            ],
            "text/latex": "A data.frame: 3 × 2\n\\begin{tabular}{ll}\n V1 & V2\\\\\n <chr> & <chr>\\\\\n\\hline\n\t 11km & h사\\\\\n\t 13km & p사\\\\\n\t 10km & r사\\\\\n\\end{tabular}\n",
            "text/markdown": "\nA data.frame: 3 × 2\n\n| V1 &lt;chr&gt; | V2 &lt;chr&gt; |\n|---|---|\n| 11km | h사 |\n| 13km | p사 |\n| 10km | r사 |\n\n",
            "text/html": [
              "<table class=\"dataframe\">\n",
              "<caption>A data.frame: 3 × 2</caption>\n",
              "<thead>\n",
              "\t<tr><th scope=col>V1</th><th scope=col>V2</th></tr>\n",
              "\t<tr><th scope=col>&lt;chr&gt;</th><th scope=col>&lt;chr&gt;</th></tr>\n",
              "</thead>\n",
              "<tbody>\n",
              "\t<tr><td>11km</td><td>h사</td></tr>\n",
              "\t<tr><td>13km</td><td>p사</td></tr>\n",
              "\t<tr><td>10km</td><td>r사</td></tr>\n",
              "</tbody>\n",
              "</table>\n"
            ]
          },
          "metadata": {
            "tags": []
          }
        }
      ]
    },
    {
      "cell_type": "code",
      "metadata": {
        "colab": {
          "base_uri": "https://localhost:8080/",
          "height": 34
        },
        "id": "Eu9W1Gh4lJpm",
        "outputId": "946f7995-cc39-40f2-c936-10fc1fd3d260"
      },
      "source": [
        "ncol(carinfo)"
      ],
      "execution_count": 48,
      "outputs": [
        {
          "output_type": "display_data",
          "data": {
            "text/plain": [
              "[1] 2"
            ],
            "text/latex": "2",
            "text/markdown": "2",
            "text/html": [
              "2"
            ]
          },
          "metadata": {
            "tags": []
          }
        }
      ]
    },
    {
      "cell_type": "code",
      "metadata": {
        "colab": {
          "base_uri": "https://localhost:8080/",
          "height": 34
        },
        "id": "57yS8LYnlM9h",
        "outputId": "3e6aa792-9631-4d9a-c1ac-42d29685c8b6"
      },
      "source": [
        "nrow(carinfo)"
      ],
      "execution_count": 49,
      "outputs": [
        {
          "output_type": "display_data",
          "data": {
            "text/plain": [
              "[1] 3"
            ],
            "text/latex": "3",
            "text/markdown": "3",
            "text/html": [
              "3"
            ]
          },
          "metadata": {
            "tags": []
          }
        }
      ]
    },
    {
      "cell_type": "markdown",
      "metadata": {
        "id": "9zELpOPpXqPg"
      },
      "source": [
        "__데이터 프레임 불러오기__"
      ]
    },
    {
      "cell_type": "code",
      "metadata": {
        "colab": {
          "base_uri": "https://localhost:8080/",
          "height": 34
        },
        "id": "Vjd0WFUMeG14",
        "outputId": "7e618701-9030-4a08-cde2-8d0cb02365bc"
      },
      "source": [
        "getwd()"
      ],
      "execution_count": null,
      "outputs": [
        {
          "output_type": "display_data",
          "data": {
            "text/plain": [
              "[1] \"/content\""
            ],
            "text/latex": "'/content'",
            "text/markdown": "'/content'",
            "text/html": [
              "'/content'"
            ]
          },
          "metadata": {
            "tags": []
          }
        }
      ]
    },
    {
      "cell_type": "code",
      "metadata": {
        "colab": {
          "base_uri": "https://localhost:8080/",
          "height": 250
        },
        "id": "78PGmkOP3NkR",
        "outputId": "39a87610-812e-4162-d917-0bb0a49cc2bc"
      },
      "source": [
        "pinfo <- read.table(\"/content/personal.txt\", header=TRUE, fileEncoding = \"EUC-KR\")  # 한글로 된 내용이 있는 경우\n",
        "pinfo  # colab에서는 임시로 사용할 수 있다"
      ],
      "execution_count": null,
      "outputs": [
        {
          "output_type": "display_data",
          "data": {
            "text/plain": [
              "  이름   거주지역 나이 성별\n",
              "1 홍민수 인천     25   남  \n",
              "2 조정란 경기     33   여  \n",
              "3 국정수 서울     43   남  \n",
              "4 라윤정 서울     35   여  \n",
              "5 한주연 인천     37   남  "
            ],
            "text/latex": "A data.frame: 5 × 4\n\\begin{tabular}{llll}\n 이름 & 거주지역 & 나이 & 성별\\\\\n <chr> & <chr> & <int> & <chr>\\\\\n\\hline\n\t 홍민수 & 인천 & 25 & 남\\\\\n\t 조정란 & 경기 & 33 & 여\\\\\n\t 국정수 & 서울 & 43 & 남\\\\\n\t 라윤정 & 서울 & 35 & 여\\\\\n\t 한주연 & 인천 & 37 & 남\\\\\n\\end{tabular}\n",
            "text/markdown": "\nA data.frame: 5 × 4\n\n| 이름 &lt;chr&gt; | 거주지역 &lt;chr&gt; | 나이 &lt;int&gt; | 성별 &lt;chr&gt; |\n|---|---|---|---|\n| 홍민수 | 인천 | 25 | 남 |\n| 조정란 | 경기 | 33 | 여 |\n| 국정수 | 서울 | 43 | 남 |\n| 라윤정 | 서울 | 35 | 여 |\n| 한주연 | 인천 | 37 | 남 |\n\n",
            "text/html": [
              "<table class=\"dataframe\">\n",
              "<caption>A data.frame: 5 × 4</caption>\n",
              "<thead>\n",
              "\t<tr><th scope=col>이름</th><th scope=col>거주지역</th><th scope=col>나이</th><th scope=col>성별</th></tr>\n",
              "\t<tr><th scope=col>&lt;chr&gt;</th><th scope=col>&lt;chr&gt;</th><th scope=col>&lt;int&gt;</th><th scope=col>&lt;chr&gt;</th></tr>\n",
              "</thead>\n",
              "<tbody>\n",
              "\t<tr><td>홍민수</td><td>인천</td><td>25</td><td>남</td></tr>\n",
              "\t<tr><td>조정란</td><td>경기</td><td>33</td><td>여</td></tr>\n",
              "\t<tr><td>국정수</td><td>서울</td><td>43</td><td>남</td></tr>\n",
              "\t<tr><td>라윤정</td><td>서울</td><td>35</td><td>여</td></tr>\n",
              "\t<tr><td>한주연</td><td>인천</td><td>37</td><td>남</td></tr>\n",
              "</tbody>\n",
              "</table>\n"
            ]
          },
          "metadata": {
            "tags": []
          }
        }
      ]
    },
    {
      "cell_type": "code",
      "metadata": {
        "colab": {
          "base_uri": "https://localhost:8080/",
          "height": 250
        },
        "id": "p5bVOsLnfnYo",
        "outputId": "cb850f94-4e8b-4c4f-a6a7-fe056ee9245b"
      },
      "source": [
        "system('gdown --id 1kVXF9gVuJ2EmT6XTAyYr5z50y4wDwQOF')\n",
        "pinfo <- read.table(\"personal.txt\", header=TRUE, fileEncoding = \"EUC-KR\")\n",
        "pinfo"
      ],
      "execution_count": 30,
      "outputs": [
        {
          "output_type": "display_data",
          "data": {
            "text/plain": [
              "  이름   거주지역 나이 성별\n",
              "1 홍민수 인천     25   남  \n",
              "2 조정란 경기     33   여  \n",
              "3 국정수 서울     43   남  \n",
              "4 라윤정 서울     35   여  \n",
              "5 한주연 인천     37   남  "
            ],
            "text/latex": "A data.frame: 5 × 4\n\\begin{tabular}{llll}\n 이름 & 거주지역 & 나이 & 성별\\\\\n <chr> & <chr> & <int> & <chr>\\\\\n\\hline\n\t 홍민수 & 인천 & 25 & 남\\\\\n\t 조정란 & 경기 & 33 & 여\\\\\n\t 국정수 & 서울 & 43 & 남\\\\\n\t 라윤정 & 서울 & 35 & 여\\\\\n\t 한주연 & 인천 & 37 & 남\\\\\n\\end{tabular}\n",
            "text/markdown": "\nA data.frame: 5 × 4\n\n| 이름 &lt;chr&gt; | 거주지역 &lt;chr&gt; | 나이 &lt;int&gt; | 성별 &lt;chr&gt; |\n|---|---|---|---|\n| 홍민수 | 인천 | 25 | 남 |\n| 조정란 | 경기 | 33 | 여 |\n| 국정수 | 서울 | 43 | 남 |\n| 라윤정 | 서울 | 35 | 여 |\n| 한주연 | 인천 | 37 | 남 |\n\n",
            "text/html": [
              "<table class=\"dataframe\">\n",
              "<caption>A data.frame: 5 × 4</caption>\n",
              "<thead>\n",
              "\t<tr><th scope=col>이름</th><th scope=col>거주지역</th><th scope=col>나이</th><th scope=col>성별</th></tr>\n",
              "\t<tr><th scope=col>&lt;chr&gt;</th><th scope=col>&lt;chr&gt;</th><th scope=col>&lt;int&gt;</th><th scope=col>&lt;chr&gt;</th></tr>\n",
              "</thead>\n",
              "<tbody>\n",
              "\t<tr><td>홍민수</td><td>인천</td><td>25</td><td>남</td></tr>\n",
              "\t<tr><td>조정란</td><td>경기</td><td>33</td><td>여</td></tr>\n",
              "\t<tr><td>국정수</td><td>서울</td><td>43</td><td>남</td></tr>\n",
              "\t<tr><td>라윤정</td><td>서울</td><td>35</td><td>여</td></tr>\n",
              "\t<tr><td>한주연</td><td>인천</td><td>37</td><td>남</td></tr>\n",
              "</tbody>\n",
              "</table>\n"
            ]
          },
          "metadata": {
            "tags": []
          }
        }
      ]
    },
    {
      "cell_type": "code",
      "metadata": {
        "colab": {
          "base_uri": "https://localhost:8080/",
          "height": 282
        },
        "id": "tsAUnD13eiZ9",
        "outputId": "a55d79ae-ab38-4f71-f2e8-ba2f425bf86b"
      },
      "source": [
        "system('gdown --id 1hq0Pxy5JtbVCgn6wsY0Z4uVSuPA329EL')\n",
        "pjobinfo <- read.table(\"pjob.txt\", header=TRUE, fileEncoding = \"EUC-KR\")\n",
        "pjobinfo"
      ],
      "execution_count": 31,
      "outputs": [
        {
          "output_type": "display_data",
          "data": {
            "text/plain": [
              "  이름   직업    \n",
              "1 홍민수 학생    \n",
              "2 조정란 공무원  \n",
              "3 박장곤 회사원  \n",
              "4 한지수 자영업  \n",
              "5 한주연 프리랜서\n",
              "6 주민정 학생    "
            ],
            "text/latex": "A data.frame: 6 × 2\n\\begin{tabular}{ll}\n 이름 & 직업\\\\\n <chr> & <chr>\\\\\n\\hline\n\t 홍민수 & 학생    \\\\\n\t 조정란 & 공무원  \\\\\n\t 박장곤 & 회사원  \\\\\n\t 한지수 & 자영업  \\\\\n\t 한주연 & 프리랜서\\\\\n\t 주민정 & 학생    \\\\\n\\end{tabular}\n",
            "text/markdown": "\nA data.frame: 6 × 2\n\n| 이름 &lt;chr&gt; | 직업 &lt;chr&gt; |\n|---|---|\n| 홍민수 | 학생     |\n| 조정란 | 공무원   |\n| 박장곤 | 회사원   |\n| 한지수 | 자영업   |\n| 한주연 | 프리랜서 |\n| 주민정 | 학생     |\n\n",
            "text/html": [
              "<table class=\"dataframe\">\n",
              "<caption>A data.frame: 6 × 2</caption>\n",
              "<thead>\n",
              "\t<tr><th scope=col>이름</th><th scope=col>직업</th></tr>\n",
              "\t<tr><th scope=col>&lt;chr&gt;</th><th scope=col>&lt;chr&gt;</th></tr>\n",
              "</thead>\n",
              "<tbody>\n",
              "\t<tr><td>홍민수</td><td>학생    </td></tr>\n",
              "\t<tr><td>조정란</td><td>공무원  </td></tr>\n",
              "\t<tr><td>박장곤</td><td>회사원  </td></tr>\n",
              "\t<tr><td>한지수</td><td>자영업  </td></tr>\n",
              "\t<tr><td>한주연</td><td>프리랜서</td></tr>\n",
              "\t<tr><td>주민정</td><td>학생    </td></tr>\n",
              "</tbody>\n",
              "</table>\n"
            ]
          },
          "metadata": {
            "tags": []
          }
        }
      ]
    },
    {
      "cell_type": "markdown",
      "metadata": {
        "id": "9HNnCQtXXbid"
      },
      "source": [
        "__데이터 프레임 이름 생성__"
      ]
    },
    {
      "cell_type": "code",
      "metadata": {
        "colab": {
          "base_uri": "https://localhost:8080/",
          "height": 206
        },
        "id": "PM1NOOvf14E7",
        "outputId": "d4fb97f1-a591-48c4-f668-15c3fa26213c"
      },
      "source": [
        "names(dfr) <- c('연비','제조사')\n",
        "dfr"
      ],
      "execution_count": 37,
      "outputs": [
        {
          "output_type": "display_data",
          "data": {
            "text/plain": [
              "  연비 제조사\n",
              "1 11km h사   \n",
              "2 13km p사   \n",
              "3 10km r사   "
            ],
            "text/latex": "A data.frame: 3 × 2\n\\begin{tabular}{ll}\n 연비 & 제조사\\\\\n <chr> & <chr>\\\\\n\\hline\n\t 11km & h사\\\\\n\t 13km & p사\\\\\n\t 10km & r사\\\\\n\\end{tabular}\n",
            "text/markdown": "\nA data.frame: 3 × 2\n\n| 연비 &lt;chr&gt; | 제조사 &lt;chr&gt; |\n|---|---|\n| 11km | h사 |\n| 13km | p사 |\n| 10km | r사 |\n\n",
            "text/html": [
              "<table class=\"dataframe\">\n",
              "<caption>A data.frame: 3 × 2</caption>\n",
              "<thead>\n",
              "\t<tr><th scope=col>연비</th><th scope=col>제조사</th></tr>\n",
              "\t<tr><th scope=col>&lt;chr&gt;</th><th scope=col>&lt;chr&gt;</th></tr>\n",
              "</thead>\n",
              "<tbody>\n",
              "\t<tr><td>11km</td><td>h사</td></tr>\n",
              "\t<tr><td>13km</td><td>p사</td></tr>\n",
              "\t<tr><td>10km</td><td>r사</td></tr>\n",
              "</tbody>\n",
              "</table>\n"
            ]
          },
          "metadata": {
            "tags": []
          }
        }
      ]
    },
    {
      "cell_type": "code",
      "metadata": {
        "colab": {
          "base_uri": "https://localhost:8080/",
          "height": 250
        },
        "id": "ebOcqXslkGeB",
        "outputId": "5b62ad6a-09fe-45c9-d8ad-7716470ac6c4"
      },
      "source": [
        "colnames(pinfo) <- c('성명','거주지','나이')\n",
        "pinfo"
      ],
      "execution_count": 38,
      "outputs": [
        {
          "output_type": "display_data",
          "data": {
            "text/plain": [
              "  성명   거주지 나이 <NA>\n",
              "1 홍민수 인천   25   남  \n",
              "2 조정란 경기   33   여  \n",
              "3 국정수 서울   43   남  \n",
              "4 라윤정 서울   35   여  \n",
              "5 한주연 인천   37   남  "
            ],
            "text/latex": "A data.frame: 5 × 4\n\\begin{tabular}{llll}\n 성명 & 거주지 & 나이 & NA\\\\\n <chr> & <chr> & <int> & <chr>\\\\\n\\hline\n\t 홍민수 & 인천 & 25 & 남\\\\\n\t 조정란 & 경기 & 33 & 여\\\\\n\t 국정수 & 서울 & 43 & 남\\\\\n\t 라윤정 & 서울 & 35 & 여\\\\\n\t 한주연 & 인천 & 37 & 남\\\\\n\\end{tabular}\n",
            "text/markdown": "\nA data.frame: 5 × 4\n\n| 성명 &lt;chr&gt; | 거주지 &lt;chr&gt; | 나이 &lt;int&gt; | NA &lt;chr&gt; |\n|---|---|---|---|\n| 홍민수 | 인천 | 25 | 남 |\n| 조정란 | 경기 | 33 | 여 |\n| 국정수 | 서울 | 43 | 남 |\n| 라윤정 | 서울 | 35 | 여 |\n| 한주연 | 인천 | 37 | 남 |\n\n",
            "text/html": [
              "<table class=\"dataframe\">\n",
              "<caption>A data.frame: 5 × 4</caption>\n",
              "<thead>\n",
              "\t<tr><th scope=col>성명</th><th scope=col>거주지</th><th scope=col>나이</th><th scope=col>NA</th></tr>\n",
              "\t<tr><th scope=col>&lt;chr&gt;</th><th scope=col>&lt;chr&gt;</th><th scope=col>&lt;int&gt;</th><th scope=col>&lt;chr&gt;</th></tr>\n",
              "</thead>\n",
              "<tbody>\n",
              "\t<tr><td>홍민수</td><td>인천</td><td>25</td><td>남</td></tr>\n",
              "\t<tr><td>조정란</td><td>경기</td><td>33</td><td>여</td></tr>\n",
              "\t<tr><td>국정수</td><td>서울</td><td>43</td><td>남</td></tr>\n",
              "\t<tr><td>라윤정</td><td>서울</td><td>35</td><td>여</td></tr>\n",
              "\t<tr><td>한주연</td><td>인천</td><td>37</td><td>남</td></tr>\n",
              "</tbody>\n",
              "</table>\n"
            ]
          },
          "metadata": {
            "tags": []
          }
        }
      ]
    },
    {
      "cell_type": "markdown",
      "metadata": {
        "id": "tNTr8HP5YGrQ"
      },
      "source": [
        "__열 추가__"
      ]
    },
    {
      "cell_type": "code",
      "metadata": {
        "colab": {
          "base_uri": "https://localhost:8080/",
          "height": 250
        },
        "id": "J1vHf0bcjJgU",
        "outputId": "824b2f59-2030-4085-9462-7d496b8914ae"
      },
      "source": [
        "data2 <- cbind(pinfo, 결혼=c(FALSE, TRUE, TRUE, FALSE, TRUE))\n",
        "data2"
      ],
      "execution_count": null,
      "outputs": [
        {
          "output_type": "display_data",
          "data": {
            "text/plain": [
              "  이름   거주지역 나이 성별 결혼 \n",
              "1 홍민수 인천     25   남   FALSE\n",
              "2 조정란 경기     33   여    TRUE\n",
              "3 국정수 서울     43   남    TRUE\n",
              "4 라윤정 서울     35   여   FALSE\n",
              "5 한주연 인천     37   남    TRUE"
            ],
            "text/latex": "A data.frame: 5 × 5\n\\begin{tabular}{lllll}\n 이름 & 거주지역 & 나이 & 성별 & 결혼\\\\\n <chr> & <chr> & <int> & <chr> & <lgl>\\\\\n\\hline\n\t 홍민수 & 인천 & 25 & 남 & FALSE\\\\\n\t 조정란 & 경기 & 33 & 여 &  TRUE\\\\\n\t 국정수 & 서울 & 43 & 남 &  TRUE\\\\\n\t 라윤정 & 서울 & 35 & 여 & FALSE\\\\\n\t 한주연 & 인천 & 37 & 남 &  TRUE\\\\\n\\end{tabular}\n",
            "text/markdown": "\nA data.frame: 5 × 5\n\n| 이름 &lt;chr&gt; | 거주지역 &lt;chr&gt; | 나이 &lt;int&gt; | 성별 &lt;chr&gt; | 결혼 &lt;lgl&gt; |\n|---|---|---|---|---|\n| 홍민수 | 인천 | 25 | 남 | FALSE |\n| 조정란 | 경기 | 33 | 여 |  TRUE |\n| 국정수 | 서울 | 43 | 남 |  TRUE |\n| 라윤정 | 서울 | 35 | 여 | FALSE |\n| 한주연 | 인천 | 37 | 남 |  TRUE |\n\n",
            "text/html": [
              "<table class=\"dataframe\">\n",
              "<caption>A data.frame: 5 × 5</caption>\n",
              "<thead>\n",
              "\t<tr><th scope=col>이름</th><th scope=col>거주지역</th><th scope=col>나이</th><th scope=col>성별</th><th scope=col>결혼</th></tr>\n",
              "\t<tr><th scope=col>&lt;chr&gt;</th><th scope=col>&lt;chr&gt;</th><th scope=col>&lt;int&gt;</th><th scope=col>&lt;chr&gt;</th><th scope=col>&lt;lgl&gt;</th></tr>\n",
              "</thead>\n",
              "<tbody>\n",
              "\t<tr><td>홍민수</td><td>인천</td><td>25</td><td>남</td><td>FALSE</td></tr>\n",
              "\t<tr><td>조정란</td><td>경기</td><td>33</td><td>여</td><td> TRUE</td></tr>\n",
              "\t<tr><td>국정수</td><td>서울</td><td>43</td><td>남</td><td> TRUE</td></tr>\n",
              "\t<tr><td>라윤정</td><td>서울</td><td>35</td><td>여</td><td>FALSE</td></tr>\n",
              "\t<tr><td>한주연</td><td>인천</td><td>37</td><td>남</td><td> TRUE</td></tr>\n",
              "</tbody>\n",
              "</table>\n"
            ]
          },
          "metadata": {
            "tags": []
          }
        }
      ]
    },
    {
      "cell_type": "code",
      "metadata": {
        "colab": {
          "base_uri": "https://localhost:8080/",
          "height": 250
        },
        "id": "VWmg4NMug8Bb",
        "outputId": "8b0b1187-7a3f-4763-b69d-f35c2c4f37b4"
      },
      "source": [
        "lifeinfo <- data.frame(취미 = c('목공예','패러글라이딩','등산','꽃꽃이','독서'), 관심사 = c('취업','아파트분양','주택대출','이직','교통인프라'))\n",
        "lifeinfo"
      ],
      "execution_count": null,
      "outputs": [
        {
          "output_type": "display_data",
          "data": {
            "text/plain": [
              "  취미         관심사    \n",
              "1 목공예       취업      \n",
              "2 패러글라이딩 아파트분양\n",
              "3 등산         주택대출  \n",
              "4 꽃꽃이       이직      \n",
              "5 독서         교통인프라"
            ],
            "text/latex": "A data.frame: 5 × 2\n\\begin{tabular}{ll}\n 취미 & 관심사\\\\\n <chr> & <chr>\\\\\n\\hline\n\t 목공예       & 취업      \\\\\n\t 패러글라이딩 & 아파트분양\\\\\n\t 등산         & 주택대출  \\\\\n\t 꽃꽃이       & 이직      \\\\\n\t 독서         & 교통인프라\\\\\n\\end{tabular}\n",
            "text/markdown": "\nA data.frame: 5 × 2\n\n| 취미 &lt;chr&gt; | 관심사 &lt;chr&gt; |\n|---|---|\n| 목공예       | 취업       |\n| 패러글라이딩 | 아파트분양 |\n| 등산         | 주택대출   |\n| 꽃꽃이       | 이직       |\n| 독서         | 교통인프라 |\n\n",
            "text/html": [
              "<table class=\"dataframe\">\n",
              "<caption>A data.frame: 5 × 2</caption>\n",
              "<thead>\n",
              "\t<tr><th scope=col>취미</th><th scope=col>관심사</th></tr>\n",
              "\t<tr><th scope=col>&lt;chr&gt;</th><th scope=col>&lt;chr&gt;</th></tr>\n",
              "</thead>\n",
              "<tbody>\n",
              "\t<tr><td>목공예      </td><td>취업      </td></tr>\n",
              "\t<tr><td>패러글라이딩</td><td>아파트분양</td></tr>\n",
              "\t<tr><td>등산        </td><td>주택대출  </td></tr>\n",
              "\t<tr><td>꽃꽃이      </td><td>이직      </td></tr>\n",
              "\t<tr><td>독서        </td><td>교통인프라</td></tr>\n",
              "</tbody>\n",
              "</table>\n"
            ]
          },
          "metadata": {
            "tags": []
          }
        }
      ]
    },
    {
      "cell_type": "code",
      "metadata": {
        "colab": {
          "base_uri": "https://localhost:8080/",
          "height": 250
        },
        "id": "lhlPw0JJhRXB",
        "outputId": "e24e120a-4303-424c-e5e2-ecd21ecc65a4"
      },
      "source": [
        "myinfo <- cbind(pinfo, lifeinfo)\n",
        "myinfo"
      ],
      "execution_count": null,
      "outputs": [
        {
          "output_type": "display_data",
          "data": {
            "text/plain": [
              "  이름   거주지역 나이 성별 취미         관심사    \n",
              "1 홍민수 인천     25   남   목공예       취업      \n",
              "2 조정란 경기     33   여   패러글라이딩 아파트분양\n",
              "3 국정수 서울     43   남   등산         주택대출  \n",
              "4 라윤정 서울     35   여   꽃꽃이       이직      \n",
              "5 한주연 인천     37   남   독서         교통인프라"
            ],
            "text/latex": "A data.frame: 5 × 6\n\\begin{tabular}{llllll}\n 이름 & 거주지역 & 나이 & 성별 & 취미 & 관심사\\\\\n <chr> & <chr> & <int> & <chr> & <chr> & <chr>\\\\\n\\hline\n\t 홍민수 & 인천 & 25 & 남 & 목공예       & 취업      \\\\\n\t 조정란 & 경기 & 33 & 여 & 패러글라이딩 & 아파트분양\\\\\n\t 국정수 & 서울 & 43 & 남 & 등산         & 주택대출  \\\\\n\t 라윤정 & 서울 & 35 & 여 & 꽃꽃이       & 이직      \\\\\n\t 한주연 & 인천 & 37 & 남 & 독서         & 교통인프라\\\\\n\\end{tabular}\n",
            "text/markdown": "\nA data.frame: 5 × 6\n\n| 이름 &lt;chr&gt; | 거주지역 &lt;chr&gt; | 나이 &lt;int&gt; | 성별 &lt;chr&gt; | 취미 &lt;chr&gt; | 관심사 &lt;chr&gt; |\n|---|---|---|---|---|---|\n| 홍민수 | 인천 | 25 | 남 | 목공예       | 취업       |\n| 조정란 | 경기 | 33 | 여 | 패러글라이딩 | 아파트분양 |\n| 국정수 | 서울 | 43 | 남 | 등산         | 주택대출   |\n| 라윤정 | 서울 | 35 | 여 | 꽃꽃이       | 이직       |\n| 한주연 | 인천 | 37 | 남 | 독서         | 교통인프라 |\n\n",
            "text/html": [
              "<table class=\"dataframe\">\n",
              "<caption>A data.frame: 5 × 6</caption>\n",
              "<thead>\n",
              "\t<tr><th scope=col>이름</th><th scope=col>거주지역</th><th scope=col>나이</th><th scope=col>성별</th><th scope=col>취미</th><th scope=col>관심사</th></tr>\n",
              "\t<tr><th scope=col>&lt;chr&gt;</th><th scope=col>&lt;chr&gt;</th><th scope=col>&lt;int&gt;</th><th scope=col>&lt;chr&gt;</th><th scope=col>&lt;chr&gt;</th><th scope=col>&lt;chr&gt;</th></tr>\n",
              "</thead>\n",
              "<tbody>\n",
              "\t<tr><td>홍민수</td><td>인천</td><td>25</td><td>남</td><td>목공예      </td><td>취업      </td></tr>\n",
              "\t<tr><td>조정란</td><td>경기</td><td>33</td><td>여</td><td>패러글라이딩</td><td>아파트분양</td></tr>\n",
              "\t<tr><td>국정수</td><td>서울</td><td>43</td><td>남</td><td>등산        </td><td>주택대출  </td></tr>\n",
              "\t<tr><td>라윤정</td><td>서울</td><td>35</td><td>여</td><td>꽃꽃이      </td><td>이직      </td></tr>\n",
              "\t<tr><td>한주연</td><td>인천</td><td>37</td><td>남</td><td>독서        </td><td>교통인프라</td></tr>\n",
              "</tbody>\n",
              "</table>\n"
            ]
          },
          "metadata": {
            "tags": []
          }
        }
      ]
    },
    {
      "cell_type": "markdown",
      "metadata": {
        "id": "B1z-6lT2YNO1"
      },
      "source": [
        "__행 추가__"
      ]
    },
    {
      "cell_type": "code",
      "metadata": {
        "colab": {
          "base_uri": "https://localhost:8080/",
          "height": 158
        },
        "id": "M1X4WnaShZnV",
        "outputId": "c1d46742-b632-4862-f673-5806b6bde403"
      },
      "source": [
        "otherinfo <- data.frame(이름 = c('황성주','윤준영'), 거주지역 = c('강원','충북'), 나이 = c(42, 45), 성별 = c('여','여'))\n",
        "otherinfo"
      ],
      "execution_count": null,
      "outputs": [
        {
          "output_type": "display_data",
          "data": {
            "text/plain": [
              "  이름   거주지역 나이 성별\n",
              "1 황성주 강원     42   여  \n",
              "2 윤준영 충북     45   여  "
            ],
            "text/latex": "A data.frame: 2 × 4\n\\begin{tabular}{llll}\n 이름 & 거주지역 & 나이 & 성별\\\\\n <chr> & <chr> & <dbl> & <chr>\\\\\n\\hline\n\t 황성주 & 강원 & 42 & 여\\\\\n\t 윤준영 & 충북 & 45 & 여\\\\\n\\end{tabular}\n",
            "text/markdown": "\nA data.frame: 2 × 4\n\n| 이름 &lt;chr&gt; | 거주지역 &lt;chr&gt; | 나이 &lt;dbl&gt; | 성별 &lt;chr&gt; |\n|---|---|---|---|\n| 황성주 | 강원 | 42 | 여 |\n| 윤준영 | 충북 | 45 | 여 |\n\n",
            "text/html": [
              "<table class=\"dataframe\">\n",
              "<caption>A data.frame: 2 × 4</caption>\n",
              "<thead>\n",
              "\t<tr><th scope=col>이름</th><th scope=col>거주지역</th><th scope=col>나이</th><th scope=col>성별</th></tr>\n",
              "\t<tr><th scope=col>&lt;chr&gt;</th><th scope=col>&lt;chr&gt;</th><th scope=col>&lt;dbl&gt;</th><th scope=col>&lt;chr&gt;</th></tr>\n",
              "</thead>\n",
              "<tbody>\n",
              "\t<tr><td>황성주</td><td>강원</td><td>42</td><td>여</td></tr>\n",
              "\t<tr><td>윤준영</td><td>충북</td><td>45</td><td>여</td></tr>\n",
              "</tbody>\n",
              "</table>\n"
            ]
          },
          "metadata": {
            "tags": []
          }
        }
      ]
    },
    {
      "cell_type": "code",
      "metadata": {
        "colab": {
          "base_uri": "https://localhost:8080/",
          "height": 312
        },
        "id": "A20tPHLZhwX1",
        "outputId": "cd1d6b90-797b-4f95-df7d-d9086c89a003"
      },
      "source": [
        "totinfo <- rbind(pinfo, otherinfo)\n",
        "totinfo"
      ],
      "execution_count": null,
      "outputs": [
        {
          "output_type": "display_data",
          "data": {
            "text/plain": [
              "  이름   거주지역 나이 성별\n",
              "1 홍민수 인천     25   남  \n",
              "2 조정란 경기     33   여  \n",
              "3 국정수 서울     43   남  \n",
              "4 라윤정 서울     35   여  \n",
              "5 한주연 인천     37   남  \n",
              "6 황성주 강원     42   여  \n",
              "7 윤준영 충북     45   여  "
            ],
            "text/latex": "A data.frame: 7 × 4\n\\begin{tabular}{llll}\n 이름 & 거주지역 & 나이 & 성별\\\\\n <chr> & <chr> & <dbl> & <chr>\\\\\n\\hline\n\t 홍민수 & 인천 & 25 & 남\\\\\n\t 조정란 & 경기 & 33 & 여\\\\\n\t 국정수 & 서울 & 43 & 남\\\\\n\t 라윤정 & 서울 & 35 & 여\\\\\n\t 한주연 & 인천 & 37 & 남\\\\\n\t 황성주 & 강원 & 42 & 여\\\\\n\t 윤준영 & 충북 & 45 & 여\\\\\n\\end{tabular}\n",
            "text/markdown": "\nA data.frame: 7 × 4\n\n| 이름 &lt;chr&gt; | 거주지역 &lt;chr&gt; | 나이 &lt;dbl&gt; | 성별 &lt;chr&gt; |\n|---|---|---|---|\n| 홍민수 | 인천 | 25 | 남 |\n| 조정란 | 경기 | 33 | 여 |\n| 국정수 | 서울 | 43 | 남 |\n| 라윤정 | 서울 | 35 | 여 |\n| 한주연 | 인천 | 37 | 남 |\n| 황성주 | 강원 | 42 | 여 |\n| 윤준영 | 충북 | 45 | 여 |\n\n",
            "text/html": [
              "<table class=\"dataframe\">\n",
              "<caption>A data.frame: 7 × 4</caption>\n",
              "<thead>\n",
              "\t<tr><th scope=col>이름</th><th scope=col>거주지역</th><th scope=col>나이</th><th scope=col>성별</th></tr>\n",
              "\t<tr><th scope=col>&lt;chr&gt;</th><th scope=col>&lt;chr&gt;</th><th scope=col>&lt;dbl&gt;</th><th scope=col>&lt;chr&gt;</th></tr>\n",
              "</thead>\n",
              "<tbody>\n",
              "\t<tr><td>홍민수</td><td>인천</td><td>25</td><td>남</td></tr>\n",
              "\t<tr><td>조정란</td><td>경기</td><td>33</td><td>여</td></tr>\n",
              "\t<tr><td>국정수</td><td>서울</td><td>43</td><td>남</td></tr>\n",
              "\t<tr><td>라윤정</td><td>서울</td><td>35</td><td>여</td></tr>\n",
              "\t<tr><td>한주연</td><td>인천</td><td>37</td><td>남</td></tr>\n",
              "\t<tr><td>황성주</td><td>강원</td><td>42</td><td>여</td></tr>\n",
              "\t<tr><td>윤준영</td><td>충북</td><td>45</td><td>여</td></tr>\n",
              "</tbody>\n",
              "</table>\n"
            ]
          },
          "metadata": {
            "tags": []
          }
        }
      ]
    },
    {
      "cell_type": "markdown",
      "metadata": {
        "id": "JmYyWiGHYi3B"
      },
      "source": [
        "__데이터 프레임 병합__"
      ]
    },
    {
      "cell_type": "code",
      "metadata": {
        "colab": {
          "base_uri": "https://localhost:8080/",
          "height": 189
        },
        "id": "3tCJgS2SiDyY",
        "outputId": "e986cbf2-6a0d-4d21-aad7-12ca3bffeab5"
      },
      "source": [
        "merge(pinfo, pjobinfo)"
      ],
      "execution_count": null,
      "outputs": [
        {
          "output_type": "display_data",
          "data": {
            "text/plain": [
              "  이름   거주지역 나이 성별 직업    \n",
              "1 조정란 경기     33   여   공무원  \n",
              "2 한주연 인천     37   남   프리랜서\n",
              "3 홍민수 인천     25   남   학생    "
            ],
            "text/latex": "A data.frame: 3 × 5\n\\begin{tabular}{lllll}\n 이름 & 거주지역 & 나이 & 성별 & 직업\\\\\n <chr> & <chr> & <int> & <chr> & <chr>\\\\\n\\hline\n\t 조정란 & 경기 & 33 & 여 & 공무원  \\\\\n\t 한주연 & 인천 & 37 & 남 & 프리랜서\\\\\n\t 홍민수 & 인천 & 25 & 남 & 학생    \\\\\n\\end{tabular}\n",
            "text/markdown": "\nA data.frame: 3 × 5\n\n| 이름 &lt;chr&gt; | 거주지역 &lt;chr&gt; | 나이 &lt;int&gt; | 성별 &lt;chr&gt; | 직업 &lt;chr&gt; |\n|---|---|---|---|---|\n| 조정란 | 경기 | 33 | 여 | 공무원   |\n| 한주연 | 인천 | 37 | 남 | 프리랜서 |\n| 홍민수 | 인천 | 25 | 남 | 학생     |\n\n",
            "text/html": [
              "<table class=\"dataframe\">\n",
              "<caption>A data.frame: 3 × 5</caption>\n",
              "<thead>\n",
              "\t<tr><th scope=col>이름</th><th scope=col>거주지역</th><th scope=col>나이</th><th scope=col>성별</th><th scope=col>직업</th></tr>\n",
              "\t<tr><th scope=col>&lt;chr&gt;</th><th scope=col>&lt;chr&gt;</th><th scope=col>&lt;int&gt;</th><th scope=col>&lt;chr&gt;</th><th scope=col>&lt;chr&gt;</th></tr>\n",
              "</thead>\n",
              "<tbody>\n",
              "\t<tr><td>조정란</td><td>경기</td><td>33</td><td>여</td><td>공무원  </td></tr>\n",
              "\t<tr><td>한주연</td><td>인천</td><td>37</td><td>남</td><td>프리랜서</td></tr>\n",
              "\t<tr><td>홍민수</td><td>인천</td><td>25</td><td>남</td><td>학생    </td></tr>\n",
              "</tbody>\n",
              "</table>\n"
            ]
          },
          "metadata": {
            "tags": []
          }
        }
      ]
    },
    {
      "cell_type": "code",
      "metadata": {
        "colab": {
          "base_uri": "https://localhost:8080/",
          "height": 343
        },
        "id": "NVY5LyK-icjQ",
        "outputId": "ce9e1991-735c-4eaf-efca-7f6ea13d2be5"
      },
      "source": [
        "merge(pinfo, pjobinfo, all=TRUE)"
      ],
      "execution_count": null,
      "outputs": [
        {
          "output_type": "display_data",
          "data": {
            "text/plain": [
              "  이름   거주지역 나이 성별 직업    \n",
              "1 국정수 서울     43   남   NA      \n",
              "2 라윤정 서울     35   여   NA      \n",
              "3 박장곤 NA       NA   NA   회사원  \n",
              "4 조정란 경기     33   여   공무원  \n",
              "5 주민정 NA       NA   NA   학생    \n",
              "6 한주연 인천     37   남   프리랜서\n",
              "7 한지수 NA       NA   NA   자영업  \n",
              "8 홍민수 인천     25   남   학생    "
            ],
            "text/latex": "A data.frame: 8 × 5\n\\begin{tabular}{lllll}\n 이름 & 거주지역 & 나이 & 성별 & 직업\\\\\n <chr> & <chr> & <int> & <chr> & <chr>\\\\\n\\hline\n\t 국정수 & 서울 & 43 & 남 & NA      \\\\\n\t 라윤정 & 서울 & 35 & 여 & NA      \\\\\n\t 박장곤 & NA   & NA & NA & 회사원  \\\\\n\t 조정란 & 경기 & 33 & 여 & 공무원  \\\\\n\t 주민정 & NA   & NA & NA & 학생    \\\\\n\t 한주연 & 인천 & 37 & 남 & 프리랜서\\\\\n\t 한지수 & NA   & NA & NA & 자영업  \\\\\n\t 홍민수 & 인천 & 25 & 남 & 학생    \\\\\n\\end{tabular}\n",
            "text/markdown": "\nA data.frame: 8 × 5\n\n| 이름 &lt;chr&gt; | 거주지역 &lt;chr&gt; | 나이 &lt;int&gt; | 성별 &lt;chr&gt; | 직업 &lt;chr&gt; |\n|---|---|---|---|---|\n| 국정수 | 서울 | 43 | 남 | NA       |\n| 라윤정 | 서울 | 35 | 여 | NA       |\n| 박장곤 | NA   | NA | NA | 회사원   |\n| 조정란 | 경기 | 33 | 여 | 공무원   |\n| 주민정 | NA   | NA | NA | 학생     |\n| 한주연 | 인천 | 37 | 남 | 프리랜서 |\n| 한지수 | NA   | NA | NA | 자영업   |\n| 홍민수 | 인천 | 25 | 남 | 학생     |\n\n",
            "text/html": [
              "<table class=\"dataframe\">\n",
              "<caption>A data.frame: 8 × 5</caption>\n",
              "<thead>\n",
              "\t<tr><th scope=col>이름</th><th scope=col>거주지역</th><th scope=col>나이</th><th scope=col>성별</th><th scope=col>직업</th></tr>\n",
              "\t<tr><th scope=col>&lt;chr&gt;</th><th scope=col>&lt;chr&gt;</th><th scope=col>&lt;int&gt;</th><th scope=col>&lt;chr&gt;</th><th scope=col>&lt;chr&gt;</th></tr>\n",
              "</thead>\n",
              "<tbody>\n",
              "\t<tr><td>국정수</td><td>서울</td><td>43</td><td>남</td><td>NA      </td></tr>\n",
              "\t<tr><td>라윤정</td><td>서울</td><td>35</td><td>여</td><td>NA      </td></tr>\n",
              "\t<tr><td>박장곤</td><td>NA  </td><td>NA</td><td>NA</td><td>회사원  </td></tr>\n",
              "\t<tr><td>조정란</td><td>경기</td><td>33</td><td>여</td><td>공무원  </td></tr>\n",
              "\t<tr><td>주민정</td><td>NA  </td><td>NA</td><td>NA</td><td>학생    </td></tr>\n",
              "\t<tr><td>한주연</td><td>인천</td><td>37</td><td>남</td><td>프리랜서</td></tr>\n",
              "\t<tr><td>한지수</td><td>NA  </td><td>NA</td><td>NA</td><td>자영업  </td></tr>\n",
              "\t<tr><td>홍민수</td><td>인천</td><td>25</td><td>남</td><td>학생    </td></tr>\n",
              "</tbody>\n",
              "</table>\n"
            ]
          },
          "metadata": {
            "tags": []
          }
        }
      ]
    },
    {
      "cell_type": "markdown",
      "metadata": {
        "id": "WS5oLiitYy_k"
      },
      "source": [
        "__데이터 프레임 열 선택__"
      ]
    },
    {
      "cell_type": "code",
      "metadata": {
        "colab": {
          "base_uri": "https://localhost:8080/",
          "height": 250
        },
        "id": "HhRIWk2uizJe",
        "outputId": "d520d735-299d-48b3-8658-07dac2547b86"
      },
      "source": [
        "data1 <- subset(pinfo, select=-거주지역)\n",
        "data1"
      ],
      "execution_count": null,
      "outputs": [
        {
          "output_type": "display_data",
          "data": {
            "text/plain": [
              "  이름   나이 성별\n",
              "1 홍민수 25   남  \n",
              "2 조정란 33   여  \n",
              "3 국정수 43   남  \n",
              "4 라윤정 35   여  \n",
              "5 한주연 37   남  "
            ],
            "text/latex": "A data.frame: 5 × 3\n\\begin{tabular}{r|lll}\n  & 이름 & 나이 & 성별\\\\\n  & <chr> & <int> & <chr>\\\\\n\\hline\n\t1 & 홍민수 & 25 & 남\\\\\n\t2 & 조정란 & 33 & 여\\\\\n\t3 & 국정수 & 43 & 남\\\\\n\t4 & 라윤정 & 35 & 여\\\\\n\t5 & 한주연 & 37 & 남\\\\\n\\end{tabular}\n",
            "text/markdown": "\nA data.frame: 5 × 3\n\n| <!--/--> | 이름 &lt;chr&gt; | 나이 &lt;int&gt; | 성별 &lt;chr&gt; |\n|---|---|---|---|\n| 1 | 홍민수 | 25 | 남 |\n| 2 | 조정란 | 33 | 여 |\n| 3 | 국정수 | 43 | 남 |\n| 4 | 라윤정 | 35 | 여 |\n| 5 | 한주연 | 37 | 남 |\n\n",
            "text/html": [
              "<table class=\"dataframe\">\n",
              "<caption>A data.frame: 5 × 3</caption>\n",
              "<thead>\n",
              "\t<tr><th></th><th scope=col>이름</th><th scope=col>나이</th><th scope=col>성별</th></tr>\n",
              "\t<tr><th></th><th scope=col>&lt;chr&gt;</th><th scope=col>&lt;int&gt;</th><th scope=col>&lt;chr&gt;</th></tr>\n",
              "</thead>\n",
              "<tbody>\n",
              "\t<tr><th scope=row>1</th><td>홍민수</td><td>25</td><td>남</td></tr>\n",
              "\t<tr><th scope=row>2</th><td>조정란</td><td>33</td><td>여</td></tr>\n",
              "\t<tr><th scope=row>3</th><td>국정수</td><td>43</td><td>남</td></tr>\n",
              "\t<tr><th scope=row>4</th><td>라윤정</td><td>35</td><td>여</td></tr>\n",
              "\t<tr><th scope=row>5</th><td>한주연</td><td>37</td><td>남</td></tr>\n",
              "</tbody>\n",
              "</table>\n"
            ]
          },
          "metadata": {
            "tags": []
          }
        }
      ]
    },
    {
      "cell_type": "markdown",
      "metadata": {
        "id": "CUrw7z4lYACK"
      },
      "source": [
        "__인덱싱__"
      ]
    },
    {
      "cell_type": "code",
      "metadata": {
        "colab": {
          "base_uri": "https://localhost:8080/",
          "height": 34
        },
        "id": "_dUN91Bp1BTq",
        "outputId": "49ad9462-9938-4997-df3d-3882ee5215f5"
      },
      "source": [
        "df2$이름"
      ],
      "execution_count": 39,
      "outputs": [
        {
          "output_type": "display_data",
          "data": {
            "text/plain": [
              "[1] \"조정순\" \"한민애\" \"고승민\""
            ],
            "text/latex": "\\begin{enumerate*}\n\\item '조정순'\n\\item '한민애'\n\\item '고승민'\n\\end{enumerate*}\n",
            "text/markdown": "1. '조정순'\n2. '한민애'\n3. '고승민'\n\n\n",
            "text/html": [
              "<style>\n",
              ".list-inline {list-style: none; margin:0; padding: 0}\n",
              ".list-inline>li {display: inline-block}\n",
              ".list-inline>li:not(:last-child)::after {content: \"\\00b7\"; padding: 0 .5ex}\n",
              "</style>\n",
              "<ol class=list-inline><li>'조정순'</li><li>'한민애'</li><li>'고승민'</li></ol>\n"
            ]
          },
          "metadata": {
            "tags": []
          }
        }
      ]
    },
    {
      "cell_type": "code",
      "metadata": {
        "colab": {
          "base_uri": "https://localhost:8080/",
          "height": 34
        },
        "id": "T_zbWD7U1FYN",
        "outputId": "b3070f07-cf21-4808-eccb-dae2777da7bb"
      },
      "source": [
        "df2$나이 + 1"
      ],
      "execution_count": 40,
      "outputs": [
        {
          "output_type": "display_data",
          "data": {
            "text/plain": [
              "[1] 44 28 35"
            ],
            "text/latex": "\\begin{enumerate*}\n\\item 44\n\\item 28\n\\item 35\n\\end{enumerate*}\n",
            "text/markdown": "1. 44\n2. 28\n3. 35\n\n\n",
            "text/html": [
              "<style>\n",
              ".list-inline {list-style: none; margin:0; padding: 0}\n",
              ".list-inline>li {display: inline-block}\n",
              ".list-inline>li:not(:last-child)::after {content: \"\\00b7\"; padding: 0 .5ex}\n",
              "</style>\n",
              "<ol class=list-inline><li>44</li><li>28</li><li>35</li></ol>\n"
            ]
          },
          "metadata": {
            "tags": []
          }
        }
      ]
    },
    {
      "cell_type": "code",
      "metadata": {
        "colab": {
          "base_uri": "https://localhost:8080/",
          "height": 220
        },
        "id": "Yee7W5xCjd16",
        "outputId": "7f8e9524-5da9-44a6-a0e0-380b87c7bd54"
      },
      "source": [
        "pinfo[-3,]"
      ],
      "execution_count": 41,
      "outputs": [
        {
          "output_type": "display_data",
          "data": {
            "text/plain": [
              "  성명   거주지 나이 <NA>\n",
              "1 홍민수 인천   25   남  \n",
              "2 조정란 경기   33   여  \n",
              "4 라윤정 서울   35   여  \n",
              "5 한주연 인천   37   남  "
            ],
            "text/latex": "A data.frame: 4 × 4\n\\begin{tabular}{r|llll}\n  & 성명 & 거주지 & 나이 & NA\\\\\n  & <chr> & <chr> & <int> & <chr>\\\\\n\\hline\n\t1 & 홍민수 & 인천 & 25 & 남\\\\\n\t2 & 조정란 & 경기 & 33 & 여\\\\\n\t4 & 라윤정 & 서울 & 35 & 여\\\\\n\t5 & 한주연 & 인천 & 37 & 남\\\\\n\\end{tabular}\n",
            "text/markdown": "\nA data.frame: 4 × 4\n\n| <!--/--> | 성명 &lt;chr&gt; | 거주지 &lt;chr&gt; | 나이 &lt;int&gt; | NA &lt;chr&gt; |\n|---|---|---|---|---|\n| 1 | 홍민수 | 인천 | 25 | 남 |\n| 2 | 조정란 | 경기 | 33 | 여 |\n| 4 | 라윤정 | 서울 | 35 | 여 |\n| 5 | 한주연 | 인천 | 37 | 남 |\n\n",
            "text/html": [
              "<table class=\"dataframe\">\n",
              "<caption>A data.frame: 4 × 4</caption>\n",
              "<thead>\n",
              "\t<tr><th></th><th scope=col>성명</th><th scope=col>거주지</th><th scope=col>나이</th><th scope=col>NA</th></tr>\n",
              "\t<tr><th></th><th scope=col>&lt;chr&gt;</th><th scope=col>&lt;chr&gt;</th><th scope=col>&lt;int&gt;</th><th scope=col>&lt;chr&gt;</th></tr>\n",
              "</thead>\n",
              "<tbody>\n",
              "\t<tr><th scope=row>1</th><td>홍민수</td><td>인천</td><td>25</td><td>남</td></tr>\n",
              "\t<tr><th scope=row>2</th><td>조정란</td><td>경기</td><td>33</td><td>여</td></tr>\n",
              "\t<tr><th scope=row>4</th><td>라윤정</td><td>서울</td><td>35</td><td>여</td></tr>\n",
              "\t<tr><th scope=row>5</th><td>한주연</td><td>인천</td><td>37</td><td>남</td></tr>\n",
              "</tbody>\n",
              "</table>\n"
            ]
          },
          "metadata": {
            "tags": []
          }
        }
      ]
    },
    {
      "cell_type": "code",
      "metadata": {
        "colab": {
          "base_uri": "https://localhost:8080/",
          "height": 250
        },
        "id": "rvDJ4AtHjj2W",
        "outputId": "e9c84c76-df87-484a-815b-64fc78be5a0c"
      },
      "source": [
        "pinfo[,-4]"
      ],
      "execution_count": 42,
      "outputs": [
        {
          "output_type": "display_data",
          "data": {
            "text/plain": [
              "  성명   거주지 나이\n",
              "1 홍민수 인천   25  \n",
              "2 조정란 경기   33  \n",
              "3 국정수 서울   43  \n",
              "4 라윤정 서울   35  \n",
              "5 한주연 인천   37  "
            ],
            "text/latex": "A data.frame: 5 × 3\n\\begin{tabular}{lll}\n 성명 & 거주지 & 나이\\\\\n <chr> & <chr> & <int>\\\\\n\\hline\n\t 홍민수 & 인천 & 25\\\\\n\t 조정란 & 경기 & 33\\\\\n\t 국정수 & 서울 & 43\\\\\n\t 라윤정 & 서울 & 35\\\\\n\t 한주연 & 인천 & 37\\\\\n\\end{tabular}\n",
            "text/markdown": "\nA data.frame: 5 × 3\n\n| 성명 &lt;chr&gt; | 거주지 &lt;chr&gt; | 나이 &lt;int&gt; |\n|---|---|---|\n| 홍민수 | 인천 | 25 |\n| 조정란 | 경기 | 33 |\n| 국정수 | 서울 | 43 |\n| 라윤정 | 서울 | 35 |\n| 한주연 | 인천 | 37 |\n\n",
            "text/html": [
              "<table class=\"dataframe\">\n",
              "<caption>A data.frame: 5 × 3</caption>\n",
              "<thead>\n",
              "\t<tr><th scope=col>성명</th><th scope=col>거주지</th><th scope=col>나이</th></tr>\n",
              "\t<tr><th scope=col>&lt;chr&gt;</th><th scope=col>&lt;chr&gt;</th><th scope=col>&lt;int&gt;</th></tr>\n",
              "</thead>\n",
              "<tbody>\n",
              "\t<tr><td>홍민수</td><td>인천</td><td>25</td></tr>\n",
              "\t<tr><td>조정란</td><td>경기</td><td>33</td></tr>\n",
              "\t<tr><td>국정수</td><td>서울</td><td>43</td></tr>\n",
              "\t<tr><td>라윤정</td><td>서울</td><td>35</td></tr>\n",
              "\t<tr><td>한주연</td><td>인천</td><td>37</td></tr>\n",
              "</tbody>\n",
              "</table>\n"
            ]
          },
          "metadata": {
            "tags": []
          }
        }
      ]
    },
    {
      "cell_type": "markdown",
      "metadata": {
        "id": "7t5N6Re0th3G"
      },
      "source": [
        "#ch06(조건문)"
      ]
    },
    {
      "cell_type": "markdown",
      "metadata": {
        "id": "x3BcRj6ajOoX"
      },
      "source": [
        "##선택"
      ]
    },
    {
      "cell_type": "markdown",
      "metadata": {
        "id": "WlsiOnVom1cZ"
      },
      "source": [
        "__if__"
      ]
    },
    {
      "cell_type": "code",
      "metadata": {
        "colab": {
          "base_uri": "https://localhost:8080/",
          "height": 34
        },
        "id": "zCfmNlDqtjlL",
        "outputId": "1a09bbfd-db02-4803-e93d-b5ebae61e6fc"
      },
      "source": [
        "a <- 8\n",
        "if(a%%2 == 0){\n",
        "    result <- '짝수'\n",
        "    result\n",
        "}"
      ],
      "execution_count": null,
      "outputs": [
        {
          "output_type": "display_data",
          "data": {
            "text/plain": [
              "[1] \"짝수\""
            ],
            "text/latex": "'짝수'",
            "text/markdown": "'짝수'",
            "text/html": [
              "'짝수'"
            ]
          },
          "metadata": {
            "tags": []
          }
        }
      ]
    },
    {
      "cell_type": "markdown",
      "metadata": {
        "id": "RyzRbBMJm3hE"
      },
      "source": [
        "__if...else__"
      ]
    },
    {
      "cell_type": "code",
      "metadata": {
        "colab": {
          "base_uri": "https://localhost:8080/",
          "height": 34
        },
        "id": "v2n-61sFtstV",
        "outputId": "d7660db2-a20f-42d3-f492-0b284a048f24"
      },
      "source": [
        "a <- 123\n",
        "if(a%%2 == 0){\n",
        "    result <- '짝수'\n",
        "}else{\n",
        "    result <- '홀수'\n",
        "}\n",
        "result"
      ],
      "execution_count": null,
      "outputs": [
        {
          "output_type": "display_data",
          "data": {
            "text/plain": [
              "[1] \"홀수\""
            ],
            "text/latex": "'홀수'",
            "text/markdown": "'홀수'",
            "text/html": [
              "'홀수'"
            ]
          },
          "metadata": {
            "tags": []
          }
        }
      ]
    },
    {
      "cell_type": "markdown",
      "metadata": {
        "id": "4VDCjzOFm6EV"
      },
      "source": [
        "__if...else if...else__"
      ]
    },
    {
      "cell_type": "code",
      "metadata": {
        "colab": {
          "base_uri": "https://localhost:8080/",
          "height": 34
        },
        "id": "ZyUhCODvuLml",
        "outputId": "44a1ae2d-bb49-4145-a32d-b04eaba9b973"
      },
      "source": [
        "a <- 75\n",
        "if(a%%3 == 0 && a%%5 == 0){\n",
        "    result <- '3의 배수이면서 5의 배수'\n",
        "}else if(a%%3 == 0){\n",
        "    result <- '3의 배수'\n",
        "}else if(a%%5 == 0){\n",
        "    result <- '5의 배수'\n",
        "}else{\n",
        "    result <- '3의 배수, 5의 배수 어디에도 해당되지 않습니다'\n",
        "}\n",
        "result"
      ],
      "execution_count": null,
      "outputs": [
        {
          "output_type": "display_data",
          "data": {
            "text/plain": [
              "[1] \"3의 배수이면서 5의 배수\""
            ],
            "text/latex": "'3의 배수이면서 5의 배수'",
            "text/markdown": "'3의 배수이면서 5의 배수'",
            "text/html": [
              "'3의 배수이면서 5의 배수'"
            ]
          },
          "metadata": {
            "tags": []
          }
        }
      ]
    },
    {
      "cell_type": "markdown",
      "metadata": {
        "id": "1UUPv6P-m-nJ"
      },
      "source": [
        "__ifelse__"
      ]
    },
    {
      "cell_type": "code",
      "metadata": {
        "colab": {
          "base_uri": "https://localhost:8080/",
          "height": 69
        },
        "id": "gn4LNiHgvAsv",
        "outputId": "54895c04-80c0-4e97-9d8e-bc6acf98c92f"
      },
      "source": [
        "a <- c(10,13,7,8,50)\n",
        "if(a%%2==0){\n",
        "    result<-'짝수'\n",
        "}else{\n",
        "    result<-'홀수'\n",
        "}\n",
        "result"
      ],
      "execution_count": null,
      "outputs": [
        {
          "output_type": "stream",
          "text": [
            "Warning message in if (a%%2 == 0) {:\n",
            "“the condition has length > 1 and only the first element will be used”\n"
          ],
          "name": "stderr"
        },
        {
          "output_type": "display_data",
          "data": {
            "text/plain": [
              "[1] \"짝수\""
            ],
            "text/latex": "'짝수'",
            "text/markdown": "'짝수'",
            "text/html": [
              "'짝수'"
            ]
          },
          "metadata": {
            "tags": []
          }
        }
      ]
    },
    {
      "cell_type": "code",
      "metadata": {
        "colab": {
          "base_uri": "https://localhost:8080/",
          "height": 267
        },
        "id": "6MDNxvD0vfJu",
        "outputId": "6e907d15-d28f-42c9-8b8e-f090f5403c34"
      },
      "source": [
        "a <- c(10,13,7,8,50)\n",
        "result <- c(ifelse(a%%2==0, '짝수', '홀수'))\n",
        "\n",
        "df <- data.frame(a, result)\n",
        "df"
      ],
      "execution_count": null,
      "outputs": [
        {
          "output_type": "display_data",
          "data": {
            "text/plain": [
              "  a  result\n",
              "1 10 짝수  \n",
              "2 13 홀수  \n",
              "3  7 홀수  \n",
              "4  8 짝수  \n",
              "5 50 짝수  "
            ],
            "text/latex": "A data.frame: 5 × 2\n\\begin{tabular}{ll}\n a & result\\\\\n <dbl> & <chr>\\\\\n\\hline\n\t 10 & 짝수\\\\\n\t 13 & 홀수\\\\\n\t  7 & 홀수\\\\\n\t  8 & 짝수\\\\\n\t 50 & 짝수\\\\\n\\end{tabular}\n",
            "text/markdown": "\nA data.frame: 5 × 2\n\n| a &lt;dbl&gt; | result &lt;chr&gt; |\n|---|---|\n| 10 | 짝수 |\n| 13 | 홀수 |\n|  7 | 홀수 |\n|  8 | 짝수 |\n| 50 | 짝수 |\n\n",
            "text/html": [
              "<table class=\"dataframe\">\n",
              "<caption>A data.frame: 5 × 2</caption>\n",
              "<thead>\n",
              "\t<tr><th scope=col>a</th><th scope=col>result</th></tr>\n",
              "\t<tr><th scope=col>&lt;dbl&gt;</th><th scope=col>&lt;chr&gt;</th></tr>\n",
              "</thead>\n",
              "<tbody>\n",
              "\t<tr><td>10</td><td>짝수</td></tr>\n",
              "\t<tr><td>13</td><td>홀수</td></tr>\n",
              "\t<tr><td> 7</td><td>홀수</td></tr>\n",
              "\t<tr><td> 8</td><td>짝수</td></tr>\n",
              "\t<tr><td>50</td><td>짝수</td></tr>\n",
              "</tbody>\n",
              "</table>\n"
            ]
          },
          "metadata": {
            "tags": []
          }
        }
      ]
    },
    {
      "cell_type": "code",
      "metadata": {
        "colab": {
          "base_uri": "https://localhost:8080/",
          "height": 267
        },
        "id": "83Ftg-ORwB6W",
        "outputId": "859ec8ad-5d50-495e-adb2-a052840ae401"
      },
      "source": [
        "a <- c(10,13,22,15,9)\n",
        "result <- ifelse(a>mean(a), '평균초과', ifelse(a<mean(a), '평균미달', '평균값'))  # 중첩\n",
        "\n",
        "df2 <- data.frame(a, result)\n",
        "df2"
      ],
      "execution_count": null,
      "outputs": [
        {
          "output_type": "display_data",
          "data": {
            "text/plain": [
              "  a  result  \n",
              "1 10 평균미달\n",
              "2 13 평균미달\n",
              "3 22 평균초과\n",
              "4 15 평균초과\n",
              "5  9 평균미달"
            ],
            "text/latex": "A data.frame: 5 × 2\n\\begin{tabular}{ll}\n a & result\\\\\n <dbl> & <chr>\\\\\n\\hline\n\t 10 & 평균미달\\\\\n\t 13 & 평균미달\\\\\n\t 22 & 평균초과\\\\\n\t 15 & 평균초과\\\\\n\t  9 & 평균미달\\\\\n\\end{tabular}\n",
            "text/markdown": "\nA data.frame: 5 × 2\n\n| a &lt;dbl&gt; | result &lt;chr&gt; |\n|---|---|\n| 10 | 평균미달 |\n| 13 | 평균미달 |\n| 22 | 평균초과 |\n| 15 | 평균초과 |\n|  9 | 평균미달 |\n\n",
            "text/html": [
              "<table class=\"dataframe\">\n",
              "<caption>A data.frame: 5 × 2</caption>\n",
              "<thead>\n",
              "\t<tr><th scope=col>a</th><th scope=col>result</th></tr>\n",
              "\t<tr><th scope=col>&lt;dbl&gt;</th><th scope=col>&lt;chr&gt;</th></tr>\n",
              "</thead>\n",
              "<tbody>\n",
              "\t<tr><td>10</td><td>평균미달</td></tr>\n",
              "\t<tr><td>13</td><td>평균미달</td></tr>\n",
              "\t<tr><td>22</td><td>평균초과</td></tr>\n",
              "\t<tr><td>15</td><td>평균초과</td></tr>\n",
              "\t<tr><td> 9</td><td>평균미달</td></tr>\n",
              "</tbody>\n",
              "</table>\n"
            ]
          },
          "metadata": {
            "tags": []
          }
        }
      ]
    },
    {
      "cell_type": "markdown",
      "metadata": {
        "id": "Y8nG84M0wg-S"
      },
      "source": [
        "##반복"
      ]
    },
    {
      "cell_type": "markdown",
      "metadata": {
        "id": "OI-EtvfmnXlZ"
      },
      "source": [
        "__for__"
      ]
    },
    {
      "cell_type": "code",
      "metadata": {
        "colab": {
          "base_uri": "https://localhost:8080/",
          "height": 122
        },
        "id": "VR65uvgwwiWG",
        "outputId": "9374b979-5ab8-4355-ee96-80d6b1ee1261"
      },
      "source": [
        "y <- 0\n",
        "for(x in 1:5){\n",
        "    y <- y+x\n",
        "    cat('1부터',x,'까지 합은 ', y, '\\n')\n",
        "}\n",
        "y"
      ],
      "execution_count": null,
      "outputs": [
        {
          "output_type": "stream",
          "text": [
            "1부터 1 까지 합은  1 \n",
            "1부터 2 까지 합은  3 \n",
            "1부터 3 까지 합은  6 \n",
            "1부터 4 까지 합은  10 \n",
            "1부터 5 까지 합은  15 \n"
          ],
          "name": "stdout"
        },
        {
          "output_type": "display_data",
          "data": {
            "text/plain": [
              "[1] 15"
            ],
            "text/latex": "15",
            "text/markdown": "15",
            "text/html": [
              "15"
            ]
          },
          "metadata": {
            "tags": []
          }
        }
      ]
    },
    {
      "cell_type": "code",
      "metadata": {
        "colab": {
          "base_uri": "https://localhost:8080/",
          "height": 34
        },
        "id": "FCm9ftgVxqOU",
        "outputId": "3a498fb7-c1f2-4ae4-d1eb-158ba223e0de"
      },
      "source": [
        "a <- c(4,25,8,33,17,20)\n",
        "\n",
        "evensum <- 0\n",
        "for(x in a){\n",
        "    if(x%%2==0) evensum <- evensum+x\n",
        "}\n",
        "#for(x in 1:length(a)){\n",
        "#    if (a[x]%%2==0) evensum <- evensum+x\n",
        "#} 과 같은 의미\n",
        "evensum"
      ],
      "execution_count": null,
      "outputs": [
        {
          "output_type": "display_data",
          "data": {
            "text/plain": [
              "[1] 32"
            ],
            "text/latex": "32",
            "text/markdown": "32",
            "text/html": [
              "32"
            ]
          },
          "metadata": {
            "tags": []
          }
        }
      ]
    },
    {
      "cell_type": "code",
      "metadata": {
        "colab": {
          "base_uri": "https://localhost:8080/",
          "height": 311
        },
        "id": "x1UJeTTxyi9K",
        "outputId": "db142cff-32a6-4e25-fc62-517f741e4874"
      },
      "source": [
        "gugudan <- matrix(0, nrow=9, ncol=9)\n",
        "for(i in 1:9){\n",
        "    for (j in 1:9){\n",
        "        gugudan[i,j] <- i*j\n",
        "    }\n",
        "}\n",
        "gugudan"
      ],
      "execution_count": null,
      "outputs": [
        {
          "output_type": "display_data",
          "data": {
            "text/plain": [
              "      [,1] [,2] [,3] [,4] [,5] [,6] [,7] [,8] [,9]\n",
              " [1,] 1     2    3    4    5    6    7    8    9  \n",
              " [2,] 2     4    6    8   10   12   14   16   18  \n",
              " [3,] 3     6    9   12   15   18   21   24   27  \n",
              " [4,] 4     8   12   16   20   24   28   32   36  \n",
              " [5,] 5    10   15   20   25   30   35   40   45  \n",
              " [6,] 6    12   18   24   30   36   42   48   54  \n",
              " [7,] 7    14   21   28   35   42   49   56   63  \n",
              " [8,] 8    16   24   32   40   48   56   64   72  \n",
              " [9,] 9    18   27   36   45   54   63   72   81  "
            ],
            "text/latex": "A matrix: 9 × 9 of type dbl\n\\begin{tabular}{lllllllll}\n\t 1 &  2 &  3 &  4 &  5 &  6 &  7 &  8 &  9\\\\\n\t 2 &  4 &  6 &  8 & 10 & 12 & 14 & 16 & 18\\\\\n\t 3 &  6 &  9 & 12 & 15 & 18 & 21 & 24 & 27\\\\\n\t 4 &  8 & 12 & 16 & 20 & 24 & 28 & 32 & 36\\\\\n\t 5 & 10 & 15 & 20 & 25 & 30 & 35 & 40 & 45\\\\\n\t 6 & 12 & 18 & 24 & 30 & 36 & 42 & 48 & 54\\\\\n\t 7 & 14 & 21 & 28 & 35 & 42 & 49 & 56 & 63\\\\\n\t 8 & 16 & 24 & 32 & 40 & 48 & 56 & 64 & 72\\\\\n\t 9 & 18 & 27 & 36 & 45 & 54 & 63 & 72 & 81\\\\\n\\end{tabular}\n",
            "text/markdown": "\nA matrix: 9 × 9 of type dbl\n\n| 1 |  2 |  3 |  4 |  5 |  6 |  7 |  8 |  9 |\n| 2 |  4 |  6 |  8 | 10 | 12 | 14 | 16 | 18 |\n| 3 |  6 |  9 | 12 | 15 | 18 | 21 | 24 | 27 |\n| 4 |  8 | 12 | 16 | 20 | 24 | 28 | 32 | 36 |\n| 5 | 10 | 15 | 20 | 25 | 30 | 35 | 40 | 45 |\n| 6 | 12 | 18 | 24 | 30 | 36 | 42 | 48 | 54 |\n| 7 | 14 | 21 | 28 | 35 | 42 | 49 | 56 | 63 |\n| 8 | 16 | 24 | 32 | 40 | 48 | 56 | 64 | 72 |\n| 9 | 18 | 27 | 36 | 45 | 54 | 63 | 72 | 81 |\n\n",
            "text/html": [
              "<table class=\"dataframe\">\n",
              "<caption>A matrix: 9 × 9 of type dbl</caption>\n",
              "<tbody>\n",
              "\t<tr><td>1</td><td> 2</td><td> 3</td><td> 4</td><td> 5</td><td> 6</td><td> 7</td><td> 8</td><td> 9</td></tr>\n",
              "\t<tr><td>2</td><td> 4</td><td> 6</td><td> 8</td><td>10</td><td>12</td><td>14</td><td>16</td><td>18</td></tr>\n",
              "\t<tr><td>3</td><td> 6</td><td> 9</td><td>12</td><td>15</td><td>18</td><td>21</td><td>24</td><td>27</td></tr>\n",
              "\t<tr><td>4</td><td> 8</td><td>12</td><td>16</td><td>20</td><td>24</td><td>28</td><td>32</td><td>36</td></tr>\n",
              "\t<tr><td>5</td><td>10</td><td>15</td><td>20</td><td>25</td><td>30</td><td>35</td><td>40</td><td>45</td></tr>\n",
              "\t<tr><td>6</td><td>12</td><td>18</td><td>24</td><td>30</td><td>36</td><td>42</td><td>48</td><td>54</td></tr>\n",
              "\t<tr><td>7</td><td>14</td><td>21</td><td>28</td><td>35</td><td>42</td><td>49</td><td>56</td><td>63</td></tr>\n",
              "\t<tr><td>8</td><td>16</td><td>24</td><td>32</td><td>40</td><td>48</td><td>56</td><td>64</td><td>72</td></tr>\n",
              "\t<tr><td>9</td><td>18</td><td>27</td><td>36</td><td>45</td><td>54</td><td>63</td><td>72</td><td>81</td></tr>\n",
              "</tbody>\n",
              "</table>\n"
            ]
          },
          "metadata": {
            "tags": []
          }
        }
      ]
    },
    {
      "cell_type": "markdown",
      "metadata": {
        "id": "6IccBs7Insv2"
      },
      "source": [
        "__while__"
      ]
    },
    {
      "cell_type": "code",
      "metadata": {
        "colab": {
          "base_uri": "https://localhost:8080/",
          "height": 34
        },
        "id": "ETX48M-GzFf3",
        "outputId": "1f29febb-cb7f-4090-e955-e8afb2453642"
      },
      "source": [
        "i <- 1\n",
        "isum <- 0\n",
        "while(i<=10){\n",
        "    isum <- isum+i\n",
        "    i <- i+1\n",
        "}\n",
        "isum"
      ],
      "execution_count": null,
      "outputs": [
        {
          "output_type": "display_data",
          "data": {
            "text/plain": [
              "[1] 55"
            ],
            "text/latex": "55",
            "text/markdown": "55",
            "text/html": [
              "55"
            ]
          },
          "metadata": {
            "tags": []
          }
        }
      ]
    },
    {
      "cell_type": "markdown",
      "metadata": {
        "id": "0x85nskNn0-e"
      },
      "source": [
        "__while...break__"
      ]
    },
    {
      "cell_type": "code",
      "metadata": {
        "colab": {
          "base_uri": "https://localhost:8080/"
        },
        "id": "1Qj1LpBBzrZh",
        "outputId": "613ae5bd-abf2-48e4-b49b-7348a43282b3"
      },
      "source": [
        "i <- 1\n",
        "isum <- 0\n",
        "while(i != 0){\n",
        "    isum <- isum + i\n",
        "    cat('1부터', i, '까지 합은 ', isum, '\\n')\n",
        "    if(isum>500) break\n",
        "    i <- i+1\n",
        "}"
      ],
      "execution_count": null,
      "outputs": [
        {
          "output_type": "stream",
          "text": [
            "1부터 1 까지 합은  1 \n",
            "1부터 2 까지 합은  3 \n",
            "1부터 3 까지 합은  6 \n",
            "1부터 4 까지 합은  10 \n",
            "1부터 5 까지 합은  15 \n",
            "1부터 6 까지 합은  21 \n",
            "1부터 7 까지 합은  28 \n",
            "1부터 8 까지 합은  36 \n",
            "1부터 9 까지 합은  45 \n",
            "1부터 10 까지 합은  55 \n",
            "1부터 11 까지 합은  66 \n",
            "1부터 12 까지 합은  78 \n",
            "1부터 13 까지 합은  91 \n",
            "1부터 14 까지 합은  105 \n",
            "1부터 15 까지 합은  120 \n",
            "1부터 16 까지 합은  136 \n",
            "1부터 17 까지 합은  153 \n",
            "1부터 18 까지 합은  171 \n",
            "1부터 19 까지 합은  190 \n",
            "1부터 20 까지 합은  210 \n",
            "1부터 21 까지 합은  231 \n",
            "1부터 22 까지 합은  253 \n",
            "1부터 23 까지 합은  276 \n",
            "1부터 24 까지 합은  300 \n",
            "1부터 25 까지 합은  325 \n",
            "1부터 26 까지 합은  351 \n",
            "1부터 27 까지 합은  378 \n",
            "1부터 28 까지 합은  406 \n",
            "1부터 29 까지 합은  435 \n",
            "1부터 30 까지 합은  465 \n",
            "1부터 31 까지 합은  496 \n",
            "1부터 32 까지 합은  528 \n"
          ],
          "name": "stdout"
        }
      ]
    },
    {
      "cell_type": "markdown",
      "metadata": {
        "id": "HcU3ylLfn-4L"
      },
      "source": [
        "__repeat...break__"
      ]
    },
    {
      "cell_type": "code",
      "metadata": {
        "colab": {
          "base_uri": "https://localhost:8080/",
          "height": 50
        },
        "id": "lKgZgMsw0XJ6",
        "outputId": "bef6ad7d-87f9-4ab2-d2cf-dca848177bc3"
      },
      "source": [
        "a <- c(42,25,16,7,23,12,9)\n",
        "i <- 1\n",
        "repeat{\n",
        "    if(a[i]<mean(a)) break\n",
        "    i <- i+1\n",
        "}\n",
        "\n",
        "mean(a)\n",
        "a[i]"
      ],
      "execution_count": null,
      "outputs": [
        {
          "output_type": "display_data",
          "data": {
            "text/plain": [
              "[1] 19.14286"
            ],
            "text/latex": "19.1428571428571",
            "text/markdown": "19.1428571428571",
            "text/html": [
              "19.1428571428571"
            ]
          },
          "metadata": {
            "tags": []
          }
        },
        {
          "output_type": "display_data",
          "data": {
            "text/plain": [
              "[1] 16"
            ],
            "text/latex": "16",
            "text/markdown": "16",
            "text/html": [
              "16"
            ]
          },
          "metadata": {
            "tags": []
          }
        }
      ]
    },
    {
      "cell_type": "markdown",
      "metadata": {
        "id": "uLQAjlxDVHwv"
      },
      "source": [
        "#ch.10(패키지)"
      ]
    },
    {
      "cell_type": "code",
      "metadata": {
        "id": "ZZeavB4wVJHT",
        "colab": {
          "base_uri": "https://localhost:8080/"
        },
        "outputId": "3f27e7e3-ed7b-4587-ba71-6fb747a565e7"
      },
      "source": [
        "install.packages('ggplot2')"
      ],
      "execution_count": null,
      "outputs": [
        {
          "output_type": "stream",
          "text": [
            "Installing package into ‘/usr/local/lib/R/site-library’\n",
            "(as ‘lib’ is unspecified)\n",
            "\n"
          ],
          "name": "stderr"
        }
      ]
    },
    {
      "cell_type": "code",
      "metadata": {
        "id": "nvaZwek6VQyI"
      },
      "source": [
        "library(ggplot2)"
      ],
      "execution_count": null,
      "outputs": []
    },
    {
      "cell_type": "code",
      "metadata": {
        "id": "VFiAY7J4VSoc",
        "colab": {
          "base_uri": "https://localhost:8080/",
          "height": 1000
        },
        "outputId": "4dd42c31-8c53-4dae-9c3d-d4a5e656ec5f"
      },
      "source": [
        "installed.packages()  # 설치된 패키지 목록"
      ],
      "execution_count": null,
      "outputs": [
        {
          "output_type": "display_data",
          "data": {
            "text/plain": [
              "            Package     LibPath                       Version  Priority   \n",
              "ggplot2     ggplot2     /usr/local/lib/R/site-library 3.3.4    NA         \n",
              "IRdisplay   IRdisplay   /usr/local/lib/R/site-library 1.0      NA         \n",
              "IRkernel    IRkernel    /usr/local/lib/R/site-library 1.2      NA         \n",
              "pbdZMQ      pbdZMQ      /usr/local/lib/R/site-library 0.3-5    NA         \n",
              "repr        repr        /usr/local/lib/R/site-library 1.1.3    NA         \n",
              "askpass     askpass     /usr/lib/R/site-library       1.1      NA         \n",
              "assertthat  assertthat  /usr/lib/R/site-library       0.2.1    NA         \n",
              "backports   backports   /usr/lib/R/site-library       1.2.1    NA         \n",
              "base64enc   base64enc   /usr/lib/R/site-library       0.1-3    NA         \n",
              "BH          BH          /usr/lib/R/site-library       1.75.0-0 NA         \n",
              "blob        blob        /usr/lib/R/site-library       1.2.1    NA         \n",
              "brew        brew        /usr/lib/R/site-library       1.0-6    NA         \n",
              "brio        brio        /usr/lib/R/site-library       1.1.2    NA         \n",
              "broom       broom       /usr/lib/R/site-library       0.7.6    NA         \n",
              "cachem      cachem      /usr/lib/R/site-library       1.0.5    NA         \n",
              "callr       callr       /usr/lib/R/site-library       3.7.0    NA         \n",
              "cellranger  cellranger  /usr/lib/R/site-library       1.1.0    NA         \n",
              "cli         cli         /usr/lib/R/site-library       2.5.0    NA         \n",
              "clipr       clipr       /usr/lib/R/site-library       0.7.1    NA         \n",
              "colorspace  colorspace  /usr/lib/R/site-library       2.0-1    NA         \n",
              "commonmark  commonmark  /usr/lib/R/site-library       1.7      NA         \n",
              "cpp11       cpp11       /usr/lib/R/site-library       0.2.7    NA         \n",
              "crayon      crayon      /usr/lib/R/site-library       1.4.1    NA         \n",
              "credentials credentials /usr/lib/R/site-library       1.3.0    NA         \n",
              "curl        curl        /usr/lib/R/site-library       4.3.1    NA         \n",
              "data.table  data.table  /usr/lib/R/site-library       1.14.0   NA         \n",
              "DBI         DBI         /usr/lib/R/site-library       1.1.1    NA         \n",
              "dbplyr      dbplyr      /usr/lib/R/site-library       2.1.1    NA         \n",
              "desc        desc        /usr/lib/R/site-library       1.3.0    NA         \n",
              "devtools    devtools    /usr/lib/R/site-library       2.4.2    NA         \n",
              "⋮           ⋮           ⋮                             ⋮        ⋮          \n",
              "zip         zip         /usr/lib/R/site-library       2.2.0    NA         \n",
              "base        base        /usr/lib/R/library            4.1.0    base       \n",
              "boot        boot        /usr/lib/R/library            1.3-28   recommended\n",
              "class       class       /usr/lib/R/library            7.3-19   recommended\n",
              "cluster     cluster     /usr/lib/R/library            2.1.2    recommended\n",
              "codetools   codetools   /usr/lib/R/library            0.2-18   recommended\n",
              "compiler    compiler    /usr/lib/R/library            4.1.0    base       \n",
              "datasets    datasets    /usr/lib/R/library            4.1.0    base       \n",
              "foreign     foreign     /usr/lib/R/library            0.8-81   recommended\n",
              "graphics    graphics    /usr/lib/R/library            4.1.0    base       \n",
              "grDevices   grDevices   /usr/lib/R/library            4.1.0    base       \n",
              "grid        grid        /usr/lib/R/library            4.1.0    base       \n",
              "KernSmooth  KernSmooth  /usr/lib/R/library            2.23-20  recommended\n",
              "lattice     lattice     /usr/lib/R/library            0.20-44  recommended\n",
              "MASS        MASS        /usr/lib/R/library            7.3-54   recommended\n",
              "Matrix      Matrix      /usr/lib/R/library            1.3-4    recommended\n",
              "methods     methods     /usr/lib/R/library            4.1.0    base       \n",
              "mgcv        mgcv        /usr/lib/R/library            1.8-36   recommended\n",
              "nlme        nlme        /usr/lib/R/library            3.1-152  recommended\n",
              "nnet        nnet        /usr/lib/R/library            7.3-16   recommended\n",
              "parallel    parallel    /usr/lib/R/library            4.1.0    base       \n",
              "rpart       rpart       /usr/lib/R/library            4.1-15   recommended\n",
              "spatial     spatial     /usr/lib/R/library            7.3-14   recommended\n",
              "splines     splines     /usr/lib/R/library            4.1.0    base       \n",
              "stats       stats       /usr/lib/R/library            4.1.0    base       \n",
              "stats4      stats4      /usr/lib/R/library            4.1.0    base       \n",
              "survival    survival    /usr/lib/R/library            3.2-11   recommended\n",
              "tcltk       tcltk       /usr/lib/R/library            4.1.0    base       \n",
              "tools       tools       /usr/lib/R/library            4.1.0    base       \n",
              "utils       utils       /usr/lib/R/library            4.1.0    base       \n",
              "            Depends                                        \n",
              "ggplot2     R (>= 3.3)                                     \n",
              "IRdisplay   R (>= 3.0.1)                                   \n",
              "IRkernel    R (>= 3.2.0)                                   \n",
              "pbdZMQ      R (>= 3.5.0)                                   \n",
              "repr        R (>= 3.0.1)                                   \n",
              "askpass     NA                                             \n",
              "assertthat  NA                                             \n",
              "backports   R (>= 3.0.0)                                   \n",
              "base64enc   R (>= 2.9.0)                                   \n",
              "BH          NA                                             \n",
              "blob        NA                                             \n",
              "brew        NA                                             \n",
              "brio        NA                                             \n",
              "broom       R (>= 3.1)                                     \n",
              "cachem      NA                                             \n",
              "callr       NA                                             \n",
              "cellranger  R (>= 3.0.0)                                   \n",
              "cli         R (>= 2.10)                                    \n",
              "clipr       NA                                             \n",
              "colorspace  R (>= 3.0.0), methods                          \n",
              "commonmark  NA                                             \n",
              "cpp11       NA                                             \n",
              "crayon      NA                                             \n",
              "credentials NA                                             \n",
              "curl        R (>= 3.0.0)                                   \n",
              "data.table  R (>= 3.1.0)                                   \n",
              "DBI         methods, R (>= 3.0.0)                          \n",
              "dbplyr      R (>= 3.1)                                     \n",
              "desc        R (>= 3.1.0)                                   \n",
              "devtools    R (>= 3.0.2), usethis (>= 2.0.1)               \n",
              "⋮           ⋮                                              \n",
              "zip         NA                                             \n",
              "base        NA                                             \n",
              "boot        R (>= 3.0.0), graphics, stats                  \n",
              "class       R (>= 3.0.0), stats, utils                     \n",
              "cluster     R (>= 3.4.0)                                   \n",
              "codetools   R (>= 2.1)                                     \n",
              "compiler    NA                                             \n",
              "datasets    NA                                             \n",
              "foreign     R (>= 4.0.0)                                   \n",
              "graphics    NA                                             \n",
              "grDevices   NA                                             \n",
              "grid        NA                                             \n",
              "KernSmooth  R (>= 2.5.0), stats                            \n",
              "lattice     R (>= 3.0.0)                                   \n",
              "MASS        R (>= 3.3.0), grDevices, graphics, stats, utils\n",
              "Matrix      R (>= 3.5.0)                                   \n",
              "methods     NA                                             \n",
              "mgcv        R (>= 3.6.0), nlme (>= 3.1-64)                 \n",
              "nlme        R (>= 3.4.0)                                   \n",
              "nnet        R (>= 3.0.0), stats, utils                     \n",
              "parallel    NA                                             \n",
              "rpart       R (>= 2.15.0), graphics, stats, grDevices      \n",
              "spatial     R (>= 3.0.0), graphics, stats, utils           \n",
              "splines     NA                                             \n",
              "stats       NA                                             \n",
              "stats4      NA                                             \n",
              "survival    R (>= 3.5.0)                                   \n",
              "tcltk       NA                                             \n",
              "tools       NA                                             \n",
              "utils       NA                                             \n",
              "            Imports                                                                                                                                                                                                                                                                                                                                                                                                          \n",
              "ggplot2     digest, glue, grDevices, grid, gtable (>= 0.1.1), isoband,\\nMASS, mgcv, rlang (>= 0.4.10), scales (>= 0.5.0), stats,\\ntibble, withr (>= 2.0.0)                                                                                                                                                                                                                                                                   \n",
              "IRdisplay   methods, repr                                                                                                                                                                                                                                                                                                                                                                                                    \n",
              "IRkernel    repr (>= 0.4.99), methods, evaluate (>= 0.10), IRdisplay (>=\\n0.3.0.9999), pbdZMQ (>= 0.2-1), crayon, jsonlite (>= 0.9.6),\\nuuid, digest                                                                                                                                                                                                                                                                         \n",
              "pbdZMQ      NA                                                                                                                                                                                                                                                                                                                                                                                                               \n",
              "repr        utils, grDevices, htmltools, jsonlite, pillar (>= 1.4.0),\\nbase64enc                                                                                                                                                                                                                                                                                                                                             \n",
              "askpass     sys (>= 2.1)                                                                                                                                                                                                                                                                                                                                                                                                     \n",
              "assertthat  tools                                                                                                                                                                                                                                                                                                                                                                                                            \n",
              "backports   NA                                                                                                                                                                                                                                                                                                                                                                                                               \n",
              "base64enc   NA                                                                                                                                                                                                                                                                                                                                                                                                               \n",
              "BH          NA                                                                                                                                                                                                                                                                                                                                                                                                               \n",
              "blob        methods, rlang, vctrs (>= 0.2.1)                                                                                                                                                                                                                                                                                                                                                                                 \n",
              "brew        NA                                                                                                                                                                                                                                                                                                                                                                                                               \n",
              "brio        NA                                                                                                                                                                                                                                                                                                                                                                                                               \n",
              "broom       backports, dplyr (>= 1.0.0), ellipsis, generics (>= 0.0.2),\\nglue, methods, purrr, rlang, stringr, tibble (>= 3.0.0), tidyr\\n(>= 1.0.0)                                                                                                                                                                                                                                                                          \n",
              "cachem      rlang, fastmap                                                                                                                                                                                                                                                                                                                                                                                                   \n",
              "callr       processx (>= 3.5.0), R6, utils                                                                                                                                                                                                                                                                                                                                                                                   \n",
              "cellranger  rematch, tibble                                                                                                                                                                                                                                                                                                                                                                                                  \n",
              "cli         glue, utils                                                                                                                                                                                                                                                                                                                                                                                                      \n",
              "clipr       utils                                                                                                                                                                                                                                                                                                                                                                                                            \n",
              "colorspace  graphics, grDevices, stats                                                                                                                                                                                                                                                                                                                                                                                       \n",
              "commonmark  NA                                                                                                                                                                                                                                                                                                                                                                                                               \n",
              "cpp11       NA                                                                                                                                                                                                                                                                                                                                                                                                               \n",
              "crayon      grDevices, methods, utils                                                                                                                                                                                                                                                                                                                                                                                        \n",
              "credentials openssl (>= 1.3), sys (>= 2.1), curl, jsonlite, askpass                                                                                                                                                                                                                                                                                                                                                          \n",
              "curl        NA                                                                                                                                                                                                                                                                                                                                                                                                               \n",
              "data.table  methods                                                                                                                                                                                                                                                                                                                                                                                                          \n",
              "DBI         NA                                                                                                                                                                                                                                                                                                                                                                                                               \n",
              "dbplyr      assertthat (>= 0.2.0), blob (>= 1.2.0), DBI (>= 1.0.0), dplyr\\n(>= 1.0.4), ellipsis, glue (>= 1.2.0), lifecycle (>= 1.0.0),\\nmagrittr, methods, purrr (>= 0.2.5), R6 (>= 2.2.2), rlang (>=\\n0.2.0), tibble (>= 1.4.2), tidyselect (>= 0.2.4), utils, vctrs,\\nwithr                                                                                                                                               \n",
              "desc        utils, R6, crayon, rprojroot                                                                                                                                                                                                                                                                                                                                                                                     \n",
              "devtools    callr (>= 3.6.0), cli (>= 2.4.0), desc (>= 1.3.0), ellipsis\\n(>= 0.3.1), fs (>= 1.5.0), httr (>= 1.4.2), lifecycle (>=\\n1.0.0), memoise (>= 2.0.0), pkgbuild (>= 1.2.0), pkgload (>=\\n1.2.1), rcmdcheck (>= 1.3.3), remotes (>= 2.3.0), rlang (>=\\n0.4.10), roxygen2 (>= 7.1.1), rstudioapi (>= 0.13), rversions\\n(>= 2.0.2), sessioninfo (>= 1.1.1), stats, testthat (>= 3.0.2),\\ntools, utils, withr (>= 2.4.1)\n",
              "⋮           ⋮                                                                                                                                                                                                                                                                                                                                                                                                                \n",
              "zip         NA                                                                                                                                                                                                                                                                                                                                                                                                               \n",
              "base        NA                                                                                                                                                                                                                                                                                                                                                                                                               \n",
              "boot        NA                                                                                                                                                                                                                                                                                                                                                                                                               \n",
              "class       MASS                                                                                                                                                                                                                                                                                                                                                                                                             \n",
              "cluster     graphics, grDevices, stats, utils                                                                                                                                                                                                                                                                                                                                                                                \n",
              "codetools   NA                                                                                                                                                                                                                                                                                                                                                                                                               \n",
              "compiler    NA                                                                                                                                                                                                                                                                                                                                                                                                               \n",
              "datasets    NA                                                                                                                                                                                                                                                                                                                                                                                                               \n",
              "foreign     methods, utils, stats                                                                                                                                                                                                                                                                                                                                                                                            \n",
              "graphics    grDevices                                                                                                                                                                                                                                                                                                                                                                                                        \n",
              "grDevices   NA                                                                                                                                                                                                                                                                                                                                                                                                               \n",
              "grid        grDevices, utils                                                                                                                                                                                                                                                                                                                                                                                                 \n",
              "KernSmooth  NA                                                                                                                                                                                                                                                                                                                                                                                                               \n",
              "lattice     grid, grDevices, graphics, stats, utils                                                                                                                                                                                                                                                                                                                                                                          \n",
              "MASS        methods                                                                                                                                                                                                                                                                                                                                                                                                          \n",
              "Matrix      methods, graphics, grid, stats, utils, lattice                                                                                                                                                                                                                                                                                                                                                                   \n",
              "methods     utils, stats                                                                                                                                                                                                                                                                                                                                                                                                     \n",
              "mgcv        methods, stats, graphics, Matrix, splines, utils                                                                                                                                                                                                                                                                                                                                                                 \n",
              "nlme        graphics, stats, utils, lattice                                                                                                                                                                                                                                                                                                                                                                                  \n",
              "nnet        NA                                                                                                                                                                                                                                                                                                                                                                                                               \n",
              "parallel    tools, compiler                                                                                                                                                                                                                                                                                                                                                                                                  \n",
              "rpart       NA                                                                                                                                                                                                                                                                                                                                                                                                               \n",
              "spatial     NA                                                                                                                                                                                                                                                                                                                                                                                                               \n",
              "splines     graphics, stats                                                                                                                                                                                                                                                                                                                                                                                                  \n",
              "stats       utils, grDevices, graphics                                                                                                                                                                                                                                                                                                                                                                                       \n",
              "stats4      graphics, methods, stats                                                                                                                                                                                                                                                                                                                                                                                         \n",
              "survival    graphics, Matrix, methods, splines, stats, utils                                                                                                                                                                                                                                                                                                                                                                 \n",
              "tcltk       utils                                                                                                                                                                                                                                                                                                                                                                                                            \n",
              "tools       NA                                                                                                                                                                                                                                                                                                                                                                                                               \n",
              "utils       NA                                                                                                                                                                                                                                                                                                                                                                                                               \n",
              "            LinkingTo\n",
              "ggplot2     NA       \n",
              "IRdisplay   NA       \n",
              "IRkernel    NA       \n",
              "pbdZMQ      NA       \n",
              "repr        NA       \n",
              "askpass     NA       \n",
              "assertthat  NA       \n",
              "backports   NA       \n",
              "base64enc   NA       \n",
              "BH          NA       \n",
              "blob        NA       \n",
              "brew        NA       \n",
              "brio        NA       \n",
              "broom       NA       \n",
              "cachem      NA       \n",
              "callr       NA       \n",
              "cellranger  NA       \n",
              "cli         NA       \n",
              "clipr       NA       \n",
              "colorspace  NA       \n",
              "commonmark  NA       \n",
              "cpp11       NA       \n",
              "crayon      NA       \n",
              "credentials NA       \n",
              "curl        NA       \n",
              "data.table  NA       \n",
              "DBI         NA       \n",
              "dbplyr      NA       \n",
              "desc        NA       \n",
              "devtools    NA       \n",
              "⋮           ⋮        \n",
              "zip         NA       \n",
              "base        NA       \n",
              "boot        NA       \n",
              "class       NA       \n",
              "cluster     NA       \n",
              "codetools   NA       \n",
              "compiler    NA       \n",
              "datasets    NA       \n",
              "foreign     NA       \n",
              "graphics    NA       \n",
              "grDevices   NA       \n",
              "grid        NA       \n",
              "KernSmooth  NA       \n",
              "lattice     NA       \n",
              "MASS        NA       \n",
              "Matrix      NA       \n",
              "methods     NA       \n",
              "mgcv        NA       \n",
              "nlme        NA       \n",
              "nnet        NA       \n",
              "parallel    NA       \n",
              "rpart       NA       \n",
              "spatial     NA       \n",
              "splines     NA       \n",
              "stats       NA       \n",
              "stats4      NA       \n",
              "survival    NA       \n",
              "tcltk       NA       \n",
              "tools       NA       \n",
              "utils       NA       \n",
              "            Suggests                                                                                                                                                                                                                                                                                                                                                                                                                                                                                                                                                                                                                                                                                                                                                               \n",
              "ggplot2     covr, ragg, dplyr, ggplot2movies, hexbin, Hmisc, interp,\\nknitr, lattice, mapproj, maps, maptools, multcomp, munsell,\\nnlme, profvis, quantreg, RColorBrewer, rgeos, rmarkdown, rpart,\\nsf (>= 0.7-3), svglite (>= 1.2.0.9001), testthat (>= 2.1.0),\\nvdiffr (>= 0.3.0), xml2                                                                                                                                                                                                                                                                                                                                                                                                                                                                                          \n",
              "IRdisplay   testthat, withr                                                                                                                                                                                                                                                                                                                                                                                                                                                                                                                                                                                                                                                                                                                                                        \n",
              "IRkernel    testthat, roxygen2                                                                                                                                                                                                                                                                                                                                                                                                                                                                                                                                                                                                                                                                                                                                                     \n",
              "pbdZMQ      NA                                                                                                                                                                                                                                                                                                                                                                                                                                                                                                                                                                                                                                                                                                                                                                     \n",
              "repr        methods, highr, Cairo, stringr, testthat (>= 3.0.0), leaflet                                                                                                                                                                                                                                                                                                                                                                                                                                                                                                                                                                                                                                                                                                           \n",
              "askpass     testthat                                                                                                                                                                                                                                                                                                                                                                                                                                                                                                                                                                                                                                                                                                                                                               \n",
              "assertthat  testthat, covr                                                                                                                                                                                                                                                                                                                                                                                                                                                                                                                                                                                                                                                                                                                                                         \n",
              "backports   NA                                                                                                                                                                                                                                                                                                                                                                                                                                                                                                                                                                                                                                                                                                                                                                     \n",
              "base64enc   NA                                                                                                                                                                                                                                                                                                                                                                                                                                                                                                                                                                                                                                                                                                                                                                     \n",
              "BH          NA                                                                                                                                                                                                                                                                                                                                                                                                                                                                                                                                                                                                                                                                                                                                                                     \n",
              "blob        covr, crayon, pillar (>= 1.2.1), testthat                                                                                                                                                                                                                                                                                                                                                                                                                                                                                                                                                                                                                                                                                                                              \n",
              "brew        NA                                                                                                                                                                                                                                                                                                                                                                                                                                                                                                                                                                                                                                                                                                                                                                     \n",
              "brio        testthat (>= 2.1.0), covr                                                                                                                                                                                                                                                                                                                                                                                                                                                                                                                                                                                                                                                                                                                                              \n",
              "broom       AER, akima, AUC, bbmle, betareg, biglm, binGroup, boot,\\nbtergm, car, caret, cluster, cmprsk, coda, covr, drc, e1071,\\nemmeans, epiR, ergm (>= 3.10.4), fixest (>= 0.8.1), gam (>=\\n1.15), gee, geepack, ggplot2, glmnet, glmnetUtils, gmm, Hmisc,\\nirlba, joineRML, Kendall, knitr, ks, Lahman, lavaan, leaps,\\nlfe, lm.beta, lme4, lmodel2, lmtest (>= 0.9.38), lsmeans, maps,\\nmaptools, margins, MASS, Matrix, mclust, mediation, metafor,\\nmfx, mgcv, mlogit, modeldata, modeltests, muhaz, multcomp,\\nnetwork, nnet, orcutt (>= 2.2), ordinal, plm, poLCA, psych,\\nquantreg, Rchoice, rgeos, rmarkdown, robust, robustbase,\\nrsample, sandwich, sp, spdep, spatialreg, speedglm, spelling,\\nsurvey, survival, systemfit, testthat (>= 2.1.0), tseries,\\nvars, zoo\n",
              "cachem      testthat                                                                                                                                                                                                                                                                                                                                                                                                                                                                                                                                                                                                                                                                                                                                                               \n",
              "callr       cli, covr, ps, rprojroot, spelling, testthat, withr (>=\\n2.3.0)                                                                                                                                                                                                                                                                                                                                                                                                                                                                                                                                                                                                                                                                                                        \n",
              "cellranger  covr, testthat (>= 1.0.0), knitr, rmarkdown                                                                                                                                                                                                                                                                                                                                                                                                                                                                                                                                                                                                                                                                                                                            \n",
              "cli         callr, covr, grDevices, htmlwidgets, knitr, methods, mockery,\\nps (>= 1.3.4.9000), rmarkdown, rstudioapi, prettycode (>=\\n1.1.0), testthat, tibble, withr                                                                                                                                                                                                                                                                                                                                                                                                                                                                                                                                                                                                              \n",
              "clipr       covr, knitr, rmarkdown, rstudioapi (>= 0.5), testthat (>=\\n2.0.0)                                                                                                                                                                                                                                                                                                                                                                                                                                                                                                                                                                                                                                                                                                      \n",
              "colorspace  datasets, utils, KernSmooth, MASS, kernlab, mvtnorm, vcd,\\ntcltk, shiny, shinyjs, ggplot2, dplyr, scales, grid, png, jpeg,\\nknitr, rmarkdown, RColorBrewer, rcartocolor, scico, viridis,\\nwesanderson                                                                                                                                                                                                                                                                                                                                                                                                                                                                                                                                                                  \n",
              "commonmark  curl, testthat, xml2                                                                                                                                                                                                                                                                                                                                                                                                                                                                                                                                                                                                                                                                                                                                                   \n",
              "cpp11       bench, brio, callr, cli, covr, decor, desc, ggplot2, glue,\\nknitr, lobstr, mockery, progress, rmarkdown, scales, testthat,\\ntibble, utils, vctrs, withr                                                                                                                                                                                                                                                                                                                                                                                                                                                                                                                                                                                                                \n",
              "crayon      mockery, rstudioapi, testthat, withr                                                                                                                                                                                                                                                                                                                                                                                                                                                                                                                                                                                                                                                                                                                                   \n",
              "credentials testthat, knitr, rmarkdown                                                                                                                                                                                                                                                                                                                                                                                                                                                                                                                                                                                                                                                                                                                                             \n",
              "curl        spelling, testthat (>= 1.0.0), knitr, jsonlite, rmarkdown,\\nmagrittr, httpuv (>= 1.4.4), webutils                                                                                                                                                                                                                                                                                                                                                                                                                                                                                                                                                                                                                                                                      \n",
              "data.table  bit64 (>= 4.0.0), bit (>= 4.0.4), curl, R.utils, xts,\\nnanotime, zoo (>= 1.8-1), yaml, knitr, rmarkdown                                                                                                                                                                                                                                                                                                                                                                                                                                                                                                                                                                                                                                                                \n",
              "DBI         blob, covr, dbplyr, dplyr, glue, hms, knitr, magrittr,\\nrmarkdown, rprojroot, RMariaDB, RSQLite (>= 1.1-2), testthat,\\nxml2                                                                                                                                                                                                                                                                                                                                                                                                                                                                                                                                                                                                                                            \n",
              "dbplyr      bit64, covr, knitr, Lahman, nycflights13, odbc, RMariaDB (>=\\n1.0.2), rmarkdown, RPostgres (>= 1.1.3), RPostgreSQL, RSQLite\\n(>= 2.1.0), testthat (>= 3.0.2), tidyr                                                                                                                                                                                                                                                                                                                                                                                                                                                                                                                                                                                                    \n",
              "desc        covr, testthat, whoami, withr, spelling, gh                                                                                                                                                                                                                                                                                                                                                                                                                                                                                                                                                                                                                                                                                                                            \n",
              "devtools    BiocManager (>= 1.30.12), covr (>= 3.5.1), curl (>= 4.3),\\ndigest (>= 0.6.27), DT (>= 0.17), foghorn (>= 1.3.2), gh (>=\\n1.2.1), gmailr (>= 1.0.0), knitr (>= 1.31), lintr (>= 2.0.1),\\nMASS, mockery (>= 0.4.2), pingr (>= 2.0.1), pkgdown (>= 1.6.1),\\nrhub (>= 1.1.1), rmarkdown (>= 2.7), spelling (>= 2.2)                                                                                                                                                                                                                                                                                                                                                                                                                                                        \n",
              "⋮           ⋮                                                                                                                                                                                                                                                                                                                                                                                                                                                                                                                                                                                                                                                                                                                                                                      \n",
              "zip         covr, processx, R6, testthat, withr                                                                                                                                                                                                                                                                                                                                                                                                                                                                                                                                                                                                                                                                                                                                    \n",
              "base        methods                                                                                                                                                                                                                                                                                                                                                                                                                                                                                                                                                                                                                                                                                                                                                                \n",
              "boot        MASS, survival                                                                                                                                                                                                                                                                                                                                                                                                                                                                                                                                                                                                                                                                                                                                                         \n",
              "class       NA                                                                                                                                                                                                                                                                                                                                                                                                                                                                                                                                                                                                                                                                                                                                                                     \n",
              "cluster     MASS, Matrix                                                                                                                                                                                                                                                                                                                                                                                                                                                                                                                                                                                                                                                                                                                                                           \n",
              "codetools   NA                                                                                                                                                                                                                                                                                                                                                                                                                                                                                                                                                                                                                                                                                                                                                                     \n",
              "compiler    NA                                                                                                                                                                                                                                                                                                                                                                                                                                                                                                                                                                                                                                                                                                                                                                     \n",
              "datasets    NA                                                                                                                                                                                                                                                                                                                                                                                                                                                                                                                                                                                                                                                                                                                                                                     \n",
              "foreign     NA                                                                                                                                                                                                                                                                                                                                                                                                                                                                                                                                                                                                                                                                                                                                                                     \n",
              "graphics    NA                                                                                                                                                                                                                                                                                                                                                                                                                                                                                                                                                                                                                                                                                                                                                                     \n",
              "grDevices   KernSmooth                                                                                                                                                                                                                                                                                                                                                                                                                                                                                                                                                                                                                                                                                                                                                             \n",
              "grid        lattice                                                                                                                                                                                                                                                                                                                                                                                                                                                                                                                                                                                                                                                                                                                                                                \n",
              "KernSmooth  MASS, carData                                                                                                                                                                                                                                                                                                                                                                                                                                                                                                                                                                                                                                                                                                                                                          \n",
              "lattice     KernSmooth, MASS, latticeExtra                                                                                                                                                                                                                                                                                                                                                                                                                                                                                                                                                                                                                                                                                                                                         \n",
              "MASS        lattice, nlme, nnet, survival                                                                                                                                                                                                                                                                                                                                                                                                                                                                                                                                                                                                                                                                                                                                          \n",
              "Matrix      expm, MASS                                                                                                                                                                                                                                                                                                                                                                                                                                                                                                                                                                                                                                                                                                                                                             \n",
              "methods     codetools                                                                                                                                                                                                                                                                                                                                                                                                                                                                                                                                                                                                                                                                                                                                                              \n",
              "mgcv        parallel, survival, MASS                                                                                                                                                                                                                                                                                                                                                                                                                                                                                                                                                                                                                                                                                                                                               \n",
              "nlme        Hmisc, MASS                                                                                                                                                                                                                                                                                                                                                                                                                                                                                                                                                                                                                                                                                                                                                            \n",
              "nnet        MASS                                                                                                                                                                                                                                                                                                                                                                                                                                                                                                                                                                                                                                                                                                                                                                   \n",
              "parallel    methods                                                                                                                                                                                                                                                                                                                                                                                                                                                                                                                                                                                                                                                                                                                                                                \n",
              "rpart       survival                                                                                                                                                                                                                                                                                                                                                                                                                                                                                                                                                                                                                                                                                                                                                               \n",
              "spatial     MASS                                                                                                                                                                                                                                                                                                                                                                                                                                                                                                                                                                                                                                                                                                                                                                   \n",
              "splines     Matrix, methods                                                                                                                                                                                                                                                                                                                                                                                                                                                                                                                                                                                                                                                                                                                                                        \n",
              "stats       MASS, Matrix, SuppDists, methods, stats4                                                                                                                                                                                                                                                                                                                                                                                                                                                                                                                                                                                                                                                                                                                               \n",
              "stats4      NA                                                                                                                                                                                                                                                                                                                                                                                                                                                                                                                                                                                                                                                                                                                                                                     \n",
              "survival    NA                                                                                                                                                                                                                                                                                                                                                                                                                                                                                                                                                                                                                                                                                                                                                                     \n",
              "tcltk       NA                                                                                                                                                                                                                                                                                                                                                                                                                                                                                                                                                                                                                                                                                                                                                                     \n",
              "tools       codetools, methods, xml2, curl, commonmark                                                                                                                                                                                                                                                                                                                                                                                                                                                                                                                                                                                                                                                                                                                             \n",
              "utils       methods, xml2, commonmark                                                                                                                                                                                                                                                                                                                                                                                                                                                                                                                                                                                                                                                                                                                                              \n",
              "            Enhances                                                           \n",
              "ggplot2     sp                                                                 \n",
              "IRdisplay   NA                                                                 \n",
              "IRkernel    NA                                                                 \n",
              "pbdZMQ      NA                                                                 \n",
              "repr        data.table, tibble, htmlwidgets, vegalite, plotly, geojsonio       \n",
              "askpass     NA                                                                 \n",
              "assertthat  NA                                                                 \n",
              "backports   NA                                                                 \n",
              "base64enc   png                                                                \n",
              "BH          NA                                                                 \n",
              "blob        NA                                                                 \n",
              "brew        NA                                                                 \n",
              "brio        NA                                                                 \n",
              "broom       NA                                                                 \n",
              "cachem      NA                                                                 \n",
              "callr       NA                                                                 \n",
              "cellranger  NA                                                                 \n",
              "cli         NA                                                                 \n",
              "clipr       NA                                                                 \n",
              "colorspace  NA                                                                 \n",
              "commonmark  NA                                                                 \n",
              "cpp11       NA                                                                 \n",
              "crayon      NA                                                                 \n",
              "credentials NA                                                                 \n",
              "curl        NA                                                                 \n",
              "data.table  NA                                                                 \n",
              "DBI         NA                                                                 \n",
              "dbplyr      NA                                                                 \n",
              "desc        NA                                                                 \n",
              "devtools    NA                                                                 \n",
              "⋮           ⋮                                                                  \n",
              "zip         NA                                                                 \n",
              "base        NA                                                                 \n",
              "boot        NA                                                                 \n",
              "class       NA                                                                 \n",
              "cluster     NA                                                                 \n",
              "codetools   NA                                                                 \n",
              "compiler    NA                                                                 \n",
              "datasets    NA                                                                 \n",
              "foreign     NA                                                                 \n",
              "graphics    NA                                                                 \n",
              "grDevices   NA                                                                 \n",
              "grid        NA                                                                 \n",
              "KernSmooth  NA                                                                 \n",
              "lattice     chron                                                              \n",
              "MASS        NA                                                                 \n",
              "Matrix      MatrixModels, graph, SparseM, sfsmisc, igraph, maptools, sp,\\nspdep\n",
              "methods     NA                                                                 \n",
              "mgcv        NA                                                                 \n",
              "nlme        NA                                                                 \n",
              "nnet        NA                                                                 \n",
              "parallel    snow, nws, Rmpi                                                    \n",
              "rpart       NA                                                                 \n",
              "spatial     NA                                                                 \n",
              "splines     NA                                                                 \n",
              "stats       NA                                                                 \n",
              "stats4      NA                                                                 \n",
              "survival    NA                                                                 \n",
              "tcltk       NA                                                                 \n",
              "tools       NA                                                                 \n",
              "utils       NA                                                                 \n",
              "            License                     License_is_FOSS License_restricts_use\n",
              "ggplot2     MIT + file LICENSE          NA              NA                   \n",
              "IRdisplay   MIT + file LICENSE          NA              NA                   \n",
              "IRkernel    MIT + file LICENSE          NA              NA                   \n",
              "pbdZMQ      GPL-3                       NA              NA                   \n",
              "repr        GPL-3                       NA              NA                   \n",
              "askpass     MIT + file LICENSE          NA              NA                   \n",
              "assertthat  GPL-3                       NA              NA                   \n",
              "backports   GPL-2 | GPL-3               NA              NA                   \n",
              "base64enc   GPL-2 | GPL-3               NA              NA                   \n",
              "BH          BSL-1.0                     NA              NA                   \n",
              "blob        GPL-3                       NA              NA                   \n",
              "brew        GPL-2                       NA              NA                   \n",
              "brio        MIT + file LICENSE          NA              NA                   \n",
              "broom       MIT + file LICENSE          NA              NA                   \n",
              "cachem      MIT + file LICENSE          NA              NA                   \n",
              "callr       MIT + file LICENSE          NA              NA                   \n",
              "cellranger  MIT + file LICENSE          NA              NA                   \n",
              "cli         MIT + file LICENSE          NA              NA                   \n",
              "clipr       GPL-3                       NA              NA                   \n",
              "colorspace  BSD_3_clause + file LICENSE NA              NA                   \n",
              "commonmark  BSD_2_clause + file LICENSE NA              NA                   \n",
              "cpp11       MIT + file LICENSE          NA              NA                   \n",
              "crayon      MIT + file LICENSE          NA              NA                   \n",
              "credentials MIT + file LICENSE          NA              NA                   \n",
              "curl        MIT + file LICENSE          NA              NA                   \n",
              "data.table  MPL-2.0 | file LICENSE      NA              NA                   \n",
              "DBI         LGPL (>= 2.1)               NA              NA                   \n",
              "dbplyr      MIT + file LICENSE          NA              NA                   \n",
              "desc        MIT + file LICENSE          NA              NA                   \n",
              "devtools    MIT + file LICENSE          NA              NA                   \n",
              "⋮           ⋮                           ⋮               ⋮                    \n",
              "zip         MIT + file LICENSE          NA              NA                   \n",
              "base        Part of R 4.1.0             NA              NA                   \n",
              "boot        Unlimited                   NA              NA                   \n",
              "class       GPL-2 | GPL-3               NA              NA                   \n",
              "cluster     GPL (>= 2)                  NA              NA                   \n",
              "codetools   GPL                         NA              NA                   \n",
              "compiler    Part of R 4.1.0             NA              NA                   \n",
              "datasets    Part of R 4.1.0             NA              NA                   \n",
              "foreign     GPL (>= 2)                  NA              NA                   \n",
              "graphics    Part of R 4.1.0             NA              NA                   \n",
              "grDevices   Part of R 4.1.0             NA              NA                   \n",
              "grid        Part of R 4.1.0             NA              NA                   \n",
              "KernSmooth  Unlimited                   NA              NA                   \n",
              "lattice     GPL (>= 2)                  NA              NA                   \n",
              "MASS        GPL-2 | GPL-3               NA              NA                   \n",
              "Matrix      GPL (>= 2) | file LICENCE   NA              NA                   \n",
              "methods     Part of R 4.1.0             NA              NA                   \n",
              "mgcv        GPL (>= 2)                  NA              NA                   \n",
              "nlme        GPL (>= 2) | file LICENCE   NA              NA                   \n",
              "nnet        GPL-2 | GPL-3               NA              NA                   \n",
              "parallel    Part of R 4.1.0             NA              NA                   \n",
              "rpart       GPL-2 | GPL-3               NA              NA                   \n",
              "spatial     GPL-2 | GPL-3               NA              NA                   \n",
              "splines     Part of R 4.1.0             NA              NA                   \n",
              "stats       Part of R 4.1.0             NA              NA                   \n",
              "stats4      Part of R 4.1.0             NA              NA                   \n",
              "survival    LGPL (>= 2)                 NA              NA                   \n",
              "tcltk       Part of R 4.1.0             NA              NA                   \n",
              "tools       Part of R 4.1.0             NA              NA                   \n",
              "utils       Part of R 4.1.0             NA              NA                   \n",
              "            OS_type MD5sum NeedsCompilation Built\n",
              "ggplot2     NA      NA     no               4.1.0\n",
              "IRdisplay   NA      NA     no               4.1.0\n",
              "IRkernel    NA      NA     no               4.1.0\n",
              "pbdZMQ      NA      NA     yes              4.1.0\n",
              "repr        NA      NA     no               4.1.0\n",
              "askpass     NA      NA     yes              4.0.0\n",
              "assertthat  NA      NA     no               4.0.0\n",
              "backports   NA      NA     yes              4.0.3\n",
              "base64enc   NA      NA     yes              4.0.0\n",
              "BH          NA      NA     no               4.0.3\n",
              "blob        NA      NA     no               4.0.0\n",
              "brew        NA      NA     NA               4.0.0\n",
              "brio        NA      NA     yes              4.0.5\n",
              "broom       NA      NA     no               4.0.5\n",
              "cachem      NA      NA     yes              4.0.5\n",
              "callr       NA      NA     no               4.0.5\n",
              "cellranger  NA      NA     no               4.0.0\n",
              "cli         NA      NA     no               4.0.5\n",
              "clipr       NA      NA     no               4.0.2\n",
              "colorspace  NA      NA     yes              4.0.5\n",
              "commonmark  NA      NA     yes              4.0.0\n",
              "cpp11       NA      NA     no               4.0.4\n",
              "crayon      NA      NA     no               4.0.3\n",
              "credentials NA      NA     no               4.0.2\n",
              "curl        NA      NA     yes              4.0.5\n",
              "data.table  NA      NA     yes              4.0.4\n",
              "DBI         NA      NA     no               4.0.3\n",
              "dbplyr      NA      NA     no               4.0.5\n",
              "desc        NA      NA     no               4.0.4\n",
              "devtools    NA      NA     no               4.1.0\n",
              "⋮           ⋮       ⋮      ⋮                ⋮    \n",
              "zip         NA      NA     yes              4.1.0\n",
              "base        NA      NA     NA               4.1.0\n",
              "boot        NA      NA     no               4.0.5\n",
              "class       NA      NA     yes              4.0.5\n",
              "cluster     NA      NA     yes              4.0.5\n",
              "codetools   NA      NA     no               4.0.3\n",
              "compiler    NA      NA     NA               4.1.0\n",
              "datasets    NA      NA     NA               4.1.0\n",
              "foreign     NA      NA     yes              4.0.3\n",
              "graphics    NA      NA     yes              4.1.0\n",
              "grDevices   NA      NA     yes              4.1.0\n",
              "grid        NA      NA     yes              4.1.0\n",
              "KernSmooth  NA      NA     yes              4.0.5\n",
              "lattice     NA      NA     yes              4.1.0\n",
              "MASS        NA      NA     yes              4.0.5\n",
              "Matrix      NA      NA     yes              4.1.0\n",
              "methods     NA      NA     yes              4.1.0\n",
              "mgcv        NA      NA     yes              4.1.0\n",
              "nlme        NA      NA     yes              4.0.3\n",
              "nnet        NA      NA     yes              4.0.5\n",
              "parallel    NA      NA     yes              4.1.0\n",
              "rpart       NA      NA     yes              4.0.0\n",
              "spatial     NA      NA     yes              4.0.5\n",
              "splines     NA      NA     yes              4.1.0\n",
              "stats       NA      NA     yes              4.1.0\n",
              "stats4      NA      NA     NA               4.1.0\n",
              "survival    NA      NA     yes              4.0.5\n",
              "tcltk       NA      NA     yes              4.1.0\n",
              "tools       NA      NA     yes              4.1.0\n",
              "utils       NA      NA     yes              4.1.0"
            ],
            "text/latex": "A matrix: 155 × 16 of type chr\n\\begin{tabular}{r|llllllllllllllll}\n  & Package & LibPath & Version & Priority & Depends & Imports & LinkingTo & Suggests & Enhances & License & License\\_is\\_FOSS & License\\_restricts\\_use & OS\\_type & MD5sum & NeedsCompilation & Built\\\\\n\\hline\n\tggplot2 & ggplot2     & /usr/local/lib/R/site-library & 3.3.4    & NA & R (>= 3.3)                       & digest, glue, grDevices, grid, gtable (>= 0.1.1), isoband,\nMASS, mgcv, rlang (>= 0.4.10), scales (>= 0.5.0), stats,\ntibble, withr (>= 2.0.0)                                                                                                                                                                                                                                                                    & NA & covr, ragg, dplyr, ggplot2movies, hexbin, Hmisc, interp,\nknitr, lattice, mapproj, maps, maptools, multcomp, munsell,\nnlme, profvis, quantreg, RColorBrewer, rgeos, rmarkdown, rpart,\nsf (>= 0.7-3), svglite (>= 1.2.0.9001), testthat (>= 2.1.0),\nvdiffr (>= 0.3.0), xml2                                                                                                                                                                                                                                                                                                                                                                                                                                                                                           & sp                                                           & MIT + file LICENSE          & NA & NA & NA & NA & no  & 4.1.0\\\\\n\tIRdisplay & IRdisplay   & /usr/local/lib/R/site-library & 1.0      & NA & R (>= 3.0.1)                     & methods, repr                                                                                                                                                                                                                                                                                                                                                                                                     & NA & testthat, withr                                                                                                                                                                                                                                                                                                                                                                                                                                                                                                                                                                                                                                                                                                                                                         & NA                                                           & MIT + file LICENSE          & NA & NA & NA & NA & no  & 4.1.0\\\\\n\tIRkernel & IRkernel    & /usr/local/lib/R/site-library & 1.2      & NA & R (>= 3.2.0)                     & repr (>= 0.4.99), methods, evaluate (>= 0.10), IRdisplay (>=\n0.3.0.9999), pbdZMQ (>= 0.2-1), crayon, jsonlite (>= 0.9.6),\nuuid, digest                                                                                                                                                                                                                                                                          & NA & testthat, roxygen2                                                                                                                                                                                                                                                                                                                                                                                                                                                                                                                                                                                                                                                                                                                                                      & NA                                                           & MIT + file LICENSE          & NA & NA & NA & NA & no  & 4.1.0\\\\\n\tpbdZMQ & pbdZMQ      & /usr/local/lib/R/site-library & 0.3-5    & NA & R (>= 3.5.0)                     & NA                                                                                                                                                                                                                                                                                                                                                                                                                & NA & NA                                                                                                                                                                                                                                                                                                                                                                                                                                                                                                                                                                                                                                                                                                                                                                      & NA                                                           & GPL-3                       & NA & NA & NA & NA & yes & 4.1.0\\\\\n\trepr & repr        & /usr/local/lib/R/site-library & 1.1.3    & NA & R (>= 3.0.1)                     & utils, grDevices, htmltools, jsonlite, pillar (>= 1.4.0),\nbase64enc                                                                                                                                                                                                                                                                                                                                              & NA & methods, highr, Cairo, stringr, testthat (>= 3.0.0), leaflet                                                                                                                                                                                                                                                                                                                                                                                                                                                                                                                                                                                                                                                                                                            & data.table, tibble, htmlwidgets, vegalite, plotly, geojsonio & GPL-3                       & NA & NA & NA & NA & no  & 4.1.0\\\\\n\taskpass & askpass     & /usr/lib/R/site-library       & 1.1      & NA & NA                               & sys (>= 2.1)                                                                                                                                                                                                                                                                                                                                                                                                      & NA & testthat                                                                                                                                                                                                                                                                                                                                                                                                                                                                                                                                                                                                                                                                                                                                                                & NA                                                           & MIT + file LICENSE          & NA & NA & NA & NA & yes & 4.0.0\\\\\n\tassertthat & assertthat  & /usr/lib/R/site-library       & 0.2.1    & NA & NA                               & tools                                                                                                                                                                                                                                                                                                                                                                                                             & NA & testthat, covr                                                                                                                                                                                                                                                                                                                                                                                                                                                                                                                                                                                                                                                                                                                                                          & NA                                                           & GPL-3                       & NA & NA & NA & NA & no  & 4.0.0\\\\\n\tbackports & backports   & /usr/lib/R/site-library       & 1.2.1    & NA & R (>= 3.0.0)                     & NA                                                                                                                                                                                                                                                                                                                                                                                                                & NA & NA                                                                                                                                                                                                                                                                                                                                                                                                                                                                                                                                                                                                                                                                                                                                                                      & NA                                                           & GPL-2 \\textbar{} GPL-3               & NA & NA & NA & NA & yes & 4.0.3\\\\\n\tbase64enc & base64enc   & /usr/lib/R/site-library       & 0.1-3    & NA & R (>= 2.9.0)                     & NA                                                                                                                                                                                                                                                                                                                                                                                                                & NA & NA                                                                                                                                                                                                                                                                                                                                                                                                                                                                                                                                                                                                                                                                                                                                                                      & png                                                          & GPL-2 \\textbar{} GPL-3               & NA & NA & NA & NA & yes & 4.0.0\\\\\n\tBH & BH          & /usr/lib/R/site-library       & 1.75.0-0 & NA & NA                               & NA                                                                                                                                                                                                                                                                                                                                                                                                                & NA & NA                                                                                                                                                                                                                                                                                                                                                                                                                                                                                                                                                                                                                                                                                                                                                                      & NA                                                           & BSL-1.0                     & NA & NA & NA & NA & no  & 4.0.3\\\\\n\tblob & blob        & /usr/lib/R/site-library       & 1.2.1    & NA & NA                               & methods, rlang, vctrs (>= 0.2.1)                                                                                                                                                                                                                                                                                                                                                                                  & NA & covr, crayon, pillar (>= 1.2.1), testthat                                                                                                                                                                                                                                                                                                                                                                                                                                                                                                                                                                                                                                                                                                                               & NA                                                           & GPL-3                       & NA & NA & NA & NA & no  & 4.0.0\\\\\n\tbrew & brew        & /usr/lib/R/site-library       & 1.0-6    & NA & NA                               & NA                                                                                                                                                                                                                                                                                                                                                                                                                & NA & NA                                                                                                                                                                                                                                                                                                                                                                                                                                                                                                                                                                                                                                                                                                                                                                      & NA                                                           & GPL-2                       & NA & NA & NA & NA & NA  & 4.0.0\\\\\n\tbrio & brio        & /usr/lib/R/site-library       & 1.1.2    & NA & NA                               & NA                                                                                                                                                                                                                                                                                                                                                                                                                & NA & testthat (>= 2.1.0), covr                                                                                                                                                                                                                                                                                                                                                                                                                                                                                                                                                                                                                                                                                                                                               & NA                                                           & MIT + file LICENSE          & NA & NA & NA & NA & yes & 4.0.5\\\\\n\tbroom & broom       & /usr/lib/R/site-library       & 0.7.6    & NA & R (>= 3.1)                       & backports, dplyr (>= 1.0.0), ellipsis, generics (>= 0.0.2),\nglue, methods, purrr, rlang, stringr, tibble (>= 3.0.0), tidyr\n(>= 1.0.0)                                                                                                                                                                                                                                                                           & NA & AER, akima, AUC, bbmle, betareg, biglm, binGroup, boot,\nbtergm, car, caret, cluster, cmprsk, coda, covr, drc, e1071,\nemmeans, epiR, ergm (>= 3.10.4), fixest (>= 0.8.1), gam (>=\n1.15), gee, geepack, ggplot2, glmnet, glmnetUtils, gmm, Hmisc,\nirlba, joineRML, Kendall, knitr, ks, Lahman, lavaan, leaps,\nlfe, lm.beta, lme4, lmodel2, lmtest (>= 0.9.38), lsmeans, maps,\nmaptools, margins, MASS, Matrix, mclust, mediation, metafor,\nmfx, mgcv, mlogit, modeldata, modeltests, muhaz, multcomp,\nnetwork, nnet, orcutt (>= 2.2), ordinal, plm, poLCA, psych,\nquantreg, Rchoice, rgeos, rmarkdown, robust, robustbase,\nrsample, sandwich, sp, spdep, spatialreg, speedglm, spelling,\nsurvey, survival, systemfit, testthat (>= 2.1.0), tseries,\nvars, zoo & NA                                                           & MIT + file LICENSE          & NA & NA & NA & NA & no  & 4.0.5\\\\\n\tcachem & cachem      & /usr/lib/R/site-library       & 1.0.5    & NA & NA                               & rlang, fastmap                                                                                                                                                                                                                                                                                                                                                                                                    & NA & testthat                                                                                                                                                                                                                                                                                                                                                                                                                                                                                                                                                                                                                                                                                                                                                                & NA                                                           & MIT + file LICENSE          & NA & NA & NA & NA & yes & 4.0.5\\\\\n\tcallr & callr       & /usr/lib/R/site-library       & 3.7.0    & NA & NA                               & processx (>= 3.5.0), R6, utils                                                                                                                                                                                                                                                                                                                                                                                    & NA & cli, covr, ps, rprojroot, spelling, testthat, withr (>=\n2.3.0)                                                                                                                                                                                                                                                                                                                                                                                                                                                                                                                                                                                                                                                                                                         & NA                                                           & MIT + file LICENSE          & NA & NA & NA & NA & no  & 4.0.5\\\\\n\tcellranger & cellranger  & /usr/lib/R/site-library       & 1.1.0    & NA & R (>= 3.0.0)                     & rematch, tibble                                                                                                                                                                                                                                                                                                                                                                                                   & NA & covr, testthat (>= 1.0.0), knitr, rmarkdown                                                                                                                                                                                                                                                                                                                                                                                                                                                                                                                                                                                                                                                                                                                             & NA                                                           & MIT + file LICENSE          & NA & NA & NA & NA & no  & 4.0.0\\\\\n\tcli & cli         & /usr/lib/R/site-library       & 2.5.0    & NA & R (>= 2.10)                      & glue, utils                                                                                                                                                                                                                                                                                                                                                                                                       & NA & callr, covr, grDevices, htmlwidgets, knitr, methods, mockery,\nps (>= 1.3.4.9000), rmarkdown, rstudioapi, prettycode (>=\n1.1.0), testthat, tibble, withr                                                                                                                                                                                                                                                                                                                                                                                                                                                                                                                                                                                                               & NA                                                           & MIT + file LICENSE          & NA & NA & NA & NA & no  & 4.0.5\\\\\n\tclipr & clipr       & /usr/lib/R/site-library       & 0.7.1    & NA & NA                               & utils                                                                                                                                                                                                                                                                                                                                                                                                             & NA & covr, knitr, rmarkdown, rstudioapi (>= 0.5), testthat (>=\n2.0.0)                                                                                                                                                                                                                                                                                                                                                                                                                                                                                                                                                                                                                                                                                                       & NA                                                           & GPL-3                       & NA & NA & NA & NA & no  & 4.0.2\\\\\n\tcolorspace & colorspace  & /usr/lib/R/site-library       & 2.0-1    & NA & R (>= 3.0.0), methods            & graphics, grDevices, stats                                                                                                                                                                                                                                                                                                                                                                                        & NA & datasets, utils, KernSmooth, MASS, kernlab, mvtnorm, vcd,\ntcltk, shiny, shinyjs, ggplot2, dplyr, scales, grid, png, jpeg,\nknitr, rmarkdown, RColorBrewer, rcartocolor, scico, viridis,\nwesanderson                                                                                                                                                                                                                                                                                                                                                                                                                                                                                                                                                                   & NA                                                           & BSD\\_3\\_clause + file LICENSE & NA & NA & NA & NA & yes & 4.0.5\\\\\n\tcommonmark & commonmark  & /usr/lib/R/site-library       & 1.7      & NA & NA                               & NA                                                                                                                                                                                                                                                                                                                                                                                                                & NA & curl, testthat, xml2                                                                                                                                                                                                                                                                                                                                                                                                                                                                                                                                                                                                                                                                                                                                                    & NA                                                           & BSD\\_2\\_clause + file LICENSE & NA & NA & NA & NA & yes & 4.0.0\\\\\n\tcpp11 & cpp11       & /usr/lib/R/site-library       & 0.2.7    & NA & NA                               & NA                                                                                                                                                                                                                                                                                                                                                                                                                & NA & bench, brio, callr, cli, covr, decor, desc, ggplot2, glue,\nknitr, lobstr, mockery, progress, rmarkdown, scales, testthat,\ntibble, utils, vctrs, withr                                                                                                                                                                                                                                                                                                                                                                                                                                                                                                                                                                                                                 & NA                                                           & MIT + file LICENSE          & NA & NA & NA & NA & no  & 4.0.4\\\\\n\tcrayon & crayon      & /usr/lib/R/site-library       & 1.4.1    & NA & NA                               & grDevices, methods, utils                                                                                                                                                                                                                                                                                                                                                                                         & NA & mockery, rstudioapi, testthat, withr                                                                                                                                                                                                                                                                                                                                                                                                                                                                                                                                                                                                                                                                                                                                    & NA                                                           & MIT + file LICENSE          & NA & NA & NA & NA & no  & 4.0.3\\\\\n\tcredentials & credentials & /usr/lib/R/site-library       & 1.3.0    & NA & NA                               & openssl (>= 1.3), sys (>= 2.1), curl, jsonlite, askpass                                                                                                                                                                                                                                                                                                                                                           & NA & testthat, knitr, rmarkdown                                                                                                                                                                                                                                                                                                                                                                                                                                                                                                                                                                                                                                                                                                                                              & NA                                                           & MIT + file LICENSE          & NA & NA & NA & NA & no  & 4.0.2\\\\\n\tcurl & curl        & /usr/lib/R/site-library       & 4.3.1    & NA & R (>= 3.0.0)                     & NA                                                                                                                                                                                                                                                                                                                                                                                                                & NA & spelling, testthat (>= 1.0.0), knitr, jsonlite, rmarkdown,\nmagrittr, httpuv (>= 1.4.4), webutils                                                                                                                                                                                                                                                                                                                                                                                                                                                                                                                                                                                                                                                                       & NA                                                           & MIT + file LICENSE          & NA & NA & NA & NA & yes & 4.0.5\\\\\n\tdata.table & data.table  & /usr/lib/R/site-library       & 1.14.0   & NA & R (>= 3.1.0)                     & methods                                                                                                                                                                                                                                                                                                                                                                                                           & NA & bit64 (>= 4.0.0), bit (>= 4.0.4), curl, R.utils, xts,\nnanotime, zoo (>= 1.8-1), yaml, knitr, rmarkdown                                                                                                                                                                                                                                                                                                                                                                                                                                                                                                                                                                                                                                                                 & NA                                                           & MPL-2.0 \\textbar{} file LICENSE      & NA & NA & NA & NA & yes & 4.0.4\\\\\n\tDBI & DBI         & /usr/lib/R/site-library       & 1.1.1    & NA & methods, R (>= 3.0.0)            & NA                                                                                                                                                                                                                                                                                                                                                                                                                & NA & blob, covr, dbplyr, dplyr, glue, hms, knitr, magrittr,\nrmarkdown, rprojroot, RMariaDB, RSQLite (>= 1.1-2), testthat,\nxml2                                                                                                                                                                                                                                                                                                                                                                                                                                                                                                                                                                                                                                             & NA                                                           & LGPL (>= 2.1)               & NA & NA & NA & NA & no  & 4.0.3\\\\\n\tdbplyr & dbplyr      & /usr/lib/R/site-library       & 2.1.1    & NA & R (>= 3.1)                       & assertthat (>= 0.2.0), blob (>= 1.2.0), DBI (>= 1.0.0), dplyr\n(>= 1.0.4), ellipsis, glue (>= 1.2.0), lifecycle (>= 1.0.0),\nmagrittr, methods, purrr (>= 0.2.5), R6 (>= 2.2.2), rlang (>=\n0.2.0), tibble (>= 1.4.2), tidyselect (>= 0.2.4), utils, vctrs,\nwithr                                                                                                                                                & NA & bit64, covr, knitr, Lahman, nycflights13, odbc, RMariaDB (>=\n1.0.2), rmarkdown, RPostgres (>= 1.1.3), RPostgreSQL, RSQLite\n(>= 2.1.0), testthat (>= 3.0.2), tidyr                                                                                                                                                                                                                                                                                                                                                                                                                                                                                                                                                                                                     & NA                                                           & MIT + file LICENSE          & NA & NA & NA & NA & no  & 4.0.5\\\\\n\tdesc & desc        & /usr/lib/R/site-library       & 1.3.0    & NA & R (>= 3.1.0)                     & utils, R6, crayon, rprojroot                                                                                                                                                                                                                                                                                                                                                                                      & NA & covr, testthat, whoami, withr, spelling, gh                                                                                                                                                                                                                                                                                                                                                                                                                                                                                                                                                                                                                                                                                                                             & NA                                                           & MIT + file LICENSE          & NA & NA & NA & NA & no  & 4.0.4\\\\\n\tdevtools & devtools    & /usr/lib/R/site-library       & 2.4.2    & NA & R (>= 3.0.2), usethis (>= 2.0.1) & callr (>= 3.6.0), cli (>= 2.4.0), desc (>= 1.3.0), ellipsis\n(>= 0.3.1), fs (>= 1.5.0), httr (>= 1.4.2), lifecycle (>=\n1.0.0), memoise (>= 2.0.0), pkgbuild (>= 1.2.0), pkgload (>=\n1.2.1), rcmdcheck (>= 1.3.3), remotes (>= 2.3.0), rlang (>=\n0.4.10), roxygen2 (>= 7.1.1), rstudioapi (>= 0.13), rversions\n(>= 2.0.2), sessioninfo (>= 1.1.1), stats, testthat (>= 3.0.2),\ntools, utils, withr (>= 2.4.1) & NA & BiocManager (>= 1.30.12), covr (>= 3.5.1), curl (>= 4.3),\ndigest (>= 0.6.27), DT (>= 0.17), foghorn (>= 1.3.2), gh (>=\n1.2.1), gmailr (>= 1.0.0), knitr (>= 1.31), lintr (>= 2.0.1),\nMASS, mockery (>= 0.4.2), pingr (>= 2.0.1), pkgdown (>= 1.6.1),\nrhub (>= 1.1.1), rmarkdown (>= 2.7), spelling (>= 2.2)                                                                                                                                                                                                                                                                                                                                                                                                                                                         & NA                                                           & MIT + file LICENSE          & NA & NA & NA & NA & no  & 4.1.0\\\\\n\t⋮ & ⋮ & ⋮ & ⋮ & ⋮ & ⋮ & ⋮ & ⋮ & ⋮ & ⋮ & ⋮ & ⋮ & ⋮ & ⋮ & ⋮ & ⋮ & ⋮\\\\\n\tzip & zip        & /usr/lib/R/site-library & 2.2.0   & NA          & NA                                              & NA                                               & NA & covr, processx, R6, testthat, withr        & NA                                                                  & MIT + file LICENSE        & NA & NA & NA & NA & yes & 4.1.0\\\\\n\tbase & base       & /usr/lib/R/library      & 4.1.0   & base        & NA                                              & NA                                               & NA & methods                                    & NA                                                                  & Part of R 4.1.0           & NA & NA & NA & NA & NA  & 4.1.0\\\\\n\tboot & boot       & /usr/lib/R/library      & 1.3-28  & recommended & R (>= 3.0.0), graphics, stats                   & NA                                               & NA & MASS, survival                             & NA                                                                  & Unlimited                 & NA & NA & NA & NA & no  & 4.0.5\\\\\n\tclass & class      & /usr/lib/R/library      & 7.3-19  & recommended & R (>= 3.0.0), stats, utils                      & MASS                                             & NA & NA                                         & NA                                                                  & GPL-2 \\textbar{} GPL-3             & NA & NA & NA & NA & yes & 4.0.5\\\\\n\tcluster & cluster    & /usr/lib/R/library      & 2.1.2   & recommended & R (>= 3.4.0)                                    & graphics, grDevices, stats, utils                & NA & MASS, Matrix                               & NA                                                                  & GPL (>= 2)                & NA & NA & NA & NA & yes & 4.0.5\\\\\n\tcodetools & codetools  & /usr/lib/R/library      & 0.2-18  & recommended & R (>= 2.1)                                      & NA                                               & NA & NA                                         & NA                                                                  & GPL                       & NA & NA & NA & NA & no  & 4.0.3\\\\\n\tcompiler & compiler   & /usr/lib/R/library      & 4.1.0   & base        & NA                                              & NA                                               & NA & NA                                         & NA                                                                  & Part of R 4.1.0           & NA & NA & NA & NA & NA  & 4.1.0\\\\\n\tdatasets & datasets   & /usr/lib/R/library      & 4.1.0   & base        & NA                                              & NA                                               & NA & NA                                         & NA                                                                  & Part of R 4.1.0           & NA & NA & NA & NA & NA  & 4.1.0\\\\\n\tforeign & foreign    & /usr/lib/R/library      & 0.8-81  & recommended & R (>= 4.0.0)                                    & methods, utils, stats                            & NA & NA                                         & NA                                                                  & GPL (>= 2)                & NA & NA & NA & NA & yes & 4.0.3\\\\\n\tgraphics & graphics   & /usr/lib/R/library      & 4.1.0   & base        & NA                                              & grDevices                                        & NA & NA                                         & NA                                                                  & Part of R 4.1.0           & NA & NA & NA & NA & yes & 4.1.0\\\\\n\tgrDevices & grDevices  & /usr/lib/R/library      & 4.1.0   & base        & NA                                              & NA                                               & NA & KernSmooth                                 & NA                                                                  & Part of R 4.1.0           & NA & NA & NA & NA & yes & 4.1.0\\\\\n\tgrid & grid       & /usr/lib/R/library      & 4.1.0   & base        & NA                                              & grDevices, utils                                 & NA & lattice                                    & NA                                                                  & Part of R 4.1.0           & NA & NA & NA & NA & yes & 4.1.0\\\\\n\tKernSmooth & KernSmooth & /usr/lib/R/library      & 2.23-20 & recommended & R (>= 2.5.0), stats                             & NA                                               & NA & MASS, carData                              & NA                                                                  & Unlimited                 & NA & NA & NA & NA & yes & 4.0.5\\\\\n\tlattice & lattice    & /usr/lib/R/library      & 0.20-44 & recommended & R (>= 3.0.0)                                    & grid, grDevices, graphics, stats, utils          & NA & KernSmooth, MASS, latticeExtra             & chron                                                               & GPL (>= 2)                & NA & NA & NA & NA & yes & 4.1.0\\\\\n\tMASS & MASS       & /usr/lib/R/library      & 7.3-54  & recommended & R (>= 3.3.0), grDevices, graphics, stats, utils & methods                                          & NA & lattice, nlme, nnet, survival              & NA                                                                  & GPL-2 \\textbar{} GPL-3             & NA & NA & NA & NA & yes & 4.0.5\\\\\n\tMatrix & Matrix     & /usr/lib/R/library      & 1.3-4   & recommended & R (>= 3.5.0)                                    & methods, graphics, grid, stats, utils, lattice   & NA & expm, MASS                                 & MatrixModels, graph, SparseM, sfsmisc, igraph, maptools, sp,\nspdep & GPL (>= 2) \\textbar{} file LICENCE & NA & NA & NA & NA & yes & 4.1.0\\\\\n\tmethods & methods    & /usr/lib/R/library      & 4.1.0   & base        & NA                                              & utils, stats                                     & NA & codetools                                  & NA                                                                  & Part of R 4.1.0           & NA & NA & NA & NA & yes & 4.1.0\\\\\n\tmgcv & mgcv       & /usr/lib/R/library      & 1.8-36  & recommended & R (>= 3.6.0), nlme (>= 3.1-64)                  & methods, stats, graphics, Matrix, splines, utils & NA & parallel, survival, MASS                   & NA                                                                  & GPL (>= 2)                & NA & NA & NA & NA & yes & 4.1.0\\\\\n\tnlme & nlme       & /usr/lib/R/library      & 3.1-152 & recommended & R (>= 3.4.0)                                    & graphics, stats, utils, lattice                  & NA & Hmisc, MASS                                & NA                                                                  & GPL (>= 2) \\textbar{} file LICENCE & NA & NA & NA & NA & yes & 4.0.3\\\\\n\tnnet & nnet       & /usr/lib/R/library      & 7.3-16  & recommended & R (>= 3.0.0), stats, utils                      & NA                                               & NA & MASS                                       & NA                                                                  & GPL-2 \\textbar{} GPL-3             & NA & NA & NA & NA & yes & 4.0.5\\\\\n\tparallel & parallel   & /usr/lib/R/library      & 4.1.0   & base        & NA                                              & tools, compiler                                  & NA & methods                                    & snow, nws, Rmpi                                                     & Part of R 4.1.0           & NA & NA & NA & NA & yes & 4.1.0\\\\\n\trpart & rpart      & /usr/lib/R/library      & 4.1-15  & recommended & R (>= 2.15.0), graphics, stats, grDevices       & NA                                               & NA & survival                                   & NA                                                                  & GPL-2 \\textbar{} GPL-3             & NA & NA & NA & NA & yes & 4.0.0\\\\\n\tspatial & spatial    & /usr/lib/R/library      & 7.3-14  & recommended & R (>= 3.0.0), graphics, stats, utils            & NA                                               & NA & MASS                                       & NA                                                                  & GPL-2 \\textbar{} GPL-3             & NA & NA & NA & NA & yes & 4.0.5\\\\\n\tsplines & splines    & /usr/lib/R/library      & 4.1.0   & base        & NA                                              & graphics, stats                                  & NA & Matrix, methods                            & NA                                                                  & Part of R 4.1.0           & NA & NA & NA & NA & yes & 4.1.0\\\\\n\tstats & stats      & /usr/lib/R/library      & 4.1.0   & base        & NA                                              & utils, grDevices, graphics                       & NA & MASS, Matrix, SuppDists, methods, stats4   & NA                                                                  & Part of R 4.1.0           & NA & NA & NA & NA & yes & 4.1.0\\\\\n\tstats4 & stats4     & /usr/lib/R/library      & 4.1.0   & base        & NA                                              & graphics, methods, stats                         & NA & NA                                         & NA                                                                  & Part of R 4.1.0           & NA & NA & NA & NA & NA  & 4.1.0\\\\\n\tsurvival & survival   & /usr/lib/R/library      & 3.2-11  & recommended & R (>= 3.5.0)                                    & graphics, Matrix, methods, splines, stats, utils & NA & NA                                         & NA                                                                  & LGPL (>= 2)               & NA & NA & NA & NA & yes & 4.0.5\\\\\n\ttcltk & tcltk      & /usr/lib/R/library      & 4.1.0   & base        & NA                                              & utils                                            & NA & NA                                         & NA                                                                  & Part of R 4.1.0           & NA & NA & NA & NA & yes & 4.1.0\\\\\n\ttools & tools      & /usr/lib/R/library      & 4.1.0   & base        & NA                                              & NA                                               & NA & codetools, methods, xml2, curl, commonmark & NA                                                                  & Part of R 4.1.0           & NA & NA & NA & NA & yes & 4.1.0\\\\\n\tutils & utils      & /usr/lib/R/library      & 4.1.0   & base        & NA                                              & NA                                               & NA & methods, xml2, commonmark                  & NA                                                                  & Part of R 4.1.0           & NA & NA & NA & NA & yes & 4.1.0\\\\\n\\end{tabular}\n",
            "text/markdown": "\nA matrix: 155 × 16 of type chr\n\n| <!--/--> | Package | LibPath | Version | Priority | Depends | Imports | LinkingTo | Suggests | Enhances | License | License_is_FOSS | License_restricts_use | OS_type | MD5sum | NeedsCompilation | Built |\n|---|---|---|---|---|---|---|---|---|---|---|---|---|---|---|---|---|\n| ggplot2 | ggplot2     | /usr/local/lib/R/site-library | 3.3.4    | NA | R (&gt;= 3.3)                       | digest, glue, grDevices, grid, gtable (&gt;= 0.1.1), isoband,\nMASS, mgcv, rlang (&gt;= 0.4.10), scales (&gt;= 0.5.0), stats,\ntibble, withr (&gt;= 2.0.0)                                                                                                                                                                                                                                                                    | NA | covr, ragg, dplyr, ggplot2movies, hexbin, Hmisc, interp,\nknitr, lattice, mapproj, maps, maptools, multcomp, munsell,\nnlme, profvis, quantreg, RColorBrewer, rgeos, rmarkdown, rpart,\nsf (&gt;= 0.7-3), svglite (&gt;= 1.2.0.9001), testthat (&gt;= 2.1.0),\nvdiffr (&gt;= 0.3.0), xml2                                                                                                                                                                                                                                                                                                                                                                                                                                                                                           | sp                                                           | MIT + file LICENSE          | NA | NA | NA | NA | no  | 4.1.0 |\n| IRdisplay | IRdisplay   | /usr/local/lib/R/site-library | 1.0      | NA | R (&gt;= 3.0.1)                     | methods, repr                                                                                                                                                                                                                                                                                                                                                                                                     | NA | testthat, withr                                                                                                                                                                                                                                                                                                                                                                                                                                                                                                                                                                                                                                                                                                                                                         | NA                                                           | MIT + file LICENSE          | NA | NA | NA | NA | no  | 4.1.0 |\n| IRkernel | IRkernel    | /usr/local/lib/R/site-library | 1.2      | NA | R (&gt;= 3.2.0)                     | repr (&gt;= 0.4.99), methods, evaluate (&gt;= 0.10), IRdisplay (&gt;=\n0.3.0.9999), pbdZMQ (&gt;= 0.2-1), crayon, jsonlite (&gt;= 0.9.6),\nuuid, digest                                                                                                                                                                                                                                                                          | NA | testthat, roxygen2                                                                                                                                                                                                                                                                                                                                                                                                                                                                                                                                                                                                                                                                                                                                                      | NA                                                           | MIT + file LICENSE          | NA | NA | NA | NA | no  | 4.1.0 |\n| pbdZMQ | pbdZMQ      | /usr/local/lib/R/site-library | 0.3-5    | NA | R (&gt;= 3.5.0)                     | NA                                                                                                                                                                                                                                                                                                                                                                                                                | NA | NA                                                                                                                                                                                                                                                                                                                                                                                                                                                                                                                                                                                                                                                                                                                                                                      | NA                                                           | GPL-3                       | NA | NA | NA | NA | yes | 4.1.0 |\n| repr | repr        | /usr/local/lib/R/site-library | 1.1.3    | NA | R (&gt;= 3.0.1)                     | utils, grDevices, htmltools, jsonlite, pillar (&gt;= 1.4.0),\nbase64enc                                                                                                                                                                                                                                                                                                                                              | NA | methods, highr, Cairo, stringr, testthat (&gt;= 3.0.0), leaflet                                                                                                                                                                                                                                                                                                                                                                                                                                                                                                                                                                                                                                                                                                            | data.table, tibble, htmlwidgets, vegalite, plotly, geojsonio | GPL-3                       | NA | NA | NA | NA | no  | 4.1.0 |\n| askpass | askpass     | /usr/lib/R/site-library       | 1.1      | NA | NA                               | sys (&gt;= 2.1)                                                                                                                                                                                                                                                                                                                                                                                                      | NA | testthat                                                                                                                                                                                                                                                                                                                                                                                                                                                                                                                                                                                                                                                                                                                                                                | NA                                                           | MIT + file LICENSE          | NA | NA | NA | NA | yes | 4.0.0 |\n| assertthat | assertthat  | /usr/lib/R/site-library       | 0.2.1    | NA | NA                               | tools                                                                                                                                                                                                                                                                                                                                                                                                             | NA | testthat, covr                                                                                                                                                                                                                                                                                                                                                                                                                                                                                                                                                                                                                                                                                                                                                          | NA                                                           | GPL-3                       | NA | NA | NA | NA | no  | 4.0.0 |\n| backports | backports   | /usr/lib/R/site-library       | 1.2.1    | NA | R (&gt;= 3.0.0)                     | NA                                                                                                                                                                                                                                                                                                                                                                                                                | NA | NA                                                                                                                                                                                                                                                                                                                                                                                                                                                                                                                                                                                                                                                                                                                                                                      | NA                                                           | GPL-2 | GPL-3               | NA | NA | NA | NA | yes | 4.0.3 |\n| base64enc | base64enc   | /usr/lib/R/site-library       | 0.1-3    | NA | R (&gt;= 2.9.0)                     | NA                                                                                                                                                                                                                                                                                                                                                                                                                | NA | NA                                                                                                                                                                                                                                                                                                                                                                                                                                                                                                                                                                                                                                                                                                                                                                      | png                                                          | GPL-2 | GPL-3               | NA | NA | NA | NA | yes | 4.0.0 |\n| BH | BH          | /usr/lib/R/site-library       | 1.75.0-0 | NA | NA                               | NA                                                                                                                                                                                                                                                                                                                                                                                                                | NA | NA                                                                                                                                                                                                                                                                                                                                                                                                                                                                                                                                                                                                                                                                                                                                                                      | NA                                                           | BSL-1.0                     | NA | NA | NA | NA | no  | 4.0.3 |\n| blob | blob        | /usr/lib/R/site-library       | 1.2.1    | NA | NA                               | methods, rlang, vctrs (&gt;= 0.2.1)                                                                                                                                                                                                                                                                                                                                                                                  | NA | covr, crayon, pillar (&gt;= 1.2.1), testthat                                                                                                                                                                                                                                                                                                                                                                                                                                                                                                                                                                                                                                                                                                                               | NA                                                           | GPL-3                       | NA | NA | NA | NA | no  | 4.0.0 |\n| brew | brew        | /usr/lib/R/site-library       | 1.0-6    | NA | NA                               | NA                                                                                                                                                                                                                                                                                                                                                                                                                | NA | NA                                                                                                                                                                                                                                                                                                                                                                                                                                                                                                                                                                                                                                                                                                                                                                      | NA                                                           | GPL-2                       | NA | NA | NA | NA | NA  | 4.0.0 |\n| brio | brio        | /usr/lib/R/site-library       | 1.1.2    | NA | NA                               | NA                                                                                                                                                                                                                                                                                                                                                                                                                | NA | testthat (&gt;= 2.1.0), covr                                                                                                                                                                                                                                                                                                                                                                                                                                                                                                                                                                                                                                                                                                                                               | NA                                                           | MIT + file LICENSE          | NA | NA | NA | NA | yes | 4.0.5 |\n| broom | broom       | /usr/lib/R/site-library       | 0.7.6    | NA | R (&gt;= 3.1)                       | backports, dplyr (&gt;= 1.0.0), ellipsis, generics (&gt;= 0.0.2),\nglue, methods, purrr, rlang, stringr, tibble (&gt;= 3.0.0), tidyr\n(&gt;= 1.0.0)                                                                                                                                                                                                                                                                           | NA | AER, akima, AUC, bbmle, betareg, biglm, binGroup, boot,\nbtergm, car, caret, cluster, cmprsk, coda, covr, drc, e1071,\nemmeans, epiR, ergm (&gt;= 3.10.4), fixest (&gt;= 0.8.1), gam (&gt;=\n1.15), gee, geepack, ggplot2, glmnet, glmnetUtils, gmm, Hmisc,\nirlba, joineRML, Kendall, knitr, ks, Lahman, lavaan, leaps,\nlfe, lm.beta, lme4, lmodel2, lmtest (&gt;= 0.9.38), lsmeans, maps,\nmaptools, margins, MASS, Matrix, mclust, mediation, metafor,\nmfx, mgcv, mlogit, modeldata, modeltests, muhaz, multcomp,\nnetwork, nnet, orcutt (&gt;= 2.2), ordinal, plm, poLCA, psych,\nquantreg, Rchoice, rgeos, rmarkdown, robust, robustbase,\nrsample, sandwich, sp, spdep, spatialreg, speedglm, spelling,\nsurvey, survival, systemfit, testthat (&gt;= 2.1.0), tseries,\nvars, zoo | NA                                                           | MIT + file LICENSE          | NA | NA | NA | NA | no  | 4.0.5 |\n| cachem | cachem      | /usr/lib/R/site-library       | 1.0.5    | NA | NA                               | rlang, fastmap                                                                                                                                                                                                                                                                                                                                                                                                    | NA | testthat                                                                                                                                                                                                                                                                                                                                                                                                                                                                                                                                                                                                                                                                                                                                                                | NA                                                           | MIT + file LICENSE          | NA | NA | NA | NA | yes | 4.0.5 |\n| callr | callr       | /usr/lib/R/site-library       | 3.7.0    | NA | NA                               | processx (&gt;= 3.5.0), R6, utils                                                                                                                                                                                                                                                                                                                                                                                    | NA | cli, covr, ps, rprojroot, spelling, testthat, withr (&gt;=\n2.3.0)                                                                                                                                                                                                                                                                                                                                                                                                                                                                                                                                                                                                                                                                                                         | NA                                                           | MIT + file LICENSE          | NA | NA | NA | NA | no  | 4.0.5 |\n| cellranger | cellranger  | /usr/lib/R/site-library       | 1.1.0    | NA | R (&gt;= 3.0.0)                     | rematch, tibble                                                                                                                                                                                                                                                                                                                                                                                                   | NA | covr, testthat (&gt;= 1.0.0), knitr, rmarkdown                                                                                                                                                                                                                                                                                                                                                                                                                                                                                                                                                                                                                                                                                                                             | NA                                                           | MIT + file LICENSE          | NA | NA | NA | NA | no  | 4.0.0 |\n| cli | cli         | /usr/lib/R/site-library       | 2.5.0    | NA | R (&gt;= 2.10)                      | glue, utils                                                                                                                                                                                                                                                                                                                                                                                                       | NA | callr, covr, grDevices, htmlwidgets, knitr, methods, mockery,\nps (&gt;= 1.3.4.9000), rmarkdown, rstudioapi, prettycode (&gt;=\n1.1.0), testthat, tibble, withr                                                                                                                                                                                                                                                                                                                                                                                                                                                                                                                                                                                                               | NA                                                           | MIT + file LICENSE          | NA | NA | NA | NA | no  | 4.0.5 |\n| clipr | clipr       | /usr/lib/R/site-library       | 0.7.1    | NA | NA                               | utils                                                                                                                                                                                                                                                                                                                                                                                                             | NA | covr, knitr, rmarkdown, rstudioapi (&gt;= 0.5), testthat (&gt;=\n2.0.0)                                                                                                                                                                                                                                                                                                                                                                                                                                                                                                                                                                                                                                                                                                       | NA                                                           | GPL-3                       | NA | NA | NA | NA | no  | 4.0.2 |\n| colorspace | colorspace  | /usr/lib/R/site-library       | 2.0-1    | NA | R (&gt;= 3.0.0), methods            | graphics, grDevices, stats                                                                                                                                                                                                                                                                                                                                                                                        | NA | datasets, utils, KernSmooth, MASS, kernlab, mvtnorm, vcd,\ntcltk, shiny, shinyjs, ggplot2, dplyr, scales, grid, png, jpeg,\nknitr, rmarkdown, RColorBrewer, rcartocolor, scico, viridis,\nwesanderson                                                                                                                                                                                                                                                                                                                                                                                                                                                                                                                                                                   | NA                                                           | BSD_3_clause + file LICENSE | NA | NA | NA | NA | yes | 4.0.5 |\n| commonmark | commonmark  | /usr/lib/R/site-library       | 1.7      | NA | NA                               | NA                                                                                                                                                                                                                                                                                                                                                                                                                | NA | curl, testthat, xml2                                                                                                                                                                                                                                                                                                                                                                                                                                                                                                                                                                                                                                                                                                                                                    | NA                                                           | BSD_2_clause + file LICENSE | NA | NA | NA | NA | yes | 4.0.0 |\n| cpp11 | cpp11       | /usr/lib/R/site-library       | 0.2.7    | NA | NA                               | NA                                                                                                                                                                                                                                                                                                                                                                                                                | NA | bench, brio, callr, cli, covr, decor, desc, ggplot2, glue,\nknitr, lobstr, mockery, progress, rmarkdown, scales, testthat,\ntibble, utils, vctrs, withr                                                                                                                                                                                                                                                                                                                                                                                                                                                                                                                                                                                                                 | NA                                                           | MIT + file LICENSE          | NA | NA | NA | NA | no  | 4.0.4 |\n| crayon | crayon      | /usr/lib/R/site-library       | 1.4.1    | NA | NA                               | grDevices, methods, utils                                                                                                                                                                                                                                                                                                                                                                                         | NA | mockery, rstudioapi, testthat, withr                                                                                                                                                                                                                                                                                                                                                                                                                                                                                                                                                                                                                                                                                                                                    | NA                                                           | MIT + file LICENSE          | NA | NA | NA | NA | no  | 4.0.3 |\n| credentials | credentials | /usr/lib/R/site-library       | 1.3.0    | NA | NA                               | openssl (&gt;= 1.3), sys (&gt;= 2.1), curl, jsonlite, askpass                                                                                                                                                                                                                                                                                                                                                           | NA | testthat, knitr, rmarkdown                                                                                                                                                                                                                                                                                                                                                                                                                                                                                                                                                                                                                                                                                                                                              | NA                                                           | MIT + file LICENSE          | NA | NA | NA | NA | no  | 4.0.2 |\n| curl | curl        | /usr/lib/R/site-library       | 4.3.1    | NA | R (&gt;= 3.0.0)                     | NA                                                                                                                                                                                                                                                                                                                                                                                                                | NA | spelling, testthat (&gt;= 1.0.0), knitr, jsonlite, rmarkdown,\nmagrittr, httpuv (&gt;= 1.4.4), webutils                                                                                                                                                                                                                                                                                                                                                                                                                                                                                                                                                                                                                                                                       | NA                                                           | MIT + file LICENSE          | NA | NA | NA | NA | yes | 4.0.5 |\n| data.table | data.table  | /usr/lib/R/site-library       | 1.14.0   | NA | R (&gt;= 3.1.0)                     | methods                                                                                                                                                                                                                                                                                                                                                                                                           | NA | bit64 (&gt;= 4.0.0), bit (&gt;= 4.0.4), curl, R.utils, xts,\nnanotime, zoo (&gt;= 1.8-1), yaml, knitr, rmarkdown                                                                                                                                                                                                                                                                                                                                                                                                                                                                                                                                                                                                                                                                 | NA                                                           | MPL-2.0 | file LICENSE      | NA | NA | NA | NA | yes | 4.0.4 |\n| DBI | DBI         | /usr/lib/R/site-library       | 1.1.1    | NA | methods, R (&gt;= 3.0.0)            | NA                                                                                                                                                                                                                                                                                                                                                                                                                | NA | blob, covr, dbplyr, dplyr, glue, hms, knitr, magrittr,\nrmarkdown, rprojroot, RMariaDB, RSQLite (&gt;= 1.1-2), testthat,\nxml2                                                                                                                                                                                                                                                                                                                                                                                                                                                                                                                                                                                                                                             | NA                                                           | LGPL (&gt;= 2.1)               | NA | NA | NA | NA | no  | 4.0.3 |\n| dbplyr | dbplyr      | /usr/lib/R/site-library       | 2.1.1    | NA | R (&gt;= 3.1)                       | assertthat (&gt;= 0.2.0), blob (&gt;= 1.2.0), DBI (&gt;= 1.0.0), dplyr\n(&gt;= 1.0.4), ellipsis, glue (&gt;= 1.2.0), lifecycle (&gt;= 1.0.0),\nmagrittr, methods, purrr (&gt;= 0.2.5), R6 (&gt;= 2.2.2), rlang (&gt;=\n0.2.0), tibble (&gt;= 1.4.2), tidyselect (&gt;= 0.2.4), utils, vctrs,\nwithr                                                                                                                                                | NA | bit64, covr, knitr, Lahman, nycflights13, odbc, RMariaDB (&gt;=\n1.0.2), rmarkdown, RPostgres (&gt;= 1.1.3), RPostgreSQL, RSQLite\n(&gt;= 2.1.0), testthat (&gt;= 3.0.2), tidyr                                                                                                                                                                                                                                                                                                                                                                                                                                                                                                                                                                                                     | NA                                                           | MIT + file LICENSE          | NA | NA | NA | NA | no  | 4.0.5 |\n| desc | desc        | /usr/lib/R/site-library       | 1.3.0    | NA | R (&gt;= 3.1.0)                     | utils, R6, crayon, rprojroot                                                                                                                                                                                                                                                                                                                                                                                      | NA | covr, testthat, whoami, withr, spelling, gh                                                                                                                                                                                                                                                                                                                                                                                                                                                                                                                                                                                                                                                                                                                             | NA                                                           | MIT + file LICENSE          | NA | NA | NA | NA | no  | 4.0.4 |\n| devtools | devtools    | /usr/lib/R/site-library       | 2.4.2    | NA | R (&gt;= 3.0.2), usethis (&gt;= 2.0.1) | callr (&gt;= 3.6.0), cli (&gt;= 2.4.0), desc (&gt;= 1.3.0), ellipsis\n(&gt;= 0.3.1), fs (&gt;= 1.5.0), httr (&gt;= 1.4.2), lifecycle (&gt;=\n1.0.0), memoise (&gt;= 2.0.0), pkgbuild (&gt;= 1.2.0), pkgload (&gt;=\n1.2.1), rcmdcheck (&gt;= 1.3.3), remotes (&gt;= 2.3.0), rlang (&gt;=\n0.4.10), roxygen2 (&gt;= 7.1.1), rstudioapi (&gt;= 0.13), rversions\n(&gt;= 2.0.2), sessioninfo (&gt;= 1.1.1), stats, testthat (&gt;= 3.0.2),\ntools, utils, withr (&gt;= 2.4.1) | NA | BiocManager (&gt;= 1.30.12), covr (&gt;= 3.5.1), curl (&gt;= 4.3),\ndigest (&gt;= 0.6.27), DT (&gt;= 0.17), foghorn (&gt;= 1.3.2), gh (&gt;=\n1.2.1), gmailr (&gt;= 1.0.0), knitr (&gt;= 1.31), lintr (&gt;= 2.0.1),\nMASS, mockery (&gt;= 0.4.2), pingr (&gt;= 2.0.1), pkgdown (&gt;= 1.6.1),\nrhub (&gt;= 1.1.1), rmarkdown (&gt;= 2.7), spelling (&gt;= 2.2)                                                                                                                                                                                                                                                                                                                                                                                                                                                         | NA                                                           | MIT + file LICENSE          | NA | NA | NA | NA | no  | 4.1.0 |\n| ⋮ | ⋮ | ⋮ | ⋮ | ⋮ | ⋮ | ⋮ | ⋮ | ⋮ | ⋮ | ⋮ | ⋮ | ⋮ | ⋮ | ⋮ | ⋮ | ⋮ |\n| zip | zip        | /usr/lib/R/site-library | 2.2.0   | NA          | NA                                              | NA                                               | NA | covr, processx, R6, testthat, withr        | NA                                                                  | MIT + file LICENSE        | NA | NA | NA | NA | yes | 4.1.0 |\n| base | base       | /usr/lib/R/library      | 4.1.0   | base        | NA                                              | NA                                               | NA | methods                                    | NA                                                                  | Part of R 4.1.0           | NA | NA | NA | NA | NA  | 4.1.0 |\n| boot | boot       | /usr/lib/R/library      | 1.3-28  | recommended | R (&gt;= 3.0.0), graphics, stats                   | NA                                               | NA | MASS, survival                             | NA                                                                  | Unlimited                 | NA | NA | NA | NA | no  | 4.0.5 |\n| class | class      | /usr/lib/R/library      | 7.3-19  | recommended | R (&gt;= 3.0.0), stats, utils                      | MASS                                             | NA | NA                                         | NA                                                                  | GPL-2 | GPL-3             | NA | NA | NA | NA | yes | 4.0.5 |\n| cluster | cluster    | /usr/lib/R/library      | 2.1.2   | recommended | R (&gt;= 3.4.0)                                    | graphics, grDevices, stats, utils                | NA | MASS, Matrix                               | NA                                                                  | GPL (&gt;= 2)                | NA | NA | NA | NA | yes | 4.0.5 |\n| codetools | codetools  | /usr/lib/R/library      | 0.2-18  | recommended | R (&gt;= 2.1)                                      | NA                                               | NA | NA                                         | NA                                                                  | GPL                       | NA | NA | NA | NA | no  | 4.0.3 |\n| compiler | compiler   | /usr/lib/R/library      | 4.1.0   | base        | NA                                              | NA                                               | NA | NA                                         | NA                                                                  | Part of R 4.1.0           | NA | NA | NA | NA | NA  | 4.1.0 |\n| datasets | datasets   | /usr/lib/R/library      | 4.1.0   | base        | NA                                              | NA                                               | NA | NA                                         | NA                                                                  | Part of R 4.1.0           | NA | NA | NA | NA | NA  | 4.1.0 |\n| foreign | foreign    | /usr/lib/R/library      | 0.8-81  | recommended | R (&gt;= 4.0.0)                                    | methods, utils, stats                            | NA | NA                                         | NA                                                                  | GPL (&gt;= 2)                | NA | NA | NA | NA | yes | 4.0.3 |\n| graphics | graphics   | /usr/lib/R/library      | 4.1.0   | base        | NA                                              | grDevices                                        | NA | NA                                         | NA                                                                  | Part of R 4.1.0           | NA | NA | NA | NA | yes | 4.1.0 |\n| grDevices | grDevices  | /usr/lib/R/library      | 4.1.0   | base        | NA                                              | NA                                               | NA | KernSmooth                                 | NA                                                                  | Part of R 4.1.0           | NA | NA | NA | NA | yes | 4.1.0 |\n| grid | grid       | /usr/lib/R/library      | 4.1.0   | base        | NA                                              | grDevices, utils                                 | NA | lattice                                    | NA                                                                  | Part of R 4.1.0           | NA | NA | NA | NA | yes | 4.1.0 |\n| KernSmooth | KernSmooth | /usr/lib/R/library      | 2.23-20 | recommended | R (&gt;= 2.5.0), stats                             | NA                                               | NA | MASS, carData                              | NA                                                                  | Unlimited                 | NA | NA | NA | NA | yes | 4.0.5 |\n| lattice | lattice    | /usr/lib/R/library      | 0.20-44 | recommended | R (&gt;= 3.0.0)                                    | grid, grDevices, graphics, stats, utils          | NA | KernSmooth, MASS, latticeExtra             | chron                                                               | GPL (&gt;= 2)                | NA | NA | NA | NA | yes | 4.1.0 |\n| MASS | MASS       | /usr/lib/R/library      | 7.3-54  | recommended | R (&gt;= 3.3.0), grDevices, graphics, stats, utils | methods                                          | NA | lattice, nlme, nnet, survival              | NA                                                                  | GPL-2 | GPL-3             | NA | NA | NA | NA | yes | 4.0.5 |\n| Matrix | Matrix     | /usr/lib/R/library      | 1.3-4   | recommended | R (&gt;= 3.5.0)                                    | methods, graphics, grid, stats, utils, lattice   | NA | expm, MASS                                 | MatrixModels, graph, SparseM, sfsmisc, igraph, maptools, sp,\nspdep | GPL (&gt;= 2) | file LICENCE | NA | NA | NA | NA | yes | 4.1.0 |\n| methods | methods    | /usr/lib/R/library      | 4.1.0   | base        | NA                                              | utils, stats                                     | NA | codetools                                  | NA                                                                  | Part of R 4.1.0           | NA | NA | NA | NA | yes | 4.1.0 |\n| mgcv | mgcv       | /usr/lib/R/library      | 1.8-36  | recommended | R (&gt;= 3.6.0), nlme (&gt;= 3.1-64)                  | methods, stats, graphics, Matrix, splines, utils | NA | parallel, survival, MASS                   | NA                                                                  | GPL (&gt;= 2)                | NA | NA | NA | NA | yes | 4.1.0 |\n| nlme | nlme       | /usr/lib/R/library      | 3.1-152 | recommended | R (&gt;= 3.4.0)                                    | graphics, stats, utils, lattice                  | NA | Hmisc, MASS                                | NA                                                                  | GPL (&gt;= 2) | file LICENCE | NA | NA | NA | NA | yes | 4.0.3 |\n| nnet | nnet       | /usr/lib/R/library      | 7.3-16  | recommended | R (&gt;= 3.0.0), stats, utils                      | NA                                               | NA | MASS                                       | NA                                                                  | GPL-2 | GPL-3             | NA | NA | NA | NA | yes | 4.0.5 |\n| parallel | parallel   | /usr/lib/R/library      | 4.1.0   | base        | NA                                              | tools, compiler                                  | NA | methods                                    | snow, nws, Rmpi                                                     | Part of R 4.1.0           | NA | NA | NA | NA | yes | 4.1.0 |\n| rpart | rpart      | /usr/lib/R/library      | 4.1-15  | recommended | R (&gt;= 2.15.0), graphics, stats, grDevices       | NA                                               | NA | survival                                   | NA                                                                  | GPL-2 | GPL-3             | NA | NA | NA | NA | yes | 4.0.0 |\n| spatial | spatial    | /usr/lib/R/library      | 7.3-14  | recommended | R (&gt;= 3.0.0), graphics, stats, utils            | NA                                               | NA | MASS                                       | NA                                                                  | GPL-2 | GPL-3             | NA | NA | NA | NA | yes | 4.0.5 |\n| splines | splines    | /usr/lib/R/library      | 4.1.0   | base        | NA                                              | graphics, stats                                  | NA | Matrix, methods                            | NA                                                                  | Part of R 4.1.0           | NA | NA | NA | NA | yes | 4.1.0 |\n| stats | stats      | /usr/lib/R/library      | 4.1.0   | base        | NA                                              | utils, grDevices, graphics                       | NA | MASS, Matrix, SuppDists, methods, stats4   | NA                                                                  | Part of R 4.1.0           | NA | NA | NA | NA | yes | 4.1.0 |\n| stats4 | stats4     | /usr/lib/R/library      | 4.1.0   | base        | NA                                              | graphics, methods, stats                         | NA | NA                                         | NA                                                                  | Part of R 4.1.0           | NA | NA | NA | NA | NA  | 4.1.0 |\n| survival | survival   | /usr/lib/R/library      | 3.2-11  | recommended | R (&gt;= 3.5.0)                                    | graphics, Matrix, methods, splines, stats, utils | NA | NA                                         | NA                                                                  | LGPL (&gt;= 2)               | NA | NA | NA | NA | yes | 4.0.5 |\n| tcltk | tcltk      | /usr/lib/R/library      | 4.1.0   | base        | NA                                              | utils                                            | NA | NA                                         | NA                                                                  | Part of R 4.1.0           | NA | NA | NA | NA | yes | 4.1.0 |\n| tools | tools      | /usr/lib/R/library      | 4.1.0   | base        | NA                                              | NA                                               | NA | codetools, methods, xml2, curl, commonmark | NA                                                                  | Part of R 4.1.0           | NA | NA | NA | NA | yes | 4.1.0 |\n| utils | utils      | /usr/lib/R/library      | 4.1.0   | base        | NA                                              | NA                                               | NA | methods, xml2, commonmark                  | NA                                                                  | Part of R 4.1.0           | NA | NA | NA | NA | yes | 4.1.0 |\n\n",
            "text/html": [
              "<table class=\"dataframe\">\n",
              "<caption>A matrix: 155 × 16 of type chr</caption>\n",
              "<thead>\n",
              "\t<tr><th></th><th scope=col>Package</th><th scope=col>LibPath</th><th scope=col>Version</th><th scope=col>Priority</th><th scope=col>Depends</th><th scope=col>Imports</th><th scope=col>LinkingTo</th><th scope=col>Suggests</th><th scope=col>Enhances</th><th scope=col>License</th><th scope=col>License_is_FOSS</th><th scope=col>License_restricts_use</th><th scope=col>OS_type</th><th scope=col>MD5sum</th><th scope=col>NeedsCompilation</th><th scope=col>Built</th></tr>\n",
              "</thead>\n",
              "<tbody>\n",
              "\t<tr><th scope=row>ggplot2</th><td><span style=white-space:pre-wrap>ggplot2    </span></td><td>/usr/local/lib/R/site-library</td><td><span style=white-space:pre-wrap>3.3.4   </span></td><td>NA</td><td><span style=white-space:pre-wrap>R (&gt;= 3.3)                      </span></td><td><span style=white-space:pre-wrap>digest, glue, grDevices, grid, gtable (&gt;= 0.1.1), isoband,\n",
              "MASS, mgcv, rlang (&gt;= 0.4.10), scales (&gt;= 0.5.0), stats,\n",
              "tibble, withr (&gt;= 2.0.0)                                                                                                                                                                                                                                                                   </span></td><td>NA</td><td><span style=white-space:pre-wrap>covr, ragg, dplyr, ggplot2movies, hexbin, Hmisc, interp,\n",
              "knitr, lattice, mapproj, maps, maptools, multcomp, munsell,\n",
              "nlme, profvis, quantreg, RColorBrewer, rgeos, rmarkdown, rpart,\n",
              "sf (&gt;= 0.7-3), svglite (&gt;= 1.2.0.9001), testthat (&gt;= 2.1.0),\n",
              "vdiffr (&gt;= 0.3.0), xml2                                                                                                                                                                                                                                                                                                                                                                                                                                                                                          </span></td><td><span style=white-space:pre-wrap>sp                                                          </span></td><td><span style=white-space:pre-wrap>MIT + file LICENSE         </span></td><td>NA</td><td>NA</td><td>NA</td><td>NA</td><td>no </td><td>4.1.0</td></tr>\n",
              "\t<tr><th scope=row>IRdisplay</th><td><span style=white-space:pre-wrap>IRdisplay  </span></td><td>/usr/local/lib/R/site-library</td><td><span style=white-space:pre-wrap>1.0     </span></td><td>NA</td><td><span style=white-space:pre-wrap>R (&gt;= 3.0.1)                    </span></td><td><span style=white-space:pre-wrap>methods, repr                                                                                                                                                                                                                                                                                                                                                                                                    </span></td><td>NA</td><td><span style=white-space:pre-wrap>testthat, withr                                                                                                                                                                                                                                                                                                                                                                                                                                                                                                                                                                                                                                                                                                                                                        </span></td><td><span style=white-space:pre-wrap>NA                                                          </span></td><td><span style=white-space:pre-wrap>MIT + file LICENSE         </span></td><td>NA</td><td>NA</td><td>NA</td><td>NA</td><td>no </td><td>4.1.0</td></tr>\n",
              "\t<tr><th scope=row>IRkernel</th><td><span style=white-space:pre-wrap>IRkernel   </span></td><td>/usr/local/lib/R/site-library</td><td><span style=white-space:pre-wrap>1.2     </span></td><td>NA</td><td><span style=white-space:pre-wrap>R (&gt;= 3.2.0)                    </span></td><td><span style=white-space:pre-wrap>repr (&gt;= 0.4.99), methods, evaluate (&gt;= 0.10), IRdisplay (&gt;=\n",
              "0.3.0.9999), pbdZMQ (&gt;= 0.2-1), crayon, jsonlite (&gt;= 0.9.6),\n",
              "uuid, digest                                                                                                                                                                                                                                                                         </span></td><td>NA</td><td><span style=white-space:pre-wrap>testthat, roxygen2                                                                                                                                                                                                                                                                                                                                                                                                                                                                                                                                                                                                                                                                                                                                                     </span></td><td><span style=white-space:pre-wrap>NA                                                          </span></td><td><span style=white-space:pre-wrap>MIT + file LICENSE         </span></td><td>NA</td><td>NA</td><td>NA</td><td>NA</td><td>no </td><td>4.1.0</td></tr>\n",
              "\t<tr><th scope=row>pbdZMQ</th><td><span style=white-space:pre-wrap>pbdZMQ     </span></td><td>/usr/local/lib/R/site-library</td><td><span style=white-space:pre-wrap>0.3-5   </span></td><td>NA</td><td><span style=white-space:pre-wrap>R (&gt;= 3.5.0)                    </span></td><td><span style=white-space:pre-wrap>NA                                                                                                                                                                                                                                                                                                                                                                                                               </span></td><td>NA</td><td><span style=white-space:pre-wrap>NA                                                                                                                                                                                                                                                                                                                                                                                                                                                                                                                                                                                                                                                                                                                                                                     </span></td><td><span style=white-space:pre-wrap>NA                                                          </span></td><td><span style=white-space:pre-wrap>GPL-3                      </span></td><td>NA</td><td>NA</td><td>NA</td><td>NA</td><td>yes</td><td>4.1.0</td></tr>\n",
              "\t<tr><th scope=row>repr</th><td><span style=white-space:pre-wrap>repr       </span></td><td>/usr/local/lib/R/site-library</td><td><span style=white-space:pre-wrap>1.1.3   </span></td><td>NA</td><td><span style=white-space:pre-wrap>R (&gt;= 3.0.1)                    </span></td><td><span style=white-space:pre-wrap>utils, grDevices, htmltools, jsonlite, pillar (&gt;= 1.4.0),\n",
              "base64enc                                                                                                                                                                                                                                                                                                                                             </span></td><td>NA</td><td><span style=white-space:pre-wrap>methods, highr, Cairo, stringr, testthat (&gt;= 3.0.0), leaflet                                                                                                                                                                                                                                                                                                                                                                                                                                                                                                                                                                                                                                                                                                           </span></td><td>data.table, tibble, htmlwidgets, vegalite, plotly, geojsonio</td><td><span style=white-space:pre-wrap>GPL-3                      </span></td><td>NA</td><td>NA</td><td>NA</td><td>NA</td><td>no </td><td>4.1.0</td></tr>\n",
              "\t<tr><th scope=row>askpass</th><td><span style=white-space:pre-wrap>askpass    </span></td><td><span style=white-space:pre-wrap>/usr/lib/R/site-library      </span></td><td><span style=white-space:pre-wrap>1.1     </span></td><td>NA</td><td><span style=white-space:pre-wrap>NA                              </span></td><td><span style=white-space:pre-wrap>sys (&gt;= 2.1)                                                                                                                                                                                                                                                                                                                                                                                                     </span></td><td>NA</td><td><span style=white-space:pre-wrap>testthat                                                                                                                                                                                                                                                                                                                                                                                                                                                                                                                                                                                                                                                                                                                                                               </span></td><td><span style=white-space:pre-wrap>NA                                                          </span></td><td><span style=white-space:pre-wrap>MIT + file LICENSE         </span></td><td>NA</td><td>NA</td><td>NA</td><td>NA</td><td>yes</td><td>4.0.0</td></tr>\n",
              "\t<tr><th scope=row>assertthat</th><td>assertthat </td><td>/usr/lib/R/site-library      </td><td>0.2.1   </td><td>NA</td><td>NA                              </td><td>tools                                                                                                                                                                                                                                                                                                                                                                                                            </td><td>NA</td><td>testthat, covr                                                                                                                                                                                                                                                                                                                                                                                                                                                                                                                                                                                                                                                                                                                                                         </td><td>NA                                                          </td><td>GPL-3                      </td><td>NA</td><td>NA</td><td>NA</td><td>NA</td><td>no </td><td>4.0.0</td></tr>\n",
              "\t<tr><th scope=row>backports</th><td><span style=white-space:pre-wrap>backports  </span></td><td><span style=white-space:pre-wrap>/usr/lib/R/site-library      </span></td><td><span style=white-space:pre-wrap>1.2.1   </span></td><td>NA</td><td><span style=white-space:pre-wrap>R (&gt;= 3.0.0)                    </span></td><td><span style=white-space:pre-wrap>NA                                                                                                                                                                                                                                                                                                                                                                                                               </span></td><td>NA</td><td><span style=white-space:pre-wrap>NA                                                                                                                                                                                                                                                                                                                                                                                                                                                                                                                                                                                                                                                                                                                                                                     </span></td><td><span style=white-space:pre-wrap>NA                                                          </span></td><td><span style=white-space:pre-wrap>GPL-2 | GPL-3              </span></td><td>NA</td><td>NA</td><td>NA</td><td>NA</td><td>yes</td><td>4.0.3</td></tr>\n",
              "\t<tr><th scope=row>base64enc</th><td><span style=white-space:pre-wrap>base64enc  </span></td><td><span style=white-space:pre-wrap>/usr/lib/R/site-library      </span></td><td><span style=white-space:pre-wrap>0.1-3   </span></td><td>NA</td><td><span style=white-space:pre-wrap>R (&gt;= 2.9.0)                    </span></td><td><span style=white-space:pre-wrap>NA                                                                                                                                                                                                                                                                                                                                                                                                               </span></td><td>NA</td><td><span style=white-space:pre-wrap>NA                                                                                                                                                                                                                                                                                                                                                                                                                                                                                                                                                                                                                                                                                                                                                                     </span></td><td><span style=white-space:pre-wrap>png                                                         </span></td><td><span style=white-space:pre-wrap>GPL-2 | GPL-3              </span></td><td>NA</td><td>NA</td><td>NA</td><td>NA</td><td>yes</td><td>4.0.0</td></tr>\n",
              "\t<tr><th scope=row>BH</th><td>BH         </td><td>/usr/lib/R/site-library      </td><td>1.75.0-0</td><td>NA</td><td>NA                              </td><td>NA                                                                                                                                                                                                                                                                                                                                                                                                               </td><td>NA</td><td>NA                                                                                                                                                                                                                                                                                                                                                                                                                                                                                                                                                                                                                                                                                                                                                                     </td><td>NA                                                          </td><td>BSL-1.0                    </td><td>NA</td><td>NA</td><td>NA</td><td>NA</td><td>no </td><td>4.0.3</td></tr>\n",
              "\t<tr><th scope=row>blob</th><td><span style=white-space:pre-wrap>blob       </span></td><td><span style=white-space:pre-wrap>/usr/lib/R/site-library      </span></td><td><span style=white-space:pre-wrap>1.2.1   </span></td><td>NA</td><td><span style=white-space:pre-wrap>NA                              </span></td><td><span style=white-space:pre-wrap>methods, rlang, vctrs (&gt;= 0.2.1)                                                                                                                                                                                                                                                                                                                                                                                 </span></td><td>NA</td><td><span style=white-space:pre-wrap>covr, crayon, pillar (&gt;= 1.2.1), testthat                                                                                                                                                                                                                                                                                                                                                                                                                                                                                                                                                                                                                                                                                                                              </span></td><td><span style=white-space:pre-wrap>NA                                                          </span></td><td><span style=white-space:pre-wrap>GPL-3                      </span></td><td>NA</td><td>NA</td><td>NA</td><td>NA</td><td>no </td><td>4.0.0</td></tr>\n",
              "\t<tr><th scope=row>brew</th><td>brew       </td><td>/usr/lib/R/site-library      </td><td>1.0-6   </td><td>NA</td><td>NA                              </td><td>NA                                                                                                                                                                                                                                                                                                                                                                                                               </td><td>NA</td><td>NA                                                                                                                                                                                                                                                                                                                                                                                                                                                                                                                                                                                                                                                                                                                                                                     </td><td>NA                                                          </td><td>GPL-2                      </td><td>NA</td><td>NA</td><td>NA</td><td>NA</td><td>NA </td><td>4.0.0</td></tr>\n",
              "\t<tr><th scope=row>brio</th><td><span style=white-space:pre-wrap>brio       </span></td><td><span style=white-space:pre-wrap>/usr/lib/R/site-library      </span></td><td><span style=white-space:pre-wrap>1.1.2   </span></td><td>NA</td><td><span style=white-space:pre-wrap>NA                              </span></td><td><span style=white-space:pre-wrap>NA                                                                                                                                                                                                                                                                                                                                                                                                               </span></td><td>NA</td><td><span style=white-space:pre-wrap>testthat (&gt;= 2.1.0), covr                                                                                                                                                                                                                                                                                                                                                                                                                                                                                                                                                                                                                                                                                                                                              </span></td><td><span style=white-space:pre-wrap>NA                                                          </span></td><td><span style=white-space:pre-wrap>MIT + file LICENSE         </span></td><td>NA</td><td>NA</td><td>NA</td><td>NA</td><td>yes</td><td>4.0.5</td></tr>\n",
              "\t<tr><th scope=row>broom</th><td><span style=white-space:pre-wrap>broom      </span></td><td><span style=white-space:pre-wrap>/usr/lib/R/site-library      </span></td><td><span style=white-space:pre-wrap>0.7.6   </span></td><td>NA</td><td><span style=white-space:pre-wrap>R (&gt;= 3.1)                      </span></td><td><span style=white-space:pre-wrap>backports, dplyr (&gt;= 1.0.0), ellipsis, generics (&gt;= 0.0.2),\n",
              "glue, methods, purrr, rlang, stringr, tibble (&gt;= 3.0.0), tidyr\n",
              "(&gt;= 1.0.0)                                                                                                                                                                                                                                                                          </span></td><td>NA</td><td>AER, akima, AUC, bbmle, betareg, biglm, binGroup, boot,\n",
              "btergm, car, caret, cluster, cmprsk, coda, covr, drc, e1071,\n",
              "emmeans, epiR, ergm (&gt;= 3.10.4), fixest (&gt;= 0.8.1), gam (&gt;=\n",
              "1.15), gee, geepack, ggplot2, glmnet, glmnetUtils, gmm, Hmisc,\n",
              "irlba, joineRML, Kendall, knitr, ks, Lahman, lavaan, leaps,\n",
              "lfe, lm.beta, lme4, lmodel2, lmtest (&gt;= 0.9.38), lsmeans, maps,\n",
              "maptools, margins, MASS, Matrix, mclust, mediation, metafor,\n",
              "mfx, mgcv, mlogit, modeldata, modeltests, muhaz, multcomp,\n",
              "network, nnet, orcutt (&gt;= 2.2), ordinal, plm, poLCA, psych,\n",
              "quantreg, Rchoice, rgeos, rmarkdown, robust, robustbase,\n",
              "rsample, sandwich, sp, spdep, spatialreg, speedglm, spelling,\n",
              "survey, survival, systemfit, testthat (&gt;= 2.1.0), tseries,\n",
              "vars, zoo</td><td><span style=white-space:pre-wrap>NA                                                          </span></td><td><span style=white-space:pre-wrap>MIT + file LICENSE         </span></td><td>NA</td><td>NA</td><td>NA</td><td>NA</td><td>no </td><td>4.0.5</td></tr>\n",
              "\t<tr><th scope=row>cachem</th><td>cachem     </td><td>/usr/lib/R/site-library      </td><td>1.0.5   </td><td>NA</td><td>NA                              </td><td>rlang, fastmap                                                                                                                                                                                                                                                                                                                                                                                                   </td><td>NA</td><td>testthat                                                                                                                                                                                                                                                                                                                                                                                                                                                                                                                                                                                                                                                                                                                                                               </td><td>NA                                                          </td><td>MIT + file LICENSE         </td><td>NA</td><td>NA</td><td>NA</td><td>NA</td><td>yes</td><td>4.0.5</td></tr>\n",
              "\t<tr><th scope=row>callr</th><td><span style=white-space:pre-wrap>callr      </span></td><td><span style=white-space:pre-wrap>/usr/lib/R/site-library      </span></td><td><span style=white-space:pre-wrap>3.7.0   </span></td><td>NA</td><td><span style=white-space:pre-wrap>NA                              </span></td><td><span style=white-space:pre-wrap>processx (&gt;= 3.5.0), R6, utils                                                                                                                                                                                                                                                                                                                                                                                   </span></td><td>NA</td><td><span style=white-space:pre-wrap>cli, covr, ps, rprojroot, spelling, testthat, withr (&gt;=\n",
              "2.3.0)                                                                                                                                                                                                                                                                                                                                                                                                                                                                                                                                                                                                                                                                                                        </span></td><td><span style=white-space:pre-wrap>NA                                                          </span></td><td><span style=white-space:pre-wrap>MIT + file LICENSE         </span></td><td>NA</td><td>NA</td><td>NA</td><td>NA</td><td>no </td><td>4.0.5</td></tr>\n",
              "\t<tr><th scope=row>cellranger</th><td>cellranger </td><td><span style=white-space:pre-wrap>/usr/lib/R/site-library      </span></td><td><span style=white-space:pre-wrap>1.1.0   </span></td><td>NA</td><td><span style=white-space:pre-wrap>R (&gt;= 3.0.0)                    </span></td><td><span style=white-space:pre-wrap>rematch, tibble                                                                                                                                                                                                                                                                                                                                                                                                  </span></td><td>NA</td><td><span style=white-space:pre-wrap>covr, testthat (&gt;= 1.0.0), knitr, rmarkdown                                                                                                                                                                                                                                                                                                                                                                                                                                                                                                                                                                                                                                                                                                                            </span></td><td><span style=white-space:pre-wrap>NA                                                          </span></td><td><span style=white-space:pre-wrap>MIT + file LICENSE         </span></td><td>NA</td><td>NA</td><td>NA</td><td>NA</td><td>no </td><td>4.0.0</td></tr>\n",
              "\t<tr><th scope=row>cli</th><td><span style=white-space:pre-wrap>cli        </span></td><td><span style=white-space:pre-wrap>/usr/lib/R/site-library      </span></td><td><span style=white-space:pre-wrap>2.5.0   </span></td><td>NA</td><td><span style=white-space:pre-wrap>R (&gt;= 2.10)                     </span></td><td><span style=white-space:pre-wrap>glue, utils                                                                                                                                                                                                                                                                                                                                                                                                      </span></td><td>NA</td><td><span style=white-space:pre-wrap>callr, covr, grDevices, htmlwidgets, knitr, methods, mockery,\n",
              "ps (&gt;= 1.3.4.9000), rmarkdown, rstudioapi, prettycode (&gt;=\n",
              "1.1.0), testthat, tibble, withr                                                                                                                                                                                                                                                                                                                                                                                                                                                                                                                                                                                                              </span></td><td><span style=white-space:pre-wrap>NA                                                          </span></td><td><span style=white-space:pre-wrap>MIT + file LICENSE         </span></td><td>NA</td><td>NA</td><td>NA</td><td>NA</td><td>no </td><td>4.0.5</td></tr>\n",
              "\t<tr><th scope=row>clipr</th><td><span style=white-space:pre-wrap>clipr      </span></td><td><span style=white-space:pre-wrap>/usr/lib/R/site-library      </span></td><td><span style=white-space:pre-wrap>0.7.1   </span></td><td>NA</td><td><span style=white-space:pre-wrap>NA                              </span></td><td><span style=white-space:pre-wrap>utils                                                                                                                                                                                                                                                                                                                                                                                                            </span></td><td>NA</td><td><span style=white-space:pre-wrap>covr, knitr, rmarkdown, rstudioapi (&gt;= 0.5), testthat (&gt;=\n",
              "2.0.0)                                                                                                                                                                                                                                                                                                                                                                                                                                                                                                                                                                                                                                                                                                      </span></td><td><span style=white-space:pre-wrap>NA                                                          </span></td><td><span style=white-space:pre-wrap>GPL-3                      </span></td><td>NA</td><td>NA</td><td>NA</td><td>NA</td><td>no </td><td>4.0.2</td></tr>\n",
              "\t<tr><th scope=row>colorspace</th><td>colorspace </td><td><span style=white-space:pre-wrap>/usr/lib/R/site-library      </span></td><td><span style=white-space:pre-wrap>2.0-1   </span></td><td>NA</td><td><span style=white-space:pre-wrap>R (&gt;= 3.0.0), methods           </span></td><td><span style=white-space:pre-wrap>graphics, grDevices, stats                                                                                                                                                                                                                                                                                                                                                                                       </span></td><td>NA</td><td><span style=white-space:pre-wrap>datasets, utils, KernSmooth, MASS, kernlab, mvtnorm, vcd,\n",
              "tcltk, shiny, shinyjs, ggplot2, dplyr, scales, grid, png, jpeg,\n",
              "knitr, rmarkdown, RColorBrewer, rcartocolor, scico, viridis,\n",
              "wesanderson                                                                                                                                                                                                                                                                                                                                                                                                                                                                                                                                                                  </span></td><td><span style=white-space:pre-wrap>NA                                                          </span></td><td>BSD_3_clause + file LICENSE</td><td>NA</td><td>NA</td><td>NA</td><td>NA</td><td>yes</td><td>4.0.5</td></tr>\n",
              "\t<tr><th scope=row>commonmark</th><td>commonmark </td><td>/usr/lib/R/site-library      </td><td>1.7     </td><td>NA</td><td>NA                              </td><td>NA                                                                                                                                                                                                                                                                                                                                                                                                               </td><td>NA</td><td>curl, testthat, xml2                                                                                                                                                                                                                                                                                                                                                                                                                                                                                                                                                                                                                                                                                                                                                   </td><td>NA                                                          </td><td>BSD_2_clause + file LICENSE</td><td>NA</td><td>NA</td><td>NA</td><td>NA</td><td>yes</td><td>4.0.0</td></tr>\n",
              "\t<tr><th scope=row>cpp11</th><td>cpp11      </td><td>/usr/lib/R/site-library      </td><td>0.2.7   </td><td>NA</td><td>NA                              </td><td>NA                                                                                                                                                                                                                                                                                                                                                                                                               </td><td>NA</td><td>bench, brio, callr, cli, covr, decor, desc, ggplot2, glue,\n",
              "knitr, lobstr, mockery, progress, rmarkdown, scales, testthat,\n",
              "tibble, utils, vctrs, withr                                                                                                                                                                                                                                                                                                                                                                                                                                                                                                                                                                                                                </td><td>NA                                                          </td><td>MIT + file LICENSE         </td><td>NA</td><td>NA</td><td>NA</td><td>NA</td><td>no </td><td>4.0.4</td></tr>\n",
              "\t<tr><th scope=row>crayon</th><td>crayon     </td><td>/usr/lib/R/site-library      </td><td>1.4.1   </td><td>NA</td><td>NA                              </td><td>grDevices, methods, utils                                                                                                                                                                                                                                                                                                                                                                                        </td><td>NA</td><td>mockery, rstudioapi, testthat, withr                                                                                                                                                                                                                                                                                                                                                                                                                                                                                                                                                                                                                                                                                                                                   </td><td>NA                                                          </td><td>MIT + file LICENSE         </td><td>NA</td><td>NA</td><td>NA</td><td>NA</td><td>no </td><td>4.0.3</td></tr>\n",
              "\t<tr><th scope=row>credentials</th><td>credentials</td><td><span style=white-space:pre-wrap>/usr/lib/R/site-library      </span></td><td><span style=white-space:pre-wrap>1.3.0   </span></td><td>NA</td><td><span style=white-space:pre-wrap>NA                              </span></td><td><span style=white-space:pre-wrap>openssl (&gt;= 1.3), sys (&gt;= 2.1), curl, jsonlite, askpass                                                                                                                                                                                                                                                                                                                                                          </span></td><td>NA</td><td><span style=white-space:pre-wrap>testthat, knitr, rmarkdown                                                                                                                                                                                                                                                                                                                                                                                                                                                                                                                                                                                                                                                                                                                                             </span></td><td><span style=white-space:pre-wrap>NA                                                          </span></td><td><span style=white-space:pre-wrap>MIT + file LICENSE         </span></td><td>NA</td><td>NA</td><td>NA</td><td>NA</td><td>no </td><td>4.0.2</td></tr>\n",
              "\t<tr><th scope=row>curl</th><td><span style=white-space:pre-wrap>curl       </span></td><td><span style=white-space:pre-wrap>/usr/lib/R/site-library      </span></td><td><span style=white-space:pre-wrap>4.3.1   </span></td><td>NA</td><td><span style=white-space:pre-wrap>R (&gt;= 3.0.0)                    </span></td><td><span style=white-space:pre-wrap>NA                                                                                                                                                                                                                                                                                                                                                                                                               </span></td><td>NA</td><td><span style=white-space:pre-wrap>spelling, testthat (&gt;= 1.0.0), knitr, jsonlite, rmarkdown,\n",
              "magrittr, httpuv (&gt;= 1.4.4), webutils                                                                                                                                                                                                                                                                                                                                                                                                                                                                                                                                                                                                                                                                      </span></td><td><span style=white-space:pre-wrap>NA                                                          </span></td><td><span style=white-space:pre-wrap>MIT + file LICENSE         </span></td><td>NA</td><td>NA</td><td>NA</td><td>NA</td><td>yes</td><td>4.0.5</td></tr>\n",
              "\t<tr><th scope=row>data.table</th><td>data.table </td><td><span style=white-space:pre-wrap>/usr/lib/R/site-library      </span></td><td><span style=white-space:pre-wrap>1.14.0  </span></td><td>NA</td><td><span style=white-space:pre-wrap>R (&gt;= 3.1.0)                    </span></td><td><span style=white-space:pre-wrap>methods                                                                                                                                                                                                                                                                                                                                                                                                          </span></td><td>NA</td><td><span style=white-space:pre-wrap>bit64 (&gt;= 4.0.0), bit (&gt;= 4.0.4), curl, R.utils, xts,\n",
              "nanotime, zoo (&gt;= 1.8-1), yaml, knitr, rmarkdown                                                                                                                                                                                                                                                                                                                                                                                                                                                                                                                                                                                                                                                                </span></td><td><span style=white-space:pre-wrap>NA                                                          </span></td><td><span style=white-space:pre-wrap>MPL-2.0 | file LICENSE     </span></td><td>NA</td><td>NA</td><td>NA</td><td>NA</td><td>yes</td><td>4.0.4</td></tr>\n",
              "\t<tr><th scope=row>DBI</th><td><span style=white-space:pre-wrap>DBI        </span></td><td><span style=white-space:pre-wrap>/usr/lib/R/site-library      </span></td><td><span style=white-space:pre-wrap>1.1.1   </span></td><td>NA</td><td><span style=white-space:pre-wrap>methods, R (&gt;= 3.0.0)           </span></td><td><span style=white-space:pre-wrap>NA                                                                                                                                                                                                                                                                                                                                                                                                               </span></td><td>NA</td><td><span style=white-space:pre-wrap>blob, covr, dbplyr, dplyr, glue, hms, knitr, magrittr,\n",
              "rmarkdown, rprojroot, RMariaDB, RSQLite (&gt;= 1.1-2), testthat,\n",
              "xml2                                                                                                                                                                                                                                                                                                                                                                                                                                                                                                                                                                                                                                            </span></td><td><span style=white-space:pre-wrap>NA                                                          </span></td><td><span style=white-space:pre-wrap>LGPL (&gt;= 2.1)              </span></td><td>NA</td><td>NA</td><td>NA</td><td>NA</td><td>no </td><td>4.0.3</td></tr>\n",
              "\t<tr><th scope=row>dbplyr</th><td><span style=white-space:pre-wrap>dbplyr     </span></td><td><span style=white-space:pre-wrap>/usr/lib/R/site-library      </span></td><td><span style=white-space:pre-wrap>2.1.1   </span></td><td>NA</td><td><span style=white-space:pre-wrap>R (&gt;= 3.1)                      </span></td><td><span style=white-space:pre-wrap>assertthat (&gt;= 0.2.0), blob (&gt;= 1.2.0), DBI (&gt;= 1.0.0), dplyr\n",
              "(&gt;= 1.0.4), ellipsis, glue (&gt;= 1.2.0), lifecycle (&gt;= 1.0.0),\n",
              "magrittr, methods, purrr (&gt;= 0.2.5), R6 (&gt;= 2.2.2), rlang (&gt;=\n",
              "0.2.0), tibble (&gt;= 1.4.2), tidyselect (&gt;= 0.2.4), utils, vctrs,\n",
              "withr                                                                                                                                               </span></td><td>NA</td><td><span style=white-space:pre-wrap>bit64, covr, knitr, Lahman, nycflights13, odbc, RMariaDB (&gt;=\n",
              "1.0.2), rmarkdown, RPostgres (&gt;= 1.1.3), RPostgreSQL, RSQLite\n",
              "(&gt;= 2.1.0), testthat (&gt;= 3.0.2), tidyr                                                                                                                                                                                                                                                                                                                                                                                                                                                                                                                                                                                                    </span></td><td><span style=white-space:pre-wrap>NA                                                          </span></td><td><span style=white-space:pre-wrap>MIT + file LICENSE         </span></td><td>NA</td><td>NA</td><td>NA</td><td>NA</td><td>no </td><td>4.0.5</td></tr>\n",
              "\t<tr><th scope=row>desc</th><td><span style=white-space:pre-wrap>desc       </span></td><td><span style=white-space:pre-wrap>/usr/lib/R/site-library      </span></td><td><span style=white-space:pre-wrap>1.3.0   </span></td><td>NA</td><td><span style=white-space:pre-wrap>R (&gt;= 3.1.0)                    </span></td><td><span style=white-space:pre-wrap>utils, R6, crayon, rprojroot                                                                                                                                                                                                                                                                                                                                                                                     </span></td><td>NA</td><td><span style=white-space:pre-wrap>covr, testthat, whoami, withr, spelling, gh                                                                                                                                                                                                                                                                                                                                                                                                                                                                                                                                                                                                                                                                                                                            </span></td><td><span style=white-space:pre-wrap>NA                                                          </span></td><td><span style=white-space:pre-wrap>MIT + file LICENSE         </span></td><td>NA</td><td>NA</td><td>NA</td><td>NA</td><td>no </td><td>4.0.4</td></tr>\n",
              "\t<tr><th scope=row>devtools</th><td><span style=white-space:pre-wrap>devtools   </span></td><td><span style=white-space:pre-wrap>/usr/lib/R/site-library      </span></td><td><span style=white-space:pre-wrap>2.4.2   </span></td><td>NA</td><td>R (&gt;= 3.0.2), usethis (&gt;= 2.0.1)</td><td>callr (&gt;= 3.6.0), cli (&gt;= 2.4.0), desc (&gt;= 1.3.0), ellipsis\n",
              "(&gt;= 0.3.1), fs (&gt;= 1.5.0), httr (&gt;= 1.4.2), lifecycle (&gt;=\n",
              "1.0.0), memoise (&gt;= 2.0.0), pkgbuild (&gt;= 1.2.0), pkgload (&gt;=\n",
              "1.2.1), rcmdcheck (&gt;= 1.3.3), remotes (&gt;= 2.3.0), rlang (&gt;=\n",
              "0.4.10), roxygen2 (&gt;= 7.1.1), rstudioapi (&gt;= 0.13), rversions\n",
              "(&gt;= 2.0.2), sessioninfo (&gt;= 1.1.1), stats, testthat (&gt;= 3.0.2),\n",
              "tools, utils, withr (&gt;= 2.4.1)</td><td>NA</td><td><span style=white-space:pre-wrap>BiocManager (&gt;= 1.30.12), covr (&gt;= 3.5.1), curl (&gt;= 4.3),\n",
              "digest (&gt;= 0.6.27), DT (&gt;= 0.17), foghorn (&gt;= 1.3.2), gh (&gt;=\n",
              "1.2.1), gmailr (&gt;= 1.0.0), knitr (&gt;= 1.31), lintr (&gt;= 2.0.1),\n",
              "MASS, mockery (&gt;= 0.4.2), pingr (&gt;= 2.0.1), pkgdown (&gt;= 1.6.1),\n",
              "rhub (&gt;= 1.1.1), rmarkdown (&gt;= 2.7), spelling (&gt;= 2.2)                                                                                                                                                                                                                                                                                                                                                                                                                                                        </span></td><td><span style=white-space:pre-wrap>NA                                                          </span></td><td><span style=white-space:pre-wrap>MIT + file LICENSE         </span></td><td>NA</td><td>NA</td><td>NA</td><td>NA</td><td>no </td><td>4.1.0</td></tr>\n",
              "\t<tr><th scope=row>⋮</th><td>⋮</td><td>⋮</td><td>⋮</td><td>⋮</td><td>⋮</td><td>⋮</td><td>⋮</td><td>⋮</td><td>⋮</td><td>⋮</td><td>⋮</td><td>⋮</td><td>⋮</td><td>⋮</td><td>⋮</td><td>⋮</td></tr>\n",
              "\t<tr><th scope=row>zip</th><td>zip       </td><td>/usr/lib/R/site-library</td><td>2.2.0  </td><td>NA         </td><td>NA                                             </td><td>NA                                              </td><td>NA</td><td>covr, processx, R6, testthat, withr       </td><td>NA                                                                 </td><td>MIT + file LICENSE       </td><td>NA</td><td>NA</td><td>NA</td><td>NA</td><td>yes</td><td>4.1.0</td></tr>\n",
              "\t<tr><th scope=row>base</th><td>base      </td><td>/usr/lib/R/library     </td><td>4.1.0  </td><td>base       </td><td>NA                                             </td><td>NA                                              </td><td>NA</td><td>methods                                   </td><td>NA                                                                 </td><td>Part of R 4.1.0          </td><td>NA</td><td>NA</td><td>NA</td><td>NA</td><td>NA </td><td>4.1.0</td></tr>\n",
              "\t<tr><th scope=row>boot</th><td><span style=white-space:pre-wrap>boot      </span></td><td><span style=white-space:pre-wrap>/usr/lib/R/library     </span></td><td>1.3-28 </td><td>recommended</td><td><span style=white-space:pre-wrap>R (&gt;= 3.0.0), graphics, stats                  </span></td><td><span style=white-space:pre-wrap>NA                                              </span></td><td>NA</td><td><span style=white-space:pre-wrap>MASS, survival                            </span></td><td><span style=white-space:pre-wrap>NA                                                                 </span></td><td><span style=white-space:pre-wrap>Unlimited                </span></td><td>NA</td><td>NA</td><td>NA</td><td>NA</td><td>no </td><td>4.0.5</td></tr>\n",
              "\t<tr><th scope=row>class</th><td><span style=white-space:pre-wrap>class     </span></td><td><span style=white-space:pre-wrap>/usr/lib/R/library     </span></td><td>7.3-19 </td><td>recommended</td><td><span style=white-space:pre-wrap>R (&gt;= 3.0.0), stats, utils                     </span></td><td><span style=white-space:pre-wrap>MASS                                            </span></td><td>NA</td><td><span style=white-space:pre-wrap>NA                                        </span></td><td><span style=white-space:pre-wrap>NA                                                                 </span></td><td><span style=white-space:pre-wrap>GPL-2 | GPL-3            </span></td><td>NA</td><td>NA</td><td>NA</td><td>NA</td><td>yes</td><td>4.0.5</td></tr>\n",
              "\t<tr><th scope=row>cluster</th><td><span style=white-space:pre-wrap>cluster   </span></td><td><span style=white-space:pre-wrap>/usr/lib/R/library     </span></td><td><span style=white-space:pre-wrap>2.1.2  </span></td><td>recommended</td><td><span style=white-space:pre-wrap>R (&gt;= 3.4.0)                                   </span></td><td><span style=white-space:pre-wrap>graphics, grDevices, stats, utils               </span></td><td>NA</td><td><span style=white-space:pre-wrap>MASS, Matrix                              </span></td><td><span style=white-space:pre-wrap>NA                                                                 </span></td><td><span style=white-space:pre-wrap>GPL (&gt;= 2)               </span></td><td>NA</td><td>NA</td><td>NA</td><td>NA</td><td>yes</td><td>4.0.5</td></tr>\n",
              "\t<tr><th scope=row>codetools</th><td>codetools </td><td><span style=white-space:pre-wrap>/usr/lib/R/library     </span></td><td>0.2-18 </td><td>recommended</td><td><span style=white-space:pre-wrap>R (&gt;= 2.1)                                     </span></td><td><span style=white-space:pre-wrap>NA                                              </span></td><td>NA</td><td><span style=white-space:pre-wrap>NA                                        </span></td><td><span style=white-space:pre-wrap>NA                                                                 </span></td><td><span style=white-space:pre-wrap>GPL                      </span></td><td>NA</td><td>NA</td><td>NA</td><td>NA</td><td>no </td><td>4.0.3</td></tr>\n",
              "\t<tr><th scope=row>compiler</th><td>compiler  </td><td>/usr/lib/R/library     </td><td>4.1.0  </td><td>base       </td><td>NA                                             </td><td>NA                                              </td><td>NA</td><td>NA                                        </td><td>NA                                                                 </td><td>Part of R 4.1.0          </td><td>NA</td><td>NA</td><td>NA</td><td>NA</td><td>NA </td><td>4.1.0</td></tr>\n",
              "\t<tr><th scope=row>datasets</th><td>datasets  </td><td>/usr/lib/R/library     </td><td>4.1.0  </td><td>base       </td><td>NA                                             </td><td>NA                                              </td><td>NA</td><td>NA                                        </td><td>NA                                                                 </td><td>Part of R 4.1.0          </td><td>NA</td><td>NA</td><td>NA</td><td>NA</td><td>NA </td><td>4.1.0</td></tr>\n",
              "\t<tr><th scope=row>foreign</th><td><span style=white-space:pre-wrap>foreign   </span></td><td><span style=white-space:pre-wrap>/usr/lib/R/library     </span></td><td>0.8-81 </td><td>recommended</td><td><span style=white-space:pre-wrap>R (&gt;= 4.0.0)                                   </span></td><td><span style=white-space:pre-wrap>methods, utils, stats                           </span></td><td>NA</td><td><span style=white-space:pre-wrap>NA                                        </span></td><td><span style=white-space:pre-wrap>NA                                                                 </span></td><td><span style=white-space:pre-wrap>GPL (&gt;= 2)               </span></td><td>NA</td><td>NA</td><td>NA</td><td>NA</td><td>yes</td><td>4.0.3</td></tr>\n",
              "\t<tr><th scope=row>graphics</th><td>graphics  </td><td>/usr/lib/R/library     </td><td>4.1.0  </td><td>base       </td><td>NA                                             </td><td>grDevices                                       </td><td>NA</td><td>NA                                        </td><td>NA                                                                 </td><td>Part of R 4.1.0          </td><td>NA</td><td>NA</td><td>NA</td><td>NA</td><td>yes</td><td>4.1.0</td></tr>\n",
              "\t<tr><th scope=row>grDevices</th><td>grDevices </td><td>/usr/lib/R/library     </td><td>4.1.0  </td><td>base       </td><td>NA                                             </td><td>NA                                              </td><td>NA</td><td>KernSmooth                                </td><td>NA                                                                 </td><td>Part of R 4.1.0          </td><td>NA</td><td>NA</td><td>NA</td><td>NA</td><td>yes</td><td>4.1.0</td></tr>\n",
              "\t<tr><th scope=row>grid</th><td>grid      </td><td>/usr/lib/R/library     </td><td>4.1.0  </td><td>base       </td><td>NA                                             </td><td>grDevices, utils                                </td><td>NA</td><td>lattice                                   </td><td>NA                                                                 </td><td>Part of R 4.1.0          </td><td>NA</td><td>NA</td><td>NA</td><td>NA</td><td>yes</td><td>4.1.0</td></tr>\n",
              "\t<tr><th scope=row>KernSmooth</th><td>KernSmooth</td><td><span style=white-space:pre-wrap>/usr/lib/R/library     </span></td><td>2.23-20</td><td>recommended</td><td><span style=white-space:pre-wrap>R (&gt;= 2.5.0), stats                            </span></td><td><span style=white-space:pre-wrap>NA                                              </span></td><td>NA</td><td><span style=white-space:pre-wrap>MASS, carData                             </span></td><td><span style=white-space:pre-wrap>NA                                                                 </span></td><td><span style=white-space:pre-wrap>Unlimited                </span></td><td>NA</td><td>NA</td><td>NA</td><td>NA</td><td>yes</td><td>4.0.5</td></tr>\n",
              "\t<tr><th scope=row>lattice</th><td><span style=white-space:pre-wrap>lattice   </span></td><td><span style=white-space:pre-wrap>/usr/lib/R/library     </span></td><td>0.20-44</td><td>recommended</td><td><span style=white-space:pre-wrap>R (&gt;= 3.0.0)                                   </span></td><td><span style=white-space:pre-wrap>grid, grDevices, graphics, stats, utils         </span></td><td>NA</td><td><span style=white-space:pre-wrap>KernSmooth, MASS, latticeExtra            </span></td><td><span style=white-space:pre-wrap>chron                                                              </span></td><td><span style=white-space:pre-wrap>GPL (&gt;= 2)               </span></td><td>NA</td><td>NA</td><td>NA</td><td>NA</td><td>yes</td><td>4.1.0</td></tr>\n",
              "\t<tr><th scope=row>MASS</th><td><span style=white-space:pre-wrap>MASS      </span></td><td><span style=white-space:pre-wrap>/usr/lib/R/library     </span></td><td>7.3-54 </td><td>recommended</td><td>R (&gt;= 3.3.0), grDevices, graphics, stats, utils</td><td><span style=white-space:pre-wrap>methods                                         </span></td><td>NA</td><td><span style=white-space:pre-wrap>lattice, nlme, nnet, survival             </span></td><td><span style=white-space:pre-wrap>NA                                                                 </span></td><td><span style=white-space:pre-wrap>GPL-2 | GPL-3            </span></td><td>NA</td><td>NA</td><td>NA</td><td>NA</td><td>yes</td><td>4.0.5</td></tr>\n",
              "\t<tr><th scope=row>Matrix</th><td><span style=white-space:pre-wrap>Matrix    </span></td><td><span style=white-space:pre-wrap>/usr/lib/R/library     </span></td><td><span style=white-space:pre-wrap>1.3-4  </span></td><td>recommended</td><td><span style=white-space:pre-wrap>R (&gt;= 3.5.0)                                   </span></td><td><span style=white-space:pre-wrap>methods, graphics, grid, stats, utils, lattice  </span></td><td>NA</td><td><span style=white-space:pre-wrap>expm, MASS                                </span></td><td>MatrixModels, graph, SparseM, sfsmisc, igraph, maptools, sp,\n",
              "spdep</td><td>GPL (&gt;= 2) | file LICENCE</td><td>NA</td><td>NA</td><td>NA</td><td>NA</td><td>yes</td><td>4.1.0</td></tr>\n",
              "\t<tr><th scope=row>methods</th><td>methods   </td><td>/usr/lib/R/library     </td><td>4.1.0  </td><td>base       </td><td>NA                                             </td><td>utils, stats                                    </td><td>NA</td><td>codetools                                 </td><td>NA                                                                 </td><td>Part of R 4.1.0          </td><td>NA</td><td>NA</td><td>NA</td><td>NA</td><td>yes</td><td>4.1.0</td></tr>\n",
              "\t<tr><th scope=row>mgcv</th><td><span style=white-space:pre-wrap>mgcv      </span></td><td><span style=white-space:pre-wrap>/usr/lib/R/library     </span></td><td>1.8-36 </td><td>recommended</td><td><span style=white-space:pre-wrap>R (&gt;= 3.6.0), nlme (&gt;= 3.1-64)                 </span></td><td>methods, stats, graphics, Matrix, splines, utils</td><td>NA</td><td><span style=white-space:pre-wrap>parallel, survival, MASS                  </span></td><td><span style=white-space:pre-wrap>NA                                                                 </span></td><td><span style=white-space:pre-wrap>GPL (&gt;= 2)               </span></td><td>NA</td><td>NA</td><td>NA</td><td>NA</td><td>yes</td><td>4.1.0</td></tr>\n",
              "\t<tr><th scope=row>nlme</th><td><span style=white-space:pre-wrap>nlme      </span></td><td><span style=white-space:pre-wrap>/usr/lib/R/library     </span></td><td>3.1-152</td><td>recommended</td><td><span style=white-space:pre-wrap>R (&gt;= 3.4.0)                                   </span></td><td><span style=white-space:pre-wrap>graphics, stats, utils, lattice                 </span></td><td>NA</td><td><span style=white-space:pre-wrap>Hmisc, MASS                               </span></td><td><span style=white-space:pre-wrap>NA                                                                 </span></td><td>GPL (&gt;= 2) | file LICENCE</td><td>NA</td><td>NA</td><td>NA</td><td>NA</td><td>yes</td><td>4.0.3</td></tr>\n",
              "\t<tr><th scope=row>nnet</th><td><span style=white-space:pre-wrap>nnet      </span></td><td><span style=white-space:pre-wrap>/usr/lib/R/library     </span></td><td>7.3-16 </td><td>recommended</td><td><span style=white-space:pre-wrap>R (&gt;= 3.0.0), stats, utils                     </span></td><td><span style=white-space:pre-wrap>NA                                              </span></td><td>NA</td><td><span style=white-space:pre-wrap>MASS                                      </span></td><td><span style=white-space:pre-wrap>NA                                                                 </span></td><td><span style=white-space:pre-wrap>GPL-2 | GPL-3            </span></td><td>NA</td><td>NA</td><td>NA</td><td>NA</td><td>yes</td><td>4.0.5</td></tr>\n",
              "\t<tr><th scope=row>parallel</th><td>parallel  </td><td>/usr/lib/R/library     </td><td>4.1.0  </td><td>base       </td><td>NA                                             </td><td>tools, compiler                                 </td><td>NA</td><td>methods                                   </td><td>snow, nws, Rmpi                                                    </td><td>Part of R 4.1.0          </td><td>NA</td><td>NA</td><td>NA</td><td>NA</td><td>yes</td><td>4.1.0</td></tr>\n",
              "\t<tr><th scope=row>rpart</th><td><span style=white-space:pre-wrap>rpart     </span></td><td><span style=white-space:pre-wrap>/usr/lib/R/library     </span></td><td>4.1-15 </td><td>recommended</td><td><span style=white-space:pre-wrap>R (&gt;= 2.15.0), graphics, stats, grDevices      </span></td><td><span style=white-space:pre-wrap>NA                                              </span></td><td>NA</td><td><span style=white-space:pre-wrap>survival                                  </span></td><td><span style=white-space:pre-wrap>NA                                                                 </span></td><td><span style=white-space:pre-wrap>GPL-2 | GPL-3            </span></td><td>NA</td><td>NA</td><td>NA</td><td>NA</td><td>yes</td><td>4.0.0</td></tr>\n",
              "\t<tr><th scope=row>spatial</th><td><span style=white-space:pre-wrap>spatial   </span></td><td><span style=white-space:pre-wrap>/usr/lib/R/library     </span></td><td>7.3-14 </td><td>recommended</td><td><span style=white-space:pre-wrap>R (&gt;= 3.0.0), graphics, stats, utils           </span></td><td><span style=white-space:pre-wrap>NA                                              </span></td><td>NA</td><td><span style=white-space:pre-wrap>MASS                                      </span></td><td><span style=white-space:pre-wrap>NA                                                                 </span></td><td><span style=white-space:pre-wrap>GPL-2 | GPL-3            </span></td><td>NA</td><td>NA</td><td>NA</td><td>NA</td><td>yes</td><td>4.0.5</td></tr>\n",
              "\t<tr><th scope=row>splines</th><td>splines   </td><td>/usr/lib/R/library     </td><td>4.1.0  </td><td>base       </td><td>NA                                             </td><td>graphics, stats                                 </td><td>NA</td><td>Matrix, methods                           </td><td>NA                                                                 </td><td>Part of R 4.1.0          </td><td>NA</td><td>NA</td><td>NA</td><td>NA</td><td>yes</td><td>4.1.0</td></tr>\n",
              "\t<tr><th scope=row>stats</th><td>stats     </td><td>/usr/lib/R/library     </td><td>4.1.0  </td><td>base       </td><td>NA                                             </td><td>utils, grDevices, graphics                      </td><td>NA</td><td>MASS, Matrix, SuppDists, methods, stats4  </td><td>NA                                                                 </td><td>Part of R 4.1.0          </td><td>NA</td><td>NA</td><td>NA</td><td>NA</td><td>yes</td><td>4.1.0</td></tr>\n",
              "\t<tr><th scope=row>stats4</th><td>stats4    </td><td>/usr/lib/R/library     </td><td>4.1.0  </td><td>base       </td><td>NA                                             </td><td>graphics, methods, stats                        </td><td>NA</td><td>NA                                        </td><td>NA                                                                 </td><td>Part of R 4.1.0          </td><td>NA</td><td>NA</td><td>NA</td><td>NA</td><td>NA </td><td>4.1.0</td></tr>\n",
              "\t<tr><th scope=row>survival</th><td><span style=white-space:pre-wrap>survival  </span></td><td><span style=white-space:pre-wrap>/usr/lib/R/library     </span></td><td>3.2-11 </td><td>recommended</td><td><span style=white-space:pre-wrap>R (&gt;= 3.5.0)                                   </span></td><td>graphics, Matrix, methods, splines, stats, utils</td><td>NA</td><td><span style=white-space:pre-wrap>NA                                        </span></td><td><span style=white-space:pre-wrap>NA                                                                 </span></td><td><span style=white-space:pre-wrap>LGPL (&gt;= 2)              </span></td><td>NA</td><td>NA</td><td>NA</td><td>NA</td><td>yes</td><td>4.0.5</td></tr>\n",
              "\t<tr><th scope=row>tcltk</th><td>tcltk     </td><td>/usr/lib/R/library     </td><td>4.1.0  </td><td>base       </td><td>NA                                             </td><td>utils                                           </td><td>NA</td><td>NA                                        </td><td>NA                                                                 </td><td>Part of R 4.1.0          </td><td>NA</td><td>NA</td><td>NA</td><td>NA</td><td>yes</td><td>4.1.0</td></tr>\n",
              "\t<tr><th scope=row>tools</th><td>tools     </td><td>/usr/lib/R/library     </td><td>4.1.0  </td><td>base       </td><td>NA                                             </td><td>NA                                              </td><td>NA</td><td>codetools, methods, xml2, curl, commonmark</td><td>NA                                                                 </td><td>Part of R 4.1.0          </td><td>NA</td><td>NA</td><td>NA</td><td>NA</td><td>yes</td><td>4.1.0</td></tr>\n",
              "\t<tr><th scope=row>utils</th><td>utils     </td><td>/usr/lib/R/library     </td><td>4.1.0  </td><td>base       </td><td>NA                                             </td><td>NA                                              </td><td>NA</td><td>methods, xml2, commonmark                 </td><td>NA                                                                 </td><td>Part of R 4.1.0          </td><td>NA</td><td>NA</td><td>NA</td><td>NA</td><td>yes</td><td>4.1.0</td></tr>\n",
              "</tbody>\n",
              "</table>\n"
            ]
          },
          "metadata": {
            "tags": []
          }
        }
      ]
    },
    {
      "cell_type": "code",
      "metadata": {
        "id": "JByEjmAwVU4Y"
      },
      "source": [
        "update.packages('ggplot2')"
      ],
      "execution_count": null,
      "outputs": []
    },
    {
      "cell_type": "code",
      "metadata": {
        "id": "xQ5551P3VXXy",
        "colab": {
          "base_uri": "https://localhost:8080/"
        },
        "outputId": "8cc50a53-5382-4211-f4cd-902ecdc01299"
      },
      "source": [
        "remove.packages('ggplot2')"
      ],
      "execution_count": null,
      "outputs": [
        {
          "output_type": "stream",
          "text": [
            "Removing package from ‘/usr/local/lib/R/site-library’\n",
            "(as ‘lib’ is unspecified)\n",
            "\n"
          ],
          "name": "stderr"
        }
      ]
    },
    {
      "cell_type": "markdown",
      "metadata": {
        "id": "30oBVpq9z-I0"
      },
      "source": [
        "__파일 읽기__"
      ]
    },
    {
      "cell_type": "code",
      "metadata": {
        "colab": {
          "base_uri": "https://localhost:8080/",
          "height": 34
        },
        "id": "C2v0zWT4g0Ck",
        "outputId": "72bf7c1d-7766-4dd4-dc4c-33376a3ae8f2"
      },
      "source": [
        "system('gdown --id 12gZdk37SOa5EkBqNiS68a3HeZJcrtZlv')\n",
        "a <- scan(\"irum.txt\", what='char', sep=',', fileEncoding = \"EUC-KR\")  # 쉼표로 구분 되어 있다\n",
        "a"
      ],
      "execution_count": 92,
      "outputs": [
        {
          "output_type": "display_data",
          "data": {
            "text/plain": [
              "[1] \"홍길동\" \"손영문\" \"조재희\" \"하철중\" \"국만봉\" \"하명순\""
            ],
            "text/latex": "\\begin{enumerate*}\n\\item '홍길동'\n\\item '손영문'\n\\item '조재희'\n\\item '하철중'\n\\item '국만봉'\n\\item '하명순'\n\\end{enumerate*}\n",
            "text/markdown": "1. '홍길동'\n2. '손영문'\n3. '조재희'\n4. '하철중'\n5. '국만봉'\n6. '하명순'\n\n\n",
            "text/html": [
              "<style>\n",
              ".list-inline {list-style: none; margin:0; padding: 0}\n",
              ".list-inline>li {display: inline-block}\n",
              ".list-inline>li:not(:last-child)::after {content: \"\\00b7\"; padding: 0 .5ex}\n",
              "</style>\n",
              "<ol class=list-inline><li>'홍길동'</li><li>'손영문'</li><li>'조재희'</li><li>'하철중'</li><li>'국만봉'</li><li>'하명순'</li></ol>\n"
            ]
          },
          "metadata": {
            "tags": []
          }
        }
      ]
    },
    {
      "cell_type": "code",
      "metadata": {
        "id": "uZIhbJk3ipZs"
      },
      "source": [
        "#x <- scan()  # R 프로그램에서 수행 시, x에 내용을 입력할 수 있다(내용이 끝나면 Enter 2번)"
      ],
      "execution_count": null,
      "outputs": []
    },
    {
      "cell_type": "code",
      "metadata": {
        "colab": {
          "base_uri": "https://localhost:8080/",
          "height": 1000
        },
        "id": "nmnny-EUi07I",
        "outputId": "65ddad85-8b41-45f9-9529-ea0832150424"
      },
      "source": [
        "system('gdown --id 1a67qqZtS2cmJOm4NS3pXZCdJhWGKAHC7')\n",
        "#data <- readLines(\"consumer.txt\", encoding = \"UTF-8\")\n",
        "#data <- readLines(\"consumer.txt\", encoding = \"CP949\")\n",
        "data <- readLines(\"consumer.txt\", encoding = \"EUC-KR\")\n",
        "data"
      ],
      "execution_count": 7,
      "outputs": [
        {
          "output_type": "display_data",
          "data": {
            "text/plain": [
              "  [1] \"423 \\xc0ڵ\\xbf\\xc2\\xf7\\xc1\\xa4\\xba\\xf1, \\xbc\\U{1b8bba}ҷ\\xae\\xa1\\xa4\\xbaδ\\xe7\\xbc\\U{1b8bba}\\xf1 û\\xb1\\xb8 \\xb5\\xee \\xbcҺ\\xf1\\xc0ںҸ\\xb8 \\xb8\\xb9\\xbe\\xc6 2016-04-01 482\"                                                                        \n",
              "  [2] \"422 \\xbbڶ\\xec \\xbc\\xba\\xc7\\xfc\\xbdü\\xfa \\xc8\\xc4 \\xbf\\xb0\\xc1\\U{161934}\\xab\\xb2\\xa8Ǯ ó\\xc1\\xfc \\xb5\\xee \\xba\\xce\\xc0ۿ\\xeb ȣ\\xbc\\xd2 \\xb8\\xb9\\xbe\\xc6  2016-02-02 3226\"                                                                       \n",
              "  [3] \"421 \\xb9\\xe6\\xbc\\xf6\\xc6\\xd1 \\xbb\\xe7\\xbf\\xeb \\xb0\\xfc\\xb7\\xc3 \\xc7\\xc7\\xc7ؿ\\xb9\\xb9\\xe6 \\xc1\\xd6\\xc0Ǻ\\xb8 2015-09-18 5650\"                                                                                                                  \n",
              "  [4] \"420 \\xbeȰ\\xfa \\xb0\\xfc\\xb7\\xc3 \\xbcҺ\\xf1\\xc0\\xda\\xc7\\xc7\\xc7\\xd8, \\xa1\\xae\\xb9鳻\\xc0塯\\xb5\\xee \\xb3\\xeb\\xc0μ\\xba \\xc1\\xfaȯ \\xba\\xce\\xc0ۿ\\xeb \\xb8\\xb9\\xbe\\xc6 2015-09-04 7683\"                                                               \n",
              "  [5] \"419 \\xc7ؿܱ\\xb8\\xb8Ŵ\\xeb\\xc7\\xe0 \\xc0\\xce\\xc5ͳݼ\\xee\\xc7θ\\xf4 \\xc7\\xc7\\xc7\\xd8 \\xc1\\xd6\\xc0\\xc7 2015-08-28 7162\"                                                                                                                                \n",
              "  [6] \"418 \\xc7ؿܱ\\xb8\\xb8Ŵ\\xeb\\xc7\\xe0 \\xc0\\xce\\xc5ͳݼ\\xee\\xc7θ\\xf4 \\xc7\\xc7\\xc7\\xd8 \\xc1\\xd6\\xc0\\xc7 2015-08-25 5693\"                                                                                                                                \n",
              "  [7] \"417 \\xbc\\xbcŹ\\xbcҿ\\xa1\\xbc\\xad \\xc8Ѽյ\\xc8 \\xbc\\xbcŹ\\xb9\\xb0 10\\xb0\\xc7 \\xc1\\xdf 3\\xb0\\xc7\\xc0\\xba ǰ\\xc1\\xfa \\xc7\\xcf\\xc0ڰ\\xa1 \\xbf\\xf8\\xc0\\xce 2015-08-13 4466\"                                                                              \n",
              "  [8] \"416 \\xbf\\xa9\\xb8\\xa7 \\xc8ް\\xa1ö \\xb7\\xbb\\xc5\\xcdī \\xc0̿\\xeb \\xbd\\xc3 \\xbcҺ\\xf1\\xc0\\xda\\xc7\\xc7\\xc7\\xd8 \\xc1\\xd6\\xc0\\xc7 \\xc7ϼ\\xbc\\xbf\\xe4 ! 2015-08-11 4354\"                                                                                   \n",
              "  [9] \"415 \\xc0ڵ\\xbf\\xc2\\xf7 \\xbc\\xbc\\xc2\\xf7 \\xbd\\xc3 \\xc2\\xf7\\xb7\\xae \\xbcջ\\xf3 \\xc1\\xd6\\xc0\\xc7 \\xc7ϼ\\xbc\\xbf\\xe4! 2015-07-10 4919\"                                                                                                              \n",
              " [10] \"414 \\xc4ܵ\\xb5ȸ\\xbf\\xf8\\xb1\\xc7 \\xc6Ǹ\\xc5 \\xbb\\xf3\\xbc\\xfa \\xb0\\xa5\\xbc\\xf6\\xb7\\xcf \\xc1\\xf6\\xb4\\xc9ȭ\\xb5ǰ\\xed \\xc0־\\xee \\xc1\\xd6\\xc0\\xc7 \\xbf\\xe4\\xb8\\xc1 2015-05-22 6675\"                                                                    \n",
              " [11] \"413 \\xc7Ǻΰ\\U{38bbcb7a}\\xf1\\xbd\\xba \\xb9\\xab\\xb7\\xe1 ü\\xc7\\xe8\\xc0\\xbb \\xba\\xf9\\xc0\\xda\\xc7\\xd1 ȭ\\xc0\\xe5ǰ \\xc6Ǹ\\xc5 \\xc7\\xc7\\xc7\\xd8 \\xc1\\xf6\\xbc\\xd3\\xc0\\xfb \\xb9\\u07fb\\xfd 2015-05-19 5763\"                                                  \n",
              " [12] \"412 \\xbe\\xee\\xb9\\xf6\\xc0̳\\xaf \\xbeյΰ\\xed \\xbe˶\\xe3\\xc6\\xf9 \\xb1\\xb8\\xb8\\xc5 \\xc7\\xc7\\xc7\\xd8\\xc1\\xd6\\xc0Ǻ\\xb8 \\xb9߷\\xc9, \\xc0\\xfcü \\xc7\\xc7\\xc7\\xd8\\xc0\\xda 60%\\xb0\\xa1 60\\xb4\\xeb \\xc0̻\\xf3 2015-05-06 7283\"                                  \n",
              " [13] \"411 ġ\\xbeƺ\\xb8\\xc7\\xe8 \\xb0\\xfc\\xb7\\xc3 \\xbcҺ\\xf1\\xc0\\xda\\xc7\\xc7\\xc7\\xd8 \\xb8ų\\xe2 \\xc1\\xf5\\xb0\\xa1 2015-04-29 6988\"                                                                                                                        \n",
              " [14] \"410 \\xc1߰\\xed\\xc2\\xf7 \\xbc\\xba\\xb4\\xc9\\xc1\\xa1\\xb0\\xcb \\xb3\\xbb\\xbf\\xeb\\xc0\\xcc \\xbd\\xc7\\xc1\\xa6 \\xc2\\xf7\\xb7\\xae \\xbb\\xf3\\xc5¿\\xcd \\xb4ٸ\\xa5 \\xb0\\xe6\\xbf\\xec \\xb8\\xb9\\xbe\\xc6 2015-04-22 8486\"                                              \n",
              " [15] \"409 \\xbe\\xcf \\xbf\\xc0\\xc1\\xf8 \\xc1\\xdf \\xc6\\xf3\\xbe\\xcf \\xbf\\xc0\\xc1\\xf8 \\xc7\\xc7\\xc7\\xd8 \\xb0\\xa1\\xc0\\xe5 \\xb8\\xb9\\xbe\\xc6 2015-04-20 6950\"                                                                                                 \n",
              " [16] \"408 \\xbf¶\\xf3\\xc0\\xce\\xc0\\xb8\\xb7\\xce \\xb1\\xb8\\xb8\\xc5\\xc7\\xd1 \\xb0\\xa1\\xb1\\xb8 \\xc7\\xc7\\xc7غ\\xf1\\xc0\\xb2 \\xb8ų\\xe2 \\xbb\\xf3\\xbd\\xc2 2015-04-01 6542\"                                                                                        \n",
              " [17] \"407 \\xc2\\U{1f7bbf}\\xeb \\xba\\xed\\xb7\\xa2\\xb9ڽ\\xba \\xa1\\xae\\xb9\\xab\\xb7\\xe1\\xc0\\xe5\\xc2\\xf8\\xa1\\xaf \\xba\\xf9\\xc0\\xda\\xc7\\xd1 \\xbe\\xe4ü\\xbb\\xf3\\xbc\\xfa \\xc1\\xd6\\xc0\\xc7! 2015-03-06 9268\"                                                      \n",
              " [18] \"406 \\xc0\\xce\\xc5ͳݱ\\xb3\\xc0\\xb0\\xbc\\xad\\xba\\xf1\\xbd\\xba \\xbcҺ\\xf1\\xc0\\xda \\xc7\\xc7\\xc7ؿ\\xb9\\xb9\\xe6\\xc1\\xd6\\xc0Ǻ\\xb8 2015-02-11 5939\"                                                                                                         \n",
              " [19] \"405 \\xb4\\xab\\xa1\\xa4\\xc4\\xda \\xbc\\xba\\xc7\\xfc\\xbc\\xf6\\xbc\\xfa, \\xa1\\xae\\xba\\xf1\\xb4\\xebĪ\\xa1\\xaf \\xba\\xce\\xc0ۿ\\xeb \\xb8\\xb9\\xbe\\xc6 2015-02-10 7961\"                                                                                         \n",
              " [20] \"404 \\xb5\\xbf\\xbe\\xe7\\xbf\\xfe\\xb5\\xf9\\xbe\\xd8\\xc7\\xe3\\xb4Ϲ\\xae \\xbcҺ\\xf1\\xc0\\xda\\xc7\\xc7\\xc7\\xd8 \\xb9\\u07fb\\xfd \\xb9\\xd7 \\xc0\\xaf\\xc0ǻ\\xe7\\xc7\\xd7 \\xbeȳ\\xbb 2015-01-12 6139\"                                                                 \n",
              " [21] \"403 \\xc0̻\\xe7ȭ\\xb9\\xb0\\xbc\\xad\\xba\\xf1\\xbd\\xba \\xbcҺ\\xf1\\xc0\\xda\\xc7\\xc7\\xc7ؿ\\xb9\\xb9\\xe6\\xc1\\xd6\\xc0Ǻ\\xb8 2014-11-26 7991\"                                                                                                                   \n",
              " [22] \"402 \\xb1\\xb9\\xb3\\xbb \\xb0\\xe1ȥ\\xc1߰\\xb3 \\xb0\\xfc\\xb7\\xc3 \\xbcҺ\\xf1\\xc0\\xda\\xc7\\xc7\\xc7\\xd8, 2\\xb0\\xc7 \\xc1\\xdf 1\\xb0\\xc7\\xc0\\xba \\xbaҼ\\xba\\xbd\\xc7 \\xbcҰ\\xb3 2014-11-13 8514\"                                                                 \n",
              " [23] \"401 \\xb8ų\\xe2 \\xc1\\xf5\\xb0\\xa1\\xc7ϴ\\xc2 \\xc7װ\\xf8\\xbc\\xad\\xba\\xf1\\xbd\\xba \\xc7\\xc7\\xc7\\xd8, 10\\xb0\\xc7 \\xc1\\xdf 7\\xb0\\xc7\\xc0\\xba \\xbfܱ\\xb9 \\xc7װ\\xf8\\xbb\\xe7 \\xc7\\xc7\\xc7\\xd8 2014-11-06 5433\"                                               \n",
              " [24] \"400 \\xb0\\xd4\\xc0Ӽ\\xad\\xba\\xf1\\xbd\\xba, \\xb9̼\\xba\\xb3\\xe2\\xc0\\xda \\xb0\\xe1\\xc1\\xa6 \\xc3\\xeb\\xbc\\xd2 \\xb0\\xfc\\xb7\\xc3 \\xbaҸ\\xb8 \\xb8\\xb9\\xbe\\xc6 2014-10-14 5856\"                                                                               \n",
              " [25] \"399 \\xc5\\xeb\\xbd\\xc5\\xc6Ǹž\\xf7ü \\xa1\\xae\\xa2߳\\xaa\\xc0̽\\xba\\xc0\\xfc\\xc0ڡ\\xaf \\xb9\\xe8\\xbc\\xdb\\xc1ߴ\\xdc \\xc7\\xc7\\xc7\\xd8 \\xb4ٹ\\xdf 2014-10-14 4242\"                                                                                              \n",
              " [26] \"398 \\xb0\\xa1\\xc0\\xbbö \\xc1߰\\xed\\xc2\\xf7 \\xb1\\xb8\\xc0\\xd4 \\xbd\\xc3 \\xa1\\xaeħ\\xbc\\xf6\\xa1\\xaf \\xbf\\xa9\\xba\\xce \\xb2Ĳ\\xc4\\xc8\\xf7 \\xbb\\xec\\xc6\\xec\\xba\\xc1\\xbe\\xdf 2014-10-13 3770\"                                                              \n",
              " [27] \"397 \\xa1\\xae\\xc4ܼ\\xadƮ \\xb5\\xee \\xb0\\xf8\\xbf\\xac\\xb0\\xfc\\xb6\\xf7 \\xbcҺ\\xf1\\xc0\\xda \\xc7\\xc7\\xc7\\xd8 \\xc1\\xd6\\xc0ǡ\\xaf \\xb0溸\\xb9߷\\xc9 2014-10-02 4290\"                                                                                        \n",
              " [28] \"396 \\xc7Ѱ\\xa1\\xc0\\xa7 \\xc3\\u07fc\\xae\\xb8\\xed\\xc0\\xfd, \\xc0ڵ\\xbf\\xc2\\xf7 \\xb0\\xdf\\xc0ν\\xc3 \\xa1\\xae\\xbdŰ\\xed\\xb5\\xc8 \\xbf\\xee\\xc0ӡ\\xa4\\xbf\\xe4\\xb1ݡ\\xaf\\xc0\\xbb \\xb2\\xc0 Ȯ\\xc0\\xce\\xc7ϼ\\xbc\\xbf\\xe4 ! 2014-08-26  3373\"                       \n",
              " [29] \"395 \\xc7Ǻ\\xce \\xb9̿\\xeb\\xbdü\\xfa, \\xc7Ǻΰ\\xfa \\xc0\\xfc\\xb9\\xae\\xc0\\xc7 \\xbc\\xb3\\xb8\\xed \\xc3\\xe6\\xba\\xd0\\xc8\\xf7 \\xb5\\xe8\\xb0\\xed \\xb0\\xe8\\xbe\\xe0\\xc7ϼ\\xbc\\xbf\\xe4! 2014-08-19 5417\"                                                          \n",
              " [30] \"394 \\xb0\\xfa\\xb5\\xb5\\xc7\\xd1 \\xc7\\xd2\\xc0Ρ\\xa4\\xbb\\xe7\\xc0\\xbaǰ \\xc7\\xf6Ȥ \\xc0\\xe5\\xb1\\xe2 \\xb0\\xe8\\xbcӰŷ\\xa1 \\xb0\\xe8\\xbe\\xe0 \\xc1\\xd6\\xc0\\xc7 2014-08-11 3941\"                                                                             \n",
              " [31] \"393 \\xb7\\xbb\\xc5\\xcdī, \\xbe\\xe0\\xb0\\xfc\\xc0\\xba \\xb9\\xb0\\xb7\\xd0 \\xc2\\xf7\\xb7\\xae \\xbb\\xf3\\xc5\\xc2 \\xb2\\xc0 Ȯ\\xc0\\xce\\xc7ϰ\\xed \\xb0\\xe8\\xbe\\xe0\\xc7ϼ\\xbc\\xbf\\xe4 ! 2014-08-01 3655\"                                                          \n",
              " [32] \"392 \\xc6\\xe6\\xbc\\xc7 \\xb0\\xe8\\xbe\\xe0\\xbd\\xc3 ȯ\\xbaұ\\xd4\\xc1\\xa4 \\xb9ݵ\\xe5\\xbd\\xc3 Ȯ\\xc0\\xce\\xc7ϼ\\xbc\\xbf\\xe4! 2014-07-14 18424\"                                                                                                             \n",
              " [33] \"391 ȣ\\xc5ڿ\\xb9\\xbe\\xe0 \\xb4\\xeb\\xc7\\xe0\\xbb\\xe7\\xc0\\xccƮ \\xbcҺ\\xf1\\xc0\\xda\\xc7\\xc7\\xc7\\xd8 \\xc1\\xd6\\xc0\\xc7\\xc7ϼ\\xbc\\xbf\\xe4 2014-07-11 4121\"                                                                                                \n",
              " [34] \"390 \\xb9ݷ\\xc1\\xb5\\xbf\\xb9\\xb0, \\xc6\\xf3\\xbb硤\\xc1\\xfa\\xba\\xb4 \\xb0\\xfc\\xb7\\xc3 \\xbcҺ\\xf1\\xc0\\xda\\xc7\\xc7\\xc7\\xd8 \\xb8\\xb9\\xc1\\xf6\\xb8\\xb8 \\xba\\xb8\\xbb\\xf3\\xb9ޱ\\xe2\\xb4\\xc2 \\xbe\\xee\\xb7\\xc1\\xbf\\xf6 2014-06-18 4199\"                        \n",
              " [35] \"389 \\xc0Ƿ\\xf9\\xa1\\xa4\\xbdŹ\\xdf \\xc0\\xce\\xc5ͳݼ\\xee\\xc7θ\\xf4 \\xc6ǸŻ\\xe7\\xbe\\xf7\\xc0\\xda û\\xbe\\xe0öȸ \\xb0źη\\xce \\xc7\\xc7\\xc7\\xd8 \\xbdɰ\\xa2 2014-06-10 4805\"                                                                                     \n",
              " [36] \"388 \\xb9\\xab\\xb7\\xe1 \\xc4ܵ\\xb5ȸ\\xbf\\xf8\\xb1\\xc7 \\xb4\\xe7÷\\xa1\\xa4ȫ\\xba\\xb8\\xb4\\xeb\\xbb\\xe7 \\xbc\\xb1\\xc1\\xa4 \\xc0\\xfcȭ \\xc1\\xb6\\xbd\\xc9\\xc7ϼ\\xbc\\xbf\\xe4 2014-06-10 5688\"                                                                      \n",
              " [37] \"387 \\xc7ｺ\\xa1\\xa4\\xc7\\xc7Ʈ\\xb4Ͻ\\xba \\xb0\\xe8\\xbe\\xe0 \\xbd\\xc3 ȯ\\xbaұ\\xd4\\xc1\\xa4 \\xc1\\xd6\\xc0\\xc7\\xc7ؾ\\xdf 2014-06-03 8752\"                                                                                                                  \n",
              " [38] \"386 \\xbd\\xc5ȥ\\xbf\\xa9\\xc7\\xe0 \\xb0\\xe8\\xbe\\xe0 \\xbd\\xc3 Ư\\xbe\\xe0 \\xbb\\xe7\\xc7\\xd7 \\xb2Ĳ\\xc4\\xc8\\xf7 Ȯ\\xc0\\xce\\xc7ϼ\\xbc\\xbf\\xe4 2014-05-26 3561\"                                                                                             \n",
              " [39] \"385 \\xbdŹ\\xae \\xb1\\xa4\\xb0\\xed \\xc5\\xeb\\xbd\\xc5\\xc6Ǹ\\xc5 \\xbe\\xf7ü \\xa1\\xae\\xbeֵ\\xe5\\xc4\\xc4\\xc4ڸ\\xae\\xbeơ\\xaf \\xbcҺ\\xf1\\xc0\\xda \\xc7\\xc7\\xc7\\xd8\\xc1\\xd6\\xc0\\xc7 2014-05-19 3218\"                                                            \n",
              " [40] \"384 \\xc8\\u07b4\\xeb\\xc6\\xf9 \\xbcҾװ\\xe1\\xc1\\xa6 \\xc7\\xc7\\xc7\\xd8, \\xb8ų\\xe2 2\\xb9\\xe8 \\xc0̻\\xf3 \\xc1\\xf5\\xb0\\xa1!! 2014-05-14 4318\"                                                                                                             \n",
              " [41] \"383 \\xbe˶\\xe3\\xc6\\xf9 \\xbe\\xbd\\xc5 \\xb0\\xa1\\xc0\\xd4 \\xbd\\xc3 \\xb0\\xe8\\xbe\\xe0\\xc1\\xb6\\xb0\\xc7 \\xb2Ĳ\\xc4\\xc8\\xf7 Ȯ\\xc0\\xce\\xc7ϼ\\xbc\\xbf\\xe4! 2014-05-13 4199\"                                                                                \n",
              " [42] \"382 \\xb0\\xe1ȥ\\xc1\\xa4\\xba\\xb8\\xbe\\xf7ü \\xbcҺ\\xf1\\xc0\\xda \\xc7\\xc7\\xc7\\xd8\\xc1\\xd6\\xc0\\xc7 2014-04-21 4484\"                                                                                                                                   \n",
              " [43] \"381 \\xb9\\xab\\xb7\\xe1 \\xbeƴ\\xd1 \\xb9\\xab\\xb7\\xe1\\xc3Կ\\xb5\\xb1\\xc7, \\xbeƱ⼺\\xc0\\xe5\\xbeٹ\\xfc \\xb0\\xe8\\xbe\\xe0 \\xc1\\xd6\\xc0\\xc7\\xc7ؾ\\xdf 2014-04-15 5030\"                                                                                       \n",
              " [44] \"380 \\xbc\\xbcŹ\\xbcҿ\\xa1 \\xb8ñ\\xe4 \\xc8\\xc4 \\xbcջ\\xf3\\xb5ǰ\\xed \\xbaн\\xc7 \\xc0\\xe6\\xbe\\xc6 2014-04-14 3662\"                                                                                                                                     \n",
              " [45] \"379 \\xc0\\xce\\xc5\\u05f8\\xae\\xbe\\xbc\\xb3\\xba\\xf1 \\xb0\\xf8\\xbb\\xe7 \\xc7\\xcf\\xc0\\xda \\xb9\\u07fb\\xfd\\xbf\\xa1 \\xb4\\xeb\\xc7\\xd1 \\xbb\\xe7\\xc8ĺ\\xb8\\xc1\\xf5 \\xb9ޱ\\xe2 \\xbe\\xee\\xb7\\xc1\\xbf\\xf6 2014-03-28 6922\"                                      \n",
              " [46] \"378 \\xc0ڵ\\xbf\\xc2\\xf7 \\xc1\\xa4\\xba\\xf1 \\xb0\\xfc\\xb7\\xc3 \\xbcҺ\\xf1\\xc0\\xda \\xc7\\xc7\\xc7\\xd8 \\xb8ų\\xe2 200\\xb0\\xc7 \\xc0̻\\xf3 \\xb9\\u07fb\\xfd 2014-03-25 4505\"                                                                                    \n",
              " [47] \"377 \\xbf\\xb9\\xbd\\xc4\\xc0\\xe5, \\xbcҺ\\xf1\\xc0\\xda\\xc0\\xc7 \\xb0\\xe8\\xbe\\xe0\\xb1\\xdd ȯ\\xb1\\xde \\xbf\\xe4û \\xb8\\U{0388fc}\\xe8\\xb7\\xce \\xc0ϰ\\xfc 2014-03-20 4145\"                                                                                   \n",
              " [48] \"376 \\xbfܱ\\xb9\\xb0\\xe8 \\xc0\\xfa\\xba\\xf1\\xbf\\xeb\\xc7װ\\xf8 \\xb0\\xfc\\xb7\\xc3 \\xbcҺ\\xf1\\xc0\\xda \\xc7\\xc7\\xc7\\xd8 \\xb1\\xde\\xc1\\xf5 2014-02-28 3957\"                                                                                                 \n",
              " [49] \"375 \\xc7ؿܿ\\xac\\xbc\\xf6, \\xb0\\xe8\\xbe\\xe0\\xc7\\xd8\\xc1\\xa6 \\xbd\\xb1\\xc1\\xf6 \\xbeʰ\\xed \\xbd\\xc7\\xc1\\xa6 \\xbf\\xac\\xbc\\xf6 \\xb3\\xbb\\xbf뵵 \\xb4\\u07b6\\xf3 2014-02-20 3116\"                                                                          \n",
              " [50] \"374 \\xb5\\xb9\\xc0\\xdcġ, \\xc0ϴ\\xdc \\xb0\\xe8\\xbe\\xe0\\xc7ϸ\\xe9 2\\xb0\\xb3\\xbf\\xf9 \\xc0\\xfc\\xbf\\xa1\\xb5\\xb5 \\xc7ؾ\\xe0\\xc7ϱ\\xe2 \\xbe\\xee\\xb7\\xc1\\xbf\\xf6 2014-02-14 4498\"                                                                           \n",
              " [51] \"373 \\xc0Ƿ\\xf9.\\xbdŹ\\xdf \\xb5\\xee ǰ\\xc1\\xfa\\xc7\\xcf\\xc0\\xda 46.2% \\xb4\\xde\\xc7\\xd8 2014-02-10 4389\"                                                                                                                                           \n",
              " [52] \"372 \\xa1\\xae\\xb0\\xe8\\xbe\\xe0\\xc7\\xd8\\xc1\\xa6\\xa1\\xa4\\xc7\\xd8\\xc1\\xf6 \\xb0\\xc5\\xc0\\xfd\\xa1\\xaf, \\xa1\\xaeǰ\\xc1\\xfa\\xa1\\xa4A/S' \\xc7\\xc7\\xc7ذ\\xa1 \\xb0\\xa2\\xb0\\xa2 37.9%\\xb7\\xce \\xb0\\xa1\\xc0\\xe5 \\xb8\\xb9\\xbe\\xc6 2013-12-31 4552\"             \n",
              " [53] \"371 \\xc0̻\\xe7\\xc7\\xc7\\xc7\\xd8, 10\\xb0\\xc7\\xc1\\xdf 7\\xb0\\xc7\\xc0\\xba \\xc0̻\\xf1\\xc1\\xfc \\xc8Ѽա\\xa4\\xc6ļ\\xd5 \\xc7\\xc7\\xc7\\xd8 2013-12-31 4445\"                                                                                                    \n",
              " [54] \"370 \\xb0\\xe1ȥ \\xbf\\xb9\\xbdġ\\xa4\\xc1غ\\xf1\\xb4\\xeb\\xc7\\xe0 \\xbc\\xad\\xba\\xf1\\xbd\\xba \\xb0\\xe8\\xbe\\xe0\\xc7\\xd8\\xc1\\xa6 \\xbe\\xee\\xb7\\xc1\\xbf\\xf6 2013-12-31 3510\"                                                                                 \n",
              " [55] \"369 \\xb4ٴܰ\\xe8\\xc6Ǹ\\xc5 \\xc7\\xc7\\xc7\\xd8 \\xbb\\xf3\\xb4\\xe3, \\xc3ֱ\\xd9 3\\xb3\\xe2 \\xbb\\xf5 \\xb5\\xce \\xb9\\xe8 \\xc0̻\\xf3 \\xc1\\xf5\\xb0\\xa1 2013-12-31 3433\"                                                                                           \n",
              " [56] \"368 \\xbc\\xba\\xc7\\xfc\\xbc\\xf6\\xbc\\xfa \\xbcҺ\\xf1\\xc0ڻ\\xf3\\xb4\\xe3, \\xa1\\xae\\xb0\\xe8\\xbe\\xe0\\xc7\\xd8\\xc1\\xa6\\xa1\\xa4\\xc7\\xd8\\xc1\\xf6 \\xb0\\xc5\\xc0\\xfd\\xa1\\xaf \\xbaҸ\\xb8\\xc0\\xcc 29.3%\\xb7\\xce \\xb0\\xa1\\xc0\\xe5 \\xb8\\xb9\\xbe\\xc6 2013-12-31 3621\"\n",
              " [57] \"367 \\xbaο\\xef\\xb0\\xe6, \\xb4\\xeb\\xba\\xce(\\xbe\\xf7)\\xb4\\xeb\\xc3\\xe2 \\xb0\\xfc\\xb7\\xc3 \\xbcҺ\\xf1\\xc0ڻ\\xf3\\xb4\\xe3 \\xb8ų\\xe2 \\xb2\\xd9\\xc1\\xd8\\xc8\\xf7 \\xb9\\u07fb\\xfd 2013-12-31 2546\"                                                             \n",
              " [58] \"366 \\xc3\\u07fc\\xae \\xb8\\xed\\xc0\\xfd, \\xc0\\xfc\\xc0ڻ\\xf3\\xb0ŷ\\xa1 \\xbcҺ\\xf1\\xc0\\xda\\xc7\\xc7\\xc7\\xd8 \\xc1\\xd6\\xc0Ǻ\\xb8 2013-12-24 3734\"                                                                                                         \n",
              " [59] \"365 \\xb0\\xad\\xbf\\xf8\\xb5\\xb5, \\xb0\\xed\\xb7ɼҺ\\xf1\\xc0\\xda \\xc7\\xc7\\xc7\\xd8, \\xc1\\U{1bfaba}\\xb0 \\xbc\\xf8\\xc0\\xa7 3\\xc0\\xa7\\xb7\\xce \\xb8\\xb9\\xbe\\xc6 2013-12-23 2683\"                                                                           \n",
              " [60] \"364 \\xb0\\xad\\xbf\\xf8\\xc1\\xf6\\xbf\\xaa \\xc1߰\\xed\\xc0ڵ\\xbf\\xc2\\xf7, \\xbc\\xba\\xb4ɡ\\xa4\\xbb\\xf3\\xc5\\xc2\\xc1\\xa1\\xb0˱\\xe2\\xb7Ϻο\\xcd \\xb4ٸ\\xa3\\xb4ٴ\\xc2 \\xbaҸ\\xb8 \\xb8\\xb9\\xbe\\xc6 2013-12-23 4832\"                                                  \n",
              " [61] \"363 \\xc0\\xfa\\xb0\\xa1 \\xc4ܵ\\xb5ȸ\\xbf\\xf8\\xb1\\xc7 \\xb0\\xfc\\xb7\\xc3 \\xbcҺ\\xf1\\xc0\\xda\\xc7\\xc7\\xc7\\xd8 \\xb2\\xd9\\xc1\\xd8\\xc8\\xf7 \\xb9\\u07fb\\xfd 2013-12-23 2919\"                                                                                   \n",
              " [62] \"362 \\xb8\\xf0\\xb9\\xd9\\xc0ϰ\\xd4\\xc0\\xd3, \\xbaθ\\xf0 \\xb5\\xbf\\xc0\\xc7 \\xbe\\xf8\\xb4\\xc2 \\xb9̼\\xba\\xb3\\xe2\\xc0\\xda \\xb0\\xe1\\xc1\\xa6 \\xc7\\xc7\\xc7\\xd8 \\xb8\\xb9\\xbe\\xc6 2013-12-10 4524\"                                                              \n",
              " [63] \"361 \\xbb\\xf3\\xc1\\xb6\\xbc\\xad\\xba\\U{07debe}\\xf7ü, \\xbcҺ\\xf1\\xc0\\xda\\xc7\\xc7\\xc7ؿ\\xa1 \\xb3\\xaa \\xb8\\xf4\\xb6\\xf3\\xb6\\xf3 2013-12-09 3578\"                                                                                                       \n",
              " [64] \"360 \\xc0\\xce\\xc5ͳݱ\\xb3\\xc0\\xb0\\xbc\\xad\\xba\\xf1\\xbd\\xba \\xc1ߵ\\xb5\\xc7\\xd8\\xc1\\xf6 \\xbd\\xc3, \\xb0\\xfa\\xb4\\xd9 \\xc0\\xa7\\xbe\\xe0\\xb1\\xdd û\\xb1\\xb8 \\xc7\\xc7\\xc7\\xd8 \\xb8\\xb9\\xbe\\xc6 2013-12-05 3394\"                                            \n",
              " [65] \"359 \\xc1߰\\xed\\xc2\\xf7 \\xbc\\xba\\xb4ɡ\\xa4\\xbb\\xf3\\xc5\\xc2\\xc1\\xa1\\xb0˱\\xe2\\xb7Ϻ\\xce, \\xbd\\xc7\\xc1\\xa6 \\xc2\\U{1f7bb0}\\xfa \\xb4\\u07b6\\xf3 \\xc7\\xc7\\xc7\\xd8 \\xba\\xf3\\xb9\\xdf 2013-12-05 4357\"                                                      \n",
              " [66] \"358 2012\\xb3\\xe2 ȣ\\xb3\\xb2\\xa4\\xfd\\xc1\\xa6\\xc1\\xd6\\xc1\\xf6\\xbf\\xaa \\xb9湮\\xc6Ǹ\\xc5 \\xb0\\xfc\\xb7\\xc3 \\xc7\\xc7\\xc7\\xd8 33.8% \\xc1\\xf5\\xb0\\xa1 2013-12-05 2400\"                                                                                 \n",
              " [67] \"357 \\xc6\\xf7\\xc0\\xe5\\xc0̻\\xe7 \\xbc\\xad\\xba\\xf1\\xbd\\xba \\xbe\\xf7ü, 60% \\xc0̻\\xf3\\xc0\\xba \\xbcҺ\\xf1\\xc0\\xda \\xc7\\xc7\\xc7ؿ\\xa1 '\\xb8\\U{0388fc}\\xe8' 2013-11-27 3799\"                                                                              \n",
              " [68] \"356 \\xc0\\xfc\\xb1\\xe2\\xc0\\xe5\\xc6\\xc7 ȭ\\xc0硤ȭ\\xbb\\xf3 \\xc1\\xd6\\xc0\\xc7\\xc7ϼ\\xbc\\xbf\\xe4! 2013-11-21 4141\"                                                                                                                                    \n",
              " [69] \"355 \\xc7ؿ\\xdc \\xb1\\xb8\\xb8\\xc5 \\xb4\\xeb\\xc7\\xe0\\xc0\\xb8\\xb7\\xce \\xc1\\xa6ǰ \\xb1\\xb8\\xc0\\xd4 \\xbd\\xc3 \\xc1\\xd6\\xc0\\xc7\\xc7ϼ\\xbc\\xbf\\xe4 2013-11-14 5177\"                                                                                       \n",
              " [70] \"354 ǰ\\xc1\\xfa\\xbaҷ\\xae\\xa1\\xa4\\xb0\\xe8\\xbe\\xe0\\xba\\xd2\\xc0\\xcc\\xc7\\xe0 \\xb5\\xee \\xb0\\xa1\\xb1\\xb8 \\xb0\\xfc\\xb7\\xc3 \\xbcҺ\\xf1\\xc0\\xda\\xc7\\xc7\\xc7\\xd8 \\xbdɰ\\xa2! 2013-11-13 4581\"                                                              \n",
              " [71] \"353 \\xb4\\xeb\\xc0\\xfc\\xa1\\xa4\\xc3\\xe6û\\xc1\\xf6\\xbf\\xaa \\xc8\\u07b4\\xeb\\xc6\\xf9 \\xbcҾװ\\xe1\\xc1\\xa6, \\xbb\\xe7\\xbf\\xeb\\xc7\\xcf\\xc1\\xf6 \\xbe\\xca\\xc0\\xba \\xbf\\xe4\\xb1\\xdd \\xb0\\xe1\\xc1\\xa6 \\xc7\\xc7\\xc7\\xd8 \\xb8\\xb9\\xbe\\xc6 2013-11-05 3661\"      \n",
              " [72] \"352 \\xc3ʰ\\xed\\xbc\\xd3\\xc0\\xce\\xc5ͳݼ\\xad\\xba\\xf1\\xbd\\xba, \\xc7\\xd8\\xc1\\xf6ó\\xb8\\xae \\xb4\\xa9\\xb6\\xf4 \\xc7\\xc7\\xc7\\xd8 \\xb0\\xa1\\xc0\\xe5 \\xb8\\xb9\\xbe\\xc6 2013-11-04 4828\"                                                                      \n",
              " [73] \"351 \\xbeϺ\\xb8\\xc7\\xe8, \\xba\\xb8\\xc7\\xe8\\xb1\\xdd\\xc1\\xf6\\xb1\\xde \\xb0\\xfc\\xb7\\xc3 \\xba\\xd0\\xc0\\xef 90% \\xc0̻\\xf3 2013-10-30 7141\"                                                                                                              \n",
              " [74] \"350 ġ\\xb0\\xfa\\xba\\xd0\\xc0\\xef \\xc0\\xd3\\xc7ö\\xf5Ʈ\\xb0\\xa1 \\xb0\\xa1\\xc0\\xe5 \\xb8\\xb9\\xbe\\xc6 2013-10-29 5091\"                                                                                                                                  \n",
              " [75] \"349 \\xbfȭ ǰ\\xc1\\xfa\\xc7\\xcf\\xc0\\xda \\xb5\\xee '\\xb3\\xbb\\xb1\\xb8\\xbc\\xba \\xbaҷ\\xae'\\xc0\\xcc 80.2%\\xb7\\xce \\xb0\\xa1\\xc0\\xe5 \\xb8\\xb9\\xbe\\xc6 2013-10-02 7209\"                                                                                  \n",
              " [76] \"348 ħ\\xbc\\xf6 \\xc1߰\\xed \\xc0ڵ\\xbf\\xc2\\xf7 \\xbcҺ\\xf1\\xc0\\xda \\xbb\\xf3\\xb4\\xe3 \\xb8ų\\xe2 \\xc1\\xf5\\xb0\\xa1 2013-09-17 5428\"                                                                                                                      \n",
              " [77] \"347 \\xc5ù\\xe8 \\xbaҸ\\xb8, '\\xc4\\xc9\\xc0\\xcc\\xc1\\U{1bfef7}ο\\xecĸ', 'KGB\\xc5ù\\xe8' \\xbc\\xf8\\xc0\\xb8\\xb7\\xce \\xb3\\xf4\\xbe\\xc6 2013-09-09 8311\"                                                                                                   \n",
              " [78] \"346 \\xb3\\xb2\\xbc\\xba\\xbf\\xeb \\xbc\\xba\\xb1\\xe2\\xb4\\xc9 \\xc7\\xe2\\xbb\\xf3\\xb1\\xe2\\xb1\\xe2, \\xb9\\xab\\xc7㰡 \\xc1\\xa6ǰ \\xc1\\xd6\\xc0\\xc7\\xc7ϼ\\xbc\\xbf\\xe4! 2013-09-05 6694\"                                                                         \n",
              " [79] \"345 \\xc4\\xdc\\xc5\\xd9\\xc3\\xf7\\xc0̿\\xeb\\xbb\\xe7\\xc0\\xccƮ, ȸ\\xbf\\xf8 \\xb0\\xa1\\xc0\\xd4 \\xba\\xf9\\xc0\\xda\\xc7\\xd1 \\xc0\\xaf\\xb7\\xe1\\xb0\\xe1\\xc1\\xa6 \\xc7\\xc7\\xc7\\xd8 \\xb1\\xde\\xc1\\xf5 2013-08-27 5336\"                                               \n",
              " [80] \"344 \\xbfܱ\\xb9\\xb0\\xe8 \\xc7װ\\xf8\\xbb\\xe7 \\xbcҺ\\xf1\\xc0\\xda\\xc7\\xc7\\xc7\\xd8 \\xc0\\xfc\\xb3\\xe2 \\xb4\\xeb\\xba\\xf1 ū \\xc6\\xf8 \\xc1\\xf5\\xb0\\xa1! 2013-08-20 5854\"                                                                                     \n",
              " [81] \"343 \\xb4\\xeb\\xc0\\xfc \\xc3\\xe6û\\xc1\\xf6\\xbf\\xaa \\xc7ؿܿ\\xa9\\xc7\\xe0 \\xb0\\xfc\\xb7\\xc3 \\xbcҺ\\xf1\\xc0\\xda \\xc7\\xc7\\xc7\\xd8 \\xc1\\xf5\\xb0\\xa1 2013-08-02 4912\"                                                                                       \n",
              " [82] \"342 \\xc2\\xf7\\xb7\\xae \\xb7\\xbbƮ\\xbd\\xc3 \\xc1\\xd6\\xc0\\xc7\\xc7ϼ\\xbc\\xbf\\xe4 2013-07-25 9007\"                                                                                                                                                    \n",
              " [83] \"341 \\xc8\\u07b4\\xeb\\xc6\\xf9 \\xba\\xb8\\xc1\\xb6\\xb1\\xdd \\xc1\\xf6\\xbf\\xf8 \\xbe\\xe0\\xc1\\xa4 \\xba\\xd2\\xc0\\xcc\\xc7\\xe0 \\xc7\\xc7\\xc7\\xd8 \\xc1\\xd6\\xc0\\xc7 2013-07-23 7660\"                                                                            \n",
              " [84] \"340 \\xa1\\xb0\\xbf\\xa1\\xbe\\xee\\xc4\\xc1 \\xbc\\xb3ġ\\xbd\\xc3 \\xc1\\xd6\\xc0\\xc7\\xc7ϼ\\xbc\\xbf䡱 2013-07-23 7897\"                                                                                                                                      \n",
              " [85] \"339 \\xbdð\\xe8 \\xb1\\xb8\\xb8Ž\\xc3 \\xc1\\xd6\\xc0\\xc7\\xc7ϼ\\xbc\\xbf\\xe4! 2013-07-19 6810\"                                                                                                                                                          \n",
              " [86] \"338 \\xc7ؿܿ\\xa9\\xc7\\xe0 \\xbd\\xc3 \\xbd\\xba\\xb8\\xb6Ʈ\\xc6\\xf9 \\xb5\\xa5\\xc0\\xcc\\xc5ͷιֿ\\xe4\\xb1\\xdd \\xc6\\xf8ź \\xc1\\xd6\\xc0\\xc7 2013-07-17 7507\"                                                                                                      \n",
              " [87] \"337 \\xbc\\xf6\\xb9鸸\\xbf\\xf8 \\xb4\\xeb\\xc0\\xc7 \\xc7Ǻΰ\\U{38bbcb7a}\\xf1\\xbd\\xba, \\xc1\\xa4\\xc0\\xdb \\xbcҺ\\xf1\\xc0ڰ\\xfc\\xb8\\xae\\xb4\\xc2 \\xbe\\xfb\\xb8\\xc1 2013-07-16 5125\"                                                                              \n",
              " [88] \"336 \\xc0\\xce\\xc5ͳݼ\\xee\\xc7θ\\xf4 \\xbb\\xe7\\xbe\\xf7\\xc0\\xda\\xc0\\xc7 û\\xbe\\xe0öȸ \\xbaδ\\xe7 \\xb0źη\\xce \\xc0\\xce\\xc7\\xd1 \\xbcҺ\\xf1\\xc0\\xda\\xc7\\xc7\\xc7\\xd8 \\xbdɰ\\xa2! 2013-07-12 6397\"                                                             \n",
              " [89] \"335 (\\xc1\\xd6)\\xc7ѿ\\xb5\\xb0\\U{31930cf9}\\xdf \\xb0\\xe8\\xbe\\xe0\\xbd\\xc3 \\xc1\\xd6\\xc0\\xc7\\xc7ϼ\\xbc\\xbf\\xe4! 2013-07-10 5349\"                                                                                                                       \n",
              " [90] \"334 \\xc7\\xc1\\xb6\\xf3\\xc0\\xd3 \\xbf\\xa1\\xb5\\xe0\\xc4\\xc9\\xc0̼\\xc7(\\xc1߰\\xed\\xbb\\xfd \\xb4\\xeb\\xbb\\xf3 \\xb0\\xfa\\xbf\\xdc \\xc1߰\\xb3\\xbe\\xf7ü) \\xb0\\xe8\\xbe\\xe0\\xbd\\xc3 \\xc1\\xd6\\xc0\\xc7\\xc7ϼ\\xbc\\xbf\\xe4! 2013-07-05 4222\"                             \n",
              " [91] \"333 \\xbf䰡 \\xc0̿\\xeb \\xb0\\xfc\\xb7\\xc3 \\xbcҺ\\xf1\\xc0\\xda\\xc7\\xc7\\xc7\\xd8 \\xc1\\xd6\\xc0\\xc7! 2013-07-02 4649\"                                                                                                                                    \n",
              " [92] \"332 \\xb4\\xeb\\xc3\\xe2\\xb9\\xde\\xc0\\xb8\\xb7\\xc1\\xb4\\xd9 \\xc0̵\\xbf\\xc0\\xfcȭ \\xbf\\xe4\\xb1\\xdd\\xc6\\xf8ź \\xb8¾\\xc6 2013-06-26 4152\"                                                                                                                  \n",
              " [93] \"331 \\xb7\\xbbŻ\\xc1\\xa4\\xbc\\xf6\\xb1\\xe2 \\xb0\\xe8\\xbe\\xe0\\xbd\\xc3 \\xc1\\xd6\\xc0\\xc7\\xc7ϼ\\xbc\\xbf\\xe4! 2013-06-24 7984\"                                                                                                                           \n",
              " [94] \"330 \\xb0\\xed\\xb7\\xc9 \\xbcҺ\\xf1\\xc0\\xda \\xc7\\xc7\\xc7ػ\\xf3\\xb4\\xe3, \\xc0\\xfc\\xb3\\xe2 \\xb4\\xeb\\xba\\xf1 \\xbe\\xe0 40% \\xc1\\xf5\\xb0\\xa1 2013-06-13 4315\"                                                                                           \n",
              " [95] \"329 \\xbf\\xb9\\xbd\\xc4\\xc0\\xe5 \\xb9\\xd7 \\xb0\\xe1ȥ\\xc1غ\\xf1\\xb4\\xeb\\xc7\\xe0\\xbe\\xf7\\xc0\\xda\\xc0\\xc7 \\xb0\\xe8\\xbe\\xe0\\xc7\\xd8\\xc1\\xa6 \\xb0\\xc5\\xc0\\xfd \\xc7\\xc7\\xc7\\xd8 \\xc1\\xd6\\xc0\\xc7 2013-05-27 5495\"                                        \n",
              " [96] \"328 \\xb9\\xab\\xb7\\xe1ü\\xc7\\xe8 \\xba\\xf9\\xc0\\xda\\xc7\\xd1 \\xb0ǰ\\xad\\xbd\\xc4ǰ \\xbe\\xe4ü\\xbb\\xf3\\xbc\\xfa \\xb1ؼ\\xba 2013-05-16 4230\"                                                                                                               \n",
              " [97] \"327 \\xbf\\xac\\xb1\\xe2\\xa4\\xfd\\xb8\\xf0\\xb5\\xa8\\xc7п\\xf8 \\xb0\\xe8\\xbe\\xe0 \\xb0\\xfc\\xb7\\xc3 \\xbcҺ\\xf1\\xc0\\xda \\xc7\\xc7\\xc7\\xd8 \\xc1\\xd6\\xc0\\xc7 2013-05-08 4667\"                                                                                 \n",
              " [98] \"326 \\xbc\\xbcŹ\\xb9\\xb0\\xbaн\\xc7 2\\xb0\\xc7\\xc1\\xdf 1\\xb0\\xc7, \\xbc\\xbcŹ\\xbe\\xf7\\xc0\\xda \\xb3\\xaa \\xb8\\xf4\\xb6\\xf3\\xb6\\xf3! \\xbc\\xbcŹ\\xc0Ƿڽ\\xc3 \\xc0μ\\xf6\\xc1\\xf5 \\xb2\\xc0 \\xb9\\u07beƵμ\\xbc\\xbf\\xe4 2013-04-22 6941\"                            \n",
              " [99] \"325 \\xb5\\xee\\xbb\\xeaȭ ǰ\\xc1\\xfa\\xbaҷ\\xae\\xc0\\xcc 78.8%\\xb8\\xa6 \\xc2\\xf7\\xc1\\xf6 2013-03-29 10751\"                                                                                                                                            \n",
              "[100] \"324 \\xbc\\xba\\xc7\\xfc\\xbc\\xf6\\xbc\\xfa \\xb0\\xe8\\xbe\\xe0\\xb1\\xdd \\xb9̹\\xddȯ \\xbb\\xe7\\xb7\\xca \\xb1\\xde\\xc1\\xf5, \\xbcҺ\\xf1\\xc0\\xda \\xc1\\xd6\\xc0\\xc7 \\xbf\\xe4\\xb8\\xc1! 2013-03-27 10980\"                                                            \n",
              "[101] \"323 \\xb8\\xedǰ\\xc0\\xaf\\xbb\\xe7 ¦\\xc5\\xfc \\xc6Ǹ\\xc5 \\xbc\\xee\\xc7θ\\xf4 \\xa1\\xae\\xb7\\xb0\\xbd\\xba\\xbdŵ\\xf0\\xa1\\xaf \\xc1\\xd6\\xc0\\xc7 \\xbf\\xe4\\xb8\\xc1 2013-03-15 13299\"                                                                            "
            ],
            "text/latex": "\\begin{enumerate*}\n\\item '423 \\textbackslash{}xc0ڵ\\textbackslash{}xbf\\textbackslash{}xc2\\textbackslash{}xf7\\textbackslash{}xc1\\textbackslash{}xa4\\textbackslash{}xba\\textbackslash{}xf1, \\textbackslash{}xbc\\textbackslash{}U\\{1b8bba\\}ҷ\\textbackslash{}xae\\textbackslash{}xa1\\textbackslash{}xa4\\textbackslash{}xbaδ\\textbackslash{}xe7\\textbackslash{}xbc\\textbackslash{}U\\{1b8bba\\}\\textbackslash{}xf1 û\\textbackslash{}xb1\\textbackslash{}xb8 \\textbackslash{}xb5\\textbackslash{}xee \\textbackslash{}xbcҺ\\textbackslash{}xf1\\textbackslash{}xc0ںҸ\\textbackslash{}xb8 \\textbackslash{}xb8\\textbackslash{}xb9\\textbackslash{}xbe\\textbackslash{}xc6 2016-04-01 482'\n\\item '422 \\textbackslash{}xbbڶ\\textbackslash{}xec \\textbackslash{}xbc\\textbackslash{}xba\\textbackslash{}xc7\\textbackslash{}xfc\\textbackslash{}xbdü\\textbackslash{}xfa \\textbackslash{}xc8\\textbackslash{}xc4 \\textbackslash{}xbf\\textbackslash{}xb0\\textbackslash{}xc1\\textbackslash{}U\\{161934\\}\\textbackslash{}xab\\textbackslash{}xb2\\textbackslash{}xa8Ǯ ó\\textbackslash{}xc1\\textbackslash{}xfc \\textbackslash{}xb5\\textbackslash{}xee \\textbackslash{}xba\\textbackslash{}xce\\textbackslash{}xc0ۿ\\textbackslash{}xeb ȣ\\textbackslash{}xbc\\textbackslash{}xd2 \\textbackslash{}xb8\\textbackslash{}xb9\\textbackslash{}xbe\\textbackslash{}xc6  2016-02-02 3226'\n\\item '421 \\textbackslash{}xb9\\textbackslash{}xe6\\textbackslash{}xbc\\textbackslash{}xf6\\textbackslash{}xc6\\textbackslash{}xd1 \\textbackslash{}xbb\\textbackslash{}xe7\\textbackslash{}xbf\\textbackslash{}xeb \\textbackslash{}xb0\\textbackslash{}xfc\\textbackslash{}xb7\\textbackslash{}xc3 \\textbackslash{}xc7\\textbackslash{}xc7\\textbackslash{}xc7ؿ\\textbackslash{}xb9\\textbackslash{}xb9\\textbackslash{}xe6 \\textbackslash{}xc1\\textbackslash{}xd6\\textbackslash{}xc0Ǻ\\textbackslash{}xb8 2015-09-18 5650'\n\\item '420 \\textbackslash{}xbeȰ\\textbackslash{}xfa \\textbackslash{}xb0\\textbackslash{}xfc\\textbackslash{}xb7\\textbackslash{}xc3 \\textbackslash{}xbcҺ\\textbackslash{}xf1\\textbackslash{}xc0\\textbackslash{}xda\\textbackslash{}xc7\\textbackslash{}xc7\\textbackslash{}xc7\\textbackslash{}xd8, \\textbackslash{}xa1\\textbackslash{}xae\\textbackslash{}xb9鳻\\textbackslash{}xc0塯\\textbackslash{}xb5\\textbackslash{}xee \\textbackslash{}xb3\\textbackslash{}xeb\\textbackslash{}xc0μ\\textbackslash{}xba \\textbackslash{}xc1\\textbackslash{}xfaȯ \\textbackslash{}xba\\textbackslash{}xce\\textbackslash{}xc0ۿ\\textbackslash{}xeb \\textbackslash{}xb8\\textbackslash{}xb9\\textbackslash{}xbe\\textbackslash{}xc6 2015-09-04 7683'\n\\item '419 \\textbackslash{}xc7ؿܱ\\textbackslash{}xb8\\textbackslash{}xb8Ŵ\\textbackslash{}xeb\\textbackslash{}xc7\\textbackslash{}xe0 \\textbackslash{}xc0\\textbackslash{}xce\\textbackslash{}xc5ͳݼ\\textbackslash{}xee\\textbackslash{}xc7θ\\textbackslash{}xf4 \\textbackslash{}xc7\\textbackslash{}xc7\\textbackslash{}xc7\\textbackslash{}xd8 \\textbackslash{}xc1\\textbackslash{}xd6\\textbackslash{}xc0\\textbackslash{}xc7 2015-08-28 7162'\n\\item '418 \\textbackslash{}xc7ؿܱ\\textbackslash{}xb8\\textbackslash{}xb8Ŵ\\textbackslash{}xeb\\textbackslash{}xc7\\textbackslash{}xe0 \\textbackslash{}xc0\\textbackslash{}xce\\textbackslash{}xc5ͳݼ\\textbackslash{}xee\\textbackslash{}xc7θ\\textbackslash{}xf4 \\textbackslash{}xc7\\textbackslash{}xc7\\textbackslash{}xc7\\textbackslash{}xd8 \\textbackslash{}xc1\\textbackslash{}xd6\\textbackslash{}xc0\\textbackslash{}xc7 2015-08-25 5693'\n\\item '417 \\textbackslash{}xbc\\textbackslash{}xbcŹ\\textbackslash{}xbcҿ\\textbackslash{}xa1\\textbackslash{}xbc\\textbackslash{}xad \\textbackslash{}xc8Ѽյ\\textbackslash{}xc8 \\textbackslash{}xbc\\textbackslash{}xbcŹ\\textbackslash{}xb9\\textbackslash{}xb0 10\\textbackslash{}xb0\\textbackslash{}xc7 \\textbackslash{}xc1\\textbackslash{}xdf 3\\textbackslash{}xb0\\textbackslash{}xc7\\textbackslash{}xc0\\textbackslash{}xba ǰ\\textbackslash{}xc1\\textbackslash{}xfa \\textbackslash{}xc7\\textbackslash{}xcf\\textbackslash{}xc0ڰ\\textbackslash{}xa1 \\textbackslash{}xbf\\textbackslash{}xf8\\textbackslash{}xc0\\textbackslash{}xce 2015-08-13 4466'\n\\item '416 \\textbackslash{}xbf\\textbackslash{}xa9\\textbackslash{}xb8\\textbackslash{}xa7 \\textbackslash{}xc8ް\\textbackslash{}xa1ö \\textbackslash{}xb7\\textbackslash{}xbb\\textbackslash{}xc5\\textbackslash{}xcdī \\textbackslash{}xc0̿\\textbackslash{}xeb \\textbackslash{}xbd\\textbackslash{}xc3 \\textbackslash{}xbcҺ\\textbackslash{}xf1\\textbackslash{}xc0\\textbackslash{}xda\\textbackslash{}xc7\\textbackslash{}xc7\\textbackslash{}xc7\\textbackslash{}xd8 \\textbackslash{}xc1\\textbackslash{}xd6\\textbackslash{}xc0\\textbackslash{}xc7 \\textbackslash{}xc7ϼ\\textbackslash{}xbc\\textbackslash{}xbf\\textbackslash{}xe4 ! 2015-08-11 4354'\n\\item '415 \\textbackslash{}xc0ڵ\\textbackslash{}xbf\\textbackslash{}xc2\\textbackslash{}xf7 \\textbackslash{}xbc\\textbackslash{}xbc\\textbackslash{}xc2\\textbackslash{}xf7 \\textbackslash{}xbd\\textbackslash{}xc3 \\textbackslash{}xc2\\textbackslash{}xf7\\textbackslash{}xb7\\textbackslash{}xae \\textbackslash{}xbcջ\\textbackslash{}xf3 \\textbackslash{}xc1\\textbackslash{}xd6\\textbackslash{}xc0\\textbackslash{}xc7 \\textbackslash{}xc7ϼ\\textbackslash{}xbc\\textbackslash{}xbf\\textbackslash{}xe4! 2015-07-10 4919'\n\\item '414 \\textbackslash{}xc4ܵ\\textbackslash{}xb5ȸ\\textbackslash{}xbf\\textbackslash{}xf8\\textbackslash{}xb1\\textbackslash{}xc7 \\textbackslash{}xc6Ǹ\\textbackslash{}xc5 \\textbackslash{}xbb\\textbackslash{}xf3\\textbackslash{}xbc\\textbackslash{}xfa \\textbackslash{}xb0\\textbackslash{}xa5\\textbackslash{}xbc\\textbackslash{}xf6\\textbackslash{}xb7\\textbackslash{}xcf \\textbackslash{}xc1\\textbackslash{}xf6\\textbackslash{}xb4\\textbackslash{}xc9ȭ\\textbackslash{}xb5ǰ\\textbackslash{}xed \\textbackslash{}xc0־\\textbackslash{}xee \\textbackslash{}xc1\\textbackslash{}xd6\\textbackslash{}xc0\\textbackslash{}xc7 \\textbackslash{}xbf\\textbackslash{}xe4\\textbackslash{}xb8\\textbackslash{}xc1 2015-05-22 6675'\n\\item '413 \\textbackslash{}xc7Ǻΰ\\textbackslash{}U\\{38bbcb7a\\}\\textbackslash{}xf1\\textbackslash{}xbd\\textbackslash{}xba \\textbackslash{}xb9\\textbackslash{}xab\\textbackslash{}xb7\\textbackslash{}xe1 ü\\textbackslash{}xc7\\textbackslash{}xe8\\textbackslash{}xc0\\textbackslash{}xbb \\textbackslash{}xba\\textbackslash{}xf9\\textbackslash{}xc0\\textbackslash{}xda\\textbackslash{}xc7\\textbackslash{}xd1 ȭ\\textbackslash{}xc0\\textbackslash{}xe5ǰ \\textbackslash{}xc6Ǹ\\textbackslash{}xc5 \\textbackslash{}xc7\\textbackslash{}xc7\\textbackslash{}xc7\\textbackslash{}xd8 \\textbackslash{}xc1\\textbackslash{}xf6\\textbackslash{}xbc\\textbackslash{}xd3\\textbackslash{}xc0\\textbackslash{}xfb \\textbackslash{}xb9\\textbackslash{}u07fb\\textbackslash{}xfd 2015-05-19 5763'\n\\item '412 \\textbackslash{}xbe\\textbackslash{}xee\\textbackslash{}xb9\\textbackslash{}xf6\\textbackslash{}xc0̳\\textbackslash{}xaf \\textbackslash{}xbeյΰ\\textbackslash{}xed \\textbackslash{}xbe˶\\textbackslash{}xe3\\textbackslash{}xc6\\textbackslash{}xf9 \\textbackslash{}xb1\\textbackslash{}xb8\\textbackslash{}xb8\\textbackslash{}xc5 \\textbackslash{}xc7\\textbackslash{}xc7\\textbackslash{}xc7\\textbackslash{}xd8\\textbackslash{}xc1\\textbackslash{}xd6\\textbackslash{}xc0Ǻ\\textbackslash{}xb8 \\textbackslash{}xb9߷\\textbackslash{}xc9, \\textbackslash{}xc0\\textbackslash{}xfcü \\textbackslash{}xc7\\textbackslash{}xc7\\textbackslash{}xc7\\textbackslash{}xd8\\textbackslash{}xc0\\textbackslash{}xda 60\\%\\textbackslash{}xb0\\textbackslash{}xa1 60\\textbackslash{}xb4\\textbackslash{}xeb \\textbackslash{}xc0̻\\textbackslash{}xf3 2015-05-06 7283'\n\\item '411 ġ\\textbackslash{}xbeƺ\\textbackslash{}xb8\\textbackslash{}xc7\\textbackslash{}xe8 \\textbackslash{}xb0\\textbackslash{}xfc\\textbackslash{}xb7\\textbackslash{}xc3 \\textbackslash{}xbcҺ\\textbackslash{}xf1\\textbackslash{}xc0\\textbackslash{}xda\\textbackslash{}xc7\\textbackslash{}xc7\\textbackslash{}xc7\\textbackslash{}xd8 \\textbackslash{}xb8ų\\textbackslash{}xe2 \\textbackslash{}xc1\\textbackslash{}xf5\\textbackslash{}xb0\\textbackslash{}xa1 2015-04-29 6988'\n\\item '410 \\textbackslash{}xc1߰\\textbackslash{}xed\\textbackslash{}xc2\\textbackslash{}xf7 \\textbackslash{}xbc\\textbackslash{}xba\\textbackslash{}xb4\\textbackslash{}xc9\\textbackslash{}xc1\\textbackslash{}xa1\\textbackslash{}xb0\\textbackslash{}xcb \\textbackslash{}xb3\\textbackslash{}xbb\\textbackslash{}xbf\\textbackslash{}xeb\\textbackslash{}xc0\\textbackslash{}xcc \\textbackslash{}xbd\\textbackslash{}xc7\\textbackslash{}xc1\\textbackslash{}xa6 \\textbackslash{}xc2\\textbackslash{}xf7\\textbackslash{}xb7\\textbackslash{}xae \\textbackslash{}xbb\\textbackslash{}xf3\\textbackslash{}xc5¿\\textbackslash{}xcd \\textbackslash{}xb4ٸ\\textbackslash{}xa5 \\textbackslash{}xb0\\textbackslash{}xe6\\textbackslash{}xbf\\textbackslash{}xec \\textbackslash{}xb8\\textbackslash{}xb9\\textbackslash{}xbe\\textbackslash{}xc6 2015-04-22 8486'\n\\item '409 \\textbackslash{}xbe\\textbackslash{}xcf \\textbackslash{}xbf\\textbackslash{}xc0\\textbackslash{}xc1\\textbackslash{}xf8 \\textbackslash{}xc1\\textbackslash{}xdf \\textbackslash{}xc6\\textbackslash{}xf3\\textbackslash{}xbe\\textbackslash{}xcf \\textbackslash{}xbf\\textbackslash{}xc0\\textbackslash{}xc1\\textbackslash{}xf8 \\textbackslash{}xc7\\textbackslash{}xc7\\textbackslash{}xc7\\textbackslash{}xd8 \\textbackslash{}xb0\\textbackslash{}xa1\\textbackslash{}xc0\\textbackslash{}xe5 \\textbackslash{}xb8\\textbackslash{}xb9\\textbackslash{}xbe\\textbackslash{}xc6 2015-04-20 6950'\n\\item '408 \\textbackslash{}xbf¶\\textbackslash{}xf3\\textbackslash{}xc0\\textbackslash{}xce\\textbackslash{}xc0\\textbackslash{}xb8\\textbackslash{}xb7\\textbackslash{}xce \\textbackslash{}xb1\\textbackslash{}xb8\\textbackslash{}xb8\\textbackslash{}xc5\\textbackslash{}xc7\\textbackslash{}xd1 \\textbackslash{}xb0\\textbackslash{}xa1\\textbackslash{}xb1\\textbackslash{}xb8 \\textbackslash{}xc7\\textbackslash{}xc7\\textbackslash{}xc7غ\\textbackslash{}xf1\\textbackslash{}xc0\\textbackslash{}xb2 \\textbackslash{}xb8ų\\textbackslash{}xe2 \\textbackslash{}xbb\\textbackslash{}xf3\\textbackslash{}xbd\\textbackslash{}xc2 2015-04-01 6542'\n\\item '407 \\textbackslash{}xc2\\textbackslash{}U\\{1f7bbf\\}\\textbackslash{}xeb \\textbackslash{}xba\\textbackslash{}xed\\textbackslash{}xb7\\textbackslash{}xa2\\textbackslash{}xb9ڽ\\textbackslash{}xba \\textbackslash{}xa1\\textbackslash{}xae\\textbackslash{}xb9\\textbackslash{}xab\\textbackslash{}xb7\\textbackslash{}xe1\\textbackslash{}xc0\\textbackslash{}xe5\\textbackslash{}xc2\\textbackslash{}xf8\\textbackslash{}xa1\\textbackslash{}xaf \\textbackslash{}xba\\textbackslash{}xf9\\textbackslash{}xc0\\textbackslash{}xda\\textbackslash{}xc7\\textbackslash{}xd1 \\textbackslash{}xbe\\textbackslash{}xe4ü\\textbackslash{}xbb\\textbackslash{}xf3\\textbackslash{}xbc\\textbackslash{}xfa \\textbackslash{}xc1\\textbackslash{}xd6\\textbackslash{}xc0\\textbackslash{}xc7! 2015-03-06 9268'\n\\item '406 \\textbackslash{}xc0\\textbackslash{}xce\\textbackslash{}xc5ͳݱ\\textbackslash{}xb3\\textbackslash{}xc0\\textbackslash{}xb0\\textbackslash{}xbc\\textbackslash{}xad\\textbackslash{}xba\\textbackslash{}xf1\\textbackslash{}xbd\\textbackslash{}xba \\textbackslash{}xbcҺ\\textbackslash{}xf1\\textbackslash{}xc0\\textbackslash{}xda \\textbackslash{}xc7\\textbackslash{}xc7\\textbackslash{}xc7ؿ\\textbackslash{}xb9\\textbackslash{}xb9\\textbackslash{}xe6\\textbackslash{}xc1\\textbackslash{}xd6\\textbackslash{}xc0Ǻ\\textbackslash{}xb8 2015-02-11 5939'\n\\item '405 \\textbackslash{}xb4\\textbackslash{}xab\\textbackslash{}xa1\\textbackslash{}xa4\\textbackslash{}xc4\\textbackslash{}xda \\textbackslash{}xbc\\textbackslash{}xba\\textbackslash{}xc7\\textbackslash{}xfc\\textbackslash{}xbc\\textbackslash{}xf6\\textbackslash{}xbc\\textbackslash{}xfa, \\textbackslash{}xa1\\textbackslash{}xae\\textbackslash{}xba\\textbackslash{}xf1\\textbackslash{}xb4\\textbackslash{}xebĪ\\textbackslash{}xa1\\textbackslash{}xaf \\textbackslash{}xba\\textbackslash{}xce\\textbackslash{}xc0ۿ\\textbackslash{}xeb \\textbackslash{}xb8\\textbackslash{}xb9\\textbackslash{}xbe\\textbackslash{}xc6 2015-02-10 7961'\n\\item '404 \\textbackslash{}xb5\\textbackslash{}xbf\\textbackslash{}xbe\\textbackslash{}xe7\\textbackslash{}xbf\\textbackslash{}xfe\\textbackslash{}xb5\\textbackslash{}xf9\\textbackslash{}xbe\\textbackslash{}xd8\\textbackslash{}xc7\\textbackslash{}xe3\\textbackslash{}xb4Ϲ\\textbackslash{}xae \\textbackslash{}xbcҺ\\textbackslash{}xf1\\textbackslash{}xc0\\textbackslash{}xda\\textbackslash{}xc7\\textbackslash{}xc7\\textbackslash{}xc7\\textbackslash{}xd8 \\textbackslash{}xb9\\textbackslash{}u07fb\\textbackslash{}xfd \\textbackslash{}xb9\\textbackslash{}xd7 \\textbackslash{}xc0\\textbackslash{}xaf\\textbackslash{}xc0ǻ\\textbackslash{}xe7\\textbackslash{}xc7\\textbackslash{}xd7 \\textbackslash{}xbeȳ\\textbackslash{}xbb 2015-01-12 6139'\n\\item '403 \\textbackslash{}xc0̻\\textbackslash{}xe7ȭ\\textbackslash{}xb9\\textbackslash{}xb0\\textbackslash{}xbc\\textbackslash{}xad\\textbackslash{}xba\\textbackslash{}xf1\\textbackslash{}xbd\\textbackslash{}xba \\textbackslash{}xbcҺ\\textbackslash{}xf1\\textbackslash{}xc0\\textbackslash{}xda\\textbackslash{}xc7\\textbackslash{}xc7\\textbackslash{}xc7ؿ\\textbackslash{}xb9\\textbackslash{}xb9\\textbackslash{}xe6\\textbackslash{}xc1\\textbackslash{}xd6\\textbackslash{}xc0Ǻ\\textbackslash{}xb8 2014-11-26 7991'\n\\item '402 \\textbackslash{}xb1\\textbackslash{}xb9\\textbackslash{}xb3\\textbackslash{}xbb \\textbackslash{}xb0\\textbackslash{}xe1ȥ\\textbackslash{}xc1߰\\textbackslash{}xb3 \\textbackslash{}xb0\\textbackslash{}xfc\\textbackslash{}xb7\\textbackslash{}xc3 \\textbackslash{}xbcҺ\\textbackslash{}xf1\\textbackslash{}xc0\\textbackslash{}xda\\textbackslash{}xc7\\textbackslash{}xc7\\textbackslash{}xc7\\textbackslash{}xd8, 2\\textbackslash{}xb0\\textbackslash{}xc7 \\textbackslash{}xc1\\textbackslash{}xdf 1\\textbackslash{}xb0\\textbackslash{}xc7\\textbackslash{}xc0\\textbackslash{}xba \\textbackslash{}xbaҼ\\textbackslash{}xba\\textbackslash{}xbd\\textbackslash{}xc7 \\textbackslash{}xbcҰ\\textbackslash{}xb3 2014-11-13 8514'\n\\item '401 \\textbackslash{}xb8ų\\textbackslash{}xe2 \\textbackslash{}xc1\\textbackslash{}xf5\\textbackslash{}xb0\\textbackslash{}xa1\\textbackslash{}xc7ϴ\\textbackslash{}xc2 \\textbackslash{}xc7װ\\textbackslash{}xf8\\textbackslash{}xbc\\textbackslash{}xad\\textbackslash{}xba\\textbackslash{}xf1\\textbackslash{}xbd\\textbackslash{}xba \\textbackslash{}xc7\\textbackslash{}xc7\\textbackslash{}xc7\\textbackslash{}xd8, 10\\textbackslash{}xb0\\textbackslash{}xc7 \\textbackslash{}xc1\\textbackslash{}xdf 7\\textbackslash{}xb0\\textbackslash{}xc7\\textbackslash{}xc0\\textbackslash{}xba \\textbackslash{}xbfܱ\\textbackslash{}xb9 \\textbackslash{}xc7װ\\textbackslash{}xf8\\textbackslash{}xbb\\textbackslash{}xe7 \\textbackslash{}xc7\\textbackslash{}xc7\\textbackslash{}xc7\\textbackslash{}xd8 2014-11-06 5433'\n\\item '400 \\textbackslash{}xb0\\textbackslash{}xd4\\textbackslash{}xc0Ӽ\\textbackslash{}xad\\textbackslash{}xba\\textbackslash{}xf1\\textbackslash{}xbd\\textbackslash{}xba, \\textbackslash{}xb9̼\\textbackslash{}xba\\textbackslash{}xb3\\textbackslash{}xe2\\textbackslash{}xc0\\textbackslash{}xda \\textbackslash{}xb0\\textbackslash{}xe1\\textbackslash{}xc1\\textbackslash{}xa6 \\textbackslash{}xc3\\textbackslash{}xeb\\textbackslash{}xbc\\textbackslash{}xd2 \\textbackslash{}xb0\\textbackslash{}xfc\\textbackslash{}xb7\\textbackslash{}xc3 \\textbackslash{}xbaҸ\\textbackslash{}xb8 \\textbackslash{}xb8\\textbackslash{}xb9\\textbackslash{}xbe\\textbackslash{}xc6 2014-10-14 5856'\n\\item '399 \\textbackslash{}xc5\\textbackslash{}xeb\\textbackslash{}xbd\\textbackslash{}xc5\\textbackslash{}xc6Ǹž\\textbackslash{}xf7ü \\textbackslash{}xa1\\textbackslash{}xae\\textbackslash{}xa2߳\\textbackslash{}xaa\\textbackslash{}xc0̽\\textbackslash{}xba\\textbackslash{}xc0\\textbackslash{}xfc\\textbackslash{}xc0ڡ\\textbackslash{}xaf \\textbackslash{}xb9\\textbackslash{}xe8\\textbackslash{}xbc\\textbackslash{}xdb\\textbackslash{}xc1ߴ\\textbackslash{}xdc \\textbackslash{}xc7\\textbackslash{}xc7\\textbackslash{}xc7\\textbackslash{}xd8 \\textbackslash{}xb4ٹ\\textbackslash{}xdf 2014-10-14 4242'\n\\item '398 \\textbackslash{}xb0\\textbackslash{}xa1\\textbackslash{}xc0\\textbackslash{}xbbö \\textbackslash{}xc1߰\\textbackslash{}xed\\textbackslash{}xc2\\textbackslash{}xf7 \\textbackslash{}xb1\\textbackslash{}xb8\\textbackslash{}xc0\\textbackslash{}xd4 \\textbackslash{}xbd\\textbackslash{}xc3 \\textbackslash{}xa1\\textbackslash{}xaeħ\\textbackslash{}xbc\\textbackslash{}xf6\\textbackslash{}xa1\\textbackslash{}xaf \\textbackslash{}xbf\\textbackslash{}xa9\\textbackslash{}xba\\textbackslash{}xce \\textbackslash{}xb2Ĳ\\textbackslash{}xc4\\textbackslash{}xc8\\textbackslash{}xf7 \\textbackslash{}xbb\\textbackslash{}xec\\textbackslash{}xc6\\textbackslash{}xec\\textbackslash{}xba\\textbackslash{}xc1\\textbackslash{}xbe\\textbackslash{}xdf 2014-10-13 3770'\n\\item '397 \\textbackslash{}xa1\\textbackslash{}xae\\textbackslash{}xc4ܼ\\textbackslash{}xadƮ \\textbackslash{}xb5\\textbackslash{}xee \\textbackslash{}xb0\\textbackslash{}xf8\\textbackslash{}xbf\\textbackslash{}xac\\textbackslash{}xb0\\textbackslash{}xfc\\textbackslash{}xb6\\textbackslash{}xf7 \\textbackslash{}xbcҺ\\textbackslash{}xf1\\textbackslash{}xc0\\textbackslash{}xda \\textbackslash{}xc7\\textbackslash{}xc7\\textbackslash{}xc7\\textbackslash{}xd8 \\textbackslash{}xc1\\textbackslash{}xd6\\textbackslash{}xc0ǡ\\textbackslash{}xaf \\textbackslash{}xb0溸\\textbackslash{}xb9߷\\textbackslash{}xc9 2014-10-02 4290'\n\\item '396 \\textbackslash{}xc7Ѱ\\textbackslash{}xa1\\textbackslash{}xc0\\textbackslash{}xa7 \\textbackslash{}xc3\\textbackslash{}u07fc\\textbackslash{}xae\\textbackslash{}xb8\\textbackslash{}xed\\textbackslash{}xc0\\textbackslash{}xfd, \\textbackslash{}xc0ڵ\\textbackslash{}xbf\\textbackslash{}xc2\\textbackslash{}xf7 \\textbackslash{}xb0\\textbackslash{}xdf\\textbackslash{}xc0ν\\textbackslash{}xc3 \\textbackslash{}xa1\\textbackslash{}xae\\textbackslash{}xbdŰ\\textbackslash{}xed\\textbackslash{}xb5\\textbackslash{}xc8 \\textbackslash{}xbf\\textbackslash{}xee\\textbackslash{}xc0ӡ\\textbackslash{}xa4\\textbackslash{}xbf\\textbackslash{}xe4\\textbackslash{}xb1ݡ\\textbackslash{}xaf\\textbackslash{}xc0\\textbackslash{}xbb \\textbackslash{}xb2\\textbackslash{}xc0 Ȯ\\textbackslash{}xc0\\textbackslash{}xce\\textbackslash{}xc7ϼ\\textbackslash{}xbc\\textbackslash{}xbf\\textbackslash{}xe4 ! 2014-08-26  3373'\n\\item '395 \\textbackslash{}xc7Ǻ\\textbackslash{}xce \\textbackslash{}xb9̿\\textbackslash{}xeb\\textbackslash{}xbdü\\textbackslash{}xfa, \\textbackslash{}xc7Ǻΰ\\textbackslash{}xfa \\textbackslash{}xc0\\textbackslash{}xfc\\textbackslash{}xb9\\textbackslash{}xae\\textbackslash{}xc0\\textbackslash{}xc7 \\textbackslash{}xbc\\textbackslash{}xb3\\textbackslash{}xb8\\textbackslash{}xed \\textbackslash{}xc3\\textbackslash{}xe6\\textbackslash{}xba\\textbackslash{}xd0\\textbackslash{}xc8\\textbackslash{}xf7 \\textbackslash{}xb5\\textbackslash{}xe8\\textbackslash{}xb0\\textbackslash{}xed \\textbackslash{}xb0\\textbackslash{}xe8\\textbackslash{}xbe\\textbackslash{}xe0\\textbackslash{}xc7ϼ\\textbackslash{}xbc\\textbackslash{}xbf\\textbackslash{}xe4! 2014-08-19 5417'\n\\item '394 \\textbackslash{}xb0\\textbackslash{}xfa\\textbackslash{}xb5\\textbackslash{}xb5\\textbackslash{}xc7\\textbackslash{}xd1 \\textbackslash{}xc7\\textbackslash{}xd2\\textbackslash{}xc0Ρ\\textbackslash{}xa4\\textbackslash{}xbb\\textbackslash{}xe7\\textbackslash{}xc0\\textbackslash{}xbaǰ \\textbackslash{}xc7\\textbackslash{}xf6Ȥ \\textbackslash{}xc0\\textbackslash{}xe5\\textbackslash{}xb1\\textbackslash{}xe2 \\textbackslash{}xb0\\textbackslash{}xe8\\textbackslash{}xbcӰŷ\\textbackslash{}xa1 \\textbackslash{}xb0\\textbackslash{}xe8\\textbackslash{}xbe\\textbackslash{}xe0 \\textbackslash{}xc1\\textbackslash{}xd6\\textbackslash{}xc0\\textbackslash{}xc7 2014-08-11 3941'\n\\item '393 \\textbackslash{}xb7\\textbackslash{}xbb\\textbackslash{}xc5\\textbackslash{}xcdī, \\textbackslash{}xbe\\textbackslash{}xe0\\textbackslash{}xb0\\textbackslash{}xfc\\textbackslash{}xc0\\textbackslash{}xba \\textbackslash{}xb9\\textbackslash{}xb0\\textbackslash{}xb7\\textbackslash{}xd0 \\textbackslash{}xc2\\textbackslash{}xf7\\textbackslash{}xb7\\textbackslash{}xae \\textbackslash{}xbb\\textbackslash{}xf3\\textbackslash{}xc5\\textbackslash{}xc2 \\textbackslash{}xb2\\textbackslash{}xc0 Ȯ\\textbackslash{}xc0\\textbackslash{}xce\\textbackslash{}xc7ϰ\\textbackslash{}xed \\textbackslash{}xb0\\textbackslash{}xe8\\textbackslash{}xbe\\textbackslash{}xe0\\textbackslash{}xc7ϼ\\textbackslash{}xbc\\textbackslash{}xbf\\textbackslash{}xe4 ! 2014-08-01 3655'\n\\item '392 \\textbackslash{}xc6\\textbackslash{}xe6\\textbackslash{}xbc\\textbackslash{}xc7 \\textbackslash{}xb0\\textbackslash{}xe8\\textbackslash{}xbe\\textbackslash{}xe0\\textbackslash{}xbd\\textbackslash{}xc3 ȯ\\textbackslash{}xbaұ\\textbackslash{}xd4\\textbackslash{}xc1\\textbackslash{}xa4 \\textbackslash{}xb9ݵ\\textbackslash{}xe5\\textbackslash{}xbd\\textbackslash{}xc3 Ȯ\\textbackslash{}xc0\\textbackslash{}xce\\textbackslash{}xc7ϼ\\textbackslash{}xbc\\textbackslash{}xbf\\textbackslash{}xe4! 2014-07-14 18424'\n\\item '391 ȣ\\textbackslash{}xc5ڿ\\textbackslash{}xb9\\textbackslash{}xbe\\textbackslash{}xe0 \\textbackslash{}xb4\\textbackslash{}xeb\\textbackslash{}xc7\\textbackslash{}xe0\\textbackslash{}xbb\\textbackslash{}xe7\\textbackslash{}xc0\\textbackslash{}xccƮ \\textbackslash{}xbcҺ\\textbackslash{}xf1\\textbackslash{}xc0\\textbackslash{}xda\\textbackslash{}xc7\\textbackslash{}xc7\\textbackslash{}xc7\\textbackslash{}xd8 \\textbackslash{}xc1\\textbackslash{}xd6\\textbackslash{}xc0\\textbackslash{}xc7\\textbackslash{}xc7ϼ\\textbackslash{}xbc\\textbackslash{}xbf\\textbackslash{}xe4 2014-07-11 4121'\n\\item '390 \\textbackslash{}xb9ݷ\\textbackslash{}xc1\\textbackslash{}xb5\\textbackslash{}xbf\\textbackslash{}xb9\\textbackslash{}xb0, \\textbackslash{}xc6\\textbackslash{}xf3\\textbackslash{}xbb硤\\textbackslash{}xc1\\textbackslash{}xfa\\textbackslash{}xba\\textbackslash{}xb4 \\textbackslash{}xb0\\textbackslash{}xfc\\textbackslash{}xb7\\textbackslash{}xc3 \\textbackslash{}xbcҺ\\textbackslash{}xf1\\textbackslash{}xc0\\textbackslash{}xda\\textbackslash{}xc7\\textbackslash{}xc7\\textbackslash{}xc7\\textbackslash{}xd8 \\textbackslash{}xb8\\textbackslash{}xb9\\textbackslash{}xc1\\textbackslash{}xf6\\textbackslash{}xb8\\textbackslash{}xb8 \\textbackslash{}xba\\textbackslash{}xb8\\textbackslash{}xbb\\textbackslash{}xf3\\textbackslash{}xb9ޱ\\textbackslash{}xe2\\textbackslash{}xb4\\textbackslash{}xc2 \\textbackslash{}xbe\\textbackslash{}xee\\textbackslash{}xb7\\textbackslash{}xc1\\textbackslash{}xbf\\textbackslash{}xf6 2014-06-18 4199'\n\\item '389 \\textbackslash{}xc0Ƿ\\textbackslash{}xf9\\textbackslash{}xa1\\textbackslash{}xa4\\textbackslash{}xbdŹ\\textbackslash{}xdf \\textbackslash{}xc0\\textbackslash{}xce\\textbackslash{}xc5ͳݼ\\textbackslash{}xee\\textbackslash{}xc7θ\\textbackslash{}xf4 \\textbackslash{}xc6ǸŻ\\textbackslash{}xe7\\textbackslash{}xbe\\textbackslash{}xf7\\textbackslash{}xc0\\textbackslash{}xda û\\textbackslash{}xbe\\textbackslash{}xe0öȸ \\textbackslash{}xb0źη\\textbackslash{}xce \\textbackslash{}xc7\\textbackslash{}xc7\\textbackslash{}xc7\\textbackslash{}xd8 \\textbackslash{}xbdɰ\\textbackslash{}xa2 2014-06-10 4805'\n\\item '388 \\textbackslash{}xb9\\textbackslash{}xab\\textbackslash{}xb7\\textbackslash{}xe1 \\textbackslash{}xc4ܵ\\textbackslash{}xb5ȸ\\textbackslash{}xbf\\textbackslash{}xf8\\textbackslash{}xb1\\textbackslash{}xc7 \\textbackslash{}xb4\\textbackslash{}xe7÷\\textbackslash{}xa1\\textbackslash{}xa4ȫ\\textbackslash{}xba\\textbackslash{}xb8\\textbackslash{}xb4\\textbackslash{}xeb\\textbackslash{}xbb\\textbackslash{}xe7 \\textbackslash{}xbc\\textbackslash{}xb1\\textbackslash{}xc1\\textbackslash{}xa4 \\textbackslash{}xc0\\textbackslash{}xfcȭ \\textbackslash{}xc1\\textbackslash{}xb6\\textbackslash{}xbd\\textbackslash{}xc9\\textbackslash{}xc7ϼ\\textbackslash{}xbc\\textbackslash{}xbf\\textbackslash{}xe4 2014-06-10 5688'\n\\item '387 \\textbackslash{}xc7ｺ\\textbackslash{}xa1\\textbackslash{}xa4\\textbackslash{}xc7\\textbackslash{}xc7Ʈ\\textbackslash{}xb4Ͻ\\textbackslash{}xba \\textbackslash{}xb0\\textbackslash{}xe8\\textbackslash{}xbe\\textbackslash{}xe0 \\textbackslash{}xbd\\textbackslash{}xc3 ȯ\\textbackslash{}xbaұ\\textbackslash{}xd4\\textbackslash{}xc1\\textbackslash{}xa4 \\textbackslash{}xc1\\textbackslash{}xd6\\textbackslash{}xc0\\textbackslash{}xc7\\textbackslash{}xc7ؾ\\textbackslash{}xdf 2014-06-03 8752'\n\\item '386 \\textbackslash{}xbd\\textbackslash{}xc5ȥ\\textbackslash{}xbf\\textbackslash{}xa9\\textbackslash{}xc7\\textbackslash{}xe0 \\textbackslash{}xb0\\textbackslash{}xe8\\textbackslash{}xbe\\textbackslash{}xe0 \\textbackslash{}xbd\\textbackslash{}xc3 Ư\\textbackslash{}xbe\\textbackslash{}xe0 \\textbackslash{}xbb\\textbackslash{}xe7\\textbackslash{}xc7\\textbackslash{}xd7 \\textbackslash{}xb2Ĳ\\textbackslash{}xc4\\textbackslash{}xc8\\textbackslash{}xf7 Ȯ\\textbackslash{}xc0\\textbackslash{}xce\\textbackslash{}xc7ϼ\\textbackslash{}xbc\\textbackslash{}xbf\\textbackslash{}xe4 2014-05-26 3561'\n\\item '385 \\textbackslash{}xbdŹ\\textbackslash{}xae \\textbackslash{}xb1\\textbackslash{}xa4\\textbackslash{}xb0\\textbackslash{}xed \\textbackslash{}xc5\\textbackslash{}xeb\\textbackslash{}xbd\\textbackslash{}xc5\\textbackslash{}xc6Ǹ\\textbackslash{}xc5 \\textbackslash{}xbe\\textbackslash{}xf7ü \\textbackslash{}xa1\\textbackslash{}xae\\textbackslash{}xbeֵ\\textbackslash{}xe5\\textbackslash{}xc4\\textbackslash{}xc4\\textbackslash{}xc4ڸ\\textbackslash{}xae\\textbackslash{}xbeơ\\textbackslash{}xaf \\textbackslash{}xbcҺ\\textbackslash{}xf1\\textbackslash{}xc0\\textbackslash{}xda \\textbackslash{}xc7\\textbackslash{}xc7\\textbackslash{}xc7\\textbackslash{}xd8\\textbackslash{}xc1\\textbackslash{}xd6\\textbackslash{}xc0\\textbackslash{}xc7 2014-05-19 3218'\n\\item '384 \\textbackslash{}xc8\\textbackslash{}u07b4\\textbackslash{}xeb\\textbackslash{}xc6\\textbackslash{}xf9 \\textbackslash{}xbcҾװ\\textbackslash{}xe1\\textbackslash{}xc1\\textbackslash{}xa6 \\textbackslash{}xc7\\textbackslash{}xc7\\textbackslash{}xc7\\textbackslash{}xd8, \\textbackslash{}xb8ų\\textbackslash{}xe2 2\\textbackslash{}xb9\\textbackslash{}xe8 \\textbackslash{}xc0̻\\textbackslash{}xf3 \\textbackslash{}xc1\\textbackslash{}xf5\\textbackslash{}xb0\\textbackslash{}xa1!! 2014-05-14 4318'\n\\item '383 \\textbackslash{}xbe˶\\textbackslash{}xe3\\textbackslash{}xc6\\textbackslash{}xf9 \\textbackslash{}xbe\\textbackslash{}xbd\\textbackslash{}xc5 \\textbackslash{}xb0\\textbackslash{}xa1\\textbackslash{}xc0\\textbackslash{}xd4 \\textbackslash{}xbd\\textbackslash{}xc3 \\textbackslash{}xb0\\textbackslash{}xe8\\textbackslash{}xbe\\textbackslash{}xe0\\textbackslash{}xc1\\textbackslash{}xb6\\textbackslash{}xb0\\textbackslash{}xc7 \\textbackslash{}xb2Ĳ\\textbackslash{}xc4\\textbackslash{}xc8\\textbackslash{}xf7 Ȯ\\textbackslash{}xc0\\textbackslash{}xce\\textbackslash{}xc7ϼ\\textbackslash{}xbc\\textbackslash{}xbf\\textbackslash{}xe4! 2014-05-13 4199'\n\\item '382 \\textbackslash{}xb0\\textbackslash{}xe1ȥ\\textbackslash{}xc1\\textbackslash{}xa4\\textbackslash{}xba\\textbackslash{}xb8\\textbackslash{}xbe\\textbackslash{}xf7ü \\textbackslash{}xbcҺ\\textbackslash{}xf1\\textbackslash{}xc0\\textbackslash{}xda \\textbackslash{}xc7\\textbackslash{}xc7\\textbackslash{}xc7\\textbackslash{}xd8\\textbackslash{}xc1\\textbackslash{}xd6\\textbackslash{}xc0\\textbackslash{}xc7 2014-04-21 4484'\n\\item '381 \\textbackslash{}xb9\\textbackslash{}xab\\textbackslash{}xb7\\textbackslash{}xe1 \\textbackslash{}xbeƴ\\textbackslash{}xd1 \\textbackslash{}xb9\\textbackslash{}xab\\textbackslash{}xb7\\textbackslash{}xe1\\textbackslash{}xc3Կ\\textbackslash{}xb5\\textbackslash{}xb1\\textbackslash{}xc7, \\textbackslash{}xbeƱ⼺\\textbackslash{}xc0\\textbackslash{}xe5\\textbackslash{}xbeٹ\\textbackslash{}xfc \\textbackslash{}xb0\\textbackslash{}xe8\\textbackslash{}xbe\\textbackslash{}xe0 \\textbackslash{}xc1\\textbackslash{}xd6\\textbackslash{}xc0\\textbackslash{}xc7\\textbackslash{}xc7ؾ\\textbackslash{}xdf 2014-04-15 5030'\n\\item '380 \\textbackslash{}xbc\\textbackslash{}xbcŹ\\textbackslash{}xbcҿ\\textbackslash{}xa1 \\textbackslash{}xb8ñ\\textbackslash{}xe4 \\textbackslash{}xc8\\textbackslash{}xc4 \\textbackslash{}xbcջ\\textbackslash{}xf3\\textbackslash{}xb5ǰ\\textbackslash{}xed \\textbackslash{}xbaн\\textbackslash{}xc7 \\textbackslash{}xc0\\textbackslash{}xe6\\textbackslash{}xbe\\textbackslash{}xc6 2014-04-14 3662'\n\\item '379 \\textbackslash{}xc0\\textbackslash{}xce\\textbackslash{}xc5\\textbackslash{}u05f8\\textbackslash{}xae\\textbackslash{}xbe\\textbackslash{}xbc\\textbackslash{}xb3\\textbackslash{}xba\\textbackslash{}xf1 \\textbackslash{}xb0\\textbackslash{}xf8\\textbackslash{}xbb\\textbackslash{}xe7 \\textbackslash{}xc7\\textbackslash{}xcf\\textbackslash{}xc0\\textbackslash{}xda \\textbackslash{}xb9\\textbackslash{}u07fb\\textbackslash{}xfd\\textbackslash{}xbf\\textbackslash{}xa1 \\textbackslash{}xb4\\textbackslash{}xeb\\textbackslash{}xc7\\textbackslash{}xd1 \\textbackslash{}xbb\\textbackslash{}xe7\\textbackslash{}xc8ĺ\\textbackslash{}xb8\\textbackslash{}xc1\\textbackslash{}xf5 \\textbackslash{}xb9ޱ\\textbackslash{}xe2 \\textbackslash{}xbe\\textbackslash{}xee\\textbackslash{}xb7\\textbackslash{}xc1\\textbackslash{}xbf\\textbackslash{}xf6 2014-03-28 6922'\n\\item '378 \\textbackslash{}xc0ڵ\\textbackslash{}xbf\\textbackslash{}xc2\\textbackslash{}xf7 \\textbackslash{}xc1\\textbackslash{}xa4\\textbackslash{}xba\\textbackslash{}xf1 \\textbackslash{}xb0\\textbackslash{}xfc\\textbackslash{}xb7\\textbackslash{}xc3 \\textbackslash{}xbcҺ\\textbackslash{}xf1\\textbackslash{}xc0\\textbackslash{}xda \\textbackslash{}xc7\\textbackslash{}xc7\\textbackslash{}xc7\\textbackslash{}xd8 \\textbackslash{}xb8ų\\textbackslash{}xe2 200\\textbackslash{}xb0\\textbackslash{}xc7 \\textbackslash{}xc0̻\\textbackslash{}xf3 \\textbackslash{}xb9\\textbackslash{}u07fb\\textbackslash{}xfd 2014-03-25 4505'\n\\item '377 \\textbackslash{}xbf\\textbackslash{}xb9\\textbackslash{}xbd\\textbackslash{}xc4\\textbackslash{}xc0\\textbackslash{}xe5, \\textbackslash{}xbcҺ\\textbackslash{}xf1\\textbackslash{}xc0\\textbackslash{}xda\\textbackslash{}xc0\\textbackslash{}xc7 \\textbackslash{}xb0\\textbackslash{}xe8\\textbackslash{}xbe\\textbackslash{}xe0\\textbackslash{}xb1\\textbackslash{}xdd ȯ\\textbackslash{}xb1\\textbackslash{}xde \\textbackslash{}xbf\\textbackslash{}xe4û \\textbackslash{}xb8\\textbackslash{}U\\{0388fc\\}\\textbackslash{}xe8\\textbackslash{}xb7\\textbackslash{}xce \\textbackslash{}xc0ϰ\\textbackslash{}xfc 2014-03-20 4145'\n\\item '376 \\textbackslash{}xbfܱ\\textbackslash{}xb9\\textbackslash{}xb0\\textbackslash{}xe8 \\textbackslash{}xc0\\textbackslash{}xfa\\textbackslash{}xba\\textbackslash{}xf1\\textbackslash{}xbf\\textbackslash{}xeb\\textbackslash{}xc7װ\\textbackslash{}xf8 \\textbackslash{}xb0\\textbackslash{}xfc\\textbackslash{}xb7\\textbackslash{}xc3 \\textbackslash{}xbcҺ\\textbackslash{}xf1\\textbackslash{}xc0\\textbackslash{}xda \\textbackslash{}xc7\\textbackslash{}xc7\\textbackslash{}xc7\\textbackslash{}xd8 \\textbackslash{}xb1\\textbackslash{}xde\\textbackslash{}xc1\\textbackslash{}xf5 2014-02-28 3957'\n\\item '375 \\textbackslash{}xc7ؿܿ\\textbackslash{}xac\\textbackslash{}xbc\\textbackslash{}xf6, \\textbackslash{}xb0\\textbackslash{}xe8\\textbackslash{}xbe\\textbackslash{}xe0\\textbackslash{}xc7\\textbackslash{}xd8\\textbackslash{}xc1\\textbackslash{}xa6 \\textbackslash{}xbd\\textbackslash{}xb1\\textbackslash{}xc1\\textbackslash{}xf6 \\textbackslash{}xbeʰ\\textbackslash{}xed \\textbackslash{}xbd\\textbackslash{}xc7\\textbackslash{}xc1\\textbackslash{}xa6 \\textbackslash{}xbf\\textbackslash{}xac\\textbackslash{}xbc\\textbackslash{}xf6 \\textbackslash{}xb3\\textbackslash{}xbb\\textbackslash{}xbf뵵 \\textbackslash{}xb4\\textbackslash{}u07b6\\textbackslash{}xf3 2014-02-20 3116'\n\\item '374 \\textbackslash{}xb5\\textbackslash{}xb9\\textbackslash{}xc0\\textbackslash{}xdcġ, \\textbackslash{}xc0ϴ\\textbackslash{}xdc \\textbackslash{}xb0\\textbackslash{}xe8\\textbackslash{}xbe\\textbackslash{}xe0\\textbackslash{}xc7ϸ\\textbackslash{}xe9 2\\textbackslash{}xb0\\textbackslash{}xb3\\textbackslash{}xbf\\textbackslash{}xf9 \\textbackslash{}xc0\\textbackslash{}xfc\\textbackslash{}xbf\\textbackslash{}xa1\\textbackslash{}xb5\\textbackslash{}xb5 \\textbackslash{}xc7ؾ\\textbackslash{}xe0\\textbackslash{}xc7ϱ\\textbackslash{}xe2 \\textbackslash{}xbe\\textbackslash{}xee\\textbackslash{}xb7\\textbackslash{}xc1\\textbackslash{}xbf\\textbackslash{}xf6 2014-02-14 4498'\n\\item '373 \\textbackslash{}xc0Ƿ\\textbackslash{}xf9.\\textbackslash{}xbdŹ\\textbackslash{}xdf \\textbackslash{}xb5\\textbackslash{}xee ǰ\\textbackslash{}xc1\\textbackslash{}xfa\\textbackslash{}xc7\\textbackslash{}xcf\\textbackslash{}xc0\\textbackslash{}xda 46.2\\% \\textbackslash{}xb4\\textbackslash{}xde\\textbackslash{}xc7\\textbackslash{}xd8 2014-02-10 4389'\n\\item '372 \\textbackslash{}xa1\\textbackslash{}xae\\textbackslash{}xb0\\textbackslash{}xe8\\textbackslash{}xbe\\textbackslash{}xe0\\textbackslash{}xc7\\textbackslash{}xd8\\textbackslash{}xc1\\textbackslash{}xa6\\textbackslash{}xa1\\textbackslash{}xa4\\textbackslash{}xc7\\textbackslash{}xd8\\textbackslash{}xc1\\textbackslash{}xf6 \\textbackslash{}xb0\\textbackslash{}xc5\\textbackslash{}xc0\\textbackslash{}xfd\\textbackslash{}xa1\\textbackslash{}xaf, \\textbackslash{}xa1\\textbackslash{}xaeǰ\\textbackslash{}xc1\\textbackslash{}xfa\\textbackslash{}xa1\\textbackslash{}xa4A/S\\textbackslash{}' \\textbackslash{}xc7\\textbackslash{}xc7\\textbackslash{}xc7ذ\\textbackslash{}xa1 \\textbackslash{}xb0\\textbackslash{}xa2\\textbackslash{}xb0\\textbackslash{}xa2 37.9\\%\\textbackslash{}xb7\\textbackslash{}xce \\textbackslash{}xb0\\textbackslash{}xa1\\textbackslash{}xc0\\textbackslash{}xe5 \\textbackslash{}xb8\\textbackslash{}xb9\\textbackslash{}xbe\\textbackslash{}xc6 2013-12-31 4552'\n\\item '371 \\textbackslash{}xc0̻\\textbackslash{}xe7\\textbackslash{}xc7\\textbackslash{}xc7\\textbackslash{}xc7\\textbackslash{}xd8, 10\\textbackslash{}xb0\\textbackslash{}xc7\\textbackslash{}xc1\\textbackslash{}xdf 7\\textbackslash{}xb0\\textbackslash{}xc7\\textbackslash{}xc0\\textbackslash{}xba \\textbackslash{}xc0̻\\textbackslash{}xf1\\textbackslash{}xc1\\textbackslash{}xfc \\textbackslash{}xc8Ѽա\\textbackslash{}xa4\\textbackslash{}xc6ļ\\textbackslash{}xd5 \\textbackslash{}xc7\\textbackslash{}xc7\\textbackslash{}xc7\\textbackslash{}xd8 2013-12-31 4445'\n\\item '370 \\textbackslash{}xb0\\textbackslash{}xe1ȥ \\textbackslash{}xbf\\textbackslash{}xb9\\textbackslash{}xbdġ\\textbackslash{}xa4\\textbackslash{}xc1غ\\textbackslash{}xf1\\textbackslash{}xb4\\textbackslash{}xeb\\textbackslash{}xc7\\textbackslash{}xe0 \\textbackslash{}xbc\\textbackslash{}xad\\textbackslash{}xba\\textbackslash{}xf1\\textbackslash{}xbd\\textbackslash{}xba \\textbackslash{}xb0\\textbackslash{}xe8\\textbackslash{}xbe\\textbackslash{}xe0\\textbackslash{}xc7\\textbackslash{}xd8\\textbackslash{}xc1\\textbackslash{}xa6 \\textbackslash{}xbe\\textbackslash{}xee\\textbackslash{}xb7\\textbackslash{}xc1\\textbackslash{}xbf\\textbackslash{}xf6 2013-12-31 3510'\n\\item '369 \\textbackslash{}xb4ٴܰ\\textbackslash{}xe8\\textbackslash{}xc6Ǹ\\textbackslash{}xc5 \\textbackslash{}xc7\\textbackslash{}xc7\\textbackslash{}xc7\\textbackslash{}xd8 \\textbackslash{}xbb\\textbackslash{}xf3\\textbackslash{}xb4\\textbackslash{}xe3, \\textbackslash{}xc3ֱ\\textbackslash{}xd9 3\\textbackslash{}xb3\\textbackslash{}xe2 \\textbackslash{}xbb\\textbackslash{}xf5 \\textbackslash{}xb5\\textbackslash{}xce \\textbackslash{}xb9\\textbackslash{}xe8 \\textbackslash{}xc0̻\\textbackslash{}xf3 \\textbackslash{}xc1\\textbackslash{}xf5\\textbackslash{}xb0\\textbackslash{}xa1 2013-12-31 3433'\n\\item '368 \\textbackslash{}xbc\\textbackslash{}xba\\textbackslash{}xc7\\textbackslash{}xfc\\textbackslash{}xbc\\textbackslash{}xf6\\textbackslash{}xbc\\textbackslash{}xfa \\textbackslash{}xbcҺ\\textbackslash{}xf1\\textbackslash{}xc0ڻ\\textbackslash{}xf3\\textbackslash{}xb4\\textbackslash{}xe3, \\textbackslash{}xa1\\textbackslash{}xae\\textbackslash{}xb0\\textbackslash{}xe8\\textbackslash{}xbe\\textbackslash{}xe0\\textbackslash{}xc7\\textbackslash{}xd8\\textbackslash{}xc1\\textbackslash{}xa6\\textbackslash{}xa1\\textbackslash{}xa4\\textbackslash{}xc7\\textbackslash{}xd8\\textbackslash{}xc1\\textbackslash{}xf6 \\textbackslash{}xb0\\textbackslash{}xc5\\textbackslash{}xc0\\textbackslash{}xfd\\textbackslash{}xa1\\textbackslash{}xaf \\textbackslash{}xbaҸ\\textbackslash{}xb8\\textbackslash{}xc0\\textbackslash{}xcc 29.3\\%\\textbackslash{}xb7\\textbackslash{}xce \\textbackslash{}xb0\\textbackslash{}xa1\\textbackslash{}xc0\\textbackslash{}xe5 \\textbackslash{}xb8\\textbackslash{}xb9\\textbackslash{}xbe\\textbackslash{}xc6 2013-12-31 3621'\n\\item '367 \\textbackslash{}xbaο\\textbackslash{}xef\\textbackslash{}xb0\\textbackslash{}xe6, \\textbackslash{}xb4\\textbackslash{}xeb\\textbackslash{}xba\\textbackslash{}xce(\\textbackslash{}xbe\\textbackslash{}xf7)\\textbackslash{}xb4\\textbackslash{}xeb\\textbackslash{}xc3\\textbackslash{}xe2 \\textbackslash{}xb0\\textbackslash{}xfc\\textbackslash{}xb7\\textbackslash{}xc3 \\textbackslash{}xbcҺ\\textbackslash{}xf1\\textbackslash{}xc0ڻ\\textbackslash{}xf3\\textbackslash{}xb4\\textbackslash{}xe3 \\textbackslash{}xb8ų\\textbackslash{}xe2 \\textbackslash{}xb2\\textbackslash{}xd9\\textbackslash{}xc1\\textbackslash{}xd8\\textbackslash{}xc8\\textbackslash{}xf7 \\textbackslash{}xb9\\textbackslash{}u07fb\\textbackslash{}xfd 2013-12-31 2546'\n\\item '366 \\textbackslash{}xc3\\textbackslash{}u07fc\\textbackslash{}xae \\textbackslash{}xb8\\textbackslash{}xed\\textbackslash{}xc0\\textbackslash{}xfd, \\textbackslash{}xc0\\textbackslash{}xfc\\textbackslash{}xc0ڻ\\textbackslash{}xf3\\textbackslash{}xb0ŷ\\textbackslash{}xa1 \\textbackslash{}xbcҺ\\textbackslash{}xf1\\textbackslash{}xc0\\textbackslash{}xda\\textbackslash{}xc7\\textbackslash{}xc7\\textbackslash{}xc7\\textbackslash{}xd8 \\textbackslash{}xc1\\textbackslash{}xd6\\textbackslash{}xc0Ǻ\\textbackslash{}xb8 2013-12-24 3734'\n\\item '365 \\textbackslash{}xb0\\textbackslash{}xad\\textbackslash{}xbf\\textbackslash{}xf8\\textbackslash{}xb5\\textbackslash{}xb5, \\textbackslash{}xb0\\textbackslash{}xed\\textbackslash{}xb7ɼҺ\\textbackslash{}xf1\\textbackslash{}xc0\\textbackslash{}xda \\textbackslash{}xc7\\textbackslash{}xc7\\textbackslash{}xc7\\textbackslash{}xd8, \\textbackslash{}xc1\\textbackslash{}U\\{1bfaba\\}\\textbackslash{}xb0 \\textbackslash{}xbc\\textbackslash{}xf8\\textbackslash{}xc0\\textbackslash{}xa7 3\\textbackslash{}xc0\\textbackslash{}xa7\\textbackslash{}xb7\\textbackslash{}xce \\textbackslash{}xb8\\textbackslash{}xb9\\textbackslash{}xbe\\textbackslash{}xc6 2013-12-23 2683'\n\\item '364 \\textbackslash{}xb0\\textbackslash{}xad\\textbackslash{}xbf\\textbackslash{}xf8\\textbackslash{}xc1\\textbackslash{}xf6\\textbackslash{}xbf\\textbackslash{}xaa \\textbackslash{}xc1߰\\textbackslash{}xed\\textbackslash{}xc0ڵ\\textbackslash{}xbf\\textbackslash{}xc2\\textbackslash{}xf7, \\textbackslash{}xbc\\textbackslash{}xba\\textbackslash{}xb4ɡ\\textbackslash{}xa4\\textbackslash{}xbb\\textbackslash{}xf3\\textbackslash{}xc5\\textbackslash{}xc2\\textbackslash{}xc1\\textbackslash{}xa1\\textbackslash{}xb0˱\\textbackslash{}xe2\\textbackslash{}xb7Ϻο\\textbackslash{}xcd \\textbackslash{}xb4ٸ\\textbackslash{}xa3\\textbackslash{}xb4ٴ\\textbackslash{}xc2 \\textbackslash{}xbaҸ\\textbackslash{}xb8 \\textbackslash{}xb8\\textbackslash{}xb9\\textbackslash{}xbe\\textbackslash{}xc6 2013-12-23 4832'\n\\item '363 \\textbackslash{}xc0\\textbackslash{}xfa\\textbackslash{}xb0\\textbackslash{}xa1 \\textbackslash{}xc4ܵ\\textbackslash{}xb5ȸ\\textbackslash{}xbf\\textbackslash{}xf8\\textbackslash{}xb1\\textbackslash{}xc7 \\textbackslash{}xb0\\textbackslash{}xfc\\textbackslash{}xb7\\textbackslash{}xc3 \\textbackslash{}xbcҺ\\textbackslash{}xf1\\textbackslash{}xc0\\textbackslash{}xda\\textbackslash{}xc7\\textbackslash{}xc7\\textbackslash{}xc7\\textbackslash{}xd8 \\textbackslash{}xb2\\textbackslash{}xd9\\textbackslash{}xc1\\textbackslash{}xd8\\textbackslash{}xc8\\textbackslash{}xf7 \\textbackslash{}xb9\\textbackslash{}u07fb\\textbackslash{}xfd 2013-12-23 2919'\n\\item '362 \\textbackslash{}xb8\\textbackslash{}xf0\\textbackslash{}xb9\\textbackslash{}xd9\\textbackslash{}xc0ϰ\\textbackslash{}xd4\\textbackslash{}xc0\\textbackslash{}xd3, \\textbackslash{}xbaθ\\textbackslash{}xf0 \\textbackslash{}xb5\\textbackslash{}xbf\\textbackslash{}xc0\\textbackslash{}xc7 \\textbackslash{}xbe\\textbackslash{}xf8\\textbackslash{}xb4\\textbackslash{}xc2 \\textbackslash{}xb9̼\\textbackslash{}xba\\textbackslash{}xb3\\textbackslash{}xe2\\textbackslash{}xc0\\textbackslash{}xda \\textbackslash{}xb0\\textbackslash{}xe1\\textbackslash{}xc1\\textbackslash{}xa6 \\textbackslash{}xc7\\textbackslash{}xc7\\textbackslash{}xc7\\textbackslash{}xd8 \\textbackslash{}xb8\\textbackslash{}xb9\\textbackslash{}xbe\\textbackslash{}xc6 2013-12-10 4524'\n\\item '361 \\textbackslash{}xbb\\textbackslash{}xf3\\textbackslash{}xc1\\textbackslash{}xb6\\textbackslash{}xbc\\textbackslash{}xad\\textbackslash{}xba\\textbackslash{}U\\{07debe\\}\\textbackslash{}xf7ü, \\textbackslash{}xbcҺ\\textbackslash{}xf1\\textbackslash{}xc0\\textbackslash{}xda\\textbackslash{}xc7\\textbackslash{}xc7\\textbackslash{}xc7ؿ\\textbackslash{}xa1 \\textbackslash{}xb3\\textbackslash{}xaa \\textbackslash{}xb8\\textbackslash{}xf4\\textbackslash{}xb6\\textbackslash{}xf3\\textbackslash{}xb6\\textbackslash{}xf3 2013-12-09 3578'\n\\item '360 \\textbackslash{}xc0\\textbackslash{}xce\\textbackslash{}xc5ͳݱ\\textbackslash{}xb3\\textbackslash{}xc0\\textbackslash{}xb0\\textbackslash{}xbc\\textbackslash{}xad\\textbackslash{}xba\\textbackslash{}xf1\\textbackslash{}xbd\\textbackslash{}xba \\textbackslash{}xc1ߵ\\textbackslash{}xb5\\textbackslash{}xc7\\textbackslash{}xd8\\textbackslash{}xc1\\textbackslash{}xf6 \\textbackslash{}xbd\\textbackslash{}xc3, \\textbackslash{}xb0\\textbackslash{}xfa\\textbackslash{}xb4\\textbackslash{}xd9 \\textbackslash{}xc0\\textbackslash{}xa7\\textbackslash{}xbe\\textbackslash{}xe0\\textbackslash{}xb1\\textbackslash{}xdd û\\textbackslash{}xb1\\textbackslash{}xb8 \\textbackslash{}xc7\\textbackslash{}xc7\\textbackslash{}xc7\\textbackslash{}xd8 \\textbackslash{}xb8\\textbackslash{}xb9\\textbackslash{}xbe\\textbackslash{}xc6 2013-12-05 3394'\n\\item '359 \\textbackslash{}xc1߰\\textbackslash{}xed\\textbackslash{}xc2\\textbackslash{}xf7 \\textbackslash{}xbc\\textbackslash{}xba\\textbackslash{}xb4ɡ\\textbackslash{}xa4\\textbackslash{}xbb\\textbackslash{}xf3\\textbackslash{}xc5\\textbackslash{}xc2\\textbackslash{}xc1\\textbackslash{}xa1\\textbackslash{}xb0˱\\textbackslash{}xe2\\textbackslash{}xb7Ϻ\\textbackslash{}xce, \\textbackslash{}xbd\\textbackslash{}xc7\\textbackslash{}xc1\\textbackslash{}xa6 \\textbackslash{}xc2\\textbackslash{}U\\{1f7bb0\\}\\textbackslash{}xfa \\textbackslash{}xb4\\textbackslash{}u07b6\\textbackslash{}xf3 \\textbackslash{}xc7\\textbackslash{}xc7\\textbackslash{}xc7\\textbackslash{}xd8 \\textbackslash{}xba\\textbackslash{}xf3\\textbackslash{}xb9\\textbackslash{}xdf 2013-12-05 4357'\n\\item '358 2012\\textbackslash{}xb3\\textbackslash{}xe2 ȣ\\textbackslash{}xb3\\textbackslash{}xb2\\textbackslash{}xa4\\textbackslash{}xfd\\textbackslash{}xc1\\textbackslash{}xa6\\textbackslash{}xc1\\textbackslash{}xd6\\textbackslash{}xc1\\textbackslash{}xf6\\textbackslash{}xbf\\textbackslash{}xaa \\textbackslash{}xb9湮\\textbackslash{}xc6Ǹ\\textbackslash{}xc5 \\textbackslash{}xb0\\textbackslash{}xfc\\textbackslash{}xb7\\textbackslash{}xc3 \\textbackslash{}xc7\\textbackslash{}xc7\\textbackslash{}xc7\\textbackslash{}xd8 33.8\\% \\textbackslash{}xc1\\textbackslash{}xf5\\textbackslash{}xb0\\textbackslash{}xa1 2013-12-05 2400'\n\\item '357 \\textbackslash{}xc6\\textbackslash{}xf7\\textbackslash{}xc0\\textbackslash{}xe5\\textbackslash{}xc0̻\\textbackslash{}xe7 \\textbackslash{}xbc\\textbackslash{}xad\\textbackslash{}xba\\textbackslash{}xf1\\textbackslash{}xbd\\textbackslash{}xba \\textbackslash{}xbe\\textbackslash{}xf7ü, 60\\% \\textbackslash{}xc0̻\\textbackslash{}xf3\\textbackslash{}xc0\\textbackslash{}xba \\textbackslash{}xbcҺ\\textbackslash{}xf1\\textbackslash{}xc0\\textbackslash{}xda \\textbackslash{}xc7\\textbackslash{}xc7\\textbackslash{}xc7ؿ\\textbackslash{}xa1 \\textbackslash{}'\\textbackslash{}xb8\\textbackslash{}U\\{0388fc\\}\\textbackslash{}xe8\\textbackslash{}' 2013-11-27 3799'\n\\item '356 \\textbackslash{}xc0\\textbackslash{}xfc\\textbackslash{}xb1\\textbackslash{}xe2\\textbackslash{}xc0\\textbackslash{}xe5\\textbackslash{}xc6\\textbackslash{}xc7 ȭ\\textbackslash{}xc0硤ȭ\\textbackslash{}xbb\\textbackslash{}xf3 \\textbackslash{}xc1\\textbackslash{}xd6\\textbackslash{}xc0\\textbackslash{}xc7\\textbackslash{}xc7ϼ\\textbackslash{}xbc\\textbackslash{}xbf\\textbackslash{}xe4! 2013-11-21 4141'\n\\item '355 \\textbackslash{}xc7ؿ\\textbackslash{}xdc \\textbackslash{}xb1\\textbackslash{}xb8\\textbackslash{}xb8\\textbackslash{}xc5 \\textbackslash{}xb4\\textbackslash{}xeb\\textbackslash{}xc7\\textbackslash{}xe0\\textbackslash{}xc0\\textbackslash{}xb8\\textbackslash{}xb7\\textbackslash{}xce \\textbackslash{}xc1\\textbackslash{}xa6ǰ \\textbackslash{}xb1\\textbackslash{}xb8\\textbackslash{}xc0\\textbackslash{}xd4 \\textbackslash{}xbd\\textbackslash{}xc3 \\textbackslash{}xc1\\textbackslash{}xd6\\textbackslash{}xc0\\textbackslash{}xc7\\textbackslash{}xc7ϼ\\textbackslash{}xbc\\textbackslash{}xbf\\textbackslash{}xe4 2013-11-14 5177'\n\\item '354 ǰ\\textbackslash{}xc1\\textbackslash{}xfa\\textbackslash{}xbaҷ\\textbackslash{}xae\\textbackslash{}xa1\\textbackslash{}xa4\\textbackslash{}xb0\\textbackslash{}xe8\\textbackslash{}xbe\\textbackslash{}xe0\\textbackslash{}xba\\textbackslash{}xd2\\textbackslash{}xc0\\textbackslash{}xcc\\textbackslash{}xc7\\textbackslash{}xe0 \\textbackslash{}xb5\\textbackslash{}xee \\textbackslash{}xb0\\textbackslash{}xa1\\textbackslash{}xb1\\textbackslash{}xb8 \\textbackslash{}xb0\\textbackslash{}xfc\\textbackslash{}xb7\\textbackslash{}xc3 \\textbackslash{}xbcҺ\\textbackslash{}xf1\\textbackslash{}xc0\\textbackslash{}xda\\textbackslash{}xc7\\textbackslash{}xc7\\textbackslash{}xc7\\textbackslash{}xd8 \\textbackslash{}xbdɰ\\textbackslash{}xa2! 2013-11-13 4581'\n\\item '353 \\textbackslash{}xb4\\textbackslash{}xeb\\textbackslash{}xc0\\textbackslash{}xfc\\textbackslash{}xa1\\textbackslash{}xa4\\textbackslash{}xc3\\textbackslash{}xe6û\\textbackslash{}xc1\\textbackslash{}xf6\\textbackslash{}xbf\\textbackslash{}xaa \\textbackslash{}xc8\\textbackslash{}u07b4\\textbackslash{}xeb\\textbackslash{}xc6\\textbackslash{}xf9 \\textbackslash{}xbcҾװ\\textbackslash{}xe1\\textbackslash{}xc1\\textbackslash{}xa6, \\textbackslash{}xbb\\textbackslash{}xe7\\textbackslash{}xbf\\textbackslash{}xeb\\textbackslash{}xc7\\textbackslash{}xcf\\textbackslash{}xc1\\textbackslash{}xf6 \\textbackslash{}xbe\\textbackslash{}xca\\textbackslash{}xc0\\textbackslash{}xba \\textbackslash{}xbf\\textbackslash{}xe4\\textbackslash{}xb1\\textbackslash{}xdd \\textbackslash{}xb0\\textbackslash{}xe1\\textbackslash{}xc1\\textbackslash{}xa6 \\textbackslash{}xc7\\textbackslash{}xc7\\textbackslash{}xc7\\textbackslash{}xd8 \\textbackslash{}xb8\\textbackslash{}xb9\\textbackslash{}xbe\\textbackslash{}xc6 2013-11-05 3661'\n\\item '352 \\textbackslash{}xc3ʰ\\textbackslash{}xed\\textbackslash{}xbc\\textbackslash{}xd3\\textbackslash{}xc0\\textbackslash{}xce\\textbackslash{}xc5ͳݼ\\textbackslash{}xad\\textbackslash{}xba\\textbackslash{}xf1\\textbackslash{}xbd\\textbackslash{}xba, \\textbackslash{}xc7\\textbackslash{}xd8\\textbackslash{}xc1\\textbackslash{}xf6ó\\textbackslash{}xb8\\textbackslash{}xae \\textbackslash{}xb4\\textbackslash{}xa9\\textbackslash{}xb6\\textbackslash{}xf4 \\textbackslash{}xc7\\textbackslash{}xc7\\textbackslash{}xc7\\textbackslash{}xd8 \\textbackslash{}xb0\\textbackslash{}xa1\\textbackslash{}xc0\\textbackslash{}xe5 \\textbackslash{}xb8\\textbackslash{}xb9\\textbackslash{}xbe\\textbackslash{}xc6 2013-11-04 4828'\n\\item '351 \\textbackslash{}xbeϺ\\textbackslash{}xb8\\textbackslash{}xc7\\textbackslash{}xe8, \\textbackslash{}xba\\textbackslash{}xb8\\textbackslash{}xc7\\textbackslash{}xe8\\textbackslash{}xb1\\textbackslash{}xdd\\textbackslash{}xc1\\textbackslash{}xf6\\textbackslash{}xb1\\textbackslash{}xde \\textbackslash{}xb0\\textbackslash{}xfc\\textbackslash{}xb7\\textbackslash{}xc3 \\textbackslash{}xba\\textbackslash{}xd0\\textbackslash{}xc0\\textbackslash{}xef 90\\% \\textbackslash{}xc0̻\\textbackslash{}xf3 2013-10-30 7141'\n\\item '350 ġ\\textbackslash{}xb0\\textbackslash{}xfa\\textbackslash{}xba\\textbackslash{}xd0\\textbackslash{}xc0\\textbackslash{}xef \\textbackslash{}xc0\\textbackslash{}xd3\\textbackslash{}xc7ö\\textbackslash{}xf5Ʈ\\textbackslash{}xb0\\textbackslash{}xa1 \\textbackslash{}xb0\\textbackslash{}xa1\\textbackslash{}xc0\\textbackslash{}xe5 \\textbackslash{}xb8\\textbackslash{}xb9\\textbackslash{}xbe\\textbackslash{}xc6 2013-10-29 5091'\n\\item '349 \\textbackslash{}xbfȭ ǰ\\textbackslash{}xc1\\textbackslash{}xfa\\textbackslash{}xc7\\textbackslash{}xcf\\textbackslash{}xc0\\textbackslash{}xda \\textbackslash{}xb5\\textbackslash{}xee \\textbackslash{}'\\textbackslash{}xb3\\textbackslash{}xbb\\textbackslash{}xb1\\textbackslash{}xb8\\textbackslash{}xbc\\textbackslash{}xba \\textbackslash{}xbaҷ\\textbackslash{}xae\\textbackslash{}'\\textbackslash{}xc0\\textbackslash{}xcc 80.2\\%\\textbackslash{}xb7\\textbackslash{}xce \\textbackslash{}xb0\\textbackslash{}xa1\\textbackslash{}xc0\\textbackslash{}xe5 \\textbackslash{}xb8\\textbackslash{}xb9\\textbackslash{}xbe\\textbackslash{}xc6 2013-10-02 7209'\n\\item '348 ħ\\textbackslash{}xbc\\textbackslash{}xf6 \\textbackslash{}xc1߰\\textbackslash{}xed \\textbackslash{}xc0ڵ\\textbackslash{}xbf\\textbackslash{}xc2\\textbackslash{}xf7 \\textbackslash{}xbcҺ\\textbackslash{}xf1\\textbackslash{}xc0\\textbackslash{}xda \\textbackslash{}xbb\\textbackslash{}xf3\\textbackslash{}xb4\\textbackslash{}xe3 \\textbackslash{}xb8ų\\textbackslash{}xe2 \\textbackslash{}xc1\\textbackslash{}xf5\\textbackslash{}xb0\\textbackslash{}xa1 2013-09-17 5428'\n\\item '347 \\textbackslash{}xc5ù\\textbackslash{}xe8 \\textbackslash{}xbaҸ\\textbackslash{}xb8, \\textbackslash{}'\\textbackslash{}xc4\\textbackslash{}xc9\\textbackslash{}xc0\\textbackslash{}xcc\\textbackslash{}xc1\\textbackslash{}U\\{1bfef7\\}ο\\textbackslash{}xecĸ\\textbackslash{}', \\textbackslash{}'KGB\\textbackslash{}xc5ù\\textbackslash{}xe8\\textbackslash{}' \\textbackslash{}xbc\\textbackslash{}xf8\\textbackslash{}xc0\\textbackslash{}xb8\\textbackslash{}xb7\\textbackslash{}xce \\textbackslash{}xb3\\textbackslash{}xf4\\textbackslash{}xbe\\textbackslash{}xc6 2013-09-09 8311'\n\\item '346 \\textbackslash{}xb3\\textbackslash{}xb2\\textbackslash{}xbc\\textbackslash{}xba\\textbackslash{}xbf\\textbackslash{}xeb \\textbackslash{}xbc\\textbackslash{}xba\\textbackslash{}xb1\\textbackslash{}xe2\\textbackslash{}xb4\\textbackslash{}xc9 \\textbackslash{}xc7\\textbackslash{}xe2\\textbackslash{}xbb\\textbackslash{}xf3\\textbackslash{}xb1\\textbackslash{}xe2\\textbackslash{}xb1\\textbackslash{}xe2, \\textbackslash{}xb9\\textbackslash{}xab\\textbackslash{}xc7㰡 \\textbackslash{}xc1\\textbackslash{}xa6ǰ \\textbackslash{}xc1\\textbackslash{}xd6\\textbackslash{}xc0\\textbackslash{}xc7\\textbackslash{}xc7ϼ\\textbackslash{}xbc\\textbackslash{}xbf\\textbackslash{}xe4! 2013-09-05 6694'\n\\item '345 \\textbackslash{}xc4\\textbackslash{}xdc\\textbackslash{}xc5\\textbackslash{}xd9\\textbackslash{}xc3\\textbackslash{}xf7\\textbackslash{}xc0̿\\textbackslash{}xeb\\textbackslash{}xbb\\textbackslash{}xe7\\textbackslash{}xc0\\textbackslash{}xccƮ, ȸ\\textbackslash{}xbf\\textbackslash{}xf8 \\textbackslash{}xb0\\textbackslash{}xa1\\textbackslash{}xc0\\textbackslash{}xd4 \\textbackslash{}xba\\textbackslash{}xf9\\textbackslash{}xc0\\textbackslash{}xda\\textbackslash{}xc7\\textbackslash{}xd1 \\textbackslash{}xc0\\textbackslash{}xaf\\textbackslash{}xb7\\textbackslash{}xe1\\textbackslash{}xb0\\textbackslash{}xe1\\textbackslash{}xc1\\textbackslash{}xa6 \\textbackslash{}xc7\\textbackslash{}xc7\\textbackslash{}xc7\\textbackslash{}xd8 \\textbackslash{}xb1\\textbackslash{}xde\\textbackslash{}xc1\\textbackslash{}xf5 2013-08-27 5336'\n\\item '344 \\textbackslash{}xbfܱ\\textbackslash{}xb9\\textbackslash{}xb0\\textbackslash{}xe8 \\textbackslash{}xc7װ\\textbackslash{}xf8\\textbackslash{}xbb\\textbackslash{}xe7 \\textbackslash{}xbcҺ\\textbackslash{}xf1\\textbackslash{}xc0\\textbackslash{}xda\\textbackslash{}xc7\\textbackslash{}xc7\\textbackslash{}xc7\\textbackslash{}xd8 \\textbackslash{}xc0\\textbackslash{}xfc\\textbackslash{}xb3\\textbackslash{}xe2 \\textbackslash{}xb4\\textbackslash{}xeb\\textbackslash{}xba\\textbackslash{}xf1 ū \\textbackslash{}xc6\\textbackslash{}xf8 \\textbackslash{}xc1\\textbackslash{}xf5\\textbackslash{}xb0\\textbackslash{}xa1! 2013-08-20 5854'\n\\item '343 \\textbackslash{}xb4\\textbackslash{}xeb\\textbackslash{}xc0\\textbackslash{}xfc \\textbackslash{}xc3\\textbackslash{}xe6û\\textbackslash{}xc1\\textbackslash{}xf6\\textbackslash{}xbf\\textbackslash{}xaa \\textbackslash{}xc7ؿܿ\\textbackslash{}xa9\\textbackslash{}xc7\\textbackslash{}xe0 \\textbackslash{}xb0\\textbackslash{}xfc\\textbackslash{}xb7\\textbackslash{}xc3 \\textbackslash{}xbcҺ\\textbackslash{}xf1\\textbackslash{}xc0\\textbackslash{}xda \\textbackslash{}xc7\\textbackslash{}xc7\\textbackslash{}xc7\\textbackslash{}xd8 \\textbackslash{}xc1\\textbackslash{}xf5\\textbackslash{}xb0\\textbackslash{}xa1 2013-08-02 4912'\n\\item '342 \\textbackslash{}xc2\\textbackslash{}xf7\\textbackslash{}xb7\\textbackslash{}xae \\textbackslash{}xb7\\textbackslash{}xbbƮ\\textbackslash{}xbd\\textbackslash{}xc3 \\textbackslash{}xc1\\textbackslash{}xd6\\textbackslash{}xc0\\textbackslash{}xc7\\textbackslash{}xc7ϼ\\textbackslash{}xbc\\textbackslash{}xbf\\textbackslash{}xe4 2013-07-25 9007'\n\\item '341 \\textbackslash{}xc8\\textbackslash{}u07b4\\textbackslash{}xeb\\textbackslash{}xc6\\textbackslash{}xf9 \\textbackslash{}xba\\textbackslash{}xb8\\textbackslash{}xc1\\textbackslash{}xb6\\textbackslash{}xb1\\textbackslash{}xdd \\textbackslash{}xc1\\textbackslash{}xf6\\textbackslash{}xbf\\textbackslash{}xf8 \\textbackslash{}xbe\\textbackslash{}xe0\\textbackslash{}xc1\\textbackslash{}xa4 \\textbackslash{}xba\\textbackslash{}xd2\\textbackslash{}xc0\\textbackslash{}xcc\\textbackslash{}xc7\\textbackslash{}xe0 \\textbackslash{}xc7\\textbackslash{}xc7\\textbackslash{}xc7\\textbackslash{}xd8 \\textbackslash{}xc1\\textbackslash{}xd6\\textbackslash{}xc0\\textbackslash{}xc7 2013-07-23 7660'\n\\item '340 \\textbackslash{}xa1\\textbackslash{}xb0\\textbackslash{}xbf\\textbackslash{}xa1\\textbackslash{}xbe\\textbackslash{}xee\\textbackslash{}xc4\\textbackslash{}xc1 \\textbackslash{}xbc\\textbackslash{}xb3ġ\\textbackslash{}xbd\\textbackslash{}xc3 \\textbackslash{}xc1\\textbackslash{}xd6\\textbackslash{}xc0\\textbackslash{}xc7\\textbackslash{}xc7ϼ\\textbackslash{}xbc\\textbackslash{}xbf䡱 2013-07-23 7897'\n\\item '339 \\textbackslash{}xbdð\\textbackslash{}xe8 \\textbackslash{}xb1\\textbackslash{}xb8\\textbackslash{}xb8Ž\\textbackslash{}xc3 \\textbackslash{}xc1\\textbackslash{}xd6\\textbackslash{}xc0\\textbackslash{}xc7\\textbackslash{}xc7ϼ\\textbackslash{}xbc\\textbackslash{}xbf\\textbackslash{}xe4! 2013-07-19 6810'\n\\item '338 \\textbackslash{}xc7ؿܿ\\textbackslash{}xa9\\textbackslash{}xc7\\textbackslash{}xe0 \\textbackslash{}xbd\\textbackslash{}xc3 \\textbackslash{}xbd\\textbackslash{}xba\\textbackslash{}xb8\\textbackslash{}xb6Ʈ\\textbackslash{}xc6\\textbackslash{}xf9 \\textbackslash{}xb5\\textbackslash{}xa5\\textbackslash{}xc0\\textbackslash{}xcc\\textbackslash{}xc5ͷιֿ\\textbackslash{}xe4\\textbackslash{}xb1\\textbackslash{}xdd \\textbackslash{}xc6\\textbackslash{}xf8ź \\textbackslash{}xc1\\textbackslash{}xd6\\textbackslash{}xc0\\textbackslash{}xc7 2013-07-17 7507'\n\\item '337 \\textbackslash{}xbc\\textbackslash{}xf6\\textbackslash{}xb9鸸\\textbackslash{}xbf\\textbackslash{}xf8 \\textbackslash{}xb4\\textbackslash{}xeb\\textbackslash{}xc0\\textbackslash{}xc7 \\textbackslash{}xc7Ǻΰ\\textbackslash{}U\\{38bbcb7a\\}\\textbackslash{}xf1\\textbackslash{}xbd\\textbackslash{}xba, \\textbackslash{}xc1\\textbackslash{}xa4\\textbackslash{}xc0\\textbackslash{}xdb \\textbackslash{}xbcҺ\\textbackslash{}xf1\\textbackslash{}xc0ڰ\\textbackslash{}xfc\\textbackslash{}xb8\\textbackslash{}xae\\textbackslash{}xb4\\textbackslash{}xc2 \\textbackslash{}xbe\\textbackslash{}xfb\\textbackslash{}xb8\\textbackslash{}xc1 2013-07-16 5125'\n\\item '336 \\textbackslash{}xc0\\textbackslash{}xce\\textbackslash{}xc5ͳݼ\\textbackslash{}xee\\textbackslash{}xc7θ\\textbackslash{}xf4 \\textbackslash{}xbb\\textbackslash{}xe7\\textbackslash{}xbe\\textbackslash{}xf7\\textbackslash{}xc0\\textbackslash{}xda\\textbackslash{}xc0\\textbackslash{}xc7 û\\textbackslash{}xbe\\textbackslash{}xe0öȸ \\textbackslash{}xbaδ\\textbackslash{}xe7 \\textbackslash{}xb0źη\\textbackslash{}xce \\textbackslash{}xc0\\textbackslash{}xce\\textbackslash{}xc7\\textbackslash{}xd1 \\textbackslash{}xbcҺ\\textbackslash{}xf1\\textbackslash{}xc0\\textbackslash{}xda\\textbackslash{}xc7\\textbackslash{}xc7\\textbackslash{}xc7\\textbackslash{}xd8 \\textbackslash{}xbdɰ\\textbackslash{}xa2! 2013-07-12 6397'\n\\item '335 (\\textbackslash{}xc1\\textbackslash{}xd6)\\textbackslash{}xc7ѿ\\textbackslash{}xb5\\textbackslash{}xb0\\textbackslash{}U\\{31930cf9\\}\\textbackslash{}xdf \\textbackslash{}xb0\\textbackslash{}xe8\\textbackslash{}xbe\\textbackslash{}xe0\\textbackslash{}xbd\\textbackslash{}xc3 \\textbackslash{}xc1\\textbackslash{}xd6\\textbackslash{}xc0\\textbackslash{}xc7\\textbackslash{}xc7ϼ\\textbackslash{}xbc\\textbackslash{}xbf\\textbackslash{}xe4! 2013-07-10 5349'\n\\item '334 \\textbackslash{}xc7\\textbackslash{}xc1\\textbackslash{}xb6\\textbackslash{}xf3\\textbackslash{}xc0\\textbackslash{}xd3 \\textbackslash{}xbf\\textbackslash{}xa1\\textbackslash{}xb5\\textbackslash{}xe0\\textbackslash{}xc4\\textbackslash{}xc9\\textbackslash{}xc0̼\\textbackslash{}xc7(\\textbackslash{}xc1߰\\textbackslash{}xed\\textbackslash{}xbb\\textbackslash{}xfd \\textbackslash{}xb4\\textbackslash{}xeb\\textbackslash{}xbb\\textbackslash{}xf3 \\textbackslash{}xb0\\textbackslash{}xfa\\textbackslash{}xbf\\textbackslash{}xdc \\textbackslash{}xc1߰\\textbackslash{}xb3\\textbackslash{}xbe\\textbackslash{}xf7ü) \\textbackslash{}xb0\\textbackslash{}xe8\\textbackslash{}xbe\\textbackslash{}xe0\\textbackslash{}xbd\\textbackslash{}xc3 \\textbackslash{}xc1\\textbackslash{}xd6\\textbackslash{}xc0\\textbackslash{}xc7\\textbackslash{}xc7ϼ\\textbackslash{}xbc\\textbackslash{}xbf\\textbackslash{}xe4! 2013-07-05 4222'\n\\item '333 \\textbackslash{}xbf䰡 \\textbackslash{}xc0̿\\textbackslash{}xeb \\textbackslash{}xb0\\textbackslash{}xfc\\textbackslash{}xb7\\textbackslash{}xc3 \\textbackslash{}xbcҺ\\textbackslash{}xf1\\textbackslash{}xc0\\textbackslash{}xda\\textbackslash{}xc7\\textbackslash{}xc7\\textbackslash{}xc7\\textbackslash{}xd8 \\textbackslash{}xc1\\textbackslash{}xd6\\textbackslash{}xc0\\textbackslash{}xc7! 2013-07-02 4649'\n\\item '332 \\textbackslash{}xb4\\textbackslash{}xeb\\textbackslash{}xc3\\textbackslash{}xe2\\textbackslash{}xb9\\textbackslash{}xde\\textbackslash{}xc0\\textbackslash{}xb8\\textbackslash{}xb7\\textbackslash{}xc1\\textbackslash{}xb4\\textbackslash{}xd9 \\textbackslash{}xc0̵\\textbackslash{}xbf\\textbackslash{}xc0\\textbackslash{}xfcȭ \\textbackslash{}xbf\\textbackslash{}xe4\\textbackslash{}xb1\\textbackslash{}xdd\\textbackslash{}xc6\\textbackslash{}xf8ź \\textbackslash{}xb8¾\\textbackslash{}xc6 2013-06-26 4152'\n\\item '331 \\textbackslash{}xb7\\textbackslash{}xbbŻ\\textbackslash{}xc1\\textbackslash{}xa4\\textbackslash{}xbc\\textbackslash{}xf6\\textbackslash{}xb1\\textbackslash{}xe2 \\textbackslash{}xb0\\textbackslash{}xe8\\textbackslash{}xbe\\textbackslash{}xe0\\textbackslash{}xbd\\textbackslash{}xc3 \\textbackslash{}xc1\\textbackslash{}xd6\\textbackslash{}xc0\\textbackslash{}xc7\\textbackslash{}xc7ϼ\\textbackslash{}xbc\\textbackslash{}xbf\\textbackslash{}xe4! 2013-06-24 7984'\n\\item '330 \\textbackslash{}xb0\\textbackslash{}xed\\textbackslash{}xb7\\textbackslash{}xc9 \\textbackslash{}xbcҺ\\textbackslash{}xf1\\textbackslash{}xc0\\textbackslash{}xda \\textbackslash{}xc7\\textbackslash{}xc7\\textbackslash{}xc7ػ\\textbackslash{}xf3\\textbackslash{}xb4\\textbackslash{}xe3, \\textbackslash{}xc0\\textbackslash{}xfc\\textbackslash{}xb3\\textbackslash{}xe2 \\textbackslash{}xb4\\textbackslash{}xeb\\textbackslash{}xba\\textbackslash{}xf1 \\textbackslash{}xbe\\textbackslash{}xe0 40\\% \\textbackslash{}xc1\\textbackslash{}xf5\\textbackslash{}xb0\\textbackslash{}xa1 2013-06-13 4315'\n\\item '329 \\textbackslash{}xbf\\textbackslash{}xb9\\textbackslash{}xbd\\textbackslash{}xc4\\textbackslash{}xc0\\textbackslash{}xe5 \\textbackslash{}xb9\\textbackslash{}xd7 \\textbackslash{}xb0\\textbackslash{}xe1ȥ\\textbackslash{}xc1غ\\textbackslash{}xf1\\textbackslash{}xb4\\textbackslash{}xeb\\textbackslash{}xc7\\textbackslash{}xe0\\textbackslash{}xbe\\textbackslash{}xf7\\textbackslash{}xc0\\textbackslash{}xda\\textbackslash{}xc0\\textbackslash{}xc7 \\textbackslash{}xb0\\textbackslash{}xe8\\textbackslash{}xbe\\textbackslash{}xe0\\textbackslash{}xc7\\textbackslash{}xd8\\textbackslash{}xc1\\textbackslash{}xa6 \\textbackslash{}xb0\\textbackslash{}xc5\\textbackslash{}xc0\\textbackslash{}xfd \\textbackslash{}xc7\\textbackslash{}xc7\\textbackslash{}xc7\\textbackslash{}xd8 \\textbackslash{}xc1\\textbackslash{}xd6\\textbackslash{}xc0\\textbackslash{}xc7 2013-05-27 5495'\n\\item '328 \\textbackslash{}xb9\\textbackslash{}xab\\textbackslash{}xb7\\textbackslash{}xe1ü\\textbackslash{}xc7\\textbackslash{}xe8 \\textbackslash{}xba\\textbackslash{}xf9\\textbackslash{}xc0\\textbackslash{}xda\\textbackslash{}xc7\\textbackslash{}xd1 \\textbackslash{}xb0ǰ\\textbackslash{}xad\\textbackslash{}xbd\\textbackslash{}xc4ǰ \\textbackslash{}xbe\\textbackslash{}xe4ü\\textbackslash{}xbb\\textbackslash{}xf3\\textbackslash{}xbc\\textbackslash{}xfa \\textbackslash{}xb1ؼ\\textbackslash{}xba 2013-05-16 4230'\n\\item '327 \\textbackslash{}xbf\\textbackslash{}xac\\textbackslash{}xb1\\textbackslash{}xe2\\textbackslash{}xa4\\textbackslash{}xfd\\textbackslash{}xb8\\textbackslash{}xf0\\textbackslash{}xb5\\textbackslash{}xa8\\textbackslash{}xc7п\\textbackslash{}xf8 \\textbackslash{}xb0\\textbackslash{}xe8\\textbackslash{}xbe\\textbackslash{}xe0 \\textbackslash{}xb0\\textbackslash{}xfc\\textbackslash{}xb7\\textbackslash{}xc3 \\textbackslash{}xbcҺ\\textbackslash{}xf1\\textbackslash{}xc0\\textbackslash{}xda \\textbackslash{}xc7\\textbackslash{}xc7\\textbackslash{}xc7\\textbackslash{}xd8 \\textbackslash{}xc1\\textbackslash{}xd6\\textbackslash{}xc0\\textbackslash{}xc7 2013-05-08 4667'\n\\item '326 \\textbackslash{}xbc\\textbackslash{}xbcŹ\\textbackslash{}xb9\\textbackslash{}xb0\\textbackslash{}xbaн\\textbackslash{}xc7 2\\textbackslash{}xb0\\textbackslash{}xc7\\textbackslash{}xc1\\textbackslash{}xdf 1\\textbackslash{}xb0\\textbackslash{}xc7, \\textbackslash{}xbc\\textbackslash{}xbcŹ\\textbackslash{}xbe\\textbackslash{}xf7\\textbackslash{}xc0\\textbackslash{}xda \\textbackslash{}xb3\\textbackslash{}xaa \\textbackslash{}xb8\\textbackslash{}xf4\\textbackslash{}xb6\\textbackslash{}xf3\\textbackslash{}xb6\\textbackslash{}xf3! \\textbackslash{}xbc\\textbackslash{}xbcŹ\\textbackslash{}xc0Ƿڽ\\textbackslash{}xc3 \\textbackslash{}xc0μ\\textbackslash{}xf6\\textbackslash{}xc1\\textbackslash{}xf5 \\textbackslash{}xb2\\textbackslash{}xc0 \\textbackslash{}xb9\\textbackslash{}u07beƵμ\\textbackslash{}xbc\\textbackslash{}xbf\\textbackslash{}xe4 2013-04-22 6941'\n\\item '325 \\textbackslash{}xb5\\textbackslash{}xee\\textbackslash{}xbb\\textbackslash{}xeaȭ ǰ\\textbackslash{}xc1\\textbackslash{}xfa\\textbackslash{}xbaҷ\\textbackslash{}xae\\textbackslash{}xc0\\textbackslash{}xcc 78.8\\%\\textbackslash{}xb8\\textbackslash{}xa6 \\textbackslash{}xc2\\textbackslash{}xf7\\textbackslash{}xc1\\textbackslash{}xf6 2013-03-29 10751'\n\\item '324 \\textbackslash{}xbc\\textbackslash{}xba\\textbackslash{}xc7\\textbackslash{}xfc\\textbackslash{}xbc\\textbackslash{}xf6\\textbackslash{}xbc\\textbackslash{}xfa \\textbackslash{}xb0\\textbackslash{}xe8\\textbackslash{}xbe\\textbackslash{}xe0\\textbackslash{}xb1\\textbackslash{}xdd \\textbackslash{}xb9̹\\textbackslash{}xddȯ \\textbackslash{}xbb\\textbackslash{}xe7\\textbackslash{}xb7\\textbackslash{}xca \\textbackslash{}xb1\\textbackslash{}xde\\textbackslash{}xc1\\textbackslash{}xf5, \\textbackslash{}xbcҺ\\textbackslash{}xf1\\textbackslash{}xc0\\textbackslash{}xda \\textbackslash{}xc1\\textbackslash{}xd6\\textbackslash{}xc0\\textbackslash{}xc7 \\textbackslash{}xbf\\textbackslash{}xe4\\textbackslash{}xb8\\textbackslash{}xc1! 2013-03-27 10980'\n\\item '323 \\textbackslash{}xb8\\textbackslash{}xedǰ\\textbackslash{}xc0\\textbackslash{}xaf\\textbackslash{}xbb\\textbackslash{}xe7 ¦\\textbackslash{}xc5\\textbackslash{}xfc \\textbackslash{}xc6Ǹ\\textbackslash{}xc5 \\textbackslash{}xbc\\textbackslash{}xee\\textbackslash{}xc7θ\\textbackslash{}xf4 \\textbackslash{}xa1\\textbackslash{}xae\\textbackslash{}xb7\\textbackslash{}xb0\\textbackslash{}xbd\\textbackslash{}xba\\textbackslash{}xbdŵ\\textbackslash{}xf0\\textbackslash{}xa1\\textbackslash{}xaf \\textbackslash{}xc1\\textbackslash{}xd6\\textbackslash{}xc0\\textbackslash{}xc7 \\textbackslash{}xbf\\textbackslash{}xe4\\textbackslash{}xb8\\textbackslash{}xc1 2013-03-15 13299'\n\\end{enumerate*}\n",
            "text/markdown": "1. '423 \\xc0ڵ\\xbf\\xc2\\xf7\\xc1\\xa4\\xba\\xf1, \\xbc\\U{1b8bba}ҷ\\xae\\xa1\\xa4\\xbaδ\\xe7\\xbc\\U{1b8bba}\\xf1 û\\xb1\\xb8 \\xb5\\xee \\xbcҺ\\xf1\\xc0ںҸ\\xb8 \\xb8\\xb9\\xbe\\xc6 2016-04-01 482'\n2. <span style=white-space:pre-wrap>'422 \\xbbڶ\\xec \\xbc\\xba\\xc7\\xfc\\xbdü\\xfa \\xc8\\xc4 \\xbf\\xb0\\xc1\\U{161934}\\xab\\xb2\\xa8Ǯ ó\\xc1\\xfc \\xb5\\xee \\xba\\xce\\xc0ۿ\\xeb ȣ\\xbc\\xd2 \\xb8\\xb9\\xbe\\xc6  2016-02-02 3226'</span>\n3. '421 \\xb9\\xe6\\xbc\\xf6\\xc6\\xd1 \\xbb\\xe7\\xbf\\xeb \\xb0\\xfc\\xb7\\xc3 \\xc7\\xc7\\xc7ؿ\\xb9\\xb9\\xe6 \\xc1\\xd6\\xc0Ǻ\\xb8 2015-09-18 5650'\n4. '420 \\xbeȰ\\xfa \\xb0\\xfc\\xb7\\xc3 \\xbcҺ\\xf1\\xc0\\xda\\xc7\\xc7\\xc7\\xd8, \\xa1\\xae\\xb9鳻\\xc0塯\\xb5\\xee \\xb3\\xeb\\xc0μ\\xba \\xc1\\xfaȯ \\xba\\xce\\xc0ۿ\\xeb \\xb8\\xb9\\xbe\\xc6 2015-09-04 7683'\n5. '419 \\xc7ؿܱ\\xb8\\xb8Ŵ\\xeb\\xc7\\xe0 \\xc0\\xce\\xc5ͳݼ\\xee\\xc7θ\\xf4 \\xc7\\xc7\\xc7\\xd8 \\xc1\\xd6\\xc0\\xc7 2015-08-28 7162'\n6. '418 \\xc7ؿܱ\\xb8\\xb8Ŵ\\xeb\\xc7\\xe0 \\xc0\\xce\\xc5ͳݼ\\xee\\xc7θ\\xf4 \\xc7\\xc7\\xc7\\xd8 \\xc1\\xd6\\xc0\\xc7 2015-08-25 5693'\n7. '417 \\xbc\\xbcŹ\\xbcҿ\\xa1\\xbc\\xad \\xc8Ѽյ\\xc8 \\xbc\\xbcŹ\\xb9\\xb0 10\\xb0\\xc7 \\xc1\\xdf 3\\xb0\\xc7\\xc0\\xba ǰ\\xc1\\xfa \\xc7\\xcf\\xc0ڰ\\xa1 \\xbf\\xf8\\xc0\\xce 2015-08-13 4466'\n8. '416 \\xbf\\xa9\\xb8\\xa7 \\xc8ް\\xa1ö \\xb7\\xbb\\xc5\\xcdī \\xc0̿\\xeb \\xbd\\xc3 \\xbcҺ\\xf1\\xc0\\xda\\xc7\\xc7\\xc7\\xd8 \\xc1\\xd6\\xc0\\xc7 \\xc7ϼ\\xbc\\xbf\\xe4 ! 2015-08-11 4354'\n9. '415 \\xc0ڵ\\xbf\\xc2\\xf7 \\xbc\\xbc\\xc2\\xf7 \\xbd\\xc3 \\xc2\\xf7\\xb7\\xae \\xbcջ\\xf3 \\xc1\\xd6\\xc0\\xc7 \\xc7ϼ\\xbc\\xbf\\xe4! 2015-07-10 4919'\n10. '414 \\xc4ܵ\\xb5ȸ\\xbf\\xf8\\xb1\\xc7 \\xc6Ǹ\\xc5 \\xbb\\xf3\\xbc\\xfa \\xb0\\xa5\\xbc\\xf6\\xb7\\xcf \\xc1\\xf6\\xb4\\xc9ȭ\\xb5ǰ\\xed \\xc0־\\xee \\xc1\\xd6\\xc0\\xc7 \\xbf\\xe4\\xb8\\xc1 2015-05-22 6675'\n11. '413 \\xc7Ǻΰ\\U{38bbcb7a}\\xf1\\xbd\\xba \\xb9\\xab\\xb7\\xe1 ü\\xc7\\xe8\\xc0\\xbb \\xba\\xf9\\xc0\\xda\\xc7\\xd1 ȭ\\xc0\\xe5ǰ \\xc6Ǹ\\xc5 \\xc7\\xc7\\xc7\\xd8 \\xc1\\xf6\\xbc\\xd3\\xc0\\xfb \\xb9\\u07fb\\xfd 2015-05-19 5763'\n12. '412 \\xbe\\xee\\xb9\\xf6\\xc0̳\\xaf \\xbeյΰ\\xed \\xbe˶\\xe3\\xc6\\xf9 \\xb1\\xb8\\xb8\\xc5 \\xc7\\xc7\\xc7\\xd8\\xc1\\xd6\\xc0Ǻ\\xb8 \\xb9߷\\xc9, \\xc0\\xfcü \\xc7\\xc7\\xc7\\xd8\\xc0\\xda 60%\\xb0\\xa1 60\\xb4\\xeb \\xc0̻\\xf3 2015-05-06 7283'\n13. '411 ġ\\xbeƺ\\xb8\\xc7\\xe8 \\xb0\\xfc\\xb7\\xc3 \\xbcҺ\\xf1\\xc0\\xda\\xc7\\xc7\\xc7\\xd8 \\xb8ų\\xe2 \\xc1\\xf5\\xb0\\xa1 2015-04-29 6988'\n14. '410 \\xc1߰\\xed\\xc2\\xf7 \\xbc\\xba\\xb4\\xc9\\xc1\\xa1\\xb0\\xcb \\xb3\\xbb\\xbf\\xeb\\xc0\\xcc \\xbd\\xc7\\xc1\\xa6 \\xc2\\xf7\\xb7\\xae \\xbb\\xf3\\xc5¿\\xcd \\xb4ٸ\\xa5 \\xb0\\xe6\\xbf\\xec \\xb8\\xb9\\xbe\\xc6 2015-04-22 8486'\n15. '409 \\xbe\\xcf \\xbf\\xc0\\xc1\\xf8 \\xc1\\xdf \\xc6\\xf3\\xbe\\xcf \\xbf\\xc0\\xc1\\xf8 \\xc7\\xc7\\xc7\\xd8 \\xb0\\xa1\\xc0\\xe5 \\xb8\\xb9\\xbe\\xc6 2015-04-20 6950'\n16. '408 \\xbf¶\\xf3\\xc0\\xce\\xc0\\xb8\\xb7\\xce \\xb1\\xb8\\xb8\\xc5\\xc7\\xd1 \\xb0\\xa1\\xb1\\xb8 \\xc7\\xc7\\xc7غ\\xf1\\xc0\\xb2 \\xb8ų\\xe2 \\xbb\\xf3\\xbd\\xc2 2015-04-01 6542'\n17. '407 \\xc2\\U{1f7bbf}\\xeb \\xba\\xed\\xb7\\xa2\\xb9ڽ\\xba \\xa1\\xae\\xb9\\xab\\xb7\\xe1\\xc0\\xe5\\xc2\\xf8\\xa1\\xaf \\xba\\xf9\\xc0\\xda\\xc7\\xd1 \\xbe\\xe4ü\\xbb\\xf3\\xbc\\xfa \\xc1\\xd6\\xc0\\xc7! 2015-03-06 9268'\n18. '406 \\xc0\\xce\\xc5ͳݱ\\xb3\\xc0\\xb0\\xbc\\xad\\xba\\xf1\\xbd\\xba \\xbcҺ\\xf1\\xc0\\xda \\xc7\\xc7\\xc7ؿ\\xb9\\xb9\\xe6\\xc1\\xd6\\xc0Ǻ\\xb8 2015-02-11 5939'\n19. '405 \\xb4\\xab\\xa1\\xa4\\xc4\\xda \\xbc\\xba\\xc7\\xfc\\xbc\\xf6\\xbc\\xfa, \\xa1\\xae\\xba\\xf1\\xb4\\xebĪ\\xa1\\xaf \\xba\\xce\\xc0ۿ\\xeb \\xb8\\xb9\\xbe\\xc6 2015-02-10 7961'\n20. '404 \\xb5\\xbf\\xbe\\xe7\\xbf\\xfe\\xb5\\xf9\\xbe\\xd8\\xc7\\xe3\\xb4Ϲ\\xae \\xbcҺ\\xf1\\xc0\\xda\\xc7\\xc7\\xc7\\xd8 \\xb9\\u07fb\\xfd \\xb9\\xd7 \\xc0\\xaf\\xc0ǻ\\xe7\\xc7\\xd7 \\xbeȳ\\xbb 2015-01-12 6139'\n21. '403 \\xc0̻\\xe7ȭ\\xb9\\xb0\\xbc\\xad\\xba\\xf1\\xbd\\xba \\xbcҺ\\xf1\\xc0\\xda\\xc7\\xc7\\xc7ؿ\\xb9\\xb9\\xe6\\xc1\\xd6\\xc0Ǻ\\xb8 2014-11-26 7991'\n22. '402 \\xb1\\xb9\\xb3\\xbb \\xb0\\xe1ȥ\\xc1߰\\xb3 \\xb0\\xfc\\xb7\\xc3 \\xbcҺ\\xf1\\xc0\\xda\\xc7\\xc7\\xc7\\xd8, 2\\xb0\\xc7 \\xc1\\xdf 1\\xb0\\xc7\\xc0\\xba \\xbaҼ\\xba\\xbd\\xc7 \\xbcҰ\\xb3 2014-11-13 8514'\n23. '401 \\xb8ų\\xe2 \\xc1\\xf5\\xb0\\xa1\\xc7ϴ\\xc2 \\xc7װ\\xf8\\xbc\\xad\\xba\\xf1\\xbd\\xba \\xc7\\xc7\\xc7\\xd8, 10\\xb0\\xc7 \\xc1\\xdf 7\\xb0\\xc7\\xc0\\xba \\xbfܱ\\xb9 \\xc7װ\\xf8\\xbb\\xe7 \\xc7\\xc7\\xc7\\xd8 2014-11-06 5433'\n24. '400 \\xb0\\xd4\\xc0Ӽ\\xad\\xba\\xf1\\xbd\\xba, \\xb9̼\\xba\\xb3\\xe2\\xc0\\xda \\xb0\\xe1\\xc1\\xa6 \\xc3\\xeb\\xbc\\xd2 \\xb0\\xfc\\xb7\\xc3 \\xbaҸ\\xb8 \\xb8\\xb9\\xbe\\xc6 2014-10-14 5856'\n25. '399 \\xc5\\xeb\\xbd\\xc5\\xc6Ǹž\\xf7ü \\xa1\\xae\\xa2߳\\xaa\\xc0̽\\xba\\xc0\\xfc\\xc0ڡ\\xaf \\xb9\\xe8\\xbc\\xdb\\xc1ߴ\\xdc \\xc7\\xc7\\xc7\\xd8 \\xb4ٹ\\xdf 2014-10-14 4242'\n26. '398 \\xb0\\xa1\\xc0\\xbbö \\xc1߰\\xed\\xc2\\xf7 \\xb1\\xb8\\xc0\\xd4 \\xbd\\xc3 \\xa1\\xaeħ\\xbc\\xf6\\xa1\\xaf \\xbf\\xa9\\xba\\xce \\xb2Ĳ\\xc4\\xc8\\xf7 \\xbb\\xec\\xc6\\xec\\xba\\xc1\\xbe\\xdf 2014-10-13 3770'\n27. '397 \\xa1\\xae\\xc4ܼ\\xadƮ \\xb5\\xee \\xb0\\xf8\\xbf\\xac\\xb0\\xfc\\xb6\\xf7 \\xbcҺ\\xf1\\xc0\\xda \\xc7\\xc7\\xc7\\xd8 \\xc1\\xd6\\xc0ǡ\\xaf \\xb0溸\\xb9߷\\xc9 2014-10-02 4290'\n28. <span style=white-space:pre-wrap>'396 \\xc7Ѱ\\xa1\\xc0\\xa7 \\xc3\\u07fc\\xae\\xb8\\xed\\xc0\\xfd, \\xc0ڵ\\xbf\\xc2\\xf7 \\xb0\\xdf\\xc0ν\\xc3 \\xa1\\xae\\xbdŰ\\xed\\xb5\\xc8 \\xbf\\xee\\xc0ӡ\\xa4\\xbf\\xe4\\xb1ݡ\\xaf\\xc0\\xbb \\xb2\\xc0 Ȯ\\xc0\\xce\\xc7ϼ\\xbc\\xbf\\xe4 ! 2014-08-26  3373'</span>\n29. '395 \\xc7Ǻ\\xce \\xb9̿\\xeb\\xbdü\\xfa, \\xc7Ǻΰ\\xfa \\xc0\\xfc\\xb9\\xae\\xc0\\xc7 \\xbc\\xb3\\xb8\\xed \\xc3\\xe6\\xba\\xd0\\xc8\\xf7 \\xb5\\xe8\\xb0\\xed \\xb0\\xe8\\xbe\\xe0\\xc7ϼ\\xbc\\xbf\\xe4! 2014-08-19 5417'\n30. '394 \\xb0\\xfa\\xb5\\xb5\\xc7\\xd1 \\xc7\\xd2\\xc0Ρ\\xa4\\xbb\\xe7\\xc0\\xbaǰ \\xc7\\xf6Ȥ \\xc0\\xe5\\xb1\\xe2 \\xb0\\xe8\\xbcӰŷ\\xa1 \\xb0\\xe8\\xbe\\xe0 \\xc1\\xd6\\xc0\\xc7 2014-08-11 3941'\n31. '393 \\xb7\\xbb\\xc5\\xcdī, \\xbe\\xe0\\xb0\\xfc\\xc0\\xba \\xb9\\xb0\\xb7\\xd0 \\xc2\\xf7\\xb7\\xae \\xbb\\xf3\\xc5\\xc2 \\xb2\\xc0 Ȯ\\xc0\\xce\\xc7ϰ\\xed \\xb0\\xe8\\xbe\\xe0\\xc7ϼ\\xbc\\xbf\\xe4 ! 2014-08-01 3655'\n32. '392 \\xc6\\xe6\\xbc\\xc7 \\xb0\\xe8\\xbe\\xe0\\xbd\\xc3 ȯ\\xbaұ\\xd4\\xc1\\xa4 \\xb9ݵ\\xe5\\xbd\\xc3 Ȯ\\xc0\\xce\\xc7ϼ\\xbc\\xbf\\xe4! 2014-07-14 18424'\n33. '391 ȣ\\xc5ڿ\\xb9\\xbe\\xe0 \\xb4\\xeb\\xc7\\xe0\\xbb\\xe7\\xc0\\xccƮ \\xbcҺ\\xf1\\xc0\\xda\\xc7\\xc7\\xc7\\xd8 \\xc1\\xd6\\xc0\\xc7\\xc7ϼ\\xbc\\xbf\\xe4 2014-07-11 4121'\n34. '390 \\xb9ݷ\\xc1\\xb5\\xbf\\xb9\\xb0, \\xc6\\xf3\\xbb硤\\xc1\\xfa\\xba\\xb4 \\xb0\\xfc\\xb7\\xc3 \\xbcҺ\\xf1\\xc0\\xda\\xc7\\xc7\\xc7\\xd8 \\xb8\\xb9\\xc1\\xf6\\xb8\\xb8 \\xba\\xb8\\xbb\\xf3\\xb9ޱ\\xe2\\xb4\\xc2 \\xbe\\xee\\xb7\\xc1\\xbf\\xf6 2014-06-18 4199'\n35. '389 \\xc0Ƿ\\xf9\\xa1\\xa4\\xbdŹ\\xdf \\xc0\\xce\\xc5ͳݼ\\xee\\xc7θ\\xf4 \\xc6ǸŻ\\xe7\\xbe\\xf7\\xc0\\xda û\\xbe\\xe0öȸ \\xb0źη\\xce \\xc7\\xc7\\xc7\\xd8 \\xbdɰ\\xa2 2014-06-10 4805'\n36. '388 \\xb9\\xab\\xb7\\xe1 \\xc4ܵ\\xb5ȸ\\xbf\\xf8\\xb1\\xc7 \\xb4\\xe7÷\\xa1\\xa4ȫ\\xba\\xb8\\xb4\\xeb\\xbb\\xe7 \\xbc\\xb1\\xc1\\xa4 \\xc0\\xfcȭ \\xc1\\xb6\\xbd\\xc9\\xc7ϼ\\xbc\\xbf\\xe4 2014-06-10 5688'\n37. '387 \\xc7ｺ\\xa1\\xa4\\xc7\\xc7Ʈ\\xb4Ͻ\\xba \\xb0\\xe8\\xbe\\xe0 \\xbd\\xc3 ȯ\\xbaұ\\xd4\\xc1\\xa4 \\xc1\\xd6\\xc0\\xc7\\xc7ؾ\\xdf 2014-06-03 8752'\n38. '386 \\xbd\\xc5ȥ\\xbf\\xa9\\xc7\\xe0 \\xb0\\xe8\\xbe\\xe0 \\xbd\\xc3 Ư\\xbe\\xe0 \\xbb\\xe7\\xc7\\xd7 \\xb2Ĳ\\xc4\\xc8\\xf7 Ȯ\\xc0\\xce\\xc7ϼ\\xbc\\xbf\\xe4 2014-05-26 3561'\n39. '385 \\xbdŹ\\xae \\xb1\\xa4\\xb0\\xed \\xc5\\xeb\\xbd\\xc5\\xc6Ǹ\\xc5 \\xbe\\xf7ü \\xa1\\xae\\xbeֵ\\xe5\\xc4\\xc4\\xc4ڸ\\xae\\xbeơ\\xaf \\xbcҺ\\xf1\\xc0\\xda \\xc7\\xc7\\xc7\\xd8\\xc1\\xd6\\xc0\\xc7 2014-05-19 3218'\n40. '384 \\xc8\\u07b4\\xeb\\xc6\\xf9 \\xbcҾװ\\xe1\\xc1\\xa6 \\xc7\\xc7\\xc7\\xd8, \\xb8ų\\xe2 2\\xb9\\xe8 \\xc0̻\\xf3 \\xc1\\xf5\\xb0\\xa1!! 2014-05-14 4318'\n41. '383 \\xbe˶\\xe3\\xc6\\xf9 \\xbe\\xbd\\xc5 \\xb0\\xa1\\xc0\\xd4 \\xbd\\xc3 \\xb0\\xe8\\xbe\\xe0\\xc1\\xb6\\xb0\\xc7 \\xb2Ĳ\\xc4\\xc8\\xf7 Ȯ\\xc0\\xce\\xc7ϼ\\xbc\\xbf\\xe4! 2014-05-13 4199'\n42. '382 \\xb0\\xe1ȥ\\xc1\\xa4\\xba\\xb8\\xbe\\xf7ü \\xbcҺ\\xf1\\xc0\\xda \\xc7\\xc7\\xc7\\xd8\\xc1\\xd6\\xc0\\xc7 2014-04-21 4484'\n43. '381 \\xb9\\xab\\xb7\\xe1 \\xbeƴ\\xd1 \\xb9\\xab\\xb7\\xe1\\xc3Կ\\xb5\\xb1\\xc7, \\xbeƱ⼺\\xc0\\xe5\\xbeٹ\\xfc \\xb0\\xe8\\xbe\\xe0 \\xc1\\xd6\\xc0\\xc7\\xc7ؾ\\xdf 2014-04-15 5030'\n44. '380 \\xbc\\xbcŹ\\xbcҿ\\xa1 \\xb8ñ\\xe4 \\xc8\\xc4 \\xbcջ\\xf3\\xb5ǰ\\xed \\xbaн\\xc7 \\xc0\\xe6\\xbe\\xc6 2014-04-14 3662'\n45. '379 \\xc0\\xce\\xc5\\u05f8\\xae\\xbe\\xbc\\xb3\\xba\\xf1 \\xb0\\xf8\\xbb\\xe7 \\xc7\\xcf\\xc0\\xda \\xb9\\u07fb\\xfd\\xbf\\xa1 \\xb4\\xeb\\xc7\\xd1 \\xbb\\xe7\\xc8ĺ\\xb8\\xc1\\xf5 \\xb9ޱ\\xe2 \\xbe\\xee\\xb7\\xc1\\xbf\\xf6 2014-03-28 6922'\n46. '378 \\xc0ڵ\\xbf\\xc2\\xf7 \\xc1\\xa4\\xba\\xf1 \\xb0\\xfc\\xb7\\xc3 \\xbcҺ\\xf1\\xc0\\xda \\xc7\\xc7\\xc7\\xd8 \\xb8ų\\xe2 200\\xb0\\xc7 \\xc0̻\\xf3 \\xb9\\u07fb\\xfd 2014-03-25 4505'\n47. '377 \\xbf\\xb9\\xbd\\xc4\\xc0\\xe5, \\xbcҺ\\xf1\\xc0\\xda\\xc0\\xc7 \\xb0\\xe8\\xbe\\xe0\\xb1\\xdd ȯ\\xb1\\xde \\xbf\\xe4û \\xb8\\U{0388fc}\\xe8\\xb7\\xce \\xc0ϰ\\xfc 2014-03-20 4145'\n48. '376 \\xbfܱ\\xb9\\xb0\\xe8 \\xc0\\xfa\\xba\\xf1\\xbf\\xeb\\xc7װ\\xf8 \\xb0\\xfc\\xb7\\xc3 \\xbcҺ\\xf1\\xc0\\xda \\xc7\\xc7\\xc7\\xd8 \\xb1\\xde\\xc1\\xf5 2014-02-28 3957'\n49. '375 \\xc7ؿܿ\\xac\\xbc\\xf6, \\xb0\\xe8\\xbe\\xe0\\xc7\\xd8\\xc1\\xa6 \\xbd\\xb1\\xc1\\xf6 \\xbeʰ\\xed \\xbd\\xc7\\xc1\\xa6 \\xbf\\xac\\xbc\\xf6 \\xb3\\xbb\\xbf뵵 \\xb4\\u07b6\\xf3 2014-02-20 3116'\n50. '374 \\xb5\\xb9\\xc0\\xdcġ, \\xc0ϴ\\xdc \\xb0\\xe8\\xbe\\xe0\\xc7ϸ\\xe9 2\\xb0\\xb3\\xbf\\xf9 \\xc0\\xfc\\xbf\\xa1\\xb5\\xb5 \\xc7ؾ\\xe0\\xc7ϱ\\xe2 \\xbe\\xee\\xb7\\xc1\\xbf\\xf6 2014-02-14 4498'\n51. '373 \\xc0Ƿ\\xf9.\\xbdŹ\\xdf \\xb5\\xee ǰ\\xc1\\xfa\\xc7\\xcf\\xc0\\xda 46.2% \\xb4\\xde\\xc7\\xd8 2014-02-10 4389'\n52. '372 \\xa1\\xae\\xb0\\xe8\\xbe\\xe0\\xc7\\xd8\\xc1\\xa6\\xa1\\xa4\\xc7\\xd8\\xc1\\xf6 \\xb0\\xc5\\xc0\\xfd\\xa1\\xaf, \\xa1\\xaeǰ\\xc1\\xfa\\xa1\\xa4A/S\\' \\xc7\\xc7\\xc7ذ\\xa1 \\xb0\\xa2\\xb0\\xa2 37.9%\\xb7\\xce \\xb0\\xa1\\xc0\\xe5 \\xb8\\xb9\\xbe\\xc6 2013-12-31 4552'\n53. '371 \\xc0̻\\xe7\\xc7\\xc7\\xc7\\xd8, 10\\xb0\\xc7\\xc1\\xdf 7\\xb0\\xc7\\xc0\\xba \\xc0̻\\xf1\\xc1\\xfc \\xc8Ѽա\\xa4\\xc6ļ\\xd5 \\xc7\\xc7\\xc7\\xd8 2013-12-31 4445'\n54. '370 \\xb0\\xe1ȥ \\xbf\\xb9\\xbdġ\\xa4\\xc1غ\\xf1\\xb4\\xeb\\xc7\\xe0 \\xbc\\xad\\xba\\xf1\\xbd\\xba \\xb0\\xe8\\xbe\\xe0\\xc7\\xd8\\xc1\\xa6 \\xbe\\xee\\xb7\\xc1\\xbf\\xf6 2013-12-31 3510'\n55. '369 \\xb4ٴܰ\\xe8\\xc6Ǹ\\xc5 \\xc7\\xc7\\xc7\\xd8 \\xbb\\xf3\\xb4\\xe3, \\xc3ֱ\\xd9 3\\xb3\\xe2 \\xbb\\xf5 \\xb5\\xce \\xb9\\xe8 \\xc0̻\\xf3 \\xc1\\xf5\\xb0\\xa1 2013-12-31 3433'\n56. '368 \\xbc\\xba\\xc7\\xfc\\xbc\\xf6\\xbc\\xfa \\xbcҺ\\xf1\\xc0ڻ\\xf3\\xb4\\xe3, \\xa1\\xae\\xb0\\xe8\\xbe\\xe0\\xc7\\xd8\\xc1\\xa6\\xa1\\xa4\\xc7\\xd8\\xc1\\xf6 \\xb0\\xc5\\xc0\\xfd\\xa1\\xaf \\xbaҸ\\xb8\\xc0\\xcc 29.3%\\xb7\\xce \\xb0\\xa1\\xc0\\xe5 \\xb8\\xb9\\xbe\\xc6 2013-12-31 3621'\n57. '367 \\xbaο\\xef\\xb0\\xe6, \\xb4\\xeb\\xba\\xce(\\xbe\\xf7)\\xb4\\xeb\\xc3\\xe2 \\xb0\\xfc\\xb7\\xc3 \\xbcҺ\\xf1\\xc0ڻ\\xf3\\xb4\\xe3 \\xb8ų\\xe2 \\xb2\\xd9\\xc1\\xd8\\xc8\\xf7 \\xb9\\u07fb\\xfd 2013-12-31 2546'\n58. '366 \\xc3\\u07fc\\xae \\xb8\\xed\\xc0\\xfd, \\xc0\\xfc\\xc0ڻ\\xf3\\xb0ŷ\\xa1 \\xbcҺ\\xf1\\xc0\\xda\\xc7\\xc7\\xc7\\xd8 \\xc1\\xd6\\xc0Ǻ\\xb8 2013-12-24 3734'\n59. '365 \\xb0\\xad\\xbf\\xf8\\xb5\\xb5, \\xb0\\xed\\xb7ɼҺ\\xf1\\xc0\\xda \\xc7\\xc7\\xc7\\xd8, \\xc1\\U{1bfaba}\\xb0 \\xbc\\xf8\\xc0\\xa7 3\\xc0\\xa7\\xb7\\xce \\xb8\\xb9\\xbe\\xc6 2013-12-23 2683'\n60. '364 \\xb0\\xad\\xbf\\xf8\\xc1\\xf6\\xbf\\xaa \\xc1߰\\xed\\xc0ڵ\\xbf\\xc2\\xf7, \\xbc\\xba\\xb4ɡ\\xa4\\xbb\\xf3\\xc5\\xc2\\xc1\\xa1\\xb0˱\\xe2\\xb7Ϻο\\xcd \\xb4ٸ\\xa3\\xb4ٴ\\xc2 \\xbaҸ\\xb8 \\xb8\\xb9\\xbe\\xc6 2013-12-23 4832'\n61. '363 \\xc0\\xfa\\xb0\\xa1 \\xc4ܵ\\xb5ȸ\\xbf\\xf8\\xb1\\xc7 \\xb0\\xfc\\xb7\\xc3 \\xbcҺ\\xf1\\xc0\\xda\\xc7\\xc7\\xc7\\xd8 \\xb2\\xd9\\xc1\\xd8\\xc8\\xf7 \\xb9\\u07fb\\xfd 2013-12-23 2919'\n62. '362 \\xb8\\xf0\\xb9\\xd9\\xc0ϰ\\xd4\\xc0\\xd3, \\xbaθ\\xf0 \\xb5\\xbf\\xc0\\xc7 \\xbe\\xf8\\xb4\\xc2 \\xb9̼\\xba\\xb3\\xe2\\xc0\\xda \\xb0\\xe1\\xc1\\xa6 \\xc7\\xc7\\xc7\\xd8 \\xb8\\xb9\\xbe\\xc6 2013-12-10 4524'\n63. '361 \\xbb\\xf3\\xc1\\xb6\\xbc\\xad\\xba\\U{07debe}\\xf7ü, \\xbcҺ\\xf1\\xc0\\xda\\xc7\\xc7\\xc7ؿ\\xa1 \\xb3\\xaa \\xb8\\xf4\\xb6\\xf3\\xb6\\xf3 2013-12-09 3578'\n64. '360 \\xc0\\xce\\xc5ͳݱ\\xb3\\xc0\\xb0\\xbc\\xad\\xba\\xf1\\xbd\\xba \\xc1ߵ\\xb5\\xc7\\xd8\\xc1\\xf6 \\xbd\\xc3, \\xb0\\xfa\\xb4\\xd9 \\xc0\\xa7\\xbe\\xe0\\xb1\\xdd û\\xb1\\xb8 \\xc7\\xc7\\xc7\\xd8 \\xb8\\xb9\\xbe\\xc6 2013-12-05 3394'\n65. '359 \\xc1߰\\xed\\xc2\\xf7 \\xbc\\xba\\xb4ɡ\\xa4\\xbb\\xf3\\xc5\\xc2\\xc1\\xa1\\xb0˱\\xe2\\xb7Ϻ\\xce, \\xbd\\xc7\\xc1\\xa6 \\xc2\\U{1f7bb0}\\xfa \\xb4\\u07b6\\xf3 \\xc7\\xc7\\xc7\\xd8 \\xba\\xf3\\xb9\\xdf 2013-12-05 4357'\n66. '358 2012\\xb3\\xe2 ȣ\\xb3\\xb2\\xa4\\xfd\\xc1\\xa6\\xc1\\xd6\\xc1\\xf6\\xbf\\xaa \\xb9湮\\xc6Ǹ\\xc5 \\xb0\\xfc\\xb7\\xc3 \\xc7\\xc7\\xc7\\xd8 33.8% \\xc1\\xf5\\xb0\\xa1 2013-12-05 2400'\n67. '357 \\xc6\\xf7\\xc0\\xe5\\xc0̻\\xe7 \\xbc\\xad\\xba\\xf1\\xbd\\xba \\xbe\\xf7ü, 60% \\xc0̻\\xf3\\xc0\\xba \\xbcҺ\\xf1\\xc0\\xda \\xc7\\xc7\\xc7ؿ\\xa1 \\'\\xb8\\U{0388fc}\\xe8\\' 2013-11-27 3799'\n68. '356 \\xc0\\xfc\\xb1\\xe2\\xc0\\xe5\\xc6\\xc7 ȭ\\xc0硤ȭ\\xbb\\xf3 \\xc1\\xd6\\xc0\\xc7\\xc7ϼ\\xbc\\xbf\\xe4! 2013-11-21 4141'\n69. '355 \\xc7ؿ\\xdc \\xb1\\xb8\\xb8\\xc5 \\xb4\\xeb\\xc7\\xe0\\xc0\\xb8\\xb7\\xce \\xc1\\xa6ǰ \\xb1\\xb8\\xc0\\xd4 \\xbd\\xc3 \\xc1\\xd6\\xc0\\xc7\\xc7ϼ\\xbc\\xbf\\xe4 2013-11-14 5177'\n70. '354 ǰ\\xc1\\xfa\\xbaҷ\\xae\\xa1\\xa4\\xb0\\xe8\\xbe\\xe0\\xba\\xd2\\xc0\\xcc\\xc7\\xe0 \\xb5\\xee \\xb0\\xa1\\xb1\\xb8 \\xb0\\xfc\\xb7\\xc3 \\xbcҺ\\xf1\\xc0\\xda\\xc7\\xc7\\xc7\\xd8 \\xbdɰ\\xa2! 2013-11-13 4581'\n71. '353 \\xb4\\xeb\\xc0\\xfc\\xa1\\xa4\\xc3\\xe6û\\xc1\\xf6\\xbf\\xaa \\xc8\\u07b4\\xeb\\xc6\\xf9 \\xbcҾװ\\xe1\\xc1\\xa6, \\xbb\\xe7\\xbf\\xeb\\xc7\\xcf\\xc1\\xf6 \\xbe\\xca\\xc0\\xba \\xbf\\xe4\\xb1\\xdd \\xb0\\xe1\\xc1\\xa6 \\xc7\\xc7\\xc7\\xd8 \\xb8\\xb9\\xbe\\xc6 2013-11-05 3661'\n72. '352 \\xc3ʰ\\xed\\xbc\\xd3\\xc0\\xce\\xc5ͳݼ\\xad\\xba\\xf1\\xbd\\xba, \\xc7\\xd8\\xc1\\xf6ó\\xb8\\xae \\xb4\\xa9\\xb6\\xf4 \\xc7\\xc7\\xc7\\xd8 \\xb0\\xa1\\xc0\\xe5 \\xb8\\xb9\\xbe\\xc6 2013-11-04 4828'\n73. '351 \\xbeϺ\\xb8\\xc7\\xe8, \\xba\\xb8\\xc7\\xe8\\xb1\\xdd\\xc1\\xf6\\xb1\\xde \\xb0\\xfc\\xb7\\xc3 \\xba\\xd0\\xc0\\xef 90% \\xc0̻\\xf3 2013-10-30 7141'\n74. '350 ġ\\xb0\\xfa\\xba\\xd0\\xc0\\xef \\xc0\\xd3\\xc7ö\\xf5Ʈ\\xb0\\xa1 \\xb0\\xa1\\xc0\\xe5 \\xb8\\xb9\\xbe\\xc6 2013-10-29 5091'\n75. '349 \\xbfȭ ǰ\\xc1\\xfa\\xc7\\xcf\\xc0\\xda \\xb5\\xee \\'\\xb3\\xbb\\xb1\\xb8\\xbc\\xba \\xbaҷ\\xae\\'\\xc0\\xcc 80.2%\\xb7\\xce \\xb0\\xa1\\xc0\\xe5 \\xb8\\xb9\\xbe\\xc6 2013-10-02 7209'\n76. '348 ħ\\xbc\\xf6 \\xc1߰\\xed \\xc0ڵ\\xbf\\xc2\\xf7 \\xbcҺ\\xf1\\xc0\\xda \\xbb\\xf3\\xb4\\xe3 \\xb8ų\\xe2 \\xc1\\xf5\\xb0\\xa1 2013-09-17 5428'\n77. '347 \\xc5ù\\xe8 \\xbaҸ\\xb8, \\'\\xc4\\xc9\\xc0\\xcc\\xc1\\U{1bfef7}ο\\xecĸ\\', \\'KGB\\xc5ù\\xe8\\' \\xbc\\xf8\\xc0\\xb8\\xb7\\xce \\xb3\\xf4\\xbe\\xc6 2013-09-09 8311'\n78. '346 \\xb3\\xb2\\xbc\\xba\\xbf\\xeb \\xbc\\xba\\xb1\\xe2\\xb4\\xc9 \\xc7\\xe2\\xbb\\xf3\\xb1\\xe2\\xb1\\xe2, \\xb9\\xab\\xc7㰡 \\xc1\\xa6ǰ \\xc1\\xd6\\xc0\\xc7\\xc7ϼ\\xbc\\xbf\\xe4! 2013-09-05 6694'\n79. '345 \\xc4\\xdc\\xc5\\xd9\\xc3\\xf7\\xc0̿\\xeb\\xbb\\xe7\\xc0\\xccƮ, ȸ\\xbf\\xf8 \\xb0\\xa1\\xc0\\xd4 \\xba\\xf9\\xc0\\xda\\xc7\\xd1 \\xc0\\xaf\\xb7\\xe1\\xb0\\xe1\\xc1\\xa6 \\xc7\\xc7\\xc7\\xd8 \\xb1\\xde\\xc1\\xf5 2013-08-27 5336'\n80. '344 \\xbfܱ\\xb9\\xb0\\xe8 \\xc7װ\\xf8\\xbb\\xe7 \\xbcҺ\\xf1\\xc0\\xda\\xc7\\xc7\\xc7\\xd8 \\xc0\\xfc\\xb3\\xe2 \\xb4\\xeb\\xba\\xf1 ū \\xc6\\xf8 \\xc1\\xf5\\xb0\\xa1! 2013-08-20 5854'\n81. '343 \\xb4\\xeb\\xc0\\xfc \\xc3\\xe6û\\xc1\\xf6\\xbf\\xaa \\xc7ؿܿ\\xa9\\xc7\\xe0 \\xb0\\xfc\\xb7\\xc3 \\xbcҺ\\xf1\\xc0\\xda \\xc7\\xc7\\xc7\\xd8 \\xc1\\xf5\\xb0\\xa1 2013-08-02 4912'\n82. '342 \\xc2\\xf7\\xb7\\xae \\xb7\\xbbƮ\\xbd\\xc3 \\xc1\\xd6\\xc0\\xc7\\xc7ϼ\\xbc\\xbf\\xe4 2013-07-25 9007'\n83. '341 \\xc8\\u07b4\\xeb\\xc6\\xf9 \\xba\\xb8\\xc1\\xb6\\xb1\\xdd \\xc1\\xf6\\xbf\\xf8 \\xbe\\xe0\\xc1\\xa4 \\xba\\xd2\\xc0\\xcc\\xc7\\xe0 \\xc7\\xc7\\xc7\\xd8 \\xc1\\xd6\\xc0\\xc7 2013-07-23 7660'\n84. '340 \\xa1\\xb0\\xbf\\xa1\\xbe\\xee\\xc4\\xc1 \\xbc\\xb3ġ\\xbd\\xc3 \\xc1\\xd6\\xc0\\xc7\\xc7ϼ\\xbc\\xbf䡱 2013-07-23 7897'\n85. '339 \\xbdð\\xe8 \\xb1\\xb8\\xb8Ž\\xc3 \\xc1\\xd6\\xc0\\xc7\\xc7ϼ\\xbc\\xbf\\xe4! 2013-07-19 6810'\n86. '338 \\xc7ؿܿ\\xa9\\xc7\\xe0 \\xbd\\xc3 \\xbd\\xba\\xb8\\xb6Ʈ\\xc6\\xf9 \\xb5\\xa5\\xc0\\xcc\\xc5ͷιֿ\\xe4\\xb1\\xdd \\xc6\\xf8ź \\xc1\\xd6\\xc0\\xc7 2013-07-17 7507'\n87. '337 \\xbc\\xf6\\xb9鸸\\xbf\\xf8 \\xb4\\xeb\\xc0\\xc7 \\xc7Ǻΰ\\U{38bbcb7a}\\xf1\\xbd\\xba, \\xc1\\xa4\\xc0\\xdb \\xbcҺ\\xf1\\xc0ڰ\\xfc\\xb8\\xae\\xb4\\xc2 \\xbe\\xfb\\xb8\\xc1 2013-07-16 5125'\n88. '336 \\xc0\\xce\\xc5ͳݼ\\xee\\xc7θ\\xf4 \\xbb\\xe7\\xbe\\xf7\\xc0\\xda\\xc0\\xc7 û\\xbe\\xe0öȸ \\xbaδ\\xe7 \\xb0źη\\xce \\xc0\\xce\\xc7\\xd1 \\xbcҺ\\xf1\\xc0\\xda\\xc7\\xc7\\xc7\\xd8 \\xbdɰ\\xa2! 2013-07-12 6397'\n89. '335 (\\xc1\\xd6)\\xc7ѿ\\xb5\\xb0\\U{31930cf9}\\xdf \\xb0\\xe8\\xbe\\xe0\\xbd\\xc3 \\xc1\\xd6\\xc0\\xc7\\xc7ϼ\\xbc\\xbf\\xe4! 2013-07-10 5349'\n90. '334 \\xc7\\xc1\\xb6\\xf3\\xc0\\xd3 \\xbf\\xa1\\xb5\\xe0\\xc4\\xc9\\xc0̼\\xc7(\\xc1߰\\xed\\xbb\\xfd \\xb4\\xeb\\xbb\\xf3 \\xb0\\xfa\\xbf\\xdc \\xc1߰\\xb3\\xbe\\xf7ü) \\xb0\\xe8\\xbe\\xe0\\xbd\\xc3 \\xc1\\xd6\\xc0\\xc7\\xc7ϼ\\xbc\\xbf\\xe4! 2013-07-05 4222'\n91. '333 \\xbf䰡 \\xc0̿\\xeb \\xb0\\xfc\\xb7\\xc3 \\xbcҺ\\xf1\\xc0\\xda\\xc7\\xc7\\xc7\\xd8 \\xc1\\xd6\\xc0\\xc7! 2013-07-02 4649'\n92. '332 \\xb4\\xeb\\xc3\\xe2\\xb9\\xde\\xc0\\xb8\\xb7\\xc1\\xb4\\xd9 \\xc0̵\\xbf\\xc0\\xfcȭ \\xbf\\xe4\\xb1\\xdd\\xc6\\xf8ź \\xb8¾\\xc6 2013-06-26 4152'\n93. '331 \\xb7\\xbbŻ\\xc1\\xa4\\xbc\\xf6\\xb1\\xe2 \\xb0\\xe8\\xbe\\xe0\\xbd\\xc3 \\xc1\\xd6\\xc0\\xc7\\xc7ϼ\\xbc\\xbf\\xe4! 2013-06-24 7984'\n94. '330 \\xb0\\xed\\xb7\\xc9 \\xbcҺ\\xf1\\xc0\\xda \\xc7\\xc7\\xc7ػ\\xf3\\xb4\\xe3, \\xc0\\xfc\\xb3\\xe2 \\xb4\\xeb\\xba\\xf1 \\xbe\\xe0 40% \\xc1\\xf5\\xb0\\xa1 2013-06-13 4315'\n95. '329 \\xbf\\xb9\\xbd\\xc4\\xc0\\xe5 \\xb9\\xd7 \\xb0\\xe1ȥ\\xc1غ\\xf1\\xb4\\xeb\\xc7\\xe0\\xbe\\xf7\\xc0\\xda\\xc0\\xc7 \\xb0\\xe8\\xbe\\xe0\\xc7\\xd8\\xc1\\xa6 \\xb0\\xc5\\xc0\\xfd \\xc7\\xc7\\xc7\\xd8 \\xc1\\xd6\\xc0\\xc7 2013-05-27 5495'\n96. '328 \\xb9\\xab\\xb7\\xe1ü\\xc7\\xe8 \\xba\\xf9\\xc0\\xda\\xc7\\xd1 \\xb0ǰ\\xad\\xbd\\xc4ǰ \\xbe\\xe4ü\\xbb\\xf3\\xbc\\xfa \\xb1ؼ\\xba 2013-05-16 4230'\n97. '327 \\xbf\\xac\\xb1\\xe2\\xa4\\xfd\\xb8\\xf0\\xb5\\xa8\\xc7п\\xf8 \\xb0\\xe8\\xbe\\xe0 \\xb0\\xfc\\xb7\\xc3 \\xbcҺ\\xf1\\xc0\\xda \\xc7\\xc7\\xc7\\xd8 \\xc1\\xd6\\xc0\\xc7 2013-05-08 4667'\n98. '326 \\xbc\\xbcŹ\\xb9\\xb0\\xbaн\\xc7 2\\xb0\\xc7\\xc1\\xdf 1\\xb0\\xc7, \\xbc\\xbcŹ\\xbe\\xf7\\xc0\\xda \\xb3\\xaa \\xb8\\xf4\\xb6\\xf3\\xb6\\xf3! \\xbc\\xbcŹ\\xc0Ƿڽ\\xc3 \\xc0μ\\xf6\\xc1\\xf5 \\xb2\\xc0 \\xb9\\u07beƵμ\\xbc\\xbf\\xe4 2013-04-22 6941'\n99. '325 \\xb5\\xee\\xbb\\xeaȭ ǰ\\xc1\\xfa\\xbaҷ\\xae\\xc0\\xcc 78.8%\\xb8\\xa6 \\xc2\\xf7\\xc1\\xf6 2013-03-29 10751'\n100. '324 \\xbc\\xba\\xc7\\xfc\\xbc\\xf6\\xbc\\xfa \\xb0\\xe8\\xbe\\xe0\\xb1\\xdd \\xb9̹\\xddȯ \\xbb\\xe7\\xb7\\xca \\xb1\\xde\\xc1\\xf5, \\xbcҺ\\xf1\\xc0\\xda \\xc1\\xd6\\xc0\\xc7 \\xbf\\xe4\\xb8\\xc1! 2013-03-27 10980'\n101. '323 \\xb8\\xedǰ\\xc0\\xaf\\xbb\\xe7 ¦\\xc5\\xfc \\xc6Ǹ\\xc5 \\xbc\\xee\\xc7θ\\xf4 \\xa1\\xae\\xb7\\xb0\\xbd\\xba\\xbdŵ\\xf0\\xa1\\xaf \\xc1\\xd6\\xc0\\xc7 \\xbf\\xe4\\xb8\\xc1 2013-03-15 13299'\n\n\n",
            "text/html": [
              "<style>\n",
              ".list-inline {list-style: none; margin:0; padding: 0}\n",
              ".list-inline>li {display: inline-block}\n",
              ".list-inline>li:not(:last-child)::after {content: \"\\00b7\"; padding: 0 .5ex}\n",
              "</style>\n",
              "<ol class=list-inline><li>'423 \\xc0ڵ\\xbf\\xc2\\xf7\\xc1\\xa4\\xba\\xf1, \\xbc\\U{1b8bba}ҷ\\xae\\xa1\\xa4\\xbaδ\\xe7\\xbc\\U{1b8bba}\\xf1 û\\xb1\\xb8 \\xb5\\xee \\xbcҺ\\xf1\\xc0ںҸ\\xb8 \\xb8\\xb9\\xbe\\xc6 2016-04-01 482'</li><li><span style=white-space:pre-wrap>'422 \\xbbڶ\\xec \\xbc\\xba\\xc7\\xfc\\xbdü\\xfa \\xc8\\xc4 \\xbf\\xb0\\xc1\\U{161934}\\xab\\xb2\\xa8Ǯ ó\\xc1\\xfc \\xb5\\xee \\xba\\xce\\xc0ۿ\\xeb ȣ\\xbc\\xd2 \\xb8\\xb9\\xbe\\xc6  2016-02-02 3226'</span></li><li>'421 \\xb9\\xe6\\xbc\\xf6\\xc6\\xd1 \\xbb\\xe7\\xbf\\xeb \\xb0\\xfc\\xb7\\xc3 \\xc7\\xc7\\xc7ؿ\\xb9\\xb9\\xe6 \\xc1\\xd6\\xc0Ǻ\\xb8 2015-09-18 5650'</li><li>'420 \\xbeȰ\\xfa \\xb0\\xfc\\xb7\\xc3 \\xbcҺ\\xf1\\xc0\\xda\\xc7\\xc7\\xc7\\xd8, \\xa1\\xae\\xb9鳻\\xc0塯\\xb5\\xee \\xb3\\xeb\\xc0μ\\xba \\xc1\\xfaȯ \\xba\\xce\\xc0ۿ\\xeb \\xb8\\xb9\\xbe\\xc6 2015-09-04 7683'</li><li>'419 \\xc7ؿܱ\\xb8\\xb8Ŵ\\xeb\\xc7\\xe0 \\xc0\\xce\\xc5ͳݼ\\xee\\xc7θ\\xf4 \\xc7\\xc7\\xc7\\xd8 \\xc1\\xd6\\xc0\\xc7 2015-08-28 7162'</li><li>'418 \\xc7ؿܱ\\xb8\\xb8Ŵ\\xeb\\xc7\\xe0 \\xc0\\xce\\xc5ͳݼ\\xee\\xc7θ\\xf4 \\xc7\\xc7\\xc7\\xd8 \\xc1\\xd6\\xc0\\xc7 2015-08-25 5693'</li><li>'417 \\xbc\\xbcŹ\\xbcҿ\\xa1\\xbc\\xad \\xc8Ѽյ\\xc8 \\xbc\\xbcŹ\\xb9\\xb0 10\\xb0\\xc7 \\xc1\\xdf 3\\xb0\\xc7\\xc0\\xba ǰ\\xc1\\xfa \\xc7\\xcf\\xc0ڰ\\xa1 \\xbf\\xf8\\xc0\\xce 2015-08-13 4466'</li><li>'416 \\xbf\\xa9\\xb8\\xa7 \\xc8ް\\xa1ö \\xb7\\xbb\\xc5\\xcdī \\xc0̿\\xeb \\xbd\\xc3 \\xbcҺ\\xf1\\xc0\\xda\\xc7\\xc7\\xc7\\xd8 \\xc1\\xd6\\xc0\\xc7 \\xc7ϼ\\xbc\\xbf\\xe4 ! 2015-08-11 4354'</li><li>'415 \\xc0ڵ\\xbf\\xc2\\xf7 \\xbc\\xbc\\xc2\\xf7 \\xbd\\xc3 \\xc2\\xf7\\xb7\\xae \\xbcջ\\xf3 \\xc1\\xd6\\xc0\\xc7 \\xc7ϼ\\xbc\\xbf\\xe4! 2015-07-10 4919'</li><li>'414 \\xc4ܵ\\xb5ȸ\\xbf\\xf8\\xb1\\xc7 \\xc6Ǹ\\xc5 \\xbb\\xf3\\xbc\\xfa \\xb0\\xa5\\xbc\\xf6\\xb7\\xcf \\xc1\\xf6\\xb4\\xc9ȭ\\xb5ǰ\\xed \\xc0־\\xee \\xc1\\xd6\\xc0\\xc7 \\xbf\\xe4\\xb8\\xc1 2015-05-22 6675'</li><li>'413 \\xc7Ǻΰ\\U{38bbcb7a}\\xf1\\xbd\\xba \\xb9\\xab\\xb7\\xe1 ü\\xc7\\xe8\\xc0\\xbb \\xba\\xf9\\xc0\\xda\\xc7\\xd1 ȭ\\xc0\\xe5ǰ \\xc6Ǹ\\xc5 \\xc7\\xc7\\xc7\\xd8 \\xc1\\xf6\\xbc\\xd3\\xc0\\xfb \\xb9\\u07fb\\xfd 2015-05-19 5763'</li><li>'412 \\xbe\\xee\\xb9\\xf6\\xc0̳\\xaf \\xbeյΰ\\xed \\xbe˶\\xe3\\xc6\\xf9 \\xb1\\xb8\\xb8\\xc5 \\xc7\\xc7\\xc7\\xd8\\xc1\\xd6\\xc0Ǻ\\xb8 \\xb9߷\\xc9, \\xc0\\xfcü \\xc7\\xc7\\xc7\\xd8\\xc0\\xda 60%\\xb0\\xa1 60\\xb4\\xeb \\xc0̻\\xf3 2015-05-06 7283'</li><li>'411 ġ\\xbeƺ\\xb8\\xc7\\xe8 \\xb0\\xfc\\xb7\\xc3 \\xbcҺ\\xf1\\xc0\\xda\\xc7\\xc7\\xc7\\xd8 \\xb8ų\\xe2 \\xc1\\xf5\\xb0\\xa1 2015-04-29 6988'</li><li>'410 \\xc1߰\\xed\\xc2\\xf7 \\xbc\\xba\\xb4\\xc9\\xc1\\xa1\\xb0\\xcb \\xb3\\xbb\\xbf\\xeb\\xc0\\xcc \\xbd\\xc7\\xc1\\xa6 \\xc2\\xf7\\xb7\\xae \\xbb\\xf3\\xc5¿\\xcd \\xb4ٸ\\xa5 \\xb0\\xe6\\xbf\\xec \\xb8\\xb9\\xbe\\xc6 2015-04-22 8486'</li><li>'409 \\xbe\\xcf \\xbf\\xc0\\xc1\\xf8 \\xc1\\xdf \\xc6\\xf3\\xbe\\xcf \\xbf\\xc0\\xc1\\xf8 \\xc7\\xc7\\xc7\\xd8 \\xb0\\xa1\\xc0\\xe5 \\xb8\\xb9\\xbe\\xc6 2015-04-20 6950'</li><li>'408 \\xbf¶\\xf3\\xc0\\xce\\xc0\\xb8\\xb7\\xce \\xb1\\xb8\\xb8\\xc5\\xc7\\xd1 \\xb0\\xa1\\xb1\\xb8 \\xc7\\xc7\\xc7غ\\xf1\\xc0\\xb2 \\xb8ų\\xe2 \\xbb\\xf3\\xbd\\xc2 2015-04-01 6542'</li><li>'407 \\xc2\\U{1f7bbf}\\xeb \\xba\\xed\\xb7\\xa2\\xb9ڽ\\xba \\xa1\\xae\\xb9\\xab\\xb7\\xe1\\xc0\\xe5\\xc2\\xf8\\xa1\\xaf \\xba\\xf9\\xc0\\xda\\xc7\\xd1 \\xbe\\xe4ü\\xbb\\xf3\\xbc\\xfa \\xc1\\xd6\\xc0\\xc7! 2015-03-06 9268'</li><li>'406 \\xc0\\xce\\xc5ͳݱ\\xb3\\xc0\\xb0\\xbc\\xad\\xba\\xf1\\xbd\\xba \\xbcҺ\\xf1\\xc0\\xda \\xc7\\xc7\\xc7ؿ\\xb9\\xb9\\xe6\\xc1\\xd6\\xc0Ǻ\\xb8 2015-02-11 5939'</li><li>'405 \\xb4\\xab\\xa1\\xa4\\xc4\\xda \\xbc\\xba\\xc7\\xfc\\xbc\\xf6\\xbc\\xfa, \\xa1\\xae\\xba\\xf1\\xb4\\xebĪ\\xa1\\xaf \\xba\\xce\\xc0ۿ\\xeb \\xb8\\xb9\\xbe\\xc6 2015-02-10 7961'</li><li>'404 \\xb5\\xbf\\xbe\\xe7\\xbf\\xfe\\xb5\\xf9\\xbe\\xd8\\xc7\\xe3\\xb4Ϲ\\xae \\xbcҺ\\xf1\\xc0\\xda\\xc7\\xc7\\xc7\\xd8 \\xb9\\u07fb\\xfd \\xb9\\xd7 \\xc0\\xaf\\xc0ǻ\\xe7\\xc7\\xd7 \\xbeȳ\\xbb 2015-01-12 6139'</li><li>'403 \\xc0̻\\xe7ȭ\\xb9\\xb0\\xbc\\xad\\xba\\xf1\\xbd\\xba \\xbcҺ\\xf1\\xc0\\xda\\xc7\\xc7\\xc7ؿ\\xb9\\xb9\\xe6\\xc1\\xd6\\xc0Ǻ\\xb8 2014-11-26 7991'</li><li>'402 \\xb1\\xb9\\xb3\\xbb \\xb0\\xe1ȥ\\xc1߰\\xb3 \\xb0\\xfc\\xb7\\xc3 \\xbcҺ\\xf1\\xc0\\xda\\xc7\\xc7\\xc7\\xd8, 2\\xb0\\xc7 \\xc1\\xdf 1\\xb0\\xc7\\xc0\\xba \\xbaҼ\\xba\\xbd\\xc7 \\xbcҰ\\xb3 2014-11-13 8514'</li><li>'401 \\xb8ų\\xe2 \\xc1\\xf5\\xb0\\xa1\\xc7ϴ\\xc2 \\xc7װ\\xf8\\xbc\\xad\\xba\\xf1\\xbd\\xba \\xc7\\xc7\\xc7\\xd8, 10\\xb0\\xc7 \\xc1\\xdf 7\\xb0\\xc7\\xc0\\xba \\xbfܱ\\xb9 \\xc7װ\\xf8\\xbb\\xe7 \\xc7\\xc7\\xc7\\xd8 2014-11-06 5433'</li><li>'400 \\xb0\\xd4\\xc0Ӽ\\xad\\xba\\xf1\\xbd\\xba, \\xb9̼\\xba\\xb3\\xe2\\xc0\\xda \\xb0\\xe1\\xc1\\xa6 \\xc3\\xeb\\xbc\\xd2 \\xb0\\xfc\\xb7\\xc3 \\xbaҸ\\xb8 \\xb8\\xb9\\xbe\\xc6 2014-10-14 5856'</li><li>'399 \\xc5\\xeb\\xbd\\xc5\\xc6Ǹž\\xf7ü \\xa1\\xae\\xa2߳\\xaa\\xc0̽\\xba\\xc0\\xfc\\xc0ڡ\\xaf \\xb9\\xe8\\xbc\\xdb\\xc1ߴ\\xdc \\xc7\\xc7\\xc7\\xd8 \\xb4ٹ\\xdf 2014-10-14 4242'</li><li>'398 \\xb0\\xa1\\xc0\\xbbö \\xc1߰\\xed\\xc2\\xf7 \\xb1\\xb8\\xc0\\xd4 \\xbd\\xc3 \\xa1\\xaeħ\\xbc\\xf6\\xa1\\xaf \\xbf\\xa9\\xba\\xce \\xb2Ĳ\\xc4\\xc8\\xf7 \\xbb\\xec\\xc6\\xec\\xba\\xc1\\xbe\\xdf 2014-10-13 3770'</li><li>'397 \\xa1\\xae\\xc4ܼ\\xadƮ \\xb5\\xee \\xb0\\xf8\\xbf\\xac\\xb0\\xfc\\xb6\\xf7 \\xbcҺ\\xf1\\xc0\\xda \\xc7\\xc7\\xc7\\xd8 \\xc1\\xd6\\xc0ǡ\\xaf \\xb0溸\\xb9߷\\xc9 2014-10-02 4290'</li><li><span style=white-space:pre-wrap>'396 \\xc7Ѱ\\xa1\\xc0\\xa7 \\xc3\\u07fc\\xae\\xb8\\xed\\xc0\\xfd, \\xc0ڵ\\xbf\\xc2\\xf7 \\xb0\\xdf\\xc0ν\\xc3 \\xa1\\xae\\xbdŰ\\xed\\xb5\\xc8 \\xbf\\xee\\xc0ӡ\\xa4\\xbf\\xe4\\xb1ݡ\\xaf\\xc0\\xbb \\xb2\\xc0 Ȯ\\xc0\\xce\\xc7ϼ\\xbc\\xbf\\xe4 ! 2014-08-26  3373'</span></li><li>'395 \\xc7Ǻ\\xce \\xb9̿\\xeb\\xbdü\\xfa, \\xc7Ǻΰ\\xfa \\xc0\\xfc\\xb9\\xae\\xc0\\xc7 \\xbc\\xb3\\xb8\\xed \\xc3\\xe6\\xba\\xd0\\xc8\\xf7 \\xb5\\xe8\\xb0\\xed \\xb0\\xe8\\xbe\\xe0\\xc7ϼ\\xbc\\xbf\\xe4! 2014-08-19 5417'</li><li>'394 \\xb0\\xfa\\xb5\\xb5\\xc7\\xd1 \\xc7\\xd2\\xc0Ρ\\xa4\\xbb\\xe7\\xc0\\xbaǰ \\xc7\\xf6Ȥ \\xc0\\xe5\\xb1\\xe2 \\xb0\\xe8\\xbcӰŷ\\xa1 \\xb0\\xe8\\xbe\\xe0 \\xc1\\xd6\\xc0\\xc7 2014-08-11 3941'</li><li>'393 \\xb7\\xbb\\xc5\\xcdī, \\xbe\\xe0\\xb0\\xfc\\xc0\\xba \\xb9\\xb0\\xb7\\xd0 \\xc2\\xf7\\xb7\\xae \\xbb\\xf3\\xc5\\xc2 \\xb2\\xc0 Ȯ\\xc0\\xce\\xc7ϰ\\xed \\xb0\\xe8\\xbe\\xe0\\xc7ϼ\\xbc\\xbf\\xe4 ! 2014-08-01 3655'</li><li>'392 \\xc6\\xe6\\xbc\\xc7 \\xb0\\xe8\\xbe\\xe0\\xbd\\xc3 ȯ\\xbaұ\\xd4\\xc1\\xa4 \\xb9ݵ\\xe5\\xbd\\xc3 Ȯ\\xc0\\xce\\xc7ϼ\\xbc\\xbf\\xe4! 2014-07-14 18424'</li><li>'391 ȣ\\xc5ڿ\\xb9\\xbe\\xe0 \\xb4\\xeb\\xc7\\xe0\\xbb\\xe7\\xc0\\xccƮ \\xbcҺ\\xf1\\xc0\\xda\\xc7\\xc7\\xc7\\xd8 \\xc1\\xd6\\xc0\\xc7\\xc7ϼ\\xbc\\xbf\\xe4 2014-07-11 4121'</li><li>'390 \\xb9ݷ\\xc1\\xb5\\xbf\\xb9\\xb0, \\xc6\\xf3\\xbb硤\\xc1\\xfa\\xba\\xb4 \\xb0\\xfc\\xb7\\xc3 \\xbcҺ\\xf1\\xc0\\xda\\xc7\\xc7\\xc7\\xd8 \\xb8\\xb9\\xc1\\xf6\\xb8\\xb8 \\xba\\xb8\\xbb\\xf3\\xb9ޱ\\xe2\\xb4\\xc2 \\xbe\\xee\\xb7\\xc1\\xbf\\xf6 2014-06-18 4199'</li><li>'389 \\xc0Ƿ\\xf9\\xa1\\xa4\\xbdŹ\\xdf \\xc0\\xce\\xc5ͳݼ\\xee\\xc7θ\\xf4 \\xc6ǸŻ\\xe7\\xbe\\xf7\\xc0\\xda û\\xbe\\xe0öȸ \\xb0źη\\xce \\xc7\\xc7\\xc7\\xd8 \\xbdɰ\\xa2 2014-06-10 4805'</li><li>'388 \\xb9\\xab\\xb7\\xe1 \\xc4ܵ\\xb5ȸ\\xbf\\xf8\\xb1\\xc7 \\xb4\\xe7÷\\xa1\\xa4ȫ\\xba\\xb8\\xb4\\xeb\\xbb\\xe7 \\xbc\\xb1\\xc1\\xa4 \\xc0\\xfcȭ \\xc1\\xb6\\xbd\\xc9\\xc7ϼ\\xbc\\xbf\\xe4 2014-06-10 5688'</li><li>'387 \\xc7ｺ\\xa1\\xa4\\xc7\\xc7Ʈ\\xb4Ͻ\\xba \\xb0\\xe8\\xbe\\xe0 \\xbd\\xc3 ȯ\\xbaұ\\xd4\\xc1\\xa4 \\xc1\\xd6\\xc0\\xc7\\xc7ؾ\\xdf 2014-06-03 8752'</li><li>'386 \\xbd\\xc5ȥ\\xbf\\xa9\\xc7\\xe0 \\xb0\\xe8\\xbe\\xe0 \\xbd\\xc3 Ư\\xbe\\xe0 \\xbb\\xe7\\xc7\\xd7 \\xb2Ĳ\\xc4\\xc8\\xf7 Ȯ\\xc0\\xce\\xc7ϼ\\xbc\\xbf\\xe4 2014-05-26 3561'</li><li>'385 \\xbdŹ\\xae \\xb1\\xa4\\xb0\\xed \\xc5\\xeb\\xbd\\xc5\\xc6Ǹ\\xc5 \\xbe\\xf7ü \\xa1\\xae\\xbeֵ\\xe5\\xc4\\xc4\\xc4ڸ\\xae\\xbeơ\\xaf \\xbcҺ\\xf1\\xc0\\xda \\xc7\\xc7\\xc7\\xd8\\xc1\\xd6\\xc0\\xc7 2014-05-19 3218'</li><li>'384 \\xc8\\u07b4\\xeb\\xc6\\xf9 \\xbcҾװ\\xe1\\xc1\\xa6 \\xc7\\xc7\\xc7\\xd8, \\xb8ų\\xe2 2\\xb9\\xe8 \\xc0̻\\xf3 \\xc1\\xf5\\xb0\\xa1!! 2014-05-14 4318'</li><li>'383 \\xbe˶\\xe3\\xc6\\xf9 \\xbe\\xbd\\xc5 \\xb0\\xa1\\xc0\\xd4 \\xbd\\xc3 \\xb0\\xe8\\xbe\\xe0\\xc1\\xb6\\xb0\\xc7 \\xb2Ĳ\\xc4\\xc8\\xf7 Ȯ\\xc0\\xce\\xc7ϼ\\xbc\\xbf\\xe4! 2014-05-13 4199'</li><li>'382 \\xb0\\xe1ȥ\\xc1\\xa4\\xba\\xb8\\xbe\\xf7ü \\xbcҺ\\xf1\\xc0\\xda \\xc7\\xc7\\xc7\\xd8\\xc1\\xd6\\xc0\\xc7 2014-04-21 4484'</li><li>'381 \\xb9\\xab\\xb7\\xe1 \\xbeƴ\\xd1 \\xb9\\xab\\xb7\\xe1\\xc3Կ\\xb5\\xb1\\xc7, \\xbeƱ⼺\\xc0\\xe5\\xbeٹ\\xfc \\xb0\\xe8\\xbe\\xe0 \\xc1\\xd6\\xc0\\xc7\\xc7ؾ\\xdf 2014-04-15 5030'</li><li>'380 \\xbc\\xbcŹ\\xbcҿ\\xa1 \\xb8ñ\\xe4 \\xc8\\xc4 \\xbcջ\\xf3\\xb5ǰ\\xed \\xbaн\\xc7 \\xc0\\xe6\\xbe\\xc6 2014-04-14 3662'</li><li>'379 \\xc0\\xce\\xc5\\u05f8\\xae\\xbe\\xbc\\xb3\\xba\\xf1 \\xb0\\xf8\\xbb\\xe7 \\xc7\\xcf\\xc0\\xda \\xb9\\u07fb\\xfd\\xbf\\xa1 \\xb4\\xeb\\xc7\\xd1 \\xbb\\xe7\\xc8ĺ\\xb8\\xc1\\xf5 \\xb9ޱ\\xe2 \\xbe\\xee\\xb7\\xc1\\xbf\\xf6 2014-03-28 6922'</li><li>'378 \\xc0ڵ\\xbf\\xc2\\xf7 \\xc1\\xa4\\xba\\xf1 \\xb0\\xfc\\xb7\\xc3 \\xbcҺ\\xf1\\xc0\\xda \\xc7\\xc7\\xc7\\xd8 \\xb8ų\\xe2 200\\xb0\\xc7 \\xc0̻\\xf3 \\xb9\\u07fb\\xfd 2014-03-25 4505'</li><li>'377 \\xbf\\xb9\\xbd\\xc4\\xc0\\xe5, \\xbcҺ\\xf1\\xc0\\xda\\xc0\\xc7 \\xb0\\xe8\\xbe\\xe0\\xb1\\xdd ȯ\\xb1\\xde \\xbf\\xe4û \\xb8\\U{0388fc}\\xe8\\xb7\\xce \\xc0ϰ\\xfc 2014-03-20 4145'</li><li>'376 \\xbfܱ\\xb9\\xb0\\xe8 \\xc0\\xfa\\xba\\xf1\\xbf\\xeb\\xc7װ\\xf8 \\xb0\\xfc\\xb7\\xc3 \\xbcҺ\\xf1\\xc0\\xda \\xc7\\xc7\\xc7\\xd8 \\xb1\\xde\\xc1\\xf5 2014-02-28 3957'</li><li>'375 \\xc7ؿܿ\\xac\\xbc\\xf6, \\xb0\\xe8\\xbe\\xe0\\xc7\\xd8\\xc1\\xa6 \\xbd\\xb1\\xc1\\xf6 \\xbeʰ\\xed \\xbd\\xc7\\xc1\\xa6 \\xbf\\xac\\xbc\\xf6 \\xb3\\xbb\\xbf뵵 \\xb4\\u07b6\\xf3 2014-02-20 3116'</li><li>'374 \\xb5\\xb9\\xc0\\xdcġ, \\xc0ϴ\\xdc \\xb0\\xe8\\xbe\\xe0\\xc7ϸ\\xe9 2\\xb0\\xb3\\xbf\\xf9 \\xc0\\xfc\\xbf\\xa1\\xb5\\xb5 \\xc7ؾ\\xe0\\xc7ϱ\\xe2 \\xbe\\xee\\xb7\\xc1\\xbf\\xf6 2014-02-14 4498'</li><li>'373 \\xc0Ƿ\\xf9.\\xbdŹ\\xdf \\xb5\\xee ǰ\\xc1\\xfa\\xc7\\xcf\\xc0\\xda 46.2% \\xb4\\xde\\xc7\\xd8 2014-02-10 4389'</li><li>'372 \\xa1\\xae\\xb0\\xe8\\xbe\\xe0\\xc7\\xd8\\xc1\\xa6\\xa1\\xa4\\xc7\\xd8\\xc1\\xf6 \\xb0\\xc5\\xc0\\xfd\\xa1\\xaf, \\xa1\\xaeǰ\\xc1\\xfa\\xa1\\xa4A/S\\' \\xc7\\xc7\\xc7ذ\\xa1 \\xb0\\xa2\\xb0\\xa2 37.9%\\xb7\\xce \\xb0\\xa1\\xc0\\xe5 \\xb8\\xb9\\xbe\\xc6 2013-12-31 4552'</li><li>'371 \\xc0̻\\xe7\\xc7\\xc7\\xc7\\xd8, 10\\xb0\\xc7\\xc1\\xdf 7\\xb0\\xc7\\xc0\\xba \\xc0̻\\xf1\\xc1\\xfc \\xc8Ѽա\\xa4\\xc6ļ\\xd5 \\xc7\\xc7\\xc7\\xd8 2013-12-31 4445'</li><li>'370 \\xb0\\xe1ȥ \\xbf\\xb9\\xbdġ\\xa4\\xc1غ\\xf1\\xb4\\xeb\\xc7\\xe0 \\xbc\\xad\\xba\\xf1\\xbd\\xba \\xb0\\xe8\\xbe\\xe0\\xc7\\xd8\\xc1\\xa6 \\xbe\\xee\\xb7\\xc1\\xbf\\xf6 2013-12-31 3510'</li><li>'369 \\xb4ٴܰ\\xe8\\xc6Ǹ\\xc5 \\xc7\\xc7\\xc7\\xd8 \\xbb\\xf3\\xb4\\xe3, \\xc3ֱ\\xd9 3\\xb3\\xe2 \\xbb\\xf5 \\xb5\\xce \\xb9\\xe8 \\xc0̻\\xf3 \\xc1\\xf5\\xb0\\xa1 2013-12-31 3433'</li><li>'368 \\xbc\\xba\\xc7\\xfc\\xbc\\xf6\\xbc\\xfa \\xbcҺ\\xf1\\xc0ڻ\\xf3\\xb4\\xe3, \\xa1\\xae\\xb0\\xe8\\xbe\\xe0\\xc7\\xd8\\xc1\\xa6\\xa1\\xa4\\xc7\\xd8\\xc1\\xf6 \\xb0\\xc5\\xc0\\xfd\\xa1\\xaf \\xbaҸ\\xb8\\xc0\\xcc 29.3%\\xb7\\xce \\xb0\\xa1\\xc0\\xe5 \\xb8\\xb9\\xbe\\xc6 2013-12-31 3621'</li><li>'367 \\xbaο\\xef\\xb0\\xe6, \\xb4\\xeb\\xba\\xce(\\xbe\\xf7)\\xb4\\xeb\\xc3\\xe2 \\xb0\\xfc\\xb7\\xc3 \\xbcҺ\\xf1\\xc0ڻ\\xf3\\xb4\\xe3 \\xb8ų\\xe2 \\xb2\\xd9\\xc1\\xd8\\xc8\\xf7 \\xb9\\u07fb\\xfd 2013-12-31 2546'</li><li>'366 \\xc3\\u07fc\\xae \\xb8\\xed\\xc0\\xfd, \\xc0\\xfc\\xc0ڻ\\xf3\\xb0ŷ\\xa1 \\xbcҺ\\xf1\\xc0\\xda\\xc7\\xc7\\xc7\\xd8 \\xc1\\xd6\\xc0Ǻ\\xb8 2013-12-24 3734'</li><li>'365 \\xb0\\xad\\xbf\\xf8\\xb5\\xb5, \\xb0\\xed\\xb7ɼҺ\\xf1\\xc0\\xda \\xc7\\xc7\\xc7\\xd8, \\xc1\\U{1bfaba}\\xb0 \\xbc\\xf8\\xc0\\xa7 3\\xc0\\xa7\\xb7\\xce \\xb8\\xb9\\xbe\\xc6 2013-12-23 2683'</li><li>'364 \\xb0\\xad\\xbf\\xf8\\xc1\\xf6\\xbf\\xaa \\xc1߰\\xed\\xc0ڵ\\xbf\\xc2\\xf7, \\xbc\\xba\\xb4ɡ\\xa4\\xbb\\xf3\\xc5\\xc2\\xc1\\xa1\\xb0˱\\xe2\\xb7Ϻο\\xcd \\xb4ٸ\\xa3\\xb4ٴ\\xc2 \\xbaҸ\\xb8 \\xb8\\xb9\\xbe\\xc6 2013-12-23 4832'</li><li>'363 \\xc0\\xfa\\xb0\\xa1 \\xc4ܵ\\xb5ȸ\\xbf\\xf8\\xb1\\xc7 \\xb0\\xfc\\xb7\\xc3 \\xbcҺ\\xf1\\xc0\\xda\\xc7\\xc7\\xc7\\xd8 \\xb2\\xd9\\xc1\\xd8\\xc8\\xf7 \\xb9\\u07fb\\xfd 2013-12-23 2919'</li><li>'362 \\xb8\\xf0\\xb9\\xd9\\xc0ϰ\\xd4\\xc0\\xd3, \\xbaθ\\xf0 \\xb5\\xbf\\xc0\\xc7 \\xbe\\xf8\\xb4\\xc2 \\xb9̼\\xba\\xb3\\xe2\\xc0\\xda \\xb0\\xe1\\xc1\\xa6 \\xc7\\xc7\\xc7\\xd8 \\xb8\\xb9\\xbe\\xc6 2013-12-10 4524'</li><li>'361 \\xbb\\xf3\\xc1\\xb6\\xbc\\xad\\xba\\U{07debe}\\xf7ü, \\xbcҺ\\xf1\\xc0\\xda\\xc7\\xc7\\xc7ؿ\\xa1 \\xb3\\xaa \\xb8\\xf4\\xb6\\xf3\\xb6\\xf3 2013-12-09 3578'</li><li>'360 \\xc0\\xce\\xc5ͳݱ\\xb3\\xc0\\xb0\\xbc\\xad\\xba\\xf1\\xbd\\xba \\xc1ߵ\\xb5\\xc7\\xd8\\xc1\\xf6 \\xbd\\xc3, \\xb0\\xfa\\xb4\\xd9 \\xc0\\xa7\\xbe\\xe0\\xb1\\xdd û\\xb1\\xb8 \\xc7\\xc7\\xc7\\xd8 \\xb8\\xb9\\xbe\\xc6 2013-12-05 3394'</li><li>'359 \\xc1߰\\xed\\xc2\\xf7 \\xbc\\xba\\xb4ɡ\\xa4\\xbb\\xf3\\xc5\\xc2\\xc1\\xa1\\xb0˱\\xe2\\xb7Ϻ\\xce, \\xbd\\xc7\\xc1\\xa6 \\xc2\\U{1f7bb0}\\xfa \\xb4\\u07b6\\xf3 \\xc7\\xc7\\xc7\\xd8 \\xba\\xf3\\xb9\\xdf 2013-12-05 4357'</li><li>'358 2012\\xb3\\xe2 ȣ\\xb3\\xb2\\xa4\\xfd\\xc1\\xa6\\xc1\\xd6\\xc1\\xf6\\xbf\\xaa \\xb9湮\\xc6Ǹ\\xc5 \\xb0\\xfc\\xb7\\xc3 \\xc7\\xc7\\xc7\\xd8 33.8% \\xc1\\xf5\\xb0\\xa1 2013-12-05 2400'</li><li>'357 \\xc6\\xf7\\xc0\\xe5\\xc0̻\\xe7 \\xbc\\xad\\xba\\xf1\\xbd\\xba \\xbe\\xf7ü, 60% \\xc0̻\\xf3\\xc0\\xba \\xbcҺ\\xf1\\xc0\\xda \\xc7\\xc7\\xc7ؿ\\xa1 \\'\\xb8\\U{0388fc}\\xe8\\' 2013-11-27 3799'</li><li>'356 \\xc0\\xfc\\xb1\\xe2\\xc0\\xe5\\xc6\\xc7 ȭ\\xc0硤ȭ\\xbb\\xf3 \\xc1\\xd6\\xc0\\xc7\\xc7ϼ\\xbc\\xbf\\xe4! 2013-11-21 4141'</li><li>'355 \\xc7ؿ\\xdc \\xb1\\xb8\\xb8\\xc5 \\xb4\\xeb\\xc7\\xe0\\xc0\\xb8\\xb7\\xce \\xc1\\xa6ǰ \\xb1\\xb8\\xc0\\xd4 \\xbd\\xc3 \\xc1\\xd6\\xc0\\xc7\\xc7ϼ\\xbc\\xbf\\xe4 2013-11-14 5177'</li><li>'354 ǰ\\xc1\\xfa\\xbaҷ\\xae\\xa1\\xa4\\xb0\\xe8\\xbe\\xe0\\xba\\xd2\\xc0\\xcc\\xc7\\xe0 \\xb5\\xee \\xb0\\xa1\\xb1\\xb8 \\xb0\\xfc\\xb7\\xc3 \\xbcҺ\\xf1\\xc0\\xda\\xc7\\xc7\\xc7\\xd8 \\xbdɰ\\xa2! 2013-11-13 4581'</li><li>'353 \\xb4\\xeb\\xc0\\xfc\\xa1\\xa4\\xc3\\xe6û\\xc1\\xf6\\xbf\\xaa \\xc8\\u07b4\\xeb\\xc6\\xf9 \\xbcҾװ\\xe1\\xc1\\xa6, \\xbb\\xe7\\xbf\\xeb\\xc7\\xcf\\xc1\\xf6 \\xbe\\xca\\xc0\\xba \\xbf\\xe4\\xb1\\xdd \\xb0\\xe1\\xc1\\xa6 \\xc7\\xc7\\xc7\\xd8 \\xb8\\xb9\\xbe\\xc6 2013-11-05 3661'</li><li>'352 \\xc3ʰ\\xed\\xbc\\xd3\\xc0\\xce\\xc5ͳݼ\\xad\\xba\\xf1\\xbd\\xba, \\xc7\\xd8\\xc1\\xf6ó\\xb8\\xae \\xb4\\xa9\\xb6\\xf4 \\xc7\\xc7\\xc7\\xd8 \\xb0\\xa1\\xc0\\xe5 \\xb8\\xb9\\xbe\\xc6 2013-11-04 4828'</li><li>'351 \\xbeϺ\\xb8\\xc7\\xe8, \\xba\\xb8\\xc7\\xe8\\xb1\\xdd\\xc1\\xf6\\xb1\\xde \\xb0\\xfc\\xb7\\xc3 \\xba\\xd0\\xc0\\xef 90% \\xc0̻\\xf3 2013-10-30 7141'</li><li>'350 ġ\\xb0\\xfa\\xba\\xd0\\xc0\\xef \\xc0\\xd3\\xc7ö\\xf5Ʈ\\xb0\\xa1 \\xb0\\xa1\\xc0\\xe5 \\xb8\\xb9\\xbe\\xc6 2013-10-29 5091'</li><li>'349 \\xbfȭ ǰ\\xc1\\xfa\\xc7\\xcf\\xc0\\xda \\xb5\\xee \\'\\xb3\\xbb\\xb1\\xb8\\xbc\\xba \\xbaҷ\\xae\\'\\xc0\\xcc 80.2%\\xb7\\xce \\xb0\\xa1\\xc0\\xe5 \\xb8\\xb9\\xbe\\xc6 2013-10-02 7209'</li><li>'348 ħ\\xbc\\xf6 \\xc1߰\\xed \\xc0ڵ\\xbf\\xc2\\xf7 \\xbcҺ\\xf1\\xc0\\xda \\xbb\\xf3\\xb4\\xe3 \\xb8ų\\xe2 \\xc1\\xf5\\xb0\\xa1 2013-09-17 5428'</li><li>'347 \\xc5ù\\xe8 \\xbaҸ\\xb8, \\'\\xc4\\xc9\\xc0\\xcc\\xc1\\U{1bfef7}ο\\xecĸ\\', \\'KGB\\xc5ù\\xe8\\' \\xbc\\xf8\\xc0\\xb8\\xb7\\xce \\xb3\\xf4\\xbe\\xc6 2013-09-09 8311'</li><li>'346 \\xb3\\xb2\\xbc\\xba\\xbf\\xeb \\xbc\\xba\\xb1\\xe2\\xb4\\xc9 \\xc7\\xe2\\xbb\\xf3\\xb1\\xe2\\xb1\\xe2, \\xb9\\xab\\xc7㰡 \\xc1\\xa6ǰ \\xc1\\xd6\\xc0\\xc7\\xc7ϼ\\xbc\\xbf\\xe4! 2013-09-05 6694'</li><li>'345 \\xc4\\xdc\\xc5\\xd9\\xc3\\xf7\\xc0̿\\xeb\\xbb\\xe7\\xc0\\xccƮ, ȸ\\xbf\\xf8 \\xb0\\xa1\\xc0\\xd4 \\xba\\xf9\\xc0\\xda\\xc7\\xd1 \\xc0\\xaf\\xb7\\xe1\\xb0\\xe1\\xc1\\xa6 \\xc7\\xc7\\xc7\\xd8 \\xb1\\xde\\xc1\\xf5 2013-08-27 5336'</li><li>'344 \\xbfܱ\\xb9\\xb0\\xe8 \\xc7װ\\xf8\\xbb\\xe7 \\xbcҺ\\xf1\\xc0\\xda\\xc7\\xc7\\xc7\\xd8 \\xc0\\xfc\\xb3\\xe2 \\xb4\\xeb\\xba\\xf1 ū \\xc6\\xf8 \\xc1\\xf5\\xb0\\xa1! 2013-08-20 5854'</li><li>'343 \\xb4\\xeb\\xc0\\xfc \\xc3\\xe6û\\xc1\\xf6\\xbf\\xaa \\xc7ؿܿ\\xa9\\xc7\\xe0 \\xb0\\xfc\\xb7\\xc3 \\xbcҺ\\xf1\\xc0\\xda \\xc7\\xc7\\xc7\\xd8 \\xc1\\xf5\\xb0\\xa1 2013-08-02 4912'</li><li>'342 \\xc2\\xf7\\xb7\\xae \\xb7\\xbbƮ\\xbd\\xc3 \\xc1\\xd6\\xc0\\xc7\\xc7ϼ\\xbc\\xbf\\xe4 2013-07-25 9007'</li><li>'341 \\xc8\\u07b4\\xeb\\xc6\\xf9 \\xba\\xb8\\xc1\\xb6\\xb1\\xdd \\xc1\\xf6\\xbf\\xf8 \\xbe\\xe0\\xc1\\xa4 \\xba\\xd2\\xc0\\xcc\\xc7\\xe0 \\xc7\\xc7\\xc7\\xd8 \\xc1\\xd6\\xc0\\xc7 2013-07-23 7660'</li><li>'340 \\xa1\\xb0\\xbf\\xa1\\xbe\\xee\\xc4\\xc1 \\xbc\\xb3ġ\\xbd\\xc3 \\xc1\\xd6\\xc0\\xc7\\xc7ϼ\\xbc\\xbf䡱 2013-07-23 7897'</li><li>'339 \\xbdð\\xe8 \\xb1\\xb8\\xb8Ž\\xc3 \\xc1\\xd6\\xc0\\xc7\\xc7ϼ\\xbc\\xbf\\xe4! 2013-07-19 6810'</li><li>'338 \\xc7ؿܿ\\xa9\\xc7\\xe0 \\xbd\\xc3 \\xbd\\xba\\xb8\\xb6Ʈ\\xc6\\xf9 \\xb5\\xa5\\xc0\\xcc\\xc5ͷιֿ\\xe4\\xb1\\xdd \\xc6\\xf8ź \\xc1\\xd6\\xc0\\xc7 2013-07-17 7507'</li><li>'337 \\xbc\\xf6\\xb9鸸\\xbf\\xf8 \\xb4\\xeb\\xc0\\xc7 \\xc7Ǻΰ\\U{38bbcb7a}\\xf1\\xbd\\xba, \\xc1\\xa4\\xc0\\xdb \\xbcҺ\\xf1\\xc0ڰ\\xfc\\xb8\\xae\\xb4\\xc2 \\xbe\\xfb\\xb8\\xc1 2013-07-16 5125'</li><li>'336 \\xc0\\xce\\xc5ͳݼ\\xee\\xc7θ\\xf4 \\xbb\\xe7\\xbe\\xf7\\xc0\\xda\\xc0\\xc7 û\\xbe\\xe0öȸ \\xbaδ\\xe7 \\xb0źη\\xce \\xc0\\xce\\xc7\\xd1 \\xbcҺ\\xf1\\xc0\\xda\\xc7\\xc7\\xc7\\xd8 \\xbdɰ\\xa2! 2013-07-12 6397'</li><li>'335 (\\xc1\\xd6)\\xc7ѿ\\xb5\\xb0\\U{31930cf9}\\xdf \\xb0\\xe8\\xbe\\xe0\\xbd\\xc3 \\xc1\\xd6\\xc0\\xc7\\xc7ϼ\\xbc\\xbf\\xe4! 2013-07-10 5349'</li><li>'334 \\xc7\\xc1\\xb6\\xf3\\xc0\\xd3 \\xbf\\xa1\\xb5\\xe0\\xc4\\xc9\\xc0̼\\xc7(\\xc1߰\\xed\\xbb\\xfd \\xb4\\xeb\\xbb\\xf3 \\xb0\\xfa\\xbf\\xdc \\xc1߰\\xb3\\xbe\\xf7ü) \\xb0\\xe8\\xbe\\xe0\\xbd\\xc3 \\xc1\\xd6\\xc0\\xc7\\xc7ϼ\\xbc\\xbf\\xe4! 2013-07-05 4222'</li><li>'333 \\xbf䰡 \\xc0̿\\xeb \\xb0\\xfc\\xb7\\xc3 \\xbcҺ\\xf1\\xc0\\xda\\xc7\\xc7\\xc7\\xd8 \\xc1\\xd6\\xc0\\xc7! 2013-07-02 4649'</li><li>'332 \\xb4\\xeb\\xc3\\xe2\\xb9\\xde\\xc0\\xb8\\xb7\\xc1\\xb4\\xd9 \\xc0̵\\xbf\\xc0\\xfcȭ \\xbf\\xe4\\xb1\\xdd\\xc6\\xf8ź \\xb8¾\\xc6 2013-06-26 4152'</li><li>'331 \\xb7\\xbbŻ\\xc1\\xa4\\xbc\\xf6\\xb1\\xe2 \\xb0\\xe8\\xbe\\xe0\\xbd\\xc3 \\xc1\\xd6\\xc0\\xc7\\xc7ϼ\\xbc\\xbf\\xe4! 2013-06-24 7984'</li><li>'330 \\xb0\\xed\\xb7\\xc9 \\xbcҺ\\xf1\\xc0\\xda \\xc7\\xc7\\xc7ػ\\xf3\\xb4\\xe3, \\xc0\\xfc\\xb3\\xe2 \\xb4\\xeb\\xba\\xf1 \\xbe\\xe0 40% \\xc1\\xf5\\xb0\\xa1 2013-06-13 4315'</li><li>'329 \\xbf\\xb9\\xbd\\xc4\\xc0\\xe5 \\xb9\\xd7 \\xb0\\xe1ȥ\\xc1غ\\xf1\\xb4\\xeb\\xc7\\xe0\\xbe\\xf7\\xc0\\xda\\xc0\\xc7 \\xb0\\xe8\\xbe\\xe0\\xc7\\xd8\\xc1\\xa6 \\xb0\\xc5\\xc0\\xfd \\xc7\\xc7\\xc7\\xd8 \\xc1\\xd6\\xc0\\xc7 2013-05-27 5495'</li><li>'328 \\xb9\\xab\\xb7\\xe1ü\\xc7\\xe8 \\xba\\xf9\\xc0\\xda\\xc7\\xd1 \\xb0ǰ\\xad\\xbd\\xc4ǰ \\xbe\\xe4ü\\xbb\\xf3\\xbc\\xfa \\xb1ؼ\\xba 2013-05-16 4230'</li><li>'327 \\xbf\\xac\\xb1\\xe2\\xa4\\xfd\\xb8\\xf0\\xb5\\xa8\\xc7п\\xf8 \\xb0\\xe8\\xbe\\xe0 \\xb0\\xfc\\xb7\\xc3 \\xbcҺ\\xf1\\xc0\\xda \\xc7\\xc7\\xc7\\xd8 \\xc1\\xd6\\xc0\\xc7 2013-05-08 4667'</li><li>'326 \\xbc\\xbcŹ\\xb9\\xb0\\xbaн\\xc7 2\\xb0\\xc7\\xc1\\xdf 1\\xb0\\xc7, \\xbc\\xbcŹ\\xbe\\xf7\\xc0\\xda \\xb3\\xaa \\xb8\\xf4\\xb6\\xf3\\xb6\\xf3! \\xbc\\xbcŹ\\xc0Ƿڽ\\xc3 \\xc0μ\\xf6\\xc1\\xf5 \\xb2\\xc0 \\xb9\\u07beƵμ\\xbc\\xbf\\xe4 2013-04-22 6941'</li><li>'325 \\xb5\\xee\\xbb\\xeaȭ ǰ\\xc1\\xfa\\xbaҷ\\xae\\xc0\\xcc 78.8%\\xb8\\xa6 \\xc2\\xf7\\xc1\\xf6 2013-03-29 10751'</li><li>'324 \\xbc\\xba\\xc7\\xfc\\xbc\\xf6\\xbc\\xfa \\xb0\\xe8\\xbe\\xe0\\xb1\\xdd \\xb9̹\\xddȯ \\xbb\\xe7\\xb7\\xca \\xb1\\xde\\xc1\\xf5, \\xbcҺ\\xf1\\xc0\\xda \\xc1\\xd6\\xc0\\xc7 \\xbf\\xe4\\xb8\\xc1! 2013-03-27 10980'</li><li>'323 \\xb8\\xedǰ\\xc0\\xaf\\xbb\\xe7 ¦\\xc5\\xfc \\xc6Ǹ\\xc5 \\xbc\\xee\\xc7θ\\xf4 \\xa1\\xae\\xb7\\xb0\\xbd\\xba\\xbdŵ\\xf0\\xa1\\xaf \\xc1\\xd6\\xc0\\xc7 \\xbf\\xe4\\xb8\\xc1 2013-03-15 13299'</li></ol>\n"
            ]
          },
          "metadata": {
            "tags": []
          }
        }
      ]
    },
    {
      "cell_type": "code",
      "metadata": {
        "colab": {
          "base_uri": "https://localhost:8080/",
          "height": 866
        },
        "id": "UlcbBKift9dk",
        "outputId": "ee091bb9-267b-4ff5-a690-6cf313e7d525"
      },
      "source": [
        "system('gdown --id 1VOrxP7LGVRg4-a4rmlbXuDd1m1TEwWJo')\n",
        "popdata <- read.csv(\"seoulpopulation.csv\", header=TRUE, fileEncoding = \"EUC-KR\")\n",
        "popdata"
      ],
      "execution_count": 111,
      "outputs": [
        {
          "output_type": "display_data",
          "data": {
            "text/plain": [
              "   자치구   남자   여자  \n",
              "1  종로구    80531  83291\n",
              "2  중구      66755  67574\n",
              "3  용산구   121027 126882\n",
              "4  성동구   151459 153606\n",
              "5  광진구   183436 191744\n",
              "6  동대문구 185827 187997\n",
              "7  중랑구   208393 210227\n",
              "8  성북구   229183 240377\n",
              "9  강북구   164337 170089\n",
              "10 도봉구   173804 179437\n",
              "11 노원구   281538 296683\n",
              "12 은평구   244964 257614\n",
              "13 서대문구 156130 166975\n",
              "14 마포구   190957 207394\n",
              "15 양천구   242074 246936\n",
              "16 강서구   291216 304475\n",
              "17 구로구   228201 226403\n",
              "18 금천구   131346 124821\n",
              "19 영등포구 210388 207423\n",
              "20 동작구   202165 210609\n",
              "21 관악구   266773 262258\n",
              "22 서초구   217036 234222\n",
              "23 강남구   279209 302551\n",
              "24 송파구   325950 341530\n",
              "25 강동구   230851 232470"
            ],
            "text/latex": "A data.frame: 25 × 3\n\\begin{tabular}{lll}\n 자치구 & 남자 & 여자\\\\\n <chr> & <int> & <int>\\\\\n\\hline\n\t 종로구   &  80531 &  83291\\\\\n\t 중구     &  66755 &  67574\\\\\n\t 용산구   & 121027 & 126882\\\\\n\t 성동구   & 151459 & 153606\\\\\n\t 광진구   & 183436 & 191744\\\\\n\t 동대문구 & 185827 & 187997\\\\\n\t 중랑구   & 208393 & 210227\\\\\n\t 성북구   & 229183 & 240377\\\\\n\t 강북구   & 164337 & 170089\\\\\n\t 도봉구   & 173804 & 179437\\\\\n\t 노원구   & 281538 & 296683\\\\\n\t 은평구   & 244964 & 257614\\\\\n\t 서대문구 & 156130 & 166975\\\\\n\t 마포구   & 190957 & 207394\\\\\n\t 양천구   & 242074 & 246936\\\\\n\t 강서구   & 291216 & 304475\\\\\n\t 구로구   & 228201 & 226403\\\\\n\t 금천구   & 131346 & 124821\\\\\n\t 영등포구 & 210388 & 207423\\\\\n\t 동작구   & 202165 & 210609\\\\\n\t 관악구   & 266773 & 262258\\\\\n\t 서초구   & 217036 & 234222\\\\\n\t 강남구   & 279209 & 302551\\\\\n\t 송파구   & 325950 & 341530\\\\\n\t 강동구   & 230851 & 232470\\\\\n\\end{tabular}\n",
            "text/markdown": "\nA data.frame: 25 × 3\n\n| 자치구 &lt;chr&gt; | 남자 &lt;int&gt; | 여자 &lt;int&gt; |\n|---|---|---|\n| 종로구   |  80531 |  83291 |\n| 중구     |  66755 |  67574 |\n| 용산구   | 121027 | 126882 |\n| 성동구   | 151459 | 153606 |\n| 광진구   | 183436 | 191744 |\n| 동대문구 | 185827 | 187997 |\n| 중랑구   | 208393 | 210227 |\n| 성북구   | 229183 | 240377 |\n| 강북구   | 164337 | 170089 |\n| 도봉구   | 173804 | 179437 |\n| 노원구   | 281538 | 296683 |\n| 은평구   | 244964 | 257614 |\n| 서대문구 | 156130 | 166975 |\n| 마포구   | 190957 | 207394 |\n| 양천구   | 242074 | 246936 |\n| 강서구   | 291216 | 304475 |\n| 구로구   | 228201 | 226403 |\n| 금천구   | 131346 | 124821 |\n| 영등포구 | 210388 | 207423 |\n| 동작구   | 202165 | 210609 |\n| 관악구   | 266773 | 262258 |\n| 서초구   | 217036 | 234222 |\n| 강남구   | 279209 | 302551 |\n| 송파구   | 325950 | 341530 |\n| 강동구   | 230851 | 232470 |\n\n",
            "text/html": [
              "<table class=\"dataframe\">\n",
              "<caption>A data.frame: 25 × 3</caption>\n",
              "<thead>\n",
              "\t<tr><th scope=col>자치구</th><th scope=col>남자</th><th scope=col>여자</th></tr>\n",
              "\t<tr><th scope=col>&lt;chr&gt;</th><th scope=col>&lt;int&gt;</th><th scope=col>&lt;int&gt;</th></tr>\n",
              "</thead>\n",
              "<tbody>\n",
              "\t<tr><td>종로구  </td><td> 80531</td><td> 83291</td></tr>\n",
              "\t<tr><td>중구    </td><td> 66755</td><td> 67574</td></tr>\n",
              "\t<tr><td>용산구  </td><td>121027</td><td>126882</td></tr>\n",
              "\t<tr><td>성동구  </td><td>151459</td><td>153606</td></tr>\n",
              "\t<tr><td>광진구  </td><td>183436</td><td>191744</td></tr>\n",
              "\t<tr><td>동대문구</td><td>185827</td><td>187997</td></tr>\n",
              "\t<tr><td>중랑구  </td><td>208393</td><td>210227</td></tr>\n",
              "\t<tr><td>성북구  </td><td>229183</td><td>240377</td></tr>\n",
              "\t<tr><td>강북구  </td><td>164337</td><td>170089</td></tr>\n",
              "\t<tr><td>도봉구  </td><td>173804</td><td>179437</td></tr>\n",
              "\t<tr><td>노원구  </td><td>281538</td><td>296683</td></tr>\n",
              "\t<tr><td>은평구  </td><td>244964</td><td>257614</td></tr>\n",
              "\t<tr><td>서대문구</td><td>156130</td><td>166975</td></tr>\n",
              "\t<tr><td>마포구  </td><td>190957</td><td>207394</td></tr>\n",
              "\t<tr><td>양천구  </td><td>242074</td><td>246936</td></tr>\n",
              "\t<tr><td>강서구  </td><td>291216</td><td>304475</td></tr>\n",
              "\t<tr><td>구로구  </td><td>228201</td><td>226403</td></tr>\n",
              "\t<tr><td>금천구  </td><td>131346</td><td>124821</td></tr>\n",
              "\t<tr><td>영등포구</td><td>210388</td><td>207423</td></tr>\n",
              "\t<tr><td>동작구  </td><td>202165</td><td>210609</td></tr>\n",
              "\t<tr><td>관악구  </td><td>266773</td><td>262258</td></tr>\n",
              "\t<tr><td>서초구  </td><td>217036</td><td>234222</td></tr>\n",
              "\t<tr><td>강남구  </td><td>279209</td><td>302551</td></tr>\n",
              "\t<tr><td>송파구  </td><td>325950</td><td>341530</td></tr>\n",
              "\t<tr><td>강동구  </td><td>230851</td><td>232470</td></tr>\n",
              "</tbody>\n",
              "</table>\n"
            ]
          },
          "metadata": {
            "tags": []
          }
        }
      ]
    },
    {
      "cell_type": "code",
      "metadata": {
        "colab": {
          "base_uri": "https://localhost:8080/"
        },
        "id": "qMFuNyfvuvSR",
        "outputId": "9a56f0c0-67b6-4c0f-a270-a97852fccf2a"
      },
      "source": [
        "install.packages('XLConnect')"
      ],
      "execution_count": 1,
      "outputs": [
        {
          "output_type": "stream",
          "text": [
            "Installing package into ‘/usr/local/lib/R/site-library’\n",
            "(as ‘lib’ is unspecified)\n",
            "\n",
            "also installing the dependency ‘rJava’\n",
            "\n",
            "\n"
          ],
          "name": "stderr"
        }
      ]
    },
    {
      "cell_type": "code",
      "metadata": {
        "colab": {
          "base_uri": "https://localhost:8080/",
          "height": 1000
        },
        "id": "cpU5zyAOu8Sk",
        "outputId": "f397035d-c57c-4401-f9d5-dc9321f57539"
      },
      "source": [
        "require(XLConnect)\n",
        "system('gdown --id 169U8pWVK7mlIX8aiX76_52PCjP0xWoTa')\n",
        "wb <- loadWorkbook(\"subway.xlsx\")\n",
        "df <- readWorksheet(wb, sheet=1, header=TRUE)\n",
        "df"
      ],
      "execution_count": 3,
      "outputs": [
        {
          "output_type": "display_data",
          "data": {
            "text/plain": [
              "    구.분 역명          X1월    X2월    X3월    총계     일평균\n",
              "1   1호선 서울역(1)     4126245 3661950 4145729 11933924 132599\n",
              "2   1호선 시청(1)       1499505 1229076 1493112  4221693  46908\n",
              "3   1호선 종각          3039562 2477861 2924326  8441749  93797\n",
              "4   1호선 종로3가(1)    2435003 1999718 2290837  6725558  74728\n",
              "5   1호선 종로5가       1758749 1488469 1791087  5038305  55981\n",
              "6   1호선 동대문(1)     1032643  942226 1141235  3116104  34623\n",
              "7   1호선 신설동(1)     1016609  861509 1114369  2992487  33250\n",
              "8   1호선 제기동        1273577 1164476 1319059  3757112  41746\n",
              "9   1호선 청량리        1898670 1683252 1973381  5555303  61726\n",
              "10  1호선 동묘앞         591418  549158  686803  1827379  20304\n",
              "11  2호선 시청(2)       1533633 1269858 1589645  4393136  48813\n",
              "12  2호선 을지입구      3242154 2819727 3344061  9405942 104510\n",
              "13  2호선 을지3가(2)    1200727 1006160 1270607  3477494  38639\n",
              "14  2호선 을지4가        807510  699417  845384  2352311  26137\n",
              "15  2호선 동대문공원(2) 1195464 1051381 1337361  3584206  39825\n",
              "16  2호선 신당           942833  810601 1011683  2765117  30724\n",
              "17  2호선 상왕십리       611512  520960  682174  1814646  20163\n",
              "18  2호선 왕십리        1137503  969619 1291135  3398257  37758\n",
              "19  2호선 한양대         553930  471745 1031220  2056895  22854\n",
              "20  2호선 뚝섬           946545  813109 1073954  2833608  31485\n",
              "21  2호선 성수          1578220 1315744 1679251  4573215  50814\n",
              "22  2호선 건대입구      2926931 2531272 3101898  8560101  95112\n",
              "23  2호선 구의          1478661 1250548 1566989  4296198  47736\n",
              "24  2호선 강변          3168150 2836674 3243537  9248361 102760\n",
              "25  2호선 잠실나루      1104278  932640 1183057  3219975  35778\n",
              "26  2호선 잠실          4773349 4189499 4884784 13847632 153863\n",
              "27  2호선 신천          1680346 1431440 1763437  4875223  54169\n",
              "28  2호선 종합운동장     809370  663161 1016076  2488607  27651\n",
              "29  2호선 삼성          3985210 3355662 4117189 11458061 127312\n",
              "30  2호선 선릉          3337726 2708332 3390510  9436568 104851\n",
              "⋮   ⋮     ⋮             ⋮       ⋮       ⋮       ⋮        ⋮     \n",
              "90  3호선 수서           791086  677012  854656 2322754  25808 \n",
              "91  3호선 가락시장       537549  460066  562517 1560132  17335 \n",
              "92  3호선 경찰병원       459264  388204  484703 1332171  14802 \n",
              "93  3호선 오금           393347  331852  420148 1145347  12726 \n",
              "94  4호선 당고개         820579  716876  887760 2425215  26947 \n",
              "95  4호선 상계          1311411 1132975 1419145 3863531  42928 \n",
              "96  4호선 노원          1586952 1384830 1670727 4642509  51583 \n",
              "97  4호선 창동          1964612 1708920 2093364 5766896  64077 \n",
              "98  4호선 쌍문          1957811 1674618 2079993 5712422  63471 \n",
              "99  4호선 수유          2748629 2384430 3030047 8163106  90701 \n",
              "100 4호선 미아          1119912  964162 1273948 3358022  37311 \n",
              "101 4호선 미아사거리    2077223 1805575 2195332 6078130  67535 \n",
              "102 4호선 길음          1617228 1401696 1947917 4966841  55187 \n",
              "103 4호선 성신여대      1504096 1320316 1776915 4601327  51126 \n",
              "104 4호선 한성대입구     928248  809504 1180591 2918343  32426 \n",
              "105 4호선 혜화          2803374 2359044 2853215 8015633  89063 \n",
              "106 4호선 동대문(4)     1546714 1295225 1656669 4498608  49985 \n",
              "107 4호선 동대문공원(4) 1347515 1167177 1443847 3958539  43984 \n",
              "108 4호선 충무로        2048859 1729690 2336448 6114997  67944 \n",
              "109 4호선 명동          2566589 2439679 2860284 7866552  87406 \n",
              "110 4호선 회현          1822303 1530142 1979112 5331557  59240 \n",
              "111 4호선 서울역(4)      907288  782628  954163 2644079  29379 \n",
              "112 4호선 숙대입구       998726  846370 1267531 3112627  34585 \n",
              "113 4호선 삼각지         402064  332149  406490 1140703  12674 \n",
              "114 4호선 신용산         852155  731320  874176 2457651  27307 \n",
              "115 4호선 이촌           649067  523343  620101 1792511  19917 \n",
              "116 4호선 동작           171856  151850  199909  523615   5818 \n",
              "117 4호선 총신대입구    1503371 1288973 1606553 4398897  48877 \n",
              "118 4호선 사당(4)       1847582 1553321 2058432 5459335  60659 \n",
              "119 4호선 남태령          61253   62105   83099  206457   2294 "
            ],
            "text/latex": "A data.frame: 119 × 7\n\\begin{tabular}{lllllll}\n 구.분 & 역명 & X1월 & X2월 & X3월 & 총계 & 일평균\\\\\n <chr> & <chr> & <dbl> & <dbl> & <dbl> & <dbl> & <dbl>\\\\\n\\hline\n\t 1호선 & 서울역(1)     & 4126245 & 3661950 & 4145729 & 11933924 & 132599\\\\\n\t 1호선 & 시청(1)       & 1499505 & 1229076 & 1493112 &  4221693 &  46908\\\\\n\t 1호선 & 종각          & 3039562 & 2477861 & 2924326 &  8441749 &  93797\\\\\n\t 1호선 & 종로3가(1)    & 2435003 & 1999718 & 2290837 &  6725558 &  74728\\\\\n\t 1호선 & 종로5가       & 1758749 & 1488469 & 1791087 &  5038305 &  55981\\\\\n\t 1호선 & 동대문(1)     & 1032643 &  942226 & 1141235 &  3116104 &  34623\\\\\n\t 1호선 & 신설동(1)     & 1016609 &  861509 & 1114369 &  2992487 &  33250\\\\\n\t 1호선 & 제기동        & 1273577 & 1164476 & 1319059 &  3757112 &  41746\\\\\n\t 1호선 & 청량리        & 1898670 & 1683252 & 1973381 &  5555303 &  61726\\\\\n\t 1호선 & 동묘앞        &  591418 &  549158 &  686803 &  1827379 &  20304\\\\\n\t 2호선 & 시청(2)       & 1533633 & 1269858 & 1589645 &  4393136 &  48813\\\\\n\t 2호선 & 을지입구      & 3242154 & 2819727 & 3344061 &  9405942 & 104510\\\\\n\t 2호선 & 을지3가(2)    & 1200727 & 1006160 & 1270607 &  3477494 &  38639\\\\\n\t 2호선 & 을지4가       &  807510 &  699417 &  845384 &  2352311 &  26137\\\\\n\t 2호선 & 동대문공원(2) & 1195464 & 1051381 & 1337361 &  3584206 &  39825\\\\\n\t 2호선 & 신당          &  942833 &  810601 & 1011683 &  2765117 &  30724\\\\\n\t 2호선 & 상왕십리      &  611512 &  520960 &  682174 &  1814646 &  20163\\\\\n\t 2호선 & 왕십리        & 1137503 &  969619 & 1291135 &  3398257 &  37758\\\\\n\t 2호선 & 한양대        &  553930 &  471745 & 1031220 &  2056895 &  22854\\\\\n\t 2호선 & 뚝섬          &  946545 &  813109 & 1073954 &  2833608 &  31485\\\\\n\t 2호선 & 성수          & 1578220 & 1315744 & 1679251 &  4573215 &  50814\\\\\n\t 2호선 & 건대입구      & 2926931 & 2531272 & 3101898 &  8560101 &  95112\\\\\n\t 2호선 & 구의          & 1478661 & 1250548 & 1566989 &  4296198 &  47736\\\\\n\t 2호선 & 강변          & 3168150 & 2836674 & 3243537 &  9248361 & 102760\\\\\n\t 2호선 & 잠실나루      & 1104278 &  932640 & 1183057 &  3219975 &  35778\\\\\n\t 2호선 & 잠실          & 4773349 & 4189499 & 4884784 & 13847632 & 153863\\\\\n\t 2호선 & 신천          & 1680346 & 1431440 & 1763437 &  4875223 &  54169\\\\\n\t 2호선 & 종합운동장    &  809370 &  663161 & 1016076 &  2488607 &  27651\\\\\n\t 2호선 & 삼성          & 3985210 & 3355662 & 4117189 & 11458061 & 127312\\\\\n\t 2호선 & 선릉          & 3337726 & 2708332 & 3390510 &  9436568 & 104851\\\\\n\t ⋮ & ⋮ & ⋮ & ⋮ & ⋮ & ⋮ & ⋮\\\\\n\t 3호선 & 수서          &  791086 &  677012 &  854656 & 2322754 & 25808\\\\\n\t 3호선 & 가락시장      &  537549 &  460066 &  562517 & 1560132 & 17335\\\\\n\t 3호선 & 경찰병원      &  459264 &  388204 &  484703 & 1332171 & 14802\\\\\n\t 3호선 & 오금          &  393347 &  331852 &  420148 & 1145347 & 12726\\\\\n\t 4호선 & 당고개        &  820579 &  716876 &  887760 & 2425215 & 26947\\\\\n\t 4호선 & 상계          & 1311411 & 1132975 & 1419145 & 3863531 & 42928\\\\\n\t 4호선 & 노원          & 1586952 & 1384830 & 1670727 & 4642509 & 51583\\\\\n\t 4호선 & 창동          & 1964612 & 1708920 & 2093364 & 5766896 & 64077\\\\\n\t 4호선 & 쌍문          & 1957811 & 1674618 & 2079993 & 5712422 & 63471\\\\\n\t 4호선 & 수유          & 2748629 & 2384430 & 3030047 & 8163106 & 90701\\\\\n\t 4호선 & 미아          & 1119912 &  964162 & 1273948 & 3358022 & 37311\\\\\n\t 4호선 & 미아사거리    & 2077223 & 1805575 & 2195332 & 6078130 & 67535\\\\\n\t 4호선 & 길음          & 1617228 & 1401696 & 1947917 & 4966841 & 55187\\\\\n\t 4호선 & 성신여대      & 1504096 & 1320316 & 1776915 & 4601327 & 51126\\\\\n\t 4호선 & 한성대입구    &  928248 &  809504 & 1180591 & 2918343 & 32426\\\\\n\t 4호선 & 혜화          & 2803374 & 2359044 & 2853215 & 8015633 & 89063\\\\\n\t 4호선 & 동대문(4)     & 1546714 & 1295225 & 1656669 & 4498608 & 49985\\\\\n\t 4호선 & 동대문공원(4) & 1347515 & 1167177 & 1443847 & 3958539 & 43984\\\\\n\t 4호선 & 충무로        & 2048859 & 1729690 & 2336448 & 6114997 & 67944\\\\\n\t 4호선 & 명동          & 2566589 & 2439679 & 2860284 & 7866552 & 87406\\\\\n\t 4호선 & 회현          & 1822303 & 1530142 & 1979112 & 5331557 & 59240\\\\\n\t 4호선 & 서울역(4)     &  907288 &  782628 &  954163 & 2644079 & 29379\\\\\n\t 4호선 & 숙대입구      &  998726 &  846370 & 1267531 & 3112627 & 34585\\\\\n\t 4호선 & 삼각지        &  402064 &  332149 &  406490 & 1140703 & 12674\\\\\n\t 4호선 & 신용산        &  852155 &  731320 &  874176 & 2457651 & 27307\\\\\n\t 4호선 & 이촌          &  649067 &  523343 &  620101 & 1792511 & 19917\\\\\n\t 4호선 & 동작          &  171856 &  151850 &  199909 &  523615 &  5818\\\\\n\t 4호선 & 총신대입구    & 1503371 & 1288973 & 1606553 & 4398897 & 48877\\\\\n\t 4호선 & 사당(4)       & 1847582 & 1553321 & 2058432 & 5459335 & 60659\\\\\n\t 4호선 & 남태령        &   61253 &   62105 &   83099 &  206457 &  2294\\\\\n\\end{tabular}\n",
            "text/markdown": "\nA data.frame: 119 × 7\n\n| 구.분 &lt;chr&gt; | 역명 &lt;chr&gt; | X1월 &lt;dbl&gt; | X2월 &lt;dbl&gt; | X3월 &lt;dbl&gt; | 총계 &lt;dbl&gt; | 일평균 &lt;dbl&gt; |\n|---|---|---|---|---|---|---|\n| 1호선 | 서울역(1)     | 4126245 | 3661950 | 4145729 | 11933924 | 132599 |\n| 1호선 | 시청(1)       | 1499505 | 1229076 | 1493112 |  4221693 |  46908 |\n| 1호선 | 종각          | 3039562 | 2477861 | 2924326 |  8441749 |  93797 |\n| 1호선 | 종로3가(1)    | 2435003 | 1999718 | 2290837 |  6725558 |  74728 |\n| 1호선 | 종로5가       | 1758749 | 1488469 | 1791087 |  5038305 |  55981 |\n| 1호선 | 동대문(1)     | 1032643 |  942226 | 1141235 |  3116104 |  34623 |\n| 1호선 | 신설동(1)     | 1016609 |  861509 | 1114369 |  2992487 |  33250 |\n| 1호선 | 제기동        | 1273577 | 1164476 | 1319059 |  3757112 |  41746 |\n| 1호선 | 청량리        | 1898670 | 1683252 | 1973381 |  5555303 |  61726 |\n| 1호선 | 동묘앞        |  591418 |  549158 |  686803 |  1827379 |  20304 |\n| 2호선 | 시청(2)       | 1533633 | 1269858 | 1589645 |  4393136 |  48813 |\n| 2호선 | 을지입구      | 3242154 | 2819727 | 3344061 |  9405942 | 104510 |\n| 2호선 | 을지3가(2)    | 1200727 | 1006160 | 1270607 |  3477494 |  38639 |\n| 2호선 | 을지4가       |  807510 |  699417 |  845384 |  2352311 |  26137 |\n| 2호선 | 동대문공원(2) | 1195464 | 1051381 | 1337361 |  3584206 |  39825 |\n| 2호선 | 신당          |  942833 |  810601 | 1011683 |  2765117 |  30724 |\n| 2호선 | 상왕십리      |  611512 |  520960 |  682174 |  1814646 |  20163 |\n| 2호선 | 왕십리        | 1137503 |  969619 | 1291135 |  3398257 |  37758 |\n| 2호선 | 한양대        |  553930 |  471745 | 1031220 |  2056895 |  22854 |\n| 2호선 | 뚝섬          |  946545 |  813109 | 1073954 |  2833608 |  31485 |\n| 2호선 | 성수          | 1578220 | 1315744 | 1679251 |  4573215 |  50814 |\n| 2호선 | 건대입구      | 2926931 | 2531272 | 3101898 |  8560101 |  95112 |\n| 2호선 | 구의          | 1478661 | 1250548 | 1566989 |  4296198 |  47736 |\n| 2호선 | 강변          | 3168150 | 2836674 | 3243537 |  9248361 | 102760 |\n| 2호선 | 잠실나루      | 1104278 |  932640 | 1183057 |  3219975 |  35778 |\n| 2호선 | 잠실          | 4773349 | 4189499 | 4884784 | 13847632 | 153863 |\n| 2호선 | 신천          | 1680346 | 1431440 | 1763437 |  4875223 |  54169 |\n| 2호선 | 종합운동장    |  809370 |  663161 | 1016076 |  2488607 |  27651 |\n| 2호선 | 삼성          | 3985210 | 3355662 | 4117189 | 11458061 | 127312 |\n| 2호선 | 선릉          | 3337726 | 2708332 | 3390510 |  9436568 | 104851 |\n| ⋮ | ⋮ | ⋮ | ⋮ | ⋮ | ⋮ | ⋮ |\n| 3호선 | 수서          |  791086 |  677012 |  854656 | 2322754 | 25808 |\n| 3호선 | 가락시장      |  537549 |  460066 |  562517 | 1560132 | 17335 |\n| 3호선 | 경찰병원      |  459264 |  388204 |  484703 | 1332171 | 14802 |\n| 3호선 | 오금          |  393347 |  331852 |  420148 | 1145347 | 12726 |\n| 4호선 | 당고개        |  820579 |  716876 |  887760 | 2425215 | 26947 |\n| 4호선 | 상계          | 1311411 | 1132975 | 1419145 | 3863531 | 42928 |\n| 4호선 | 노원          | 1586952 | 1384830 | 1670727 | 4642509 | 51583 |\n| 4호선 | 창동          | 1964612 | 1708920 | 2093364 | 5766896 | 64077 |\n| 4호선 | 쌍문          | 1957811 | 1674618 | 2079993 | 5712422 | 63471 |\n| 4호선 | 수유          | 2748629 | 2384430 | 3030047 | 8163106 | 90701 |\n| 4호선 | 미아          | 1119912 |  964162 | 1273948 | 3358022 | 37311 |\n| 4호선 | 미아사거리    | 2077223 | 1805575 | 2195332 | 6078130 | 67535 |\n| 4호선 | 길음          | 1617228 | 1401696 | 1947917 | 4966841 | 55187 |\n| 4호선 | 성신여대      | 1504096 | 1320316 | 1776915 | 4601327 | 51126 |\n| 4호선 | 한성대입구    |  928248 |  809504 | 1180591 | 2918343 | 32426 |\n| 4호선 | 혜화          | 2803374 | 2359044 | 2853215 | 8015633 | 89063 |\n| 4호선 | 동대문(4)     | 1546714 | 1295225 | 1656669 | 4498608 | 49985 |\n| 4호선 | 동대문공원(4) | 1347515 | 1167177 | 1443847 | 3958539 | 43984 |\n| 4호선 | 충무로        | 2048859 | 1729690 | 2336448 | 6114997 | 67944 |\n| 4호선 | 명동          | 2566589 | 2439679 | 2860284 | 7866552 | 87406 |\n| 4호선 | 회현          | 1822303 | 1530142 | 1979112 | 5331557 | 59240 |\n| 4호선 | 서울역(4)     |  907288 |  782628 |  954163 | 2644079 | 29379 |\n| 4호선 | 숙대입구      |  998726 |  846370 | 1267531 | 3112627 | 34585 |\n| 4호선 | 삼각지        |  402064 |  332149 |  406490 | 1140703 | 12674 |\n| 4호선 | 신용산        |  852155 |  731320 |  874176 | 2457651 | 27307 |\n| 4호선 | 이촌          |  649067 |  523343 |  620101 | 1792511 | 19917 |\n| 4호선 | 동작          |  171856 |  151850 |  199909 |  523615 |  5818 |\n| 4호선 | 총신대입구    | 1503371 | 1288973 | 1606553 | 4398897 | 48877 |\n| 4호선 | 사당(4)       | 1847582 | 1553321 | 2058432 | 5459335 | 60659 |\n| 4호선 | 남태령        |   61253 |   62105 |   83099 |  206457 |  2294 |\n\n",
            "text/html": [
              "<table class=\"dataframe\">\n",
              "<caption>A data.frame: 119 × 7</caption>\n",
              "<thead>\n",
              "\t<tr><th scope=col>구.분</th><th scope=col>역명</th><th scope=col>X1월</th><th scope=col>X2월</th><th scope=col>X3월</th><th scope=col>총계</th><th scope=col>일평균</th></tr>\n",
              "\t<tr><th scope=col>&lt;chr&gt;</th><th scope=col>&lt;chr&gt;</th><th scope=col>&lt;dbl&gt;</th><th scope=col>&lt;dbl&gt;</th><th scope=col>&lt;dbl&gt;</th><th scope=col>&lt;dbl&gt;</th><th scope=col>&lt;dbl&gt;</th></tr>\n",
              "</thead>\n",
              "<tbody>\n",
              "\t<tr><td>1호선</td><td>서울역(1)    </td><td>4126245</td><td>3661950</td><td>4145729</td><td>11933924</td><td>132599</td></tr>\n",
              "\t<tr><td>1호선</td><td>시청(1)      </td><td>1499505</td><td>1229076</td><td>1493112</td><td> 4221693</td><td> 46908</td></tr>\n",
              "\t<tr><td>1호선</td><td>종각         </td><td>3039562</td><td>2477861</td><td>2924326</td><td> 8441749</td><td> 93797</td></tr>\n",
              "\t<tr><td>1호선</td><td>종로3가(1)   </td><td>2435003</td><td>1999718</td><td>2290837</td><td> 6725558</td><td> 74728</td></tr>\n",
              "\t<tr><td>1호선</td><td>종로5가      </td><td>1758749</td><td>1488469</td><td>1791087</td><td> 5038305</td><td> 55981</td></tr>\n",
              "\t<tr><td>1호선</td><td>동대문(1)    </td><td>1032643</td><td> 942226</td><td>1141235</td><td> 3116104</td><td> 34623</td></tr>\n",
              "\t<tr><td>1호선</td><td>신설동(1)    </td><td>1016609</td><td> 861509</td><td>1114369</td><td> 2992487</td><td> 33250</td></tr>\n",
              "\t<tr><td>1호선</td><td>제기동       </td><td>1273577</td><td>1164476</td><td>1319059</td><td> 3757112</td><td> 41746</td></tr>\n",
              "\t<tr><td>1호선</td><td>청량리       </td><td>1898670</td><td>1683252</td><td>1973381</td><td> 5555303</td><td> 61726</td></tr>\n",
              "\t<tr><td>1호선</td><td>동묘앞       </td><td> 591418</td><td> 549158</td><td> 686803</td><td> 1827379</td><td> 20304</td></tr>\n",
              "\t<tr><td>2호선</td><td>시청(2)      </td><td>1533633</td><td>1269858</td><td>1589645</td><td> 4393136</td><td> 48813</td></tr>\n",
              "\t<tr><td>2호선</td><td>을지입구     </td><td>3242154</td><td>2819727</td><td>3344061</td><td> 9405942</td><td>104510</td></tr>\n",
              "\t<tr><td>2호선</td><td>을지3가(2)   </td><td>1200727</td><td>1006160</td><td>1270607</td><td> 3477494</td><td> 38639</td></tr>\n",
              "\t<tr><td>2호선</td><td>을지4가      </td><td> 807510</td><td> 699417</td><td> 845384</td><td> 2352311</td><td> 26137</td></tr>\n",
              "\t<tr><td>2호선</td><td>동대문공원(2)</td><td>1195464</td><td>1051381</td><td>1337361</td><td> 3584206</td><td> 39825</td></tr>\n",
              "\t<tr><td>2호선</td><td>신당         </td><td> 942833</td><td> 810601</td><td>1011683</td><td> 2765117</td><td> 30724</td></tr>\n",
              "\t<tr><td>2호선</td><td>상왕십리     </td><td> 611512</td><td> 520960</td><td> 682174</td><td> 1814646</td><td> 20163</td></tr>\n",
              "\t<tr><td>2호선</td><td>왕십리       </td><td>1137503</td><td> 969619</td><td>1291135</td><td> 3398257</td><td> 37758</td></tr>\n",
              "\t<tr><td>2호선</td><td>한양대       </td><td> 553930</td><td> 471745</td><td>1031220</td><td> 2056895</td><td> 22854</td></tr>\n",
              "\t<tr><td>2호선</td><td>뚝섬         </td><td> 946545</td><td> 813109</td><td>1073954</td><td> 2833608</td><td> 31485</td></tr>\n",
              "\t<tr><td>2호선</td><td>성수         </td><td>1578220</td><td>1315744</td><td>1679251</td><td> 4573215</td><td> 50814</td></tr>\n",
              "\t<tr><td>2호선</td><td>건대입구     </td><td>2926931</td><td>2531272</td><td>3101898</td><td> 8560101</td><td> 95112</td></tr>\n",
              "\t<tr><td>2호선</td><td>구의         </td><td>1478661</td><td>1250548</td><td>1566989</td><td> 4296198</td><td> 47736</td></tr>\n",
              "\t<tr><td>2호선</td><td>강변         </td><td>3168150</td><td>2836674</td><td>3243537</td><td> 9248361</td><td>102760</td></tr>\n",
              "\t<tr><td>2호선</td><td>잠실나루     </td><td>1104278</td><td> 932640</td><td>1183057</td><td> 3219975</td><td> 35778</td></tr>\n",
              "\t<tr><td>2호선</td><td>잠실         </td><td>4773349</td><td>4189499</td><td>4884784</td><td>13847632</td><td>153863</td></tr>\n",
              "\t<tr><td>2호선</td><td>신천         </td><td>1680346</td><td>1431440</td><td>1763437</td><td> 4875223</td><td> 54169</td></tr>\n",
              "\t<tr><td>2호선</td><td>종합운동장   </td><td> 809370</td><td> 663161</td><td>1016076</td><td> 2488607</td><td> 27651</td></tr>\n",
              "\t<tr><td>2호선</td><td>삼성         </td><td>3985210</td><td>3355662</td><td>4117189</td><td>11458061</td><td>127312</td></tr>\n",
              "\t<tr><td>2호선</td><td>선릉         </td><td>3337726</td><td>2708332</td><td>3390510</td><td> 9436568</td><td>104851</td></tr>\n",
              "\t<tr><td>⋮</td><td>⋮</td><td>⋮</td><td>⋮</td><td>⋮</td><td>⋮</td><td>⋮</td></tr>\n",
              "\t<tr><td>3호선</td><td>수서         </td><td> 791086</td><td> 677012</td><td> 854656</td><td>2322754</td><td>25808</td></tr>\n",
              "\t<tr><td>3호선</td><td>가락시장     </td><td> 537549</td><td> 460066</td><td> 562517</td><td>1560132</td><td>17335</td></tr>\n",
              "\t<tr><td>3호선</td><td>경찰병원     </td><td> 459264</td><td> 388204</td><td> 484703</td><td>1332171</td><td>14802</td></tr>\n",
              "\t<tr><td>3호선</td><td>오금         </td><td> 393347</td><td> 331852</td><td> 420148</td><td>1145347</td><td>12726</td></tr>\n",
              "\t<tr><td>4호선</td><td>당고개       </td><td> 820579</td><td> 716876</td><td> 887760</td><td>2425215</td><td>26947</td></tr>\n",
              "\t<tr><td>4호선</td><td>상계         </td><td>1311411</td><td>1132975</td><td>1419145</td><td>3863531</td><td>42928</td></tr>\n",
              "\t<tr><td>4호선</td><td>노원         </td><td>1586952</td><td>1384830</td><td>1670727</td><td>4642509</td><td>51583</td></tr>\n",
              "\t<tr><td>4호선</td><td>창동         </td><td>1964612</td><td>1708920</td><td>2093364</td><td>5766896</td><td>64077</td></tr>\n",
              "\t<tr><td>4호선</td><td>쌍문         </td><td>1957811</td><td>1674618</td><td>2079993</td><td>5712422</td><td>63471</td></tr>\n",
              "\t<tr><td>4호선</td><td>수유         </td><td>2748629</td><td>2384430</td><td>3030047</td><td>8163106</td><td>90701</td></tr>\n",
              "\t<tr><td>4호선</td><td>미아         </td><td>1119912</td><td> 964162</td><td>1273948</td><td>3358022</td><td>37311</td></tr>\n",
              "\t<tr><td>4호선</td><td>미아사거리   </td><td>2077223</td><td>1805575</td><td>2195332</td><td>6078130</td><td>67535</td></tr>\n",
              "\t<tr><td>4호선</td><td>길음         </td><td>1617228</td><td>1401696</td><td>1947917</td><td>4966841</td><td>55187</td></tr>\n",
              "\t<tr><td>4호선</td><td>성신여대     </td><td>1504096</td><td>1320316</td><td>1776915</td><td>4601327</td><td>51126</td></tr>\n",
              "\t<tr><td>4호선</td><td>한성대입구   </td><td> 928248</td><td> 809504</td><td>1180591</td><td>2918343</td><td>32426</td></tr>\n",
              "\t<tr><td>4호선</td><td>혜화         </td><td>2803374</td><td>2359044</td><td>2853215</td><td>8015633</td><td>89063</td></tr>\n",
              "\t<tr><td>4호선</td><td>동대문(4)    </td><td>1546714</td><td>1295225</td><td>1656669</td><td>4498608</td><td>49985</td></tr>\n",
              "\t<tr><td>4호선</td><td>동대문공원(4)</td><td>1347515</td><td>1167177</td><td>1443847</td><td>3958539</td><td>43984</td></tr>\n",
              "\t<tr><td>4호선</td><td>충무로       </td><td>2048859</td><td>1729690</td><td>2336448</td><td>6114997</td><td>67944</td></tr>\n",
              "\t<tr><td>4호선</td><td>명동         </td><td>2566589</td><td>2439679</td><td>2860284</td><td>7866552</td><td>87406</td></tr>\n",
              "\t<tr><td>4호선</td><td>회현         </td><td>1822303</td><td>1530142</td><td>1979112</td><td>5331557</td><td>59240</td></tr>\n",
              "\t<tr><td>4호선</td><td>서울역(4)    </td><td> 907288</td><td> 782628</td><td> 954163</td><td>2644079</td><td>29379</td></tr>\n",
              "\t<tr><td>4호선</td><td>숙대입구     </td><td> 998726</td><td> 846370</td><td>1267531</td><td>3112627</td><td>34585</td></tr>\n",
              "\t<tr><td>4호선</td><td>삼각지       </td><td> 402064</td><td> 332149</td><td> 406490</td><td>1140703</td><td>12674</td></tr>\n",
              "\t<tr><td>4호선</td><td>신용산       </td><td> 852155</td><td> 731320</td><td> 874176</td><td>2457651</td><td>27307</td></tr>\n",
              "\t<tr><td>4호선</td><td>이촌         </td><td> 649067</td><td> 523343</td><td> 620101</td><td>1792511</td><td>19917</td></tr>\n",
              "\t<tr><td>4호선</td><td>동작         </td><td> 171856</td><td> 151850</td><td> 199909</td><td> 523615</td><td> 5818</td></tr>\n",
              "\t<tr><td>4호선</td><td>총신대입구   </td><td>1503371</td><td>1288973</td><td>1606553</td><td>4398897</td><td>48877</td></tr>\n",
              "\t<tr><td>4호선</td><td>사당(4)      </td><td>1847582</td><td>1553321</td><td>2058432</td><td>5459335</td><td>60659</td></tr>\n",
              "\t<tr><td>4호선</td><td>남태령       </td><td>  61253</td><td>  62105</td><td>  83099</td><td> 206457</td><td> 2294</td></tr>\n",
              "</tbody>\n",
              "</table>\n"
            ]
          },
          "metadata": {
            "tags": []
          }
        }
      ]
    },
    {
      "cell_type": "code",
      "metadata": {
        "colab": {
          "base_uri": "https://localhost:8080/",
          "height": 1000
        },
        "id": "UUz599zAwkRE",
        "outputId": "34de6158-a012-4b1e-e08f-8d9bc30ceed3"
      },
      "source": [
        "names(df) <- c('구분', '역이름', '1월이용자', '2월이용자', '3월이용자', '합', '1일평균')\n",
        "df"
      ],
      "execution_count": 116,
      "outputs": [
        {
          "output_type": "display_data",
          "data": {
            "text/plain": [
              "    구분  역이름        1월이용자 2월이용자 3월이용자 합       1일평균\n",
              "1   1호선 서울역(1)     4126245   3661950   4145729   11933924 132599 \n",
              "2   1호선 시청(1)       1499505   1229076   1493112    4221693  46908 \n",
              "3   1호선 종각          3039562   2477861   2924326    8441749  93797 \n",
              "4   1호선 종로3가(1)    2435003   1999718   2290837    6725558  74728 \n",
              "5   1호선 종로5가       1758749   1488469   1791087    5038305  55981 \n",
              "6   1호선 동대문(1)     1032643    942226   1141235    3116104  34623 \n",
              "7   1호선 신설동(1)     1016609    861509   1114369    2992487  33250 \n",
              "8   1호선 제기동        1273577   1164476   1319059    3757112  41746 \n",
              "9   1호선 청량리        1898670   1683252   1973381    5555303  61726 \n",
              "10  1호선 동묘앞         591418    549158    686803    1827379  20304 \n",
              "11  2호선 시청(2)       1533633   1269858   1589645    4393136  48813 \n",
              "12  2호선 을지입구      3242154   2819727   3344061    9405942 104510 \n",
              "13  2호선 을지3가(2)    1200727   1006160   1270607    3477494  38639 \n",
              "14  2호선 을지4가        807510    699417    845384    2352311  26137 \n",
              "15  2호선 동대문공원(2) 1195464   1051381   1337361    3584206  39825 \n",
              "16  2호선 신당           942833    810601   1011683    2765117  30724 \n",
              "17  2호선 상왕십리       611512    520960    682174    1814646  20163 \n",
              "18  2호선 왕십리        1137503    969619   1291135    3398257  37758 \n",
              "19  2호선 한양대         553930    471745   1031220    2056895  22854 \n",
              "20  2호선 뚝섬           946545    813109   1073954    2833608  31485 \n",
              "21  2호선 성수          1578220   1315744   1679251    4573215  50814 \n",
              "22  2호선 건대입구      2926931   2531272   3101898    8560101  95112 \n",
              "23  2호선 구의          1478661   1250548   1566989    4296198  47736 \n",
              "24  2호선 강변          3168150   2836674   3243537    9248361 102760 \n",
              "25  2호선 잠실나루      1104278    932640   1183057    3219975  35778 \n",
              "26  2호선 잠실          4773349   4189499   4884784   13847632 153863 \n",
              "27  2호선 신천          1680346   1431440   1763437    4875223  54169 \n",
              "28  2호선 종합운동장     809370    663161   1016076    2488607  27651 \n",
              "29  2호선 삼성          3985210   3355662   4117189   11458061 127312 \n",
              "30  2호선 선릉          3337726   2708332   3390510    9436568 104851 \n",
              "⋮   ⋮     ⋮             ⋮         ⋮         ⋮         ⋮        ⋮      \n",
              "90  3호선 수서           791086    677012    854656   2322754  25808  \n",
              "91  3호선 가락시장       537549    460066    562517   1560132  17335  \n",
              "92  3호선 경찰병원       459264    388204    484703   1332171  14802  \n",
              "93  3호선 오금           393347    331852    420148   1145347  12726  \n",
              "94  4호선 당고개         820579    716876    887760   2425215  26947  \n",
              "95  4호선 상계          1311411   1132975   1419145   3863531  42928  \n",
              "96  4호선 노원          1586952   1384830   1670727   4642509  51583  \n",
              "97  4호선 창동          1964612   1708920   2093364   5766896  64077  \n",
              "98  4호선 쌍문          1957811   1674618   2079993   5712422  63471  \n",
              "99  4호선 수유          2748629   2384430   3030047   8163106  90701  \n",
              "100 4호선 미아          1119912    964162   1273948   3358022  37311  \n",
              "101 4호선 미아사거리    2077223   1805575   2195332   6078130  67535  \n",
              "102 4호선 길음          1617228   1401696   1947917   4966841  55187  \n",
              "103 4호선 성신여대      1504096   1320316   1776915   4601327  51126  \n",
              "104 4호선 한성대입구     928248    809504   1180591   2918343  32426  \n",
              "105 4호선 혜화          2803374   2359044   2853215   8015633  89063  \n",
              "106 4호선 동대문(4)     1546714   1295225   1656669   4498608  49985  \n",
              "107 4호선 동대문공원(4) 1347515   1167177   1443847   3958539  43984  \n",
              "108 4호선 충무로        2048859   1729690   2336448   6114997  67944  \n",
              "109 4호선 명동          2566589   2439679   2860284   7866552  87406  \n",
              "110 4호선 회현          1822303   1530142   1979112   5331557  59240  \n",
              "111 4호선 서울역(4)      907288    782628    954163   2644079  29379  \n",
              "112 4호선 숙대입구       998726    846370   1267531   3112627  34585  \n",
              "113 4호선 삼각지         402064    332149    406490   1140703  12674  \n",
              "114 4호선 신용산         852155    731320    874176   2457651  27307  \n",
              "115 4호선 이촌           649067    523343    620101   1792511  19917  \n",
              "116 4호선 동작           171856    151850    199909    523615   5818  \n",
              "117 4호선 총신대입구    1503371   1288973   1606553   4398897  48877  \n",
              "118 4호선 사당(4)       1847582   1553321   2058432   5459335  60659  \n",
              "119 4호선 남태령          61253     62105     83099    206457   2294  "
            ],
            "text/latex": "A data.frame: 119 × 7\n\\begin{tabular}{lllllll}\n 구분 & 역이름 & 1월이용자 & 2월이용자 & 3월이용자 & 합 & 1일평균\\\\\n <chr> & <chr> & <dbl> & <dbl> & <dbl> & <dbl> & <dbl>\\\\\n\\hline\n\t 1호선 & 서울역(1)     & 4126245 & 3661950 & 4145729 & 11933924 & 132599\\\\\n\t 1호선 & 시청(1)       & 1499505 & 1229076 & 1493112 &  4221693 &  46908\\\\\n\t 1호선 & 종각          & 3039562 & 2477861 & 2924326 &  8441749 &  93797\\\\\n\t 1호선 & 종로3가(1)    & 2435003 & 1999718 & 2290837 &  6725558 &  74728\\\\\n\t 1호선 & 종로5가       & 1758749 & 1488469 & 1791087 &  5038305 &  55981\\\\\n\t 1호선 & 동대문(1)     & 1032643 &  942226 & 1141235 &  3116104 &  34623\\\\\n\t 1호선 & 신설동(1)     & 1016609 &  861509 & 1114369 &  2992487 &  33250\\\\\n\t 1호선 & 제기동        & 1273577 & 1164476 & 1319059 &  3757112 &  41746\\\\\n\t 1호선 & 청량리        & 1898670 & 1683252 & 1973381 &  5555303 &  61726\\\\\n\t 1호선 & 동묘앞        &  591418 &  549158 &  686803 &  1827379 &  20304\\\\\n\t 2호선 & 시청(2)       & 1533633 & 1269858 & 1589645 &  4393136 &  48813\\\\\n\t 2호선 & 을지입구      & 3242154 & 2819727 & 3344061 &  9405942 & 104510\\\\\n\t 2호선 & 을지3가(2)    & 1200727 & 1006160 & 1270607 &  3477494 &  38639\\\\\n\t 2호선 & 을지4가       &  807510 &  699417 &  845384 &  2352311 &  26137\\\\\n\t 2호선 & 동대문공원(2) & 1195464 & 1051381 & 1337361 &  3584206 &  39825\\\\\n\t 2호선 & 신당          &  942833 &  810601 & 1011683 &  2765117 &  30724\\\\\n\t 2호선 & 상왕십리      &  611512 &  520960 &  682174 &  1814646 &  20163\\\\\n\t 2호선 & 왕십리        & 1137503 &  969619 & 1291135 &  3398257 &  37758\\\\\n\t 2호선 & 한양대        &  553930 &  471745 & 1031220 &  2056895 &  22854\\\\\n\t 2호선 & 뚝섬          &  946545 &  813109 & 1073954 &  2833608 &  31485\\\\\n\t 2호선 & 성수          & 1578220 & 1315744 & 1679251 &  4573215 &  50814\\\\\n\t 2호선 & 건대입구      & 2926931 & 2531272 & 3101898 &  8560101 &  95112\\\\\n\t 2호선 & 구의          & 1478661 & 1250548 & 1566989 &  4296198 &  47736\\\\\n\t 2호선 & 강변          & 3168150 & 2836674 & 3243537 &  9248361 & 102760\\\\\n\t 2호선 & 잠실나루      & 1104278 &  932640 & 1183057 &  3219975 &  35778\\\\\n\t 2호선 & 잠실          & 4773349 & 4189499 & 4884784 & 13847632 & 153863\\\\\n\t 2호선 & 신천          & 1680346 & 1431440 & 1763437 &  4875223 &  54169\\\\\n\t 2호선 & 종합운동장    &  809370 &  663161 & 1016076 &  2488607 &  27651\\\\\n\t 2호선 & 삼성          & 3985210 & 3355662 & 4117189 & 11458061 & 127312\\\\\n\t 2호선 & 선릉          & 3337726 & 2708332 & 3390510 &  9436568 & 104851\\\\\n\t ⋮ & ⋮ & ⋮ & ⋮ & ⋮ & ⋮ & ⋮\\\\\n\t 3호선 & 수서          &  791086 &  677012 &  854656 & 2322754 & 25808\\\\\n\t 3호선 & 가락시장      &  537549 &  460066 &  562517 & 1560132 & 17335\\\\\n\t 3호선 & 경찰병원      &  459264 &  388204 &  484703 & 1332171 & 14802\\\\\n\t 3호선 & 오금          &  393347 &  331852 &  420148 & 1145347 & 12726\\\\\n\t 4호선 & 당고개        &  820579 &  716876 &  887760 & 2425215 & 26947\\\\\n\t 4호선 & 상계          & 1311411 & 1132975 & 1419145 & 3863531 & 42928\\\\\n\t 4호선 & 노원          & 1586952 & 1384830 & 1670727 & 4642509 & 51583\\\\\n\t 4호선 & 창동          & 1964612 & 1708920 & 2093364 & 5766896 & 64077\\\\\n\t 4호선 & 쌍문          & 1957811 & 1674618 & 2079993 & 5712422 & 63471\\\\\n\t 4호선 & 수유          & 2748629 & 2384430 & 3030047 & 8163106 & 90701\\\\\n\t 4호선 & 미아          & 1119912 &  964162 & 1273948 & 3358022 & 37311\\\\\n\t 4호선 & 미아사거리    & 2077223 & 1805575 & 2195332 & 6078130 & 67535\\\\\n\t 4호선 & 길음          & 1617228 & 1401696 & 1947917 & 4966841 & 55187\\\\\n\t 4호선 & 성신여대      & 1504096 & 1320316 & 1776915 & 4601327 & 51126\\\\\n\t 4호선 & 한성대입구    &  928248 &  809504 & 1180591 & 2918343 & 32426\\\\\n\t 4호선 & 혜화          & 2803374 & 2359044 & 2853215 & 8015633 & 89063\\\\\n\t 4호선 & 동대문(4)     & 1546714 & 1295225 & 1656669 & 4498608 & 49985\\\\\n\t 4호선 & 동대문공원(4) & 1347515 & 1167177 & 1443847 & 3958539 & 43984\\\\\n\t 4호선 & 충무로        & 2048859 & 1729690 & 2336448 & 6114997 & 67944\\\\\n\t 4호선 & 명동          & 2566589 & 2439679 & 2860284 & 7866552 & 87406\\\\\n\t 4호선 & 회현          & 1822303 & 1530142 & 1979112 & 5331557 & 59240\\\\\n\t 4호선 & 서울역(4)     &  907288 &  782628 &  954163 & 2644079 & 29379\\\\\n\t 4호선 & 숙대입구      &  998726 &  846370 & 1267531 & 3112627 & 34585\\\\\n\t 4호선 & 삼각지        &  402064 &  332149 &  406490 & 1140703 & 12674\\\\\n\t 4호선 & 신용산        &  852155 &  731320 &  874176 & 2457651 & 27307\\\\\n\t 4호선 & 이촌          &  649067 &  523343 &  620101 & 1792511 & 19917\\\\\n\t 4호선 & 동작          &  171856 &  151850 &  199909 &  523615 &  5818\\\\\n\t 4호선 & 총신대입구    & 1503371 & 1288973 & 1606553 & 4398897 & 48877\\\\\n\t 4호선 & 사당(4)       & 1847582 & 1553321 & 2058432 & 5459335 & 60659\\\\\n\t 4호선 & 남태령        &   61253 &   62105 &   83099 &  206457 &  2294\\\\\n\\end{tabular}\n",
            "text/markdown": "\nA data.frame: 119 × 7\n\n| 구분 &lt;chr&gt; | 역이름 &lt;chr&gt; | 1월이용자 &lt;dbl&gt; | 2월이용자 &lt;dbl&gt; | 3월이용자 &lt;dbl&gt; | 합 &lt;dbl&gt; | 1일평균 &lt;dbl&gt; |\n|---|---|---|---|---|---|---|\n| 1호선 | 서울역(1)     | 4126245 | 3661950 | 4145729 | 11933924 | 132599 |\n| 1호선 | 시청(1)       | 1499505 | 1229076 | 1493112 |  4221693 |  46908 |\n| 1호선 | 종각          | 3039562 | 2477861 | 2924326 |  8441749 |  93797 |\n| 1호선 | 종로3가(1)    | 2435003 | 1999718 | 2290837 |  6725558 |  74728 |\n| 1호선 | 종로5가       | 1758749 | 1488469 | 1791087 |  5038305 |  55981 |\n| 1호선 | 동대문(1)     | 1032643 |  942226 | 1141235 |  3116104 |  34623 |\n| 1호선 | 신설동(1)     | 1016609 |  861509 | 1114369 |  2992487 |  33250 |\n| 1호선 | 제기동        | 1273577 | 1164476 | 1319059 |  3757112 |  41746 |\n| 1호선 | 청량리        | 1898670 | 1683252 | 1973381 |  5555303 |  61726 |\n| 1호선 | 동묘앞        |  591418 |  549158 |  686803 |  1827379 |  20304 |\n| 2호선 | 시청(2)       | 1533633 | 1269858 | 1589645 |  4393136 |  48813 |\n| 2호선 | 을지입구      | 3242154 | 2819727 | 3344061 |  9405942 | 104510 |\n| 2호선 | 을지3가(2)    | 1200727 | 1006160 | 1270607 |  3477494 |  38639 |\n| 2호선 | 을지4가       |  807510 |  699417 |  845384 |  2352311 |  26137 |\n| 2호선 | 동대문공원(2) | 1195464 | 1051381 | 1337361 |  3584206 |  39825 |\n| 2호선 | 신당          |  942833 |  810601 | 1011683 |  2765117 |  30724 |\n| 2호선 | 상왕십리      |  611512 |  520960 |  682174 |  1814646 |  20163 |\n| 2호선 | 왕십리        | 1137503 |  969619 | 1291135 |  3398257 |  37758 |\n| 2호선 | 한양대        |  553930 |  471745 | 1031220 |  2056895 |  22854 |\n| 2호선 | 뚝섬          |  946545 |  813109 | 1073954 |  2833608 |  31485 |\n| 2호선 | 성수          | 1578220 | 1315744 | 1679251 |  4573215 |  50814 |\n| 2호선 | 건대입구      | 2926931 | 2531272 | 3101898 |  8560101 |  95112 |\n| 2호선 | 구의          | 1478661 | 1250548 | 1566989 |  4296198 |  47736 |\n| 2호선 | 강변          | 3168150 | 2836674 | 3243537 |  9248361 | 102760 |\n| 2호선 | 잠실나루      | 1104278 |  932640 | 1183057 |  3219975 |  35778 |\n| 2호선 | 잠실          | 4773349 | 4189499 | 4884784 | 13847632 | 153863 |\n| 2호선 | 신천          | 1680346 | 1431440 | 1763437 |  4875223 |  54169 |\n| 2호선 | 종합운동장    |  809370 |  663161 | 1016076 |  2488607 |  27651 |\n| 2호선 | 삼성          | 3985210 | 3355662 | 4117189 | 11458061 | 127312 |\n| 2호선 | 선릉          | 3337726 | 2708332 | 3390510 |  9436568 | 104851 |\n| ⋮ | ⋮ | ⋮ | ⋮ | ⋮ | ⋮ | ⋮ |\n| 3호선 | 수서          |  791086 |  677012 |  854656 | 2322754 | 25808 |\n| 3호선 | 가락시장      |  537549 |  460066 |  562517 | 1560132 | 17335 |\n| 3호선 | 경찰병원      |  459264 |  388204 |  484703 | 1332171 | 14802 |\n| 3호선 | 오금          |  393347 |  331852 |  420148 | 1145347 | 12726 |\n| 4호선 | 당고개        |  820579 |  716876 |  887760 | 2425215 | 26947 |\n| 4호선 | 상계          | 1311411 | 1132975 | 1419145 | 3863531 | 42928 |\n| 4호선 | 노원          | 1586952 | 1384830 | 1670727 | 4642509 | 51583 |\n| 4호선 | 창동          | 1964612 | 1708920 | 2093364 | 5766896 | 64077 |\n| 4호선 | 쌍문          | 1957811 | 1674618 | 2079993 | 5712422 | 63471 |\n| 4호선 | 수유          | 2748629 | 2384430 | 3030047 | 8163106 | 90701 |\n| 4호선 | 미아          | 1119912 |  964162 | 1273948 | 3358022 | 37311 |\n| 4호선 | 미아사거리    | 2077223 | 1805575 | 2195332 | 6078130 | 67535 |\n| 4호선 | 길음          | 1617228 | 1401696 | 1947917 | 4966841 | 55187 |\n| 4호선 | 성신여대      | 1504096 | 1320316 | 1776915 | 4601327 | 51126 |\n| 4호선 | 한성대입구    |  928248 |  809504 | 1180591 | 2918343 | 32426 |\n| 4호선 | 혜화          | 2803374 | 2359044 | 2853215 | 8015633 | 89063 |\n| 4호선 | 동대문(4)     | 1546714 | 1295225 | 1656669 | 4498608 | 49985 |\n| 4호선 | 동대문공원(4) | 1347515 | 1167177 | 1443847 | 3958539 | 43984 |\n| 4호선 | 충무로        | 2048859 | 1729690 | 2336448 | 6114997 | 67944 |\n| 4호선 | 명동          | 2566589 | 2439679 | 2860284 | 7866552 | 87406 |\n| 4호선 | 회현          | 1822303 | 1530142 | 1979112 | 5331557 | 59240 |\n| 4호선 | 서울역(4)     |  907288 |  782628 |  954163 | 2644079 | 29379 |\n| 4호선 | 숙대입구      |  998726 |  846370 | 1267531 | 3112627 | 34585 |\n| 4호선 | 삼각지        |  402064 |  332149 |  406490 | 1140703 | 12674 |\n| 4호선 | 신용산        |  852155 |  731320 |  874176 | 2457651 | 27307 |\n| 4호선 | 이촌          |  649067 |  523343 |  620101 | 1792511 | 19917 |\n| 4호선 | 동작          |  171856 |  151850 |  199909 |  523615 |  5818 |\n| 4호선 | 총신대입구    | 1503371 | 1288973 | 1606553 | 4398897 | 48877 |\n| 4호선 | 사당(4)       | 1847582 | 1553321 | 2058432 | 5459335 | 60659 |\n| 4호선 | 남태령        |   61253 |   62105 |   83099 |  206457 |  2294 |\n\n",
            "text/html": [
              "<table class=\"dataframe\">\n",
              "<caption>A data.frame: 119 × 7</caption>\n",
              "<thead>\n",
              "\t<tr><th scope=col>구분</th><th scope=col>역이름</th><th scope=col>1월이용자</th><th scope=col>2월이용자</th><th scope=col>3월이용자</th><th scope=col>합</th><th scope=col>1일평균</th></tr>\n",
              "\t<tr><th scope=col>&lt;chr&gt;</th><th scope=col>&lt;chr&gt;</th><th scope=col>&lt;dbl&gt;</th><th scope=col>&lt;dbl&gt;</th><th scope=col>&lt;dbl&gt;</th><th scope=col>&lt;dbl&gt;</th><th scope=col>&lt;dbl&gt;</th></tr>\n",
              "</thead>\n",
              "<tbody>\n",
              "\t<tr><td>1호선</td><td>서울역(1)    </td><td>4126245</td><td>3661950</td><td>4145729</td><td>11933924</td><td>132599</td></tr>\n",
              "\t<tr><td>1호선</td><td>시청(1)      </td><td>1499505</td><td>1229076</td><td>1493112</td><td> 4221693</td><td> 46908</td></tr>\n",
              "\t<tr><td>1호선</td><td>종각         </td><td>3039562</td><td>2477861</td><td>2924326</td><td> 8441749</td><td> 93797</td></tr>\n",
              "\t<tr><td>1호선</td><td>종로3가(1)   </td><td>2435003</td><td>1999718</td><td>2290837</td><td> 6725558</td><td> 74728</td></tr>\n",
              "\t<tr><td>1호선</td><td>종로5가      </td><td>1758749</td><td>1488469</td><td>1791087</td><td> 5038305</td><td> 55981</td></tr>\n",
              "\t<tr><td>1호선</td><td>동대문(1)    </td><td>1032643</td><td> 942226</td><td>1141235</td><td> 3116104</td><td> 34623</td></tr>\n",
              "\t<tr><td>1호선</td><td>신설동(1)    </td><td>1016609</td><td> 861509</td><td>1114369</td><td> 2992487</td><td> 33250</td></tr>\n",
              "\t<tr><td>1호선</td><td>제기동       </td><td>1273577</td><td>1164476</td><td>1319059</td><td> 3757112</td><td> 41746</td></tr>\n",
              "\t<tr><td>1호선</td><td>청량리       </td><td>1898670</td><td>1683252</td><td>1973381</td><td> 5555303</td><td> 61726</td></tr>\n",
              "\t<tr><td>1호선</td><td>동묘앞       </td><td> 591418</td><td> 549158</td><td> 686803</td><td> 1827379</td><td> 20304</td></tr>\n",
              "\t<tr><td>2호선</td><td>시청(2)      </td><td>1533633</td><td>1269858</td><td>1589645</td><td> 4393136</td><td> 48813</td></tr>\n",
              "\t<tr><td>2호선</td><td>을지입구     </td><td>3242154</td><td>2819727</td><td>3344061</td><td> 9405942</td><td>104510</td></tr>\n",
              "\t<tr><td>2호선</td><td>을지3가(2)   </td><td>1200727</td><td>1006160</td><td>1270607</td><td> 3477494</td><td> 38639</td></tr>\n",
              "\t<tr><td>2호선</td><td>을지4가      </td><td> 807510</td><td> 699417</td><td> 845384</td><td> 2352311</td><td> 26137</td></tr>\n",
              "\t<tr><td>2호선</td><td>동대문공원(2)</td><td>1195464</td><td>1051381</td><td>1337361</td><td> 3584206</td><td> 39825</td></tr>\n",
              "\t<tr><td>2호선</td><td>신당         </td><td> 942833</td><td> 810601</td><td>1011683</td><td> 2765117</td><td> 30724</td></tr>\n",
              "\t<tr><td>2호선</td><td>상왕십리     </td><td> 611512</td><td> 520960</td><td> 682174</td><td> 1814646</td><td> 20163</td></tr>\n",
              "\t<tr><td>2호선</td><td>왕십리       </td><td>1137503</td><td> 969619</td><td>1291135</td><td> 3398257</td><td> 37758</td></tr>\n",
              "\t<tr><td>2호선</td><td>한양대       </td><td> 553930</td><td> 471745</td><td>1031220</td><td> 2056895</td><td> 22854</td></tr>\n",
              "\t<tr><td>2호선</td><td>뚝섬         </td><td> 946545</td><td> 813109</td><td>1073954</td><td> 2833608</td><td> 31485</td></tr>\n",
              "\t<tr><td>2호선</td><td>성수         </td><td>1578220</td><td>1315744</td><td>1679251</td><td> 4573215</td><td> 50814</td></tr>\n",
              "\t<tr><td>2호선</td><td>건대입구     </td><td>2926931</td><td>2531272</td><td>3101898</td><td> 8560101</td><td> 95112</td></tr>\n",
              "\t<tr><td>2호선</td><td>구의         </td><td>1478661</td><td>1250548</td><td>1566989</td><td> 4296198</td><td> 47736</td></tr>\n",
              "\t<tr><td>2호선</td><td>강변         </td><td>3168150</td><td>2836674</td><td>3243537</td><td> 9248361</td><td>102760</td></tr>\n",
              "\t<tr><td>2호선</td><td>잠실나루     </td><td>1104278</td><td> 932640</td><td>1183057</td><td> 3219975</td><td> 35778</td></tr>\n",
              "\t<tr><td>2호선</td><td>잠실         </td><td>4773349</td><td>4189499</td><td>4884784</td><td>13847632</td><td>153863</td></tr>\n",
              "\t<tr><td>2호선</td><td>신천         </td><td>1680346</td><td>1431440</td><td>1763437</td><td> 4875223</td><td> 54169</td></tr>\n",
              "\t<tr><td>2호선</td><td>종합운동장   </td><td> 809370</td><td> 663161</td><td>1016076</td><td> 2488607</td><td> 27651</td></tr>\n",
              "\t<tr><td>2호선</td><td>삼성         </td><td>3985210</td><td>3355662</td><td>4117189</td><td>11458061</td><td>127312</td></tr>\n",
              "\t<tr><td>2호선</td><td>선릉         </td><td>3337726</td><td>2708332</td><td>3390510</td><td> 9436568</td><td>104851</td></tr>\n",
              "\t<tr><td>⋮</td><td>⋮</td><td>⋮</td><td>⋮</td><td>⋮</td><td>⋮</td><td>⋮</td></tr>\n",
              "\t<tr><td>3호선</td><td>수서         </td><td> 791086</td><td> 677012</td><td> 854656</td><td>2322754</td><td>25808</td></tr>\n",
              "\t<tr><td>3호선</td><td>가락시장     </td><td> 537549</td><td> 460066</td><td> 562517</td><td>1560132</td><td>17335</td></tr>\n",
              "\t<tr><td>3호선</td><td>경찰병원     </td><td> 459264</td><td> 388204</td><td> 484703</td><td>1332171</td><td>14802</td></tr>\n",
              "\t<tr><td>3호선</td><td>오금         </td><td> 393347</td><td> 331852</td><td> 420148</td><td>1145347</td><td>12726</td></tr>\n",
              "\t<tr><td>4호선</td><td>당고개       </td><td> 820579</td><td> 716876</td><td> 887760</td><td>2425215</td><td>26947</td></tr>\n",
              "\t<tr><td>4호선</td><td>상계         </td><td>1311411</td><td>1132975</td><td>1419145</td><td>3863531</td><td>42928</td></tr>\n",
              "\t<tr><td>4호선</td><td>노원         </td><td>1586952</td><td>1384830</td><td>1670727</td><td>4642509</td><td>51583</td></tr>\n",
              "\t<tr><td>4호선</td><td>창동         </td><td>1964612</td><td>1708920</td><td>2093364</td><td>5766896</td><td>64077</td></tr>\n",
              "\t<tr><td>4호선</td><td>쌍문         </td><td>1957811</td><td>1674618</td><td>2079993</td><td>5712422</td><td>63471</td></tr>\n",
              "\t<tr><td>4호선</td><td>수유         </td><td>2748629</td><td>2384430</td><td>3030047</td><td>8163106</td><td>90701</td></tr>\n",
              "\t<tr><td>4호선</td><td>미아         </td><td>1119912</td><td> 964162</td><td>1273948</td><td>3358022</td><td>37311</td></tr>\n",
              "\t<tr><td>4호선</td><td>미아사거리   </td><td>2077223</td><td>1805575</td><td>2195332</td><td>6078130</td><td>67535</td></tr>\n",
              "\t<tr><td>4호선</td><td>길음         </td><td>1617228</td><td>1401696</td><td>1947917</td><td>4966841</td><td>55187</td></tr>\n",
              "\t<tr><td>4호선</td><td>성신여대     </td><td>1504096</td><td>1320316</td><td>1776915</td><td>4601327</td><td>51126</td></tr>\n",
              "\t<tr><td>4호선</td><td>한성대입구   </td><td> 928248</td><td> 809504</td><td>1180591</td><td>2918343</td><td>32426</td></tr>\n",
              "\t<tr><td>4호선</td><td>혜화         </td><td>2803374</td><td>2359044</td><td>2853215</td><td>8015633</td><td>89063</td></tr>\n",
              "\t<tr><td>4호선</td><td>동대문(4)    </td><td>1546714</td><td>1295225</td><td>1656669</td><td>4498608</td><td>49985</td></tr>\n",
              "\t<tr><td>4호선</td><td>동대문공원(4)</td><td>1347515</td><td>1167177</td><td>1443847</td><td>3958539</td><td>43984</td></tr>\n",
              "\t<tr><td>4호선</td><td>충무로       </td><td>2048859</td><td>1729690</td><td>2336448</td><td>6114997</td><td>67944</td></tr>\n",
              "\t<tr><td>4호선</td><td>명동         </td><td>2566589</td><td>2439679</td><td>2860284</td><td>7866552</td><td>87406</td></tr>\n",
              "\t<tr><td>4호선</td><td>회현         </td><td>1822303</td><td>1530142</td><td>1979112</td><td>5331557</td><td>59240</td></tr>\n",
              "\t<tr><td>4호선</td><td>서울역(4)    </td><td> 907288</td><td> 782628</td><td> 954163</td><td>2644079</td><td>29379</td></tr>\n",
              "\t<tr><td>4호선</td><td>숙대입구     </td><td> 998726</td><td> 846370</td><td>1267531</td><td>3112627</td><td>34585</td></tr>\n",
              "\t<tr><td>4호선</td><td>삼각지       </td><td> 402064</td><td> 332149</td><td> 406490</td><td>1140703</td><td>12674</td></tr>\n",
              "\t<tr><td>4호선</td><td>신용산       </td><td> 852155</td><td> 731320</td><td> 874176</td><td>2457651</td><td>27307</td></tr>\n",
              "\t<tr><td>4호선</td><td>이촌         </td><td> 649067</td><td> 523343</td><td> 620101</td><td>1792511</td><td>19917</td></tr>\n",
              "\t<tr><td>4호선</td><td>동작         </td><td> 171856</td><td> 151850</td><td> 199909</td><td> 523615</td><td> 5818</td></tr>\n",
              "\t<tr><td>4호선</td><td>총신대입구   </td><td>1503371</td><td>1288973</td><td>1606553</td><td>4398897</td><td>48877</td></tr>\n",
              "\t<tr><td>4호선</td><td>사당(4)      </td><td>1847582</td><td>1553321</td><td>2058432</td><td>5459335</td><td>60659</td></tr>\n",
              "\t<tr><td>4호선</td><td>남태령       </td><td>  61253</td><td>  62105</td><td>  83099</td><td> 206457</td><td> 2294</td></tr>\n",
              "</tbody>\n",
              "</table>\n"
            ]
          },
          "metadata": {
            "tags": []
          }
        }
      ]
    },
    {
      "cell_type": "code",
      "metadata": {
        "colab": {
          "base_uri": "https://localhost:8080/",
          "height": 521
        },
        "id": "GRDetEHhwyHl",
        "outputId": "032098a8-9ec3-4fc7-876d-f107f90e6d6c"
      },
      "source": [
        "require(XLConnect)\n",
        "system('gdown --id 169U8pWVK7mlIX8aiX76_52PCjP0xWoTa')\n",
        "wb <- loadWorkbook(\"subway.xlsx\")\n",
        "df <- readWorksheet(wb, sheet=1, header=TRUE, startRow=20, endRow=47)\n",
        "df"
      ],
      "execution_count": 6,
      "outputs": [
        {
          "output_type": "error",
          "ename": "ERROR",
          "evalue": "ignored",
          "traceback": [
            "Error: NoClassDefFoundError (Java): com/zaxxer/sparsebits/SparseBitSet\nTraceback:\n",
            "1. readWorksheet(wb, sheet = 1, header = TRUE, startRow = 20, endRow = 47)",
            "2. readWorksheet(wb, sheet = 1, header = TRUE, startRow = 20, endRow = 47)",
            "3. xlcCall(object, \"readWorksheet\", as.integer(sheet - 1), as.integer(startRow - \n .     1), as.integer(startCol - 1), as.integer(endRow - 1), as.integer(endCol - \n .     1), header, .jarray(classToXlcType(colTypes)), forceConversion, \n .     dateTimeFormat, useCachedValues, subset, readStrategy, .simplify = FALSE)",
            "4. jTryCatch(do.call(\"mapply\", args = c(FUN = f, args, SIMPLIFY = .simplify)))",
            "5. tryCatch(..., Throwable = function(e) {\n .     if (!is.jnull(e$jobj)) {\n .         sw <- new(J(\"java.io.StringWriter\"))\n .         pw <- new(J(\"java.io.PrintWriter\"), sw)\n .         e$jobj$printStackTrace(pw)\n .         options(java.stacktrace = sw$toString())\n .         stop(paste(class(e)[1], e$jobj$getMessage(), sep = \" (Java): \"), \n .             call. = FALSE)\n .     }\n .     else stop(\"Undefined error occurred!\")\n . })",
            "6. tryCatchList(expr, classes, parentenv, handlers)",
            "7. tryCatchOne(expr, names, parentenv, handlers[[1L]])",
            "8. value[[3L]](cond)",
            "9. stop(paste(class(e)[1], e$jobj$getMessage(), sep = \" (Java): \"), \n .     call. = FALSE)"
          ]
        }
      ]
    },
    {
      "cell_type": "code",
      "metadata": {
        "colab": {
          "base_uri": "https://localhost:8080/"
        },
        "id": "cTXAbrnzzFn0",
        "outputId": "80fa1789-ad6f-4295-fd2b-ee187cd04010"
      },
      "source": [
        "install.packages('xlsx')"
      ],
      "execution_count": 8,
      "outputs": [
        {
          "output_type": "stream",
          "text": [
            "Installing package into ‘/usr/local/lib/R/site-library’\n",
            "(as ‘lib’ is unspecified)\n",
            "\n",
            "also installing the dependency ‘xlsxjars’\n",
            "\n",
            "\n"
          ],
          "name": "stderr"
        }
      ]
    },
    {
      "cell_type": "code",
      "metadata": {
        "colab": {
          "base_uri": "https://localhost:8080/",
          "height": 186
        },
        "id": "hvWMd1I9zKap",
        "outputId": "9ecf8956-6083-45a8-e470-2a2f825eb04b"
      },
      "source": [
        "require(xlsx)\n",
        "system('gdown --id 169U8pWVK7mlIX8aiX76_52PCjP0xWoTa')\n",
        "df2 <- read.xlsx2('subway.xlsx', 1)\n",
        "df2"
      ],
      "execution_count": 15,
      "outputs": [
        {
          "output_type": "error",
          "ename": "ERROR",
          "evalue": "ignored",
          "traceback": [
            "Error in loadWorkbook(file, password = password): java.lang.InstantiationException: org.apache.poi.ss.usermodel.WorkbookFactory\nTraceback:\n",
            "1. read.xlsx2(\"subway.xlsx\", 1)",
            "2. loadWorkbook(file, password = password)",
            "3. .jnew(\"org/apache/poi/ss/usermodel/WorkbookFactory\")"
          ]
        }
      ]
    },
    {
      "cell_type": "code",
      "metadata": {
        "colab": {
          "base_uri": "https://localhost:8080/",
          "height": 98
        },
        "id": "xTrz2dV00M7s",
        "outputId": "2a10ca4d-b2e4-47de-ef97-0767a66dd0ba"
      },
      "source": [
        "a <- readClipboard()  # Clipboard에 있는 파일 확인\n",
        "a"
      ],
      "execution_count": 16,
      "outputs": [
        {
          "output_type": "error",
          "ename": "ERROR",
          "evalue": "ignored",
          "traceback": [
            "Error in readClipboard(): could not find function \"readClipboard\"\nTraceback:\n"
          ]
        }
      ]
    },
    {
      "cell_type": "code",
      "metadata": {
        "colab": {
          "base_uri": "https://localhost:8080/",
          "height": 186
        },
        "id": "JskL-e9Z1MGm",
        "outputId": "1eec947c-c91b-4efc-fa33-e1196b39a3ff"
      },
      "source": [
        "df <- read.table(file='clipboard', sep='\\t')\n",
        "df"
      ],
      "execution_count": 19,
      "outputs": [
        {
          "output_type": "stream",
          "text": [
            "Warning message in file(file, \"rt\"):\n",
            "“unable to contact X11 display”\n"
          ],
          "name": "stderr"
        },
        {
          "output_type": "error",
          "ename": "ERROR",
          "evalue": "ignored",
          "traceback": [
            "Error in file(file, \"rt\"): cannot open the connection\nTraceback:\n",
            "1. read.table(file = \"clipboard\", sep = \"\\t\")",
            "2. file(file, \"rt\")"
          ]
        }
      ]
    }
  ]
}