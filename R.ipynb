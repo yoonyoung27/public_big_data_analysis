{
  "nbformat": 4,
  "nbformat_minor": 0,
  "metadata": {
    "colab": {
      "name": "R.ipynb",
      "provenance": [],
      "toc_visible": true,
      "authorship_tag": "ABX9TyM/SIvRV1xkqA2/cp6CdMd3",
      "include_colab_link": true
    },
    "kernelspec": {
      "name": "ir",
      "display_name": "R"
    },
    "language_info": {
      "name": "R"
    }
  },
  "cells": [
    {
      "cell_type": "markdown",
      "metadata": {
        "id": "view-in-github",
        "colab_type": "text"
      },
      "source": [
        "<a href=\"https://colab.research.google.com/github/yoonyoung27/public_big_data_analysis/blob/main/R.ipynb\" target=\"_parent\"><img src=\"https://colab.research.google.com/assets/colab-badge.svg\" alt=\"Open In Colab\"/></a>"
      ]
    },
    {
      "cell_type": "markdown",
      "metadata": {
        "id": "SUWxsjXSXynC"
      },
      "source": [
        "https://colab.research.google.com/notebook#create=true&language=r"
      ]
    },
    {
      "cell_type": "markdown",
      "metadata": {
        "id": "AXfTJT8U19gJ"
      },
      "source": [
        "#ch02(연산자)"
      ]
    },
    {
      "cell_type": "code",
      "metadata": {
        "colab": {
          "base_uri": "https://localhost:8080/",
          "height": 34
        },
        "id": "QE1QJ07-1yY4",
        "outputId": "db1bbd9e-e101-42c1-a2d1-3d4caaf5b5c0"
      },
      "source": [
        "500 + 300"
      ],
      "execution_count": null,
      "outputs": [
        {
          "output_type": "display_data",
          "data": {
            "text/plain": [
              "[1] 800"
            ],
            "text/latex": "800",
            "text/markdown": "800",
            "text/html": [
              "800"
            ]
          },
          "metadata": {
            "tags": []
          }
        }
      ]
    },
    {
      "cell_type": "code",
      "metadata": {
        "colab": {
          "base_uri": "https://localhost:8080/",
          "height": 34
        },
        "id": "XLT63upX2iwB",
        "outputId": "2adb4182-952e-45cc-9784-1727e5cfb5a8"
      },
      "source": [
        "100^2 + 300"
      ],
      "execution_count": null,
      "outputs": [
        {
          "output_type": "display_data",
          "data": {
            "text/plain": [
              "[1] 10300"
            ],
            "text/latex": "10300",
            "text/markdown": "10300",
            "text/html": [
              "10300"
            ]
          },
          "metadata": {
            "tags": []
          }
        }
      ]
    },
    {
      "cell_type": "code",
      "metadata": {
        "id": "1TSGYbCM2ofZ"
      },
      "source": [
        "age <- 20\n",
        "irum <- '지윤영'"
      ],
      "execution_count": null,
      "outputs": []
    },
    {
      "cell_type": "code",
      "metadata": {
        "colab": {
          "base_uri": "https://localhost:8080/",
          "height": 34
        },
        "id": "IpMfoLOr3n4A",
        "outputId": "a3d70f9a-c5ce-4921-cb67-a410925039f7"
      },
      "source": [
        "age"
      ],
      "execution_count": null,
      "outputs": [
        {
          "output_type": "display_data",
          "data": {
            "text/plain": [
              "[1] 20"
            ],
            "text/latex": "20",
            "text/markdown": "20",
            "text/html": [
              "20"
            ]
          },
          "metadata": {
            "tags": []
          }
        }
      ]
    },
    {
      "cell_type": "code",
      "metadata": {
        "colab": {
          "base_uri": "https://localhost:8080/",
          "height": 34
        },
        "id": "-Q1re48w3pgk",
        "outputId": "10990c64-4502-4935-cedd-411f7dd5889e"
      },
      "source": [
        "irum"
      ],
      "execution_count": null,
      "outputs": [
        {
          "output_type": "display_data",
          "data": {
            "text/plain": [
              "[1] \"지윤영\""
            ],
            "text/latex": "'지윤영'",
            "text/markdown": "'지윤영'",
            "text/html": [
              "'지윤영'"
            ]
          },
          "metadata": {
            "tags": []
          }
        }
      ]
    },
    {
      "cell_type": "markdown",
      "metadata": {
        "id": "DVEs_t22bBz8"
      },
      "source": [
        "#ch03(함수)"
      ]
    },
    {
      "cell_type": "code",
      "metadata": {
        "id": "czgOntdVu5bi"
      },
      "source": [
        "data()  # 내장 데이터 목록"
      ],
      "execution_count": null,
      "outputs": []
    },
    {
      "cell_type": "code",
      "metadata": {
        "colab": {
          "base_uri": "https://localhost:8080/",
          "height": 1000
        },
        "id": "FejwamSjvFus",
        "outputId": "a9b1ed6c-c99a-45d4-8027-15a81a4d30b1"
      },
      "source": [
        "cars"
      ],
      "execution_count": null,
      "outputs": [
        {
          "output_type": "display_data",
          "data": {
            "text/plain": [
              "   speed dist\n",
              "1   4      2 \n",
              "2   4     10 \n",
              "3   7      4 \n",
              "4   7     22 \n",
              "5   8     16 \n",
              "6   9     10 \n",
              "7  10     18 \n",
              "8  10     26 \n",
              "9  10     34 \n",
              "10 11     17 \n",
              "11 11     28 \n",
              "12 12     14 \n",
              "13 12     20 \n",
              "14 12     24 \n",
              "15 12     28 \n",
              "16 13     26 \n",
              "17 13     34 \n",
              "18 13     34 \n",
              "19 13     46 \n",
              "20 14     26 \n",
              "21 14     36 \n",
              "22 14     60 \n",
              "23 14     80 \n",
              "24 15     20 \n",
              "25 15     26 \n",
              "26 15     54 \n",
              "27 16     32 \n",
              "28 16     40 \n",
              "29 17     32 \n",
              "30 17     40 \n",
              "31 17     50 \n",
              "32 18     42 \n",
              "33 18     56 \n",
              "34 18     76 \n",
              "35 18     84 \n",
              "36 19     36 \n",
              "37 19     46 \n",
              "38 19     68 \n",
              "39 20     32 \n",
              "40 20     48 \n",
              "41 20     52 \n",
              "42 20     56 \n",
              "43 20     64 \n",
              "44 22     66 \n",
              "45 23     54 \n",
              "46 24     70 \n",
              "47 24     92 \n",
              "48 24     93 \n",
              "49 24    120 \n",
              "50 25     85 "
            ],
            "text/latex": "A data.frame: 50 × 2\n\\begin{tabular}{ll}\n speed & dist\\\\\n <dbl> & <dbl>\\\\\n\\hline\n\t  4 &   2\\\\\n\t  4 &  10\\\\\n\t  7 &   4\\\\\n\t  7 &  22\\\\\n\t  8 &  16\\\\\n\t  9 &  10\\\\\n\t 10 &  18\\\\\n\t 10 &  26\\\\\n\t 10 &  34\\\\\n\t 11 &  17\\\\\n\t 11 &  28\\\\\n\t 12 &  14\\\\\n\t 12 &  20\\\\\n\t 12 &  24\\\\\n\t 12 &  28\\\\\n\t 13 &  26\\\\\n\t 13 &  34\\\\\n\t 13 &  34\\\\\n\t 13 &  46\\\\\n\t 14 &  26\\\\\n\t 14 &  36\\\\\n\t 14 &  60\\\\\n\t 14 &  80\\\\\n\t 15 &  20\\\\\n\t 15 &  26\\\\\n\t 15 &  54\\\\\n\t 16 &  32\\\\\n\t 16 &  40\\\\\n\t 17 &  32\\\\\n\t 17 &  40\\\\\n\t 17 &  50\\\\\n\t 18 &  42\\\\\n\t 18 &  56\\\\\n\t 18 &  76\\\\\n\t 18 &  84\\\\\n\t 19 &  36\\\\\n\t 19 &  46\\\\\n\t 19 &  68\\\\\n\t 20 &  32\\\\\n\t 20 &  48\\\\\n\t 20 &  52\\\\\n\t 20 &  56\\\\\n\t 20 &  64\\\\\n\t 22 &  66\\\\\n\t 23 &  54\\\\\n\t 24 &  70\\\\\n\t 24 &  92\\\\\n\t 24 &  93\\\\\n\t 24 & 120\\\\\n\t 25 &  85\\\\\n\\end{tabular}\n",
            "text/markdown": "\nA data.frame: 50 × 2\n\n| speed &lt;dbl&gt; | dist &lt;dbl&gt; |\n|---|---|\n|  4 |   2 |\n|  4 |  10 |\n|  7 |   4 |\n|  7 |  22 |\n|  8 |  16 |\n|  9 |  10 |\n| 10 |  18 |\n| 10 |  26 |\n| 10 |  34 |\n| 11 |  17 |\n| 11 |  28 |\n| 12 |  14 |\n| 12 |  20 |\n| 12 |  24 |\n| 12 |  28 |\n| 13 |  26 |\n| 13 |  34 |\n| 13 |  34 |\n| 13 |  46 |\n| 14 |  26 |\n| 14 |  36 |\n| 14 |  60 |\n| 14 |  80 |\n| 15 |  20 |\n| 15 |  26 |\n| 15 |  54 |\n| 16 |  32 |\n| 16 |  40 |\n| 17 |  32 |\n| 17 |  40 |\n| 17 |  50 |\n| 18 |  42 |\n| 18 |  56 |\n| 18 |  76 |\n| 18 |  84 |\n| 19 |  36 |\n| 19 |  46 |\n| 19 |  68 |\n| 20 |  32 |\n| 20 |  48 |\n| 20 |  52 |\n| 20 |  56 |\n| 20 |  64 |\n| 22 |  66 |\n| 23 |  54 |\n| 24 |  70 |\n| 24 |  92 |\n| 24 |  93 |\n| 24 | 120 |\n| 25 |  85 |\n\n",
            "text/html": [
              "<table class=\"dataframe\">\n",
              "<caption>A data.frame: 50 × 2</caption>\n",
              "<thead>\n",
              "\t<tr><th scope=col>speed</th><th scope=col>dist</th></tr>\n",
              "\t<tr><th scope=col>&lt;dbl&gt;</th><th scope=col>&lt;dbl&gt;</th></tr>\n",
              "</thead>\n",
              "<tbody>\n",
              "\t<tr><td> 4</td><td>  2</td></tr>\n",
              "\t<tr><td> 4</td><td> 10</td></tr>\n",
              "\t<tr><td> 7</td><td>  4</td></tr>\n",
              "\t<tr><td> 7</td><td> 22</td></tr>\n",
              "\t<tr><td> 8</td><td> 16</td></tr>\n",
              "\t<tr><td> 9</td><td> 10</td></tr>\n",
              "\t<tr><td>10</td><td> 18</td></tr>\n",
              "\t<tr><td>10</td><td> 26</td></tr>\n",
              "\t<tr><td>10</td><td> 34</td></tr>\n",
              "\t<tr><td>11</td><td> 17</td></tr>\n",
              "\t<tr><td>11</td><td> 28</td></tr>\n",
              "\t<tr><td>12</td><td> 14</td></tr>\n",
              "\t<tr><td>12</td><td> 20</td></tr>\n",
              "\t<tr><td>12</td><td> 24</td></tr>\n",
              "\t<tr><td>12</td><td> 28</td></tr>\n",
              "\t<tr><td>13</td><td> 26</td></tr>\n",
              "\t<tr><td>13</td><td> 34</td></tr>\n",
              "\t<tr><td>13</td><td> 34</td></tr>\n",
              "\t<tr><td>13</td><td> 46</td></tr>\n",
              "\t<tr><td>14</td><td> 26</td></tr>\n",
              "\t<tr><td>14</td><td> 36</td></tr>\n",
              "\t<tr><td>14</td><td> 60</td></tr>\n",
              "\t<tr><td>14</td><td> 80</td></tr>\n",
              "\t<tr><td>15</td><td> 20</td></tr>\n",
              "\t<tr><td>15</td><td> 26</td></tr>\n",
              "\t<tr><td>15</td><td> 54</td></tr>\n",
              "\t<tr><td>16</td><td> 32</td></tr>\n",
              "\t<tr><td>16</td><td> 40</td></tr>\n",
              "\t<tr><td>17</td><td> 32</td></tr>\n",
              "\t<tr><td>17</td><td> 40</td></tr>\n",
              "\t<tr><td>17</td><td> 50</td></tr>\n",
              "\t<tr><td>18</td><td> 42</td></tr>\n",
              "\t<tr><td>18</td><td> 56</td></tr>\n",
              "\t<tr><td>18</td><td> 76</td></tr>\n",
              "\t<tr><td>18</td><td> 84</td></tr>\n",
              "\t<tr><td>19</td><td> 36</td></tr>\n",
              "\t<tr><td>19</td><td> 46</td></tr>\n",
              "\t<tr><td>19</td><td> 68</td></tr>\n",
              "\t<tr><td>20</td><td> 32</td></tr>\n",
              "\t<tr><td>20</td><td> 48</td></tr>\n",
              "\t<tr><td>20</td><td> 52</td></tr>\n",
              "\t<tr><td>20</td><td> 56</td></tr>\n",
              "\t<tr><td>20</td><td> 64</td></tr>\n",
              "\t<tr><td>22</td><td> 66</td></tr>\n",
              "\t<tr><td>23</td><td> 54</td></tr>\n",
              "\t<tr><td>24</td><td> 70</td></tr>\n",
              "\t<tr><td>24</td><td> 92</td></tr>\n",
              "\t<tr><td>24</td><td> 93</td></tr>\n",
              "\t<tr><td>24</td><td>120</td></tr>\n",
              "\t<tr><td>25</td><td> 85</td></tr>\n",
              "</tbody>\n",
              "</table>\n"
            ]
          },
          "metadata": {
            "tags": []
          }
        }
      ]
    },
    {
      "cell_type": "code",
      "metadata": {
        "id": "u_TG2DLYXYPF"
      },
      "source": [
        "help(sum)"
      ],
      "execution_count": null,
      "outputs": []
    },
    {
      "cell_type": "code",
      "metadata": {
        "id": "y5i8aICyjaoJ"
      },
      "source": [
        "?sum"
      ],
      "execution_count": null,
      "outputs": []
    },
    {
      "cell_type": "code",
      "metadata": {
        "colab": {
          "base_uri": "https://localhost:8080/"
        },
        "id": "DbB7_uVvjexp",
        "outputId": "044efa8f-e2f4-4235-ad70-123522a1179c"
      },
      "source": [
        "example(sum)"
      ],
      "execution_count": null,
      "outputs": [
        {
          "output_type": "stream",
          "text": [
            "\n",
            "sum> ## Pass a vector to sum, and it will add the elements together.\n",
            "sum> sum(1:5)\n",
            "[1] 15\n",
            "\n",
            "sum> ## Pass several numbers to sum, and it also adds the elements.\n",
            "sum> sum(1, 2, 3, 4, 5)\n",
            "[1] 15\n",
            "\n",
            "sum> ## In fact, you can pass vectors into several arguments, and everything gets added.\n",
            "sum> sum(1:2, 3:5)\n",
            "[1] 15\n",
            "\n",
            "sum> ## If there are missing values, the sum is unknown, i.e., also missing, ....\n",
            "sum> sum(1:5, NA)\n",
            "[1] NA\n",
            "\n",
            "sum> ## ... unless  we exclude missing values explicitly:\n",
            "sum> sum(1:5, NA, na.rm = TRUE)\n",
            "[1] 15\n"
          ],
          "name": "stdout"
        }
      ]
    },
    {
      "cell_type": "markdown",
      "metadata": {
        "id": "-_jYsB9hAjwy"
      },
      "source": [
        "#ch04(데이터_유형)"
      ]
    },
    {
      "cell_type": "code",
      "metadata": {
        "id": "tqS38dooIuPP"
      },
      "source": [
        "x <- 5\n",
        "y <- 3.14"
      ],
      "execution_count": 6,
      "outputs": []
    },
    {
      "cell_type": "code",
      "metadata": {
        "colab": {
          "base_uri": "https://localhost:8080/",
          "height": 34
        },
        "id": "4sTtFhWMI0Rv",
        "outputId": "04d2327c-df4e-46d6-c482-a626dcc77399"
      },
      "source": [
        "x + y"
      ],
      "execution_count": null,
      "outputs": [
        {
          "output_type": "display_data",
          "data": {
            "text/plain": [
              "[1] 8.14"
            ],
            "text/latex": "8.14",
            "text/markdown": "8.14",
            "text/html": [
              "8.14"
            ]
          },
          "metadata": {
            "tags": []
          }
        }
      ]
    },
    {
      "cell_type": "code",
      "metadata": {
        "colab": {
          "base_uri": "https://localhost:8080/",
          "height": 34
        },
        "id": "WX3OIbJOI2y3",
        "outputId": "294942ce-df64-40b6-8a05-ace3d3c1d8e8"
      },
      "source": [
        "x > y"
      ],
      "execution_count": null,
      "outputs": [
        {
          "output_type": "display_data",
          "data": {
            "text/plain": [
              "[1] TRUE"
            ],
            "text/latex": "TRUE",
            "text/markdown": "TRUE",
            "text/html": [
              "TRUE"
            ]
          },
          "metadata": {
            "tags": []
          }
        }
      ]
    },
    {
      "cell_type": "code",
      "metadata": {
        "id": "48jf-g3nUfj1",
        "outputId": "8b50497f-c646-4345-acba-8e02b7a387c5",
        "colab": {
          "base_uri": "https://localhost:8080/",
          "height": 34
        }
      },
      "source": [
        "x = y\n",
        "x == y"
      ],
      "execution_count": 8,
      "outputs": [
        {
          "output_type": "display_data",
          "data": {
            "text/plain": [
              "[1] TRUE"
            ],
            "text/latex": "TRUE",
            "text/markdown": "TRUE",
            "text/html": [
              "TRUE"
            ]
          },
          "metadata": {
            "tags": []
          }
        }
      ]
    },
    {
      "cell_type": "code",
      "metadata": {
        "id": "qTZs72ppUmZp",
        "outputId": "393e8ea2-4da2-4166-eca4-2bce37e7cb38",
        "colab": {
          "base_uri": "https://localhost:8080/",
          "height": 34
        }
      },
      "source": [
        "x <- x-3\n",
        "x > y"
      ],
      "execution_count": 9,
      "outputs": [
        {
          "output_type": "display_data",
          "data": {
            "text/plain": [
              "[1] FALSE"
            ],
            "text/latex": "FALSE",
            "text/markdown": "FALSE",
            "text/html": [
              "FALSE"
            ]
          },
          "metadata": {
            "tags": []
          }
        }
      ]
    },
    {
      "cell_type": "code",
      "metadata": {
        "colab": {
          "base_uri": "https://localhost:8080/",
          "height": 34
        },
        "id": "Lkz85PNSMZd8",
        "outputId": "ef5ffaa5-2487-4697-93db-730eb8e46044"
      },
      "source": [
        "Sys.Date()  # 현재 시각"
      ],
      "execution_count": 4,
      "outputs": [
        {
          "output_type": "display_data",
          "data": {
            "text/plain": [
              "[1] \"2021-06-23\""
            ],
            "text/latex": "2021-06-23",
            "text/markdown": "2021-06-23",
            "text/html": [
              "<time datetime=\"2021-06-23\">2021-06-23</time>"
            ]
          },
          "metadata": {
            "tags": []
          }
        }
      ]
    },
    {
      "cell_type": "code",
      "metadata": {
        "id": "ktnnzFHLMgxv",
        "outputId": "dc30b101-5c5a-4c9d-c4a0-58d5022d274c",
        "colab": {
          "base_uri": "https://localhost:8080/",
          "height": 34
        }
      },
      "source": [
        "d1 <- \"2021-06-20\"\n",
        "as.Date(d1) + 100"
      ],
      "execution_count": 2,
      "outputs": [
        {
          "output_type": "display_data",
          "data": {
            "text/plain": [
              "[1] \"2021-09-28\""
            ],
            "text/latex": "2021-09-28",
            "text/markdown": "2021-09-28",
            "text/html": [
              "<time datetime=\"2021-09-28\">2021-09-28</time>"
            ]
          },
          "metadata": {
            "tags": []
          }
        }
      ]
    },
    {
      "cell_type": "code",
      "metadata": {
        "id": "RZoh7IAANlYW",
        "outputId": "de7778ca-d8c1-4a87-9dc2-16fbd230506e",
        "colab": {
          "base_uri": "https://localhost:8080/",
          "height": 34
        }
      },
      "source": [
        "height <- c(177,180,168,169,NA)\n",
        "is.na(height[5])"
      ],
      "execution_count": 3,
      "outputs": [
        {
          "output_type": "display_data",
          "data": {
            "text/plain": [
              "[1] TRUE"
            ],
            "text/latex": "TRUE",
            "text/markdown": "TRUE",
            "text/html": [
              "TRUE"
            ]
          },
          "metadata": {
            "tags": []
          }
        }
      ]
    },
    {
      "cell_type": "code",
      "metadata": {
        "colab": {
          "base_uri": "https://localhost:8080/",
          "height": 34
        },
        "id": "h5a-tJGnOB-u",
        "outputId": "00057ad2-495c-47c9-94e9-0e276a7048a9"
      },
      "source": [
        "sum(height)"
      ],
      "execution_count": null,
      "outputs": [
        {
          "output_type": "display_data",
          "data": {
            "text/plain": [
              "[1] NA"
            ],
            "text/latex": "<NA>",
            "text/markdown": "&lt;NA&gt;",
            "text/html": [
              "&lt;NA&gt;"
            ]
          },
          "metadata": {
            "tags": []
          }
        }
      ]
    },
    {
      "cell_type": "code",
      "metadata": {
        "colab": {
          "base_uri": "https://localhost:8080/",
          "height": 34
        },
        "id": "c1cObZSGOP9V",
        "outputId": "4588664c-98f9-44d9-b476-65bdf1fd37c5"
      },
      "source": [
        "rate <- NULL\n",
        "money <- c(1200000, 950000, 1300000)\n",
        "if(sum(money)>=3000000){\n",
        "    rate<-0.017\n",
        "}\n",
        "\n",
        "is.null(rate)"
      ],
      "execution_count": null,
      "outputs": [
        {
          "output_type": "display_data",
          "data": {
            "text/plain": [
              "[1] FALSE"
            ],
            "text/latex": "FALSE",
            "text/markdown": "FALSE",
            "text/html": [
              "FALSE"
            ]
          },
          "metadata": {
            "tags": []
          }
        }
      ]
    },
    {
      "cell_type": "markdown",
      "metadata": {
        "id": "dTE_6yPKMIky"
      },
      "source": [
        "#ch05(데이터\\_구조\\_유형)"
      ]
    },
    {
      "cell_type": "markdown",
      "metadata": {
        "id": "UtqvUEjfU21F"
      },
      "source": [
        "##벡터"
      ]
    },
    {
      "cell_type": "code",
      "metadata": {
        "id": "POI7446Y4AY3",
        "outputId": "e9b5d079-f3e8-4e79-c8f7-d12c1c9e6b0c",
        "colab": {
          "base_uri": "https://localhost:8080/",
          "height": 34
        }
      },
      "source": [
        "irums <- c('번개','미스터길동','도둑','활빈당')\n",
        "irums"
      ],
      "execution_count": 16,
      "outputs": [
        {
          "output_type": "display_data",
          "data": {
            "text/plain": [
              "[1] \"번개\"       \"미스터길동\" \"도둑\"       \"활빈당\"    "
            ],
            "text/latex": "\\begin{enumerate*}\n\\item '번개'\n\\item '미스터길동'\n\\item '도둑'\n\\item '활빈당'\n\\end{enumerate*}\n",
            "text/markdown": "1. '번개'\n2. '미스터길동'\n3. '도둑'\n4. '활빈당'\n\n\n",
            "text/html": [
              "<style>\n",
              ".list-inline {list-style: none; margin:0; padding: 0}\n",
              ".list-inline>li {display: inline-block}\n",
              ".list-inline>li:not(:last-child)::after {content: \"\\00b7\"; padding: 0 .5ex}\n",
              "</style>\n",
              "<ol class=list-inline><li>'번개'</li><li>'미스터길동'</li><li>'도둑'</li><li>'활빈당'</li></ol>\n"
            ]
          },
          "metadata": {
            "tags": []
          }
        }
      ]
    },
    {
      "cell_type": "code",
      "metadata": {
        "id": "DzdbobF_V1Fh",
        "outputId": "efaf5feb-7849-47af-abed-c2b5cd7008a0",
        "colab": {
          "base_uri": "https://localhost:8080/",
          "height": 34
        }
      },
      "source": [
        "irums2 <- c('ㅂㄱ','ㅁㅅㅌㄱㄷ','ㄷㄷ','ㅎㅂㄷ')\n",
        "c(irums, irums2)"
      ],
      "execution_count": 21,
      "outputs": [
        {
          "output_type": "display_data",
          "data": {
            "text/plain": [
              "[1] \"번개\"       \"미스터길동\" \"도둑\"       \"활빈당\"     \"ㅂㄱ\"      \n",
              "[6] \"ㅁㅅㅌㄱㄷ\" \"ㄷㄷ\"       \"ㅎㅂㄷ\"    "
            ],
            "text/latex": "\\begin{enumerate*}\n\\item '번개'\n\\item '미스터길동'\n\\item '도둑'\n\\item '활빈당'\n\\item 'ㅂㄱ'\n\\item 'ㅁㅅㅌㄱㄷ'\n\\item 'ㄷㄷ'\n\\item 'ㅎㅂㄷ'\n\\end{enumerate*}\n",
            "text/markdown": "1. '번개'\n2. '미스터길동'\n3. '도둑'\n4. '활빈당'\n5. 'ㅂㄱ'\n6. 'ㅁㅅㅌㄱㄷ'\n7. 'ㄷㄷ'\n8. 'ㅎㅂㄷ'\n\n\n",
            "text/html": [
              "<style>\n",
              ".list-inline {list-style: none; margin:0; padding: 0}\n",
              ".list-inline>li {display: inline-block}\n",
              ".list-inline>li:not(:last-child)::after {content: \"\\00b7\"; padding: 0 .5ex}\n",
              "</style>\n",
              "<ol class=list-inline><li>'번개'</li><li>'미스터길동'</li><li>'도둑'</li><li>'활빈당'</li><li>'ㅂㄱ'</li><li>'ㅁㅅㅌㄱㄷ'</li><li>'ㄷㄷ'</li><li>'ㅎㅂㄷ'</li></ol>\n"
            ]
          },
          "metadata": {
            "tags": []
          }
        }
      ]
    },
    {
      "cell_type": "code",
      "metadata": {
        "colab": {
          "base_uri": "https://localhost:8080/",
          "height": 34
        },
        "id": "Bf9NrizUfXa3",
        "outputId": "6bc92b69-21cd-4a9d-9c27-0f32773af63e"
      },
      "source": [
        "x <- -1:5\n",
        "is.vector(x)"
      ],
      "execution_count": 29,
      "outputs": [
        {
          "output_type": "display_data",
          "data": {
            "text/plain": [
              "[1] TRUE"
            ],
            "text/latex": "TRUE",
            "text/markdown": "TRUE",
            "text/html": [
              "TRUE"
            ]
          },
          "metadata": {
            "tags": []
          }
        }
      ]
    },
    {
      "cell_type": "code",
      "metadata": {
        "colab": {
          "base_uri": "https://localhost:8080/",
          "height": 34
        },
        "id": "mi_SaxZfkI9l",
        "outputId": "136a9cea-eb4c-431c-b3f5-6087d9f09d6c"
      },
      "source": [
        "seq(0,1000,200)"
      ],
      "execution_count": null,
      "outputs": [
        {
          "output_type": "display_data",
          "data": {
            "text/plain": [
              "[1]    0  200  400  600  800 1000"
            ],
            "text/latex": "\\begin{enumerate*}\n\\item 0\n\\item 200\n\\item 400\n\\item 600\n\\item 800\n\\item 1000\n\\end{enumerate*}\n",
            "text/markdown": "1. 0\n2. 200\n3. 400\n4. 600\n5. 800\n6. 1000\n\n\n",
            "text/html": [
              "<style>\n",
              ".list-inline {list-style: none; margin:0; padding: 0}\n",
              ".list-inline>li {display: inline-block}\n",
              ".list-inline>li:not(:last-child)::after {content: \"\\00b7\"; padding: 0 .5ex}\n",
              "</style>\n",
              "<ol class=list-inline><li>0</li><li>200</li><li>400</li><li>600</li><li>800</li><li>1000</li></ol>\n"
            ]
          },
          "metadata": {
            "tags": []
          }
        }
      ]
    },
    {
      "cell_type": "code",
      "metadata": {
        "colab": {
          "base_uri": "https://localhost:8080/",
          "height": 34
        },
        "id": "XzYQefF6lEqt",
        "outputId": "b22dff64-ea05-4c13-8acd-f566781360ce"
      },
      "source": [
        "seq(0,1000,length=5)"
      ],
      "execution_count": null,
      "outputs": [
        {
          "output_type": "display_data",
          "data": {
            "text/plain": [
              "[1]    0  250  500  750 1000"
            ],
            "text/latex": "\\begin{enumerate*}\n\\item 0\n\\item 250\n\\item 500\n\\item 750\n\\item 1000\n\\end{enumerate*}\n",
            "text/markdown": "1. 0\n2. 250\n3. 500\n4. 750\n5. 1000\n\n\n",
            "text/html": [
              "<style>\n",
              ".list-inline {list-style: none; margin:0; padding: 0}\n",
              ".list-inline>li {display: inline-block}\n",
              ".list-inline>li:not(:last-child)::after {content: \"\\00b7\"; padding: 0 .5ex}\n",
              "</style>\n",
              "<ol class=list-inline><li>0</li><li>250</li><li>500</li><li>750</li><li>1000</li></ol>\n"
            ]
          },
          "metadata": {
            "tags": []
          }
        }
      ]
    },
    {
      "cell_type": "code",
      "metadata": {
        "id": "aVhuXYnTX-2i",
        "outputId": "5d015ddf-4b8b-4cd3-f9b5-87d6e63cb90a",
        "colab": {
          "base_uri": "https://localhost:8080/",
          "height": 34
        }
      },
      "source": [
        "rep(1:5, times=2)"
      ],
      "execution_count": 22,
      "outputs": [
        {
          "output_type": "display_data",
          "data": {
            "text/plain": [
              " [1] 1 2 3 4 5 1 2 3 4 5"
            ],
            "text/latex": "\\begin{enumerate*}\n\\item 1\n\\item 2\n\\item 3\n\\item 4\n\\item 5\n\\item 1\n\\item 2\n\\item 3\n\\item 4\n\\item 5\n\\end{enumerate*}\n",
            "text/markdown": "1. 1\n2. 2\n3. 3\n4. 4\n5. 5\n6. 1\n7. 2\n8. 3\n9. 4\n10. 5\n\n\n",
            "text/html": [
              "<style>\n",
              ".list-inline {list-style: none; margin:0; padding: 0}\n",
              ".list-inline>li {display: inline-block}\n",
              ".list-inline>li:not(:last-child)::after {content: \"\\00b7\"; padding: 0 .5ex}\n",
              "</style>\n",
              "<ol class=list-inline><li>1</li><li>2</li><li>3</li><li>4</li><li>5</li><li>1</li><li>2</li><li>3</li><li>4</li><li>5</li></ol>\n"
            ]
          },
          "metadata": {
            "tags": []
          }
        }
      ]
    },
    {
      "cell_type": "code",
      "metadata": {
        "id": "JKm5kncVYCxU",
        "outputId": "0cfa2f9e-381f-495e-8c9d-51ad263d14fd",
        "colab": {
          "base_uri": "https://localhost:8080/",
          "height": 34
        }
      },
      "source": [
        "rep(1:5, each=2)"
      ],
      "execution_count": 23,
      "outputs": [
        {
          "output_type": "display_data",
          "data": {
            "text/plain": [
              " [1] 1 1 2 2 3 3 4 4 5 5"
            ],
            "text/latex": "\\begin{enumerate*}\n\\item 1\n\\item 1\n\\item 2\n\\item 2\n\\item 3\n\\item 3\n\\item 4\n\\item 4\n\\item 5\n\\item 5\n\\end{enumerate*}\n",
            "text/markdown": "1. 1\n2. 1\n3. 2\n4. 2\n5. 3\n6. 3\n7. 4\n8. 4\n9. 5\n10. 5\n\n\n",
            "text/html": [
              "<style>\n",
              ".list-inline {list-style: none; margin:0; padding: 0}\n",
              ".list-inline>li {display: inline-block}\n",
              ".list-inline>li:not(:last-child)::after {content: \"\\00b7\"; padding: 0 .5ex}\n",
              "</style>\n",
              "<ol class=list-inline><li>1</li><li>1</li><li>2</li><li>2</li><li>3</li><li>3</li><li>4</li><li>4</li><li>5</li><li>5</li></ol>\n"
            ]
          },
          "metadata": {
            "tags": []
          }
        }
      ]
    },
    {
      "cell_type": "code",
      "metadata": {
        "id": "PdPW0q3NYIna",
        "outputId": "6f4c7536-4562-4b97-e9d6-e52366897ef4",
        "colab": {
          "base_uri": "https://localhost:8080/",
          "height": 34
        }
      },
      "source": [
        "a <- vector(mode='numeric', length=20)\n",
        "a  # 빈 벡터 생성"
      ],
      "execution_count": 24,
      "outputs": [
        {
          "output_type": "display_data",
          "data": {
            "text/plain": [
              " [1] 0 0 0 0 0 0 0 0 0 0 0 0 0 0 0 0 0 0 0 0"
            ],
            "text/latex": "\\begin{enumerate*}\n\\item 0\n\\item 0\n\\item 0\n\\item 0\n\\item 0\n\\item 0\n\\item 0\n\\item 0\n\\item 0\n\\item 0\n\\item 0\n\\item 0\n\\item 0\n\\item 0\n\\item 0\n\\item 0\n\\item 0\n\\item 0\n\\item 0\n\\item 0\n\\end{enumerate*}\n",
            "text/markdown": "1. 0\n2. 0\n3. 0\n4. 0\n5. 0\n6. 0\n7. 0\n8. 0\n9. 0\n10. 0\n11. 0\n12. 0\n13. 0\n14. 0\n15. 0\n16. 0\n17. 0\n18. 0\n19. 0\n20. 0\n\n\n",
            "text/html": [
              "<style>\n",
              ".list-inline {list-style: none; margin:0; padding: 0}\n",
              ".list-inline>li {display: inline-block}\n",
              ".list-inline>li:not(:last-child)::after {content: \"\\00b7\"; padding: 0 .5ex}\n",
              "</style>\n",
              "<ol class=list-inline><li>0</li><li>0</li><li>0</li><li>0</li><li>0</li><li>0</li><li>0</li><li>0</li><li>0</li><li>0</li><li>0</li><li>0</li><li>0</li><li>0</li><li>0</li><li>0</li><li>0</li><li>0</li><li>0</li><li>0</li></ol>\n"
            ]
          },
          "metadata": {
            "tags": []
          }
        }
      ]
    },
    {
      "cell_type": "code",
      "metadata": {
        "colab": {
          "base_uri": "https://localhost:8080/",
          "height": 34
        },
        "id": "SCFo8c85gGnE",
        "outputId": "5413bd30-d7d3-420f-e4ae-0e6b648c7c3e"
      },
      "source": [
        "sample <- c(3000, 3500.12, 1500, 4200.7)\n",
        "sample  # 실수로 인식"
      ],
      "execution_count": 19,
      "outputs": [
        {
          "output_type": "display_data",
          "data": {
            "text/plain": [
              "[1] 3000.00 3500.12 1500.00 4200.70"
            ],
            "text/latex": "\\begin{enumerate*}\n\\item 3000\n\\item 3500.12\n\\item 1500\n\\item 4200.7\n\\end{enumerate*}\n",
            "text/markdown": "1. 3000\n2. 3500.12\n3. 1500\n4. 4200.7\n\n\n",
            "text/html": [
              "<style>\n",
              ".list-inline {list-style: none; margin:0; padding: 0}\n",
              ".list-inline>li {display: inline-block}\n",
              ".list-inline>li:not(:last-child)::after {content: \"\\00b7\"; padding: 0 .5ex}\n",
              "</style>\n",
              "<ol class=list-inline><li>3000</li><li>3500.12</li><li>1500</li><li>4200.7</li></ol>\n"
            ]
          },
          "metadata": {
            "tags": []
          }
        }
      ]
    },
    {
      "cell_type": "code",
      "metadata": {
        "colab": {
          "base_uri": "https://localhost:8080/",
          "height": 34
        },
        "id": "rgiCNPqggYWo",
        "outputId": "7d6f2cc9-dbb3-4090-ba64-51709d65426d"
      },
      "source": [
        "sample2 <- c(300, '한글', 14.5)\n",
        "sample2  # 문자열로 인식"
      ],
      "execution_count": 20,
      "outputs": [
        {
          "output_type": "display_data",
          "data": {
            "text/plain": [
              "[1] \"300\"  \"한글\" \"14.5\""
            ],
            "text/latex": "\\begin{enumerate*}\n\\item '300'\n\\item '한글'\n\\item '14.5'\n\\end{enumerate*}\n",
            "text/markdown": "1. '300'\n2. '한글'\n3. '14.5'\n\n\n",
            "text/html": [
              "<style>\n",
              ".list-inline {list-style: none; margin:0; padding: 0}\n",
              ".list-inline>li {display: inline-block}\n",
              ".list-inline>li:not(:last-child)::after {content: \"\\00b7\"; padding: 0 .5ex}\n",
              "</style>\n",
              "<ol class=list-inline><li>'300'</li><li>'한글'</li><li>'14.5'</li></ol>\n"
            ]
          },
          "metadata": {
            "tags": []
          }
        }
      ]
    },
    {
      "cell_type": "code",
      "metadata": {
        "colab": {
          "base_uri": "https://localhost:8080/",
          "height": 34
        },
        "id": "6EJ-4bO6fpq-",
        "outputId": "609f2a1f-c79a-4c81-b5a4-0c93a0767ff4"
      },
      "source": [
        "c <- as.character(x)\n",
        "c"
      ],
      "execution_count": null,
      "outputs": [
        {
          "output_type": "display_data",
          "data": {
            "text/plain": [
              "[1] \"-1\" \"0\"  \"1\"  \"2\"  \"3\"  \"4\"  \"5\" "
            ],
            "text/latex": "\\begin{enumerate*}\n\\item '-1'\n\\item '0'\n\\item '1'\n\\item '2'\n\\item '3'\n\\item '4'\n\\item '5'\n\\end{enumerate*}\n",
            "text/markdown": "1. '-1'\n2. '0'\n3. '1'\n4. '2'\n5. '3'\n6. '4'\n7. '5'\n\n\n",
            "text/html": [
              "<style>\n",
              ".list-inline {list-style: none; margin:0; padding: 0}\n",
              ".list-inline>li {display: inline-block}\n",
              ".list-inline>li:not(:last-child)::after {content: \"\\00b7\"; padding: 0 .5ex}\n",
              "</style>\n",
              "<ol class=list-inline><li>'-1'</li><li>'0'</li><li>'1'</li><li>'2'</li><li>'3'</li><li>'4'</li><li>'5'</li></ol>\n"
            ]
          },
          "metadata": {
            "tags": []
          }
        }
      ]
    },
    {
      "cell_type": "code",
      "metadata": {
        "colab": {
          "base_uri": "https://localhost:8080/",
          "height": 34
        },
        "id": "JLdEdRT4fzZo",
        "outputId": "3263d3d2-b9b8-48b8-b756-7fad0827cf81"
      },
      "source": [
        "n <- as.numeric(c)\n",
        "n"
      ],
      "execution_count": null,
      "outputs": [
        {
          "output_type": "display_data",
          "data": {
            "text/plain": [
              "[1] -1  0  1  2  3  4  5"
            ],
            "text/latex": "\\begin{enumerate*}\n\\item -1\n\\item 0\n\\item 1\n\\item 2\n\\item 3\n\\item 4\n\\item 5\n\\end{enumerate*}\n",
            "text/markdown": "1. -1\n2. 0\n3. 1\n4. 2\n5. 3\n6. 4\n7. 5\n\n\n",
            "text/html": [
              "<style>\n",
              ".list-inline {list-style: none; margin:0; padding: 0}\n",
              ".list-inline>li {display: inline-block}\n",
              ".list-inline>li:not(:last-child)::after {content: \"\\00b7\"; padding: 0 .5ex}\n",
              "</style>\n",
              "<ol class=list-inline><li>-1</li><li>0</li><li>1</li><li>2</li><li>3</li><li>4</li><li>5</li></ol>\n"
            ]
          },
          "metadata": {
            "tags": []
          }
        }
      ]
    },
    {
      "cell_type": "code",
      "metadata": {
        "colab": {
          "base_uri": "https://localhost:8080/",
          "height": 34
        },
        "id": "NWpTSSrIgiwG",
        "outputId": "763d102c-b77a-4d01-8073-206beb95a646"
      },
      "source": [
        "coffee <- c(3000,4500,4500,3500)\n",
        "names(coffee) <- c('아메리카노','에스프레소','카페모카','화이트라뗴')\n",
        "coffee"
      ],
      "execution_count": 30,
      "outputs": [
        {
          "output_type": "display_data",
          "data": {
            "text/plain": [
              "아메리카노 에스프레소   카페모카 화이트라뗴 \n",
              "      3000       4500       4500       3500 "
            ],
            "text/latex": "\\begin{description*}\n\\item[아메리카노] 3000\n\\item[에스프레소] 4500\n\\item[카페모카] 4500\n\\item[화이트라뗴] 3500\n\\end{description*}\n",
            "text/markdown": "아메리카노\n:   3000에스프레소\n:   4500카페모카\n:   4500화이트라뗴\n:   3500\n\n",
            "text/html": [
              "<style>\n",
              ".dl-inline {width: auto; margin:0; padding: 0}\n",
              ".dl-inline>dt, .dl-inline>dd {float: none; width: auto; display: inline-block}\n",
              ".dl-inline>dt::after {content: \":\\0020\"; padding-right: .5ex}\n",
              ".dl-inline>dt:not(:first-of-type) {padding-left: .5ex}\n",
              "</style><dl class=dl-inline><dt>아메리카노</dt><dd>3000</dd><dt>에스프레소</dt><dd>4500</dd><dt>카페모카</dt><dd>4500</dd><dt>화이트라뗴</dt><dd>3500</dd></dl>\n"
            ]
          },
          "metadata": {
            "tags": []
          }
        }
      ]
    },
    {
      "cell_type": "code",
      "metadata": {
        "id": "A7Tssglgcfve",
        "outputId": "e84ac7e3-bc08-4d36-efe2-1cace796d97f",
        "colab": {
          "base_uri": "https://localhost:8080/",
          "height": 34
        }
      },
      "source": [
        "coffee[3]"
      ],
      "execution_count": 31,
      "outputs": [
        {
          "output_type": "display_data",
          "data": {
            "text/plain": [
              "카페모카 \n",
              "    4500 "
            ],
            "text/latex": "\\textbf{카페모카:} 4500",
            "text/markdown": "**카페모카:** 4500",
            "text/html": [
              "<strong>카페모카:</strong> 4500"
            ]
          },
          "metadata": {
            "tags": []
          }
        }
      ]
    },
    {
      "cell_type": "code",
      "metadata": {
        "id": "bfFHcm-ncivu",
        "outputId": "be509e65-9acc-462a-e9ac-4f1508eed192",
        "colab": {
          "base_uri": "https://localhost:8080/",
          "height": 34
        }
      },
      "source": [
        "coffee['카페모카']"
      ],
      "execution_count": 32,
      "outputs": [
        {
          "output_type": "display_data",
          "data": {
            "text/plain": [
              "카페모카 \n",
              "    4500 "
            ],
            "text/latex": "\\textbf{카페모카:} 4500",
            "text/markdown": "**카페모카:** 4500",
            "text/html": [
              "<strong>카페모카:</strong> 4500"
            ]
          },
          "metadata": {
            "tags": []
          }
        }
      ]
    },
    {
      "cell_type": "code",
      "metadata": {
        "colab": {
          "base_uri": "https://localhost:8080/",
          "height": 34
        },
        "id": "9TCoapf6hH4t",
        "outputId": "cb2cc2df-33e2-429b-d6e4-f8d7c1a743ad"
      },
      "source": [
        "coffee[-3]"
      ],
      "execution_count": 33,
      "outputs": [
        {
          "output_type": "display_data",
          "data": {
            "text/plain": [
              "아메리카노 에스프레소 화이트라뗴 \n",
              "      3000       4500       3500 "
            ],
            "text/latex": "\\begin{description*}\n\\item[아메리카노] 3000\n\\item[에스프레소] 4500\n\\item[화이트라뗴] 3500\n\\end{description*}\n",
            "text/markdown": "아메리카노\n:   3000에스프레소\n:   4500화이트라뗴\n:   3500\n\n",
            "text/html": [
              "<style>\n",
              ".dl-inline {width: auto; margin:0; padding: 0}\n",
              ".dl-inline>dt, .dl-inline>dd {float: none; width: auto; display: inline-block}\n",
              ".dl-inline>dt::after {content: \":\\0020\"; padding-right: .5ex}\n",
              ".dl-inline>dt:not(:first-of-type) {padding-left: .5ex}\n",
              "</style><dl class=dl-inline><dt>아메리카노</dt><dd>3000</dd><dt>에스프레소</dt><dd>4500</dd><dt>화이트라뗴</dt><dd>3500</dd></dl>\n"
            ]
          },
          "metadata": {
            "tags": []
          }
        }
      ]
    },
    {
      "cell_type": "code",
      "metadata": {
        "colab": {
          "base_uri": "https://localhost:8080/",
          "height": 34
        },
        "id": "bStiZPqmhf-C",
        "outputId": "b8c12356-c100-410f-b37f-80f457d5046f"
      },
      "source": [
        "coffee[3] <- 3000\n",
        "coffee['카페모카']"
      ],
      "execution_count": 34,
      "outputs": [
        {
          "output_type": "display_data",
          "data": {
            "text/plain": [
              "카페모카 \n",
              "    3000 "
            ],
            "text/latex": "\\textbf{카페모카:} 3000",
            "text/markdown": "**카페모카:** 3000",
            "text/html": [
              "<strong>카페모카:</strong> 3000"
            ]
          },
          "metadata": {
            "tags": []
          }
        }
      ]
    },
    {
      "cell_type": "code",
      "metadata": {
        "colab": {
          "base_uri": "https://localhost:8080/",
          "height": 34
        },
        "id": "aRWzoUBgh7T3",
        "outputId": "5403428a-bc04-4520-8336-3070b64cedd6"
      },
      "source": [
        "coffee + 1000"
      ],
      "execution_count": 35,
      "outputs": [
        {
          "output_type": "display_data",
          "data": {
            "text/plain": [
              "아메리카노 에스프레소   카페모카 화이트라뗴 \n",
              "      4000       5500       4000       4500 "
            ],
            "text/latex": "\\begin{description*}\n\\item[아메리카노] 4000\n\\item[에스프레소] 5500\n\\item[카페모카] 4000\n\\item[화이트라뗴] 4500\n\\end{description*}\n",
            "text/markdown": "아메리카노\n:   4000에스프레소\n:   5500카페모카\n:   4000화이트라뗴\n:   4500\n\n",
            "text/html": [
              "<style>\n",
              ".dl-inline {width: auto; margin:0; padding: 0}\n",
              ".dl-inline>dt, .dl-inline>dd {float: none; width: auto; display: inline-block}\n",
              ".dl-inline>dt::after {content: \":\\0020\"; padding-right: .5ex}\n",
              ".dl-inline>dt:not(:first-of-type) {padding-left: .5ex}\n",
              "</style><dl class=dl-inline><dt>아메리카노</dt><dd>4000</dd><dt>에스프레소</dt><dd>5500</dd><dt>카페모카</dt><dd>4000</dd><dt>화이트라뗴</dt><dd>4500</dd></dl>\n"
            ]
          },
          "metadata": {
            "tags": []
          }
        }
      ]
    },
    {
      "cell_type": "code",
      "metadata": {
        "colab": {
          "base_uri": "https://localhost:8080/",
          "height": 34
        },
        "id": "sVVHluCWfi-5",
        "outputId": "3f97a2b8-71b0-4524-cba1-568946d83ff9"
      },
      "source": [
        "x + 2"
      ],
      "execution_count": null,
      "outputs": [
        {
          "output_type": "display_data",
          "data": {
            "text/plain": [
              "[1] 1 2 3 4 5 6 7"
            ],
            "text/latex": "\\begin{enumerate*}\n\\item 1\n\\item 2\n\\item 3\n\\item 4\n\\item 5\n\\item 6\n\\item 7\n\\end{enumerate*}\n",
            "text/markdown": "1. 1\n2. 2\n3. 3\n4. 4\n5. 5\n6. 6\n7. 7\n\n\n",
            "text/html": [
              "<style>\n",
              ".list-inline {list-style: none; margin:0; padding: 0}\n",
              ".list-inline>li {display: inline-block}\n",
              ".list-inline>li:not(:last-child)::after {content: \"\\00b7\"; padding: 0 .5ex}\n",
              "</style>\n",
              "<ol class=list-inline><li>1</li><li>2</li><li>3</li><li>4</li><li>5</li><li>6</li><li>7</li></ol>\n"
            ]
          },
          "metadata": {
            "tags": []
          }
        }
      ]
    },
    {
      "cell_type": "code",
      "metadata": {
        "colab": {
          "base_uri": "https://localhost:8080/",
          "height": 34
        },
        "id": "HKKuyB7yjCns",
        "outputId": "94386cfb-0e79-401a-f57e-4e78c2a6f0ed"
      },
      "source": [
        "shop1 <- c(15,10,7,3)\n",
        "shop2 <- c(20,10,3,8)\n",
        "shop1 + shop2"
      ],
      "execution_count": 26,
      "outputs": [
        {
          "output_type": "display_data",
          "data": {
            "text/plain": [
              "[1] 35 20 10 11"
            ],
            "text/latex": "\\begin{enumerate*}\n\\item 35\n\\item 20\n\\item 10\n\\item 11\n\\end{enumerate*}\n",
            "text/markdown": "1. 35\n2. 20\n3. 10\n4. 11\n\n\n",
            "text/html": [
              "<style>\n",
              ".list-inline {list-style: none; margin:0; padding: 0}\n",
              ".list-inline>li {display: inline-block}\n",
              ".list-inline>li:not(:last-child)::after {content: \"\\00b7\"; padding: 0 .5ex}\n",
              "</style>\n",
              "<ol class=list-inline><li>35</li><li>20</li><li>10</li><li>11</li></ol>\n"
            ]
          },
          "metadata": {
            "tags": []
          }
        }
      ]
    },
    {
      "cell_type": "code",
      "metadata": {
        "colab": {
          "base_uri": "https://localhost:8080/",
          "height": 34
        },
        "id": "anYG9rhI45po",
        "outputId": "b93d7eb0-9106-4887-9207-a7e440383cc2"
      },
      "source": [
        "'헐크'%in%irums"
      ],
      "execution_count": null,
      "outputs": [
        {
          "output_type": "display_data",
          "data": {
            "text/plain": [
              "[1] FALSE"
            ],
            "text/latex": "FALSE",
            "text/markdown": "FALSE",
            "text/html": [
              "FALSE"
            ]
          },
          "metadata": {
            "tags": []
          }
        }
      ]
    },
    {
      "cell_type": "code",
      "metadata": {
        "colab": {
          "base_uri": "https://localhost:8080/",
          "height": 34
        },
        "id": "JHbBc3DS5AKS",
        "outputId": "941c435f-d8d6-4747-a298-c66675dd5304"
      },
      "source": [
        "'도둑'%in%irums"
      ],
      "execution_count": null,
      "outputs": [
        {
          "output_type": "display_data",
          "data": {
            "text/plain": [
              "[1] TRUE"
            ],
            "text/latex": "TRUE",
            "text/markdown": "TRUE",
            "text/html": [
              "TRUE"
            ]
          },
          "metadata": {
            "tags": []
          }
        }
      ]
    },
    {
      "cell_type": "code",
      "metadata": {
        "colab": {
          "base_uri": "https://localhost:8080/",
          "height": 34
        },
        "id": "FgaksdHMks8e",
        "outputId": "acf70a7e-12b7-4d19-d6d2-3ffd735805e3"
      },
      "source": [
        "length(y)"
      ],
      "execution_count": null,
      "outputs": [
        {
          "output_type": "display_data",
          "data": {
            "text/plain": [
              "[1] 6"
            ],
            "text/latex": "6",
            "text/markdown": "6",
            "text/html": [
              "6"
            ]
          },
          "metadata": {
            "tags": []
          }
        }
      ]
    },
    {
      "cell_type": "code",
      "metadata": {
        "colab": {
          "base_uri": "https://localhost:8080/",
          "height": 34
        },
        "id": "7z4DHH53kyFT",
        "outputId": "41360343-3316-41f5-bd32-ec9c5f058812"
      },
      "source": [
        "NROW(y)"
      ],
      "execution_count": null,
      "outputs": [
        {
          "output_type": "display_data",
          "data": {
            "text/plain": [
              "[1] 6"
            ],
            "text/latex": "6",
            "text/markdown": "6",
            "text/html": [
              "6"
            ]
          },
          "metadata": {
            "tags": []
          }
        }
      ]
    },
    {
      "cell_type": "code",
      "metadata": {
        "colab": {
          "base_uri": "https://localhost:8080/",
          "height": 34
        },
        "id": "bacLHP5FjDk0",
        "outputId": "70cd1ee0-35c4-4643-91be-11f26dccacea"
      },
      "source": [
        "union(shop1, shop2)"
      ],
      "execution_count": null,
      "outputs": [
        {
          "output_type": "display_data",
          "data": {
            "text/plain": [
              "[1] 15 10  7  3 20  8"
            ],
            "text/latex": "\\begin{enumerate*}\n\\item 15\n\\item 10\n\\item 7\n\\item 3\n\\item 20\n\\item 8\n\\end{enumerate*}\n",
            "text/markdown": "1. 15\n2. 10\n3. 7\n4. 3\n5. 20\n6. 8\n\n\n",
            "text/html": [
              "<style>\n",
              ".list-inline {list-style: none; margin:0; padding: 0}\n",
              ".list-inline>li {display: inline-block}\n",
              ".list-inline>li:not(:last-child)::after {content: \"\\00b7\"; padding: 0 .5ex}\n",
              "</style>\n",
              "<ol class=list-inline><li>15</li><li>10</li><li>7</li><li>3</li><li>20</li><li>8</li></ol>\n"
            ]
          },
          "metadata": {
            "tags": []
          }
        }
      ]
    },
    {
      "cell_type": "code",
      "metadata": {
        "colab": {
          "base_uri": "https://localhost:8080/",
          "height": 34
        },
        "id": "vW56RVXEjSHG",
        "outputId": "b32a81d3-f604-4de6-c120-d94c74f13b8e"
      },
      "source": [
        "intersect(shop1, shop2)"
      ],
      "execution_count": null,
      "outputs": [
        {
          "output_type": "display_data",
          "data": {
            "text/plain": [
              "[1] 10  3"
            ],
            "text/latex": "\\begin{enumerate*}\n\\item 10\n\\item 3\n\\end{enumerate*}\n",
            "text/markdown": "1. 10\n2. 3\n\n\n",
            "text/html": [
              "<style>\n",
              ".list-inline {list-style: none; margin:0; padding: 0}\n",
              ".list-inline>li {display: inline-block}\n",
              ".list-inline>li:not(:last-child)::after {content: \"\\00b7\"; padding: 0 .5ex}\n",
              "</style>\n",
              "<ol class=list-inline><li>10</li><li>3</li></ol>\n"
            ]
          },
          "metadata": {
            "tags": []
          }
        }
      ]
    },
    {
      "cell_type": "code",
      "metadata": {
        "colab": {
          "base_uri": "https://localhost:8080/",
          "height": 34
        },
        "id": "4xEFtV9ujaVp",
        "outputId": "f5ae83ff-afa5-4e15-a8f6-cfed4da76877"
      },
      "source": [
        "setdiff(shop1, shop2)"
      ],
      "execution_count": null,
      "outputs": [
        {
          "output_type": "display_data",
          "data": {
            "text/plain": [
              "[1] 15  7"
            ],
            "text/latex": "\\begin{enumerate*}\n\\item 15\n\\item 7\n\\end{enumerate*}\n",
            "text/markdown": "1. 15\n2. 7\n\n\n",
            "text/html": [
              "<style>\n",
              ".list-inline {list-style: none; margin:0; padding: 0}\n",
              ".list-inline>li {display: inline-block}\n",
              ".list-inline>li:not(:last-child)::after {content: \"\\00b7\"; padding: 0 .5ex}\n",
              "</style>\n",
              "<ol class=list-inline><li>15</li><li>7</li></ol>\n"
            ]
          },
          "metadata": {
            "tags": []
          }
        }
      ]
    },
    {
      "cell_type": "code",
      "metadata": {
        "id": "ozfGOzEwjgrz",
        "outputId": "44e06f57-9a44-440a-bb24-a57c676e3463",
        "colab": {
          "base_uri": "https://localhost:8080/",
          "height": 34
        }
      },
      "source": [
        "shop1 <- c(shop1, shop2)\n",
        "shop2 <- c(shop2, shop1)\n",
        "identical(shop1, shop2)"
      ],
      "execution_count": 36,
      "outputs": [
        {
          "output_type": "display_data",
          "data": {
            "text/plain": [
              "[1] FALSE"
            ],
            "text/latex": "FALSE",
            "text/markdown": "FALSE",
            "text/html": [
              "FALSE"
            ]
          },
          "metadata": {
            "tags": []
          }
        }
      ]
    },
    {
      "cell_type": "code",
      "metadata": {
        "colab": {
          "base_uri": "https://localhost:8080/",
          "height": 34
        },
        "id": "n1iEyAWcjqIA",
        "outputId": "c8a49667-1460-4cb7-b1ae-14da353a1282"
      },
      "source": [
        "setequal(shop1, shop2)"
      ],
      "execution_count": null,
      "outputs": [
        {
          "output_type": "display_data",
          "data": {
            "text/plain": [
              "[1] TRUE"
            ],
            "text/latex": "TRUE",
            "text/markdown": "TRUE",
            "text/html": [
              "TRUE"
            ]
          },
          "metadata": {
            "tags": []
          }
        }
      ]
    },
    {
      "cell_type": "code",
      "metadata": {
        "colab": {
          "base_uri": "https://localhost:8080/",
          "height": 67
        },
        "id": "YkOBJKpYPxV5",
        "outputId": "40b35d06-73de-4d9c-9576-81556af19b78"
      },
      "source": [
        "pet <- factor(c('dog','dog','dog','cat','alligator'))\n",
        "pet"
      ],
      "execution_count": null,
      "outputs": [
        {
          "output_type": "display_data",
          "data": {
            "text/plain": [
              "[1] dog       dog       dog       cat       alligator\n",
              "Levels: alligator cat dog"
            ],
            "text/latex": "\\begin{enumerate*}\n\\item dog\n\\item dog\n\\item dog\n\\item cat\n\\item alligator\n\\end{enumerate*}\n\n\\emph{Levels}: \\begin{enumerate*}\n\\item 'alligator'\n\\item 'cat'\n\\item 'dog'\n\\end{enumerate*}\n",
            "text/markdown": "1. dog\n2. dog\n3. dog\n4. cat\n5. alligator\n\n\n\n**Levels**: 1. 'alligator'\n2. 'cat'\n3. 'dog'\n\n\n",
            "text/html": [
              "<style>\n",
              ".list-inline {list-style: none; margin:0; padding: 0}\n",
              ".list-inline>li {display: inline-block}\n",
              ".list-inline>li:not(:last-child)::after {content: \"\\00b7\"; padding: 0 .5ex}\n",
              "</style>\n",
              "<ol class=list-inline><li>dog</li><li>dog</li><li>dog</li><li>cat</li><li>alligator</li></ol>\n",
              "\n",
              "<details>\n",
              "\t<summary style=display:list-item;cursor:pointer>\n",
              "\t\t<strong>Levels</strong>:\n",
              "\t</summary>\n",
              "\t<style>\n",
              "\t.list-inline {list-style: none; margin:0; padding: 0}\n",
              "\t.list-inline>li {display: inline-block}\n",
              "\t.list-inline>li:not(:last-child)::after {content: \"\\00b7\"; padding: 0 .5ex}\n",
              "\t</style>\n",
              "\t<ol class=list-inline><li>'alligator'</li><li>'cat'</li><li>'dog'</li></ol>\n",
              "</details>"
            ]
          },
          "metadata": {
            "tags": []
          }
        }
      ]
    },
    {
      "cell_type": "code",
      "metadata": {
        "colab": {
          "base_uri": "https://localhost:8080/",
          "height": 67
        },
        "id": "TKZDMNnHQSOy",
        "outputId": "9939cb1c-707c-4bfd-a09c-9bf7676c8b0d"
      },
      "source": [
        "religion <- factor(c('천주교','기독교','기독교','불교','불교','무교'), c('기독교','불교'))\n",
        "religion"
      ],
      "execution_count": null,
      "outputs": [
        {
          "output_type": "display_data",
          "data": {
            "text/plain": [
              "[1] <NA>   기독교 기독교 불교   불교   <NA>  \n",
              "Levels: 기독교 불교"
            ],
            "text/latex": "\\begin{enumerate*}\n\\item <NA>\n\\item 기독교\n\\item 기독교\n\\item 불교\n\\item 불교\n\\item <NA>\n\\end{enumerate*}\n\n\\emph{Levels}: \\begin{enumerate*}\n\\item '기독교'\n\\item '불교'\n\\end{enumerate*}\n",
            "text/markdown": "1. &lt;NA&gt;\n2. 기독교\n3. 기독교\n4. 불교\n5. 불교\n6. &lt;NA&gt;\n\n\n\n**Levels**: 1. '기독교'\n2. '불교'\n\n\n",
            "text/html": [
              "<style>\n",
              ".list-inline {list-style: none; margin:0; padding: 0}\n",
              ".list-inline>li {display: inline-block}\n",
              ".list-inline>li:not(:last-child)::after {content: \"\\00b7\"; padding: 0 .5ex}\n",
              "</style>\n",
              "<ol class=list-inline><li>&lt;NA&gt;</li><li>기독교</li><li>기독교</li><li>불교</li><li>불교</li><li>&lt;NA&gt;</li></ol>\n",
              "\n",
              "<details>\n",
              "\t<summary style=display:list-item;cursor:pointer>\n",
              "\t\t<strong>Levels</strong>:\n",
              "\t</summary>\n",
              "\t<style>\n",
              "\t.list-inline {list-style: none; margin:0; padding: 0}\n",
              "\t.list-inline>li {display: inline-block}\n",
              "\t.list-inline>li:not(:last-child)::after {content: \"\\00b7\"; padding: 0 .5ex}\n",
              "\t</style>\n",
              "\t<ol class=list-inline><li>'기독교'</li><li>'불교'</li></ol>\n",
              "</details>"
            ]
          },
          "metadata": {
            "tags": []
          }
        }
      ]
    },
    {
      "cell_type": "code",
      "metadata": {
        "colab": {
          "base_uri": "https://localhost:8080/",
          "height": 67
        },
        "id": "m9O42Q2oQ8NY",
        "outputId": "8c57d454-ead1-4dbd-9086-4e1ef344b053"
      },
      "source": [
        "width <- factor(c('18평','24평','24평','33평','33평','33평','18평'), ordered=TRUE)\n",
        "width"
      ],
      "execution_count": null,
      "outputs": [
        {
          "output_type": "display_data",
          "data": {
            "text/plain": [
              "[1] 18평 24평 24평 33평 33평 33평 18평\n",
              "Levels: 18평 < 24평 < 33평"
            ],
            "text/latex": "\\begin{enumerate*}\n\\item 18평\n\\item 24평\n\\item 24평\n\\item 33평\n\\item 33평\n\\item 33평\n\\item 18평\n\\end{enumerate*}\n\n\\emph{Levels}: \\begin{enumerate*}\n\\item '18평'\n\\item '24평'\n\\item '33평'\n\\end{enumerate*}\n",
            "text/markdown": "1. 18평\n2. 24평\n3. 24평\n4. 33평\n5. 33평\n6. 33평\n7. 18평\n\n\n\n**Levels**: 1. '18평'\n2. '24평'\n3. '33평'\n\n\n",
            "text/html": [
              "<style>\n",
              ".list-inline {list-style: none; margin:0; padding: 0}\n",
              ".list-inline>li {display: inline-block}\n",
              ".list-inline>li:not(:last-child)::after {content: \"\\00b7\"; padding: 0 .5ex}\n",
              "</style>\n",
              "<ol class=list-inline><li>18평</li><li>24평</li><li>24평</li><li>33평</li><li>33평</li><li>33평</li><li>18평</li></ol>\n",
              "\n",
              "<details>\n",
              "\t<summary style=display:list-item;cursor:pointer>\n",
              "\t\t<strong>Levels</strong>:\n",
              "\t</summary>\n",
              "\t<style>\n",
              "\t.list-inline {list-style: none; margin:0; padding: 0}\n",
              "\t.list-inline>li {display: inline-block}\n",
              "\t.list-inline>li:not(:last-child)::after {content: \"\\00b7\"; padding: 0 .5ex}\n",
              "\t</style>\n",
              "\t<ol class=list-inline><li>'18평'</li><li>'24평'</li><li>'33평'</li></ol>\n",
              "</details>"
            ]
          },
          "metadata": {
            "tags": []
          }
        }
      ]
    },
    {
      "cell_type": "code",
      "metadata": {
        "colab": {
          "base_uri": "https://localhost:8080/",
          "height": 70
        },
        "id": "GE81tJX0RlXo",
        "outputId": "c0808b17-7532-4709-8251-3a6e8cfbc22f"
      },
      "source": [
        "table(religion)"
      ],
      "execution_count": null,
      "outputs": [
        {
          "output_type": "display_data",
          "data": {
            "text/plain": [
              "religion\n",
              "기독교   불교 \n",
              "     2      2 "
            ]
          },
          "metadata": {
            "tags": []
          }
        }
      ]
    },
    {
      "cell_type": "code",
      "metadata": {
        "colab": {
          "base_uri": "https://localhost:8080/",
          "height": 34
        },
        "id": "QVUVb8iwRrIb",
        "outputId": "49b272a4-29d2-432f-ccce-1bcd22325e2c"
      },
      "source": [
        "unclass(width)"
      ],
      "execution_count": null,
      "outputs": [
        {
          "output_type": "display_data",
          "data": {
            "text/plain": [
              "[1] 1 2 2 3 3 3 1\n",
              "attr(,\"levels\")\n",
              "[1] \"18평\" \"24평\" \"33평\""
            ],
            "text/latex": "\\begin{enumerate*}\n\\item 1\n\\item 2\n\\item 2\n\\item 3\n\\item 3\n\\item 3\n\\item 1\n\\end{enumerate*}\n",
            "text/markdown": "1. 1\n2. 2\n3. 2\n4. 3\n5. 3\n6. 3\n7. 1\n\n\n",
            "text/html": [
              "<style>\n",
              ".list-inline {list-style: none; margin:0; padding: 0}\n",
              ".list-inline>li {display: inline-block}\n",
              ".list-inline>li:not(:last-child)::after {content: \"\\00b7\"; padding: 0 .5ex}\n",
              "</style>\n",
              "<ol class=list-inline><li>1</li><li>2</li><li>2</li><li>3</li><li>3</li><li>3</li><li>1</li></ol>\n"
            ]
          },
          "metadata": {
            "tags": []
          }
        }
      ]
    },
    {
      "cell_type": "markdown",
      "metadata": {
        "id": "_ZjRoM_bCZ6j"
      },
      "source": [
        "##9"
      ]
    },
    {
      "cell_type": "code",
      "metadata": {
        "colab": {
          "base_uri": "https://localhost:8080/",
          "height": 112
        },
        "id": "HaE2XiOksP8J",
        "outputId": "5fb62fcf-5674-4bd0-839f-bcf176f5d341"
      },
      "source": [
        "my1 <- list(\"지윤영\",\"대학생\",\"서울\",2.5)\n",
        "my1"
      ],
      "execution_count": null,
      "outputs": [
        {
          "output_type": "display_data",
          "data": {
            "text/plain": [
              "[[1]]\n",
              "[1] \"지윤영\"\n",
              "\n",
              "[[2]]\n",
              "[1] \"대학생\"\n",
              "\n",
              "[[3]]\n",
              "[1] \"서울\"\n",
              "\n",
              "[[4]]\n",
              "[1] 2.5\n"
            ],
            "text/latex": "\\begin{enumerate}\n\\item '지윤영'\n\\item '대학생'\n\\item '서울'\n\\item 2.5\n\\end{enumerate}\n",
            "text/markdown": "1. '지윤영'\n2. '대학생'\n3. '서울'\n4. 2.5\n\n\n",
            "text/html": [
              "<ol>\n",
              "\t<li>'지윤영'</li>\n",
              "\t<li>'대학생'</li>\n",
              "\t<li>'서울'</li>\n",
              "\t<li>2.5</li>\n",
              "</ol>\n"
            ]
          },
          "metadata": {
            "tags": []
          }
        }
      ]
    },
    {
      "cell_type": "code",
      "metadata": {
        "colab": {
          "base_uri": "https://localhost:8080/",
          "height": 146
        },
        "id": "-mG5FoAQscir",
        "outputId": "e37a86f1-b2cd-457d-8446-6620a6f56028"
      },
      "source": [
        "myfavorit <- list(friend=c'김지수',mynum=4,myalpha='w')\n",
        "myfavorit"
      ],
      "execution_count": null,
      "outputs": [
        {
          "output_type": "display_data",
          "data": {
            "text/plain": [
              "$friend\n",
              "[1] \"김지수\"\n",
              "\n",
              "$mynum\n",
              "[1] 4\n",
              "\n",
              "$myalpha\n",
              "[1] \"w\"\n"
            ],
            "text/latex": "\\begin{description}\n\\item[\\$friend] '김지수'\n\\item[\\$mynum] 4\n\\item[\\$myalpha] 'w'\n\\end{description}\n",
            "text/markdown": "$friend\n:   '김지수'\n$mynum\n:   4\n$myalpha\n:   'w'\n\n\n",
            "text/html": [
              "<dl>\n",
              "\t<dt>$friend</dt>\n",
              "\t\t<dd>'김지수'</dd>\n",
              "\t<dt>$mynum</dt>\n",
              "\t\t<dd>4</dd>\n",
              "\t<dt>$myalpha</dt>\n",
              "\t\t<dd>'w'</dd>\n",
              "</dl>\n"
            ]
          },
          "metadata": {
            "tags": []
          }
        }
      ]
    },
    {
      "cell_type": "code",
      "metadata": {
        "colab": {
          "base_uri": "https://localhost:8080/",
          "height": 34
        },
        "id": "3PJNDsR9stiz",
        "outputId": "1e46646f-021a-4063-e670-b353f82dfee8"
      },
      "source": [
        "myfavorit$myalpha"
      ],
      "execution_count": null,
      "outputs": [
        {
          "output_type": "display_data",
          "data": {
            "text/plain": [
              "[1] \"w\""
            ],
            "text/latex": "'w'",
            "text/markdown": "'w'",
            "text/html": [
              "'w'"
            ]
          },
          "metadata": {
            "tags": []
          }
        }
      ]
    },
    {
      "cell_type": "code",
      "metadata": {
        "colab": {
          "base_uri": "https://localhost:8080/",
          "height": 179
        },
        "id": "CbwBDXnYs5HM",
        "outputId": "aa4b89a3-1914-4fb2-deac-f35f36f4747a"
      },
      "source": [
        "myfavorit$mysong <- 'festa'\n",
        "myfavorit"
      ],
      "execution_count": null,
      "outputs": [
        {
          "output_type": "display_data",
          "data": {
            "text/plain": [
              "$friend\n",
              "[1] \"김지수\"\n",
              "\n",
              "$mynum\n",
              "[1] 4\n",
              "\n",
              "$myalpha\n",
              "[1] \"w\"\n",
              "\n",
              "$mysong\n",
              "[1] \"festa\"\n"
            ],
            "text/latex": "\\begin{description}\n\\item[\\$friend] '김지수'\n\\item[\\$mynum] 4\n\\item[\\$myalpha] 'w'\n\\item[\\$mysong] 'festa'\n\\end{description}\n",
            "text/markdown": "$friend\n:   '김지수'\n$mynum\n:   4\n$myalpha\n:   'w'\n$mysong\n:   'festa'\n\n\n",
            "text/html": [
              "<dl>\n",
              "\t<dt>$friend</dt>\n",
              "\t\t<dd>'김지수'</dd>\n",
              "\t<dt>$mynum</dt>\n",
              "\t\t<dd>4</dd>\n",
              "\t<dt>$myalpha</dt>\n",
              "\t\t<dd>'w'</dd>\n",
              "\t<dt>$mysong</dt>\n",
              "\t\t<dd>'festa'</dd>\n",
              "</dl>\n"
            ]
          },
          "metadata": {
            "tags": []
          }
        }
      ]
    },
    {
      "cell_type": "code",
      "metadata": {
        "colab": {
          "base_uri": "https://localhost:8080/",
          "height": 179
        },
        "id": "SEq5dphfulYM",
        "outputId": "ca04d242-1668-4063-8283-1ee80afa5aba"
      },
      "source": [
        "myfavorit$friend <- c('김지수','류건욱')\n",
        "myfavorit"
      ],
      "execution_count": null,
      "outputs": [
        {
          "output_type": "display_data",
          "data": {
            "text/plain": [
              "$friend\n",
              "[1] \"김지수\" \"류건욱\"\n",
              "\n",
              "$mynum\n",
              "[1] 4\n",
              "\n",
              "$myalpha\n",
              "[1] \"w\"\n",
              "\n",
              "$mysong\n",
              "[1] \"festa\"\n"
            ],
            "text/latex": "\\begin{description}\n\\item[\\$friend] \\begin{enumerate*}\n\\item '김지수'\n\\item '류건욱'\n\\end{enumerate*}\n\n\\item[\\$mynum] 4\n\\item[\\$myalpha] 'w'\n\\item[\\$mysong] 'festa'\n\\end{description}\n",
            "text/markdown": "$friend\n:   1. '김지수'\n2. '류건욱'\n\n\n\n$mynum\n:   4\n$myalpha\n:   'w'\n$mysong\n:   'festa'\n\n\n",
            "text/html": [
              "<dl>\n",
              "\t<dt>$friend</dt>\n",
              "\t\t<dd><style>\n",
              ".list-inline {list-style: none; margin:0; padding: 0}\n",
              ".list-inline>li {display: inline-block}\n",
              ".list-inline>li:not(:last-child)::after {content: \"\\00b7\"; padding: 0 .5ex}\n",
              "</style>\n",
              "<ol class=list-inline><li>'김지수'</li><li>'류건욱'</li></ol>\n",
              "</dd>\n",
              "\t<dt>$mynum</dt>\n",
              "\t\t<dd>4</dd>\n",
              "\t<dt>$myalpha</dt>\n",
              "\t\t<dd>'w'</dd>\n",
              "\t<dt>$mysong</dt>\n",
              "\t\t<dd>'festa'</dd>\n",
              "</dl>\n"
            ]
          },
          "metadata": {
            "tags": []
          }
        }
      ]
    },
    {
      "cell_type": "code",
      "metadata": {
        "colab": {
          "base_uri": "https://localhost:8080/",
          "height": 112
        },
        "id": "-Y9MBKjfv2vw",
        "outputId": "37c3de06-6413-4010-ad18-634df7b6dc65"
      },
      "source": [
        "age <- matrix(c(25,33,32,37,27,38), nrow=2)\n",
        "age"
      ],
      "execution_count": null,
      "outputs": [
        {
          "output_type": "display_data",
          "data": {
            "text/plain": [
              "     [,1] [,2] [,3]\n",
              "[1,] 25   32   27  \n",
              "[2,] 33   37   38  "
            ],
            "text/latex": "A matrix: 2 × 3 of type dbl\n\\begin{tabular}{lll}\n\t 25 & 32 & 27\\\\\n\t 33 & 37 & 38\\\\\n\\end{tabular}\n",
            "text/markdown": "\nA matrix: 2 × 3 of type dbl\n\n| 25 | 32 | 27 |\n| 33 | 37 | 38 |\n\n",
            "text/html": [
              "<table class=\"dataframe\">\n",
              "<caption>A matrix: 2 × 3 of type dbl</caption>\n",
              "<tbody>\n",
              "\t<tr><td>25</td><td>32</td><td>27</td></tr>\n",
              "\t<tr><td>33</td><td>37</td><td>38</td></tr>\n",
              "</tbody>\n",
              "</table>\n"
            ]
          },
          "metadata": {
            "tags": []
          }
        }
      ]
    },
    {
      "cell_type": "code",
      "metadata": {
        "colab": {
          "base_uri": "https://localhost:8080/",
          "height": 112
        },
        "id": "jZXPNHz5wMau",
        "outputId": "a72d8168-fb69-445e-bbc5-886f2d4c9796"
      },
      "source": [
        "age <- matrix(c(25,33,32,37,27,38), nrow=2, byrow=TRUE)\n",
        "age"
      ],
      "execution_count": null,
      "outputs": [
        {
          "output_type": "display_data",
          "data": {
            "text/plain": [
              "     [,1] [,2] [,3]\n",
              "[1,] 25   33   32  \n",
              "[2,] 37   27   38  "
            ],
            "text/latex": "A matrix: 2 × 3 of type dbl\n\\begin{tabular}{lll}\n\t 25 & 33 & 32\\\\\n\t 37 & 27 & 38\\\\\n\\end{tabular}\n",
            "text/markdown": "\nA matrix: 2 × 3 of type dbl\n\n| 25 | 33 | 32 |\n| 37 | 27 | 38 |\n\n",
            "text/html": [
              "<table class=\"dataframe\">\n",
              "<caption>A matrix: 2 × 3 of type dbl</caption>\n",
              "<tbody>\n",
              "\t<tr><td>25</td><td>33</td><td>32</td></tr>\n",
              "\t<tr><td>37</td><td>27</td><td>38</td></tr>\n",
              "</tbody>\n",
              "</table>\n"
            ]
          },
          "metadata": {
            "tags": []
          }
        }
      ]
    },
    {
      "cell_type": "code",
      "metadata": {
        "colab": {
          "base_uri": "https://localhost:8080/",
          "height": 174
        },
        "id": "3sb4JDIcwUWZ",
        "outputId": "186d4253-115d-46e6-c652-ea774a794ddb"
      },
      "source": [
        "info <- matrix(c('177cm','68kg','156cm','57kg','160cm','48kg','175kg','60kg'), ncol=2, byrow=TRUE)\n",
        "info"
      ],
      "execution_count": null,
      "outputs": [
        {
          "output_type": "display_data",
          "data": {
            "text/plain": [
              "     [,1]  [,2]\n",
              "[1,] 177cm 68kg\n",
              "[2,] 156cm 57kg\n",
              "[3,] 160cm 48kg\n",
              "[4,] 175kg 60kg"
            ],
            "text/latex": "A matrix: 4 × 2 of type chr\n\\begin{tabular}{ll}\n\t 177cm & 68kg\\\\\n\t 156cm & 57kg\\\\\n\t 160cm & 48kg\\\\\n\t 175kg & 60kg\\\\\n\\end{tabular}\n",
            "text/markdown": "\nA matrix: 4 × 2 of type chr\n\n| 177cm | 68kg |\n| 156cm | 57kg |\n| 160cm | 48kg |\n| 175kg | 60kg |\n\n",
            "text/html": [
              "<table class=\"dataframe\">\n",
              "<caption>A matrix: 4 × 2 of type chr</caption>\n",
              "<tbody>\n",
              "\t<tr><td>177cm</td><td>68kg</td></tr>\n",
              "\t<tr><td>156cm</td><td>57kg</td></tr>\n",
              "\t<tr><td>160cm</td><td>48kg</td></tr>\n",
              "\t<tr><td>175kg</td><td>60kg</td></tr>\n",
              "</tbody>\n",
              "</table>\n"
            ]
          },
          "metadata": {
            "tags": []
          }
        }
      ]
    },
    {
      "cell_type": "code",
      "metadata": {
        "colab": {
          "base_uri": "https://localhost:8080/",
          "height": 206
        },
        "id": "py-Qdfggw9AA",
        "outputId": "697ee96d-729e-4b35-9163-98442cf17eab"
      },
      "source": [
        "dimnames(info) <- list(c('1번','2번','3번','4번'), c('키','몸무게'))\n",
        "info"
      ],
      "execution_count": null,
      "outputs": [
        {
          "output_type": "display_data",
          "data": {
            "text/plain": [
              "    키    몸무게\n",
              "1번 177cm 68kg  \n",
              "2번 156cm 57kg  \n",
              "3번 160cm 48kg  \n",
              "4번 175kg 60kg  "
            ],
            "text/latex": "A matrix: 4 × 2 of type chr\n\\begin{tabular}{r|ll}\n  & 키 & 몸무게\\\\\n\\hline\n\t1번 & 177cm & 68kg\\\\\n\t2번 & 156cm & 57kg\\\\\n\t3번 & 160cm & 48kg\\\\\n\t4번 & 175kg & 60kg\\\\\n\\end{tabular}\n",
            "text/markdown": "\nA matrix: 4 × 2 of type chr\n\n| <!--/--> | 키 | 몸무게 |\n|---|---|---|\n| 1번 | 177cm | 68kg |\n| 2번 | 156cm | 57kg |\n| 3번 | 160cm | 48kg |\n| 4번 | 175kg | 60kg |\n\n",
            "text/html": [
              "<table class=\"dataframe\">\n",
              "<caption>A matrix: 4 × 2 of type chr</caption>\n",
              "<thead>\n",
              "\t<tr><th></th><th scope=col>키</th><th scope=col>몸무게</th></tr>\n",
              "</thead>\n",
              "<tbody>\n",
              "\t<tr><th scope=row>1번</th><td>177cm</td><td>68kg</td></tr>\n",
              "\t<tr><th scope=row>2번</th><td>156cm</td><td>57kg</td></tr>\n",
              "\t<tr><th scope=row>3번</th><td>160cm</td><td>48kg</td></tr>\n",
              "\t<tr><th scope=row>4번</th><td>175kg</td><td>60kg</td></tr>\n",
              "</tbody>\n",
              "</table>\n"
            ]
          },
          "metadata": {
            "tags": []
          }
        }
      ]
    },
    {
      "cell_type": "code",
      "metadata": {
        "colab": {
          "base_uri": "https://localhost:8080/"
        },
        "id": "jLFBr2U2xKXz",
        "outputId": "296dfe27-4723-474b-ca5e-247d2bdf0977"
      },
      "source": [
        "example(dimnames)"
      ],
      "execution_count": null,
      "outputs": [
        {
          "output_type": "stream",
          "text": [
            "\n",
            "dimnms> ## simple versions of rownames and colnames\n",
            "dimnms> ## could be defined as follows\n",
            "dimnms> rownames0 <- function(x) dimnames(x)[[1]]\n",
            "\n",
            "dimnms> colnames0 <- function(x) dimnames(x)[[2]]\n",
            "\n",
            "dimnms> (dn <- dimnames(A <- provideDimnames(N <- array(1:24, dim = 2:4))))\n",
            "[[1]]\n",
            "[1] \"A\" \"B\"\n",
            "\n",
            "[[2]]\n",
            "[1] \"A\" \"B\" \"C\"\n",
            "\n",
            "[[3]]\n",
            "[1] \"A\" \"B\" \"C\" \"D\"\n",
            "\n",
            "\n",
            "dimnms> A0 <- A; dimnames(A)[2:3] <- list(NULL)\n",
            "\n",
            "dimnms> stopifnot(identical(A0, provideDimnames(A)))\n",
            "\n",
            "dimnms> strd <- function(x) utils::str(dimnames(x))\n",
            "\n",
            "dimnms> strd(provideDimnames(A, base= list(letters[-(1:9)], tail(LETTERS))))\n",
            "List of 3\n",
            " $ : chr [1:2] \"A\" \"B\"\n",
            " $ : chr [1:3] \"U\" \"V\" \"W\"\n",
            " $ : chr [1:4] \"j\" \"k\" \"l\" \"m\"\n",
            "\n",
            "dimnms> strd(provideDimnames(N, base= list(letters[-(1:9)], tail(LETTERS)))) # recycling\n",
            "List of 3\n",
            " $ : chr [1:2] \"j\" \"k\"\n",
            " $ : chr [1:3] \"U\" \"V\" \"W\"\n",
            " $ : chr [1:4] \"j\" \"k\" \"l\" \"m\"\n",
            "\n",
            "dimnms> strd(provideDimnames(A, base= list(c(\"AA\",\"BB\")))) # recycling on both levels\n",
            "List of 3\n",
            " $ : chr [1:2] \"A\" \"B\"\n",
            " $ : chr [1:3] \"AA\" \"BB\" \"AA1\"\n",
            " $ : chr [1:4] \"AA\" \"BB\" \"AA1\" \"BB1\"\n",
            "\n",
            "dimnms> ## set \"empty dimnames\":\n",
            "dimnms> provideDimnames(rbind(1, 2:3), base = list(\"\"), unique=FALSE)\n",
            "    \n",
            " 1 1\n",
            " 2 3\n"
          ],
          "name": "stdout"
        }
      ]
    },
    {
      "cell_type": "code",
      "metadata": {
        "colab": {
          "base_uri": "https://localhost:8080/",
          "height": 189
        },
        "id": "FDc3dnBnxYve",
        "outputId": "16420156-afe3-4baf-958a-6050761de157"
      },
      "source": [
        "info <- cbind(info, c('남','남','여','여'))\n",
        "info"
      ],
      "execution_count": null,
      "outputs": [
        {
          "output_type": "display_data",
          "data": {
            "text/plain": [
              "    키    몸무게   \n",
              "1번 177cm 68kg   남\n",
              "2번 156cm 57kg   남\n",
              "3번 160cm 48kg   여\n",
              "4번 175kg 60kg   여"
            ],
            "text/latex": "A matrix: 4 × 3 of type chr\n\\begin{tabular}{r|lll}\n  & 키 & 몸무게 & \\\\\n\\hline\n\t1번 & 177cm & 68kg & 남\\\\\n\t2번 & 156cm & 57kg & 남\\\\\n\t3번 & 160cm & 48kg & 여\\\\\n\t4번 & 175kg & 60kg & 여\\\\\n\\end{tabular}\n",
            "text/markdown": "\nA matrix: 4 × 3 of type chr\n\n| <!--/--> | 키 | 몸무게 | <!----> |\n|---|---|---|---|\n| 1번 | 177cm | 68kg | 남 |\n| 2번 | 156cm | 57kg | 남 |\n| 3번 | 160cm | 48kg | 여 |\n| 4번 | 175kg | 60kg | 여 |\n\n",
            "text/html": [
              "<table class=\"dataframe\">\n",
              "<caption>A matrix: 4 × 3 of type chr</caption>\n",
              "<thead>\n",
              "\t<tr><th></th><th scope=col>키</th><th scope=col>몸무게</th><th scope=col></th></tr>\n",
              "</thead>\n",
              "<tbody>\n",
              "\t<tr><th scope=row>1번</th><td>177cm</td><td>68kg</td><td>남</td></tr>\n",
              "\t<tr><th scope=row>2번</th><td>156cm</td><td>57kg</td><td>남</td></tr>\n",
              "\t<tr><th scope=row>3번</th><td>160cm</td><td>48kg</td><td>여</td></tr>\n",
              "\t<tr><th scope=row>4번</th><td>175kg</td><td>60kg</td><td>여</td></tr>\n",
              "</tbody>\n",
              "</table>\n"
            ]
          },
          "metadata": {
            "tags": []
          }
        }
      ]
    },
    {
      "cell_type": "code",
      "metadata": {
        "colab": {
          "base_uri": "https://localhost:8080/",
          "height": 250
        },
        "id": "9sifhUCixxHd",
        "outputId": "b6cfb10d-7842-4510-c284-b21a4a15b8a7"
      },
      "source": [
        "a1 <- c('180cm','70kg','남')\n",
        "a2 <- c('185cm','68kg','남')\n",
        "rbind(info, a1, a2)"
      ],
      "execution_count": null,
      "outputs": [
        {
          "output_type": "display_data",
          "data": {
            "text/plain": [
              "    키    몸무게   \n",
              "1번 177cm 68kg   남\n",
              "2번 156cm 57kg   남\n",
              "3번 160cm 48kg   여\n",
              "4번 175kg 60kg   여\n",
              "a1  180cm 70kg   남\n",
              "a2  185cm 68kg   남"
            ],
            "text/latex": "A matrix: 6 × 3 of type chr\n\\begin{tabular}{r|lll}\n  & 키 & 몸무게 & \\\\\n\\hline\n\t1번 & 177cm & 68kg & 남\\\\\n\t2번 & 156cm & 57kg & 남\\\\\n\t3번 & 160cm & 48kg & 여\\\\\n\t4번 & 175kg & 60kg & 여\\\\\n\ta1 & 180cm & 70kg & 남\\\\\n\ta2 & 185cm & 68kg & 남\\\\\n\\end{tabular}\n",
            "text/markdown": "\nA matrix: 6 × 3 of type chr\n\n| <!--/--> | 키 | 몸무게 | <!----> |\n|---|---|---|---|\n| 1번 | 177cm | 68kg | 남 |\n| 2번 | 156cm | 57kg | 남 |\n| 3번 | 160cm | 48kg | 여 |\n| 4번 | 175kg | 60kg | 여 |\n| a1 | 180cm | 70kg | 남 |\n| a2 | 185cm | 68kg | 남 |\n\n",
            "text/html": [
              "<table class=\"dataframe\">\n",
              "<caption>A matrix: 6 × 3 of type chr</caption>\n",
              "<thead>\n",
              "\t<tr><th></th><th scope=col>키</th><th scope=col>몸무게</th><th scope=col></th></tr>\n",
              "</thead>\n",
              "<tbody>\n",
              "\t<tr><th scope=row>1번</th><td>177cm</td><td>68kg</td><td>남</td></tr>\n",
              "\t<tr><th scope=row>2번</th><td>156cm</td><td>57kg</td><td>남</td></tr>\n",
              "\t<tr><th scope=row>3번</th><td>160cm</td><td>48kg</td><td>여</td></tr>\n",
              "\t<tr><th scope=row>4번</th><td>175kg</td><td>60kg</td><td>여</td></tr>\n",
              "\t<tr><th scope=row>a1</th><td>180cm</td><td>70kg</td><td>남</td></tr>\n",
              "\t<tr><th scope=row>a2</th><td>185cm</td><td>68kg</td><td>남</td></tr>\n",
              "</tbody>\n",
              "</table>\n"
            ]
          },
          "metadata": {
            "tags": []
          }
        }
      ]
    },
    {
      "cell_type": "code",
      "metadata": {
        "colab": {
          "base_uri": "https://localhost:8080/",
          "height": 189
        },
        "id": "eXwWVJR7yFda",
        "outputId": "41752d6b-2ddf-431b-b643-95dd43e21157"
      },
      "source": [
        "dimnames(info) <- list(c('1번','2번','3번','4번'), c('키','몸무게', '성별'))\n",
        "info"
      ],
      "execution_count": null,
      "outputs": [
        {
          "output_type": "display_data",
          "data": {
            "text/plain": [
              "    키    몸무게 성별\n",
              "1번 177cm 68kg   남  \n",
              "2번 156cm 57kg   남  \n",
              "3번 160cm 48kg   여  \n",
              "4번 175kg 60kg   여  "
            ],
            "text/latex": "A matrix: 4 × 3 of type chr\n\\begin{tabular}{r|lll}\n  & 키 & 몸무게 & 성별\\\\\n\\hline\n\t1번 & 177cm & 68kg & 남\\\\\n\t2번 & 156cm & 57kg & 남\\\\\n\t3번 & 160cm & 48kg & 여\\\\\n\t4번 & 175kg & 60kg & 여\\\\\n\\end{tabular}\n",
            "text/markdown": "\nA matrix: 4 × 3 of type chr\n\n| <!--/--> | 키 | 몸무게 | 성별 |\n|---|---|---|---|\n| 1번 | 177cm | 68kg | 남 |\n| 2번 | 156cm | 57kg | 남 |\n| 3번 | 160cm | 48kg | 여 |\n| 4번 | 175kg | 60kg | 여 |\n\n",
            "text/html": [
              "<table class=\"dataframe\">\n",
              "<caption>A matrix: 4 × 3 of type chr</caption>\n",
              "<thead>\n",
              "\t<tr><th></th><th scope=col>키</th><th scope=col>몸무게</th><th scope=col>성별</th></tr>\n",
              "</thead>\n",
              "<tbody>\n",
              "\t<tr><th scope=row>1번</th><td>177cm</td><td>68kg</td><td>남</td></tr>\n",
              "\t<tr><th scope=row>2번</th><td>156cm</td><td>57kg</td><td>남</td></tr>\n",
              "\t<tr><th scope=row>3번</th><td>160cm</td><td>48kg</td><td>여</td></tr>\n",
              "\t<tr><th scope=row>4번</th><td>175kg</td><td>60kg</td><td>여</td></tr>\n",
              "</tbody>\n",
              "</table>\n"
            ]
          },
          "metadata": {
            "tags": []
          }
        }
      ]
    },
    {
      "cell_type": "code",
      "metadata": {
        "colab": {
          "base_uri": "https://localhost:8080/",
          "height": 206
        },
        "id": "U9mFBujdzzGa",
        "outputId": "90a0dbeb-4330-483a-9260-d5f8ebbbe8ae"
      },
      "source": [
        "df <- data.frame(irum=c('조정순','한민애','고승민'), age=c(43,27,34))\n",
        "df"
      ],
      "execution_count": null,
      "outputs": [
        {
          "output_type": "display_data",
          "data": {
            "text/plain": [
              "  irum   age\n",
              "1 조정순 43 \n",
              "2 한민애 27 \n",
              "3 고승민 34 "
            ],
            "text/latex": "A data.frame: 3 × 2\n\\begin{tabular}{ll}\n irum & age\\\\\n <chr> & <dbl>\\\\\n\\hline\n\t 조정순 & 43\\\\\n\t 한민애 & 27\\\\\n\t 고승민 & 34\\\\\n\\end{tabular}\n",
            "text/markdown": "\nA data.frame: 3 × 2\n\n| irum &lt;chr&gt; | age &lt;dbl&gt; |\n|---|---|\n| 조정순 | 43 |\n| 한민애 | 27 |\n| 고승민 | 34 |\n\n",
            "text/html": [
              "<table class=\"dataframe\">\n",
              "<caption>A data.frame: 3 × 2</caption>\n",
              "<thead>\n",
              "\t<tr><th scope=col>irum</th><th scope=col>age</th></tr>\n",
              "\t<tr><th scope=col>&lt;chr&gt;</th><th scope=col>&lt;dbl&gt;</th></tr>\n",
              "</thead>\n",
              "<tbody>\n",
              "\t<tr><td>조정순</td><td>43</td></tr>\n",
              "\t<tr><td>한민애</td><td>27</td></tr>\n",
              "\t<tr><td>고승민</td><td>34</td></tr>\n",
              "</tbody>\n",
              "</table>\n"
            ]
          },
          "metadata": {
            "tags": []
          }
        }
      ]
    },
    {
      "cell_type": "code",
      "metadata": {
        "colab": {
          "base_uri": "https://localhost:8080/",
          "height": 206
        },
        "id": "FlcZI2vN0Vpm",
        "outputId": "474fc434-3476-47cf-cfdd-79ca3b6340a8"
      },
      "source": [
        "irum <- c('조정순','한민애','고승민')\n",
        "age <- c(43,27,34)\n",
        "df2 <- data.frame(이름=irum,나이=age)\n",
        "df2"
      ],
      "execution_count": null,
      "outputs": [
        {
          "output_type": "display_data",
          "data": {
            "text/plain": [
              "  이름   나이\n",
              "1 조정순 43  \n",
              "2 한민애 27  \n",
              "3 고승민 34  "
            ],
            "text/latex": "A data.frame: 3 × 2\n\\begin{tabular}{ll}\n 이름 & 나이\\\\\n <chr> & <dbl>\\\\\n\\hline\n\t 조정순 & 43\\\\\n\t 한민애 & 27\\\\\n\t 고승민 & 34\\\\\n\\end{tabular}\n",
            "text/markdown": "\nA data.frame: 3 × 2\n\n| 이름 &lt;chr&gt; | 나이 &lt;dbl&gt; |\n|---|---|\n| 조정순 | 43 |\n| 한민애 | 27 |\n| 고승민 | 34 |\n\n",
            "text/html": [
              "<table class=\"dataframe\">\n",
              "<caption>A data.frame: 3 × 2</caption>\n",
              "<thead>\n",
              "\t<tr><th scope=col>이름</th><th scope=col>나이</th></tr>\n",
              "\t<tr><th scope=col>&lt;chr&gt;</th><th scope=col>&lt;dbl&gt;</th></tr>\n",
              "</thead>\n",
              "<tbody>\n",
              "\t<tr><td>조정순</td><td>43</td></tr>\n",
              "\t<tr><td>한민애</td><td>27</td></tr>\n",
              "\t<tr><td>고승민</td><td>34</td></tr>\n",
              "</tbody>\n",
              "</table>\n"
            ]
          },
          "metadata": {
            "tags": []
          }
        }
      ]
    },
    {
      "cell_type": "code",
      "metadata": {
        "colab": {
          "base_uri": "https://localhost:8080/",
          "height": 34
        },
        "id": "_dUN91Bp1BTq",
        "outputId": "4737fb77-b000-48f2-cda3-aded28ebb8a8"
      },
      "source": [
        "df2$이름"
      ],
      "execution_count": null,
      "outputs": [
        {
          "output_type": "display_data",
          "data": {
            "text/plain": [
              "[1] \"조정순\" \"한민애\" \"고승민\""
            ],
            "text/latex": "\\begin{enumerate*}\n\\item '조정순'\n\\item '한민애'\n\\item '고승민'\n\\end{enumerate*}\n",
            "text/markdown": "1. '조정순'\n2. '한민애'\n3. '고승민'\n\n\n",
            "text/html": [
              "<style>\n",
              ".list-inline {list-style: none; margin:0; padding: 0}\n",
              ".list-inline>li {display: inline-block}\n",
              ".list-inline>li:not(:last-child)::after {content: \"\\00b7\"; padding: 0 .5ex}\n",
              "</style>\n",
              "<ol class=list-inline><li>'조정순'</li><li>'한민애'</li><li>'고승민'</li></ol>\n"
            ]
          },
          "metadata": {
            "tags": []
          }
        }
      ]
    },
    {
      "cell_type": "code",
      "metadata": {
        "colab": {
          "base_uri": "https://localhost:8080/",
          "height": 34
        },
        "id": "T_zbWD7U1FYN",
        "outputId": "db1508a5-4dbb-4cab-9443-8f373ea85ae5"
      },
      "source": [
        "df2$나이 + 1"
      ],
      "execution_count": null,
      "outputs": [
        {
          "output_type": "display_data",
          "data": {
            "text/plain": [
              "[1] 44 28 35"
            ],
            "text/latex": "\\begin{enumerate*}\n\\item 44\n\\item 28\n\\item 35\n\\end{enumerate*}\n",
            "text/markdown": "1. 44\n2. 28\n3. 35\n\n\n",
            "text/html": [
              "<style>\n",
              ".list-inline {list-style: none; margin:0; padding: 0}\n",
              ".list-inline>li {display: inline-block}\n",
              ".list-inline>li:not(:last-child)::after {content: \"\\00b7\"; padding: 0 .5ex}\n",
              "</style>\n",
              "<ol class=list-inline><li>44</li><li>28</li><li>35</li></ol>\n"
            ]
          },
          "metadata": {
            "tags": []
          }
        }
      ]
    },
    {
      "cell_type": "code",
      "metadata": {
        "colab": {
          "base_uri": "https://localhost:8080/",
          "height": 206
        },
        "id": "kH0zx-Zc1P2E",
        "outputId": "a4b36388-0b20-4816-f8fb-41e7cd56bb06"
      },
      "source": [
        "carinfo <- matrix(c('11km','13km','10km','h사','p사','r사'), ncol=2)\n",
        "dfr <- as.data.frame(carinfo)\n",
        "dfr"
      ],
      "execution_count": null,
      "outputs": [
        {
          "output_type": "display_data",
          "data": {
            "text/plain": [
              "  V1   V2 \n",
              "1 11km h사\n",
              "2 13km p사\n",
              "3 10km r사"
            ],
            "text/latex": "A data.frame: 3 × 2\n\\begin{tabular}{ll}\n V1 & V2\\\\\n <chr> & <chr>\\\\\n\\hline\n\t 11km & h사\\\\\n\t 13km & p사\\\\\n\t 10km & r사\\\\\n\\end{tabular}\n",
            "text/markdown": "\nA data.frame: 3 × 2\n\n| V1 &lt;chr&gt; | V2 &lt;chr&gt; |\n|---|---|\n| 11km | h사 |\n| 13km | p사 |\n| 10km | r사 |\n\n",
            "text/html": [
              "<table class=\"dataframe\">\n",
              "<caption>A data.frame: 3 × 2</caption>\n",
              "<thead>\n",
              "\t<tr><th scope=col>V1</th><th scope=col>V2</th></tr>\n",
              "\t<tr><th scope=col>&lt;chr&gt;</th><th scope=col>&lt;chr&gt;</th></tr>\n",
              "</thead>\n",
              "<tbody>\n",
              "\t<tr><td>11km</td><td>h사</td></tr>\n",
              "\t<tr><td>13km</td><td>p사</td></tr>\n",
              "\t<tr><td>10km</td><td>r사</td></tr>\n",
              "</tbody>\n",
              "</table>\n"
            ]
          },
          "metadata": {
            "tags": []
          }
        }
      ]
    },
    {
      "cell_type": "code",
      "metadata": {
        "colab": {
          "base_uri": "https://localhost:8080/",
          "height": 206
        },
        "id": "PM1NOOvf14E7",
        "outputId": "455f4755-8e34-472c-a287-775c6234ee8d"
      },
      "source": [
        "names(dfr) <- c('연비','제조사')\n",
        "dfr"
      ],
      "execution_count": null,
      "outputs": [
        {
          "output_type": "display_data",
          "data": {
            "text/plain": [
              "  연비 제조사\n",
              "1 11km h사   \n",
              "2 13km p사   \n",
              "3 10km r사   "
            ],
            "text/latex": "A data.frame: 3 × 2\n\\begin{tabular}{ll}\n 연비 & 제조사\\\\\n <chr> & <chr>\\\\\n\\hline\n\t 11km & h사\\\\\n\t 13km & p사\\\\\n\t 10km & r사\\\\\n\\end{tabular}\n",
            "text/markdown": "\nA data.frame: 3 × 2\n\n| 연비 &lt;chr&gt; | 제조사 &lt;chr&gt; |\n|---|---|\n| 11km | h사 |\n| 13km | p사 |\n| 10km | r사 |\n\n",
            "text/html": [
              "<table class=\"dataframe\">\n",
              "<caption>A data.frame: 3 × 2</caption>\n",
              "<thead>\n",
              "\t<tr><th scope=col>연비</th><th scope=col>제조사</th></tr>\n",
              "\t<tr><th scope=col>&lt;chr&gt;</th><th scope=col>&lt;chr&gt;</th></tr>\n",
              "</thead>\n",
              "<tbody>\n",
              "\t<tr><td>11km</td><td>h사</td></tr>\n",
              "\t<tr><td>13km</td><td>p사</td></tr>\n",
              "\t<tr><td>10km</td><td>r사</td></tr>\n",
              "</tbody>\n",
              "</table>\n"
            ]
          },
          "metadata": {
            "tags": []
          }
        }
      ]
    },
    {
      "cell_type": "code",
      "metadata": {
        "colab": {
          "base_uri": "https://localhost:8080/",
          "height": 34
        },
        "id": "Vjd0WFUMeG14",
        "outputId": "7e618701-9030-4a08-cde2-8d0cb02365bc"
      },
      "source": [
        "getwd()"
      ],
      "execution_count": null,
      "outputs": [
        {
          "output_type": "display_data",
          "data": {
            "text/plain": [
              "[1] \"/content\""
            ],
            "text/latex": "'/content'",
            "text/markdown": "'/content'",
            "text/html": [
              "'/content'"
            ]
          },
          "metadata": {
            "tags": []
          }
        }
      ]
    },
    {
      "cell_type": "code",
      "metadata": {
        "colab": {
          "base_uri": "https://localhost:8080/",
          "height": 250
        },
        "id": "78PGmkOP3NkR",
        "outputId": "39a87610-812e-4162-d917-0bb0a49cc2bc"
      },
      "source": [
        "pinfo <- read.table(\"/content/personal.txt\", header=TRUE, fileEncoding = \"EUC-KR\")  # 한글로 된 내용이 있는 경우\n",
        "pinfo"
      ],
      "execution_count": null,
      "outputs": [
        {
          "output_type": "display_data",
          "data": {
            "text/plain": [
              "  이름   거주지역 나이 성별\n",
              "1 홍민수 인천     25   남  \n",
              "2 조정란 경기     33   여  \n",
              "3 국정수 서울     43   남  \n",
              "4 라윤정 서울     35   여  \n",
              "5 한주연 인천     37   남  "
            ],
            "text/latex": "A data.frame: 5 × 4\n\\begin{tabular}{llll}\n 이름 & 거주지역 & 나이 & 성별\\\\\n <chr> & <chr> & <int> & <chr>\\\\\n\\hline\n\t 홍민수 & 인천 & 25 & 남\\\\\n\t 조정란 & 경기 & 33 & 여\\\\\n\t 국정수 & 서울 & 43 & 남\\\\\n\t 라윤정 & 서울 & 35 & 여\\\\\n\t 한주연 & 인천 & 37 & 남\\\\\n\\end{tabular}\n",
            "text/markdown": "\nA data.frame: 5 × 4\n\n| 이름 &lt;chr&gt; | 거주지역 &lt;chr&gt; | 나이 &lt;int&gt; | 성별 &lt;chr&gt; |\n|---|---|---|---|\n| 홍민수 | 인천 | 25 | 남 |\n| 조정란 | 경기 | 33 | 여 |\n| 국정수 | 서울 | 43 | 남 |\n| 라윤정 | 서울 | 35 | 여 |\n| 한주연 | 인천 | 37 | 남 |\n\n",
            "text/html": [
              "<table class=\"dataframe\">\n",
              "<caption>A data.frame: 5 × 4</caption>\n",
              "<thead>\n",
              "\t<tr><th scope=col>이름</th><th scope=col>거주지역</th><th scope=col>나이</th><th scope=col>성별</th></tr>\n",
              "\t<tr><th scope=col>&lt;chr&gt;</th><th scope=col>&lt;chr&gt;</th><th scope=col>&lt;int&gt;</th><th scope=col>&lt;chr&gt;</th></tr>\n",
              "</thead>\n",
              "<tbody>\n",
              "\t<tr><td>홍민수</td><td>인천</td><td>25</td><td>남</td></tr>\n",
              "\t<tr><td>조정란</td><td>경기</td><td>33</td><td>여</td></tr>\n",
              "\t<tr><td>국정수</td><td>서울</td><td>43</td><td>남</td></tr>\n",
              "\t<tr><td>라윤정</td><td>서울</td><td>35</td><td>여</td></tr>\n",
              "\t<tr><td>한주연</td><td>인천</td><td>37</td><td>남</td></tr>\n",
              "</tbody>\n",
              "</table>\n"
            ]
          },
          "metadata": {
            "tags": []
          }
        }
      ]
    },
    {
      "cell_type": "code",
      "metadata": {
        "colab": {
          "base_uri": "https://localhost:8080/",
          "height": 250
        },
        "id": "p5bVOsLnfnYo",
        "outputId": "0424bc6d-96a5-4833-f2db-c1ddc83e4fd8"
      },
      "source": [
        "system('gdown --id 1kVXF9gVuJ2EmT6XTAyYr5z50y4wDwQOF')\n",
        "pinfo <- read.table(\"personal.txt\", header=TRUE, fileEncoding = \"EUC-KR\")\n",
        "pinfo"
      ],
      "execution_count": null,
      "outputs": [
        {
          "output_type": "display_data",
          "data": {
            "text/plain": [
              "  이름   거주지역 나이 성별\n",
              "1 홍민수 인천     25   남  \n",
              "2 조정란 경기     33   여  \n",
              "3 국정수 서울     43   남  \n",
              "4 라윤정 서울     35   여  \n",
              "5 한주연 인천     37   남  "
            ],
            "text/latex": "A data.frame: 5 × 4\n\\begin{tabular}{llll}\n 이름 & 거주지역 & 나이 & 성별\\\\\n <chr> & <chr> & <int> & <chr>\\\\\n\\hline\n\t 홍민수 & 인천 & 25 & 남\\\\\n\t 조정란 & 경기 & 33 & 여\\\\\n\t 국정수 & 서울 & 43 & 남\\\\\n\t 라윤정 & 서울 & 35 & 여\\\\\n\t 한주연 & 인천 & 37 & 남\\\\\n\\end{tabular}\n",
            "text/markdown": "\nA data.frame: 5 × 4\n\n| 이름 &lt;chr&gt; | 거주지역 &lt;chr&gt; | 나이 &lt;int&gt; | 성별 &lt;chr&gt; |\n|---|---|---|---|\n| 홍민수 | 인천 | 25 | 남 |\n| 조정란 | 경기 | 33 | 여 |\n| 국정수 | 서울 | 43 | 남 |\n| 라윤정 | 서울 | 35 | 여 |\n| 한주연 | 인천 | 37 | 남 |\n\n",
            "text/html": [
              "<table class=\"dataframe\">\n",
              "<caption>A data.frame: 5 × 4</caption>\n",
              "<thead>\n",
              "\t<tr><th scope=col>이름</th><th scope=col>거주지역</th><th scope=col>나이</th><th scope=col>성별</th></tr>\n",
              "\t<tr><th scope=col>&lt;chr&gt;</th><th scope=col>&lt;chr&gt;</th><th scope=col>&lt;int&gt;</th><th scope=col>&lt;chr&gt;</th></tr>\n",
              "</thead>\n",
              "<tbody>\n",
              "\t<tr><td>홍민수</td><td>인천</td><td>25</td><td>남</td></tr>\n",
              "\t<tr><td>조정란</td><td>경기</td><td>33</td><td>여</td></tr>\n",
              "\t<tr><td>국정수</td><td>서울</td><td>43</td><td>남</td></tr>\n",
              "\t<tr><td>라윤정</td><td>서울</td><td>35</td><td>여</td></tr>\n",
              "\t<tr><td>한주연</td><td>인천</td><td>37</td><td>남</td></tr>\n",
              "</tbody>\n",
              "</table>\n"
            ]
          },
          "metadata": {
            "tags": []
          }
        }
      ]
    },
    {
      "cell_type": "code",
      "metadata": {
        "colab": {
          "base_uri": "https://localhost:8080/",
          "height": 282
        },
        "id": "tsAUnD13eiZ9",
        "outputId": "1f835abc-dd3a-4f86-9189-488d70e56d49"
      },
      "source": [
        "system('gdown --id 1hq0Pxy5JtbVCgn6wsY0Z4uVSuPA329EL')\n",
        "pjobinfo <- read.table(\"pjob.txt\", header=TRUE, fileEncoding = \"EUC-KR\")\n",
        "pjobinfo"
      ],
      "execution_count": null,
      "outputs": [
        {
          "output_type": "display_data",
          "data": {
            "text/plain": [
              "  이름   직업    \n",
              "1 홍민수 학생    \n",
              "2 조정란 공무원  \n",
              "3 박장곤 회사원  \n",
              "4 한지수 자영업  \n",
              "5 한주연 프리랜서\n",
              "6 주민정 학생    "
            ],
            "text/latex": "A data.frame: 6 × 2\n\\begin{tabular}{ll}\n 이름 & 직업\\\\\n <chr> & <chr>\\\\\n\\hline\n\t 홍민수 & 학생    \\\\\n\t 조정란 & 공무원  \\\\\n\t 박장곤 & 회사원  \\\\\n\t 한지수 & 자영업  \\\\\n\t 한주연 & 프리랜서\\\\\n\t 주민정 & 학생    \\\\\n\\end{tabular}\n",
            "text/markdown": "\nA data.frame: 6 × 2\n\n| 이름 &lt;chr&gt; | 직업 &lt;chr&gt; |\n|---|---|\n| 홍민수 | 학생     |\n| 조정란 | 공무원   |\n| 박장곤 | 회사원   |\n| 한지수 | 자영업   |\n| 한주연 | 프리랜서 |\n| 주민정 | 학생     |\n\n",
            "text/html": [
              "<table class=\"dataframe\">\n",
              "<caption>A data.frame: 6 × 2</caption>\n",
              "<thead>\n",
              "\t<tr><th scope=col>이름</th><th scope=col>직업</th></tr>\n",
              "\t<tr><th scope=col>&lt;chr&gt;</th><th scope=col>&lt;chr&gt;</th></tr>\n",
              "</thead>\n",
              "<tbody>\n",
              "\t<tr><td>홍민수</td><td>학생    </td></tr>\n",
              "\t<tr><td>조정란</td><td>공무원  </td></tr>\n",
              "\t<tr><td>박장곤</td><td>회사원  </td></tr>\n",
              "\t<tr><td>한지수</td><td>자영업  </td></tr>\n",
              "\t<tr><td>한주연</td><td>프리랜서</td></tr>\n",
              "\t<tr><td>주민정</td><td>학생    </td></tr>\n",
              "</tbody>\n",
              "</table>\n"
            ]
          },
          "metadata": {
            "tags": []
          }
        }
      ]
    },
    {
      "cell_type": "code",
      "metadata": {
        "colab": {
          "base_uri": "https://localhost:8080/",
          "height": 250
        },
        "id": "VWmg4NMug8Bb",
        "outputId": "8b0b1187-7a3f-4763-b69d-f35c2c4f37b4"
      },
      "source": [
        "lifeinfo <- data.frame(취미 = c('목공예','패러글라이딩','등산','꽃꽃이','독서'), 관심사 = c('취업','아파트분양','주택대출','이직','교통인프라'))\n",
        "lifeinfo"
      ],
      "execution_count": null,
      "outputs": [
        {
          "output_type": "display_data",
          "data": {
            "text/plain": [
              "  취미         관심사    \n",
              "1 목공예       취업      \n",
              "2 패러글라이딩 아파트분양\n",
              "3 등산         주택대출  \n",
              "4 꽃꽃이       이직      \n",
              "5 독서         교통인프라"
            ],
            "text/latex": "A data.frame: 5 × 2\n\\begin{tabular}{ll}\n 취미 & 관심사\\\\\n <chr> & <chr>\\\\\n\\hline\n\t 목공예       & 취업      \\\\\n\t 패러글라이딩 & 아파트분양\\\\\n\t 등산         & 주택대출  \\\\\n\t 꽃꽃이       & 이직      \\\\\n\t 독서         & 교통인프라\\\\\n\\end{tabular}\n",
            "text/markdown": "\nA data.frame: 5 × 2\n\n| 취미 &lt;chr&gt; | 관심사 &lt;chr&gt; |\n|---|---|\n| 목공예       | 취업       |\n| 패러글라이딩 | 아파트분양 |\n| 등산         | 주택대출   |\n| 꽃꽃이       | 이직       |\n| 독서         | 교통인프라 |\n\n",
            "text/html": [
              "<table class=\"dataframe\">\n",
              "<caption>A data.frame: 5 × 2</caption>\n",
              "<thead>\n",
              "\t<tr><th scope=col>취미</th><th scope=col>관심사</th></tr>\n",
              "\t<tr><th scope=col>&lt;chr&gt;</th><th scope=col>&lt;chr&gt;</th></tr>\n",
              "</thead>\n",
              "<tbody>\n",
              "\t<tr><td>목공예      </td><td>취업      </td></tr>\n",
              "\t<tr><td>패러글라이딩</td><td>아파트분양</td></tr>\n",
              "\t<tr><td>등산        </td><td>주택대출  </td></tr>\n",
              "\t<tr><td>꽃꽃이      </td><td>이직      </td></tr>\n",
              "\t<tr><td>독서        </td><td>교통인프라</td></tr>\n",
              "</tbody>\n",
              "</table>\n"
            ]
          },
          "metadata": {
            "tags": []
          }
        }
      ]
    },
    {
      "cell_type": "code",
      "metadata": {
        "colab": {
          "base_uri": "https://localhost:8080/",
          "height": 250
        },
        "id": "lhlPw0JJhRXB",
        "outputId": "e24e120a-4303-424c-e5e2-ecd21ecc65a4"
      },
      "source": [
        "myinfo <- cbind(pinfo, lifeinfo)\n",
        "myinfo"
      ],
      "execution_count": null,
      "outputs": [
        {
          "output_type": "display_data",
          "data": {
            "text/plain": [
              "  이름   거주지역 나이 성별 취미         관심사    \n",
              "1 홍민수 인천     25   남   목공예       취업      \n",
              "2 조정란 경기     33   여   패러글라이딩 아파트분양\n",
              "3 국정수 서울     43   남   등산         주택대출  \n",
              "4 라윤정 서울     35   여   꽃꽃이       이직      \n",
              "5 한주연 인천     37   남   독서         교통인프라"
            ],
            "text/latex": "A data.frame: 5 × 6\n\\begin{tabular}{llllll}\n 이름 & 거주지역 & 나이 & 성별 & 취미 & 관심사\\\\\n <chr> & <chr> & <int> & <chr> & <chr> & <chr>\\\\\n\\hline\n\t 홍민수 & 인천 & 25 & 남 & 목공예       & 취업      \\\\\n\t 조정란 & 경기 & 33 & 여 & 패러글라이딩 & 아파트분양\\\\\n\t 국정수 & 서울 & 43 & 남 & 등산         & 주택대출  \\\\\n\t 라윤정 & 서울 & 35 & 여 & 꽃꽃이       & 이직      \\\\\n\t 한주연 & 인천 & 37 & 남 & 독서         & 교통인프라\\\\\n\\end{tabular}\n",
            "text/markdown": "\nA data.frame: 5 × 6\n\n| 이름 &lt;chr&gt; | 거주지역 &lt;chr&gt; | 나이 &lt;int&gt; | 성별 &lt;chr&gt; | 취미 &lt;chr&gt; | 관심사 &lt;chr&gt; |\n|---|---|---|---|---|---|\n| 홍민수 | 인천 | 25 | 남 | 목공예       | 취업       |\n| 조정란 | 경기 | 33 | 여 | 패러글라이딩 | 아파트분양 |\n| 국정수 | 서울 | 43 | 남 | 등산         | 주택대출   |\n| 라윤정 | 서울 | 35 | 여 | 꽃꽃이       | 이직       |\n| 한주연 | 인천 | 37 | 남 | 독서         | 교통인프라 |\n\n",
            "text/html": [
              "<table class=\"dataframe\">\n",
              "<caption>A data.frame: 5 × 6</caption>\n",
              "<thead>\n",
              "\t<tr><th scope=col>이름</th><th scope=col>거주지역</th><th scope=col>나이</th><th scope=col>성별</th><th scope=col>취미</th><th scope=col>관심사</th></tr>\n",
              "\t<tr><th scope=col>&lt;chr&gt;</th><th scope=col>&lt;chr&gt;</th><th scope=col>&lt;int&gt;</th><th scope=col>&lt;chr&gt;</th><th scope=col>&lt;chr&gt;</th><th scope=col>&lt;chr&gt;</th></tr>\n",
              "</thead>\n",
              "<tbody>\n",
              "\t<tr><td>홍민수</td><td>인천</td><td>25</td><td>남</td><td>목공예      </td><td>취업      </td></tr>\n",
              "\t<tr><td>조정란</td><td>경기</td><td>33</td><td>여</td><td>패러글라이딩</td><td>아파트분양</td></tr>\n",
              "\t<tr><td>국정수</td><td>서울</td><td>43</td><td>남</td><td>등산        </td><td>주택대출  </td></tr>\n",
              "\t<tr><td>라윤정</td><td>서울</td><td>35</td><td>여</td><td>꽃꽃이      </td><td>이직      </td></tr>\n",
              "\t<tr><td>한주연</td><td>인천</td><td>37</td><td>남</td><td>독서        </td><td>교통인프라</td></tr>\n",
              "</tbody>\n",
              "</table>\n"
            ]
          },
          "metadata": {
            "tags": []
          }
        }
      ]
    },
    {
      "cell_type": "code",
      "metadata": {
        "colab": {
          "base_uri": "https://localhost:8080/",
          "height": 158
        },
        "id": "M1X4WnaShZnV",
        "outputId": "c1d46742-b632-4862-f673-5806b6bde403"
      },
      "source": [
        "otherinfo <- data.frame(이름 = c('황성주','윤준영'), 거주지역 = c('강원','충북'), 나이 = c(42, 45), 성별 = c('여','여'))\n",
        "otherinfo"
      ],
      "execution_count": null,
      "outputs": [
        {
          "output_type": "display_data",
          "data": {
            "text/plain": [
              "  이름   거주지역 나이 성별\n",
              "1 황성주 강원     42   여  \n",
              "2 윤준영 충북     45   여  "
            ],
            "text/latex": "A data.frame: 2 × 4\n\\begin{tabular}{llll}\n 이름 & 거주지역 & 나이 & 성별\\\\\n <chr> & <chr> & <dbl> & <chr>\\\\\n\\hline\n\t 황성주 & 강원 & 42 & 여\\\\\n\t 윤준영 & 충북 & 45 & 여\\\\\n\\end{tabular}\n",
            "text/markdown": "\nA data.frame: 2 × 4\n\n| 이름 &lt;chr&gt; | 거주지역 &lt;chr&gt; | 나이 &lt;dbl&gt; | 성별 &lt;chr&gt; |\n|---|---|---|---|\n| 황성주 | 강원 | 42 | 여 |\n| 윤준영 | 충북 | 45 | 여 |\n\n",
            "text/html": [
              "<table class=\"dataframe\">\n",
              "<caption>A data.frame: 2 × 4</caption>\n",
              "<thead>\n",
              "\t<tr><th scope=col>이름</th><th scope=col>거주지역</th><th scope=col>나이</th><th scope=col>성별</th></tr>\n",
              "\t<tr><th scope=col>&lt;chr&gt;</th><th scope=col>&lt;chr&gt;</th><th scope=col>&lt;dbl&gt;</th><th scope=col>&lt;chr&gt;</th></tr>\n",
              "</thead>\n",
              "<tbody>\n",
              "\t<tr><td>황성주</td><td>강원</td><td>42</td><td>여</td></tr>\n",
              "\t<tr><td>윤준영</td><td>충북</td><td>45</td><td>여</td></tr>\n",
              "</tbody>\n",
              "</table>\n"
            ]
          },
          "metadata": {
            "tags": []
          }
        }
      ]
    },
    {
      "cell_type": "code",
      "metadata": {
        "colab": {
          "base_uri": "https://localhost:8080/",
          "height": 312
        },
        "id": "A20tPHLZhwX1",
        "outputId": "cd1d6b90-797b-4f95-df7d-d9086c89a003"
      },
      "source": [
        "totinfo <- rbind(pinfo, otherinfo)\n",
        "totinfo"
      ],
      "execution_count": null,
      "outputs": [
        {
          "output_type": "display_data",
          "data": {
            "text/plain": [
              "  이름   거주지역 나이 성별\n",
              "1 홍민수 인천     25   남  \n",
              "2 조정란 경기     33   여  \n",
              "3 국정수 서울     43   남  \n",
              "4 라윤정 서울     35   여  \n",
              "5 한주연 인천     37   남  \n",
              "6 황성주 강원     42   여  \n",
              "7 윤준영 충북     45   여  "
            ],
            "text/latex": "A data.frame: 7 × 4\n\\begin{tabular}{llll}\n 이름 & 거주지역 & 나이 & 성별\\\\\n <chr> & <chr> & <dbl> & <chr>\\\\\n\\hline\n\t 홍민수 & 인천 & 25 & 남\\\\\n\t 조정란 & 경기 & 33 & 여\\\\\n\t 국정수 & 서울 & 43 & 남\\\\\n\t 라윤정 & 서울 & 35 & 여\\\\\n\t 한주연 & 인천 & 37 & 남\\\\\n\t 황성주 & 강원 & 42 & 여\\\\\n\t 윤준영 & 충북 & 45 & 여\\\\\n\\end{tabular}\n",
            "text/markdown": "\nA data.frame: 7 × 4\n\n| 이름 &lt;chr&gt; | 거주지역 &lt;chr&gt; | 나이 &lt;dbl&gt; | 성별 &lt;chr&gt; |\n|---|---|---|---|\n| 홍민수 | 인천 | 25 | 남 |\n| 조정란 | 경기 | 33 | 여 |\n| 국정수 | 서울 | 43 | 남 |\n| 라윤정 | 서울 | 35 | 여 |\n| 한주연 | 인천 | 37 | 남 |\n| 황성주 | 강원 | 42 | 여 |\n| 윤준영 | 충북 | 45 | 여 |\n\n",
            "text/html": [
              "<table class=\"dataframe\">\n",
              "<caption>A data.frame: 7 × 4</caption>\n",
              "<thead>\n",
              "\t<tr><th scope=col>이름</th><th scope=col>거주지역</th><th scope=col>나이</th><th scope=col>성별</th></tr>\n",
              "\t<tr><th scope=col>&lt;chr&gt;</th><th scope=col>&lt;chr&gt;</th><th scope=col>&lt;dbl&gt;</th><th scope=col>&lt;chr&gt;</th></tr>\n",
              "</thead>\n",
              "<tbody>\n",
              "\t<tr><td>홍민수</td><td>인천</td><td>25</td><td>남</td></tr>\n",
              "\t<tr><td>조정란</td><td>경기</td><td>33</td><td>여</td></tr>\n",
              "\t<tr><td>국정수</td><td>서울</td><td>43</td><td>남</td></tr>\n",
              "\t<tr><td>라윤정</td><td>서울</td><td>35</td><td>여</td></tr>\n",
              "\t<tr><td>한주연</td><td>인천</td><td>37</td><td>남</td></tr>\n",
              "\t<tr><td>황성주</td><td>강원</td><td>42</td><td>여</td></tr>\n",
              "\t<tr><td>윤준영</td><td>충북</td><td>45</td><td>여</td></tr>\n",
              "</tbody>\n",
              "</table>\n"
            ]
          },
          "metadata": {
            "tags": []
          }
        }
      ]
    },
    {
      "cell_type": "code",
      "metadata": {
        "colab": {
          "base_uri": "https://localhost:8080/",
          "height": 189
        },
        "id": "3tCJgS2SiDyY",
        "outputId": "e986cbf2-6a0d-4d21-aad7-12ca3bffeab5"
      },
      "source": [
        "merge(pinfo, pjobinfo)"
      ],
      "execution_count": null,
      "outputs": [
        {
          "output_type": "display_data",
          "data": {
            "text/plain": [
              "  이름   거주지역 나이 성별 직업    \n",
              "1 조정란 경기     33   여   공무원  \n",
              "2 한주연 인천     37   남   프리랜서\n",
              "3 홍민수 인천     25   남   학생    "
            ],
            "text/latex": "A data.frame: 3 × 5\n\\begin{tabular}{lllll}\n 이름 & 거주지역 & 나이 & 성별 & 직업\\\\\n <chr> & <chr> & <int> & <chr> & <chr>\\\\\n\\hline\n\t 조정란 & 경기 & 33 & 여 & 공무원  \\\\\n\t 한주연 & 인천 & 37 & 남 & 프리랜서\\\\\n\t 홍민수 & 인천 & 25 & 남 & 학생    \\\\\n\\end{tabular}\n",
            "text/markdown": "\nA data.frame: 3 × 5\n\n| 이름 &lt;chr&gt; | 거주지역 &lt;chr&gt; | 나이 &lt;int&gt; | 성별 &lt;chr&gt; | 직업 &lt;chr&gt; |\n|---|---|---|---|---|\n| 조정란 | 경기 | 33 | 여 | 공무원   |\n| 한주연 | 인천 | 37 | 남 | 프리랜서 |\n| 홍민수 | 인천 | 25 | 남 | 학생     |\n\n",
            "text/html": [
              "<table class=\"dataframe\">\n",
              "<caption>A data.frame: 3 × 5</caption>\n",
              "<thead>\n",
              "\t<tr><th scope=col>이름</th><th scope=col>거주지역</th><th scope=col>나이</th><th scope=col>성별</th><th scope=col>직업</th></tr>\n",
              "\t<tr><th scope=col>&lt;chr&gt;</th><th scope=col>&lt;chr&gt;</th><th scope=col>&lt;int&gt;</th><th scope=col>&lt;chr&gt;</th><th scope=col>&lt;chr&gt;</th></tr>\n",
              "</thead>\n",
              "<tbody>\n",
              "\t<tr><td>조정란</td><td>경기</td><td>33</td><td>여</td><td>공무원  </td></tr>\n",
              "\t<tr><td>한주연</td><td>인천</td><td>37</td><td>남</td><td>프리랜서</td></tr>\n",
              "\t<tr><td>홍민수</td><td>인천</td><td>25</td><td>남</td><td>학생    </td></tr>\n",
              "</tbody>\n",
              "</table>\n"
            ]
          },
          "metadata": {
            "tags": []
          }
        }
      ]
    },
    {
      "cell_type": "code",
      "metadata": {
        "colab": {
          "base_uri": "https://localhost:8080/",
          "height": 343
        },
        "id": "NVY5LyK-icjQ",
        "outputId": "ce9e1991-735c-4eaf-efca-7f6ea13d2be5"
      },
      "source": [
        "merge(pinfo, pjobinfo, all=TRUE)"
      ],
      "execution_count": null,
      "outputs": [
        {
          "output_type": "display_data",
          "data": {
            "text/plain": [
              "  이름   거주지역 나이 성별 직업    \n",
              "1 국정수 서울     43   남   NA      \n",
              "2 라윤정 서울     35   여   NA      \n",
              "3 박장곤 NA       NA   NA   회사원  \n",
              "4 조정란 경기     33   여   공무원  \n",
              "5 주민정 NA       NA   NA   학생    \n",
              "6 한주연 인천     37   남   프리랜서\n",
              "7 한지수 NA       NA   NA   자영업  \n",
              "8 홍민수 인천     25   남   학생    "
            ],
            "text/latex": "A data.frame: 8 × 5\n\\begin{tabular}{lllll}\n 이름 & 거주지역 & 나이 & 성별 & 직업\\\\\n <chr> & <chr> & <int> & <chr> & <chr>\\\\\n\\hline\n\t 국정수 & 서울 & 43 & 남 & NA      \\\\\n\t 라윤정 & 서울 & 35 & 여 & NA      \\\\\n\t 박장곤 & NA   & NA & NA & 회사원  \\\\\n\t 조정란 & 경기 & 33 & 여 & 공무원  \\\\\n\t 주민정 & NA   & NA & NA & 학생    \\\\\n\t 한주연 & 인천 & 37 & 남 & 프리랜서\\\\\n\t 한지수 & NA   & NA & NA & 자영업  \\\\\n\t 홍민수 & 인천 & 25 & 남 & 학생    \\\\\n\\end{tabular}\n",
            "text/markdown": "\nA data.frame: 8 × 5\n\n| 이름 &lt;chr&gt; | 거주지역 &lt;chr&gt; | 나이 &lt;int&gt; | 성별 &lt;chr&gt; | 직업 &lt;chr&gt; |\n|---|---|---|---|---|\n| 국정수 | 서울 | 43 | 남 | NA       |\n| 라윤정 | 서울 | 35 | 여 | NA       |\n| 박장곤 | NA   | NA | NA | 회사원   |\n| 조정란 | 경기 | 33 | 여 | 공무원   |\n| 주민정 | NA   | NA | NA | 학생     |\n| 한주연 | 인천 | 37 | 남 | 프리랜서 |\n| 한지수 | NA   | NA | NA | 자영업   |\n| 홍민수 | 인천 | 25 | 남 | 학생     |\n\n",
            "text/html": [
              "<table class=\"dataframe\">\n",
              "<caption>A data.frame: 8 × 5</caption>\n",
              "<thead>\n",
              "\t<tr><th scope=col>이름</th><th scope=col>거주지역</th><th scope=col>나이</th><th scope=col>성별</th><th scope=col>직업</th></tr>\n",
              "\t<tr><th scope=col>&lt;chr&gt;</th><th scope=col>&lt;chr&gt;</th><th scope=col>&lt;int&gt;</th><th scope=col>&lt;chr&gt;</th><th scope=col>&lt;chr&gt;</th></tr>\n",
              "</thead>\n",
              "<tbody>\n",
              "\t<tr><td>국정수</td><td>서울</td><td>43</td><td>남</td><td>NA      </td></tr>\n",
              "\t<tr><td>라윤정</td><td>서울</td><td>35</td><td>여</td><td>NA      </td></tr>\n",
              "\t<tr><td>박장곤</td><td>NA  </td><td>NA</td><td>NA</td><td>회사원  </td></tr>\n",
              "\t<tr><td>조정란</td><td>경기</td><td>33</td><td>여</td><td>공무원  </td></tr>\n",
              "\t<tr><td>주민정</td><td>NA  </td><td>NA</td><td>NA</td><td>학생    </td></tr>\n",
              "\t<tr><td>한주연</td><td>인천</td><td>37</td><td>남</td><td>프리랜서</td></tr>\n",
              "\t<tr><td>한지수</td><td>NA  </td><td>NA</td><td>NA</td><td>자영업  </td></tr>\n",
              "\t<tr><td>홍민수</td><td>인천</td><td>25</td><td>남</td><td>학생    </td></tr>\n",
              "</tbody>\n",
              "</table>\n"
            ]
          },
          "metadata": {
            "tags": []
          }
        }
      ]
    },
    {
      "cell_type": "code",
      "metadata": {
        "colab": {
          "base_uri": "https://localhost:8080/",
          "height": 250
        },
        "id": "HhRIWk2uizJe",
        "outputId": "d520d735-299d-48b3-8658-07dac2547b86"
      },
      "source": [
        "data1 <- subset(pinfo, select=-거주지역)\n",
        "data1"
      ],
      "execution_count": null,
      "outputs": [
        {
          "output_type": "display_data",
          "data": {
            "text/plain": [
              "  이름   나이 성별\n",
              "1 홍민수 25   남  \n",
              "2 조정란 33   여  \n",
              "3 국정수 43   남  \n",
              "4 라윤정 35   여  \n",
              "5 한주연 37   남  "
            ],
            "text/latex": "A data.frame: 5 × 3\n\\begin{tabular}{r|lll}\n  & 이름 & 나이 & 성별\\\\\n  & <chr> & <int> & <chr>\\\\\n\\hline\n\t1 & 홍민수 & 25 & 남\\\\\n\t2 & 조정란 & 33 & 여\\\\\n\t3 & 국정수 & 43 & 남\\\\\n\t4 & 라윤정 & 35 & 여\\\\\n\t5 & 한주연 & 37 & 남\\\\\n\\end{tabular}\n",
            "text/markdown": "\nA data.frame: 5 × 3\n\n| <!--/--> | 이름 &lt;chr&gt; | 나이 &lt;int&gt; | 성별 &lt;chr&gt; |\n|---|---|---|---|\n| 1 | 홍민수 | 25 | 남 |\n| 2 | 조정란 | 33 | 여 |\n| 3 | 국정수 | 43 | 남 |\n| 4 | 라윤정 | 35 | 여 |\n| 5 | 한주연 | 37 | 남 |\n\n",
            "text/html": [
              "<table class=\"dataframe\">\n",
              "<caption>A data.frame: 5 × 3</caption>\n",
              "<thead>\n",
              "\t<tr><th></th><th scope=col>이름</th><th scope=col>나이</th><th scope=col>성별</th></tr>\n",
              "\t<tr><th></th><th scope=col>&lt;chr&gt;</th><th scope=col>&lt;int&gt;</th><th scope=col>&lt;chr&gt;</th></tr>\n",
              "</thead>\n",
              "<tbody>\n",
              "\t<tr><th scope=row>1</th><td>홍민수</td><td>25</td><td>남</td></tr>\n",
              "\t<tr><th scope=row>2</th><td>조정란</td><td>33</td><td>여</td></tr>\n",
              "\t<tr><th scope=row>3</th><td>국정수</td><td>43</td><td>남</td></tr>\n",
              "\t<tr><th scope=row>4</th><td>라윤정</td><td>35</td><td>여</td></tr>\n",
              "\t<tr><th scope=row>5</th><td>한주연</td><td>37</td><td>남</td></tr>\n",
              "</tbody>\n",
              "</table>\n"
            ]
          },
          "metadata": {
            "tags": []
          }
        }
      ]
    },
    {
      "cell_type": "code",
      "metadata": {
        "colab": {
          "base_uri": "https://localhost:8080/",
          "height": 250
        },
        "id": "J1vHf0bcjJgU",
        "outputId": "824b2f59-2030-4085-9462-7d496b8914ae"
      },
      "source": [
        "data2 <- cbind(pinfo, 결혼=c(FALSE, TRUE, TRUE, FALSE, TRUE))\n",
        "data2"
      ],
      "execution_count": null,
      "outputs": [
        {
          "output_type": "display_data",
          "data": {
            "text/plain": [
              "  이름   거주지역 나이 성별 결혼 \n",
              "1 홍민수 인천     25   남   FALSE\n",
              "2 조정란 경기     33   여    TRUE\n",
              "3 국정수 서울     43   남    TRUE\n",
              "4 라윤정 서울     35   여   FALSE\n",
              "5 한주연 인천     37   남    TRUE"
            ],
            "text/latex": "A data.frame: 5 × 5\n\\begin{tabular}{lllll}\n 이름 & 거주지역 & 나이 & 성별 & 결혼\\\\\n <chr> & <chr> & <int> & <chr> & <lgl>\\\\\n\\hline\n\t 홍민수 & 인천 & 25 & 남 & FALSE\\\\\n\t 조정란 & 경기 & 33 & 여 &  TRUE\\\\\n\t 국정수 & 서울 & 43 & 남 &  TRUE\\\\\n\t 라윤정 & 서울 & 35 & 여 & FALSE\\\\\n\t 한주연 & 인천 & 37 & 남 &  TRUE\\\\\n\\end{tabular}\n",
            "text/markdown": "\nA data.frame: 5 × 5\n\n| 이름 &lt;chr&gt; | 거주지역 &lt;chr&gt; | 나이 &lt;int&gt; | 성별 &lt;chr&gt; | 결혼 &lt;lgl&gt; |\n|---|---|---|---|---|\n| 홍민수 | 인천 | 25 | 남 | FALSE |\n| 조정란 | 경기 | 33 | 여 |  TRUE |\n| 국정수 | 서울 | 43 | 남 |  TRUE |\n| 라윤정 | 서울 | 35 | 여 | FALSE |\n| 한주연 | 인천 | 37 | 남 |  TRUE |\n\n",
            "text/html": [
              "<table class=\"dataframe\">\n",
              "<caption>A data.frame: 5 × 5</caption>\n",
              "<thead>\n",
              "\t<tr><th scope=col>이름</th><th scope=col>거주지역</th><th scope=col>나이</th><th scope=col>성별</th><th scope=col>결혼</th></tr>\n",
              "\t<tr><th scope=col>&lt;chr&gt;</th><th scope=col>&lt;chr&gt;</th><th scope=col>&lt;int&gt;</th><th scope=col>&lt;chr&gt;</th><th scope=col>&lt;lgl&gt;</th></tr>\n",
              "</thead>\n",
              "<tbody>\n",
              "\t<tr><td>홍민수</td><td>인천</td><td>25</td><td>남</td><td>FALSE</td></tr>\n",
              "\t<tr><td>조정란</td><td>경기</td><td>33</td><td>여</td><td> TRUE</td></tr>\n",
              "\t<tr><td>국정수</td><td>서울</td><td>43</td><td>남</td><td> TRUE</td></tr>\n",
              "\t<tr><td>라윤정</td><td>서울</td><td>35</td><td>여</td><td>FALSE</td></tr>\n",
              "\t<tr><td>한주연</td><td>인천</td><td>37</td><td>남</td><td> TRUE</td></tr>\n",
              "</tbody>\n",
              "</table>\n"
            ]
          },
          "metadata": {
            "tags": []
          }
        }
      ]
    },
    {
      "cell_type": "code",
      "metadata": {
        "colab": {
          "base_uri": "https://localhost:8080/",
          "height": 220
        },
        "id": "Yee7W5xCjd16",
        "outputId": "4463de28-4bb0-4d42-82c1-b24298d13f1f"
      },
      "source": [
        "data2[-3,]"
      ],
      "execution_count": null,
      "outputs": [
        {
          "output_type": "display_data",
          "data": {
            "text/plain": [
              "  이름   거주지역 나이 성별 결혼 \n",
              "1 홍민수 인천     25   남   FALSE\n",
              "2 조정란 경기     33   여    TRUE\n",
              "4 라윤정 서울     35   여   FALSE\n",
              "5 한주연 인천     37   남    TRUE"
            ],
            "text/latex": "A data.frame: 4 × 5\n\\begin{tabular}{r|lllll}\n  & 이름 & 거주지역 & 나이 & 성별 & 결혼\\\\\n  & <chr> & <chr> & <int> & <chr> & <lgl>\\\\\n\\hline\n\t1 & 홍민수 & 인천 & 25 & 남 & FALSE\\\\\n\t2 & 조정란 & 경기 & 33 & 여 &  TRUE\\\\\n\t4 & 라윤정 & 서울 & 35 & 여 & FALSE\\\\\n\t5 & 한주연 & 인천 & 37 & 남 &  TRUE\\\\\n\\end{tabular}\n",
            "text/markdown": "\nA data.frame: 4 × 5\n\n| <!--/--> | 이름 &lt;chr&gt; | 거주지역 &lt;chr&gt; | 나이 &lt;int&gt; | 성별 &lt;chr&gt; | 결혼 &lt;lgl&gt; |\n|---|---|---|---|---|---|\n| 1 | 홍민수 | 인천 | 25 | 남 | FALSE |\n| 2 | 조정란 | 경기 | 33 | 여 |  TRUE |\n| 4 | 라윤정 | 서울 | 35 | 여 | FALSE |\n| 5 | 한주연 | 인천 | 37 | 남 |  TRUE |\n\n",
            "text/html": [
              "<table class=\"dataframe\">\n",
              "<caption>A data.frame: 4 × 5</caption>\n",
              "<thead>\n",
              "\t<tr><th></th><th scope=col>이름</th><th scope=col>거주지역</th><th scope=col>나이</th><th scope=col>성별</th><th scope=col>결혼</th></tr>\n",
              "\t<tr><th></th><th scope=col>&lt;chr&gt;</th><th scope=col>&lt;chr&gt;</th><th scope=col>&lt;int&gt;</th><th scope=col>&lt;chr&gt;</th><th scope=col>&lt;lgl&gt;</th></tr>\n",
              "</thead>\n",
              "<tbody>\n",
              "\t<tr><th scope=row>1</th><td>홍민수</td><td>인천</td><td>25</td><td>남</td><td>FALSE</td></tr>\n",
              "\t<tr><th scope=row>2</th><td>조정란</td><td>경기</td><td>33</td><td>여</td><td> TRUE</td></tr>\n",
              "\t<tr><th scope=row>4</th><td>라윤정</td><td>서울</td><td>35</td><td>여</td><td>FALSE</td></tr>\n",
              "\t<tr><th scope=row>5</th><td>한주연</td><td>인천</td><td>37</td><td>남</td><td> TRUE</td></tr>\n",
              "</tbody>\n",
              "</table>\n"
            ]
          },
          "metadata": {
            "tags": []
          }
        }
      ]
    },
    {
      "cell_type": "code",
      "metadata": {
        "colab": {
          "base_uri": "https://localhost:8080/",
          "height": 250
        },
        "id": "rvDJ4AtHjj2W",
        "outputId": "e9d8afac-a884-4963-ac45-cdd1d9d85e3b"
      },
      "source": [
        "data2[,-5]"
      ],
      "execution_count": null,
      "outputs": [
        {
          "output_type": "display_data",
          "data": {
            "text/plain": [
              "  이름   거주지역 나이 성별\n",
              "1 홍민수 인천     25   남  \n",
              "2 조정란 경기     33   여  \n",
              "3 국정수 서울     43   남  \n",
              "4 라윤정 서울     35   여  \n",
              "5 한주연 인천     37   남  "
            ],
            "text/latex": "A data.frame: 5 × 4\n\\begin{tabular}{llll}\n 이름 & 거주지역 & 나이 & 성별\\\\\n <chr> & <chr> & <int> & <chr>\\\\\n\\hline\n\t 홍민수 & 인천 & 25 & 남\\\\\n\t 조정란 & 경기 & 33 & 여\\\\\n\t 국정수 & 서울 & 43 & 남\\\\\n\t 라윤정 & 서울 & 35 & 여\\\\\n\t 한주연 & 인천 & 37 & 남\\\\\n\\end{tabular}\n",
            "text/markdown": "\nA data.frame: 5 × 4\n\n| 이름 &lt;chr&gt; | 거주지역 &lt;chr&gt; | 나이 &lt;int&gt; | 성별 &lt;chr&gt; |\n|---|---|---|---|\n| 홍민수 | 인천 | 25 | 남 |\n| 조정란 | 경기 | 33 | 여 |\n| 국정수 | 서울 | 43 | 남 |\n| 라윤정 | 서울 | 35 | 여 |\n| 한주연 | 인천 | 37 | 남 |\n\n",
            "text/html": [
              "<table class=\"dataframe\">\n",
              "<caption>A data.frame: 5 × 4</caption>\n",
              "<thead>\n",
              "\t<tr><th scope=col>이름</th><th scope=col>거주지역</th><th scope=col>나이</th><th scope=col>성별</th></tr>\n",
              "\t<tr><th scope=col>&lt;chr&gt;</th><th scope=col>&lt;chr&gt;</th><th scope=col>&lt;int&gt;</th><th scope=col>&lt;chr&gt;</th></tr>\n",
              "</thead>\n",
              "<tbody>\n",
              "\t<tr><td>홍민수</td><td>인천</td><td>25</td><td>남</td></tr>\n",
              "\t<tr><td>조정란</td><td>경기</td><td>33</td><td>여</td></tr>\n",
              "\t<tr><td>국정수</td><td>서울</td><td>43</td><td>남</td></tr>\n",
              "\t<tr><td>라윤정</td><td>서울</td><td>35</td><td>여</td></tr>\n",
              "\t<tr><td>한주연</td><td>인천</td><td>37</td><td>남</td></tr>\n",
              "</tbody>\n",
              "</table>\n"
            ]
          },
          "metadata": {
            "tags": []
          }
        }
      ]
    },
    {
      "cell_type": "code",
      "metadata": {
        "colab": {
          "base_uri": "https://localhost:8080/",
          "height": 34
        },
        "id": "HYnSKL4jju7T",
        "outputId": "01e5b8c8-c66a-4f66-d346-bcaa3e444a31"
      },
      "source": [
        "ncol(data2)"
      ],
      "execution_count": null,
      "outputs": [
        {
          "output_type": "display_data",
          "data": {
            "text/plain": [
              "[1] 5"
            ],
            "text/latex": "5",
            "text/markdown": "5",
            "text/html": [
              "5"
            ]
          },
          "metadata": {
            "tags": []
          }
        }
      ]
    },
    {
      "cell_type": "code",
      "metadata": {
        "colab": {
          "base_uri": "https://localhost:8080/",
          "height": 34
        },
        "id": "_nHsxisAjw5J",
        "outputId": "b6066c9f-4dd6-4053-97a7-b8ac86dd1916"
      },
      "source": [
        "nrow(data2)"
      ],
      "execution_count": null,
      "outputs": [
        {
          "output_type": "display_data",
          "data": {
            "text/plain": [
              "[1] 5"
            ],
            "text/latex": "5",
            "text/markdown": "5",
            "text/html": [
              "5"
            ]
          },
          "metadata": {
            "tags": []
          }
        }
      ]
    },
    {
      "cell_type": "code",
      "metadata": {
        "colab": {
          "base_uri": "https://localhost:8080/",
          "height": 250
        },
        "id": "ebOcqXslkGeB",
        "outputId": "6b1a27f8-4546-43c0-e447-2e0fc639465f"
      },
      "source": [
        "colnames(data2) <- c('성명','거주지','나이','성별')\n",
        "data2"
      ],
      "execution_count": null,
      "outputs": [
        {
          "output_type": "display_data",
          "data": {
            "text/plain": [
              "  성명   거주지 나이 성별 <NA> \n",
              "1 홍민수 인천   25   남   FALSE\n",
              "2 조정란 경기   33   여    TRUE\n",
              "3 국정수 서울   43   남    TRUE\n",
              "4 라윤정 서울   35   여   FALSE\n",
              "5 한주연 인천   37   남    TRUE"
            ],
            "text/latex": "A data.frame: 5 × 5\n\\begin{tabular}{lllll}\n 성명 & 거주지 & 나이 & 성별 & NA\\\\\n <chr> & <chr> & <int> & <chr> & <lgl>\\\\\n\\hline\n\t 홍민수 & 인천 & 25 & 남 & FALSE\\\\\n\t 조정란 & 경기 & 33 & 여 &  TRUE\\\\\n\t 국정수 & 서울 & 43 & 남 &  TRUE\\\\\n\t 라윤정 & 서울 & 35 & 여 & FALSE\\\\\n\t 한주연 & 인천 & 37 & 남 &  TRUE\\\\\n\\end{tabular}\n",
            "text/markdown": "\nA data.frame: 5 × 5\n\n| 성명 &lt;chr&gt; | 거주지 &lt;chr&gt; | 나이 &lt;int&gt; | 성별 &lt;chr&gt; | NA &lt;lgl&gt; |\n|---|---|---|---|---|\n| 홍민수 | 인천 | 25 | 남 | FALSE |\n| 조정란 | 경기 | 33 | 여 |  TRUE |\n| 국정수 | 서울 | 43 | 남 |  TRUE |\n| 라윤정 | 서울 | 35 | 여 | FALSE |\n| 한주연 | 인천 | 37 | 남 |  TRUE |\n\n",
            "text/html": [
              "<table class=\"dataframe\">\n",
              "<caption>A data.frame: 5 × 5</caption>\n",
              "<thead>\n",
              "\t<tr><th scope=col>성명</th><th scope=col>거주지</th><th scope=col>나이</th><th scope=col>성별</th><th scope=col>NA</th></tr>\n",
              "\t<tr><th scope=col>&lt;chr&gt;</th><th scope=col>&lt;chr&gt;</th><th scope=col>&lt;int&gt;</th><th scope=col>&lt;chr&gt;</th><th scope=col>&lt;lgl&gt;</th></tr>\n",
              "</thead>\n",
              "<tbody>\n",
              "\t<tr><td>홍민수</td><td>인천</td><td>25</td><td>남</td><td>FALSE</td></tr>\n",
              "\t<tr><td>조정란</td><td>경기</td><td>33</td><td>여</td><td> TRUE</td></tr>\n",
              "\t<tr><td>국정수</td><td>서울</td><td>43</td><td>남</td><td> TRUE</td></tr>\n",
              "\t<tr><td>라윤정</td><td>서울</td><td>35</td><td>여</td><td>FALSE</td></tr>\n",
              "\t<tr><td>한주연</td><td>인천</td><td>37</td><td>남</td><td> TRUE</td></tr>\n",
              "</tbody>\n",
              "</table>\n"
            ]
          },
          "metadata": {
            "tags": []
          }
        }
      ]
    },
    {
      "cell_type": "markdown",
      "metadata": {
        "id": "7t5N6Re0th3G"
      },
      "source": [
        "#조건문"
      ]
    },
    {
      "cell_type": "code",
      "metadata": {
        "colab": {
          "base_uri": "https://localhost:8080/",
          "height": 34
        },
        "id": "zCfmNlDqtjlL",
        "outputId": "1a09bbfd-db02-4803-e93d-b5ebae61e6fc"
      },
      "source": [
        "a <- 8\n",
        "if(a%%2 == 0){\n",
        "    result <- '짝수'\n",
        "    result\n",
        "}"
      ],
      "execution_count": null,
      "outputs": [
        {
          "output_type": "display_data",
          "data": {
            "text/plain": [
              "[1] \"짝수\""
            ],
            "text/latex": "'짝수'",
            "text/markdown": "'짝수'",
            "text/html": [
              "'짝수'"
            ]
          },
          "metadata": {
            "tags": []
          }
        }
      ]
    },
    {
      "cell_type": "code",
      "metadata": {
        "colab": {
          "base_uri": "https://localhost:8080/",
          "height": 34
        },
        "id": "v2n-61sFtstV",
        "outputId": "d7660db2-a20f-42d3-f492-0b284a048f24"
      },
      "source": [
        "a <- 123\n",
        "if(a%%2 == 0){\n",
        "    result <- '짝수'\n",
        "}else{\n",
        "    result <- '홀수'\n",
        "}\n",
        "result"
      ],
      "execution_count": null,
      "outputs": [
        {
          "output_type": "display_data",
          "data": {
            "text/plain": [
              "[1] \"홀수\""
            ],
            "text/latex": "'홀수'",
            "text/markdown": "'홀수'",
            "text/html": [
              "'홀수'"
            ]
          },
          "metadata": {
            "tags": []
          }
        }
      ]
    },
    {
      "cell_type": "code",
      "metadata": {
        "colab": {
          "base_uri": "https://localhost:8080/",
          "height": 34
        },
        "id": "ZyUhCODvuLml",
        "outputId": "44a1ae2d-bb49-4145-a32d-b04eaba9b973"
      },
      "source": [
        "a <- 75\n",
        "if(a%%3 == 0 && a%%5 == 0){\n",
        "    result <- '3의 배수이면서 5의 배수'\n",
        "}else if(a%%3 == 0){\n",
        "    result <- '3의 배수'\n",
        "}else if(a%%5 == 0){\n",
        "    result <- '5의 배수'\n",
        "}else{\n",
        "    result <- '3의 배수, 5의 배수 어디에도 해당되지 않습니다'\n",
        "}\n",
        "result"
      ],
      "execution_count": null,
      "outputs": [
        {
          "output_type": "display_data",
          "data": {
            "text/plain": [
              "[1] \"3의 배수이면서 5의 배수\""
            ],
            "text/latex": "'3의 배수이면서 5의 배수'",
            "text/markdown": "'3의 배수이면서 5의 배수'",
            "text/html": [
              "'3의 배수이면서 5의 배수'"
            ]
          },
          "metadata": {
            "tags": []
          }
        }
      ]
    },
    {
      "cell_type": "code",
      "metadata": {
        "colab": {
          "base_uri": "https://localhost:8080/",
          "height": 69
        },
        "id": "gn4LNiHgvAsv",
        "outputId": "54895c04-80c0-4e97-9d8e-bc6acf98c92f"
      },
      "source": [
        "a <- c(10,13,7,8,50)\n",
        "if(a%%2==0){\n",
        "    result<-'짝수'\n",
        "}else{\n",
        "    result<-'홀수'\n",
        "}\n",
        "result"
      ],
      "execution_count": null,
      "outputs": [
        {
          "output_type": "stream",
          "text": [
            "Warning message in if (a%%2 == 0) {:\n",
            "“the condition has length > 1 and only the first element will be used”\n"
          ],
          "name": "stderr"
        },
        {
          "output_type": "display_data",
          "data": {
            "text/plain": [
              "[1] \"짝수\""
            ],
            "text/latex": "'짝수'",
            "text/markdown": "'짝수'",
            "text/html": [
              "'짝수'"
            ]
          },
          "metadata": {
            "tags": []
          }
        }
      ]
    },
    {
      "cell_type": "code",
      "metadata": {
        "colab": {
          "base_uri": "https://localhost:8080/",
          "height": 267
        },
        "id": "6MDNxvD0vfJu",
        "outputId": "6e907d15-d28f-42c9-8b8e-f090f5403c34"
      },
      "source": [
        "a <- c(10,13,7,8,50)\n",
        "result <- c(ifelse(a%%2==0, '짝수', '홀수'))\n",
        "\n",
        "df <- data.frame(a, result)\n",
        "df"
      ],
      "execution_count": null,
      "outputs": [
        {
          "output_type": "display_data",
          "data": {
            "text/plain": [
              "  a  result\n",
              "1 10 짝수  \n",
              "2 13 홀수  \n",
              "3  7 홀수  \n",
              "4  8 짝수  \n",
              "5 50 짝수  "
            ],
            "text/latex": "A data.frame: 5 × 2\n\\begin{tabular}{ll}\n a & result\\\\\n <dbl> & <chr>\\\\\n\\hline\n\t 10 & 짝수\\\\\n\t 13 & 홀수\\\\\n\t  7 & 홀수\\\\\n\t  8 & 짝수\\\\\n\t 50 & 짝수\\\\\n\\end{tabular}\n",
            "text/markdown": "\nA data.frame: 5 × 2\n\n| a &lt;dbl&gt; | result &lt;chr&gt; |\n|---|---|\n| 10 | 짝수 |\n| 13 | 홀수 |\n|  7 | 홀수 |\n|  8 | 짝수 |\n| 50 | 짝수 |\n\n",
            "text/html": [
              "<table class=\"dataframe\">\n",
              "<caption>A data.frame: 5 × 2</caption>\n",
              "<thead>\n",
              "\t<tr><th scope=col>a</th><th scope=col>result</th></tr>\n",
              "\t<tr><th scope=col>&lt;dbl&gt;</th><th scope=col>&lt;chr&gt;</th></tr>\n",
              "</thead>\n",
              "<tbody>\n",
              "\t<tr><td>10</td><td>짝수</td></tr>\n",
              "\t<tr><td>13</td><td>홀수</td></tr>\n",
              "\t<tr><td> 7</td><td>홀수</td></tr>\n",
              "\t<tr><td> 8</td><td>짝수</td></tr>\n",
              "\t<tr><td>50</td><td>짝수</td></tr>\n",
              "</tbody>\n",
              "</table>\n"
            ]
          },
          "metadata": {
            "tags": []
          }
        }
      ]
    },
    {
      "cell_type": "code",
      "metadata": {
        "colab": {
          "base_uri": "https://localhost:8080/",
          "height": 267
        },
        "id": "83Ftg-ORwB6W",
        "outputId": "859ec8ad-5d50-495e-adb2-a052840ae401"
      },
      "source": [
        "a <- c(10,13,22,15,9)\n",
        "result <- ifelse(a>mean(a), '평균초과', ifelse(a<mean(a), '평균미달', '평균값'))\n",
        "\n",
        "df2 <- data.frame(a, result)\n",
        "df2"
      ],
      "execution_count": null,
      "outputs": [
        {
          "output_type": "display_data",
          "data": {
            "text/plain": [
              "  a  result  \n",
              "1 10 평균미달\n",
              "2 13 평균미달\n",
              "3 22 평균초과\n",
              "4 15 평균초과\n",
              "5  9 평균미달"
            ],
            "text/latex": "A data.frame: 5 × 2\n\\begin{tabular}{ll}\n a & result\\\\\n <dbl> & <chr>\\\\\n\\hline\n\t 10 & 평균미달\\\\\n\t 13 & 평균미달\\\\\n\t 22 & 평균초과\\\\\n\t 15 & 평균초과\\\\\n\t  9 & 평균미달\\\\\n\\end{tabular}\n",
            "text/markdown": "\nA data.frame: 5 × 2\n\n| a &lt;dbl&gt; | result &lt;chr&gt; |\n|---|---|\n| 10 | 평균미달 |\n| 13 | 평균미달 |\n| 22 | 평균초과 |\n| 15 | 평균초과 |\n|  9 | 평균미달 |\n\n",
            "text/html": [
              "<table class=\"dataframe\">\n",
              "<caption>A data.frame: 5 × 2</caption>\n",
              "<thead>\n",
              "\t<tr><th scope=col>a</th><th scope=col>result</th></tr>\n",
              "\t<tr><th scope=col>&lt;dbl&gt;</th><th scope=col>&lt;chr&gt;</th></tr>\n",
              "</thead>\n",
              "<tbody>\n",
              "\t<tr><td>10</td><td>평균미달</td></tr>\n",
              "\t<tr><td>13</td><td>평균미달</td></tr>\n",
              "\t<tr><td>22</td><td>평균초과</td></tr>\n",
              "\t<tr><td>15</td><td>평균초과</td></tr>\n",
              "\t<tr><td> 9</td><td>평균미달</td></tr>\n",
              "</tbody>\n",
              "</table>\n"
            ]
          },
          "metadata": {
            "tags": []
          }
        }
      ]
    },
    {
      "cell_type": "markdown",
      "metadata": {
        "id": "Y8nG84M0wg-S"
      },
      "source": [
        "#반복문"
      ]
    },
    {
      "cell_type": "code",
      "metadata": {
        "colab": {
          "base_uri": "https://localhost:8080/",
          "height": 122
        },
        "id": "VR65uvgwwiWG",
        "outputId": "9374b979-5ab8-4355-ee96-80d6b1ee1261"
      },
      "source": [
        "y <- 0\n",
        "for(x in 1:5){\n",
        "    y <- y+x\n",
        "    cat('1부터',x,'까지 합은 ', y, '\\n')\n",
        "}\n",
        "y"
      ],
      "execution_count": null,
      "outputs": [
        {
          "output_type": "stream",
          "text": [
            "1부터 1 까지 합은  1 \n",
            "1부터 2 까지 합은  3 \n",
            "1부터 3 까지 합은  6 \n",
            "1부터 4 까지 합은  10 \n",
            "1부터 5 까지 합은  15 \n"
          ],
          "name": "stdout"
        },
        {
          "output_type": "display_data",
          "data": {
            "text/plain": [
              "[1] 15"
            ],
            "text/latex": "15",
            "text/markdown": "15",
            "text/html": [
              "15"
            ]
          },
          "metadata": {
            "tags": []
          }
        }
      ]
    },
    {
      "cell_type": "code",
      "metadata": {
        "colab": {
          "base_uri": "https://localhost:8080/",
          "height": 34
        },
        "id": "FCm9ftgVxqOU",
        "outputId": "3a498fb7-c1f2-4ae4-d1eb-158ba223e0de"
      },
      "source": [
        "a <- c(4,25,8,33,17,20)\n",
        "evensum <- 0\n",
        "for(x in a){\n",
        "    if(x%%2==0) evensum <- evensum+x\n",
        "}\n",
        "#for(x in 1:length(a)){\n",
        "#    if (a[x]%%2==0) evensum <- evensum+x\n",
        "#} 과 같은 의미\n",
        "evensum"
      ],
      "execution_count": null,
      "outputs": [
        {
          "output_type": "display_data",
          "data": {
            "text/plain": [
              "[1] 32"
            ],
            "text/latex": "32",
            "text/markdown": "32",
            "text/html": [
              "32"
            ]
          },
          "metadata": {
            "tags": []
          }
        }
      ]
    },
    {
      "cell_type": "code",
      "metadata": {
        "colab": {
          "base_uri": "https://localhost:8080/",
          "height": 311
        },
        "id": "x1UJeTTxyi9K",
        "outputId": "db142cff-32a6-4e25-fc62-517f741e4874"
      },
      "source": [
        "gugudan <- matrix(0, nrow=9, ncol=9)\n",
        "for(i in 1:9){\n",
        "    for (j in 1:9){\n",
        "        gugudan[i,j] <- i*j\n",
        "    }\n",
        "}\n",
        "gugudan"
      ],
      "execution_count": null,
      "outputs": [
        {
          "output_type": "display_data",
          "data": {
            "text/plain": [
              "      [,1] [,2] [,3] [,4] [,5] [,6] [,7] [,8] [,9]\n",
              " [1,] 1     2    3    4    5    6    7    8    9  \n",
              " [2,] 2     4    6    8   10   12   14   16   18  \n",
              " [3,] 3     6    9   12   15   18   21   24   27  \n",
              " [4,] 4     8   12   16   20   24   28   32   36  \n",
              " [5,] 5    10   15   20   25   30   35   40   45  \n",
              " [6,] 6    12   18   24   30   36   42   48   54  \n",
              " [7,] 7    14   21   28   35   42   49   56   63  \n",
              " [8,] 8    16   24   32   40   48   56   64   72  \n",
              " [9,] 9    18   27   36   45   54   63   72   81  "
            ],
            "text/latex": "A matrix: 9 × 9 of type dbl\n\\begin{tabular}{lllllllll}\n\t 1 &  2 &  3 &  4 &  5 &  6 &  7 &  8 &  9\\\\\n\t 2 &  4 &  6 &  8 & 10 & 12 & 14 & 16 & 18\\\\\n\t 3 &  6 &  9 & 12 & 15 & 18 & 21 & 24 & 27\\\\\n\t 4 &  8 & 12 & 16 & 20 & 24 & 28 & 32 & 36\\\\\n\t 5 & 10 & 15 & 20 & 25 & 30 & 35 & 40 & 45\\\\\n\t 6 & 12 & 18 & 24 & 30 & 36 & 42 & 48 & 54\\\\\n\t 7 & 14 & 21 & 28 & 35 & 42 & 49 & 56 & 63\\\\\n\t 8 & 16 & 24 & 32 & 40 & 48 & 56 & 64 & 72\\\\\n\t 9 & 18 & 27 & 36 & 45 & 54 & 63 & 72 & 81\\\\\n\\end{tabular}\n",
            "text/markdown": "\nA matrix: 9 × 9 of type dbl\n\n| 1 |  2 |  3 |  4 |  5 |  6 |  7 |  8 |  9 |\n| 2 |  4 |  6 |  8 | 10 | 12 | 14 | 16 | 18 |\n| 3 |  6 |  9 | 12 | 15 | 18 | 21 | 24 | 27 |\n| 4 |  8 | 12 | 16 | 20 | 24 | 28 | 32 | 36 |\n| 5 | 10 | 15 | 20 | 25 | 30 | 35 | 40 | 45 |\n| 6 | 12 | 18 | 24 | 30 | 36 | 42 | 48 | 54 |\n| 7 | 14 | 21 | 28 | 35 | 42 | 49 | 56 | 63 |\n| 8 | 16 | 24 | 32 | 40 | 48 | 56 | 64 | 72 |\n| 9 | 18 | 27 | 36 | 45 | 54 | 63 | 72 | 81 |\n\n",
            "text/html": [
              "<table class=\"dataframe\">\n",
              "<caption>A matrix: 9 × 9 of type dbl</caption>\n",
              "<tbody>\n",
              "\t<tr><td>1</td><td> 2</td><td> 3</td><td> 4</td><td> 5</td><td> 6</td><td> 7</td><td> 8</td><td> 9</td></tr>\n",
              "\t<tr><td>2</td><td> 4</td><td> 6</td><td> 8</td><td>10</td><td>12</td><td>14</td><td>16</td><td>18</td></tr>\n",
              "\t<tr><td>3</td><td> 6</td><td> 9</td><td>12</td><td>15</td><td>18</td><td>21</td><td>24</td><td>27</td></tr>\n",
              "\t<tr><td>4</td><td> 8</td><td>12</td><td>16</td><td>20</td><td>24</td><td>28</td><td>32</td><td>36</td></tr>\n",
              "\t<tr><td>5</td><td>10</td><td>15</td><td>20</td><td>25</td><td>30</td><td>35</td><td>40</td><td>45</td></tr>\n",
              "\t<tr><td>6</td><td>12</td><td>18</td><td>24</td><td>30</td><td>36</td><td>42</td><td>48</td><td>54</td></tr>\n",
              "\t<tr><td>7</td><td>14</td><td>21</td><td>28</td><td>35</td><td>42</td><td>49</td><td>56</td><td>63</td></tr>\n",
              "\t<tr><td>8</td><td>16</td><td>24</td><td>32</td><td>40</td><td>48</td><td>56</td><td>64</td><td>72</td></tr>\n",
              "\t<tr><td>9</td><td>18</td><td>27</td><td>36</td><td>45</td><td>54</td><td>63</td><td>72</td><td>81</td></tr>\n",
              "</tbody>\n",
              "</table>\n"
            ]
          },
          "metadata": {
            "tags": []
          }
        }
      ]
    },
    {
      "cell_type": "code",
      "metadata": {
        "colab": {
          "base_uri": "https://localhost:8080/",
          "height": 34
        },
        "id": "ETX48M-GzFf3",
        "outputId": "1f29febb-cb7f-4090-e955-e8afb2453642"
      },
      "source": [
        "i <- 1\n",
        "isum <- 0\n",
        "while(i<=10){\n",
        "    isum <- isum+i\n",
        "    i <- i+1\n",
        "}\n",
        "isum"
      ],
      "execution_count": null,
      "outputs": [
        {
          "output_type": "display_data",
          "data": {
            "text/plain": [
              "[1] 55"
            ],
            "text/latex": "55",
            "text/markdown": "55",
            "text/html": [
              "55"
            ]
          },
          "metadata": {
            "tags": []
          }
        }
      ]
    },
    {
      "cell_type": "code",
      "metadata": {
        "colab": {
          "base_uri": "https://localhost:8080/"
        },
        "id": "1Qj1LpBBzrZh",
        "outputId": "613ae5bd-abf2-48e4-b49b-7348a43282b3"
      },
      "source": [
        "i <- 1\n",
        "isum <- 0\n",
        "while(i != 0){\n",
        "    isum <- isum + i\n",
        "    cat('1부터', i, '까지 합은 ', isum, '\\n')\n",
        "    if(isum>500) break\n",
        "    i <- i+1\n",
        "}"
      ],
      "execution_count": null,
      "outputs": [
        {
          "output_type": "stream",
          "text": [
            "1부터 1 까지 합은  1 \n",
            "1부터 2 까지 합은  3 \n",
            "1부터 3 까지 합은  6 \n",
            "1부터 4 까지 합은  10 \n",
            "1부터 5 까지 합은  15 \n",
            "1부터 6 까지 합은  21 \n",
            "1부터 7 까지 합은  28 \n",
            "1부터 8 까지 합은  36 \n",
            "1부터 9 까지 합은  45 \n",
            "1부터 10 까지 합은  55 \n",
            "1부터 11 까지 합은  66 \n",
            "1부터 12 까지 합은  78 \n",
            "1부터 13 까지 합은  91 \n",
            "1부터 14 까지 합은  105 \n",
            "1부터 15 까지 합은  120 \n",
            "1부터 16 까지 합은  136 \n",
            "1부터 17 까지 합은  153 \n",
            "1부터 18 까지 합은  171 \n",
            "1부터 19 까지 합은  190 \n",
            "1부터 20 까지 합은  210 \n",
            "1부터 21 까지 합은  231 \n",
            "1부터 22 까지 합은  253 \n",
            "1부터 23 까지 합은  276 \n",
            "1부터 24 까지 합은  300 \n",
            "1부터 25 까지 합은  325 \n",
            "1부터 26 까지 합은  351 \n",
            "1부터 27 까지 합은  378 \n",
            "1부터 28 까지 합은  406 \n",
            "1부터 29 까지 합은  435 \n",
            "1부터 30 까지 합은  465 \n",
            "1부터 31 까지 합은  496 \n",
            "1부터 32 까지 합은  528 \n"
          ],
          "name": "stdout"
        }
      ]
    },
    {
      "cell_type": "code",
      "metadata": {
        "colab": {
          "base_uri": "https://localhost:8080/",
          "height": 50
        },
        "id": "lKgZgMsw0XJ6",
        "outputId": "bef6ad7d-87f9-4ab2-d2cf-dca848177bc3"
      },
      "source": [
        "a <- c(42,25,16,7,23,12,9)\n",
        "i <- 1\n",
        "repeat{\n",
        "    if(a[i]<mean(a)) break\n",
        "    i <- i+1\n",
        "}\n",
        "\n",
        "mean(a)\n",
        "a[i]"
      ],
      "execution_count": null,
      "outputs": [
        {
          "output_type": "display_data",
          "data": {
            "text/plain": [
              "[1] 19.14286"
            ],
            "text/latex": "19.1428571428571",
            "text/markdown": "19.1428571428571",
            "text/html": [
              "19.1428571428571"
            ]
          },
          "metadata": {
            "tags": []
          }
        },
        {
          "output_type": "display_data",
          "data": {
            "text/plain": [
              "[1] 16"
            ],
            "text/latex": "16",
            "text/markdown": "16",
            "text/html": [
              "16"
            ]
          },
          "metadata": {
            "tags": []
          }
        }
      ]
    },
    {
      "cell_type": "markdown",
      "metadata": {
        "id": "nE-uXiNW1G9o"
      },
      "source": [
        "#함수"
      ]
    },
    {
      "cell_type": "code",
      "metadata": {
        "id": "rxh5XN_01GhE"
      },
      "source": [
        ""
      ],
      "execution_count": null,
      "outputs": []
    },
    {
      "cell_type": "markdown",
      "metadata": {
        "id": "uLQAjlxDVHwv"
      },
      "source": [
        "#패키지"
      ]
    },
    {
      "cell_type": "code",
      "metadata": {
        "id": "ZZeavB4wVJHT",
        "outputId": "3f27e7e3-ed7b-4587-ba71-6fb747a565e7",
        "colab": {
          "base_uri": "https://localhost:8080/"
        }
      },
      "source": [
        "install.packages('ggplot2')"
      ],
      "execution_count": 10,
      "outputs": [
        {
          "output_type": "stream",
          "text": [
            "Installing package into ‘/usr/local/lib/R/site-library’\n",
            "(as ‘lib’ is unspecified)\n",
            "\n"
          ],
          "name": "stderr"
        }
      ]
    },
    {
      "cell_type": "code",
      "metadata": {
        "id": "nvaZwek6VQyI"
      },
      "source": [
        "library(ggplot2)"
      ],
      "execution_count": 11,
      "outputs": []
    },
    {
      "cell_type": "code",
      "metadata": {
        "id": "VFiAY7J4VSoc",
        "outputId": "4dd42c31-8c53-4dae-9c3d-d4a5e656ec5f",
        "colab": {
          "base_uri": "https://localhost:8080/",
          "height": 1000
        }
      },
      "source": [
        "installed.packages()  # 설치된 패키지 목록"
      ],
      "execution_count": 12,
      "outputs": [
        {
          "output_type": "display_data",
          "data": {
            "text/plain": [
              "            Package     LibPath                       Version  Priority   \n",
              "ggplot2     ggplot2     /usr/local/lib/R/site-library 3.3.4    NA         \n",
              "IRdisplay   IRdisplay   /usr/local/lib/R/site-library 1.0      NA         \n",
              "IRkernel    IRkernel    /usr/local/lib/R/site-library 1.2      NA         \n",
              "pbdZMQ      pbdZMQ      /usr/local/lib/R/site-library 0.3-5    NA         \n",
              "repr        repr        /usr/local/lib/R/site-library 1.1.3    NA         \n",
              "askpass     askpass     /usr/lib/R/site-library       1.1      NA         \n",
              "assertthat  assertthat  /usr/lib/R/site-library       0.2.1    NA         \n",
              "backports   backports   /usr/lib/R/site-library       1.2.1    NA         \n",
              "base64enc   base64enc   /usr/lib/R/site-library       0.1-3    NA         \n",
              "BH          BH          /usr/lib/R/site-library       1.75.0-0 NA         \n",
              "blob        blob        /usr/lib/R/site-library       1.2.1    NA         \n",
              "brew        brew        /usr/lib/R/site-library       1.0-6    NA         \n",
              "brio        brio        /usr/lib/R/site-library       1.1.2    NA         \n",
              "broom       broom       /usr/lib/R/site-library       0.7.6    NA         \n",
              "cachem      cachem      /usr/lib/R/site-library       1.0.5    NA         \n",
              "callr       callr       /usr/lib/R/site-library       3.7.0    NA         \n",
              "cellranger  cellranger  /usr/lib/R/site-library       1.1.0    NA         \n",
              "cli         cli         /usr/lib/R/site-library       2.5.0    NA         \n",
              "clipr       clipr       /usr/lib/R/site-library       0.7.1    NA         \n",
              "colorspace  colorspace  /usr/lib/R/site-library       2.0-1    NA         \n",
              "commonmark  commonmark  /usr/lib/R/site-library       1.7      NA         \n",
              "cpp11       cpp11       /usr/lib/R/site-library       0.2.7    NA         \n",
              "crayon      crayon      /usr/lib/R/site-library       1.4.1    NA         \n",
              "credentials credentials /usr/lib/R/site-library       1.3.0    NA         \n",
              "curl        curl        /usr/lib/R/site-library       4.3.1    NA         \n",
              "data.table  data.table  /usr/lib/R/site-library       1.14.0   NA         \n",
              "DBI         DBI         /usr/lib/R/site-library       1.1.1    NA         \n",
              "dbplyr      dbplyr      /usr/lib/R/site-library       2.1.1    NA         \n",
              "desc        desc        /usr/lib/R/site-library       1.3.0    NA         \n",
              "devtools    devtools    /usr/lib/R/site-library       2.4.2    NA         \n",
              "⋮           ⋮           ⋮                             ⋮        ⋮          \n",
              "zip         zip         /usr/lib/R/site-library       2.2.0    NA         \n",
              "base        base        /usr/lib/R/library            4.1.0    base       \n",
              "boot        boot        /usr/lib/R/library            1.3-28   recommended\n",
              "class       class       /usr/lib/R/library            7.3-19   recommended\n",
              "cluster     cluster     /usr/lib/R/library            2.1.2    recommended\n",
              "codetools   codetools   /usr/lib/R/library            0.2-18   recommended\n",
              "compiler    compiler    /usr/lib/R/library            4.1.0    base       \n",
              "datasets    datasets    /usr/lib/R/library            4.1.0    base       \n",
              "foreign     foreign     /usr/lib/R/library            0.8-81   recommended\n",
              "graphics    graphics    /usr/lib/R/library            4.1.0    base       \n",
              "grDevices   grDevices   /usr/lib/R/library            4.1.0    base       \n",
              "grid        grid        /usr/lib/R/library            4.1.0    base       \n",
              "KernSmooth  KernSmooth  /usr/lib/R/library            2.23-20  recommended\n",
              "lattice     lattice     /usr/lib/R/library            0.20-44  recommended\n",
              "MASS        MASS        /usr/lib/R/library            7.3-54   recommended\n",
              "Matrix      Matrix      /usr/lib/R/library            1.3-4    recommended\n",
              "methods     methods     /usr/lib/R/library            4.1.0    base       \n",
              "mgcv        mgcv        /usr/lib/R/library            1.8-36   recommended\n",
              "nlme        nlme        /usr/lib/R/library            3.1-152  recommended\n",
              "nnet        nnet        /usr/lib/R/library            7.3-16   recommended\n",
              "parallel    parallel    /usr/lib/R/library            4.1.0    base       \n",
              "rpart       rpart       /usr/lib/R/library            4.1-15   recommended\n",
              "spatial     spatial     /usr/lib/R/library            7.3-14   recommended\n",
              "splines     splines     /usr/lib/R/library            4.1.0    base       \n",
              "stats       stats       /usr/lib/R/library            4.1.0    base       \n",
              "stats4      stats4      /usr/lib/R/library            4.1.0    base       \n",
              "survival    survival    /usr/lib/R/library            3.2-11   recommended\n",
              "tcltk       tcltk       /usr/lib/R/library            4.1.0    base       \n",
              "tools       tools       /usr/lib/R/library            4.1.0    base       \n",
              "utils       utils       /usr/lib/R/library            4.1.0    base       \n",
              "            Depends                                        \n",
              "ggplot2     R (>= 3.3)                                     \n",
              "IRdisplay   R (>= 3.0.1)                                   \n",
              "IRkernel    R (>= 3.2.0)                                   \n",
              "pbdZMQ      R (>= 3.5.0)                                   \n",
              "repr        R (>= 3.0.1)                                   \n",
              "askpass     NA                                             \n",
              "assertthat  NA                                             \n",
              "backports   R (>= 3.0.0)                                   \n",
              "base64enc   R (>= 2.9.0)                                   \n",
              "BH          NA                                             \n",
              "blob        NA                                             \n",
              "brew        NA                                             \n",
              "brio        NA                                             \n",
              "broom       R (>= 3.1)                                     \n",
              "cachem      NA                                             \n",
              "callr       NA                                             \n",
              "cellranger  R (>= 3.0.0)                                   \n",
              "cli         R (>= 2.10)                                    \n",
              "clipr       NA                                             \n",
              "colorspace  R (>= 3.0.0), methods                          \n",
              "commonmark  NA                                             \n",
              "cpp11       NA                                             \n",
              "crayon      NA                                             \n",
              "credentials NA                                             \n",
              "curl        R (>= 3.0.0)                                   \n",
              "data.table  R (>= 3.1.0)                                   \n",
              "DBI         methods, R (>= 3.0.0)                          \n",
              "dbplyr      R (>= 3.1)                                     \n",
              "desc        R (>= 3.1.0)                                   \n",
              "devtools    R (>= 3.0.2), usethis (>= 2.0.1)               \n",
              "⋮           ⋮                                              \n",
              "zip         NA                                             \n",
              "base        NA                                             \n",
              "boot        R (>= 3.0.0), graphics, stats                  \n",
              "class       R (>= 3.0.0), stats, utils                     \n",
              "cluster     R (>= 3.4.0)                                   \n",
              "codetools   R (>= 2.1)                                     \n",
              "compiler    NA                                             \n",
              "datasets    NA                                             \n",
              "foreign     R (>= 4.0.0)                                   \n",
              "graphics    NA                                             \n",
              "grDevices   NA                                             \n",
              "grid        NA                                             \n",
              "KernSmooth  R (>= 2.5.0), stats                            \n",
              "lattice     R (>= 3.0.0)                                   \n",
              "MASS        R (>= 3.3.0), grDevices, graphics, stats, utils\n",
              "Matrix      R (>= 3.5.0)                                   \n",
              "methods     NA                                             \n",
              "mgcv        R (>= 3.6.0), nlme (>= 3.1-64)                 \n",
              "nlme        R (>= 3.4.0)                                   \n",
              "nnet        R (>= 3.0.0), stats, utils                     \n",
              "parallel    NA                                             \n",
              "rpart       R (>= 2.15.0), graphics, stats, grDevices      \n",
              "spatial     R (>= 3.0.0), graphics, stats, utils           \n",
              "splines     NA                                             \n",
              "stats       NA                                             \n",
              "stats4      NA                                             \n",
              "survival    R (>= 3.5.0)                                   \n",
              "tcltk       NA                                             \n",
              "tools       NA                                             \n",
              "utils       NA                                             \n",
              "            Imports                                                                                                                                                                                                                                                                                                                                                                                                          \n",
              "ggplot2     digest, glue, grDevices, grid, gtable (>= 0.1.1), isoband,\\nMASS, mgcv, rlang (>= 0.4.10), scales (>= 0.5.0), stats,\\ntibble, withr (>= 2.0.0)                                                                                                                                                                                                                                                                   \n",
              "IRdisplay   methods, repr                                                                                                                                                                                                                                                                                                                                                                                                    \n",
              "IRkernel    repr (>= 0.4.99), methods, evaluate (>= 0.10), IRdisplay (>=\\n0.3.0.9999), pbdZMQ (>= 0.2-1), crayon, jsonlite (>= 0.9.6),\\nuuid, digest                                                                                                                                                                                                                                                                         \n",
              "pbdZMQ      NA                                                                                                                                                                                                                                                                                                                                                                                                               \n",
              "repr        utils, grDevices, htmltools, jsonlite, pillar (>= 1.4.0),\\nbase64enc                                                                                                                                                                                                                                                                                                                                             \n",
              "askpass     sys (>= 2.1)                                                                                                                                                                                                                                                                                                                                                                                                     \n",
              "assertthat  tools                                                                                                                                                                                                                                                                                                                                                                                                            \n",
              "backports   NA                                                                                                                                                                                                                                                                                                                                                                                                               \n",
              "base64enc   NA                                                                                                                                                                                                                                                                                                                                                                                                               \n",
              "BH          NA                                                                                                                                                                                                                                                                                                                                                                                                               \n",
              "blob        methods, rlang, vctrs (>= 0.2.1)                                                                                                                                                                                                                                                                                                                                                                                 \n",
              "brew        NA                                                                                                                                                                                                                                                                                                                                                                                                               \n",
              "brio        NA                                                                                                                                                                                                                                                                                                                                                                                                               \n",
              "broom       backports, dplyr (>= 1.0.0), ellipsis, generics (>= 0.0.2),\\nglue, methods, purrr, rlang, stringr, tibble (>= 3.0.0), tidyr\\n(>= 1.0.0)                                                                                                                                                                                                                                                                          \n",
              "cachem      rlang, fastmap                                                                                                                                                                                                                                                                                                                                                                                                   \n",
              "callr       processx (>= 3.5.0), R6, utils                                                                                                                                                                                                                                                                                                                                                                                   \n",
              "cellranger  rematch, tibble                                                                                                                                                                                                                                                                                                                                                                                                  \n",
              "cli         glue, utils                                                                                                                                                                                                                                                                                                                                                                                                      \n",
              "clipr       utils                                                                                                                                                                                                                                                                                                                                                                                                            \n",
              "colorspace  graphics, grDevices, stats                                                                                                                                                                                                                                                                                                                                                                                       \n",
              "commonmark  NA                                                                                                                                                                                                                                                                                                                                                                                                               \n",
              "cpp11       NA                                                                                                                                                                                                                                                                                                                                                                                                               \n",
              "crayon      grDevices, methods, utils                                                                                                                                                                                                                                                                                                                                                                                        \n",
              "credentials openssl (>= 1.3), sys (>= 2.1), curl, jsonlite, askpass                                                                                                                                                                                                                                                                                                                                                          \n",
              "curl        NA                                                                                                                                                                                                                                                                                                                                                                                                               \n",
              "data.table  methods                                                                                                                                                                                                                                                                                                                                                                                                          \n",
              "DBI         NA                                                                                                                                                                                                                                                                                                                                                                                                               \n",
              "dbplyr      assertthat (>= 0.2.0), blob (>= 1.2.0), DBI (>= 1.0.0), dplyr\\n(>= 1.0.4), ellipsis, glue (>= 1.2.0), lifecycle (>= 1.0.0),\\nmagrittr, methods, purrr (>= 0.2.5), R6 (>= 2.2.2), rlang (>=\\n0.2.0), tibble (>= 1.4.2), tidyselect (>= 0.2.4), utils, vctrs,\\nwithr                                                                                                                                               \n",
              "desc        utils, R6, crayon, rprojroot                                                                                                                                                                                                                                                                                                                                                                                     \n",
              "devtools    callr (>= 3.6.0), cli (>= 2.4.0), desc (>= 1.3.0), ellipsis\\n(>= 0.3.1), fs (>= 1.5.0), httr (>= 1.4.2), lifecycle (>=\\n1.0.0), memoise (>= 2.0.0), pkgbuild (>= 1.2.0), pkgload (>=\\n1.2.1), rcmdcheck (>= 1.3.3), remotes (>= 2.3.0), rlang (>=\\n0.4.10), roxygen2 (>= 7.1.1), rstudioapi (>= 0.13), rversions\\n(>= 2.0.2), sessioninfo (>= 1.1.1), stats, testthat (>= 3.0.2),\\ntools, utils, withr (>= 2.4.1)\n",
              "⋮           ⋮                                                                                                                                                                                                                                                                                                                                                                                                                \n",
              "zip         NA                                                                                                                                                                                                                                                                                                                                                                                                               \n",
              "base        NA                                                                                                                                                                                                                                                                                                                                                                                                               \n",
              "boot        NA                                                                                                                                                                                                                                                                                                                                                                                                               \n",
              "class       MASS                                                                                                                                                                                                                                                                                                                                                                                                             \n",
              "cluster     graphics, grDevices, stats, utils                                                                                                                                                                                                                                                                                                                                                                                \n",
              "codetools   NA                                                                                                                                                                                                                                                                                                                                                                                                               \n",
              "compiler    NA                                                                                                                                                                                                                                                                                                                                                                                                               \n",
              "datasets    NA                                                                                                                                                                                                                                                                                                                                                                                                               \n",
              "foreign     methods, utils, stats                                                                                                                                                                                                                                                                                                                                                                                            \n",
              "graphics    grDevices                                                                                                                                                                                                                                                                                                                                                                                                        \n",
              "grDevices   NA                                                                                                                                                                                                                                                                                                                                                                                                               \n",
              "grid        grDevices, utils                                                                                                                                                                                                                                                                                                                                                                                                 \n",
              "KernSmooth  NA                                                                                                                                                                                                                                                                                                                                                                                                               \n",
              "lattice     grid, grDevices, graphics, stats, utils                                                                                                                                                                                                                                                                                                                                                                          \n",
              "MASS        methods                                                                                                                                                                                                                                                                                                                                                                                                          \n",
              "Matrix      methods, graphics, grid, stats, utils, lattice                                                                                                                                                                                                                                                                                                                                                                   \n",
              "methods     utils, stats                                                                                                                                                                                                                                                                                                                                                                                                     \n",
              "mgcv        methods, stats, graphics, Matrix, splines, utils                                                                                                                                                                                                                                                                                                                                                                 \n",
              "nlme        graphics, stats, utils, lattice                                                                                                                                                                                                                                                                                                                                                                                  \n",
              "nnet        NA                                                                                                                                                                                                                                                                                                                                                                                                               \n",
              "parallel    tools, compiler                                                                                                                                                                                                                                                                                                                                                                                                  \n",
              "rpart       NA                                                                                                                                                                                                                                                                                                                                                                                                               \n",
              "spatial     NA                                                                                                                                                                                                                                                                                                                                                                                                               \n",
              "splines     graphics, stats                                                                                                                                                                                                                                                                                                                                                                                                  \n",
              "stats       utils, grDevices, graphics                                                                                                                                                                                                                                                                                                                                                                                       \n",
              "stats4      graphics, methods, stats                                                                                                                                                                                                                                                                                                                                                                                         \n",
              "survival    graphics, Matrix, methods, splines, stats, utils                                                                                                                                                                                                                                                                                                                                                                 \n",
              "tcltk       utils                                                                                                                                                                                                                                                                                                                                                                                                            \n",
              "tools       NA                                                                                                                                                                                                                                                                                                                                                                                                               \n",
              "utils       NA                                                                                                                                                                                                                                                                                                                                                                                                               \n",
              "            LinkingTo\n",
              "ggplot2     NA       \n",
              "IRdisplay   NA       \n",
              "IRkernel    NA       \n",
              "pbdZMQ      NA       \n",
              "repr        NA       \n",
              "askpass     NA       \n",
              "assertthat  NA       \n",
              "backports   NA       \n",
              "base64enc   NA       \n",
              "BH          NA       \n",
              "blob        NA       \n",
              "brew        NA       \n",
              "brio        NA       \n",
              "broom       NA       \n",
              "cachem      NA       \n",
              "callr       NA       \n",
              "cellranger  NA       \n",
              "cli         NA       \n",
              "clipr       NA       \n",
              "colorspace  NA       \n",
              "commonmark  NA       \n",
              "cpp11       NA       \n",
              "crayon      NA       \n",
              "credentials NA       \n",
              "curl        NA       \n",
              "data.table  NA       \n",
              "DBI         NA       \n",
              "dbplyr      NA       \n",
              "desc        NA       \n",
              "devtools    NA       \n",
              "⋮           ⋮        \n",
              "zip         NA       \n",
              "base        NA       \n",
              "boot        NA       \n",
              "class       NA       \n",
              "cluster     NA       \n",
              "codetools   NA       \n",
              "compiler    NA       \n",
              "datasets    NA       \n",
              "foreign     NA       \n",
              "graphics    NA       \n",
              "grDevices   NA       \n",
              "grid        NA       \n",
              "KernSmooth  NA       \n",
              "lattice     NA       \n",
              "MASS        NA       \n",
              "Matrix      NA       \n",
              "methods     NA       \n",
              "mgcv        NA       \n",
              "nlme        NA       \n",
              "nnet        NA       \n",
              "parallel    NA       \n",
              "rpart       NA       \n",
              "spatial     NA       \n",
              "splines     NA       \n",
              "stats       NA       \n",
              "stats4      NA       \n",
              "survival    NA       \n",
              "tcltk       NA       \n",
              "tools       NA       \n",
              "utils       NA       \n",
              "            Suggests                                                                                                                                                                                                                                                                                                                                                                                                                                                                                                                                                                                                                                                                                                                                                               \n",
              "ggplot2     covr, ragg, dplyr, ggplot2movies, hexbin, Hmisc, interp,\\nknitr, lattice, mapproj, maps, maptools, multcomp, munsell,\\nnlme, profvis, quantreg, RColorBrewer, rgeos, rmarkdown, rpart,\\nsf (>= 0.7-3), svglite (>= 1.2.0.9001), testthat (>= 2.1.0),\\nvdiffr (>= 0.3.0), xml2                                                                                                                                                                                                                                                                                                                                                                                                                                                                                          \n",
              "IRdisplay   testthat, withr                                                                                                                                                                                                                                                                                                                                                                                                                                                                                                                                                                                                                                                                                                                                                        \n",
              "IRkernel    testthat, roxygen2                                                                                                                                                                                                                                                                                                                                                                                                                                                                                                                                                                                                                                                                                                                                                     \n",
              "pbdZMQ      NA                                                                                                                                                                                                                                                                                                                                                                                                                                                                                                                                                                                                                                                                                                                                                                     \n",
              "repr        methods, highr, Cairo, stringr, testthat (>= 3.0.0), leaflet                                                                                                                                                                                                                                                                                                                                                                                                                                                                                                                                                                                                                                                                                                           \n",
              "askpass     testthat                                                                                                                                                                                                                                                                                                                                                                                                                                                                                                                                                                                                                                                                                                                                                               \n",
              "assertthat  testthat, covr                                                                                                                                                                                                                                                                                                                                                                                                                                                                                                                                                                                                                                                                                                                                                         \n",
              "backports   NA                                                                                                                                                                                                                                                                                                                                                                                                                                                                                                                                                                                                                                                                                                                                                                     \n",
              "base64enc   NA                                                                                                                                                                                                                                                                                                                                                                                                                                                                                                                                                                                                                                                                                                                                                                     \n",
              "BH          NA                                                                                                                                                                                                                                                                                                                                                                                                                                                                                                                                                                                                                                                                                                                                                                     \n",
              "blob        covr, crayon, pillar (>= 1.2.1), testthat                                                                                                                                                                                                                                                                                                                                                                                                                                                                                                                                                                                                                                                                                                                              \n",
              "brew        NA                                                                                                                                                                                                                                                                                                                                                                                                                                                                                                                                                                                                                                                                                                                                                                     \n",
              "brio        testthat (>= 2.1.0), covr                                                                                                                                                                                                                                                                                                                                                                                                                                                                                                                                                                                                                                                                                                                                              \n",
              "broom       AER, akima, AUC, bbmle, betareg, biglm, binGroup, boot,\\nbtergm, car, caret, cluster, cmprsk, coda, covr, drc, e1071,\\nemmeans, epiR, ergm (>= 3.10.4), fixest (>= 0.8.1), gam (>=\\n1.15), gee, geepack, ggplot2, glmnet, glmnetUtils, gmm, Hmisc,\\nirlba, joineRML, Kendall, knitr, ks, Lahman, lavaan, leaps,\\nlfe, lm.beta, lme4, lmodel2, lmtest (>= 0.9.38), lsmeans, maps,\\nmaptools, margins, MASS, Matrix, mclust, mediation, metafor,\\nmfx, mgcv, mlogit, modeldata, modeltests, muhaz, multcomp,\\nnetwork, nnet, orcutt (>= 2.2), ordinal, plm, poLCA, psych,\\nquantreg, Rchoice, rgeos, rmarkdown, robust, robustbase,\\nrsample, sandwich, sp, spdep, spatialreg, speedglm, spelling,\\nsurvey, survival, systemfit, testthat (>= 2.1.0), tseries,\\nvars, zoo\n",
              "cachem      testthat                                                                                                                                                                                                                                                                                                                                                                                                                                                                                                                                                                                                                                                                                                                                                               \n",
              "callr       cli, covr, ps, rprojroot, spelling, testthat, withr (>=\\n2.3.0)                                                                                                                                                                                                                                                                                                                                                                                                                                                                                                                                                                                                                                                                                                        \n",
              "cellranger  covr, testthat (>= 1.0.0), knitr, rmarkdown                                                                                                                                                                                                                                                                                                                                                                                                                                                                                                                                                                                                                                                                                                                            \n",
              "cli         callr, covr, grDevices, htmlwidgets, knitr, methods, mockery,\\nps (>= 1.3.4.9000), rmarkdown, rstudioapi, prettycode (>=\\n1.1.0), testthat, tibble, withr                                                                                                                                                                                                                                                                                                                                                                                                                                                                                                                                                                                                              \n",
              "clipr       covr, knitr, rmarkdown, rstudioapi (>= 0.5), testthat (>=\\n2.0.0)                                                                                                                                                                                                                                                                                                                                                                                                                                                                                                                                                                                                                                                                                                      \n",
              "colorspace  datasets, utils, KernSmooth, MASS, kernlab, mvtnorm, vcd,\\ntcltk, shiny, shinyjs, ggplot2, dplyr, scales, grid, png, jpeg,\\nknitr, rmarkdown, RColorBrewer, rcartocolor, scico, viridis,\\nwesanderson                                                                                                                                                                                                                                                                                                                                                                                                                                                                                                                                                                  \n",
              "commonmark  curl, testthat, xml2                                                                                                                                                                                                                                                                                                                                                                                                                                                                                                                                                                                                                                                                                                                                                   \n",
              "cpp11       bench, brio, callr, cli, covr, decor, desc, ggplot2, glue,\\nknitr, lobstr, mockery, progress, rmarkdown, scales, testthat,\\ntibble, utils, vctrs, withr                                                                                                                                                                                                                                                                                                                                                                                                                                                                                                                                                                                                                \n",
              "crayon      mockery, rstudioapi, testthat, withr                                                                                                                                                                                                                                                                                                                                                                                                                                                                                                                                                                                                                                                                                                                                   \n",
              "credentials testthat, knitr, rmarkdown                                                                                                                                                                                                                                                                                                                                                                                                                                                                                                                                                                                                                                                                                                                                             \n",
              "curl        spelling, testthat (>= 1.0.0), knitr, jsonlite, rmarkdown,\\nmagrittr, httpuv (>= 1.4.4), webutils                                                                                                                                                                                                                                                                                                                                                                                                                                                                                                                                                                                                                                                                      \n",
              "data.table  bit64 (>= 4.0.0), bit (>= 4.0.4), curl, R.utils, xts,\\nnanotime, zoo (>= 1.8-1), yaml, knitr, rmarkdown                                                                                                                                                                                                                                                                                                                                                                                                                                                                                                                                                                                                                                                                \n",
              "DBI         blob, covr, dbplyr, dplyr, glue, hms, knitr, magrittr,\\nrmarkdown, rprojroot, RMariaDB, RSQLite (>= 1.1-2), testthat,\\nxml2                                                                                                                                                                                                                                                                                                                                                                                                                                                                                                                                                                                                                                            \n",
              "dbplyr      bit64, covr, knitr, Lahman, nycflights13, odbc, RMariaDB (>=\\n1.0.2), rmarkdown, RPostgres (>= 1.1.3), RPostgreSQL, RSQLite\\n(>= 2.1.0), testthat (>= 3.0.2), tidyr                                                                                                                                                                                                                                                                                                                                                                                                                                                                                                                                                                                                    \n",
              "desc        covr, testthat, whoami, withr, spelling, gh                                                                                                                                                                                                                                                                                                                                                                                                                                                                                                                                                                                                                                                                                                                            \n",
              "devtools    BiocManager (>= 1.30.12), covr (>= 3.5.1), curl (>= 4.3),\\ndigest (>= 0.6.27), DT (>= 0.17), foghorn (>= 1.3.2), gh (>=\\n1.2.1), gmailr (>= 1.0.0), knitr (>= 1.31), lintr (>= 2.0.1),\\nMASS, mockery (>= 0.4.2), pingr (>= 2.0.1), pkgdown (>= 1.6.1),\\nrhub (>= 1.1.1), rmarkdown (>= 2.7), spelling (>= 2.2)                                                                                                                                                                                                                                                                                                                                                                                                                                                        \n",
              "⋮           ⋮                                                                                                                                                                                                                                                                                                                                                                                                                                                                                                                                                                                                                                                                                                                                                                      \n",
              "zip         covr, processx, R6, testthat, withr                                                                                                                                                                                                                                                                                                                                                                                                                                                                                                                                                                                                                                                                                                                                    \n",
              "base        methods                                                                                                                                                                                                                                                                                                                                                                                                                                                                                                                                                                                                                                                                                                                                                                \n",
              "boot        MASS, survival                                                                                                                                                                                                                                                                                                                                                                                                                                                                                                                                                                                                                                                                                                                                                         \n",
              "class       NA                                                                                                                                                                                                                                                                                                                                                                                                                                                                                                                                                                                                                                                                                                                                                                     \n",
              "cluster     MASS, Matrix                                                                                                                                                                                                                                                                                                                                                                                                                                                                                                                                                                                                                                                                                                                                                           \n",
              "codetools   NA                                                                                                                                                                                                                                                                                                                                                                                                                                                                                                                                                                                                                                                                                                                                                                     \n",
              "compiler    NA                                                                                                                                                                                                                                                                                                                                                                                                                                                                                                                                                                                                                                                                                                                                                                     \n",
              "datasets    NA                                                                                                                                                                                                                                                                                                                                                                                                                                                                                                                                                                                                                                                                                                                                                                     \n",
              "foreign     NA                                                                                                                                                                                                                                                                                                                                                                                                                                                                                                                                                                                                                                                                                                                                                                     \n",
              "graphics    NA                                                                                                                                                                                                                                                                                                                                                                                                                                                                                                                                                                                                                                                                                                                                                                     \n",
              "grDevices   KernSmooth                                                                                                                                                                                                                                                                                                                                                                                                                                                                                                                                                                                                                                                                                                                                                             \n",
              "grid        lattice                                                                                                                                                                                                                                                                                                                                                                                                                                                                                                                                                                                                                                                                                                                                                                \n",
              "KernSmooth  MASS, carData                                                                                                                                                                                                                                                                                                                                                                                                                                                                                                                                                                                                                                                                                                                                                          \n",
              "lattice     KernSmooth, MASS, latticeExtra                                                                                                                                                                                                                                                                                                                                                                                                                                                                                                                                                                                                                                                                                                                                         \n",
              "MASS        lattice, nlme, nnet, survival                                                                                                                                                                                                                                                                                                                                                                                                                                                                                                                                                                                                                                                                                                                                          \n",
              "Matrix      expm, MASS                                                                                                                                                                                                                                                                                                                                                                                                                                                                                                                                                                                                                                                                                                                                                             \n",
              "methods     codetools                                                                                                                                                                                                                                                                                                                                                                                                                                                                                                                                                                                                                                                                                                                                                              \n",
              "mgcv        parallel, survival, MASS                                                                                                                                                                                                                                                                                                                                                                                                                                                                                                                                                                                                                                                                                                                                               \n",
              "nlme        Hmisc, MASS                                                                                                                                                                                                                                                                                                                                                                                                                                                                                                                                                                                                                                                                                                                                                            \n",
              "nnet        MASS                                                                                                                                                                                                                                                                                                                                                                                                                                                                                                                                                                                                                                                                                                                                                                   \n",
              "parallel    methods                                                                                                                                                                                                                                                                                                                                                                                                                                                                                                                                                                                                                                                                                                                                                                \n",
              "rpart       survival                                                                                                                                                                                                                                                                                                                                                                                                                                                                                                                                                                                                                                                                                                                                                               \n",
              "spatial     MASS                                                                                                                                                                                                                                                                                                                                                                                                                                                                                                                                                                                                                                                                                                                                                                   \n",
              "splines     Matrix, methods                                                                                                                                                                                                                                                                                                                                                                                                                                                                                                                                                                                                                                                                                                                                                        \n",
              "stats       MASS, Matrix, SuppDists, methods, stats4                                                                                                                                                                                                                                                                                                                                                                                                                                                                                                                                                                                                                                                                                                                               \n",
              "stats4      NA                                                                                                                                                                                                                                                                                                                                                                                                                                                                                                                                                                                                                                                                                                                                                                     \n",
              "survival    NA                                                                                                                                                                                                                                                                                                                                                                                                                                                                                                                                                                                                                                                                                                                                                                     \n",
              "tcltk       NA                                                                                                                                                                                                                                                                                                                                                                                                                                                                                                                                                                                                                                                                                                                                                                     \n",
              "tools       codetools, methods, xml2, curl, commonmark                                                                                                                                                                                                                                                                                                                                                                                                                                                                                                                                                                                                                                                                                                                             \n",
              "utils       methods, xml2, commonmark                                                                                                                                                                                                                                                                                                                                                                                                                                                                                                                                                                                                                                                                                                                                              \n",
              "            Enhances                                                           \n",
              "ggplot2     sp                                                                 \n",
              "IRdisplay   NA                                                                 \n",
              "IRkernel    NA                                                                 \n",
              "pbdZMQ      NA                                                                 \n",
              "repr        data.table, tibble, htmlwidgets, vegalite, plotly, geojsonio       \n",
              "askpass     NA                                                                 \n",
              "assertthat  NA                                                                 \n",
              "backports   NA                                                                 \n",
              "base64enc   png                                                                \n",
              "BH          NA                                                                 \n",
              "blob        NA                                                                 \n",
              "brew        NA                                                                 \n",
              "brio        NA                                                                 \n",
              "broom       NA                                                                 \n",
              "cachem      NA                                                                 \n",
              "callr       NA                                                                 \n",
              "cellranger  NA                                                                 \n",
              "cli         NA                                                                 \n",
              "clipr       NA                                                                 \n",
              "colorspace  NA                                                                 \n",
              "commonmark  NA                                                                 \n",
              "cpp11       NA                                                                 \n",
              "crayon      NA                                                                 \n",
              "credentials NA                                                                 \n",
              "curl        NA                                                                 \n",
              "data.table  NA                                                                 \n",
              "DBI         NA                                                                 \n",
              "dbplyr      NA                                                                 \n",
              "desc        NA                                                                 \n",
              "devtools    NA                                                                 \n",
              "⋮           ⋮                                                                  \n",
              "zip         NA                                                                 \n",
              "base        NA                                                                 \n",
              "boot        NA                                                                 \n",
              "class       NA                                                                 \n",
              "cluster     NA                                                                 \n",
              "codetools   NA                                                                 \n",
              "compiler    NA                                                                 \n",
              "datasets    NA                                                                 \n",
              "foreign     NA                                                                 \n",
              "graphics    NA                                                                 \n",
              "grDevices   NA                                                                 \n",
              "grid        NA                                                                 \n",
              "KernSmooth  NA                                                                 \n",
              "lattice     chron                                                              \n",
              "MASS        NA                                                                 \n",
              "Matrix      MatrixModels, graph, SparseM, sfsmisc, igraph, maptools, sp,\\nspdep\n",
              "methods     NA                                                                 \n",
              "mgcv        NA                                                                 \n",
              "nlme        NA                                                                 \n",
              "nnet        NA                                                                 \n",
              "parallel    snow, nws, Rmpi                                                    \n",
              "rpart       NA                                                                 \n",
              "spatial     NA                                                                 \n",
              "splines     NA                                                                 \n",
              "stats       NA                                                                 \n",
              "stats4      NA                                                                 \n",
              "survival    NA                                                                 \n",
              "tcltk       NA                                                                 \n",
              "tools       NA                                                                 \n",
              "utils       NA                                                                 \n",
              "            License                     License_is_FOSS License_restricts_use\n",
              "ggplot2     MIT + file LICENSE          NA              NA                   \n",
              "IRdisplay   MIT + file LICENSE          NA              NA                   \n",
              "IRkernel    MIT + file LICENSE          NA              NA                   \n",
              "pbdZMQ      GPL-3                       NA              NA                   \n",
              "repr        GPL-3                       NA              NA                   \n",
              "askpass     MIT + file LICENSE          NA              NA                   \n",
              "assertthat  GPL-3                       NA              NA                   \n",
              "backports   GPL-2 | GPL-3               NA              NA                   \n",
              "base64enc   GPL-2 | GPL-3               NA              NA                   \n",
              "BH          BSL-1.0                     NA              NA                   \n",
              "blob        GPL-3                       NA              NA                   \n",
              "brew        GPL-2                       NA              NA                   \n",
              "brio        MIT + file LICENSE          NA              NA                   \n",
              "broom       MIT + file LICENSE          NA              NA                   \n",
              "cachem      MIT + file LICENSE          NA              NA                   \n",
              "callr       MIT + file LICENSE          NA              NA                   \n",
              "cellranger  MIT + file LICENSE          NA              NA                   \n",
              "cli         MIT + file LICENSE          NA              NA                   \n",
              "clipr       GPL-3                       NA              NA                   \n",
              "colorspace  BSD_3_clause + file LICENSE NA              NA                   \n",
              "commonmark  BSD_2_clause + file LICENSE NA              NA                   \n",
              "cpp11       MIT + file LICENSE          NA              NA                   \n",
              "crayon      MIT + file LICENSE          NA              NA                   \n",
              "credentials MIT + file LICENSE          NA              NA                   \n",
              "curl        MIT + file LICENSE          NA              NA                   \n",
              "data.table  MPL-2.0 | file LICENSE      NA              NA                   \n",
              "DBI         LGPL (>= 2.1)               NA              NA                   \n",
              "dbplyr      MIT + file LICENSE          NA              NA                   \n",
              "desc        MIT + file LICENSE          NA              NA                   \n",
              "devtools    MIT + file LICENSE          NA              NA                   \n",
              "⋮           ⋮                           ⋮               ⋮                    \n",
              "zip         MIT + file LICENSE          NA              NA                   \n",
              "base        Part of R 4.1.0             NA              NA                   \n",
              "boot        Unlimited                   NA              NA                   \n",
              "class       GPL-2 | GPL-3               NA              NA                   \n",
              "cluster     GPL (>= 2)                  NA              NA                   \n",
              "codetools   GPL                         NA              NA                   \n",
              "compiler    Part of R 4.1.0             NA              NA                   \n",
              "datasets    Part of R 4.1.0             NA              NA                   \n",
              "foreign     GPL (>= 2)                  NA              NA                   \n",
              "graphics    Part of R 4.1.0             NA              NA                   \n",
              "grDevices   Part of R 4.1.0             NA              NA                   \n",
              "grid        Part of R 4.1.0             NA              NA                   \n",
              "KernSmooth  Unlimited                   NA              NA                   \n",
              "lattice     GPL (>= 2)                  NA              NA                   \n",
              "MASS        GPL-2 | GPL-3               NA              NA                   \n",
              "Matrix      GPL (>= 2) | file LICENCE   NA              NA                   \n",
              "methods     Part of R 4.1.0             NA              NA                   \n",
              "mgcv        GPL (>= 2)                  NA              NA                   \n",
              "nlme        GPL (>= 2) | file LICENCE   NA              NA                   \n",
              "nnet        GPL-2 | GPL-3               NA              NA                   \n",
              "parallel    Part of R 4.1.0             NA              NA                   \n",
              "rpart       GPL-2 | GPL-3               NA              NA                   \n",
              "spatial     GPL-2 | GPL-3               NA              NA                   \n",
              "splines     Part of R 4.1.0             NA              NA                   \n",
              "stats       Part of R 4.1.0             NA              NA                   \n",
              "stats4      Part of R 4.1.0             NA              NA                   \n",
              "survival    LGPL (>= 2)                 NA              NA                   \n",
              "tcltk       Part of R 4.1.0             NA              NA                   \n",
              "tools       Part of R 4.1.0             NA              NA                   \n",
              "utils       Part of R 4.1.0             NA              NA                   \n",
              "            OS_type MD5sum NeedsCompilation Built\n",
              "ggplot2     NA      NA     no               4.1.0\n",
              "IRdisplay   NA      NA     no               4.1.0\n",
              "IRkernel    NA      NA     no               4.1.0\n",
              "pbdZMQ      NA      NA     yes              4.1.0\n",
              "repr        NA      NA     no               4.1.0\n",
              "askpass     NA      NA     yes              4.0.0\n",
              "assertthat  NA      NA     no               4.0.0\n",
              "backports   NA      NA     yes              4.0.3\n",
              "base64enc   NA      NA     yes              4.0.0\n",
              "BH          NA      NA     no               4.0.3\n",
              "blob        NA      NA     no               4.0.0\n",
              "brew        NA      NA     NA               4.0.0\n",
              "brio        NA      NA     yes              4.0.5\n",
              "broom       NA      NA     no               4.0.5\n",
              "cachem      NA      NA     yes              4.0.5\n",
              "callr       NA      NA     no               4.0.5\n",
              "cellranger  NA      NA     no               4.0.0\n",
              "cli         NA      NA     no               4.0.5\n",
              "clipr       NA      NA     no               4.0.2\n",
              "colorspace  NA      NA     yes              4.0.5\n",
              "commonmark  NA      NA     yes              4.0.0\n",
              "cpp11       NA      NA     no               4.0.4\n",
              "crayon      NA      NA     no               4.0.3\n",
              "credentials NA      NA     no               4.0.2\n",
              "curl        NA      NA     yes              4.0.5\n",
              "data.table  NA      NA     yes              4.0.4\n",
              "DBI         NA      NA     no               4.0.3\n",
              "dbplyr      NA      NA     no               4.0.5\n",
              "desc        NA      NA     no               4.0.4\n",
              "devtools    NA      NA     no               4.1.0\n",
              "⋮           ⋮       ⋮      ⋮                ⋮    \n",
              "zip         NA      NA     yes              4.1.0\n",
              "base        NA      NA     NA               4.1.0\n",
              "boot        NA      NA     no               4.0.5\n",
              "class       NA      NA     yes              4.0.5\n",
              "cluster     NA      NA     yes              4.0.5\n",
              "codetools   NA      NA     no               4.0.3\n",
              "compiler    NA      NA     NA               4.1.0\n",
              "datasets    NA      NA     NA               4.1.0\n",
              "foreign     NA      NA     yes              4.0.3\n",
              "graphics    NA      NA     yes              4.1.0\n",
              "grDevices   NA      NA     yes              4.1.0\n",
              "grid        NA      NA     yes              4.1.0\n",
              "KernSmooth  NA      NA     yes              4.0.5\n",
              "lattice     NA      NA     yes              4.1.0\n",
              "MASS        NA      NA     yes              4.0.5\n",
              "Matrix      NA      NA     yes              4.1.0\n",
              "methods     NA      NA     yes              4.1.0\n",
              "mgcv        NA      NA     yes              4.1.0\n",
              "nlme        NA      NA     yes              4.0.3\n",
              "nnet        NA      NA     yes              4.0.5\n",
              "parallel    NA      NA     yes              4.1.0\n",
              "rpart       NA      NA     yes              4.0.0\n",
              "spatial     NA      NA     yes              4.0.5\n",
              "splines     NA      NA     yes              4.1.0\n",
              "stats       NA      NA     yes              4.1.0\n",
              "stats4      NA      NA     NA               4.1.0\n",
              "survival    NA      NA     yes              4.0.5\n",
              "tcltk       NA      NA     yes              4.1.0\n",
              "tools       NA      NA     yes              4.1.0\n",
              "utils       NA      NA     yes              4.1.0"
            ],
            "text/latex": "A matrix: 155 × 16 of type chr\n\\begin{tabular}{r|llllllllllllllll}\n  & Package & LibPath & Version & Priority & Depends & Imports & LinkingTo & Suggests & Enhances & License & License\\_is\\_FOSS & License\\_restricts\\_use & OS\\_type & MD5sum & NeedsCompilation & Built\\\\\n\\hline\n\tggplot2 & ggplot2     & /usr/local/lib/R/site-library & 3.3.4    & NA & R (>= 3.3)                       & digest, glue, grDevices, grid, gtable (>= 0.1.1), isoband,\nMASS, mgcv, rlang (>= 0.4.10), scales (>= 0.5.0), stats,\ntibble, withr (>= 2.0.0)                                                                                                                                                                                                                                                                    & NA & covr, ragg, dplyr, ggplot2movies, hexbin, Hmisc, interp,\nknitr, lattice, mapproj, maps, maptools, multcomp, munsell,\nnlme, profvis, quantreg, RColorBrewer, rgeos, rmarkdown, rpart,\nsf (>= 0.7-3), svglite (>= 1.2.0.9001), testthat (>= 2.1.0),\nvdiffr (>= 0.3.0), xml2                                                                                                                                                                                                                                                                                                                                                                                                                                                                                           & sp                                                           & MIT + file LICENSE          & NA & NA & NA & NA & no  & 4.1.0\\\\\n\tIRdisplay & IRdisplay   & /usr/local/lib/R/site-library & 1.0      & NA & R (>= 3.0.1)                     & methods, repr                                                                                                                                                                                                                                                                                                                                                                                                     & NA & testthat, withr                                                                                                                                                                                                                                                                                                                                                                                                                                                                                                                                                                                                                                                                                                                                                         & NA                                                           & MIT + file LICENSE          & NA & NA & NA & NA & no  & 4.1.0\\\\\n\tIRkernel & IRkernel    & /usr/local/lib/R/site-library & 1.2      & NA & R (>= 3.2.0)                     & repr (>= 0.4.99), methods, evaluate (>= 0.10), IRdisplay (>=\n0.3.0.9999), pbdZMQ (>= 0.2-1), crayon, jsonlite (>= 0.9.6),\nuuid, digest                                                                                                                                                                                                                                                                          & NA & testthat, roxygen2                                                                                                                                                                                                                                                                                                                                                                                                                                                                                                                                                                                                                                                                                                                                                      & NA                                                           & MIT + file LICENSE          & NA & NA & NA & NA & no  & 4.1.0\\\\\n\tpbdZMQ & pbdZMQ      & /usr/local/lib/R/site-library & 0.3-5    & NA & R (>= 3.5.0)                     & NA                                                                                                                                                                                                                                                                                                                                                                                                                & NA & NA                                                                                                                                                                                                                                                                                                                                                                                                                                                                                                                                                                                                                                                                                                                                                                      & NA                                                           & GPL-3                       & NA & NA & NA & NA & yes & 4.1.0\\\\\n\trepr & repr        & /usr/local/lib/R/site-library & 1.1.3    & NA & R (>= 3.0.1)                     & utils, grDevices, htmltools, jsonlite, pillar (>= 1.4.0),\nbase64enc                                                                                                                                                                                                                                                                                                                                              & NA & methods, highr, Cairo, stringr, testthat (>= 3.0.0), leaflet                                                                                                                                                                                                                                                                                                                                                                                                                                                                                                                                                                                                                                                                                                            & data.table, tibble, htmlwidgets, vegalite, plotly, geojsonio & GPL-3                       & NA & NA & NA & NA & no  & 4.1.0\\\\\n\taskpass & askpass     & /usr/lib/R/site-library       & 1.1      & NA & NA                               & sys (>= 2.1)                                                                                                                                                                                                                                                                                                                                                                                                      & NA & testthat                                                                                                                                                                                                                                                                                                                                                                                                                                                                                                                                                                                                                                                                                                                                                                & NA                                                           & MIT + file LICENSE          & NA & NA & NA & NA & yes & 4.0.0\\\\\n\tassertthat & assertthat  & /usr/lib/R/site-library       & 0.2.1    & NA & NA                               & tools                                                                                                                                                                                                                                                                                                                                                                                                             & NA & testthat, covr                                                                                                                                                                                                                                                                                                                                                                                                                                                                                                                                                                                                                                                                                                                                                          & NA                                                           & GPL-3                       & NA & NA & NA & NA & no  & 4.0.0\\\\\n\tbackports & backports   & /usr/lib/R/site-library       & 1.2.1    & NA & R (>= 3.0.0)                     & NA                                                                                                                                                                                                                                                                                                                                                                                                                & NA & NA                                                                                                                                                                                                                                                                                                                                                                                                                                                                                                                                                                                                                                                                                                                                                                      & NA                                                           & GPL-2 \\textbar{} GPL-3               & NA & NA & NA & NA & yes & 4.0.3\\\\\n\tbase64enc & base64enc   & /usr/lib/R/site-library       & 0.1-3    & NA & R (>= 2.9.0)                     & NA                                                                                                                                                                                                                                                                                                                                                                                                                & NA & NA                                                                                                                                                                                                                                                                                                                                                                                                                                                                                                                                                                                                                                                                                                                                                                      & png                                                          & GPL-2 \\textbar{} GPL-3               & NA & NA & NA & NA & yes & 4.0.0\\\\\n\tBH & BH          & /usr/lib/R/site-library       & 1.75.0-0 & NA & NA                               & NA                                                                                                                                                                                                                                                                                                                                                                                                                & NA & NA                                                                                                                                                                                                                                                                                                                                                                                                                                                                                                                                                                                                                                                                                                                                                                      & NA                                                           & BSL-1.0                     & NA & NA & NA & NA & no  & 4.0.3\\\\\n\tblob & blob        & /usr/lib/R/site-library       & 1.2.1    & NA & NA                               & methods, rlang, vctrs (>= 0.2.1)                                                                                                                                                                                                                                                                                                                                                                                  & NA & covr, crayon, pillar (>= 1.2.1), testthat                                                                                                                                                                                                                                                                                                                                                                                                                                                                                                                                                                                                                                                                                                                               & NA                                                           & GPL-3                       & NA & NA & NA & NA & no  & 4.0.0\\\\\n\tbrew & brew        & /usr/lib/R/site-library       & 1.0-6    & NA & NA                               & NA                                                                                                                                                                                                                                                                                                                                                                                                                & NA & NA                                                                                                                                                                                                                                                                                                                                                                                                                                                                                                                                                                                                                                                                                                                                                                      & NA                                                           & GPL-2                       & NA & NA & NA & NA & NA  & 4.0.0\\\\\n\tbrio & brio        & /usr/lib/R/site-library       & 1.1.2    & NA & NA                               & NA                                                                                                                                                                                                                                                                                                                                                                                                                & NA & testthat (>= 2.1.0), covr                                                                                                                                                                                                                                                                                                                                                                                                                                                                                                                                                                                                                                                                                                                                               & NA                                                           & MIT + file LICENSE          & NA & NA & NA & NA & yes & 4.0.5\\\\\n\tbroom & broom       & /usr/lib/R/site-library       & 0.7.6    & NA & R (>= 3.1)                       & backports, dplyr (>= 1.0.0), ellipsis, generics (>= 0.0.2),\nglue, methods, purrr, rlang, stringr, tibble (>= 3.0.0), tidyr\n(>= 1.0.0)                                                                                                                                                                                                                                                                           & NA & AER, akima, AUC, bbmle, betareg, biglm, binGroup, boot,\nbtergm, car, caret, cluster, cmprsk, coda, covr, drc, e1071,\nemmeans, epiR, ergm (>= 3.10.4), fixest (>= 0.8.1), gam (>=\n1.15), gee, geepack, ggplot2, glmnet, glmnetUtils, gmm, Hmisc,\nirlba, joineRML, Kendall, knitr, ks, Lahman, lavaan, leaps,\nlfe, lm.beta, lme4, lmodel2, lmtest (>= 0.9.38), lsmeans, maps,\nmaptools, margins, MASS, Matrix, mclust, mediation, metafor,\nmfx, mgcv, mlogit, modeldata, modeltests, muhaz, multcomp,\nnetwork, nnet, orcutt (>= 2.2), ordinal, plm, poLCA, psych,\nquantreg, Rchoice, rgeos, rmarkdown, robust, robustbase,\nrsample, sandwich, sp, spdep, spatialreg, speedglm, spelling,\nsurvey, survival, systemfit, testthat (>= 2.1.0), tseries,\nvars, zoo & NA                                                           & MIT + file LICENSE          & NA & NA & NA & NA & no  & 4.0.5\\\\\n\tcachem & cachem      & /usr/lib/R/site-library       & 1.0.5    & NA & NA                               & rlang, fastmap                                                                                                                                                                                                                                                                                                                                                                                                    & NA & testthat                                                                                                                                                                                                                                                                                                                                                                                                                                                                                                                                                                                                                                                                                                                                                                & NA                                                           & MIT + file LICENSE          & NA & NA & NA & NA & yes & 4.0.5\\\\\n\tcallr & callr       & /usr/lib/R/site-library       & 3.7.0    & NA & NA                               & processx (>= 3.5.0), R6, utils                                                                                                                                                                                                                                                                                                                                                                                    & NA & cli, covr, ps, rprojroot, spelling, testthat, withr (>=\n2.3.0)                                                                                                                                                                                                                                                                                                                                                                                                                                                                                                                                                                                                                                                                                                         & NA                                                           & MIT + file LICENSE          & NA & NA & NA & NA & no  & 4.0.5\\\\\n\tcellranger & cellranger  & /usr/lib/R/site-library       & 1.1.0    & NA & R (>= 3.0.0)                     & rematch, tibble                                                                                                                                                                                                                                                                                                                                                                                                   & NA & covr, testthat (>= 1.0.0), knitr, rmarkdown                                                                                                                                                                                                                                                                                                                                                                                                                                                                                                                                                                                                                                                                                                                             & NA                                                           & MIT + file LICENSE          & NA & NA & NA & NA & no  & 4.0.0\\\\\n\tcli & cli         & /usr/lib/R/site-library       & 2.5.0    & NA & R (>= 2.10)                      & glue, utils                                                                                                                                                                                                                                                                                                                                                                                                       & NA & callr, covr, grDevices, htmlwidgets, knitr, methods, mockery,\nps (>= 1.3.4.9000), rmarkdown, rstudioapi, prettycode (>=\n1.1.0), testthat, tibble, withr                                                                                                                                                                                                                                                                                                                                                                                                                                                                                                                                                                                                               & NA                                                           & MIT + file LICENSE          & NA & NA & NA & NA & no  & 4.0.5\\\\\n\tclipr & clipr       & /usr/lib/R/site-library       & 0.7.1    & NA & NA                               & utils                                                                                                                                                                                                                                                                                                                                                                                                             & NA & covr, knitr, rmarkdown, rstudioapi (>= 0.5), testthat (>=\n2.0.0)                                                                                                                                                                                                                                                                                                                                                                                                                                                                                                                                                                                                                                                                                                       & NA                                                           & GPL-3                       & NA & NA & NA & NA & no  & 4.0.2\\\\\n\tcolorspace & colorspace  & /usr/lib/R/site-library       & 2.0-1    & NA & R (>= 3.0.0), methods            & graphics, grDevices, stats                                                                                                                                                                                                                                                                                                                                                                                        & NA & datasets, utils, KernSmooth, MASS, kernlab, mvtnorm, vcd,\ntcltk, shiny, shinyjs, ggplot2, dplyr, scales, grid, png, jpeg,\nknitr, rmarkdown, RColorBrewer, rcartocolor, scico, viridis,\nwesanderson                                                                                                                                                                                                                                                                                                                                                                                                                                                                                                                                                                   & NA                                                           & BSD\\_3\\_clause + file LICENSE & NA & NA & NA & NA & yes & 4.0.5\\\\\n\tcommonmark & commonmark  & /usr/lib/R/site-library       & 1.7      & NA & NA                               & NA                                                                                                                                                                                                                                                                                                                                                                                                                & NA & curl, testthat, xml2                                                                                                                                                                                                                                                                                                                                                                                                                                                                                                                                                                                                                                                                                                                                                    & NA                                                           & BSD\\_2\\_clause + file LICENSE & NA & NA & NA & NA & yes & 4.0.0\\\\\n\tcpp11 & cpp11       & /usr/lib/R/site-library       & 0.2.7    & NA & NA                               & NA                                                                                                                                                                                                                                                                                                                                                                                                                & NA & bench, brio, callr, cli, covr, decor, desc, ggplot2, glue,\nknitr, lobstr, mockery, progress, rmarkdown, scales, testthat,\ntibble, utils, vctrs, withr                                                                                                                                                                                                                                                                                                                                                                                                                                                                                                                                                                                                                 & NA                                                           & MIT + file LICENSE          & NA & NA & NA & NA & no  & 4.0.4\\\\\n\tcrayon & crayon      & /usr/lib/R/site-library       & 1.4.1    & NA & NA                               & grDevices, methods, utils                                                                                                                                                                                                                                                                                                                                                                                         & NA & mockery, rstudioapi, testthat, withr                                                                                                                                                                                                                                                                                                                                                                                                                                                                                                                                                                                                                                                                                                                                    & NA                                                           & MIT + file LICENSE          & NA & NA & NA & NA & no  & 4.0.3\\\\\n\tcredentials & credentials & /usr/lib/R/site-library       & 1.3.0    & NA & NA                               & openssl (>= 1.3), sys (>= 2.1), curl, jsonlite, askpass                                                                                                                                                                                                                                                                                                                                                           & NA & testthat, knitr, rmarkdown                                                                                                                                                                                                                                                                                                                                                                                                                                                                                                                                                                                                                                                                                                                                              & NA                                                           & MIT + file LICENSE          & NA & NA & NA & NA & no  & 4.0.2\\\\\n\tcurl & curl        & /usr/lib/R/site-library       & 4.3.1    & NA & R (>= 3.0.0)                     & NA                                                                                                                                                                                                                                                                                                                                                                                                                & NA & spelling, testthat (>= 1.0.0), knitr, jsonlite, rmarkdown,\nmagrittr, httpuv (>= 1.4.4), webutils                                                                                                                                                                                                                                                                                                                                                                                                                                                                                                                                                                                                                                                                       & NA                                                           & MIT + file LICENSE          & NA & NA & NA & NA & yes & 4.0.5\\\\\n\tdata.table & data.table  & /usr/lib/R/site-library       & 1.14.0   & NA & R (>= 3.1.0)                     & methods                                                                                                                                                                                                                                                                                                                                                                                                           & NA & bit64 (>= 4.0.0), bit (>= 4.0.4), curl, R.utils, xts,\nnanotime, zoo (>= 1.8-1), yaml, knitr, rmarkdown                                                                                                                                                                                                                                                                                                                                                                                                                                                                                                                                                                                                                                                                 & NA                                                           & MPL-2.0 \\textbar{} file LICENSE      & NA & NA & NA & NA & yes & 4.0.4\\\\\n\tDBI & DBI         & /usr/lib/R/site-library       & 1.1.1    & NA & methods, R (>= 3.0.0)            & NA                                                                                                                                                                                                                                                                                                                                                                                                                & NA & blob, covr, dbplyr, dplyr, glue, hms, knitr, magrittr,\nrmarkdown, rprojroot, RMariaDB, RSQLite (>= 1.1-2), testthat,\nxml2                                                                                                                                                                                                                                                                                                                                                                                                                                                                                                                                                                                                                                             & NA                                                           & LGPL (>= 2.1)               & NA & NA & NA & NA & no  & 4.0.3\\\\\n\tdbplyr & dbplyr      & /usr/lib/R/site-library       & 2.1.1    & NA & R (>= 3.1)                       & assertthat (>= 0.2.0), blob (>= 1.2.0), DBI (>= 1.0.0), dplyr\n(>= 1.0.4), ellipsis, glue (>= 1.2.0), lifecycle (>= 1.0.0),\nmagrittr, methods, purrr (>= 0.2.5), R6 (>= 2.2.2), rlang (>=\n0.2.0), tibble (>= 1.4.2), tidyselect (>= 0.2.4), utils, vctrs,\nwithr                                                                                                                                                & NA & bit64, covr, knitr, Lahman, nycflights13, odbc, RMariaDB (>=\n1.0.2), rmarkdown, RPostgres (>= 1.1.3), RPostgreSQL, RSQLite\n(>= 2.1.0), testthat (>= 3.0.2), tidyr                                                                                                                                                                                                                                                                                                                                                                                                                                                                                                                                                                                                     & NA                                                           & MIT + file LICENSE          & NA & NA & NA & NA & no  & 4.0.5\\\\\n\tdesc & desc        & /usr/lib/R/site-library       & 1.3.0    & NA & R (>= 3.1.0)                     & utils, R6, crayon, rprojroot                                                                                                                                                                                                                                                                                                                                                                                      & NA & covr, testthat, whoami, withr, spelling, gh                                                                                                                                                                                                                                                                                                                                                                                                                                                                                                                                                                                                                                                                                                                             & NA                                                           & MIT + file LICENSE          & NA & NA & NA & NA & no  & 4.0.4\\\\\n\tdevtools & devtools    & /usr/lib/R/site-library       & 2.4.2    & NA & R (>= 3.0.2), usethis (>= 2.0.1) & callr (>= 3.6.0), cli (>= 2.4.0), desc (>= 1.3.0), ellipsis\n(>= 0.3.1), fs (>= 1.5.0), httr (>= 1.4.2), lifecycle (>=\n1.0.0), memoise (>= 2.0.0), pkgbuild (>= 1.2.0), pkgload (>=\n1.2.1), rcmdcheck (>= 1.3.3), remotes (>= 2.3.0), rlang (>=\n0.4.10), roxygen2 (>= 7.1.1), rstudioapi (>= 0.13), rversions\n(>= 2.0.2), sessioninfo (>= 1.1.1), stats, testthat (>= 3.0.2),\ntools, utils, withr (>= 2.4.1) & NA & BiocManager (>= 1.30.12), covr (>= 3.5.1), curl (>= 4.3),\ndigest (>= 0.6.27), DT (>= 0.17), foghorn (>= 1.3.2), gh (>=\n1.2.1), gmailr (>= 1.0.0), knitr (>= 1.31), lintr (>= 2.0.1),\nMASS, mockery (>= 0.4.2), pingr (>= 2.0.1), pkgdown (>= 1.6.1),\nrhub (>= 1.1.1), rmarkdown (>= 2.7), spelling (>= 2.2)                                                                                                                                                                                                                                                                                                                                                                                                                                                         & NA                                                           & MIT + file LICENSE          & NA & NA & NA & NA & no  & 4.1.0\\\\\n\t⋮ & ⋮ & ⋮ & ⋮ & ⋮ & ⋮ & ⋮ & ⋮ & ⋮ & ⋮ & ⋮ & ⋮ & ⋮ & ⋮ & ⋮ & ⋮ & ⋮\\\\\n\tzip & zip        & /usr/lib/R/site-library & 2.2.0   & NA          & NA                                              & NA                                               & NA & covr, processx, R6, testthat, withr        & NA                                                                  & MIT + file LICENSE        & NA & NA & NA & NA & yes & 4.1.0\\\\\n\tbase & base       & /usr/lib/R/library      & 4.1.0   & base        & NA                                              & NA                                               & NA & methods                                    & NA                                                                  & Part of R 4.1.0           & NA & NA & NA & NA & NA  & 4.1.0\\\\\n\tboot & boot       & /usr/lib/R/library      & 1.3-28  & recommended & R (>= 3.0.0), graphics, stats                   & NA                                               & NA & MASS, survival                             & NA                                                                  & Unlimited                 & NA & NA & NA & NA & no  & 4.0.5\\\\\n\tclass & class      & /usr/lib/R/library      & 7.3-19  & recommended & R (>= 3.0.0), stats, utils                      & MASS                                             & NA & NA                                         & NA                                                                  & GPL-2 \\textbar{} GPL-3             & NA & NA & NA & NA & yes & 4.0.5\\\\\n\tcluster & cluster    & /usr/lib/R/library      & 2.1.2   & recommended & R (>= 3.4.0)                                    & graphics, grDevices, stats, utils                & NA & MASS, Matrix                               & NA                                                                  & GPL (>= 2)                & NA & NA & NA & NA & yes & 4.0.5\\\\\n\tcodetools & codetools  & /usr/lib/R/library      & 0.2-18  & recommended & R (>= 2.1)                                      & NA                                               & NA & NA                                         & NA                                                                  & GPL                       & NA & NA & NA & NA & no  & 4.0.3\\\\\n\tcompiler & compiler   & /usr/lib/R/library      & 4.1.0   & base        & NA                                              & NA                                               & NA & NA                                         & NA                                                                  & Part of R 4.1.0           & NA & NA & NA & NA & NA  & 4.1.0\\\\\n\tdatasets & datasets   & /usr/lib/R/library      & 4.1.0   & base        & NA                                              & NA                                               & NA & NA                                         & NA                                                                  & Part of R 4.1.0           & NA & NA & NA & NA & NA  & 4.1.0\\\\\n\tforeign & foreign    & /usr/lib/R/library      & 0.8-81  & recommended & R (>= 4.0.0)                                    & methods, utils, stats                            & NA & NA                                         & NA                                                                  & GPL (>= 2)                & NA & NA & NA & NA & yes & 4.0.3\\\\\n\tgraphics & graphics   & /usr/lib/R/library      & 4.1.0   & base        & NA                                              & grDevices                                        & NA & NA                                         & NA                                                                  & Part of R 4.1.0           & NA & NA & NA & NA & yes & 4.1.0\\\\\n\tgrDevices & grDevices  & /usr/lib/R/library      & 4.1.0   & base        & NA                                              & NA                                               & NA & KernSmooth                                 & NA                                                                  & Part of R 4.1.0           & NA & NA & NA & NA & yes & 4.1.0\\\\\n\tgrid & grid       & /usr/lib/R/library      & 4.1.0   & base        & NA                                              & grDevices, utils                                 & NA & lattice                                    & NA                                                                  & Part of R 4.1.0           & NA & NA & NA & NA & yes & 4.1.0\\\\\n\tKernSmooth & KernSmooth & /usr/lib/R/library      & 2.23-20 & recommended & R (>= 2.5.0), stats                             & NA                                               & NA & MASS, carData                              & NA                                                                  & Unlimited                 & NA & NA & NA & NA & yes & 4.0.5\\\\\n\tlattice & lattice    & /usr/lib/R/library      & 0.20-44 & recommended & R (>= 3.0.0)                                    & grid, grDevices, graphics, stats, utils          & NA & KernSmooth, MASS, latticeExtra             & chron                                                               & GPL (>= 2)                & NA & NA & NA & NA & yes & 4.1.0\\\\\n\tMASS & MASS       & /usr/lib/R/library      & 7.3-54  & recommended & R (>= 3.3.0), grDevices, graphics, stats, utils & methods                                          & NA & lattice, nlme, nnet, survival              & NA                                                                  & GPL-2 \\textbar{} GPL-3             & NA & NA & NA & NA & yes & 4.0.5\\\\\n\tMatrix & Matrix     & /usr/lib/R/library      & 1.3-4   & recommended & R (>= 3.5.0)                                    & methods, graphics, grid, stats, utils, lattice   & NA & expm, MASS                                 & MatrixModels, graph, SparseM, sfsmisc, igraph, maptools, sp,\nspdep & GPL (>= 2) \\textbar{} file LICENCE & NA & NA & NA & NA & yes & 4.1.0\\\\\n\tmethods & methods    & /usr/lib/R/library      & 4.1.0   & base        & NA                                              & utils, stats                                     & NA & codetools                                  & NA                                                                  & Part of R 4.1.0           & NA & NA & NA & NA & yes & 4.1.0\\\\\n\tmgcv & mgcv       & /usr/lib/R/library      & 1.8-36  & recommended & R (>= 3.6.0), nlme (>= 3.1-64)                  & methods, stats, graphics, Matrix, splines, utils & NA & parallel, survival, MASS                   & NA                                                                  & GPL (>= 2)                & NA & NA & NA & NA & yes & 4.1.0\\\\\n\tnlme & nlme       & /usr/lib/R/library      & 3.1-152 & recommended & R (>= 3.4.0)                                    & graphics, stats, utils, lattice                  & NA & Hmisc, MASS                                & NA                                                                  & GPL (>= 2) \\textbar{} file LICENCE & NA & NA & NA & NA & yes & 4.0.3\\\\\n\tnnet & nnet       & /usr/lib/R/library      & 7.3-16  & recommended & R (>= 3.0.0), stats, utils                      & NA                                               & NA & MASS                                       & NA                                                                  & GPL-2 \\textbar{} GPL-3             & NA & NA & NA & NA & yes & 4.0.5\\\\\n\tparallel & parallel   & /usr/lib/R/library      & 4.1.0   & base        & NA                                              & tools, compiler                                  & NA & methods                                    & snow, nws, Rmpi                                                     & Part of R 4.1.0           & NA & NA & NA & NA & yes & 4.1.0\\\\\n\trpart & rpart      & /usr/lib/R/library      & 4.1-15  & recommended & R (>= 2.15.0), graphics, stats, grDevices       & NA                                               & NA & survival                                   & NA                                                                  & GPL-2 \\textbar{} GPL-3             & NA & NA & NA & NA & yes & 4.0.0\\\\\n\tspatial & spatial    & /usr/lib/R/library      & 7.3-14  & recommended & R (>= 3.0.0), graphics, stats, utils            & NA                                               & NA & MASS                                       & NA                                                                  & GPL-2 \\textbar{} GPL-3             & NA & NA & NA & NA & yes & 4.0.5\\\\\n\tsplines & splines    & /usr/lib/R/library      & 4.1.0   & base        & NA                                              & graphics, stats                                  & NA & Matrix, methods                            & NA                                                                  & Part of R 4.1.0           & NA & NA & NA & NA & yes & 4.1.0\\\\\n\tstats & stats      & /usr/lib/R/library      & 4.1.0   & base        & NA                                              & utils, grDevices, graphics                       & NA & MASS, Matrix, SuppDists, methods, stats4   & NA                                                                  & Part of R 4.1.0           & NA & NA & NA & NA & yes & 4.1.0\\\\\n\tstats4 & stats4     & /usr/lib/R/library      & 4.1.0   & base        & NA                                              & graphics, methods, stats                         & NA & NA                                         & NA                                                                  & Part of R 4.1.0           & NA & NA & NA & NA & NA  & 4.1.0\\\\\n\tsurvival & survival   & /usr/lib/R/library      & 3.2-11  & recommended & R (>= 3.5.0)                                    & graphics, Matrix, methods, splines, stats, utils & NA & NA                                         & NA                                                                  & LGPL (>= 2)               & NA & NA & NA & NA & yes & 4.0.5\\\\\n\ttcltk & tcltk      & /usr/lib/R/library      & 4.1.0   & base        & NA                                              & utils                                            & NA & NA                                         & NA                                                                  & Part of R 4.1.0           & NA & NA & NA & NA & yes & 4.1.0\\\\\n\ttools & tools      & /usr/lib/R/library      & 4.1.0   & base        & NA                                              & NA                                               & NA & codetools, methods, xml2, curl, commonmark & NA                                                                  & Part of R 4.1.0           & NA & NA & NA & NA & yes & 4.1.0\\\\\n\tutils & utils      & /usr/lib/R/library      & 4.1.0   & base        & NA                                              & NA                                               & NA & methods, xml2, commonmark                  & NA                                                                  & Part of R 4.1.0           & NA & NA & NA & NA & yes & 4.1.0\\\\\n\\end{tabular}\n",
            "text/markdown": "\nA matrix: 155 × 16 of type chr\n\n| <!--/--> | Package | LibPath | Version | Priority | Depends | Imports | LinkingTo | Suggests | Enhances | License | License_is_FOSS | License_restricts_use | OS_type | MD5sum | NeedsCompilation | Built |\n|---|---|---|---|---|---|---|---|---|---|---|---|---|---|---|---|---|\n| ggplot2 | ggplot2     | /usr/local/lib/R/site-library | 3.3.4    | NA | R (&gt;= 3.3)                       | digest, glue, grDevices, grid, gtable (&gt;= 0.1.1), isoband,\nMASS, mgcv, rlang (&gt;= 0.4.10), scales (&gt;= 0.5.0), stats,\ntibble, withr (&gt;= 2.0.0)                                                                                                                                                                                                                                                                    | NA | covr, ragg, dplyr, ggplot2movies, hexbin, Hmisc, interp,\nknitr, lattice, mapproj, maps, maptools, multcomp, munsell,\nnlme, profvis, quantreg, RColorBrewer, rgeos, rmarkdown, rpart,\nsf (&gt;= 0.7-3), svglite (&gt;= 1.2.0.9001), testthat (&gt;= 2.1.0),\nvdiffr (&gt;= 0.3.0), xml2                                                                                                                                                                                                                                                                                                                                                                                                                                                                                           | sp                                                           | MIT + file LICENSE          | NA | NA | NA | NA | no  | 4.1.0 |\n| IRdisplay | IRdisplay   | /usr/local/lib/R/site-library | 1.0      | NA | R (&gt;= 3.0.1)                     | methods, repr                                                                                                                                                                                                                                                                                                                                                                                                     | NA | testthat, withr                                                                                                                                                                                                                                                                                                                                                                                                                                                                                                                                                                                                                                                                                                                                                         | NA                                                           | MIT + file LICENSE          | NA | NA | NA | NA | no  | 4.1.0 |\n| IRkernel | IRkernel    | /usr/local/lib/R/site-library | 1.2      | NA | R (&gt;= 3.2.0)                     | repr (&gt;= 0.4.99), methods, evaluate (&gt;= 0.10), IRdisplay (&gt;=\n0.3.0.9999), pbdZMQ (&gt;= 0.2-1), crayon, jsonlite (&gt;= 0.9.6),\nuuid, digest                                                                                                                                                                                                                                                                          | NA | testthat, roxygen2                                                                                                                                                                                                                                                                                                                                                                                                                                                                                                                                                                                                                                                                                                                                                      | NA                                                           | MIT + file LICENSE          | NA | NA | NA | NA | no  | 4.1.0 |\n| pbdZMQ | pbdZMQ      | /usr/local/lib/R/site-library | 0.3-5    | NA | R (&gt;= 3.5.0)                     | NA                                                                                                                                                                                                                                                                                                                                                                                                                | NA | NA                                                                                                                                                                                                                                                                                                                                                                                                                                                                                                                                                                                                                                                                                                                                                                      | NA                                                           | GPL-3                       | NA | NA | NA | NA | yes | 4.1.0 |\n| repr | repr        | /usr/local/lib/R/site-library | 1.1.3    | NA | R (&gt;= 3.0.1)                     | utils, grDevices, htmltools, jsonlite, pillar (&gt;= 1.4.0),\nbase64enc                                                                                                                                                                                                                                                                                                                                              | NA | methods, highr, Cairo, stringr, testthat (&gt;= 3.0.0), leaflet                                                                                                                                                                                                                                                                                                                                                                                                                                                                                                                                                                                                                                                                                                            | data.table, tibble, htmlwidgets, vegalite, plotly, geojsonio | GPL-3                       | NA | NA | NA | NA | no  | 4.1.0 |\n| askpass | askpass     | /usr/lib/R/site-library       | 1.1      | NA | NA                               | sys (&gt;= 2.1)                                                                                                                                                                                                                                                                                                                                                                                                      | NA | testthat                                                                                                                                                                                                                                                                                                                                                                                                                                                                                                                                                                                                                                                                                                                                                                | NA                                                           | MIT + file LICENSE          | NA | NA | NA | NA | yes | 4.0.0 |\n| assertthat | assertthat  | /usr/lib/R/site-library       | 0.2.1    | NA | NA                               | tools                                                                                                                                                                                                                                                                                                                                                                                                             | NA | testthat, covr                                                                                                                                                                                                                                                                                                                                                                                                                                                                                                                                                                                                                                                                                                                                                          | NA                                                           | GPL-3                       | NA | NA | NA | NA | no  | 4.0.0 |\n| backports | backports   | /usr/lib/R/site-library       | 1.2.1    | NA | R (&gt;= 3.0.0)                     | NA                                                                                                                                                                                                                                                                                                                                                                                                                | NA | NA                                                                                                                                                                                                                                                                                                                                                                                                                                                                                                                                                                                                                                                                                                                                                                      | NA                                                           | GPL-2 | GPL-3               | NA | NA | NA | NA | yes | 4.0.3 |\n| base64enc | base64enc   | /usr/lib/R/site-library       | 0.1-3    | NA | R (&gt;= 2.9.0)                     | NA                                                                                                                                                                                                                                                                                                                                                                                                                | NA | NA                                                                                                                                                                                                                                                                                                                                                                                                                                                                                                                                                                                                                                                                                                                                                                      | png                                                          | GPL-2 | GPL-3               | NA | NA | NA | NA | yes | 4.0.0 |\n| BH | BH          | /usr/lib/R/site-library       | 1.75.0-0 | NA | NA                               | NA                                                                                                                                                                                                                                                                                                                                                                                                                | NA | NA                                                                                                                                                                                                                                                                                                                                                                                                                                                                                                                                                                                                                                                                                                                                                                      | NA                                                           | BSL-1.0                     | NA | NA | NA | NA | no  | 4.0.3 |\n| blob | blob        | /usr/lib/R/site-library       | 1.2.1    | NA | NA                               | methods, rlang, vctrs (&gt;= 0.2.1)                                                                                                                                                                                                                                                                                                                                                                                  | NA | covr, crayon, pillar (&gt;= 1.2.1), testthat                                                                                                                                                                                                                                                                                                                                                                                                                                                                                                                                                                                                                                                                                                                               | NA                                                           | GPL-3                       | NA | NA | NA | NA | no  | 4.0.0 |\n| brew | brew        | /usr/lib/R/site-library       | 1.0-6    | NA | NA                               | NA                                                                                                                                                                                                                                                                                                                                                                                                                | NA | NA                                                                                                                                                                                                                                                                                                                                                                                                                                                                                                                                                                                                                                                                                                                                                                      | NA                                                           | GPL-2                       | NA | NA | NA | NA | NA  | 4.0.0 |\n| brio | brio        | /usr/lib/R/site-library       | 1.1.2    | NA | NA                               | NA                                                                                                                                                                                                                                                                                                                                                                                                                | NA | testthat (&gt;= 2.1.0), covr                                                                                                                                                                                                                                                                                                                                                                                                                                                                                                                                                                                                                                                                                                                                               | NA                                                           | MIT + file LICENSE          | NA | NA | NA | NA | yes | 4.0.5 |\n| broom | broom       | /usr/lib/R/site-library       | 0.7.6    | NA | R (&gt;= 3.1)                       | backports, dplyr (&gt;= 1.0.0), ellipsis, generics (&gt;= 0.0.2),\nglue, methods, purrr, rlang, stringr, tibble (&gt;= 3.0.0), tidyr\n(&gt;= 1.0.0)                                                                                                                                                                                                                                                                           | NA | AER, akima, AUC, bbmle, betareg, biglm, binGroup, boot,\nbtergm, car, caret, cluster, cmprsk, coda, covr, drc, e1071,\nemmeans, epiR, ergm (&gt;= 3.10.4), fixest (&gt;= 0.8.1), gam (&gt;=\n1.15), gee, geepack, ggplot2, glmnet, glmnetUtils, gmm, Hmisc,\nirlba, joineRML, Kendall, knitr, ks, Lahman, lavaan, leaps,\nlfe, lm.beta, lme4, lmodel2, lmtest (&gt;= 0.9.38), lsmeans, maps,\nmaptools, margins, MASS, Matrix, mclust, mediation, metafor,\nmfx, mgcv, mlogit, modeldata, modeltests, muhaz, multcomp,\nnetwork, nnet, orcutt (&gt;= 2.2), ordinal, plm, poLCA, psych,\nquantreg, Rchoice, rgeos, rmarkdown, robust, robustbase,\nrsample, sandwich, sp, spdep, spatialreg, speedglm, spelling,\nsurvey, survival, systemfit, testthat (&gt;= 2.1.0), tseries,\nvars, zoo | NA                                                           | MIT + file LICENSE          | NA | NA | NA | NA | no  | 4.0.5 |\n| cachem | cachem      | /usr/lib/R/site-library       | 1.0.5    | NA | NA                               | rlang, fastmap                                                                                                                                                                                                                                                                                                                                                                                                    | NA | testthat                                                                                                                                                                                                                                                                                                                                                                                                                                                                                                                                                                                                                                                                                                                                                                | NA                                                           | MIT + file LICENSE          | NA | NA | NA | NA | yes | 4.0.5 |\n| callr | callr       | /usr/lib/R/site-library       | 3.7.0    | NA | NA                               | processx (&gt;= 3.5.0), R6, utils                                                                                                                                                                                                                                                                                                                                                                                    | NA | cli, covr, ps, rprojroot, spelling, testthat, withr (&gt;=\n2.3.0)                                                                                                                                                                                                                                                                                                                                                                                                                                                                                                                                                                                                                                                                                                         | NA                                                           | MIT + file LICENSE          | NA | NA | NA | NA | no  | 4.0.5 |\n| cellranger | cellranger  | /usr/lib/R/site-library       | 1.1.0    | NA | R (&gt;= 3.0.0)                     | rematch, tibble                                                                                                                                                                                                                                                                                                                                                                                                   | NA | covr, testthat (&gt;= 1.0.0), knitr, rmarkdown                                                                                                                                                                                                                                                                                                                                                                                                                                                                                                                                                                                                                                                                                                                             | NA                                                           | MIT + file LICENSE          | NA | NA | NA | NA | no  | 4.0.0 |\n| cli | cli         | /usr/lib/R/site-library       | 2.5.0    | NA | R (&gt;= 2.10)                      | glue, utils                                                                                                                                                                                                                                                                                                                                                                                                       | NA | callr, covr, grDevices, htmlwidgets, knitr, methods, mockery,\nps (&gt;= 1.3.4.9000), rmarkdown, rstudioapi, prettycode (&gt;=\n1.1.0), testthat, tibble, withr                                                                                                                                                                                                                                                                                                                                                                                                                                                                                                                                                                                                               | NA                                                           | MIT + file LICENSE          | NA | NA | NA | NA | no  | 4.0.5 |\n| clipr | clipr       | /usr/lib/R/site-library       | 0.7.1    | NA | NA                               | utils                                                                                                                                                                                                                                                                                                                                                                                                             | NA | covr, knitr, rmarkdown, rstudioapi (&gt;= 0.5), testthat (&gt;=\n2.0.0)                                                                                                                                                                                                                                                                                                                                                                                                                                                                                                                                                                                                                                                                                                       | NA                                                           | GPL-3                       | NA | NA | NA | NA | no  | 4.0.2 |\n| colorspace | colorspace  | /usr/lib/R/site-library       | 2.0-1    | NA | R (&gt;= 3.0.0), methods            | graphics, grDevices, stats                                                                                                                                                                                                                                                                                                                                                                                        | NA | datasets, utils, KernSmooth, MASS, kernlab, mvtnorm, vcd,\ntcltk, shiny, shinyjs, ggplot2, dplyr, scales, grid, png, jpeg,\nknitr, rmarkdown, RColorBrewer, rcartocolor, scico, viridis,\nwesanderson                                                                                                                                                                                                                                                                                                                                                                                                                                                                                                                                                                   | NA                                                           | BSD_3_clause + file LICENSE | NA | NA | NA | NA | yes | 4.0.5 |\n| commonmark | commonmark  | /usr/lib/R/site-library       | 1.7      | NA | NA                               | NA                                                                                                                                                                                                                                                                                                                                                                                                                | NA | curl, testthat, xml2                                                                                                                                                                                                                                                                                                                                                                                                                                                                                                                                                                                                                                                                                                                                                    | NA                                                           | BSD_2_clause + file LICENSE | NA | NA | NA | NA | yes | 4.0.0 |\n| cpp11 | cpp11       | /usr/lib/R/site-library       | 0.2.7    | NA | NA                               | NA                                                                                                                                                                                                                                                                                                                                                                                                                | NA | bench, brio, callr, cli, covr, decor, desc, ggplot2, glue,\nknitr, lobstr, mockery, progress, rmarkdown, scales, testthat,\ntibble, utils, vctrs, withr                                                                                                                                                                                                                                                                                                                                                                                                                                                                                                                                                                                                                 | NA                                                           | MIT + file LICENSE          | NA | NA | NA | NA | no  | 4.0.4 |\n| crayon | crayon      | /usr/lib/R/site-library       | 1.4.1    | NA | NA                               | grDevices, methods, utils                                                                                                                                                                                                                                                                                                                                                                                         | NA | mockery, rstudioapi, testthat, withr                                                                                                                                                                                                                                                                                                                                                                                                                                                                                                                                                                                                                                                                                                                                    | NA                                                           | MIT + file LICENSE          | NA | NA | NA | NA | no  | 4.0.3 |\n| credentials | credentials | /usr/lib/R/site-library       | 1.3.0    | NA | NA                               | openssl (&gt;= 1.3), sys (&gt;= 2.1), curl, jsonlite, askpass                                                                                                                                                                                                                                                                                                                                                           | NA | testthat, knitr, rmarkdown                                                                                                                                                                                                                                                                                                                                                                                                                                                                                                                                                                                                                                                                                                                                              | NA                                                           | MIT + file LICENSE          | NA | NA | NA | NA | no  | 4.0.2 |\n| curl | curl        | /usr/lib/R/site-library       | 4.3.1    | NA | R (&gt;= 3.0.0)                     | NA                                                                                                                                                                                                                                                                                                                                                                                                                | NA | spelling, testthat (&gt;= 1.0.0), knitr, jsonlite, rmarkdown,\nmagrittr, httpuv (&gt;= 1.4.4), webutils                                                                                                                                                                                                                                                                                                                                                                                                                                                                                                                                                                                                                                                                       | NA                                                           | MIT + file LICENSE          | NA | NA | NA | NA | yes | 4.0.5 |\n| data.table | data.table  | /usr/lib/R/site-library       | 1.14.0   | NA | R (&gt;= 3.1.0)                     | methods                                                                                                                                                                                                                                                                                                                                                                                                           | NA | bit64 (&gt;= 4.0.0), bit (&gt;= 4.0.4), curl, R.utils, xts,\nnanotime, zoo (&gt;= 1.8-1), yaml, knitr, rmarkdown                                                                                                                                                                                                                                                                                                                                                                                                                                                                                                                                                                                                                                                                 | NA                                                           | MPL-2.0 | file LICENSE      | NA | NA | NA | NA | yes | 4.0.4 |\n| DBI | DBI         | /usr/lib/R/site-library       | 1.1.1    | NA | methods, R (&gt;= 3.0.0)            | NA                                                                                                                                                                                                                                                                                                                                                                                                                | NA | blob, covr, dbplyr, dplyr, glue, hms, knitr, magrittr,\nrmarkdown, rprojroot, RMariaDB, RSQLite (&gt;= 1.1-2), testthat,\nxml2                                                                                                                                                                                                                                                                                                                                                                                                                                                                                                                                                                                                                                             | NA                                                           | LGPL (&gt;= 2.1)               | NA | NA | NA | NA | no  | 4.0.3 |\n| dbplyr | dbplyr      | /usr/lib/R/site-library       | 2.1.1    | NA | R (&gt;= 3.1)                       | assertthat (&gt;= 0.2.0), blob (&gt;= 1.2.0), DBI (&gt;= 1.0.0), dplyr\n(&gt;= 1.0.4), ellipsis, glue (&gt;= 1.2.0), lifecycle (&gt;= 1.0.0),\nmagrittr, methods, purrr (&gt;= 0.2.5), R6 (&gt;= 2.2.2), rlang (&gt;=\n0.2.0), tibble (&gt;= 1.4.2), tidyselect (&gt;= 0.2.4), utils, vctrs,\nwithr                                                                                                                                                | NA | bit64, covr, knitr, Lahman, nycflights13, odbc, RMariaDB (&gt;=\n1.0.2), rmarkdown, RPostgres (&gt;= 1.1.3), RPostgreSQL, RSQLite\n(&gt;= 2.1.0), testthat (&gt;= 3.0.2), tidyr                                                                                                                                                                                                                                                                                                                                                                                                                                                                                                                                                                                                     | NA                                                           | MIT + file LICENSE          | NA | NA | NA | NA | no  | 4.0.5 |\n| desc | desc        | /usr/lib/R/site-library       | 1.3.0    | NA | R (&gt;= 3.1.0)                     | utils, R6, crayon, rprojroot                                                                                                                                                                                                                                                                                                                                                                                      | NA | covr, testthat, whoami, withr, spelling, gh                                                                                                                                                                                                                                                                                                                                                                                                                                                                                                                                                                                                                                                                                                                             | NA                                                           | MIT + file LICENSE          | NA | NA | NA | NA | no  | 4.0.4 |\n| devtools | devtools    | /usr/lib/R/site-library       | 2.4.2    | NA | R (&gt;= 3.0.2), usethis (&gt;= 2.0.1) | callr (&gt;= 3.6.0), cli (&gt;= 2.4.0), desc (&gt;= 1.3.0), ellipsis\n(&gt;= 0.3.1), fs (&gt;= 1.5.0), httr (&gt;= 1.4.2), lifecycle (&gt;=\n1.0.0), memoise (&gt;= 2.0.0), pkgbuild (&gt;= 1.2.0), pkgload (&gt;=\n1.2.1), rcmdcheck (&gt;= 1.3.3), remotes (&gt;= 2.3.0), rlang (&gt;=\n0.4.10), roxygen2 (&gt;= 7.1.1), rstudioapi (&gt;= 0.13), rversions\n(&gt;= 2.0.2), sessioninfo (&gt;= 1.1.1), stats, testthat (&gt;= 3.0.2),\ntools, utils, withr (&gt;= 2.4.1) | NA | BiocManager (&gt;= 1.30.12), covr (&gt;= 3.5.1), curl (&gt;= 4.3),\ndigest (&gt;= 0.6.27), DT (&gt;= 0.17), foghorn (&gt;= 1.3.2), gh (&gt;=\n1.2.1), gmailr (&gt;= 1.0.0), knitr (&gt;= 1.31), lintr (&gt;= 2.0.1),\nMASS, mockery (&gt;= 0.4.2), pingr (&gt;= 2.0.1), pkgdown (&gt;= 1.6.1),\nrhub (&gt;= 1.1.1), rmarkdown (&gt;= 2.7), spelling (&gt;= 2.2)                                                                                                                                                                                                                                                                                                                                                                                                                                                         | NA                                                           | MIT + file LICENSE          | NA | NA | NA | NA | no  | 4.1.0 |\n| ⋮ | ⋮ | ⋮ | ⋮ | ⋮ | ⋮ | ⋮ | ⋮ | ⋮ | ⋮ | ⋮ | ⋮ | ⋮ | ⋮ | ⋮ | ⋮ | ⋮ |\n| zip | zip        | /usr/lib/R/site-library | 2.2.0   | NA          | NA                                              | NA                                               | NA | covr, processx, R6, testthat, withr        | NA                                                                  | MIT + file LICENSE        | NA | NA | NA | NA | yes | 4.1.0 |\n| base | base       | /usr/lib/R/library      | 4.1.0   | base        | NA                                              | NA                                               | NA | methods                                    | NA                                                                  | Part of R 4.1.0           | NA | NA | NA | NA | NA  | 4.1.0 |\n| boot | boot       | /usr/lib/R/library      | 1.3-28  | recommended | R (&gt;= 3.0.0), graphics, stats                   | NA                                               | NA | MASS, survival                             | NA                                                                  | Unlimited                 | NA | NA | NA | NA | no  | 4.0.5 |\n| class | class      | /usr/lib/R/library      | 7.3-19  | recommended | R (&gt;= 3.0.0), stats, utils                      | MASS                                             | NA | NA                                         | NA                                                                  | GPL-2 | GPL-3             | NA | NA | NA | NA | yes | 4.0.5 |\n| cluster | cluster    | /usr/lib/R/library      | 2.1.2   | recommended | R (&gt;= 3.4.0)                                    | graphics, grDevices, stats, utils                | NA | MASS, Matrix                               | NA                                                                  | GPL (&gt;= 2)                | NA | NA | NA | NA | yes | 4.0.5 |\n| codetools | codetools  | /usr/lib/R/library      | 0.2-18  | recommended | R (&gt;= 2.1)                                      | NA                                               | NA | NA                                         | NA                                                                  | GPL                       | NA | NA | NA | NA | no  | 4.0.3 |\n| compiler | compiler   | /usr/lib/R/library      | 4.1.0   | base        | NA                                              | NA                                               | NA | NA                                         | NA                                                                  | Part of R 4.1.0           | NA | NA | NA | NA | NA  | 4.1.0 |\n| datasets | datasets   | /usr/lib/R/library      | 4.1.0   | base        | NA                                              | NA                                               | NA | NA                                         | NA                                                                  | Part of R 4.1.0           | NA | NA | NA | NA | NA  | 4.1.0 |\n| foreign | foreign    | /usr/lib/R/library      | 0.8-81  | recommended | R (&gt;= 4.0.0)                                    | methods, utils, stats                            | NA | NA                                         | NA                                                                  | GPL (&gt;= 2)                | NA | NA | NA | NA | yes | 4.0.3 |\n| graphics | graphics   | /usr/lib/R/library      | 4.1.0   | base        | NA                                              | grDevices                                        | NA | NA                                         | NA                                                                  | Part of R 4.1.0           | NA | NA | NA | NA | yes | 4.1.0 |\n| grDevices | grDevices  | /usr/lib/R/library      | 4.1.0   | base        | NA                                              | NA                                               | NA | KernSmooth                                 | NA                                                                  | Part of R 4.1.0           | NA | NA | NA | NA | yes | 4.1.0 |\n| grid | grid       | /usr/lib/R/library      | 4.1.0   | base        | NA                                              | grDevices, utils                                 | NA | lattice                                    | NA                                                                  | Part of R 4.1.0           | NA | NA | NA | NA | yes | 4.1.0 |\n| KernSmooth | KernSmooth | /usr/lib/R/library      | 2.23-20 | recommended | R (&gt;= 2.5.0), stats                             | NA                                               | NA | MASS, carData                              | NA                                                                  | Unlimited                 | NA | NA | NA | NA | yes | 4.0.5 |\n| lattice | lattice    | /usr/lib/R/library      | 0.20-44 | recommended | R (&gt;= 3.0.0)                                    | grid, grDevices, graphics, stats, utils          | NA | KernSmooth, MASS, latticeExtra             | chron                                                               | GPL (&gt;= 2)                | NA | NA | NA | NA | yes | 4.1.0 |\n| MASS | MASS       | /usr/lib/R/library      | 7.3-54  | recommended | R (&gt;= 3.3.0), grDevices, graphics, stats, utils | methods                                          | NA | lattice, nlme, nnet, survival              | NA                                                                  | GPL-2 | GPL-3             | NA | NA | NA | NA | yes | 4.0.5 |\n| Matrix | Matrix     | /usr/lib/R/library      | 1.3-4   | recommended | R (&gt;= 3.5.0)                                    | methods, graphics, grid, stats, utils, lattice   | NA | expm, MASS                                 | MatrixModels, graph, SparseM, sfsmisc, igraph, maptools, sp,\nspdep | GPL (&gt;= 2) | file LICENCE | NA | NA | NA | NA | yes | 4.1.0 |\n| methods | methods    | /usr/lib/R/library      | 4.1.0   | base        | NA                                              | utils, stats                                     | NA | codetools                                  | NA                                                                  | Part of R 4.1.0           | NA | NA | NA | NA | yes | 4.1.0 |\n| mgcv | mgcv       | /usr/lib/R/library      | 1.8-36  | recommended | R (&gt;= 3.6.0), nlme (&gt;= 3.1-64)                  | methods, stats, graphics, Matrix, splines, utils | NA | parallel, survival, MASS                   | NA                                                                  | GPL (&gt;= 2)                | NA | NA | NA | NA | yes | 4.1.0 |\n| nlme | nlme       | /usr/lib/R/library      | 3.1-152 | recommended | R (&gt;= 3.4.0)                                    | graphics, stats, utils, lattice                  | NA | Hmisc, MASS                                | NA                                                                  | GPL (&gt;= 2) | file LICENCE | NA | NA | NA | NA | yes | 4.0.3 |\n| nnet | nnet       | /usr/lib/R/library      | 7.3-16  | recommended | R (&gt;= 3.0.0), stats, utils                      | NA                                               | NA | MASS                                       | NA                                                                  | GPL-2 | GPL-3             | NA | NA | NA | NA | yes | 4.0.5 |\n| parallel | parallel   | /usr/lib/R/library      | 4.1.0   | base        | NA                                              | tools, compiler                                  | NA | methods                                    | snow, nws, Rmpi                                                     | Part of R 4.1.0           | NA | NA | NA | NA | yes | 4.1.0 |\n| rpart | rpart      | /usr/lib/R/library      | 4.1-15  | recommended | R (&gt;= 2.15.0), graphics, stats, grDevices       | NA                                               | NA | survival                                   | NA                                                                  | GPL-2 | GPL-3             | NA | NA | NA | NA | yes | 4.0.0 |\n| spatial | spatial    | /usr/lib/R/library      | 7.3-14  | recommended | R (&gt;= 3.0.0), graphics, stats, utils            | NA                                               | NA | MASS                                       | NA                                                                  | GPL-2 | GPL-3             | NA | NA | NA | NA | yes | 4.0.5 |\n| splines | splines    | /usr/lib/R/library      | 4.1.0   | base        | NA                                              | graphics, stats                                  | NA | Matrix, methods                            | NA                                                                  | Part of R 4.1.0           | NA | NA | NA | NA | yes | 4.1.0 |\n| stats | stats      | /usr/lib/R/library      | 4.1.0   | base        | NA                                              | utils, grDevices, graphics                       | NA | MASS, Matrix, SuppDists, methods, stats4   | NA                                                                  | Part of R 4.1.0           | NA | NA | NA | NA | yes | 4.1.0 |\n| stats4 | stats4     | /usr/lib/R/library      | 4.1.0   | base        | NA                                              | graphics, methods, stats                         | NA | NA                                         | NA                                                                  | Part of R 4.1.0           | NA | NA | NA | NA | NA  | 4.1.0 |\n| survival | survival   | /usr/lib/R/library      | 3.2-11  | recommended | R (&gt;= 3.5.0)                                    | graphics, Matrix, methods, splines, stats, utils | NA | NA                                         | NA                                                                  | LGPL (&gt;= 2)               | NA | NA | NA | NA | yes | 4.0.5 |\n| tcltk | tcltk      | /usr/lib/R/library      | 4.1.0   | base        | NA                                              | utils                                            | NA | NA                                         | NA                                                                  | Part of R 4.1.0           | NA | NA | NA | NA | yes | 4.1.0 |\n| tools | tools      | /usr/lib/R/library      | 4.1.0   | base        | NA                                              | NA                                               | NA | codetools, methods, xml2, curl, commonmark | NA                                                                  | Part of R 4.1.0           | NA | NA | NA | NA | yes | 4.1.0 |\n| utils | utils      | /usr/lib/R/library      | 4.1.0   | base        | NA                                              | NA                                               | NA | methods, xml2, commonmark                  | NA                                                                  | Part of R 4.1.0           | NA | NA | NA | NA | yes | 4.1.0 |\n\n",
            "text/html": [
              "<table class=\"dataframe\">\n",
              "<caption>A matrix: 155 × 16 of type chr</caption>\n",
              "<thead>\n",
              "\t<tr><th></th><th scope=col>Package</th><th scope=col>LibPath</th><th scope=col>Version</th><th scope=col>Priority</th><th scope=col>Depends</th><th scope=col>Imports</th><th scope=col>LinkingTo</th><th scope=col>Suggests</th><th scope=col>Enhances</th><th scope=col>License</th><th scope=col>License_is_FOSS</th><th scope=col>License_restricts_use</th><th scope=col>OS_type</th><th scope=col>MD5sum</th><th scope=col>NeedsCompilation</th><th scope=col>Built</th></tr>\n",
              "</thead>\n",
              "<tbody>\n",
              "\t<tr><th scope=row>ggplot2</th><td><span style=white-space:pre-wrap>ggplot2    </span></td><td>/usr/local/lib/R/site-library</td><td><span style=white-space:pre-wrap>3.3.4   </span></td><td>NA</td><td><span style=white-space:pre-wrap>R (&gt;= 3.3)                      </span></td><td><span style=white-space:pre-wrap>digest, glue, grDevices, grid, gtable (&gt;= 0.1.1), isoband,\n",
              "MASS, mgcv, rlang (&gt;= 0.4.10), scales (&gt;= 0.5.0), stats,\n",
              "tibble, withr (&gt;= 2.0.0)                                                                                                                                                                                                                                                                   </span></td><td>NA</td><td><span style=white-space:pre-wrap>covr, ragg, dplyr, ggplot2movies, hexbin, Hmisc, interp,\n",
              "knitr, lattice, mapproj, maps, maptools, multcomp, munsell,\n",
              "nlme, profvis, quantreg, RColorBrewer, rgeos, rmarkdown, rpart,\n",
              "sf (&gt;= 0.7-3), svglite (&gt;= 1.2.0.9001), testthat (&gt;= 2.1.0),\n",
              "vdiffr (&gt;= 0.3.0), xml2                                                                                                                                                                                                                                                                                                                                                                                                                                                                                          </span></td><td><span style=white-space:pre-wrap>sp                                                          </span></td><td><span style=white-space:pre-wrap>MIT + file LICENSE         </span></td><td>NA</td><td>NA</td><td>NA</td><td>NA</td><td>no </td><td>4.1.0</td></tr>\n",
              "\t<tr><th scope=row>IRdisplay</th><td><span style=white-space:pre-wrap>IRdisplay  </span></td><td>/usr/local/lib/R/site-library</td><td><span style=white-space:pre-wrap>1.0     </span></td><td>NA</td><td><span style=white-space:pre-wrap>R (&gt;= 3.0.1)                    </span></td><td><span style=white-space:pre-wrap>methods, repr                                                                                                                                                                                                                                                                                                                                                                                                    </span></td><td>NA</td><td><span style=white-space:pre-wrap>testthat, withr                                                                                                                                                                                                                                                                                                                                                                                                                                                                                                                                                                                                                                                                                                                                                        </span></td><td><span style=white-space:pre-wrap>NA                                                          </span></td><td><span style=white-space:pre-wrap>MIT + file LICENSE         </span></td><td>NA</td><td>NA</td><td>NA</td><td>NA</td><td>no </td><td>4.1.0</td></tr>\n",
              "\t<tr><th scope=row>IRkernel</th><td><span style=white-space:pre-wrap>IRkernel   </span></td><td>/usr/local/lib/R/site-library</td><td><span style=white-space:pre-wrap>1.2     </span></td><td>NA</td><td><span style=white-space:pre-wrap>R (&gt;= 3.2.0)                    </span></td><td><span style=white-space:pre-wrap>repr (&gt;= 0.4.99), methods, evaluate (&gt;= 0.10), IRdisplay (&gt;=\n",
              "0.3.0.9999), pbdZMQ (&gt;= 0.2-1), crayon, jsonlite (&gt;= 0.9.6),\n",
              "uuid, digest                                                                                                                                                                                                                                                                         </span></td><td>NA</td><td><span style=white-space:pre-wrap>testthat, roxygen2                                                                                                                                                                                                                                                                                                                                                                                                                                                                                                                                                                                                                                                                                                                                                     </span></td><td><span style=white-space:pre-wrap>NA                                                          </span></td><td><span style=white-space:pre-wrap>MIT + file LICENSE         </span></td><td>NA</td><td>NA</td><td>NA</td><td>NA</td><td>no </td><td>4.1.0</td></tr>\n",
              "\t<tr><th scope=row>pbdZMQ</th><td><span style=white-space:pre-wrap>pbdZMQ     </span></td><td>/usr/local/lib/R/site-library</td><td><span style=white-space:pre-wrap>0.3-5   </span></td><td>NA</td><td><span style=white-space:pre-wrap>R (&gt;= 3.5.0)                    </span></td><td><span style=white-space:pre-wrap>NA                                                                                                                                                                                                                                                                                                                                                                                                               </span></td><td>NA</td><td><span style=white-space:pre-wrap>NA                                                                                                                                                                                                                                                                                                                                                                                                                                                                                                                                                                                                                                                                                                                                                                     </span></td><td><span style=white-space:pre-wrap>NA                                                          </span></td><td><span style=white-space:pre-wrap>GPL-3                      </span></td><td>NA</td><td>NA</td><td>NA</td><td>NA</td><td>yes</td><td>4.1.0</td></tr>\n",
              "\t<tr><th scope=row>repr</th><td><span style=white-space:pre-wrap>repr       </span></td><td>/usr/local/lib/R/site-library</td><td><span style=white-space:pre-wrap>1.1.3   </span></td><td>NA</td><td><span style=white-space:pre-wrap>R (&gt;= 3.0.1)                    </span></td><td><span style=white-space:pre-wrap>utils, grDevices, htmltools, jsonlite, pillar (&gt;= 1.4.0),\n",
              "base64enc                                                                                                                                                                                                                                                                                                                                             </span></td><td>NA</td><td><span style=white-space:pre-wrap>methods, highr, Cairo, stringr, testthat (&gt;= 3.0.0), leaflet                                                                                                                                                                                                                                                                                                                                                                                                                                                                                                                                                                                                                                                                                                           </span></td><td>data.table, tibble, htmlwidgets, vegalite, plotly, geojsonio</td><td><span style=white-space:pre-wrap>GPL-3                      </span></td><td>NA</td><td>NA</td><td>NA</td><td>NA</td><td>no </td><td>4.1.0</td></tr>\n",
              "\t<tr><th scope=row>askpass</th><td><span style=white-space:pre-wrap>askpass    </span></td><td><span style=white-space:pre-wrap>/usr/lib/R/site-library      </span></td><td><span style=white-space:pre-wrap>1.1     </span></td><td>NA</td><td><span style=white-space:pre-wrap>NA                              </span></td><td><span style=white-space:pre-wrap>sys (&gt;= 2.1)                                                                                                                                                                                                                                                                                                                                                                                                     </span></td><td>NA</td><td><span style=white-space:pre-wrap>testthat                                                                                                                                                                                                                                                                                                                                                                                                                                                                                                                                                                                                                                                                                                                                                               </span></td><td><span style=white-space:pre-wrap>NA                                                          </span></td><td><span style=white-space:pre-wrap>MIT + file LICENSE         </span></td><td>NA</td><td>NA</td><td>NA</td><td>NA</td><td>yes</td><td>4.0.0</td></tr>\n",
              "\t<tr><th scope=row>assertthat</th><td>assertthat </td><td>/usr/lib/R/site-library      </td><td>0.2.1   </td><td>NA</td><td>NA                              </td><td>tools                                                                                                                                                                                                                                                                                                                                                                                                            </td><td>NA</td><td>testthat, covr                                                                                                                                                                                                                                                                                                                                                                                                                                                                                                                                                                                                                                                                                                                                                         </td><td>NA                                                          </td><td>GPL-3                      </td><td>NA</td><td>NA</td><td>NA</td><td>NA</td><td>no </td><td>4.0.0</td></tr>\n",
              "\t<tr><th scope=row>backports</th><td><span style=white-space:pre-wrap>backports  </span></td><td><span style=white-space:pre-wrap>/usr/lib/R/site-library      </span></td><td><span style=white-space:pre-wrap>1.2.1   </span></td><td>NA</td><td><span style=white-space:pre-wrap>R (&gt;= 3.0.0)                    </span></td><td><span style=white-space:pre-wrap>NA                                                                                                                                                                                                                                                                                                                                                                                                               </span></td><td>NA</td><td><span style=white-space:pre-wrap>NA                                                                                                                                                                                                                                                                                                                                                                                                                                                                                                                                                                                                                                                                                                                                                                     </span></td><td><span style=white-space:pre-wrap>NA                                                          </span></td><td><span style=white-space:pre-wrap>GPL-2 | GPL-3              </span></td><td>NA</td><td>NA</td><td>NA</td><td>NA</td><td>yes</td><td>4.0.3</td></tr>\n",
              "\t<tr><th scope=row>base64enc</th><td><span style=white-space:pre-wrap>base64enc  </span></td><td><span style=white-space:pre-wrap>/usr/lib/R/site-library      </span></td><td><span style=white-space:pre-wrap>0.1-3   </span></td><td>NA</td><td><span style=white-space:pre-wrap>R (&gt;= 2.9.0)                    </span></td><td><span style=white-space:pre-wrap>NA                                                                                                                                                                                                                                                                                                                                                                                                               </span></td><td>NA</td><td><span style=white-space:pre-wrap>NA                                                                                                                                                                                                                                                                                                                                                                                                                                                                                                                                                                                                                                                                                                                                                                     </span></td><td><span style=white-space:pre-wrap>png                                                         </span></td><td><span style=white-space:pre-wrap>GPL-2 | GPL-3              </span></td><td>NA</td><td>NA</td><td>NA</td><td>NA</td><td>yes</td><td>4.0.0</td></tr>\n",
              "\t<tr><th scope=row>BH</th><td>BH         </td><td>/usr/lib/R/site-library      </td><td>1.75.0-0</td><td>NA</td><td>NA                              </td><td>NA                                                                                                                                                                                                                                                                                                                                                                                                               </td><td>NA</td><td>NA                                                                                                                                                                                                                                                                                                                                                                                                                                                                                                                                                                                                                                                                                                                                                                     </td><td>NA                                                          </td><td>BSL-1.0                    </td><td>NA</td><td>NA</td><td>NA</td><td>NA</td><td>no </td><td>4.0.3</td></tr>\n",
              "\t<tr><th scope=row>blob</th><td><span style=white-space:pre-wrap>blob       </span></td><td><span style=white-space:pre-wrap>/usr/lib/R/site-library      </span></td><td><span style=white-space:pre-wrap>1.2.1   </span></td><td>NA</td><td><span style=white-space:pre-wrap>NA                              </span></td><td><span style=white-space:pre-wrap>methods, rlang, vctrs (&gt;= 0.2.1)                                                                                                                                                                                                                                                                                                                                                                                 </span></td><td>NA</td><td><span style=white-space:pre-wrap>covr, crayon, pillar (&gt;= 1.2.1), testthat                                                                                                                                                                                                                                                                                                                                                                                                                                                                                                                                                                                                                                                                                                                              </span></td><td><span style=white-space:pre-wrap>NA                                                          </span></td><td><span style=white-space:pre-wrap>GPL-3                      </span></td><td>NA</td><td>NA</td><td>NA</td><td>NA</td><td>no </td><td>4.0.0</td></tr>\n",
              "\t<tr><th scope=row>brew</th><td>brew       </td><td>/usr/lib/R/site-library      </td><td>1.0-6   </td><td>NA</td><td>NA                              </td><td>NA                                                                                                                                                                                                                                                                                                                                                                                                               </td><td>NA</td><td>NA                                                                                                                                                                                                                                                                                                                                                                                                                                                                                                                                                                                                                                                                                                                                                                     </td><td>NA                                                          </td><td>GPL-2                      </td><td>NA</td><td>NA</td><td>NA</td><td>NA</td><td>NA </td><td>4.0.0</td></tr>\n",
              "\t<tr><th scope=row>brio</th><td><span style=white-space:pre-wrap>brio       </span></td><td><span style=white-space:pre-wrap>/usr/lib/R/site-library      </span></td><td><span style=white-space:pre-wrap>1.1.2   </span></td><td>NA</td><td><span style=white-space:pre-wrap>NA                              </span></td><td><span style=white-space:pre-wrap>NA                                                                                                                                                                                                                                                                                                                                                                                                               </span></td><td>NA</td><td><span style=white-space:pre-wrap>testthat (&gt;= 2.1.0), covr                                                                                                                                                                                                                                                                                                                                                                                                                                                                                                                                                                                                                                                                                                                                              </span></td><td><span style=white-space:pre-wrap>NA                                                          </span></td><td><span style=white-space:pre-wrap>MIT + file LICENSE         </span></td><td>NA</td><td>NA</td><td>NA</td><td>NA</td><td>yes</td><td>4.0.5</td></tr>\n",
              "\t<tr><th scope=row>broom</th><td><span style=white-space:pre-wrap>broom      </span></td><td><span style=white-space:pre-wrap>/usr/lib/R/site-library      </span></td><td><span style=white-space:pre-wrap>0.7.6   </span></td><td>NA</td><td><span style=white-space:pre-wrap>R (&gt;= 3.1)                      </span></td><td><span style=white-space:pre-wrap>backports, dplyr (&gt;= 1.0.0), ellipsis, generics (&gt;= 0.0.2),\n",
              "glue, methods, purrr, rlang, stringr, tibble (&gt;= 3.0.0), tidyr\n",
              "(&gt;= 1.0.0)                                                                                                                                                                                                                                                                          </span></td><td>NA</td><td>AER, akima, AUC, bbmle, betareg, biglm, binGroup, boot,\n",
              "btergm, car, caret, cluster, cmprsk, coda, covr, drc, e1071,\n",
              "emmeans, epiR, ergm (&gt;= 3.10.4), fixest (&gt;= 0.8.1), gam (&gt;=\n",
              "1.15), gee, geepack, ggplot2, glmnet, glmnetUtils, gmm, Hmisc,\n",
              "irlba, joineRML, Kendall, knitr, ks, Lahman, lavaan, leaps,\n",
              "lfe, lm.beta, lme4, lmodel2, lmtest (&gt;= 0.9.38), lsmeans, maps,\n",
              "maptools, margins, MASS, Matrix, mclust, mediation, metafor,\n",
              "mfx, mgcv, mlogit, modeldata, modeltests, muhaz, multcomp,\n",
              "network, nnet, orcutt (&gt;= 2.2), ordinal, plm, poLCA, psych,\n",
              "quantreg, Rchoice, rgeos, rmarkdown, robust, robustbase,\n",
              "rsample, sandwich, sp, spdep, spatialreg, speedglm, spelling,\n",
              "survey, survival, systemfit, testthat (&gt;= 2.1.0), tseries,\n",
              "vars, zoo</td><td><span style=white-space:pre-wrap>NA                                                          </span></td><td><span style=white-space:pre-wrap>MIT + file LICENSE         </span></td><td>NA</td><td>NA</td><td>NA</td><td>NA</td><td>no </td><td>4.0.5</td></tr>\n",
              "\t<tr><th scope=row>cachem</th><td>cachem     </td><td>/usr/lib/R/site-library      </td><td>1.0.5   </td><td>NA</td><td>NA                              </td><td>rlang, fastmap                                                                                                                                                                                                                                                                                                                                                                                                   </td><td>NA</td><td>testthat                                                                                                                                                                                                                                                                                                                                                                                                                                                                                                                                                                                                                                                                                                                                                               </td><td>NA                                                          </td><td>MIT + file LICENSE         </td><td>NA</td><td>NA</td><td>NA</td><td>NA</td><td>yes</td><td>4.0.5</td></tr>\n",
              "\t<tr><th scope=row>callr</th><td><span style=white-space:pre-wrap>callr      </span></td><td><span style=white-space:pre-wrap>/usr/lib/R/site-library      </span></td><td><span style=white-space:pre-wrap>3.7.0   </span></td><td>NA</td><td><span style=white-space:pre-wrap>NA                              </span></td><td><span style=white-space:pre-wrap>processx (&gt;= 3.5.0), R6, utils                                                                                                                                                                                                                                                                                                                                                                                   </span></td><td>NA</td><td><span style=white-space:pre-wrap>cli, covr, ps, rprojroot, spelling, testthat, withr (&gt;=\n",
              "2.3.0)                                                                                                                                                                                                                                                                                                                                                                                                                                                                                                                                                                                                                                                                                                        </span></td><td><span style=white-space:pre-wrap>NA                                                          </span></td><td><span style=white-space:pre-wrap>MIT + file LICENSE         </span></td><td>NA</td><td>NA</td><td>NA</td><td>NA</td><td>no </td><td>4.0.5</td></tr>\n",
              "\t<tr><th scope=row>cellranger</th><td>cellranger </td><td><span style=white-space:pre-wrap>/usr/lib/R/site-library      </span></td><td><span style=white-space:pre-wrap>1.1.0   </span></td><td>NA</td><td><span style=white-space:pre-wrap>R (&gt;= 3.0.0)                    </span></td><td><span style=white-space:pre-wrap>rematch, tibble                                                                                                                                                                                                                                                                                                                                                                                                  </span></td><td>NA</td><td><span style=white-space:pre-wrap>covr, testthat (&gt;= 1.0.0), knitr, rmarkdown                                                                                                                                                                                                                                                                                                                                                                                                                                                                                                                                                                                                                                                                                                                            </span></td><td><span style=white-space:pre-wrap>NA                                                          </span></td><td><span style=white-space:pre-wrap>MIT + file LICENSE         </span></td><td>NA</td><td>NA</td><td>NA</td><td>NA</td><td>no </td><td>4.0.0</td></tr>\n",
              "\t<tr><th scope=row>cli</th><td><span style=white-space:pre-wrap>cli        </span></td><td><span style=white-space:pre-wrap>/usr/lib/R/site-library      </span></td><td><span style=white-space:pre-wrap>2.5.0   </span></td><td>NA</td><td><span style=white-space:pre-wrap>R (&gt;= 2.10)                     </span></td><td><span style=white-space:pre-wrap>glue, utils                                                                                                                                                                                                                                                                                                                                                                                                      </span></td><td>NA</td><td><span style=white-space:pre-wrap>callr, covr, grDevices, htmlwidgets, knitr, methods, mockery,\n",
              "ps (&gt;= 1.3.4.9000), rmarkdown, rstudioapi, prettycode (&gt;=\n",
              "1.1.0), testthat, tibble, withr                                                                                                                                                                                                                                                                                                                                                                                                                                                                                                                                                                                                              </span></td><td><span style=white-space:pre-wrap>NA                                                          </span></td><td><span style=white-space:pre-wrap>MIT + file LICENSE         </span></td><td>NA</td><td>NA</td><td>NA</td><td>NA</td><td>no </td><td>4.0.5</td></tr>\n",
              "\t<tr><th scope=row>clipr</th><td><span style=white-space:pre-wrap>clipr      </span></td><td><span style=white-space:pre-wrap>/usr/lib/R/site-library      </span></td><td><span style=white-space:pre-wrap>0.7.1   </span></td><td>NA</td><td><span style=white-space:pre-wrap>NA                              </span></td><td><span style=white-space:pre-wrap>utils                                                                                                                                                                                                                                                                                                                                                                                                            </span></td><td>NA</td><td><span style=white-space:pre-wrap>covr, knitr, rmarkdown, rstudioapi (&gt;= 0.5), testthat (&gt;=\n",
              "2.0.0)                                                                                                                                                                                                                                                                                                                                                                                                                                                                                                                                                                                                                                                                                                      </span></td><td><span style=white-space:pre-wrap>NA                                                          </span></td><td><span style=white-space:pre-wrap>GPL-3                      </span></td><td>NA</td><td>NA</td><td>NA</td><td>NA</td><td>no </td><td>4.0.2</td></tr>\n",
              "\t<tr><th scope=row>colorspace</th><td>colorspace </td><td><span style=white-space:pre-wrap>/usr/lib/R/site-library      </span></td><td><span style=white-space:pre-wrap>2.0-1   </span></td><td>NA</td><td><span style=white-space:pre-wrap>R (&gt;= 3.0.0), methods           </span></td><td><span style=white-space:pre-wrap>graphics, grDevices, stats                                                                                                                                                                                                                                                                                                                                                                                       </span></td><td>NA</td><td><span style=white-space:pre-wrap>datasets, utils, KernSmooth, MASS, kernlab, mvtnorm, vcd,\n",
              "tcltk, shiny, shinyjs, ggplot2, dplyr, scales, grid, png, jpeg,\n",
              "knitr, rmarkdown, RColorBrewer, rcartocolor, scico, viridis,\n",
              "wesanderson                                                                                                                                                                                                                                                                                                                                                                                                                                                                                                                                                                  </span></td><td><span style=white-space:pre-wrap>NA                                                          </span></td><td>BSD_3_clause + file LICENSE</td><td>NA</td><td>NA</td><td>NA</td><td>NA</td><td>yes</td><td>4.0.5</td></tr>\n",
              "\t<tr><th scope=row>commonmark</th><td>commonmark </td><td>/usr/lib/R/site-library      </td><td>1.7     </td><td>NA</td><td>NA                              </td><td>NA                                                                                                                                                                                                                                                                                                                                                                                                               </td><td>NA</td><td>curl, testthat, xml2                                                                                                                                                                                                                                                                                                                                                                                                                                                                                                                                                                                                                                                                                                                                                   </td><td>NA                                                          </td><td>BSD_2_clause + file LICENSE</td><td>NA</td><td>NA</td><td>NA</td><td>NA</td><td>yes</td><td>4.0.0</td></tr>\n",
              "\t<tr><th scope=row>cpp11</th><td>cpp11      </td><td>/usr/lib/R/site-library      </td><td>0.2.7   </td><td>NA</td><td>NA                              </td><td>NA                                                                                                                                                                                                                                                                                                                                                                                                               </td><td>NA</td><td>bench, brio, callr, cli, covr, decor, desc, ggplot2, glue,\n",
              "knitr, lobstr, mockery, progress, rmarkdown, scales, testthat,\n",
              "tibble, utils, vctrs, withr                                                                                                                                                                                                                                                                                                                                                                                                                                                                                                                                                                                                                </td><td>NA                                                          </td><td>MIT + file LICENSE         </td><td>NA</td><td>NA</td><td>NA</td><td>NA</td><td>no </td><td>4.0.4</td></tr>\n",
              "\t<tr><th scope=row>crayon</th><td>crayon     </td><td>/usr/lib/R/site-library      </td><td>1.4.1   </td><td>NA</td><td>NA                              </td><td>grDevices, methods, utils                                                                                                                                                                                                                                                                                                                                                                                        </td><td>NA</td><td>mockery, rstudioapi, testthat, withr                                                                                                                                                                                                                                                                                                                                                                                                                                                                                                                                                                                                                                                                                                                                   </td><td>NA                                                          </td><td>MIT + file LICENSE         </td><td>NA</td><td>NA</td><td>NA</td><td>NA</td><td>no </td><td>4.0.3</td></tr>\n",
              "\t<tr><th scope=row>credentials</th><td>credentials</td><td><span style=white-space:pre-wrap>/usr/lib/R/site-library      </span></td><td><span style=white-space:pre-wrap>1.3.0   </span></td><td>NA</td><td><span style=white-space:pre-wrap>NA                              </span></td><td><span style=white-space:pre-wrap>openssl (&gt;= 1.3), sys (&gt;= 2.1), curl, jsonlite, askpass                                                                                                                                                                                                                                                                                                                                                          </span></td><td>NA</td><td><span style=white-space:pre-wrap>testthat, knitr, rmarkdown                                                                                                                                                                                                                                                                                                                                                                                                                                                                                                                                                                                                                                                                                                                                             </span></td><td><span style=white-space:pre-wrap>NA                                                          </span></td><td><span style=white-space:pre-wrap>MIT + file LICENSE         </span></td><td>NA</td><td>NA</td><td>NA</td><td>NA</td><td>no </td><td>4.0.2</td></tr>\n",
              "\t<tr><th scope=row>curl</th><td><span style=white-space:pre-wrap>curl       </span></td><td><span style=white-space:pre-wrap>/usr/lib/R/site-library      </span></td><td><span style=white-space:pre-wrap>4.3.1   </span></td><td>NA</td><td><span style=white-space:pre-wrap>R (&gt;= 3.0.0)                    </span></td><td><span style=white-space:pre-wrap>NA                                                                                                                                                                                                                                                                                                                                                                                                               </span></td><td>NA</td><td><span style=white-space:pre-wrap>spelling, testthat (&gt;= 1.0.0), knitr, jsonlite, rmarkdown,\n",
              "magrittr, httpuv (&gt;= 1.4.4), webutils                                                                                                                                                                                                                                                                                                                                                                                                                                                                                                                                                                                                                                                                      </span></td><td><span style=white-space:pre-wrap>NA                                                          </span></td><td><span style=white-space:pre-wrap>MIT + file LICENSE         </span></td><td>NA</td><td>NA</td><td>NA</td><td>NA</td><td>yes</td><td>4.0.5</td></tr>\n",
              "\t<tr><th scope=row>data.table</th><td>data.table </td><td><span style=white-space:pre-wrap>/usr/lib/R/site-library      </span></td><td><span style=white-space:pre-wrap>1.14.0  </span></td><td>NA</td><td><span style=white-space:pre-wrap>R (&gt;= 3.1.0)                    </span></td><td><span style=white-space:pre-wrap>methods                                                                                                                                                                                                                                                                                                                                                                                                          </span></td><td>NA</td><td><span style=white-space:pre-wrap>bit64 (&gt;= 4.0.0), bit (&gt;= 4.0.4), curl, R.utils, xts,\n",
              "nanotime, zoo (&gt;= 1.8-1), yaml, knitr, rmarkdown                                                                                                                                                                                                                                                                                                                                                                                                                                                                                                                                                                                                                                                                </span></td><td><span style=white-space:pre-wrap>NA                                                          </span></td><td><span style=white-space:pre-wrap>MPL-2.0 | file LICENSE     </span></td><td>NA</td><td>NA</td><td>NA</td><td>NA</td><td>yes</td><td>4.0.4</td></tr>\n",
              "\t<tr><th scope=row>DBI</th><td><span style=white-space:pre-wrap>DBI        </span></td><td><span style=white-space:pre-wrap>/usr/lib/R/site-library      </span></td><td><span style=white-space:pre-wrap>1.1.1   </span></td><td>NA</td><td><span style=white-space:pre-wrap>methods, R (&gt;= 3.0.0)           </span></td><td><span style=white-space:pre-wrap>NA                                                                                                                                                                                                                                                                                                                                                                                                               </span></td><td>NA</td><td><span style=white-space:pre-wrap>blob, covr, dbplyr, dplyr, glue, hms, knitr, magrittr,\n",
              "rmarkdown, rprojroot, RMariaDB, RSQLite (&gt;= 1.1-2), testthat,\n",
              "xml2                                                                                                                                                                                                                                                                                                                                                                                                                                                                                                                                                                                                                                            </span></td><td><span style=white-space:pre-wrap>NA                                                          </span></td><td><span style=white-space:pre-wrap>LGPL (&gt;= 2.1)              </span></td><td>NA</td><td>NA</td><td>NA</td><td>NA</td><td>no </td><td>4.0.3</td></tr>\n",
              "\t<tr><th scope=row>dbplyr</th><td><span style=white-space:pre-wrap>dbplyr     </span></td><td><span style=white-space:pre-wrap>/usr/lib/R/site-library      </span></td><td><span style=white-space:pre-wrap>2.1.1   </span></td><td>NA</td><td><span style=white-space:pre-wrap>R (&gt;= 3.1)                      </span></td><td><span style=white-space:pre-wrap>assertthat (&gt;= 0.2.0), blob (&gt;= 1.2.0), DBI (&gt;= 1.0.0), dplyr\n",
              "(&gt;= 1.0.4), ellipsis, glue (&gt;= 1.2.0), lifecycle (&gt;= 1.0.0),\n",
              "magrittr, methods, purrr (&gt;= 0.2.5), R6 (&gt;= 2.2.2), rlang (&gt;=\n",
              "0.2.0), tibble (&gt;= 1.4.2), tidyselect (&gt;= 0.2.4), utils, vctrs,\n",
              "withr                                                                                                                                               </span></td><td>NA</td><td><span style=white-space:pre-wrap>bit64, covr, knitr, Lahman, nycflights13, odbc, RMariaDB (&gt;=\n",
              "1.0.2), rmarkdown, RPostgres (&gt;= 1.1.3), RPostgreSQL, RSQLite\n",
              "(&gt;= 2.1.0), testthat (&gt;= 3.0.2), tidyr                                                                                                                                                                                                                                                                                                                                                                                                                                                                                                                                                                                                    </span></td><td><span style=white-space:pre-wrap>NA                                                          </span></td><td><span style=white-space:pre-wrap>MIT + file LICENSE         </span></td><td>NA</td><td>NA</td><td>NA</td><td>NA</td><td>no </td><td>4.0.5</td></tr>\n",
              "\t<tr><th scope=row>desc</th><td><span style=white-space:pre-wrap>desc       </span></td><td><span style=white-space:pre-wrap>/usr/lib/R/site-library      </span></td><td><span style=white-space:pre-wrap>1.3.0   </span></td><td>NA</td><td><span style=white-space:pre-wrap>R (&gt;= 3.1.0)                    </span></td><td><span style=white-space:pre-wrap>utils, R6, crayon, rprojroot                                                                                                                                                                                                                                                                                                                                                                                     </span></td><td>NA</td><td><span style=white-space:pre-wrap>covr, testthat, whoami, withr, spelling, gh                                                                                                                                                                                                                                                                                                                                                                                                                                                                                                                                                                                                                                                                                                                            </span></td><td><span style=white-space:pre-wrap>NA                                                          </span></td><td><span style=white-space:pre-wrap>MIT + file LICENSE         </span></td><td>NA</td><td>NA</td><td>NA</td><td>NA</td><td>no </td><td>4.0.4</td></tr>\n",
              "\t<tr><th scope=row>devtools</th><td><span style=white-space:pre-wrap>devtools   </span></td><td><span style=white-space:pre-wrap>/usr/lib/R/site-library      </span></td><td><span style=white-space:pre-wrap>2.4.2   </span></td><td>NA</td><td>R (&gt;= 3.0.2), usethis (&gt;= 2.0.1)</td><td>callr (&gt;= 3.6.0), cli (&gt;= 2.4.0), desc (&gt;= 1.3.0), ellipsis\n",
              "(&gt;= 0.3.1), fs (&gt;= 1.5.0), httr (&gt;= 1.4.2), lifecycle (&gt;=\n",
              "1.0.0), memoise (&gt;= 2.0.0), pkgbuild (&gt;= 1.2.0), pkgload (&gt;=\n",
              "1.2.1), rcmdcheck (&gt;= 1.3.3), remotes (&gt;= 2.3.0), rlang (&gt;=\n",
              "0.4.10), roxygen2 (&gt;= 7.1.1), rstudioapi (&gt;= 0.13), rversions\n",
              "(&gt;= 2.0.2), sessioninfo (&gt;= 1.1.1), stats, testthat (&gt;= 3.0.2),\n",
              "tools, utils, withr (&gt;= 2.4.1)</td><td>NA</td><td><span style=white-space:pre-wrap>BiocManager (&gt;= 1.30.12), covr (&gt;= 3.5.1), curl (&gt;= 4.3),\n",
              "digest (&gt;= 0.6.27), DT (&gt;= 0.17), foghorn (&gt;= 1.3.2), gh (&gt;=\n",
              "1.2.1), gmailr (&gt;= 1.0.0), knitr (&gt;= 1.31), lintr (&gt;= 2.0.1),\n",
              "MASS, mockery (&gt;= 0.4.2), pingr (&gt;= 2.0.1), pkgdown (&gt;= 1.6.1),\n",
              "rhub (&gt;= 1.1.1), rmarkdown (&gt;= 2.7), spelling (&gt;= 2.2)                                                                                                                                                                                                                                                                                                                                                                                                                                                        </span></td><td><span style=white-space:pre-wrap>NA                                                          </span></td><td><span style=white-space:pre-wrap>MIT + file LICENSE         </span></td><td>NA</td><td>NA</td><td>NA</td><td>NA</td><td>no </td><td>4.1.0</td></tr>\n",
              "\t<tr><th scope=row>⋮</th><td>⋮</td><td>⋮</td><td>⋮</td><td>⋮</td><td>⋮</td><td>⋮</td><td>⋮</td><td>⋮</td><td>⋮</td><td>⋮</td><td>⋮</td><td>⋮</td><td>⋮</td><td>⋮</td><td>⋮</td><td>⋮</td></tr>\n",
              "\t<tr><th scope=row>zip</th><td>zip       </td><td>/usr/lib/R/site-library</td><td>2.2.0  </td><td>NA         </td><td>NA                                             </td><td>NA                                              </td><td>NA</td><td>covr, processx, R6, testthat, withr       </td><td>NA                                                                 </td><td>MIT + file LICENSE       </td><td>NA</td><td>NA</td><td>NA</td><td>NA</td><td>yes</td><td>4.1.0</td></tr>\n",
              "\t<tr><th scope=row>base</th><td>base      </td><td>/usr/lib/R/library     </td><td>4.1.0  </td><td>base       </td><td>NA                                             </td><td>NA                                              </td><td>NA</td><td>methods                                   </td><td>NA                                                                 </td><td>Part of R 4.1.0          </td><td>NA</td><td>NA</td><td>NA</td><td>NA</td><td>NA </td><td>4.1.0</td></tr>\n",
              "\t<tr><th scope=row>boot</th><td><span style=white-space:pre-wrap>boot      </span></td><td><span style=white-space:pre-wrap>/usr/lib/R/library     </span></td><td>1.3-28 </td><td>recommended</td><td><span style=white-space:pre-wrap>R (&gt;= 3.0.0), graphics, stats                  </span></td><td><span style=white-space:pre-wrap>NA                                              </span></td><td>NA</td><td><span style=white-space:pre-wrap>MASS, survival                            </span></td><td><span style=white-space:pre-wrap>NA                                                                 </span></td><td><span style=white-space:pre-wrap>Unlimited                </span></td><td>NA</td><td>NA</td><td>NA</td><td>NA</td><td>no </td><td>4.0.5</td></tr>\n",
              "\t<tr><th scope=row>class</th><td><span style=white-space:pre-wrap>class     </span></td><td><span style=white-space:pre-wrap>/usr/lib/R/library     </span></td><td>7.3-19 </td><td>recommended</td><td><span style=white-space:pre-wrap>R (&gt;= 3.0.0), stats, utils                     </span></td><td><span style=white-space:pre-wrap>MASS                                            </span></td><td>NA</td><td><span style=white-space:pre-wrap>NA                                        </span></td><td><span style=white-space:pre-wrap>NA                                                                 </span></td><td><span style=white-space:pre-wrap>GPL-2 | GPL-3            </span></td><td>NA</td><td>NA</td><td>NA</td><td>NA</td><td>yes</td><td>4.0.5</td></tr>\n",
              "\t<tr><th scope=row>cluster</th><td><span style=white-space:pre-wrap>cluster   </span></td><td><span style=white-space:pre-wrap>/usr/lib/R/library     </span></td><td><span style=white-space:pre-wrap>2.1.2  </span></td><td>recommended</td><td><span style=white-space:pre-wrap>R (&gt;= 3.4.0)                                   </span></td><td><span style=white-space:pre-wrap>graphics, grDevices, stats, utils               </span></td><td>NA</td><td><span style=white-space:pre-wrap>MASS, Matrix                              </span></td><td><span style=white-space:pre-wrap>NA                                                                 </span></td><td><span style=white-space:pre-wrap>GPL (&gt;= 2)               </span></td><td>NA</td><td>NA</td><td>NA</td><td>NA</td><td>yes</td><td>4.0.5</td></tr>\n",
              "\t<tr><th scope=row>codetools</th><td>codetools </td><td><span style=white-space:pre-wrap>/usr/lib/R/library     </span></td><td>0.2-18 </td><td>recommended</td><td><span style=white-space:pre-wrap>R (&gt;= 2.1)                                     </span></td><td><span style=white-space:pre-wrap>NA                                              </span></td><td>NA</td><td><span style=white-space:pre-wrap>NA                                        </span></td><td><span style=white-space:pre-wrap>NA                                                                 </span></td><td><span style=white-space:pre-wrap>GPL                      </span></td><td>NA</td><td>NA</td><td>NA</td><td>NA</td><td>no </td><td>4.0.3</td></tr>\n",
              "\t<tr><th scope=row>compiler</th><td>compiler  </td><td>/usr/lib/R/library     </td><td>4.1.0  </td><td>base       </td><td>NA                                             </td><td>NA                                              </td><td>NA</td><td>NA                                        </td><td>NA                                                                 </td><td>Part of R 4.1.0          </td><td>NA</td><td>NA</td><td>NA</td><td>NA</td><td>NA </td><td>4.1.0</td></tr>\n",
              "\t<tr><th scope=row>datasets</th><td>datasets  </td><td>/usr/lib/R/library     </td><td>4.1.0  </td><td>base       </td><td>NA                                             </td><td>NA                                              </td><td>NA</td><td>NA                                        </td><td>NA                                                                 </td><td>Part of R 4.1.0          </td><td>NA</td><td>NA</td><td>NA</td><td>NA</td><td>NA </td><td>4.1.0</td></tr>\n",
              "\t<tr><th scope=row>foreign</th><td><span style=white-space:pre-wrap>foreign   </span></td><td><span style=white-space:pre-wrap>/usr/lib/R/library     </span></td><td>0.8-81 </td><td>recommended</td><td><span style=white-space:pre-wrap>R (&gt;= 4.0.0)                                   </span></td><td><span style=white-space:pre-wrap>methods, utils, stats                           </span></td><td>NA</td><td><span style=white-space:pre-wrap>NA                                        </span></td><td><span style=white-space:pre-wrap>NA                                                                 </span></td><td><span style=white-space:pre-wrap>GPL (&gt;= 2)               </span></td><td>NA</td><td>NA</td><td>NA</td><td>NA</td><td>yes</td><td>4.0.3</td></tr>\n",
              "\t<tr><th scope=row>graphics</th><td>graphics  </td><td>/usr/lib/R/library     </td><td>4.1.0  </td><td>base       </td><td>NA                                             </td><td>grDevices                                       </td><td>NA</td><td>NA                                        </td><td>NA                                                                 </td><td>Part of R 4.1.0          </td><td>NA</td><td>NA</td><td>NA</td><td>NA</td><td>yes</td><td>4.1.0</td></tr>\n",
              "\t<tr><th scope=row>grDevices</th><td>grDevices </td><td>/usr/lib/R/library     </td><td>4.1.0  </td><td>base       </td><td>NA                                             </td><td>NA                                              </td><td>NA</td><td>KernSmooth                                </td><td>NA                                                                 </td><td>Part of R 4.1.0          </td><td>NA</td><td>NA</td><td>NA</td><td>NA</td><td>yes</td><td>4.1.0</td></tr>\n",
              "\t<tr><th scope=row>grid</th><td>grid      </td><td>/usr/lib/R/library     </td><td>4.1.0  </td><td>base       </td><td>NA                                             </td><td>grDevices, utils                                </td><td>NA</td><td>lattice                                   </td><td>NA                                                                 </td><td>Part of R 4.1.0          </td><td>NA</td><td>NA</td><td>NA</td><td>NA</td><td>yes</td><td>4.1.0</td></tr>\n",
              "\t<tr><th scope=row>KernSmooth</th><td>KernSmooth</td><td><span style=white-space:pre-wrap>/usr/lib/R/library     </span></td><td>2.23-20</td><td>recommended</td><td><span style=white-space:pre-wrap>R (&gt;= 2.5.0), stats                            </span></td><td><span style=white-space:pre-wrap>NA                                              </span></td><td>NA</td><td><span style=white-space:pre-wrap>MASS, carData                             </span></td><td><span style=white-space:pre-wrap>NA                                                                 </span></td><td><span style=white-space:pre-wrap>Unlimited                </span></td><td>NA</td><td>NA</td><td>NA</td><td>NA</td><td>yes</td><td>4.0.5</td></tr>\n",
              "\t<tr><th scope=row>lattice</th><td><span style=white-space:pre-wrap>lattice   </span></td><td><span style=white-space:pre-wrap>/usr/lib/R/library     </span></td><td>0.20-44</td><td>recommended</td><td><span style=white-space:pre-wrap>R (&gt;= 3.0.0)                                   </span></td><td><span style=white-space:pre-wrap>grid, grDevices, graphics, stats, utils         </span></td><td>NA</td><td><span style=white-space:pre-wrap>KernSmooth, MASS, latticeExtra            </span></td><td><span style=white-space:pre-wrap>chron                                                              </span></td><td><span style=white-space:pre-wrap>GPL (&gt;= 2)               </span></td><td>NA</td><td>NA</td><td>NA</td><td>NA</td><td>yes</td><td>4.1.0</td></tr>\n",
              "\t<tr><th scope=row>MASS</th><td><span style=white-space:pre-wrap>MASS      </span></td><td><span style=white-space:pre-wrap>/usr/lib/R/library     </span></td><td>7.3-54 </td><td>recommended</td><td>R (&gt;= 3.3.0), grDevices, graphics, stats, utils</td><td><span style=white-space:pre-wrap>methods                                         </span></td><td>NA</td><td><span style=white-space:pre-wrap>lattice, nlme, nnet, survival             </span></td><td><span style=white-space:pre-wrap>NA                                                                 </span></td><td><span style=white-space:pre-wrap>GPL-2 | GPL-3            </span></td><td>NA</td><td>NA</td><td>NA</td><td>NA</td><td>yes</td><td>4.0.5</td></tr>\n",
              "\t<tr><th scope=row>Matrix</th><td><span style=white-space:pre-wrap>Matrix    </span></td><td><span style=white-space:pre-wrap>/usr/lib/R/library     </span></td><td><span style=white-space:pre-wrap>1.3-4  </span></td><td>recommended</td><td><span style=white-space:pre-wrap>R (&gt;= 3.5.0)                                   </span></td><td><span style=white-space:pre-wrap>methods, graphics, grid, stats, utils, lattice  </span></td><td>NA</td><td><span style=white-space:pre-wrap>expm, MASS                                </span></td><td>MatrixModels, graph, SparseM, sfsmisc, igraph, maptools, sp,\n",
              "spdep</td><td>GPL (&gt;= 2) | file LICENCE</td><td>NA</td><td>NA</td><td>NA</td><td>NA</td><td>yes</td><td>4.1.0</td></tr>\n",
              "\t<tr><th scope=row>methods</th><td>methods   </td><td>/usr/lib/R/library     </td><td>4.1.0  </td><td>base       </td><td>NA                                             </td><td>utils, stats                                    </td><td>NA</td><td>codetools                                 </td><td>NA                                                                 </td><td>Part of R 4.1.0          </td><td>NA</td><td>NA</td><td>NA</td><td>NA</td><td>yes</td><td>4.1.0</td></tr>\n",
              "\t<tr><th scope=row>mgcv</th><td><span style=white-space:pre-wrap>mgcv      </span></td><td><span style=white-space:pre-wrap>/usr/lib/R/library     </span></td><td>1.8-36 </td><td>recommended</td><td><span style=white-space:pre-wrap>R (&gt;= 3.6.0), nlme (&gt;= 3.1-64)                 </span></td><td>methods, stats, graphics, Matrix, splines, utils</td><td>NA</td><td><span style=white-space:pre-wrap>parallel, survival, MASS                  </span></td><td><span style=white-space:pre-wrap>NA                                                                 </span></td><td><span style=white-space:pre-wrap>GPL (&gt;= 2)               </span></td><td>NA</td><td>NA</td><td>NA</td><td>NA</td><td>yes</td><td>4.1.0</td></tr>\n",
              "\t<tr><th scope=row>nlme</th><td><span style=white-space:pre-wrap>nlme      </span></td><td><span style=white-space:pre-wrap>/usr/lib/R/library     </span></td><td>3.1-152</td><td>recommended</td><td><span style=white-space:pre-wrap>R (&gt;= 3.4.0)                                   </span></td><td><span style=white-space:pre-wrap>graphics, stats, utils, lattice                 </span></td><td>NA</td><td><span style=white-space:pre-wrap>Hmisc, MASS                               </span></td><td><span style=white-space:pre-wrap>NA                                                                 </span></td><td>GPL (&gt;= 2) | file LICENCE</td><td>NA</td><td>NA</td><td>NA</td><td>NA</td><td>yes</td><td>4.0.3</td></tr>\n",
              "\t<tr><th scope=row>nnet</th><td><span style=white-space:pre-wrap>nnet      </span></td><td><span style=white-space:pre-wrap>/usr/lib/R/library     </span></td><td>7.3-16 </td><td>recommended</td><td><span style=white-space:pre-wrap>R (&gt;= 3.0.0), stats, utils                     </span></td><td><span style=white-space:pre-wrap>NA                                              </span></td><td>NA</td><td><span style=white-space:pre-wrap>MASS                                      </span></td><td><span style=white-space:pre-wrap>NA                                                                 </span></td><td><span style=white-space:pre-wrap>GPL-2 | GPL-3            </span></td><td>NA</td><td>NA</td><td>NA</td><td>NA</td><td>yes</td><td>4.0.5</td></tr>\n",
              "\t<tr><th scope=row>parallel</th><td>parallel  </td><td>/usr/lib/R/library     </td><td>4.1.0  </td><td>base       </td><td>NA                                             </td><td>tools, compiler                                 </td><td>NA</td><td>methods                                   </td><td>snow, nws, Rmpi                                                    </td><td>Part of R 4.1.0          </td><td>NA</td><td>NA</td><td>NA</td><td>NA</td><td>yes</td><td>4.1.0</td></tr>\n",
              "\t<tr><th scope=row>rpart</th><td><span style=white-space:pre-wrap>rpart     </span></td><td><span style=white-space:pre-wrap>/usr/lib/R/library     </span></td><td>4.1-15 </td><td>recommended</td><td><span style=white-space:pre-wrap>R (&gt;= 2.15.0), graphics, stats, grDevices      </span></td><td><span style=white-space:pre-wrap>NA                                              </span></td><td>NA</td><td><span style=white-space:pre-wrap>survival                                  </span></td><td><span style=white-space:pre-wrap>NA                                                                 </span></td><td><span style=white-space:pre-wrap>GPL-2 | GPL-3            </span></td><td>NA</td><td>NA</td><td>NA</td><td>NA</td><td>yes</td><td>4.0.0</td></tr>\n",
              "\t<tr><th scope=row>spatial</th><td><span style=white-space:pre-wrap>spatial   </span></td><td><span style=white-space:pre-wrap>/usr/lib/R/library     </span></td><td>7.3-14 </td><td>recommended</td><td><span style=white-space:pre-wrap>R (&gt;= 3.0.0), graphics, stats, utils           </span></td><td><span style=white-space:pre-wrap>NA                                              </span></td><td>NA</td><td><span style=white-space:pre-wrap>MASS                                      </span></td><td><span style=white-space:pre-wrap>NA                                                                 </span></td><td><span style=white-space:pre-wrap>GPL-2 | GPL-3            </span></td><td>NA</td><td>NA</td><td>NA</td><td>NA</td><td>yes</td><td>4.0.5</td></tr>\n",
              "\t<tr><th scope=row>splines</th><td>splines   </td><td>/usr/lib/R/library     </td><td>4.1.0  </td><td>base       </td><td>NA                                             </td><td>graphics, stats                                 </td><td>NA</td><td>Matrix, methods                           </td><td>NA                                                                 </td><td>Part of R 4.1.0          </td><td>NA</td><td>NA</td><td>NA</td><td>NA</td><td>yes</td><td>4.1.0</td></tr>\n",
              "\t<tr><th scope=row>stats</th><td>stats     </td><td>/usr/lib/R/library     </td><td>4.1.0  </td><td>base       </td><td>NA                                             </td><td>utils, grDevices, graphics                      </td><td>NA</td><td>MASS, Matrix, SuppDists, methods, stats4  </td><td>NA                                                                 </td><td>Part of R 4.1.0          </td><td>NA</td><td>NA</td><td>NA</td><td>NA</td><td>yes</td><td>4.1.0</td></tr>\n",
              "\t<tr><th scope=row>stats4</th><td>stats4    </td><td>/usr/lib/R/library     </td><td>4.1.0  </td><td>base       </td><td>NA                                             </td><td>graphics, methods, stats                        </td><td>NA</td><td>NA                                        </td><td>NA                                                                 </td><td>Part of R 4.1.0          </td><td>NA</td><td>NA</td><td>NA</td><td>NA</td><td>NA </td><td>4.1.0</td></tr>\n",
              "\t<tr><th scope=row>survival</th><td><span style=white-space:pre-wrap>survival  </span></td><td><span style=white-space:pre-wrap>/usr/lib/R/library     </span></td><td>3.2-11 </td><td>recommended</td><td><span style=white-space:pre-wrap>R (&gt;= 3.5.0)                                   </span></td><td>graphics, Matrix, methods, splines, stats, utils</td><td>NA</td><td><span style=white-space:pre-wrap>NA                                        </span></td><td><span style=white-space:pre-wrap>NA                                                                 </span></td><td><span style=white-space:pre-wrap>LGPL (&gt;= 2)              </span></td><td>NA</td><td>NA</td><td>NA</td><td>NA</td><td>yes</td><td>4.0.5</td></tr>\n",
              "\t<tr><th scope=row>tcltk</th><td>tcltk     </td><td>/usr/lib/R/library     </td><td>4.1.0  </td><td>base       </td><td>NA                                             </td><td>utils                                           </td><td>NA</td><td>NA                                        </td><td>NA                                                                 </td><td>Part of R 4.1.0          </td><td>NA</td><td>NA</td><td>NA</td><td>NA</td><td>yes</td><td>4.1.0</td></tr>\n",
              "\t<tr><th scope=row>tools</th><td>tools     </td><td>/usr/lib/R/library     </td><td>4.1.0  </td><td>base       </td><td>NA                                             </td><td>NA                                              </td><td>NA</td><td>codetools, methods, xml2, curl, commonmark</td><td>NA                                                                 </td><td>Part of R 4.1.0          </td><td>NA</td><td>NA</td><td>NA</td><td>NA</td><td>yes</td><td>4.1.0</td></tr>\n",
              "\t<tr><th scope=row>utils</th><td>utils     </td><td>/usr/lib/R/library     </td><td>4.1.0  </td><td>base       </td><td>NA                                             </td><td>NA                                              </td><td>NA</td><td>methods, xml2, commonmark                 </td><td>NA                                                                 </td><td>Part of R 4.1.0          </td><td>NA</td><td>NA</td><td>NA</td><td>NA</td><td>yes</td><td>4.1.0</td></tr>\n",
              "</tbody>\n",
              "</table>\n"
            ]
          },
          "metadata": {
            "tags": []
          }
        }
      ]
    },
    {
      "cell_type": "code",
      "metadata": {
        "id": "JByEjmAwVU4Y"
      },
      "source": [
        "update.packages('ggplot2')"
      ],
      "execution_count": 13,
      "outputs": []
    },
    {
      "cell_type": "code",
      "metadata": {
        "id": "xQ5551P3VXXy",
        "outputId": "8cc50a53-5382-4211-f4cd-902ecdc01299",
        "colab": {
          "base_uri": "https://localhost:8080/"
        }
      },
      "source": [
        "remove.packages('ggplot2')"
      ],
      "execution_count": 14,
      "outputs": [
        {
          "output_type": "stream",
          "text": [
            "Removing package from ‘/usr/local/lib/R/site-library’\n",
            "(as ‘lib’ is unspecified)\n",
            "\n"
          ],
          "name": "stderr"
        }
      ]
    }
  ]
}