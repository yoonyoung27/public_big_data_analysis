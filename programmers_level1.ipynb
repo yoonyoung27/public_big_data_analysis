{
  "nbformat": 4,
  "nbformat_minor": 0,
  "metadata": {
    "colab": {
      "name": "programmers_level1.ipynb",
      "provenance": [],
      "collapsed_sections": [],
      "authorship_tag": "ABX9TyMfCBqZezKHaJHvCBmaiYOD",
      "include_colab_link": true
    },
    "kernelspec": {
      "name": "python3",
      "display_name": "Python 3"
    },
    "language_info": {
      "name": "python"
    }
  },
  "cells": [
    {
      "cell_type": "markdown",
      "metadata": {
        "id": "view-in-github",
        "colab_type": "text"
      },
      "source": [
        "<a href=\"https://colab.research.google.com/github/yoonyoung27/public_big_data_analysis/blob/main/programmers_level1.ipynb\" target=\"_parent\"><img src=\"https://colab.research.google.com/assets/colab-badge.svg\" alt=\"Open In Colab\"/></a>"
      ]
    },
    {
      "cell_type": "markdown",
      "metadata": {
        "id": "XxvPGHc47f3X"
      },
      "source": [
        "###이진수로 변환하기\n",
        "\n",
        "https://tech.kakao.com/2017/09/27/kakao-blind-recruitment-round-1/  \n",
        "1번"
      ]
    },
    {
      "cell_type": "code",
      "metadata": {
        "colab": {
          "base_uri": "https://localhost:8080/"
        },
        "id": "nHMUCDsC0MVG",
        "outputId": "e56e0d95-0815-4f87-c996-e83be0cb26ea"
      },
      "source": [
        "a = 30  #arr1[m]\n",
        "max = 0\n",
        "bino = 0  #arr3[m]\n",
        "while True:\n",
        "    for k in range(0,10):\n",
        "        if a >= 2**k:\n",
        "            max = k\n",
        "    bino = bino + 10**max\n",
        "    a = a - 2**max\n",
        "    print(bino)\n",
        "    if a == 0:\n",
        "        break"
      ],
      "execution_count": null,
      "outputs": [
        {
          "output_type": "stream",
          "name": "stdout",
          "text": [
            "10000\n",
            "11000\n",
            "11100\n",
            "11110\n"
          ]
        }
      ]
    },
    {
      "cell_type": "code",
      "metadata": {
        "colab": {
          "base_uri": "https://localhost:8080/"
        },
        "id": "VOHv6Gv20oIR",
        "outputId": "f21f9111-ec89-4d79-f112-806c1b9d22b4"
      },
      "source": [
        "solution(5, [9, 20, 28, 18, 11], [30, 1, 21, 17, 28])"
      ],
      "execution_count": null,
      "outputs": [
        {
          "output_type": "stream",
          "name": "stdout",
          "text": [
            "['01001', '10100', '11100', '10010', '01011'] ['11110', '00001', '10101', '10001', '11100']\n"
          ]
        },
        {
          "output_type": "execute_result",
          "data": {
            "text/plain": [
              "['#####', '# # #', '### #', '#  ##', '#####']"
            ]
          },
          "metadata": {},
          "execution_count": 100
        }
      ]
    },
    {
      "cell_type": "code",
      "metadata": {
        "id": "fOIE99MQ1mVP"
      },
      "source": [
        "def solution(n, arr1, arr2):\n",
        "    answer = []\n",
        "    return answer"
      ],
      "execution_count": null,
      "outputs": []
    },
    {
      "cell_type": "code",
      "metadata": {
        "id": "ugMmoiCL54iJ"
      },
      "source": [
        "arr1 = [9, 20, 28, 18, 11]\n",
        "arr3 = []\n",
        "for m in range(0,5):\n",
        "    max = 0\n",
        "    A = 0\n",
        "    while True:\n",
        "        for k in range(0,10):\n",
        "            if arr1[m] >= 2**k:\n",
        "                max = k\n",
        "        A = A + 10**max\n",
        "        arr1[m] = arr1[m] - 2**max\n",
        "        if arr1[m] == 0:\n",
        "            A = str(A)\n",
        "            arr3.append(A)\n",
        "            break"
      ],
      "execution_count": null,
      "outputs": []
    },
    {
      "cell_type": "code",
      "metadata": {
        "colab": {
          "base_uri": "https://localhost:8080/"
        },
        "id": "P8GUXJTj685v",
        "outputId": "30010dba-7d74-4738-dd7a-050e1901a5c5"
      },
      "source": [
        "arr3"
      ],
      "execution_count": null,
      "outputs": [
        {
          "output_type": "execute_result",
          "data": {
            "text/plain": [
              "['1001', '10100', '11100', '10010', '1011']"
            ]
          },
          "metadata": {},
          "execution_count": 103
        }
      ]
    },
    {
      "cell_type": "code",
      "metadata": {
        "id": "bOiALkl07bJL"
      },
      "source": [
        "def solution(n, arr1, arr2):\n",
        "    arr3 = []\n",
        "    for m in range(0,n):\n",
        "        max = 0\n",
        "        A = 0\n",
        "        while True:\n",
        "            for k in range(0,10):\n",
        "                if arr1[m] >= 2**k:\n",
        "                    max = k\n",
        "            A = A + 10**max\n",
        "            arr1[m] = arr1[m] - 2**max\n",
        "            if arr1[m] == 0:\n",
        "                A = str(A)\n",
        "                if len(A) < n:\n",
        "                    str2 = ''\n",
        "                    for t in range(0,n-len(A)):\n",
        "                        str2 = str2 + '0'\n",
        "                    A = str2 + A\n",
        "                arr3.append(A)\n",
        "                break\n",
        "    arr4 = []\n",
        "    for m in range(0,n):\n",
        "        max = 0\n",
        "        A = 0\n",
        "        while True:\n",
        "            for k in range(0,10):\n",
        "                if arr2[m] >= 2**k:\n",
        "                    max = k\n",
        "            A = A + 10**max\n",
        "            arr2[m] = arr2[m] - 2**max\n",
        "            if arr2[m] == 0:\n",
        "                A = str(A)\n",
        "                if len(A) < n:\n",
        "                    str2 = ''\n",
        "                    for t in range(0,n-len(A)):\n",
        "                        str2 = str2 + '0'\n",
        "                    A = str2 + A\n",
        "                arr4.append(A)\n",
        "                break\n",
        "    print(arr3, arr4)\n",
        "    answer = []\n",
        "    for x in range(0,n):\n",
        "        last = ''\n",
        "        for y in range(0,n):\n",
        "            if arr3[x][y] == '1' or arr4[x][y] == '1':\n",
        "                last = last + '#'\n",
        "            else:\n",
        "                last = last + ' '\n",
        "        answer.append(last)\n",
        "    return answer"
      ],
      "execution_count": null,
      "outputs": []
    },
    {
      "cell_type": "code",
      "metadata": {
        "colab": {
          "base_uri": "https://localhost:8080/"
        },
        "id": "pcXg_-N6C1Ju",
        "outputId": "8c2ba9f1-b0b1-4af2-b9f7-6c5dd5bd29b5"
      },
      "source": [
        "solution(5, [9, 20, 28, 18, 11], [30, 1, 21, 17, 28])"
      ],
      "execution_count": null,
      "outputs": [
        {
          "output_type": "stream",
          "name": "stdout",
          "text": [
            "['01001', '10100', '11100', '10010', '01011'] ['11110', '00001', '10101', '10001', '11100']\n"
          ]
        },
        {
          "output_type": "execute_result",
          "data": {
            "text/plain": [
              "['#####', '# # #', '### #', '#  ##', '#####']"
            ]
          },
          "metadata": {},
          "execution_count": 105
        }
      ]
    },
    {
      "cell_type": "markdown",
      "metadata": {
        "id": "w-jNtlnr74PX"
      },
      "source": [
        "###문자열 반복문"
      ]
    },
    {
      "cell_type": "code",
      "metadata": {
        "id": "luXzq54MUmcK"
      },
      "source": [
        "def square(n, m):\n",
        "    for a in range(0,m):\n",
        "        for b in range(0,n):\n",
        "            print('*', end = '')\n",
        "        print('')"
      ],
      "execution_count": 4,
      "outputs": []
    },
    {
      "cell_type": "code",
      "metadata": {
        "colab": {
          "base_uri": "https://localhost:8080/"
        },
        "id": "U--e99q16Rtt",
        "outputId": "5cf7bbe7-0b09-4075-c145-33a88e7fee07"
      },
      "source": [
        "square(5,3)"
      ],
      "execution_count": 5,
      "outputs": [
        {
          "output_type": "stream",
          "name": "stdout",
          "text": [
            "*****\n",
            "*****\n",
            "*****\n"
          ]
        }
      ]
    },
    {
      "cell_type": "code",
      "metadata": {
        "colab": {
          "base_uri": "https://localhost:8080/"
        },
        "id": "Wew-LJFJ7AjP",
        "outputId": "6ed8db97-f21c-4a41-e686-78dbd1441f3b"
      },
      "source": [
        "a, b = map(int, input().strip().split(' '))\n",
        "print(('*'*a + '\\n')*b)"
      ],
      "execution_count": 8,
      "outputs": [
        {
          "output_type": "stream",
          "name": "stdout",
          "text": [
            "5 3\n",
            "*****\n",
            "*****\n",
            "*****\n",
            "\n"
          ]
        }
      ]
    },
    {
      "cell_type": "code",
      "metadata": {
        "id": "oA7sc-7G7qRz"
      },
      "source": [
        ""
      ],
      "execution_count": null,
      "outputs": []
    }
  ]
}