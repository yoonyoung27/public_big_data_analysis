{
  "nbformat": 4,
  "nbformat_minor": 0,
  "metadata": {
    "colab": {
      "name": "programmers_level1.ipynb",
      "provenance": [],
      "collapsed_sections": [],
      "authorship_tag": "ABX9TyOqwYIjVBPCzTo8RyU2+Npy",
      "include_colab_link": true
    },
    "kernelspec": {
      "name": "python3",
      "display_name": "Python 3"
    },
    "language_info": {
      "name": "python"
    }
  },
  "cells": [
    {
      "cell_type": "markdown",
      "metadata": {
        "id": "view-in-github",
        "colab_type": "text"
      },
      "source": [
        "<a href=\"https://colab.research.google.com/github/yoonyoung27/public_big_data_analysis/blob/main/programmers_level1.ipynb\" target=\"_parent\"><img src=\"https://colab.research.google.com/assets/colab-badge.svg\" alt=\"Open In Colab\"/></a>"
      ]
    },
    {
      "cell_type": "markdown",
      "metadata": {
        "id": "XxvPGHc47f3X"
      },
      "source": [
        "###이진수로 변환하기\n",
        "\n",
        "https://tech.kakao.com/2017/09/27/kakao-blind-recruitment-round-1/  \n",
        "1번"
      ]
    },
    {
      "cell_type": "code",
      "metadata": {
        "colab": {
          "base_uri": "https://localhost:8080/"
        },
        "id": "nHMUCDsC0MVG",
        "outputId": "e56e0d95-0815-4f87-c996-e83be0cb26ea"
      },
      "source": [
        "a = 30  #arr1[m]\n",
        "max = 0\n",
        "bino = 0  #arr3[m]\n",
        "while True:\n",
        "    for k in range(0,10):\n",
        "        if a >= 2**k:\n",
        "            max = k\n",
        "    bino = bino + 10**max\n",
        "    a = a - 2**max\n",
        "    print(bino)\n",
        "    if a == 0:\n",
        "        break"
      ],
      "execution_count": null,
      "outputs": [
        {
          "output_type": "stream",
          "name": "stdout",
          "text": [
            "10000\n",
            "11000\n",
            "11100\n",
            "11110\n"
          ]
        }
      ]
    },
    {
      "cell_type": "code",
      "metadata": {
        "colab": {
          "base_uri": "https://localhost:8080/"
        },
        "id": "VOHv6Gv20oIR",
        "outputId": "f21f9111-ec89-4d79-f112-806c1b9d22b4"
      },
      "source": [
        "solution(5, [9, 20, 28, 18, 11], [30, 1, 21, 17, 28])"
      ],
      "execution_count": null,
      "outputs": [
        {
          "output_type": "stream",
          "name": "stdout",
          "text": [
            "['01001', '10100', '11100', '10010', '01011'] ['11110', '00001', '10101', '10001', '11100']\n"
          ]
        },
        {
          "output_type": "execute_result",
          "data": {
            "text/plain": [
              "['#####', '# # #', '### #', '#  ##', '#####']"
            ]
          },
          "metadata": {},
          "execution_count": 100
        }
      ]
    },
    {
      "cell_type": "code",
      "metadata": {
        "id": "fOIE99MQ1mVP"
      },
      "source": [
        "def solution(n, arr1, arr2):\n",
        "    answer = []\n",
        "    return answer"
      ],
      "execution_count": null,
      "outputs": []
    },
    {
      "cell_type": "code",
      "metadata": {
        "id": "ugMmoiCL54iJ"
      },
      "source": [
        "arr1 = [9, 20, 28, 18, 11]\n",
        "arr3 = []\n",
        "for m in range(0,5):\n",
        "    max = 0\n",
        "    A = 0\n",
        "    while True:\n",
        "        for k in range(0,10):\n",
        "            if arr1[m] >= 2**k:\n",
        "                max = k\n",
        "        A = A + 10**max\n",
        "        arr1[m] = arr1[m] - 2**max\n",
        "        if arr1[m] == 0:\n",
        "            A = str(A)\n",
        "            arr3.append(A)\n",
        "            break"
      ],
      "execution_count": null,
      "outputs": []
    },
    {
      "cell_type": "code",
      "metadata": {
        "colab": {
          "base_uri": "https://localhost:8080/"
        },
        "id": "P8GUXJTj685v",
        "outputId": "30010dba-7d74-4738-dd7a-050e1901a5c5"
      },
      "source": [
        "arr3"
      ],
      "execution_count": null,
      "outputs": [
        {
          "output_type": "execute_result",
          "data": {
            "text/plain": [
              "['1001', '10100', '11100', '10010', '1011']"
            ]
          },
          "metadata": {},
          "execution_count": 103
        }
      ]
    },
    {
      "cell_type": "code",
      "metadata": {
        "id": "bOiALkl07bJL"
      },
      "source": [
        "def solution(n, arr1, arr2):\n",
        "    arr3 = []\n",
        "    for m in range(0,n):\n",
        "        max = 0\n",
        "        A = 0\n",
        "        while True:\n",
        "            for k in range(0,10):\n",
        "                if arr1[m] >= 2**k:\n",
        "                    max = k\n",
        "            A = A + 10**max\n",
        "            arr1[m] = arr1[m] - 2**max\n",
        "            if arr1[m] == 0:\n",
        "                A = str(A)\n",
        "                if len(A) < n:\n",
        "                    str2 = ''\n",
        "                    for t in range(0,n-len(A)):\n",
        "                        str2 = str2 + '0'\n",
        "                    A = str2 + A\n",
        "                arr3.append(A)\n",
        "                break\n",
        "    arr4 = []\n",
        "    for m in range(0,n):\n",
        "        max = 0\n",
        "        A = 0\n",
        "        while True:\n",
        "            for k in range(0,10):\n",
        "                if arr2[m] >= 2**k:\n",
        "                    max = k\n",
        "            A = A + 10**max\n",
        "            arr2[m] = arr2[m] - 2**max\n",
        "            if arr2[m] == 0:\n",
        "                A = str(A)\n",
        "                if len(A) < n:\n",
        "                    str2 = ''\n",
        "                    for t in range(0,n-len(A)):\n",
        "                        str2 = str2 + '0'\n",
        "                    A = str2 + A\n",
        "                arr4.append(A)\n",
        "                break\n",
        "    print(arr3, arr4)\n",
        "    answer = []\n",
        "    for x in range(0,n):\n",
        "        last = ''\n",
        "        for y in range(0,n):\n",
        "            if arr3[x][y] == '1' or arr4[x][y] == '1':\n",
        "                last = last + '#'\n",
        "            else:\n",
        "                last = last + ' '\n",
        "        answer.append(last)\n",
        "    return answer"
      ],
      "execution_count": null,
      "outputs": []
    },
    {
      "cell_type": "code",
      "metadata": {
        "colab": {
          "base_uri": "https://localhost:8080/"
        },
        "id": "pcXg_-N6C1Ju",
        "outputId": "8c2ba9f1-b0b1-4af2-b9f7-6c5dd5bd29b5"
      },
      "source": [
        "solution(5, [9, 20, 28, 18, 11], [30, 1, 21, 17, 28])"
      ],
      "execution_count": null,
      "outputs": [
        {
          "output_type": "stream",
          "name": "stdout",
          "text": [
            "['01001', '10100', '11100', '10010', '01011'] ['11110', '00001', '10101', '10001', '11100']\n"
          ]
        },
        {
          "output_type": "execute_result",
          "data": {
            "text/plain": [
              "['#####', '# # #', '### #', '#  ##', '#####']"
            ]
          },
          "metadata": {},
          "execution_count": 105
        }
      ]
    },
    {
      "cell_type": "markdown",
      "metadata": {
        "id": "w-jNtlnr74PX"
      },
      "source": [
        "###문자열 반복문"
      ]
    },
    {
      "cell_type": "code",
      "metadata": {
        "id": "luXzq54MUmcK"
      },
      "source": [
        "def square(n, m):\n",
        "    for a in range(0,m):\n",
        "        for b in range(0,n):\n",
        "            print('*', end = '')\n",
        "        print('')"
      ],
      "execution_count": 4,
      "outputs": []
    },
    {
      "cell_type": "code",
      "metadata": {
        "colab": {
          "base_uri": "https://localhost:8080/"
        },
        "id": "U--e99q16Rtt",
        "outputId": "5cf7bbe7-0b09-4075-c145-33a88e7fee07"
      },
      "source": [
        "square(5,3)"
      ],
      "execution_count": 5,
      "outputs": [
        {
          "output_type": "stream",
          "name": "stdout",
          "text": [
            "*****\n",
            "*****\n",
            "*****\n"
          ]
        }
      ]
    },
    {
      "cell_type": "code",
      "metadata": {
        "colab": {
          "base_uri": "https://localhost:8080/"
        },
        "id": "Wew-LJFJ7AjP",
        "outputId": "6ed8db97-f21c-4a41-e686-78dbd1441f3b"
      },
      "source": [
        "a, b = map(int, input().strip().split(' '))\n",
        "print(('*'*a + '\\n')*b)"
      ],
      "execution_count": 8,
      "outputs": [
        {
          "output_type": "stream",
          "name": "stdout",
          "text": [
            "5 3\n",
            "*****\n",
            "*****\n",
            "*****\n",
            "\n"
          ]
        }
      ]
    },
    {
      "cell_type": "code",
      "metadata": {
        "colab": {
          "base_uri": "https://localhost:8080/"
        },
        "id": "oA7sc-7G7qRz",
        "outputId": "013860c4-c139-467f-8728-0e3e8af4fa3c"
      },
      "source": [
        "a, b = map(int, input().strip().split(' '))\n",
        "for i in range(b):\n",
        "    print('*'*a)"
      ],
      "execution_count": 9,
      "outputs": [
        {
          "output_type": "stream",
          "name": "stdout",
          "text": [
            "5 3\n",
            "*****\n",
            "*****\n",
            "*****\n"
          ]
        }
      ]
    },
    {
      "cell_type": "markdown",
      "metadata": {
        "id": "hq_IgdWqw11_"
      },
      "source": [
        "###복서 정렬하기\n",
        "\n",
        "복서 선수들의 몸무게 weights와, 복서 선수들의 전적을 나타내는 head2head가 매개변수로 주어집니다.  \n",
        "복서 선수들의 번호를 다음과 같은 순서로 정렬한 후 return 하도록 solution 함수를 완성해주세요.\n",
        "\n",
        "1. 전체 승률이 높은 복서의 번호가 앞쪽으로 갑니다. 아직 다른 복서랑 붙어본 적이 없는 복서의 승률은 0%로 취급합니다.\n",
        "2. 승률이 동일한 복서의 번호들 중에서는 자신보다 몸무게가 무거운 복서를 이긴 횟수가 많은 복서의 번호가 앞쪽으로 갑니다.\n",
        "3. 자신보다 무거운 복서를 이긴 횟수까지 동일한 복서의 번호들 중에서는 자기 몸무게가 무거운 복서의 번호가 앞쪽으로 갑니다.\n",
        "4. 자기 몸무게까지 동일한 복서의 번호들 중에서는 작은 번호가 앞쪽으로 갑니다."
      ]
    },
    {
      "cell_type": "code",
      "metadata": {
        "id": "XSztSs-n8V7P"
      },
      "source": [
        "head2head = ['NLWL',\"WNLL\",\"LWNW\",\"WWLN\"]\n",
        "\n",
        "props = []\n",
        "for i in range(len(head2head)):\n",
        "    props.append((len(head2head[i].split('W'))-1)/(len(head2head)-1))"
      ],
      "execution_count": 54,
      "outputs": []
    },
    {
      "cell_type": "code",
      "metadata": {
        "id": "Ag7-y04oHX74",
        "outputId": "86c2494c-f09b-4c48-ea2c-b037f73c1acc",
        "colab": {
          "base_uri": "https://localhost:8080/"
        }
      },
      "source": [
        "props"
      ],
      "execution_count": 55,
      "outputs": [
        {
          "output_type": "execute_result",
          "data": {
            "text/plain": [
              "[0.3333333333333333,\n",
              " 0.3333333333333333,\n",
              " 0.6666666666666666,\n",
              " 0.6666666666666666]"
            ]
          },
          "metadata": {},
          "execution_count": 55
        }
      ]
    },
    {
      "cell_type": "code",
      "metadata": {
        "id": "t_3wEc24TEs2"
      },
      "source": [
        "weights = [50,82,75,120]"
      ],
      "execution_count": 65,
      "outputs": []
    },
    {
      "cell_type": "code",
      "metadata": {
        "id": "PqpTja58H3vo"
      },
      "source": [
        "#weights = dict(zip(range(1, len(weights)+1), weights))"
      ],
      "execution_count": 29,
      "outputs": []
    },
    {
      "cell_type": "code",
      "metadata": {
        "id": "qYIIPNTAi1cM",
        "outputId": "51c986e1-8c9e-4621-9619-934c1d97142f",
        "colab": {
          "base_uri": "https://localhost:8080/"
        }
      },
      "source": [
        "for i in range(4):\n",
        "    for j in range(i,4-1):\n",
        "        print(j, j+1)"
      ],
      "execution_count": 69,
      "outputs": [
        {
          "output_type": "stream",
          "name": "stdout",
          "text": [
            "0 1\n",
            "1 2\n",
            "2 3\n",
            "1 2\n",
            "2 3\n",
            "2 3\n"
          ]
        }
      ]
    },
    {
      "cell_type": "code",
      "metadata": {
        "id": "UOGXR2VPl2KZ"
      },
      "source": [
        "list1 = []\n",
        "for i in range(len(weights)):\n",
        "    list1.append([i+1, weights[i], props[i], nums[i]])"
      ],
      "execution_count": 63,
      "outputs": []
    },
    {
      "cell_type": "code",
      "metadata": {
        "id": "ksLIoADBnQxA",
        "outputId": "4e062965-10c8-4192-e02e-3e4a10cd8dd9",
        "colab": {
          "base_uri": "https://localhost:8080/"
        }
      },
      "source": [
        "list1"
      ],
      "execution_count": 64,
      "outputs": [
        {
          "output_type": "execute_result",
          "data": {
            "text/plain": [
              "[[1, 50, 0.3333333333333333, 1],\n",
              " [2, 82, 0.3333333333333333, 0],\n",
              " [3, 75, 0.6666666666666666, 2],\n",
              " [4, 120, 0.6666666666666666, 0]]"
            ]
          },
          "metadata": {},
          "execution_count": 64
        }
      ]
    },
    {
      "cell_type": "code",
      "metadata": {
        "id": "XqzlECXXnSBu"
      },
      "source": [
        "nums = []\n",
        "for i in range(len(head2head)):\n",
        "    k = 0\n",
        "    for j in range(len(head2head)):\n",
        "        if head2head[i][j] == 'W':\n",
        "            if weights[i] < weights[j]:\n",
        "                k += 1\n",
        "    nums.append(k)"
      ],
      "execution_count": 61,
      "outputs": []
    },
    {
      "cell_type": "code",
      "metadata": {
        "id": "d2nUUQR_otQs",
        "outputId": "ecef5f56-97dc-4237-8f3d-91c5ba3e62e0",
        "colab": {
          "base_uri": "https://localhost:8080/"
        }
      },
      "source": [
        "nums"
      ],
      "execution_count": 62,
      "outputs": [
        {
          "output_type": "execute_result",
          "data": {
            "text/plain": [
              "[1, 0, 2, 0]"
            ]
          },
          "metadata": {},
          "execution_count": 62
        }
      ]
    },
    {
      "cell_type": "code",
      "metadata": {
        "id": "FNnzDE2WouCN"
      },
      "source": [
        "head2head = ['NLWL',\"WNLL\",\"LWNW\",\"WWLN\"]\n",
        "weights = [50,82,75,120]\n",
        "\n",
        "props = []\n",
        "for i in range(len(head2head)):\n",
        "    props.append((len(head2head[i].split('W'))-1)/(len(head2head)-1))\n",
        "\n",
        "# 자신보다 몸무게가 무거운 복서를 이긴 횟수\n",
        "nums = []\n",
        "for i in range(len(head2head)):\n",
        "    k = 0\n",
        "    for j in range(len(head2head)):\n",
        "        if head2head[i][j] == 'W':\n",
        "            if weights[i] < weights[j]:\n",
        "                k += 1\n",
        "    nums.append(k)\n",
        "\n",
        "# 업데이트 할 리스트\n",
        "list1 = []\n",
        "for i in range(len(weights)):\n",
        "    list1.append([i+1, weights[i], props[i], nums[i]])\n",
        "\n",
        "# 1. 전체 승률이 높은 복서의 번호가 앞쪽으로 갑니다.\n",
        "for i in range(len(list1)):\n",
        "    for j in range(i, len(list1)-1):\n",
        "        if list1[j][2] > list1[j+1][2]:\n",
        "            k = list1[j]\n",
        "            list1[j] = list1[j+1]\n",
        "            list1[j+1] = k\n",
        "# 2. 승률이 동일한 복서의 번호들 중에서는 자신보다 몸무게가 무거운 복서를 이긴 횟수가 많은 복서의 번호가 앞쪽으로 갑니다.\n",
        "        elif list1[j][2] == list1[j+1][2]:\n",
        "            if list1[j][3] > list1[j+1][3]:\n",
        "                k = list1[j]\n",
        "                list1[j] = list1[j+1]\n",
        "                list1[j+1] = k\n",
        "# 3. 자신보다 무거운 복서를 이긴 횟수까지 동일한 복서의 번호들 중에서는 자기 몸무게가 무거운 복서의 번호가 앞쪽으로 갑니다.\n",
        "            elif list1[j][3] == list1[j+1][3]:\n",
        "                if list1[j][1] > list1[j+1][1]:\n",
        "                    k = list1[j]\n",
        "                    list1[j] = list1[j+1]\n",
        "                    list1[j+1] = k\n",
        "# 4. 자기 몸무게까지 동일한 복서의 번호들 중에서는 작은 번호가 앞쪽으로 갑니다.\n",
        "                elif list1[j][1] == list1[j+1][1]:\n",
        "                    if list1[j][0] < list1[j+1][0]:\n",
        "                        k = list1[j]\n",
        "                        list1[j] = list1[j+1]\n",
        "                        list1[j+1] = k"
      ],
      "execution_count": 97,
      "outputs": []
    },
    {
      "cell_type": "code",
      "metadata": {
        "id": "1bwhRD-Qv6P-",
        "outputId": "657e0c23-5804-4508-d237-bc30ee8c869e",
        "colab": {
          "base_uri": "https://localhost:8080/"
        }
      },
      "source": [
        "list1"
      ],
      "execution_count": 104,
      "outputs": [
        {
          "output_type": "execute_result",
          "data": {
            "text/plain": [
              "[[3, 75, 0.6666666666666666, 2],\n",
              " [4, 120, 0.6666666666666666, 0],\n",
              " [1, 50, 0.3333333333333333, 1],\n",
              " [2, 82, 0.3333333333333333, 0]]"
            ]
          },
          "metadata": {},
          "execution_count": 104
        }
      ]
    },
    {
      "cell_type": "code",
      "metadata": {
        "id": "ROKnONnosuB2"
      },
      "source": [
        "def solution(weights, head2head):\n",
        "# 승률계산\n",
        "    props = []\n",
        "    for i in range(len(head2head)):\n",
        "        props.append((len(head2head[i].split('W'))-1)/(len(head2head)-1))\n",
        "# 자신보다 몸무게가 무거운 복서를 이긴 횟수\n",
        "    nums = []\n",
        "    for i in range(len(head2head)):\n",
        "        k = 0\n",
        "        for j in range(len(head2head)):\n",
        "            if head2head[i][j] == 'W':\n",
        "                if weights[i] < weights[j]:\n",
        "                    k += 1\n",
        "        nums.append(k)\n",
        "# 업데이트 할 리스트\n",
        "    list1 = []\n",
        "    for i in range(len(weights)):\n",
        "        list1.append([i+1, weights[i], props[i], nums[i]])\n",
        "    print('1.', list1)\n",
        "# 1. 전체 승률이 높은 복서의 번호가 앞쪽으로 갑니다.\n",
        "    for i in range(len(list1)):\n",
        "        for j in range(i, len(list1)-1):\n",
        "            if (list1[j][2] > list1[j+1][2]):\n",
        "                k = list1[j]\n",
        "                list1[j] = list1[j+1]\n",
        "                list1[j+1] = k\n",
        "# 2. 승률이 동일한 복서의 번호들 중에서는 자신보다 몸무게가 무거운 복서를 이긴 횟수가 많은 복서의 번호가 앞쪽으로 갑니다.\n",
        "    for i in range(len(list1)):\n",
        "        for j in range(i, len(list1)-1):\n",
        "            if list1[j][2] == list1[j+1][2]:\n",
        "                if list1[j][3] > list1[j+1][3]:\n",
        "                    k = list1[j]\n",
        "                    list1[j] = list1[j+1]\n",
        "                    list1[j+1] = k\n",
        "# 3. 자신보다 무거운 복서를 이긴 횟수까지 동일한 복서의 번호들 중에서는 자기 몸무게가 무거운 복서의 번호가 앞쪽으로 갑니다.\n",
        "    for i in range(len(list1)):\n",
        "        for j in range(i, len(list1)-1):\n",
        "            if list1[j][3] == list1[j+1][3]:\n",
        "                if list1[j][1] > list1[j+1][1]:\n",
        "                    k = list1[j]\n",
        "                    list1[j] = list1[j+1]\n",
        "                    list1[j+1] = k\n",
        "# 4. 자기 몸무게까지 동일한 복서의 번호들 중에서는 작은 번호가 앞쪽으로 갑니다.\n",
        "    for i in range(len(list1)):\n",
        "        for j in range(i, len(list1)-1):\n",
        "            if list1[j][1] == list1[j+1][1]:\n",
        "                k = list1[j]\n",
        "                list1[j] = list1[j+1]\n",
        "                list1[j+1] = k\n",
        "# answer\n",
        "    list1.reverse()\n",
        "    answer = []\n",
        "    for i in range(len(list1)):\n",
        "        answer.append(list1[i][0])\n",
        "    return answer"
      ],
      "execution_count": 120,
      "outputs": []
    },
    {
      "cell_type": "code",
      "metadata": {
        "id": "n1gIzfSCwoNQ",
        "outputId": "4e8fcde9-c109-4c23-f8d5-e7341b9ba895",
        "colab": {
          "base_uri": "https://localhost:8080/"
        }
      },
      "source": [
        "solution([60, 70, 60], [\"NNN\", \"NNN\", \"NNN\"])"
      ],
      "execution_count": 121,
      "outputs": [
        {
          "output_type": "stream",
          "name": "stdout",
          "text": [
            "1. [[1, 60, 0.0, 0], [2, 70, 0.0, 0], [3, 60, 0.0, 0]]\n"
          ]
        },
        {
          "output_type": "execute_result",
          "data": {
            "text/plain": [
              "[2, 1, 3]"
            ]
          },
          "metadata": {},
          "execution_count": 121
        }
      ]
    },
    {
      "cell_type": "code",
      "metadata": {
        "id": "jpApr525yD1I"
      },
      "source": [
        ""
      ],
      "execution_count": null,
      "outputs": []
    }
  ]
}