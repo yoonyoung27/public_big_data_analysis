{
  "nbformat": 4,
  "nbformat_minor": 0,
  "metadata": {
    "colab": {
      "name": "R_graph.ipynb",
      "provenance": [],
      "authorship_tag": "ABX9TyMFFI4zcbkmUCiVj37ITHzz",
      "include_colab_link": true
    },
    "kernelspec": {
      "name": "ir",
      "display_name": "R"
    },
    "language_info": {
      "name": "R"
    }
  },
  "cells": [
    {
      "cell_type": "markdown",
      "metadata": {
        "id": "view-in-github",
        "colab_type": "text"
      },
      "source": [
        "<a href=\"https://colab.research.google.com/github/yoonyoung27/public_big_data_analysis/blob/main/R_graph.ipynb\" target=\"_parent\"><img src=\"https://colab.research.google.com/assets/colab-badge.svg\" alt=\"Open In Colab\"/></a>"
      ]
    },
    {
      "cell_type": "code",
      "metadata": {
        "colab": {
          "base_uri": "https://localhost:8080/",
          "height": 1000
        },
        "id": "k2VwJyDJBnyC",
        "outputId": "8879e5e7-a3d7-4d40-ba9d-5a013e28cceb"
      },
      "source": [
        "postscriptFonts()"
      ],
      "execution_count": 13,
      "outputs": [
        {
          "output_type": "display_data",
          "data": {
            "text/plain": [
              "$serif\n",
              "$family\n",
              "[1] \"Times\"\n",
              "\n",
              "$metrics\n",
              "[1] \"Times-Roman.afm\"      \"Times-Bold.afm\"       \"Times-Italic.afm\"    \n",
              "[4] \"Times-BoldItalic.afm\" \"Symbol.afm\"          \n",
              "\n",
              "$encoding\n",
              "[1] \"default\"\n",
              "\n",
              "attr(,\"class\")\n",
              "[1] \"Type1Font\"\n",
              "\n",
              "$sans\n",
              "$family\n",
              "[1] \"Helvetica\"\n",
              "\n",
              "$metrics\n",
              "[1] \"Helvetica.afm\"             \"Helvetica-Bold.afm\"       \n",
              "[3] \"Helvetica-Oblique.afm\"     \"Helvetica-BoldOblique.afm\"\n",
              "[5] \"Symbol.afm\"               \n",
              "\n",
              "$encoding\n",
              "[1] \"default\"\n",
              "\n",
              "attr(,\"class\")\n",
              "[1] \"Type1Font\"\n",
              "\n",
              "$mono\n",
              "$family\n",
              "[1] \"Courier\"\n",
              "\n",
              "$metrics\n",
              "[1] \"Courier.afm\"             \"Courier-Bold.afm\"       \n",
              "[3] \"Courier-Oblique.afm\"     \"Courier-BoldOblique.afm\"\n",
              "[5] \"Symbol.afm\"             \n",
              "\n",
              "$encoding\n",
              "[1] \"default\"\n",
              "\n",
              "attr(,\"class\")\n",
              "[1] \"Type1Font\"\n",
              "\n",
              "$AvantGarde\n",
              "$family\n",
              "[1] \"AvantGarde\"\n",
              "\n",
              "$metrics\n",
              "[1] \"agw_____.afm\" \"agd_____.afm\" \"agwo____.afm\" \"agdo____.afm\" \"Symbol.afm\"  \n",
              "\n",
              "$encoding\n",
              "[1] \"default\"\n",
              "\n",
              "attr(,\"class\")\n",
              "[1] \"Type1Font\"\n",
              "\n",
              "$Bookman\n",
              "$family\n",
              "[1] \"Bookman\"\n",
              "\n",
              "$metrics\n",
              "[1] \"bkl_____.afm\" \"bkd_____.afm\" \"bkli____.afm\" \"bkdi____.afm\" \"Symbol.afm\"  \n",
              "\n",
              "$encoding\n",
              "[1] \"default\"\n",
              "\n",
              "attr(,\"class\")\n",
              "[1] \"Type1Font\"\n",
              "\n",
              "$Courier\n",
              "$family\n",
              "[1] \"Courier\"\n",
              "\n",
              "$metrics\n",
              "[1] \"Courier.afm\"             \"Courier-Bold.afm\"       \n",
              "[3] \"Courier-Oblique.afm\"     \"Courier-BoldOblique.afm\"\n",
              "[5] \"Symbol.afm\"             \n",
              "\n",
              "$encoding\n",
              "[1] \"default\"\n",
              "\n",
              "attr(,\"class\")\n",
              "[1] \"Type1Font\"\n",
              "\n",
              "$Helvetica\n",
              "$family\n",
              "[1] \"Helvetica\"\n",
              "\n",
              "$metrics\n",
              "[1] \"Helvetica.afm\"             \"Helvetica-Bold.afm\"       \n",
              "[3] \"Helvetica-Oblique.afm\"     \"Helvetica-BoldOblique.afm\"\n",
              "[5] \"Symbol.afm\"               \n",
              "\n",
              "$encoding\n",
              "[1] \"default\"\n",
              "\n",
              "attr(,\"class\")\n",
              "[1] \"Type1Font\"\n",
              "\n",
              "$`Helvetica-Narrow`\n",
              "$family\n",
              "[1] \"Helvetica-Narrow\"\n",
              "\n",
              "$metrics\n",
              "[1] \"hvn_____.afm\" \"hvnb____.afm\" \"hvno____.afm\" \"hvnbo___.afm\" \"Symbol.afm\"  \n",
              "\n",
              "$encoding\n",
              "[1] \"default\"\n",
              "\n",
              "attr(,\"class\")\n",
              "[1] \"Type1Font\"\n",
              "\n",
              "$NewCenturySchoolbook\n",
              "$family\n",
              "[1] \"NewCenturySchoolbook\"\n",
              "\n",
              "$metrics\n",
              "[1] \"ncr_____.afm\" \"ncb_____.afm\" \"nci_____.afm\" \"ncbi____.afm\" \"Symbol.afm\"  \n",
              "\n",
              "$encoding\n",
              "[1] \"default\"\n",
              "\n",
              "attr(,\"class\")\n",
              "[1] \"Type1Font\"\n",
              "\n",
              "$Palatino\n",
              "$family\n",
              "[1] \"Palatino\"\n",
              "\n",
              "$metrics\n",
              "[1] \"por_____.afm\" \"pob_____.afm\" \"poi_____.afm\" \"pobi____.afm\" \"Symbol.afm\"  \n",
              "\n",
              "$encoding\n",
              "[1] \"default\"\n",
              "\n",
              "attr(,\"class\")\n",
              "[1] \"Type1Font\"\n",
              "\n",
              "$Times\n",
              "$family\n",
              "[1] \"Times\"\n",
              "\n",
              "$metrics\n",
              "[1] \"Times-Roman.afm\"      \"Times-Bold.afm\"       \"Times-Italic.afm\"    \n",
              "[4] \"Times-BoldItalic.afm\" \"Symbol.afm\"          \n",
              "\n",
              "$encoding\n",
              "[1] \"default\"\n",
              "\n",
              "attr(,\"class\")\n",
              "[1] \"Type1Font\"\n",
              "\n",
              "$URWGothic\n",
              "$family\n",
              "[1] \"URWGothic\"\n",
              "\n",
              "$metrics\n",
              "[1] \"a010013l.afm\" \"a010015l.afm\" \"a010033l.afm\" \"a010035l.afm\" \"s050000l.afm\"\n",
              "\n",
              "$encoding\n",
              "[1] \"default\"\n",
              "\n",
              "attr(,\"class\")\n",
              "[1] \"Type1Font\"\n",
              "\n",
              "$URWBookman\n",
              "$family\n",
              "[1] \"URWBookman\"\n",
              "\n",
              "$metrics\n",
              "[1] \"b018012l.afm\" \"b018015l.afm\" \"b018032l.afm\" \"b018035l.afm\" \"s050000l.afm\"\n",
              "\n",
              "$encoding\n",
              "[1] \"default\"\n",
              "\n",
              "attr(,\"class\")\n",
              "[1] \"Type1Font\"\n",
              "\n",
              "$NimbusMon\n",
              "$family\n",
              "[1] \"NimbusMon\"\n",
              "\n",
              "$metrics\n",
              "[1] \"n022003l.afm\" \"n022004l.afm\" \"n022023l.afm\" \"n022024l.afm\" \"s050000l.afm\"\n",
              "\n",
              "$encoding\n",
              "[1] \"default\"\n",
              "\n",
              "attr(,\"class\")\n",
              "[1] \"Type1Font\"\n",
              "\n",
              "$NimbusSan\n",
              "$family\n",
              "[1] \"NimbusSan\"\n",
              "\n",
              "$metrics\n",
              "[1] \"n019003l.afm\" \"n019004l.afm\" \"n019023l.afm\" \"n019024l.afm\" \"s050000l.afm\"\n",
              "\n",
              "$encoding\n",
              "[1] \"default\"\n",
              "\n",
              "attr(,\"class\")\n",
              "[1] \"Type1Font\"\n",
              "\n",
              "$URWHelvetica\n",
              "$family\n",
              "[1] \"URWHelvetica\"\n",
              "\n",
              "$metrics\n",
              "[1] \"n019003l.afm\" \"n019004l.afm\" \"n019023l.afm\" \"n019024l.afm\" \"s050000l.afm\"\n",
              "\n",
              "$encoding\n",
              "[1] \"default\"\n",
              "\n",
              "attr(,\"class\")\n",
              "[1] \"Type1Font\"\n",
              "\n",
              "$NimbusSanCond\n",
              "$family\n",
              "[1] \"NimbusSanCond\"\n",
              "\n",
              "$metrics\n",
              "[1] \"n019043l.afm\" \"n019044l.afm\" \"n019063l.afm\" \"n019064l.afm\" \"s050000l.afm\"\n",
              "\n",
              "$encoding\n",
              "[1] \"default\"\n",
              "\n",
              "attr(,\"class\")\n",
              "[1] \"Type1Font\"\n",
              "\n",
              "$CenturySch\n",
              "$family\n",
              "[1] \"CenturySch\"\n",
              "\n",
              "$metrics\n",
              "[1] \"c059013l.afm\" \"c059016l.afm\" \"c059033l.afm\" \"c059036l.afm\" \"s050000l.afm\"\n",
              "\n",
              "$encoding\n",
              "[1] \"default\"\n",
              "\n",
              "attr(,\"class\")\n",
              "[1] \"Type1Font\"\n",
              "\n",
              "$URWPalladio\n",
              "$family\n",
              "[1] \"URWPalladio\"\n",
              "\n",
              "$metrics\n",
              "[1] \"p052003l.afm\" \"p052004l.afm\" \"p052023l.afm\" \"p052024l.afm\" \"s050000l.afm\"\n",
              "\n",
              "$encoding\n",
              "[1] \"default\"\n",
              "\n",
              "attr(,\"class\")\n",
              "[1] \"Type1Font\"\n",
              "\n",
              "$NimbusRom\n",
              "$family\n",
              "[1] \"NimbusRom\"\n",
              "\n",
              "$metrics\n",
              "[1] \"n021003l.afm\" \"n021004l.afm\" \"n021023l.afm\" \"n021024l.afm\" \"s050000l.afm\"\n",
              "\n",
              "$encoding\n",
              "[1] \"default\"\n",
              "\n",
              "attr(,\"class\")\n",
              "[1] \"Type1Font\"\n",
              "\n",
              "$URWTimes\n",
              "$family\n",
              "[1] \"URWTimes\"\n",
              "\n",
              "$metrics\n",
              "[1] \"n021003l.afm\" \"n021004l.afm\" \"n021023l.afm\" \"n021024l.afm\" \"s050000l.afm\"\n",
              "\n",
              "$encoding\n",
              "[1] \"default\"\n",
              "\n",
              "attr(,\"class\")\n",
              "[1] \"Type1Font\"\n",
              "\n",
              "$ArialMT\n",
              "$family\n",
              "[1] \"ArialMT\"\n",
              "\n",
              "$metrics\n",
              "[1] \"ArialMT.afm\"            \"ArialMT-Bold.afm\"       \"ArialMT-Italic.afm\"    \n",
              "[4] \"ArialMT-BoldItalic.afm\" \"Symbol.afm\"            \n",
              "\n",
              "$encoding\n",
              "[1] \"default\"\n",
              "\n",
              "attr(,\"class\")\n",
              "[1] \"Type1Font\"\n",
              "\n",
              "$ComputerModern\n",
              "$family\n",
              "[1] \"ComputerModern\"\n",
              "\n",
              "$metrics\n",
              "[1] \"CM_regular_10.afm\"      \"CM_boldx_10.afm\"        \"CM_italic_10.afm\"      \n",
              "[4] \"CM_boldx_italic_10.afm\" \"CM_symbol_10.afm\"      \n",
              "\n",
              "$encoding\n",
              "[1] \"TeXtext.enc\"\n",
              "\n",
              "attr(,\"class\")\n",
              "[1] \"Type1Font\"\n",
              "\n",
              "$ComputerModernItalic\n",
              "$family\n",
              "[1] \"ComputerModernItalic\"\n",
              "\n",
              "$metrics\n",
              "[1] \"CM_regular_10.afm\" \"CM_boldx_10.afm\"   \"cmti10.afm\"       \n",
              "[4] \"cmbxti10.afm\"      \"CM_symbol_10.afm\" \n",
              "\n",
              "$encoding\n",
              "[1] \"TeXtext.enc\"\n",
              "\n",
              "attr(,\"class\")\n",
              "[1] \"Type1Font\"\n",
              "\n",
              "$Japan1\n",
              "$family\n",
              "[1] \"HeiseiKakuGo-W5\"\n",
              "\n",
              "$metrics\n",
              "[1] \"\"           \"\"           \"\"           \"\"           \"Symbol.afm\"\n",
              "\n",
              "$cmap\n",
              "[1] \"EUC-H\"\n",
              "\n",
              "$cmapEncoding\n",
              "[1] \"EUC-JP\"\n",
              "\n",
              "$pdfresource\n",
              "[1] \"\"\n",
              "\n",
              "attr(,\"class\")\n",
              "[1] \"CIDFont\"\n",
              "\n",
              "$Japan1HeiMin\n",
              "$family\n",
              "[1] \"HeiseiMin-W3\"\n",
              "\n",
              "$metrics\n",
              "[1] \"\"           \"\"           \"\"           \"\"           \"Symbol.afm\"\n",
              "\n",
              "$cmap\n",
              "[1] \"EUC-H\"\n",
              "\n",
              "$cmapEncoding\n",
              "[1] \"EUC-JP\"\n",
              "\n",
              "$pdfresource\n",
              "[1] \"\"\n",
              "\n",
              "attr(,\"class\")\n",
              "[1] \"CIDFont\"\n",
              "\n",
              "$Japan1GothicBBB\n",
              "$family\n",
              "[1] \"GothicBBB-Medium\"\n",
              "\n",
              "$metrics\n",
              "[1] \"\"           \"\"           \"\"           \"\"           \"Symbol.afm\"\n",
              "\n",
              "$cmap\n",
              "[1] \"EUC-H\"\n",
              "\n",
              "$cmapEncoding\n",
              "[1] \"EUC-JP\"\n",
              "\n",
              "$pdfresource\n",
              "[1] \"\"\n",
              "\n",
              "attr(,\"class\")\n",
              "[1] \"CIDFont\"\n",
              "\n",
              "$Japan1Ryumin\n",
              "$family\n",
              "[1] \"Ryumin-Light\"\n",
              "\n",
              "$metrics\n",
              "[1] \"\"           \"\"           \"\"           \"\"           \"Symbol.afm\"\n",
              "\n",
              "$cmap\n",
              "[1] \"EUC-H\"\n",
              "\n",
              "$cmapEncoding\n",
              "[1] \"EUC-JP\"\n",
              "\n",
              "$pdfresource\n",
              "[1] \"\"\n",
              "\n",
              "attr(,\"class\")\n",
              "[1] \"CIDFont\"\n",
              "\n",
              "$Korea1\n",
              "$family\n",
              "[1] \"Baekmuk-Batang\"\n",
              "\n",
              "$metrics\n",
              "[1] \"\"           \"\"           \"\"           \"\"           \"Symbol.afm\"\n",
              "\n",
              "$cmap\n",
              "[1] \"KSCms-UHC-H\"\n",
              "\n",
              "$cmapEncoding\n",
              "[1] \"CP949\"\n",
              "\n",
              "$pdfresource\n",
              "[1] \"\"\n",
              "\n",
              "attr(,\"class\")\n",
              "[1] \"CIDFont\"\n",
              "\n",
              "$Korea1deb\n",
              "$family\n",
              "[1] \"Batang-Regular\"\n",
              "\n",
              "$metrics\n",
              "[1] \"\"           \"\"           \"\"           \"\"           \"Symbol.afm\"\n",
              "\n",
              "$cmap\n",
              "[1] \"KSCms-UHC-H\"\n",
              "\n",
              "$cmapEncoding\n",
              "[1] \"CP949\"\n",
              "\n",
              "$pdfresource\n",
              "[1] \"\"\n",
              "\n",
              "attr(,\"class\")\n",
              "[1] \"CIDFont\"\n",
              "\n",
              "$CNS1\n",
              "$family\n",
              "[1] \"MOESung-Regular\"\n",
              "\n",
              "$metrics\n",
              "[1] \"\"           \"\"           \"\"           \"\"           \"Symbol.afm\"\n",
              "\n",
              "$cmap\n",
              "[1] \"B5pc-H\"\n",
              "\n",
              "$cmapEncoding\n",
              "[1] \"CP950\"\n",
              "\n",
              "$pdfresource\n",
              "[1] \"\"\n",
              "\n",
              "attr(,\"class\")\n",
              "[1] \"CIDFont\"\n",
              "\n",
              "$GB1\n",
              "$family\n",
              "[1] \"BousungEG-Light-GB\"\n",
              "\n",
              "$metrics\n",
              "[1] \"\"           \"\"           \"\"           \"\"           \"Symbol.afm\"\n",
              "\n",
              "$cmap\n",
              "[1] \"GBK-EUC-H\"\n",
              "\n",
              "$cmapEncoding\n",
              "[1] \"GBK\"\n",
              "\n",
              "$pdfresource\n",
              "[1] \"\"\n",
              "\n",
              "attr(,\"class\")\n",
              "[1] \"CIDFont\"\n"
            ]
          },
          "metadata": {
            "tags": []
          }
        }
      ]
    },
    {
      "cell_type": "code",
      "metadata": {
        "colab": {
          "base_uri": "https://localhost:8080/"
        },
        "id": "mwxYuwVBCWv6",
        "outputId": "7031b33f-ce36-4402-be01-148d01a3a784"
      },
      "source": [
        "install.packages('extrafont')\n",
        "library(extrafont)"
      ],
      "execution_count": 2,
      "outputs": [
        {
          "output_type": "stream",
          "text": [
            "Installing package into ‘/usr/local/lib/R/site-library’\n",
            "(as ‘lib’ is unspecified)\n",
            "\n",
            "also installing the dependencies ‘extrafontdb’, ‘Rttf2pt1’\n",
            "\n",
            "\n",
            "Registering fonts with R\n",
            "\n"
          ],
          "name": "stderr"
        }
      ]
    },
    {
      "cell_type": "code",
      "metadata": {
        "colab": {
          "base_uri": "https://localhost:8080/",
          "height": 1000
        },
        "id": "KOeI66lSCeaS",
        "outputId": "b73155f7-1185-4ce8-8b5d-081379437ab5"
      },
      "source": [
        "font_import()\n",
        "font_import(pattern = 'NanumGothic')"
      ],
      "execution_count": 3,
      "outputs": [
        {
          "output_type": "stream",
          "text": [
            "Importing fonts may take a few minutes, depending on the number of fonts and the speed of the system.\n",
            "Continue? [y/n] y\n"
          ],
          "name": "stdout"
        },
        {
          "output_type": "stream",
          "text": [
            "Scanning ttf files in /usr/share/fonts/ ...\n",
            "\n",
            "Extracting .afm files from .ttf files...\n",
            "\n",
            "/usr/share/fonts/truetype/humor-sans/Humor-Sans.ttf\n",
            " => /usr/local/lib/R/site-library/extrafontdb/metrics/Humor-Sans\n",
            "\n",
            "/usr/share/fonts/truetype/liberation/LiberationMono-Bold.ttf\n",
            " => /usr/local/lib/R/site-library/extrafontdb/metrics/LiberationMono-Bold\n",
            "\n",
            "/usr/share/fonts/truetype/liberation/LiberationMono-BoldItalic.ttf\n",
            " => /usr/local/lib/R/site-library/extrafontdb/metrics/LiberationMono-BoldItalic\n",
            "\n",
            "/usr/share/fonts/truetype/liberation/LiberationMono-Italic.ttf\n",
            " => /usr/local/lib/R/site-library/extrafontdb/metrics/LiberationMono-Italic\n",
            "\n",
            "/usr/share/fonts/truetype/liberation/LiberationMono-Regular.ttf\n",
            " => /usr/local/lib/R/site-library/extrafontdb/metrics/LiberationMono-Regular\n",
            "\n",
            "/usr/share/fonts/truetype/liberation/LiberationSans-Bold.ttf\n",
            " => /usr/local/lib/R/site-library/extrafontdb/metrics/LiberationSans-Bold\n",
            "\n",
            "/usr/share/fonts/truetype/liberation/LiberationSans-BoldItalic.ttf\n",
            " => /usr/local/lib/R/site-library/extrafontdb/metrics/LiberationSans-BoldItalic\n",
            "\n",
            "/usr/share/fonts/truetype/liberation/LiberationSans-Italic.ttf\n",
            " => /usr/local/lib/R/site-library/extrafontdb/metrics/LiberationSans-Italic\n",
            "\n",
            "/usr/share/fonts/truetype/liberation/LiberationSans-Regular.ttf\n",
            " => /usr/local/lib/R/site-library/extrafontdb/metrics/LiberationSans-Regular\n",
            "\n",
            "/usr/share/fonts/truetype/liberation/LiberationSansNarrow-Bold.ttf\n",
            " => /usr/local/lib/R/site-library/extrafontdb/metrics/LiberationSansNarrow-Bold\n",
            "\n",
            "/usr/share/fonts/truetype/liberation/LiberationSansNarrow-BoldItalic.ttf\n",
            " => /usr/local/lib/R/site-library/extrafontdb/metrics/LiberationSansNarrow-BoldItalic\n",
            "\n",
            "/usr/share/fonts/truetype/liberation/LiberationSansNarrow-Italic.ttf\n",
            " => /usr/local/lib/R/site-library/extrafontdb/metrics/LiberationSansNarrow-Italic\n",
            "\n",
            "/usr/share/fonts/truetype/liberation/LiberationSansNarrow-Regular.ttf\n",
            " => /usr/local/lib/R/site-library/extrafontdb/metrics/LiberationSansNarrow-Regular\n",
            "\n",
            "/usr/share/fonts/truetype/liberation/LiberationSerif-Bold.ttf\n",
            " => /usr/local/lib/R/site-library/extrafontdb/metrics/LiberationSerif-Bold\n",
            "\n",
            "/usr/share/fonts/truetype/liberation/LiberationSerif-BoldItalic.ttf\n",
            " => /usr/local/lib/R/site-library/extrafontdb/metrics/LiberationSerif-BoldItalic\n",
            "\n",
            "/usr/share/fonts/truetype/liberation/LiberationSerif-Italic.ttf\n",
            " => /usr/local/lib/R/site-library/extrafontdb/metrics/LiberationSerif-Italic\n",
            "\n",
            "/usr/share/fonts/truetype/liberation/LiberationSerif-Regular.ttf\n",
            " => /usr/local/lib/R/site-library/extrafontdb/metrics/LiberationSerif-Regular\n",
            "\n",
            "Found FontName for 17 fonts.\n",
            "\n",
            "Scanning afm files in /usr/local/lib/R/site-library/extrafontdb/metrics\n",
            "\n",
            "Writing font table in /usr/local/lib/R/site-library/extrafontdb/fontmap/fonttable.csv\n",
            "\n",
            "Writing Fontmap to /usr/local/lib/R/site-library/extrafontdb/fontmap/Fontmap...\n",
            "\n"
          ],
          "name": "stderr"
        },
        {
          "output_type": "stream",
          "text": [
            "Importing fonts may take a few minutes, depending on the number of fonts and the speed of the system.\n",
            "Continue? [y/n] y\n"
          ],
          "name": "stdout"
        },
        {
          "output_type": "stream",
          "text": [
            "Scanning ttf files in /usr/share/fonts/ ...\n",
            "\n",
            "Extracting .afm files from .ttf files...\n",
            "\n"
          ],
          "name": "stderr"
        },
        {
          "output_type": "error",
          "ename": "ERROR",
          "evalue": "ignored",
          "traceback": [
            "Error in data.frame(fontfile = ttfiles, FontName = \"\", stringsAsFactors = FALSE): arguments imply differing number of rows: 0, 1\nTraceback:\n",
            "1. font_import(pattern = \"NanumGothic\")",
            "2. ttf_import(paths, recursive, pattern)",
            "3. ttf_extract(ttfiles)",
            "4. data.frame(fontfile = ttfiles, FontName = \"\", stringsAsFactors = FALSE)",
            "5. stop(gettextf(\"arguments imply differing number of rows: %s\", \n .     paste(unique(nrows), collapse = \", \")), domain = NA)"
          ]
        }
      ]
    },
    {
      "cell_type": "code",
      "metadata": {
        "colab": {
          "base_uri": "https://localhost:8080/",
          "height": 437
        },
        "id": "7KlJ9Qqd-Q-k",
        "outputId": "2ceb13e6-a33e-4fba-d434-23ec88785ad6"
      },
      "source": [
        "plot.new()\n",
        "age <- c(23, 35, 43, 28, 55, 47, 58)\n",
        "plot(age, main='연령분포', family = \"NanumGothic\")"
      ],
      "execution_count": 5,
      "outputs": [
        {
          "output_type": "display_data",
          "data": {
            "image/png": "[encoded data removed]",
            "text/plain": [
              "Plot with title “연령분포”"
            ]
          },
          "metadata": {
            "tags": [],
            "image/png": {
              "width": 420,
              "height": 420
            }
          }
        }
      ]
    },
    {
      "cell_type": "code",
      "metadata": {
        "colab": {
          "base_uri": "https://localhost:8080/",
          "height": 437
        },
        "id": "CcMUaOAAGKzi",
        "outputId": "d94b1827-851e-4e7e-91b4-e1506cf1252f"
      },
      "source": [
        "plot.new()\n",
        "height <- c(165, 170, 177, 167, 180, 172, 169, 179)\n",
        "weight <- c(70, 73, 62, 80, 85, 74, 75, 68)\n",
        "plot(weight, height, main='키와 몸무게 분포', type='b', xlab='체중', ylab='키', col=rainbow(length(height)))"
      ],
      "execution_count": 10,
      "outputs": [
        {
          "output_type": "display_data",
          "data": {
            "image/png": "[encoded data removed]",
            "text/plain": [
              "Plot with title “키와 몸무게 분포”"
            ]
          },
          "metadata": {
            "tags": [],
            "image/png": {
              "width": 420,
              "height": 420
            }
          }
        }
      ]
    },
    {
      "cell_type": "code",
      "metadata": {
        "colab": {
          "base_uri": "https://localhost:8080/",
          "height": 437
        },
        "id": "6LgwS9d-HWkD",
        "outputId": "db830c9c-2818-4438-c29e-34a2fdd10946"
      },
      "source": [
        "plot.new()\n",
        "par(mfrow=c(1,3))\n",
        "plot(c(1:3), main='a-type')\n",
        "plot(c(2:5), c(2:5), main='b-type',type='o')\n",
        "plot(1:5, main='c-type', type='l')"
      ],
      "execution_count": 11,
      "outputs": [
        {
          "output_type": "display_data",
          "data": {
            "image/png": "[encoded data removed]",
            "text/plain": [
              "Plot with title “c-type”"
            ]
          },
          "metadata": {
            "tags": [],
            "image/png": {
              "width": 420,
              "height": 420
            }
          }
        }
      ]
    },
    {
      "cell_type": "code",
      "metadata": {
        "colab": {
          "base_uri": "https://localhost:8080/",
          "height": 437
        },
        "id": "l5OE9QIRIS61",
        "outputId": "91440c39-181a-404c-a666-4a77b031c1d7"
      },
      "source": [
        "plot.new()\n",
        "x <- c(1:5)\n",
        "y <- c(1:5)\n",
        "par(mfrow = c(2,3))\n",
        "kind = c('p','l','o','s','S','h')\n",
        "for(i in 1:length(kind)){\n",
        "    title <- paste(\"type = \", kind[i])\n",
        "    plot(x, y, type=kind[i], main=title, col=rainbow(8))\n",
        "}"
      ],
      "execution_count": 12,
      "outputs": [
        {
          "output_type": "display_data",
          "data": {
            "image/png": "[encoded data removed]",
            "text/plain": [
              "Plot with title “type =  h”"
            ]
          },
          "metadata": {
            "tags": [],
            "image/png": {
              "width": 420,
              "height": 420
            }
          }
        }
      ]
    },
    {
      "cell_type": "code",
      "metadata": {
        "colab": {
          "base_uri": "https://localhost:8080/",
          "height": 437
        },
        "id": "wfJUq6NiJXRo",
        "outputId": "cec8f3dc-a5f0-444f-e6ff-b2b0e97e6761"
      },
      "source": [
        "plot.new()\n",
        "plot(1:5, 1:5, main='여러 형태의 점')\n",
        "points(3.2, pch=2, cex=2)\n",
        "points(2, pch=15, cex=3)\n",
        "points(2.8, pch=20, cex=1)"
      ],
      "execution_count": 13,
      "outputs": [
        {
          "output_type": "display_data",
          "data": {
            "image/png": "[encoded data removed]",
            "text/plain": [
              "Plot with title “여러 형태의 점”"
            ]
          },
          "metadata": {
            "tags": [],
            "image/png": {
              "width": 420,
              "height": 420
            }
          }
        }
      ]
    },
    {
      "cell_type": "code",
      "metadata": {
        "id": "X8la7FeuLBrT"
      },
      "source": [
        "plot(1:5, 1:5, type='n')  # 아무것도 나타내지 않음"
      ],
      "execution_count": null,
      "outputs": []
    }
  ]
}